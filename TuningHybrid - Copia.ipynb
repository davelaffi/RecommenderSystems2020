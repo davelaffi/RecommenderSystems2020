{
 "cells": [
  {
   "cell_type": "code",
   "execution_count": 1,
   "metadata": {
    "id": "ybQSYdHvb_CB"
   },
   "outputs": [],
   "source": [
    "import numpy as np\n",
    "import pandas as pd\n",
    "import scipy.sparse as sp\n",
    "from tqdm import tqdm\n",
    "from Base.DataIO import DataIO\n",
    "\n",
    "#----Recommenders----\n",
    "from SLIM.SLIM_BPR_Python import SLIM_BPR_Python\n",
    "from SLIM.SlimElasticNet import SLIMElasticNetRecommender\n",
    "from cf.item_cf3 import ItemBasedCollaborativeFiltering\n",
    "from cf.user_cf2 import UserBasedCollaborativeFiltering\n",
    "from cbf.cbf import ContentBasedFiltering\n",
    "from SlimBPR.SlimBPRRec import SlimBPRRec\n",
    "from SlimBPR.SlimBPR import SlimBPR\n",
    "from MF.ALS import AlternatingLeastSquare\n",
    "from MF.IALSRecommender import IALSRecommender\n",
    "from GraphBased.P3alphaRecommender import P3alphaRecommender\n",
    "from GraphBased.RP3betaRecommender import RP3betaRecommender\n",
    "\n",
    "\n",
    "from Hybrid.hybridRecCBF import HybridRecommender\n",
    "#---------------\n",
    "\n",
    "#----Model Load & Save----\n",
    "from Data_manager.Dataset import Dataset\n",
    "#-------------------------\n",
    "\n",
    "from sklearn.model_selection import train_test_split"
   ]
  },
  {
   "cell_type": "code",
   "execution_count": 2,
   "metadata": {
    "id": "FSE7ic-VbiJd"
   },
   "outputs": [],
   "source": [
    "def load_data_ICM():\n",
    "  return pd.read_csv(\"./data_ICM_title_abstract.csv\")"
   ]
  },
  {
   "cell_type": "code",
   "execution_count": 3,
   "metadata": {
    "id": "-d-NVkEZbiJd"
   },
   "outputs": [],
   "source": [
    "features=load_data_ICM()\n",
    "d ={'item_id': features['row'],'feature_id':features['col'],'value':features['data']}\n",
    "features=pd.DataFrame(data=d)\n",
    "itemList=list(d['item_id'])"
   ]
  },
  {
   "cell_type": "code",
   "execution_count": 4,
   "metadata": {
    "id": "hJs6hZ8obiJd"
   },
   "outputs": [],
   "source": [
    "featureList=list(d['feature_id'])"
   ]
  },
  {
   "cell_type": "code",
   "execution_count": 5,
   "metadata": {
    "id": "kR-oPdRtbiJd"
   },
   "outputs": [],
   "source": [
    "valueList=list(d['value'])\n",
    "ICM = sp.coo_matrix((valueList,(itemList,featureList)))\n",
    "ICM = ICM.tocsr()"
   ]
  },
  {
   "cell_type": "code",
   "execution_count": 6,
   "metadata": {
    "id": "_PXL-kG4biJd",
    "outputId": "163614e6-32e7-451c-b1b2-0de16719dea1"
   },
   "outputs": [
    {
     "data": {
      "text/plain": [
       "<25975x20000 sparse matrix of type '<class 'numpy.float64'>'\n",
       "\twith 490691 stored elements in Compressed Sparse Row format>"
      ]
     },
     "execution_count": 6,
     "metadata": {},
     "output_type": "execute_result"
    }
   ],
   "source": [
    "ICM"
   ]
  },
  {
   "cell_type": "markdown",
   "metadata": {
    "id": "GLb4ij1thWhs"
   },
   "source": [
    "**Dataset splitting into train,validation and test**\n",
    "\n",
    "This is the last part before creating the recommender. However, this step is super important, as it is the base for the training, parameters optimization, and evaluation of the recommender(s).\n",
    "\n",
    "In here we read the ratings (which we loaded and preprocessed before) and create the train, validation, and test User-Rating Matrices (URM). It's important that these are disjoint to avoid information leakage from the train into the validation/test set, in our case, we are safe to use the train_test_split function from scikit-learn as the dataset only contains one datapoint for every (user,item) pair. On another topic, we first create the test set and then we create the validation by splitting again the train set.\n",
    "\n",
    "train_test_split takes an array (or several arrays) and divides it into train and test according to a given size (in our case testing_percentage and validation_percentage, which need to be a float between 0 and 1).\n",
    "\n",
    "After we have our different splits, we create the sparse URMs by using the csr_matrix function from scipy.\n",
    "\n",
    "\n"
   ]
  },
  {
   "cell_type": "code",
   "execution_count": 7,
   "metadata": {},
   "outputs": [],
   "source": [
    "#Load\n",
    "loaded_dataset = Dataset(None, None, None, None)\n",
    "loaded_dataset.load_data(\"Salvataggi/\")\n",
    "\n",
    "\n",
    "urm_train = (loaded_dataset.get_urm_train())[\"urm_train\"]\n",
    "urm_validation = (loaded_dataset.get_urm_validation())[\"urm_validation\"]\n",
    "urm_test = loaded_dataset.get_urm_test()[\"urm_test\"]"
   ]
  },
  {
   "cell_type": "code",
   "execution_count": 8,
   "metadata": {},
   "outputs": [],
   "source": [
    "urm_train_validation = urm_train + urm_validation"
   ]
  },
  {
   "cell_type": "markdown",
   "metadata": {},
   "source": [
    "**Evaluation Metrics**"
   ]
  },
  {
   "cell_type": "code",
   "execution_count": 9,
   "metadata": {},
   "outputs": [],
   "source": [
    "def recall(recommendations: np.array, relevant_items: np.array) -> float:\n",
    "    is_relevant = np.in1d(recommendations, relevant_items, assume_unique=True)\n",
    "    \n",
    "    recall_score = np.sum(is_relevant) / relevant_items.shape[0]\n",
    "    \n",
    "    return recall_score\n",
    "    \n",
    "    \n",
    "def precision(recommendations: np.array, relevant_items: np.array) -> float:\n",
    "    is_relevant = np.in1d(recommendations, relevant_items, assume_unique=True)\n",
    "    \n",
    "    precision_score = np.sum(is_relevant) / recommendations.shape[0]\n",
    "\n",
    "    return precision_score\n",
    "\n",
    "def mean_average_precision(recommendations: np.array, relevant_items: np.array) -> float:\n",
    "    is_relevant = np.in1d(recommendations, relevant_items, assume_unique=True)\n",
    "    \n",
    "    precision_at_k = is_relevant * np.cumsum(is_relevant, dtype=np.float32) / (1 + np.arange(is_relevant.shape[0]))\n",
    "\n",
    "    map_score = np.sum(precision_at_k) / np.min([relevant_items.shape[0], is_relevant.shape[0]])\n",
    "\n",
    "    return map_score"
   ]
  },
  {
   "cell_type": "markdown",
   "metadata": {},
   "source": [
    "**Evaluation Procedure**\n",
    "\n",
    "The evaluation procedure returns the averaged accuracy scores (in terms of precision, recall and MAP) for all users (that have at least 1 rating in the test set). It also calculates the number of evaluated and skipped users. It receives a recommender instance, and the train and test URMs."
   ]
  },
  {
   "cell_type": "code",
   "execution_count": 10,
   "metadata": {},
   "outputs": [],
   "source": [
    "def evaluator(recommender: object, urm_train: sp.csr_matrix, urm_test: sp.csr_matrix):\n",
    "    recommendation_length = 10\n",
    "    accum_precision = 0\n",
    "    accum_recall = 0\n",
    "    accum_map = 0\n",
    "    \n",
    "    num_users = urm_train.shape[0]\n",
    "    \n",
    "    num_users_evaluated = 0\n",
    "    num_users_skipped = 0\n",
    "    \n",
    "    for user_id in range(num_users):\n",
    "        user_profile_start = urm_test.indptr[user_id]\n",
    "        user_profile_end = urm_test.indptr[user_id+1]\n",
    "\n",
    "        relevant_items = urm_test.indices[user_profile_start:user_profile_end]\n",
    "\n",
    "        if relevant_items.size == 0:\n",
    "            num_users_skipped += 1\n",
    "            continue\n",
    "            \n",
    "#         recommendations = recommender.recommend(user_id_array=user_id,\n",
    "#                                                cutoff=recommendation_length,\n",
    "#                                                remove_seen_flag=True\n",
    "#                                                )\n",
    "\n",
    "        expected_ratings = recommender.get_expected_ratings(user_id)\n",
    "        recommended_items = np.flip(np.argsort(expected_ratings), 0)\n",
    "\n",
    "        unseen_items_mask = np.in1d(recommended_items,urm_train[user_id].indices,\n",
    "                                        assume_unique=True, invert=True)\n",
    "\n",
    "        recommendations = recommended_items[unseen_items_mask]\n",
    "\n",
    "\n",
    "        accum_precision += precision(recommendations, relevant_items)\n",
    "        accum_recall += recall(recommendations, relevant_items)\n",
    "        accum_map += mean_average_precision(recommendations, relevant_items)\n",
    "\n",
    "        num_users_evaluated += 1\n",
    "\n",
    "    \n",
    "    accum_precision /= max(num_users_evaluated, 1)\n",
    "    accum_recall /= max(num_users_evaluated, 1)\n",
    "    accum_map /=  max(num_users_evaluated, 1)\n",
    "    \n",
    "    return accum_precision, accum_recall, accum_map, num_users_evaluated, num_users_skipped"
   ]
  },
  {
   "cell_type": "code",
   "execution_count": 11,
   "metadata": {},
   "outputs": [],
   "source": [
    "#Params for the recommenders\n",
    "user_cf_param = {\n",
    "    \"knn\": 207,\n",
    "    \"shrink\": 2\n",
    "}\n",
    "\n",
    "item_cf_param = {\n",
    "    \"knn\": 595,\n",
    "    \"shrink\": 35\n",
    "}\n",
    "\n",
    "cbf_param = {\n",
    "    \"knn\": 404,\n",
    "    \"shrink\": 5\n",
    "}\n",
    "\n",
    "slim_bpr_param = {   #work in progres....\n",
    "    \"learning_rate\" : 1e-5,\n",
    "    \"epochs\": 20,\n",
    "    \"nnz\" : 0.9,\n",
    "    \"knn\": 150\n",
    "}\n",
    "\n",
    "als_param = {   #work in progress...\n",
    "    \"n_factors\": 120,\n",
    "    \"regularization\": 1.75,\n",
    "    \"iterations\": 15\n",
    "}\n",
    "\n",
    "Ials_param = {\n",
    "    \"num_factors\" : 90,\n",
    "    \"confidence_scaling\" : \"linear\",\n",
    "    \"alpha\" : 0.40,\n",
    "    \"epsilon\" : 0.28,\n",
    "    \"reg\" : 1.5\n",
    "}\n",
    "\n",
    "p3alpha_param = {\n",
    "    \"knn\": 565,\n",
    "    \"alpha\": 0.54\n",
    "}\n",
    "\n",
    "rp3beta_param = {\n",
    "    \"knn\": 565,\n",
    "    \"alpha\" : 0.54,\n",
    "    \"beta\" : 0.6 \n",
    "}"
   ]
  },
  {
   "cell_type": "code",
   "execution_count": 12,
   "metadata": {},
   "outputs": [],
   "source": [
    "userCF = UserBasedCollaborativeFiltering(urm_train)"
   ]
  },
  {
   "cell_type": "code",
   "execution_count": 13,
   "metadata": {},
   "outputs": [
    {
     "name": "stdout",
     "output_type": "stream",
     "text": [
      "Similarity column 7947 ( 100 % ), 3798.00 column/sec, elapsed time 0.03 min\n"
     ]
    }
   ],
   "source": [
    "userCF.fit(knn=user_cf_param[\"knn\"], shrink=user_cf_param[\"shrink\"],similarity='cosine')"
   ]
  },
  {
   "cell_type": "code",
   "execution_count": 14,
   "metadata": {},
   "outputs": [
    {
     "data": {
      "text/plain": [
       "(0.00013115158761398967, 1.0, 0.055300665604014684, 5007, 2940)"
      ]
     },
     "execution_count": 14,
     "metadata": {},
     "output_type": "execute_result"
    }
   ],
   "source": [
    "accum_precision, accum_recall, accum_map, num_user_evaluated, num_users_skipped = evaluator(userCF, \n",
    "                                                                                            urm_train_validation, \n",
    "                                                                                            urm_test)\n",
    "accum_precision, accum_recall, accum_map, num_user_evaluated, num_users_skipped"
   ]
  },
  {
   "cell_type": "code",
   "execution_count": 15,
   "metadata": {},
   "outputs": [],
   "source": [
    "itemCF = ItemBasedCollaborativeFiltering(urm_train)"
   ]
  },
  {
   "cell_type": "code",
   "execution_count": 16,
   "metadata": {},
   "outputs": [
    {
     "name": "stdout",
     "output_type": "stream",
     "text": [
      "Similarity column 25975 ( 100 % ), 3383.25 column/sec, elapsed time 0.13 min\n"
     ]
    }
   ],
   "source": [
    "itemCF.fit(knn=item_cf_param[\"knn\"], shrink=item_cf_param[\"shrink\"], similarity=\"cosine\")"
   ]
  },
  {
   "cell_type": "code",
   "execution_count": 17,
   "metadata": {},
   "outputs": [
    {
     "data": {
      "text/plain": [
       "(0.00013115158761398967, 1.0, 0.05125264620585148, 5007, 2940)"
      ]
     },
     "execution_count": 17,
     "metadata": {},
     "output_type": "execute_result"
    }
   ],
   "source": [
    "accum_precision, accum_recall, accum_map, num_user_evaluated, num_users_skipped = evaluator(itemCF, \n",
    "                                                                                            urm_train_validation, \n",
    "                                                                                            urm_test)\n",
    "accum_precision, accum_recall, accum_map, num_user_evaluated, num_users_skipped"
   ]
  },
  {
   "cell_type": "code",
   "execution_count": 18,
   "metadata": {},
   "outputs": [],
   "source": [
    "SlimBpr=SlimBPRRec(urm_train)"
   ]
  },
  {
   "cell_type": "code",
   "execution_count": null,
   "metadata": {
    "scrolled": true
   },
   "outputs": [],
   "source": [
    "SlimBpr.fit(nnz=slim_bpr_param[\"nnz\"], knn=slim_bpr_param[\"knn\"])"
   ]
  },
  {
   "cell_type": "code",
   "execution_count": null,
   "metadata": {},
   "outputs": [],
   "source": [
    "accum_precision, accum_recall, accum_map, num_user_evaluated, num_users_skipped = evaluator(SlimBpr, \n",
    "                                                                                            urm_train_validation, \n",
    "                                                                                            urm_test)\n",
    "accum_precision, accum_recall, accum_map, num_user_evaluated, num_users_skipped"
   ]
  },
  {
   "cell_type": "code",
   "execution_count": null,
   "metadata": {},
   "outputs": [],
   "source": [
    "slim_elastic = SLIMElasticNetRecommender(urm_train)"
   ]
  },
  {
   "cell_type": "code",
   "execution_count": null,
   "metadata": {},
   "outputs": [],
   "source": [
    "slim_elastic.fit()"
   ]
  },
  {
   "cell_type": "code",
   "execution_count": null,
   "metadata": {},
   "outputs": [],
   "source": [
    "accum_precision, accum_recall, accum_map, num_user_evaluated, num_users_skipped = evaluator(slim_elastic, \n",
    "                                                                                            urm_train_validation, \n",
    "                                                                                            urm_test)\n",
    "accum_precision, accum_recall, accum_map, num_user_evaluated, num_users_skipped"
   ]
  },
  {
   "cell_type": "code",
   "execution_count": 19,
   "metadata": {},
   "outputs": [],
   "source": [
    "cbf = ContentBasedFiltering(urm_train,ICM)"
   ]
  },
  {
   "cell_type": "code",
   "execution_count": 20,
   "metadata": {},
   "outputs": [
    {
     "name": "stdout",
     "output_type": "stream",
     "text": [
      "Similarity column 25975 ( 100 % ), 1524.31 column/sec, elapsed time 0.28 min\n"
     ]
    }
   ],
   "source": [
    "cbf.fit(knn=cbf_param[\"knn\"],shrink=cbf_param[\"shrink\"],similarity='cosine')"
   ]
  },
  {
   "cell_type": "code",
   "execution_count": 21,
   "metadata": {},
   "outputs": [
    {
     "data": {
      "text/plain": [
       "(0.00013115158761398967, 1.0, 0.028753438844014722, 5007, 2940)"
      ]
     },
     "execution_count": 21,
     "metadata": {},
     "output_type": "execute_result"
    }
   ],
   "source": [
    "accum_precision, accum_recall, accum_map, num_user_evaluated, num_users_skipped = evaluator(cbf, \n",
    "                                                                                            urm_train_validation, \n",
    "                                                                                            urm_test)\n",
    "accum_precision, accum_recall, accum_map, num_user_evaluated, num_users_skipped"
   ]
  },
  {
   "cell_type": "code",
   "execution_count": 22,
   "metadata": {},
   "outputs": [],
   "source": [
    "ALS = AlternatingLeastSquare(urm_train)"
   ]
  },
  {
   "cell_type": "code",
   "execution_count": 23,
   "metadata": {},
   "outputs": [
    {
     "data": {
      "application/vnd.jupyter.widget-view+json": {
       "model_id": "a5843b20e3b34ca9893a1b1fb3ec3f03",
       "version_major": 2,
       "version_minor": 0
      },
      "text/plain": [
       "HBox(children=(IntProgress(value=0, max=15), HTML(value='')))"
      ]
     },
     "metadata": {},
     "output_type": "display_data"
    },
    {
     "name": "stdout",
     "output_type": "stream",
     "text": [
      "\n"
     ]
    }
   ],
   "source": [
    "ALS.fit(n_factors=als_param[\"n_factors\"], regularization=als_param[\"regularization\"],iterations=als_param[\"iterations\"])"
   ]
  },
  {
   "cell_type": "code",
   "execution_count": 24,
   "metadata": {},
   "outputs": [
    {
     "data": {
      "text/plain": [
       "(0.00013115158761398967, 1.0, 0.05520753008587726, 5007, 2940)"
      ]
     },
     "execution_count": 24,
     "metadata": {},
     "output_type": "execute_result"
    }
   ],
   "source": [
    "accum_precision, accum_recall, accum_map, num_user_evaluated, num_users_skipped = evaluator(ALS, \n",
    "                                                                                            urm_train_validation, \n",
    "                                                                                            urm_test)\n",
    "accum_precision, accum_recall, accum_map, num_user_evaluated, num_users_skipped"
   ]
  },
  {
   "cell_type": "code",
   "execution_count": 25,
   "metadata": {},
   "outputs": [],
   "source": [
    "IALS = IALSRecommender(urm_train)"
   ]
  },
  {
   "cell_type": "code",
   "execution_count": 26,
   "metadata": {},
   "outputs": [
    {
     "name": "stdout",
     "output_type": "stream",
     "text": [
      "IALSRecommender: Epoch 1 of 40. Elapsed time 5.87 sec\n",
      "IALSRecommender: Epoch 2 of 40. Elapsed time 11.91 sec\n",
      "IALSRecommender: Epoch 3 of 40. Elapsed time 17.72 sec\n",
      "IALSRecommender: Epoch 4 of 40. Elapsed time 23.56 sec\n",
      "IALSRecommender: Epoch 5 of 40. Elapsed time 29.48 sec\n",
      "IALSRecommender: Epoch 6 of 40. Elapsed time 35.36 sec\n",
      "IALSRecommender: Epoch 7 of 40. Elapsed time 41.21 sec\n",
      "IALSRecommender: Epoch 8 of 40. Elapsed time 47.06 sec\n",
      "IALSRecommender: Epoch 9 of 40. Elapsed time 52.98 sec\n",
      "IALSRecommender: Epoch 10 of 40. Elapsed time 58.88 sec\n",
      "IALSRecommender: Epoch 11 of 40. Elapsed time 1.08 min\n",
      "IALSRecommender: Epoch 12 of 40. Elapsed time 1.18 min\n",
      "IALSRecommender: Epoch 13 of 40. Elapsed time 1.28 min\n",
      "IALSRecommender: Epoch 14 of 40. Elapsed time 1.37 min\n",
      "IALSRecommender: Epoch 15 of 40. Elapsed time 1.47 min\n",
      "IALSRecommender: Epoch 16 of 40. Elapsed time 1.57 min\n",
      "IALSRecommender: Epoch 17 of 40. Elapsed time 1.67 min\n",
      "IALSRecommender: Epoch 18 of 40. Elapsed time 1.77 min\n",
      "IALSRecommender: Epoch 19 of 40. Elapsed time 1.87 min\n",
      "IALSRecommender: Epoch 20 of 40. Elapsed time 1.98 min\n",
      "IALSRecommender: Epoch 21 of 40. Elapsed time 2.08 min\n",
      "IALSRecommender: Epoch 22 of 40. Elapsed time 2.18 min\n",
      "IALSRecommender: Epoch 23 of 40. Elapsed time 2.28 min\n",
      "IALSRecommender: Epoch 24 of 40. Elapsed time 2.37 min\n",
      "IALSRecommender: Epoch 25 of 40. Elapsed time 2.47 min\n",
      "IALSRecommender: Epoch 26 of 40. Elapsed time 2.57 min\n",
      "IALSRecommender: Epoch 27 of 40. Elapsed time 2.67 min\n",
      "IALSRecommender: Epoch 28 of 40. Elapsed time 2.77 min\n",
      "IALSRecommender: Epoch 29 of 40. Elapsed time 2.87 min\n",
      "IALSRecommender: Epoch 30 of 40. Elapsed time 2.97 min\n",
      "IALSRecommender: Epoch 31 of 40. Elapsed time 3.07 min\n",
      "IALSRecommender: Epoch 32 of 40. Elapsed time 3.18 min\n",
      "IALSRecommender: Epoch 33 of 40. Elapsed time 3.28 min\n",
      "IALSRecommender: Epoch 34 of 40. Elapsed time 3.38 min\n",
      "IALSRecommender: Epoch 35 of 40. Elapsed time 3.48 min\n",
      "IALSRecommender: Epoch 36 of 40. Elapsed time 3.58 min\n",
      "IALSRecommender: Epoch 37 of 40. Elapsed time 3.68 min\n",
      "IALSRecommender: Epoch 38 of 40. Elapsed time 3.78 min\n",
      "IALSRecommender: Epoch 39 of 40. Elapsed time 3.88 min\n",
      "IALSRecommender: Epoch 40 of 40. Elapsed time 3.99 min\n",
      "IALSRecommender: Terminating at epoch 40. Elapsed time 3.99 min\n"
     ]
    }
   ],
   "source": [
    "IALS.fit(num_factors=Ials_param[\"num_factors\"], confidence_scaling=Ials_param[\"confidence_scaling\"], alpha=Ials_param[\"alpha\"], epsilon=Ials_param[\"epsilon\"], reg=Ials_param[\"reg\"])"
   ]
  },
  {
   "cell_type": "code",
   "execution_count": 27,
   "metadata": {},
   "outputs": [
    {
     "data": {
      "text/plain": [
       "(0.00013115158761398967, 1.0, 0.029984124549161884, 5007, 2940)"
      ]
     },
     "execution_count": 27,
     "metadata": {},
     "output_type": "execute_result"
    }
   ],
   "source": [
    "accum_precision, accum_recall, accum_map, num_user_evaluated, num_users_skipped = evaluator(IALS, \n",
    "                                                                                            urm_train_validation, \n",
    "                                                                                            urm_test)\n",
    "accum_precision, accum_recall, accum_map, num_user_evaluated, num_users_skipped"
   ]
  },
  {
   "cell_type": "code",
   "execution_count": null,
   "metadata": {},
   "outputs": [],
   "source": [
    "P3alpha = P3alphaRecommender(urm_train)"
   ]
  },
  {
   "cell_type": "code",
   "execution_count": null,
   "metadata": {},
   "outputs": [],
   "source": [
    "P3alpha.fit(topK=p3alpha_param[\"knn\"], alpha=p3alpha_param[\"alpha\"])"
   ]
  },
  {
   "cell_type": "code",
   "execution_count": null,
   "metadata": {},
   "outputs": [],
   "source": [
    "accum_precision, accum_recall, accum_map, num_user_evaluated, num_users_skipped = evaluator(P3alpha, \n",
    "                                                                                            urm_train_validation, \n",
    "                                                                                            urm_test)\n",
    "accum_precision, accum_recall, accum_map, num_user_evaluated, num_users_skipped"
   ]
  },
  {
   "cell_type": "code",
   "execution_count": null,
   "metadata": {},
   "outputs": [],
   "source": [
    "RP3beta = RP3betaRecommender(urm_train)"
   ]
  },
  {
   "cell_type": "code",
   "execution_count": null,
   "metadata": {},
   "outputs": [],
   "source": [
    "RP3beta.fit(topK=rp3beta_param[\"knn\"], alpha=rp3beta_param[\"alpha\"], beta=rp3beta_param[\"beta\"])"
   ]
  },
  {
   "cell_type": "code",
   "execution_count": null,
   "metadata": {},
   "outputs": [],
   "source": [
    "accum_precision, accum_recall, accum_map, num_user_evaluated, num_users_skipped = evaluator(RP3beta, \n",
    "                                                                                            urm_train_validation, \n",
    "                                                                                            urm_test)\n",
    "accum_precision, accum_recall, accum_map, num_user_evaluated, num_users_skipped"
   ]
  },
  {
   "cell_type": "code",
   "execution_count": null,
   "metadata": {},
   "outputs": [],
   "source": [
    "recommender = HybridRecommender(urm_train, ICM, userCF, itemCF, cbf, IALS)"
   ]
  },
  {
   "cell_type": "code",
   "execution_count": null,
   "metadata": {
    "scrolled": true
   },
   "outputs": [],
   "source": [
    "recommender.fit(user_cf_param=user_cf_param,item_cf_param=item_cf_param,cbf_param=cbf_param,\n",
    "                slim_param=slim_bpr_param,als_param=als_param, w_user=w[\"user_cf\"], w_item=w[\"item_cf\"], w_cbf=w[\"cbf\"], w_p3alpha=w[\"p3alpha\"], w_als=w[\"als\"], w_ials=w[\"ials\"])"
   ]
  },
  {
   "cell_type": "code",
   "execution_count": null,
   "metadata": {},
   "outputs": [],
   "source": [
    "accum_precision, accum_recall, accum_map, num_user_evaluated, num_users_skipped = evaluator(recommender, \n",
    "                                                                                            urm_train_validation, \n",
    "                                                                                            urm_test)\n",
    "accum_precision, accum_recall, accum_map, num_user_evaluated, num_users_skipped"
   ]
  },
  {
   "cell_type": "markdown",
   "metadata": {},
   "source": [
    "**Hybrid**"
   ]
  },
  {
   "cell_type": "markdown",
   "metadata": {},
   "source": [
    "**Hybrid Recommender Tuning**"
   ]
  },
  {
   "cell_type": "code",
   "execution_count": 28,
   "metadata": {},
   "outputs": [],
   "source": [
    "best_ials = 0\n",
    "best_MAP = 0.0\n",
    "counter = 0"
   ]
  },
  {
   "cell_type": "code",
   "execution_count": 31,
   "metadata": {
    "scrolled": true
   },
   "outputs": [
    {
     "name": "stdout",
     "output_type": "stream",
     "text": [
      "Iteration 0 Weight w_ials: 0 started.\n",
      "MAP: 0.06716426380627386\n",
      "Execution Time: 21.534587144851685\n",
      "Iteration 0 Weight w_ials: 0.01 started.\n",
      "MAP: 0.06723707473930678\n",
      "New Best! w_ials weight: 0.01 MAP: 0.06723707473930678 previous best MAP: 0.06716426380627386\n",
      "Execution Time: 27.101031064987183\n",
      "Iteration 0 Weight w_ials: 0.02 started.\n",
      "MAP: 0.06715011124889775\n",
      "Execution Time: 27.12987756729126\n",
      "Iteration 0 Weight w_ials: 0.03 started.\n",
      "MAP: 0.067197702813113\n",
      "Execution Time: 27.760242700576782\n",
      "Iteration 0 Weight w_ials: 0.04 started.\n",
      "MAP: 0.06709881234125174\n",
      "Execution Time: 26.2469265460968\n",
      "Iteration 0 Weight w_ials: 0.05 started.\n",
      "MAP: 0.06720615991659429\n",
      "Execution Time: 26.151875972747803\n",
      "Iteration 0 Weight w_ials: 0.060000000000000005 started.\n",
      "MAP: 0.06708931233050754\n",
      "Execution Time: 26.17323398590088\n",
      "Iteration 0 Weight w_ials: 0.07 started.\n",
      "MAP: 0.06725882901190254\n",
      "New Best! w_ials weight: 0.07 MAP: 0.06725882901190254 previous best MAP: 0.06723707473930678\n",
      "Execution Time: 26.308738470077515\n",
      "Iteration 0 Weight w_ials: 0.08 started.\n",
      "MAP: 0.06722795435717342\n",
      "Execution Time: 26.189940690994263\n",
      "Iteration 0 Weight w_ials: 0.09 started.\n",
      "MAP: 0.06701644679298911\n",
      "Execution Time: 26.1065456867218\n",
      "Iteration 0 Weight w_ials: 0.09999999999999999 started.\n",
      "MAP: 0.0671543577149346\n",
      "Execution Time: 26.13096284866333\n",
      "Iteration 0 Weight w_ials: 0.10999999999999999 started.\n",
      "MAP: 0.06715363608511686\n",
      "Execution Time: 26.110942840576172\n",
      "Iteration 0 Weight w_ials: 0.11999999999999998 started.\n",
      "MAP: 0.06700973274289507\n",
      "Execution Time: 26.28371810913086\n",
      "Iteration 0 Weight w_ials: 0.12999999999999998 started.\n",
      "MAP: 0.0668748877786728\n",
      "Execution Time: 26.34843349456787\n",
      "Iteration 0 Weight w_ials: 0.13999999999999999 started.\n",
      "MAP: 0.06684130529146244\n",
      "Execution Time: 26.179702043533325\n",
      "Iteration 0 Weight w_ials: 0.15 started.\n",
      "MAP: 0.06685843093973694\n",
      "Execution Time: 26.202471494674683\n",
      "Iteration 0 Weight w_ials: 0.16 started.\n",
      "MAP: 0.06675446290276216\n",
      "Execution Time: 25.855332374572754\n",
      "Iteration 0 Weight w_ials: 0.17 started.\n",
      "MAP: 0.06675977228551691\n",
      "Execution Time: 26.186699628829956\n",
      "Iteration 0 Weight w_ials: 0.18000000000000002 started.\n",
      "MAP: 0.06676505736657715\n",
      "Execution Time: 26.22395610809326\n",
      "Iteration 0 Weight w_ials: 0.19000000000000003 started.\n",
      "MAP: 0.06682547588831791\n",
      "Execution Time: 26.2159743309021\n",
      "Iteration 0 Weight w_ials: 0.20000000000000004 started.\n",
      "MAP: 0.06678119102609624\n",
      "Execution Time: 26.196139812469482\n",
      "Iteration 0 Weight w_ials: 0.21000000000000005 started.\n",
      "MAP: 0.06693524031090922\n",
      "Execution Time: 25.617034673690796\n",
      "Iteration 0 Weight w_ials: 0.22000000000000006 started.\n",
      "MAP: 0.06694616019367503\n",
      "Execution Time: 26.31353211402893\n",
      "Iteration 0 Weight w_ials: 0.23000000000000007 started.\n",
      "MAP: 0.06697807687548735\n",
      "Execution Time: 26.296703100204468\n",
      "Iteration 0 Weight w_ials: 0.24000000000000007 started.\n",
      "MAP: 0.06685807838826029\n",
      "Execution Time: 26.19969129562378\n",
      "Iteration 0 Weight w_ials: 0.25000000000000006 started.\n",
      "MAP: 0.06698268024998126\n",
      "Execution Time: 26.218766450881958\n",
      "Iteration 0 Weight w_ials: 0.26000000000000006 started.\n",
      "MAP: 0.06688681373336346\n",
      "Execution Time: 25.599167346954346\n",
      "Iteration 0 Weight w_ials: 0.2700000000000001 started.\n",
      "MAP: 0.06677191906625603\n",
      "Execution Time: 26.083070039749146\n",
      "Iteration 0 Weight w_ials: 0.2800000000000001 started.\n",
      "MAP: 0.06675086402679588\n",
      "Execution Time: 26.247658491134644\n",
      "Iteration 0 Weight w_ials: 0.2900000000000001 started.\n",
      "MAP: 0.06675228750242945\n",
      "Execution Time: 26.258455514907837\n",
      "Iteration 0 Weight w_ials: 0.3000000000000001 started.\n",
      "MAP: 0.06687086600138459\n",
      "Execution Time: 26.16175103187561\n",
      "Iteration 0 Weight w_ials: 0.3100000000000001 started.\n",
      "MAP: 0.06687696175554858\n",
      "Execution Time: 25.542407274246216\n",
      "Iteration 0 Weight w_ials: 0.3200000000000001 started.\n",
      "MAP: 0.06677245004998264\n",
      "Execution Time: 25.95004963874817\n",
      "Iteration 0 Weight w_ials: 0.3300000000000001 started.\n",
      "MAP: 0.06668128138682204\n",
      "Execution Time: 26.294094800949097\n",
      "Iteration 0 Weight w_ials: 0.34000000000000014 started.\n",
      "MAP: 0.06670369245339645\n",
      "Execution Time: 26.20266032218933\n",
      "Iteration 0 Weight w_ials: 0.35000000000000014 started.\n",
      "MAP: 0.0666991765480821\n",
      "Execution Time: 26.204768419265747\n",
      "Iteration 0 Weight w_ials: 0.36000000000000015 started.\n",
      "MAP: 0.06680571099165364\n",
      "Execution Time: 25.605074405670166\n",
      "Iteration 0 Weight w_ials: 0.37000000000000016 started.\n",
      "MAP: 0.06669981947565633\n",
      "Execution Time: 26.402225017547607\n",
      "Iteration 0 Weight w_ials: 0.38000000000000017 started.\n",
      "MAP: 0.06666874393724322\n",
      "Execution Time: 26.48421335220337\n",
      "Iteration 0 Weight w_ials: 0.3900000000000002 started.\n",
      "MAP: 0.06665024657127039\n",
      "Execution Time: 26.423315048217773\n",
      "Iteration 0 Weight w_ials: 0.4000000000000002 started.\n",
      "MAP: 0.0666649025752426\n",
      "Execution Time: 26.545353889465332\n",
      "Iteration 0 Weight w_ials: 0.4100000000000002 started.\n",
      "MAP: 0.06652526864880129\n",
      "Execution Time: 26.41175675392151\n",
      "Iteration 0 Weight w_ials: 0.4200000000000002 started.\n",
      "MAP: 0.06645372604006769\n",
      "Execution Time: 25.821630001068115\n",
      "Iteration 0 Weight w_ials: 0.4300000000000002 started.\n",
      "MAP: 0.06641581326252574\n",
      "Execution Time: 26.418104648590088\n",
      "Iteration 0 Weight w_ials: 0.4400000000000002 started.\n",
      "MAP: 0.06663981112401304\n",
      "Execution Time: 26.422742128372192\n",
      "Iteration 0 Weight w_ials: 0.45000000000000023 started.\n",
      "MAP: 0.06657172766700331\n",
      "Execution Time: 26.639467239379883\n",
      "Iteration 0 Weight w_ials: 0.46000000000000024 started.\n",
      "MAP: 0.06655300196278335\n",
      "Execution Time: 26.633451223373413\n",
      "Iteration 0 Weight w_ials: 0.47000000000000025 started.\n",
      "MAP: 0.06668715645015816\n",
      "Execution Time: 25.824087142944336\n",
      "Iteration 0 Weight w_ials: 0.48000000000000026 started.\n",
      "MAP: 0.06663791246676903\n",
      "Execution Time: 26.476943969726562\n",
      "Iteration 0 Weight w_ials: 0.49000000000000027 started.\n",
      "MAP: 0.06651342132901986\n",
      "Execution Time: 26.499288082122803\n",
      "Iteration 0 Weight w_ials: 0.5000000000000002 started.\n",
      "MAP: 0.06647765251336012\n",
      "Execution Time: 26.687009811401367\n",
      "Iteration 0 Weight w_ials: 0.5100000000000002 started.\n",
      "MAP: 0.06646546153751581\n",
      "Execution Time: 26.76772165298462\n",
      "Iteration 0 Weight w_ials: 0.5200000000000002 started.\n",
      "MAP: 0.06661596618580115\n",
      "Execution Time: 26.265445709228516\n",
      "Iteration 0 Weight w_ials: 0.5300000000000002 started.\n",
      "MAP: 0.06647403951868863\n",
      "Execution Time: 26.12205934524536\n",
      "Iteration 0 Weight w_ials: 0.5400000000000003 started.\n",
      "MAP: 0.06647654154304564\n",
      "Execution Time: 26.475672721862793\n",
      "Iteration 0 Weight w_ials: 0.5500000000000003 started.\n",
      "MAP: 0.0665088748488092\n",
      "Execution Time: 26.616089344024658\n",
      "Iteration 0 Weight w_ials: 0.5600000000000003 started.\n",
      "MAP: 0.0664659484391094\n",
      "Execution Time: 26.618380784988403\n",
      "Iteration 0 Weight w_ials: 0.5700000000000003 started.\n",
      "MAP: 0.06642599562560873\n",
      "Execution Time: 26.58373475074768\n",
      "Iteration 0 Weight w_ials: 0.5800000000000003 started.\n",
      "MAP: 0.0664334631748006\n",
      "Execution Time: 25.88056707382202\n",
      "Iteration 0 Weight w_ials: 0.5900000000000003 started.\n",
      "MAP: 0.06641898941507007\n",
      "Execution Time: 26.600911140441895\n",
      "Iteration 0 Weight w_ials: 0.6000000000000003 started.\n",
      "MAP: 0.06639004409025596\n",
      "Execution Time: 26.545897245407104\n",
      "Iteration 0 Weight w_ials: 0.6100000000000003 started.\n",
      "MAP: 0.06649069704466852\n",
      "Execution Time: 26.838314294815063\n",
      "Iteration 0 Weight w_ials: 0.6200000000000003 started.\n",
      "MAP: 0.06632914803385008\n",
      "Execution Time: 25.488184928894043\n",
      "Iteration 0 Weight w_ials: 0.6300000000000003 started.\n",
      "MAP: 0.06637491457440539\n",
      "Execution Time: 26.686256408691406\n",
      "Iteration 0 Weight w_ials: 0.6400000000000003 started.\n",
      "MAP: 0.06647716077302206\n",
      "Execution Time: 26.76656174659729\n",
      "Iteration 0 Weight w_ials: 0.6500000000000004 started.\n",
      "MAP: 0.06636611551494213\n",
      "Execution Time: 25.543850421905518\n",
      "Iteration 0 Weight w_ials: 0.6600000000000004 started.\n",
      "MAP: 0.06647277949942225\n",
      "Execution Time: 26.876035690307617\n",
      "Iteration 0 Weight w_ials: 0.6700000000000004 started.\n",
      "MAP: 0.066380078591184\n",
      "Execution Time: 26.780889749526978\n",
      "Iteration 0 Weight w_ials: 0.6800000000000004 started.\n",
      "MAP: 0.06623395501926795\n",
      "Execution Time: 25.60256576538086\n",
      "Iteration 0 Weight w_ials: 0.6900000000000004 started.\n",
      "MAP: 0.066213339606151\n",
      "Execution Time: 27.142606496810913\n",
      "Iteration 0 Weight w_ials: 0.7000000000000004 started.\n",
      "MAP: 0.06640135910905091\n",
      "Execution Time: 26.354119777679443\n"
     ]
    },
    {
     "name": "stdout",
     "output_type": "stream",
     "text": [
      "Iteration 0 Weight w_ials: 0.7100000000000004 started.\n",
      "MAP: 0.0662928238246863\n",
      "Execution Time: 26.193042993545532\n",
      "Iteration 0 Weight w_ials: 0.7200000000000004 started.\n",
      "MAP: 0.06628767575169274\n",
      "Execution Time: 26.782161951065063\n",
      "Iteration 0 Weight w_ials: 0.7300000000000004 started.\n",
      "MAP: 0.06641234513545716\n",
      "Execution Time: 25.424495458602905\n",
      "Iteration 0 Weight w_ials: 0.7400000000000004 started.\n",
      "MAP: 0.06628748838377693\n",
      "Execution Time: 26.765811681747437\n",
      "Iteration 0 Weight w_ials: 0.7500000000000004 started.\n",
      "MAP: 0.06627007771658733\n",
      "Execution Time: 26.768981456756592\n",
      "Iteration 0 Weight w_ials: 0.7600000000000005 started.\n",
      "MAP: 0.06629325735489527\n",
      "Execution Time: 25.46175241470337\n",
      "Iteration 0 Weight w_ials: 0.7700000000000005 started.\n",
      "MAP: 0.0662672179108848\n",
      "Execution Time: 26.798299551010132\n",
      "Iteration 0 Weight w_ials: 0.7800000000000005 started.\n",
      "MAP: 0.06620505344367546\n",
      "Execution Time: 26.525686979293823\n",
      "Iteration 0 Weight w_ials: 0.7900000000000005 started.\n",
      "MAP: 0.06614645090686204\n",
      "Execution Time: 25.349193811416626\n",
      "Iteration 0 Weight w_ials: 0.8000000000000005 started.\n",
      "MAP: 0.0662911813836254\n",
      "Execution Time: 26.763113498687744\n",
      "Iteration 0 Weight w_ials: 0.8100000000000005 started.\n",
      "MAP: 0.06626510596349228\n",
      "Execution Time: 26.249449014663696\n",
      "Iteration 0 Weight w_ials: 0.8200000000000005 started.\n",
      "MAP: 0.06621415880011942\n",
      "Execution Time: 26.020440578460693\n",
      "Iteration 0 Weight w_ials: 0.8300000000000005 started.\n",
      "MAP: 0.06629514462212538\n",
      "Execution Time: 26.645962715148926\n",
      "Iteration 0 Weight w_ials: 0.8400000000000005 started.\n",
      "MAP: 0.06626088481207647\n",
      "Execution Time: 25.498767375946045\n",
      "Iteration 0 Weight w_ials: 0.8500000000000005 started.\n",
      "MAP: 0.06611557393470763\n",
      "Execution Time: 27.028583765029907\n",
      "Iteration 0 Weight w_ials: 0.8600000000000005 started.\n",
      "MAP: 0.06608064161460105\n",
      "Execution Time: 26.7576904296875\n",
      "Iteration 0 Weight w_ials: 0.8700000000000006 started.\n",
      "MAP: 0.06596038346788005\n",
      "Execution Time: 25.43378210067749\n",
      "Iteration 0 Weight w_ials: 0.8800000000000006 started.\n",
      "MAP: 0.06604816066708458\n",
      "Execution Time: 26.646857261657715\n",
      "Iteration 0 Weight w_ials: 0.8900000000000006 started.\n",
      "MAP: 0.06607443491494472\n",
      "Execution Time: 26.63642954826355\n",
      "Iteration 0 Weight w_ials: 0.9000000000000006 started.\n",
      "MAP: 0.06607530902709703\n",
      "Execution Time: 25.46761918067932\n",
      "Iteration 0 Weight w_ials: 0.9100000000000006 started.\n",
      "MAP: 0.06584901720796986\n",
      "Execution Time: 26.692656755447388\n",
      "Iteration 0 Weight w_ials: 0.9200000000000006 started.\n",
      "MAP: 0.0657964792090142\n",
      "Execution Time: 26.198406219482422\n",
      "Iteration 0 Weight w_ials: 0.9300000000000006 started.\n",
      "MAP: 0.06578155167117118\n",
      "Execution Time: 26.560049295425415\n",
      "Iteration 0 Weight w_ials: 0.9400000000000006 started.\n",
      "MAP: 0.06586386956549492\n",
      "Execution Time: 27.376021146774292\n",
      "Iteration 0 Weight w_ials: 0.9500000000000006 started.\n",
      "MAP: 0.06585257544192824\n",
      "Execution Time: 25.804219484329224\n",
      "Iteration 0 Weight w_ials: 0.9600000000000006 started.\n",
      "MAP: 0.06584937503806368\n",
      "Execution Time: 27.0789852142334\n",
      "Iteration 0 Weight w_ials: 0.9700000000000006 started.\n",
      "MAP: 0.06562827896011952\n",
      "Execution Time: 27.262150526046753\n",
      "Iteration 0 Weight w_ials: 0.9800000000000006 started.\n",
      "MAP: 0.06576113532132194\n",
      "Execution Time: 25.665168285369873\n",
      "Iteration 0 Weight w_ials: 0.9900000000000007 started.\n",
      "MAP: 0.06570642868649366\n",
      "Execution Time: 27.369508981704712\n",
      "Iteration 0 Weight w_ials: 1.0000000000000007 started.\n",
      "MAP: 0.06559833178772219\n",
      "Execution Time: 27.251094818115234\n",
      "Iteration 0 Weight w_ials: 1.0100000000000007 started.\n",
      "MAP: 0.06555661165487456\n",
      "Execution Time: 25.870933055877686\n",
      "Iteration 0 Weight w_ials: 1.0200000000000007 started.\n",
      "MAP: 0.06564219418074291\n",
      "Execution Time: 27.423646211624146\n",
      "Iteration 0 Weight w_ials: 1.0300000000000007 started.\n",
      "MAP: 0.0654941172683341\n",
      "Execution Time: 27.307844161987305\n",
      "Iteration 0 Weight w_ials: 1.0400000000000007 started.\n",
      "MAP: 0.06572759170289867\n",
      "Execution Time: 25.52513861656189\n",
      "Iteration 0 Weight w_ials: 1.0500000000000007 started.\n",
      "MAP: 0.06569002525215885\n",
      "Execution Time: 27.375044345855713\n",
      "Iteration 0 Weight w_ials: 1.0600000000000007 started.\n",
      "MAP: 0.06557899389750127\n",
      "Execution Time: 27.21151041984558\n",
      "Iteration 0 Weight w_ials: 1.0700000000000007 started.\n",
      "MAP: 0.0656608425962291\n",
      "Execution Time: 25.70288634300232\n",
      "Iteration 0 Weight w_ials: 1.0800000000000007 started.\n",
      "MAP: 0.0656729102057804\n",
      "Execution Time: 27.367168426513672\n",
      "Iteration 0 Weight w_ials: 1.0900000000000007 started.\n",
      "MAP: 0.0656667480224396\n",
      "Execution Time: 26.73980140686035\n",
      "Iteration 0 Weight w_ials: 1.1000000000000008 started.\n",
      "MAP: 0.06556198726603872\n",
      "Execution Time: 26.368396759033203\n",
      "Iteration 0 Weight w_ials: 1.1100000000000008 started.\n",
      "MAP: 0.06556989439013171\n",
      "Execution Time: 27.27148985862732\n",
      "Iteration 0 Weight w_ials: 1.1200000000000008 started.\n",
      "MAP: 0.06571699899988706\n",
      "Execution Time: 26.007662773132324\n",
      "Iteration 0 Weight w_ials: 1.1300000000000008 started.\n",
      "MAP: 0.06557488682917473\n",
      "Execution Time: 26.764519214630127\n",
      "Iteration 0 Weight w_ials: 1.1400000000000008 started.\n",
      "MAP: 0.06557963361190926\n",
      "Execution Time: 27.327552318572998\n",
      "Iteration 0 Weight w_ials: 1.1500000000000008 started.\n",
      "MAP: 0.06559585668888497\n",
      "Execution Time: 25.682399034500122\n",
      "Iteration 0 Weight w_ials: 1.1600000000000008 started.\n",
      "MAP: 0.0655450829145001\n",
      "Execution Time: 27.3772714138031\n",
      "Iteration 0 Weight w_ials: 1.1700000000000008 started.\n",
      "MAP: 0.06551048148451218\n",
      "Execution Time: 27.359317779541016\n",
      "Iteration 0 Weight w_ials: 1.1800000000000008 started.\n",
      "MAP: 0.06546788008081826\n",
      "Execution Time: 25.49871277809143\n",
      "Iteration 0 Weight w_ials: 1.1900000000000008 started.\n",
      "MAP: 0.06544295610920067\n",
      "Execution Time: 27.511752128601074\n",
      "Iteration 0 Weight w_ials: 1.2000000000000008 started.\n",
      "MAP: 0.0655164221313298\n",
      "Execution Time: 27.141735792160034\n",
      "Iteration 0 Weight w_ials: 1.2100000000000009 started.\n",
      "MAP: 0.06538304463955591\n",
      "Execution Time: 25.793201446533203\n",
      "Iteration 0 Weight w_ials: 1.2200000000000009 started.\n",
      "MAP: 0.06553740214422055\n",
      "Execution Time: 27.360878229141235\n",
      "Iteration 0 Weight w_ials: 1.2300000000000009 started.\n",
      "MAP: 0.06538148058318129\n",
      "Execution Time: 27.13955569267273\n",
      "Iteration 0 Weight w_ials: 1.2400000000000009 started.\n",
      "MAP: 0.06549522425029587\n",
      "Execution Time: 26.044278860092163\n",
      "Iteration 0 Weight w_ials: 1.2500000000000009 started.\n",
      "MAP: 0.06540636218020397\n",
      "Execution Time: 27.623091459274292\n",
      "Iteration 0 Weight w_ials: 1.260000000000001 started.\n",
      "MAP: 0.0654842093653394\n",
      "Execution Time: 25.606120347976685\n",
      "Iteration 0 Weight w_ials: 1.270000000000001 started.\n",
      "MAP: 0.06546309806445852\n",
      "Execution Time: 27.761057138442993\n",
      "Iteration 0 Weight w_ials: 1.280000000000001 started.\n",
      "MAP: 0.06532196326668671\n",
      "Execution Time: 25.67079734802246\n",
      "Iteration 0 Weight w_ials: 1.290000000000001 started.\n",
      "MAP: 0.06531158479739006\n",
      "Execution Time: 27.81909728050232\n",
      "Iteration 0 Weight w_ials: 1.300000000000001 started.\n",
      "MAP: 0.06527370324665543\n",
      "Execution Time: 25.629411935806274\n",
      "Iteration 0 Weight w_ials: 1.310000000000001 started.\n",
      "MAP: 0.06533281524321333\n",
      "Execution Time: 27.724520921707153\n",
      "Iteration 0 Weight w_ials: 1.320000000000001 started.\n",
      "MAP: 0.06532784779105011\n",
      "Execution Time: 26.051225662231445\n",
      "Iteration 0 Weight w_ials: 1.330000000000001 started.\n",
      "MAP: 0.06542155585349939\n",
      "Execution Time: 27.29853129386902\n",
      "Iteration 0 Weight w_ials: 1.340000000000001 started.\n",
      "MAP: 0.06529105205019156\n",
      "Execution Time: 27.20990228652954\n",
      "Iteration 0 Weight w_ials: 1.350000000000001 started.\n",
      "MAP: 0.06538851376478591\n",
      "Execution Time: 26.171765089035034\n",
      "Iteration 0 Weight w_ials: 1.360000000000001 started.\n",
      "MAP: 0.06539349786259885\n",
      "Execution Time: 27.648547649383545\n",
      "Iteration 0 Weight w_ials: 1.370000000000001 started.\n",
      "MAP: 0.06537789677697803\n",
      "Execution Time: 25.67967700958252\n",
      "Iteration 0 Weight w_ials: 1.380000000000001 started.\n",
      "MAP: 0.0653219977462136\n",
      "Execution Time: 27.637605905532837\n",
      "Iteration 0 Weight w_ials: 1.390000000000001 started.\n",
      "MAP: 0.0653189458480204\n",
      "Execution Time: 25.73868155479431\n",
      "Iteration 0 Weight w_ials: 1.400000000000001 started.\n",
      "MAP: 0.06530512166855407\n",
      "Execution Time: 27.621981382369995\n",
      "Iteration 0 Weight w_ials: 1.410000000000001 started.\n",
      "MAP: 0.06517573282124337\n",
      "Execution Time: 25.594025135040283\n",
      "Iteration 0 Weight w_ials: 1.420000000000001 started.\n",
      "MAP: 0.0651591633876631\n"
     ]
    },
    {
     "name": "stdout",
     "output_type": "stream",
     "text": [
      "Execution Time: 27.557692050933838\n",
      "Iteration 0 Weight w_ials: 1.430000000000001 started.\n",
      "MAP: 0.06525357282503702\n",
      "Execution Time: 26.23724126815796\n",
      "Iteration 0 Weight w_ials: 1.440000000000001 started.\n",
      "MAP: 0.06526494488520104\n",
      "Execution Time: 26.967188835144043\n",
      "Iteration 0 Weight w_ials: 1.450000000000001 started.\n",
      "MAP: 0.06524850954283788\n",
      "Execution Time: 27.214332103729248\n",
      "Iteration 0 Weight w_ials: 1.460000000000001 started.\n",
      "MAP: 0.06520720573379964\n",
      "Execution Time: 26.0011568069458\n",
      "Iteration 0 Weight w_ials: 1.470000000000001 started.\n",
      "MAP: 0.06507546595102437\n",
      "Execution Time: 27.54248023033142\n",
      "Iteration 0 Weight w_ials: 1.480000000000001 started.\n",
      "MAP: 0.06505596414982107\n",
      "Execution Time: 25.69601011276245\n",
      "Iteration 0 Weight w_ials: 1.490000000000001 started.\n",
      "MAP: 0.06490861903998162\n",
      "Execution Time: 27.566853046417236\n",
      "Iteration 0 Weight w_ials: 1.500000000000001 started.\n",
      "MAP: 0.06489015012624148\n",
      "Execution Time: 25.584367513656616\n",
      "Iteration 0 Weight w_ials: 1.5100000000000011 started.\n",
      "MAP: 0.06497647291921327\n",
      "Execution Time: 27.607338666915894\n",
      "Iteration 0 Weight w_ials: 1.5200000000000011 started.\n",
      "MAP: 0.06487028828034773\n",
      "Execution Time: 25.575600624084473\n",
      "Iteration 0 Weight w_ials: 1.5300000000000011 started.\n",
      "MAP: 0.06482173704593809\n",
      "Execution Time: 27.729860305786133\n",
      "Iteration 0 Weight w_ials: 1.5400000000000011 started.\n",
      "MAP: 0.06484234419535025\n",
      "Execution Time: 26.247355937957764\n",
      "Iteration 0 Weight w_ials: 1.5500000000000012 started.\n",
      "MAP: 0.06477657001814077\n",
      "Execution Time: 27.31987738609314\n",
      "Iteration 0 Weight w_ials: 1.5600000000000012 started.\n",
      "MAP: 0.06489394564502883\n",
      "Execution Time: 28.15163540840149\n",
      "Iteration 0 Weight w_ials: 1.5700000000000012 started.\n",
      "MAP: 0.06478586562548394\n",
      "Execution Time: 25.805469512939453\n",
      "Iteration 0 Weight w_ials: 1.5800000000000012 started.\n",
      "MAP: 0.0647546353485402\n",
      "Execution Time: 27.645366191864014\n",
      "Iteration 0 Weight w_ials: 1.5900000000000012 started.\n",
      "MAP: 0.06470099263156431\n",
      "Execution Time: 25.565107822418213\n",
      "Iteration 0 Weight w_ials: 1.6000000000000012 started.\n",
      "MAP: 0.06471293945529615\n",
      "Execution Time: 28.06667947769165\n",
      "Iteration 0 Weight w_ials: 1.6100000000000012 started.\n",
      "MAP: 0.06465529313719894\n",
      "Execution Time: 25.7915096282959\n",
      "Iteration 0 Weight w_ials: 1.6200000000000012 started.\n",
      "MAP: 0.0647384422114701\n",
      "Execution Time: 28.239649534225464\n",
      "Iteration 0 Weight w_ials: 1.6300000000000012 started.\n",
      "MAP: 0.06463764758873841\n",
      "Execution Time: 26.25208330154419\n",
      "Iteration 0 Weight w_ials: 1.6400000000000012 started.\n",
      "MAP: 0.06458939950923191\n",
      "Execution Time: 27.778614044189453\n",
      "Iteration 0 Weight w_ials: 1.6500000000000012 started.\n",
      "MAP: 0.06454086046268943\n",
      "Execution Time: 27.771723747253418\n",
      "Iteration 0 Weight w_ials: 1.6600000000000013 started.\n",
      "MAP: 0.0646680569393768\n",
      "Execution Time: 26.469489812850952\n",
      "Iteration 0 Weight w_ials: 1.6700000000000013 started.\n",
      "MAP: 0.06465113449606787\n",
      "Execution Time: 28.255639791488647\n",
      "Iteration 0 Weight w_ials: 1.6800000000000013 started.\n",
      "MAP: 0.06461262721732948\n",
      "Execution Time: 26.123538970947266\n",
      "Iteration 0 Weight w_ials: 1.6900000000000013 started.\n",
      "MAP: 0.06461233514310655\n",
      "Execution Time: 28.3584988117218\n",
      "Iteration 0 Weight w_ials: 1.7000000000000013 started.\n",
      "MAP: 0.06457076044865442\n",
      "Execution Time: 25.640458345413208\n",
      "Iteration 0 Weight w_ials: 1.7100000000000013 started.\n",
      "MAP: 0.06457043117625691\n",
      "Execution Time: 28.202166080474854\n",
      "Iteration 0 Weight w_ials: 1.7200000000000013 started.\n",
      "MAP: 0.06459486276708869\n",
      "Execution Time: 26.83766269683838\n",
      "Iteration 0 Weight w_ials: 1.7300000000000013 started.\n",
      "MAP: 0.06457314575791845\n",
      "Execution Time: 27.234584093093872\n",
      "Iteration 0 Weight w_ials: 1.7400000000000013 started.\n",
      "MAP: 0.0644251553395473\n",
      "Execution Time: 28.180519104003906\n",
      "Iteration 0 Weight w_ials: 1.7500000000000013 started.\n",
      "MAP: 0.06456432947350188\n",
      "Execution Time: 25.826159715652466\n",
      "Iteration 0 Weight w_ials: 1.7600000000000013 started.\n",
      "MAP: 0.06456297570840719\n",
      "Execution Time: 28.13323974609375\n",
      "Iteration 0 Weight w_ials: 1.7700000000000014 started.\n",
      "MAP: 0.06455004402272674\n",
      "Execution Time: 25.82893681526184\n",
      "Iteration 0 Weight w_ials: 1.7800000000000014 started.\n",
      "MAP: 0.0644436800077103\n",
      "Execution Time: 28.24956703186035\n",
      "Iteration 0 Weight w_ials: 1.7900000000000014 started.\n",
      "MAP: 0.06448288972104026\n",
      "Execution Time: 26.101171255111694\n",
      "Iteration 0 Weight w_ials: 1.8000000000000014 started.\n",
      "MAP: 0.06447661111691079\n",
      "Execution Time: 28.017908573150635\n",
      "Iteration 0 Weight w_ials: 1.8100000000000014 started.\n",
      "MAP: 0.06436908030546364\n",
      "Execution Time: 27.193551063537598\n",
      "Iteration 0 Weight w_ials: 1.8200000000000014 started.\n",
      "MAP: 0.06435515676325988\n",
      "Execution Time: 26.698472499847412\n",
      "Iteration 0 Weight w_ials: 1.8300000000000014 started.\n",
      "MAP: 0.06434293336670743\n",
      "Execution Time: 28.1453218460083\n",
      "Iteration 0 Weight w_ials: 1.8400000000000014 started.\n",
      "MAP: 0.06436120630064326\n",
      "Execution Time: 25.880390167236328\n",
      "Iteration 0 Weight w_ials: 1.8500000000000014 started.\n",
      "MAP: 0.06435388035440348\n",
      "Execution Time: 28.209699630737305\n",
      "Iteration 0 Weight w_ials: 1.8600000000000014 started.\n",
      "MAP: 0.06434896962993658\n",
      "Execution Time: 25.90631341934204\n",
      "Iteration 0 Weight w_ials: 1.8700000000000014 started.\n",
      "MAP: 0.06446670548592386\n",
      "Execution Time: 28.194137811660767\n",
      "Iteration 0 Weight w_ials: 1.8800000000000014 started.\n",
      "MAP: 0.06445106828574423\n",
      "Execution Time: 26.348496675491333\n",
      "Iteration 0 Weight w_ials: 1.8900000000000015 started.\n",
      "MAP: 0.06443240264240523\n",
      "Execution Time: 27.828897953033447\n",
      "Iteration 0 Weight w_ials: 1.9000000000000015 started.\n",
      "MAP: 0.06431068988964957\n",
      "Execution Time: 27.909330129623413\n",
      "Iteration 0 Weight w_ials: 1.9100000000000015 started.\n",
      "MAP: 0.06433347877365336\n",
      "Execution Time: 26.3351993560791\n",
      "Iteration 0 Weight w_ials: 1.9200000000000015 started.\n",
      "MAP: 0.06442432806637155\n",
      "Execution Time: 28.223207473754883\n",
      "Iteration 0 Weight w_ials: 1.9300000000000015 started.\n",
      "MAP: 0.06431765432832824\n",
      "Execution Time: 25.733434677124023\n",
      "Iteration 0 Weight w_ials: 1.9400000000000015 started.\n",
      "MAP: 0.06429422202150166\n",
      "Execution Time: 28.166281938552856\n",
      "Iteration 0 Weight w_ials: 1.9500000000000015 started.\n",
      "MAP: 0.06437606790488301\n",
      "Execution Time: 25.630772590637207\n",
      "Iteration 0 Weight w_ials: 1.9600000000000015 started.\n",
      "MAP: 0.06434194569797144\n",
      "Execution Time: 28.71412682533264\n",
      "Iteration 0 Weight w_ials: 1.9700000000000015 started.\n",
      "MAP: 0.06429493345318998\n",
      "Execution Time: 25.60012197494507\n",
      "Iteration 0 Weight w_ials: 1.9800000000000015 started.\n",
      "MAP: 0.06415277047950352\n",
      "Execution Time: 28.66274619102478\n",
      "Iteration 0 Weight w_ials: 1.9900000000000015 started.\n",
      "MAP: 0.06414115668184572\n",
      "Execution Time: 25.58430242538452\n",
      "Iteration 0 Weight w_ials: 2.0000000000000013 started.\n",
      "MAP: 0.06408815178813797\n",
      "Execution Time: 28.700894594192505\n",
      "Iteration 0 Weight w_ials: 2.010000000000001 started.\n",
      "MAP: 0.06404920144795158\n",
      "Execution Time: 25.923665046691895\n",
      "Iteration 0 Weight w_ials: 2.020000000000001 started.\n",
      "MAP: 0.0640534316283337\n",
      "Execution Time: 28.56885528564453\n",
      "Iteration 0 Weight w_ials: 2.0300000000000007 started.\n",
      "MAP: 0.06420447680755667\n",
      "Execution Time: 25.812849283218384\n",
      "Iteration 0 Weight w_ials: 2.0400000000000005 started.\n",
      "MAP: 0.06413170493270108\n",
      "Execution Time: 28.562471866607666\n",
      "Iteration 0 Weight w_ials: 2.0500000000000003 started.\n",
      "MAP: 0.06400794246731864\n",
      "Execution Time: 25.843783378601074\n",
      "Iteration 0 Weight w_ials: 2.06 started.\n",
      "MAP: 0.06418556106030068\n",
      "Execution Time: 27.907914400100708\n",
      "Iteration 0 Weight w_ials: 2.07 started.\n",
      "MAP: 0.06414860058512098\n",
      "Execution Time: 26.616686582565308\n",
      "Iteration 0 Weight w_ials: 2.0799999999999996 started.\n",
      "MAP: 0.06415266033391254\n",
      "Execution Time: 26.965543270111084\n",
      "Iteration 0 Weight w_ials: 2.0899999999999994 started.\n",
      "MAP: 0.0641778368704702\n",
      "Execution Time: 27.64337468147278\n",
      "Iteration 0 Weight w_ials: 2.099999999999999 started.\n",
      "MAP: 0.06415493002086252\n",
      "Execution Time: 26.255552291870117\n",
      "Iteration 0 Weight w_ials: 2.109999999999999 started.\n",
      "MAP: 0.06427607738487418\n",
      "Execution Time: 28.262370586395264\n",
      "Iteration 0 Weight w_ials: 2.1199999999999988 started.\n",
      "MAP: 0.06414724232143901\n",
      "Execution Time: 25.78534436225891\n",
      "Iteration 0 Weight w_ials: 2.1299999999999986 started.\n",
      "MAP: 0.06413935428040413\n",
      "Execution Time: 28.7421612739563\n",
      "Iteration 0 Weight w_ials: 2.1399999999999983 started.\n"
     ]
    },
    {
     "name": "stdout",
     "output_type": "stream",
     "text": [
      "MAP: 0.0640263117259965\n",
      "Execution Time: 25.835328817367554\n",
      "Iteration 0 Weight w_ials: 2.149999999999998 started.\n",
      "MAP: 0.06401138357138239\n",
      "Execution Time: 28.706435441970825\n",
      "Iteration 0 Weight w_ials: 2.159999999999998 started.\n",
      "MAP: 0.06400093774247066\n",
      "Execution Time: 25.61432147026062\n",
      "Iteration 0 Weight w_ials: 2.1699999999999977 started.\n",
      "MAP: 0.06399851522749195\n",
      "Execution Time: 28.67032027244568\n",
      "Iteration 0 Weight w_ials: 2.1799999999999975 started.\n",
      "MAP: 0.0639867290238429\n",
      "Execution Time: 25.612873792648315\n",
      "Iteration 0 Weight w_ials: 2.1899999999999973 started.\n",
      "MAP: 0.06399339101012506\n",
      "Execution Time: 28.687541484832764\n",
      "Iteration 0 Weight w_ials: 2.199999999999997 started.\n",
      "MAP: 0.06397240520284533\n",
      "Execution Time: 25.770790100097656\n",
      "Iteration 0 Weight w_ials: 2.209999999999997 started.\n",
      "MAP: 0.06393030009067695\n",
      "Execution Time: 28.46259832382202\n",
      "Iteration 0 Weight w_ials: 2.2199999999999966 started.\n",
      "MAP: 0.06390941385777793\n",
      "Execution Time: 25.683320999145508\n",
      "Iteration 0 Weight w_ials: 2.2299999999999964 started.\n",
      "MAP: 0.06400804052440924\n",
      "Execution Time: 27.569506645202637\n",
      "Iteration 0 Weight w_ials: 2.239999999999996 started.\n",
      "MAP: 0.0638963512082508\n",
      "Execution Time: 26.481008052825928\n",
      "Iteration 0 Weight w_ials: 2.249999999999996 started.\n",
      "MAP: 0.06400093999295446\n",
      "Execution Time: 26.87626338005066\n",
      "Iteration 0 Weight w_ials: 2.259999999999996 started.\n",
      "MAP: 0.06395643574177055\n",
      "Execution Time: 27.415854454040527\n",
      "Iteration 0 Weight w_ials: 2.2699999999999956 started.\n",
      "MAP: 0.06383658159231136\n",
      "Execution Time: 25.941246509552002\n",
      "Iteration 0 Weight w_ials: 2.2799999999999954 started.\n",
      "MAP: 0.06378854844614923\n",
      "Execution Time: 28.24915623664856\n",
      "Iteration 0 Weight w_ials: 2.289999999999995 started.\n",
      "MAP: 0.06382722408142937\n",
      "Execution Time: 25.729878902435303\n",
      "Iteration 0 Weight w_ials: 2.299999999999995 started.\n",
      "MAP: 0.06379039457347155\n",
      "Execution Time: 28.718231201171875\n",
      "Iteration 0 Weight w_ials: 2.3099999999999947 started.\n",
      "MAP: 0.0637932227639217\n",
      "Execution Time: 25.717379331588745\n",
      "Iteration 0 Weight w_ials: 2.3199999999999945 started.\n",
      "MAP: 0.06397476672527858\n",
      "Execution Time: 28.60034680366516\n",
      "Iteration 0 Weight w_ials: 2.3299999999999943 started.\n",
      "MAP: 0.0639665336436663\n",
      "Execution Time: 25.76506471633911\n",
      "Iteration 0 Weight w_ials: 2.339999999999994 started.\n",
      "MAP: 0.06380572268945778\n",
      "Execution Time: 28.659998178482056\n",
      "Iteration 0 Weight w_ials: 2.349999999999994 started.\n",
      "MAP: 0.06382650956082168\n",
      "Execution Time: 25.767322778701782\n",
      "Iteration 0 Weight w_ials: 2.3599999999999937 started.\n",
      "MAP: 0.0639142130222942\n",
      "Execution Time: 28.642594814300537\n",
      "Iteration 0 Weight w_ials: 2.3699999999999934 started.\n",
      "MAP: 0.0637340297082155\n",
      "Execution Time: 25.835132837295532\n",
      "Iteration 0 Weight w_ials: 2.3799999999999932 started.\n",
      "MAP: 0.06371061562966585\n",
      "Execution Time: 28.430091857910156\n",
      "Iteration 0 Weight w_ials: 2.389999999999993 started.\n",
      "MAP: 0.06365950623740968\n",
      "Execution Time: 26.64967393875122\n",
      "Iteration 0 Weight w_ials: 2.399999999999993 started.\n",
      "MAP: 0.06366117557799768\n",
      "Execution Time: 27.75337266921997\n",
      "Iteration 0 Weight w_ials: 2.4099999999999926 started.\n",
      "MAP: 0.06367566624197392\n",
      "Execution Time: 27.301544666290283\n",
      "Iteration 0 Weight w_ials: 2.4199999999999924 started.\n",
      "MAP: 0.06360277299408712\n",
      "Execution Time: 26.996374368667603\n",
      "Iteration 0 Weight w_ials: 2.429999999999992 started.\n",
      "MAP: 0.06368395065080225\n",
      "Execution Time: 27.947000980377197\n",
      "Iteration 0 Weight w_ials: 2.439999999999992 started.\n",
      "MAP: 0.0635538303575893\n",
      "Execution Time: 26.41605281829834\n",
      "Iteration 0 Weight w_ials: 2.4499999999999917 started.\n",
      "MAP: 0.06355579158181981\n",
      "Execution Time: 28.657994508743286\n",
      "Iteration 0 Weight w_ials: 2.4599999999999915 started.\n",
      "MAP: 0.0635181292586097\n",
      "Execution Time: 25.93864369392395\n",
      "Iteration 0 Weight w_ials: 2.4699999999999913 started.\n",
      "MAP: 0.0637423211238712\n",
      "Execution Time: 29.08709692955017\n",
      "Iteration 0 Weight w_ials: 2.479999999999991 started.\n",
      "MAP: 0.0635943058192019\n",
      "Execution Time: 25.886259078979492\n",
      "Iteration 0 Weight w_ials: 2.489999999999991 started.\n",
      "MAP: 0.0636853361167918\n",
      "Execution Time: 29.34596538543701\n",
      "Iteration 0 Weight w_ials: 2.4999999999999907 started.\n",
      "MAP: 0.06353358382202096\n",
      "Execution Time: 25.917132139205933\n",
      "Iteration 0 Weight w_ials: 2.5099999999999905 started.\n",
      "MAP: 0.06364289417430052\n",
      "Execution Time: 29.245558738708496\n",
      "Iteration 0 Weight w_ials: 2.5199999999999902 started.\n",
      "MAP: 0.06362614851585333\n",
      "Execution Time: 25.974892616271973\n",
      "Iteration 0 Weight w_ials: 2.52999999999999 started.\n",
      "MAP: 0.06347588010339923\n",
      "Execution Time: 29.282810926437378\n",
      "Iteration 0 Weight w_ials: 2.53999999999999 started.\n",
      "MAP: 0.06347307743455423\n",
      "Execution Time: 25.89940857887268\n",
      "Iteration 0 Weight w_ials: 2.5499999999999896 started.\n",
      "MAP: 0.06346492860398374\n",
      "Execution Time: 29.20286536216736\n",
      "Iteration 0 Weight w_ials: 2.5599999999999894 started.\n",
      "MAP: 0.06348325714141903\n",
      "Execution Time: 25.99375581741333\n",
      "Iteration 0 Weight w_ials: 2.569999999999989 started.\n",
      "MAP: 0.06347043956650915\n",
      "Execution Time: 28.79542899131775\n",
      "Iteration 0 Weight w_ials: 2.579999999999989 started.\n",
      "MAP: 0.06353114969067257\n",
      "Execution Time: 26.351390600204468\n",
      "Iteration 0 Weight w_ials: 2.5899999999999888 started.\n",
      "MAP: 0.063352191976797\n",
      "Execution Time: 28.144952297210693\n",
      "Iteration 0 Weight w_ials: 2.5999999999999885 started.\n",
      "MAP: 0.06345285782687225\n",
      "Execution Time: 26.892676830291748\n",
      "Iteration 0 Weight w_ials: 2.6099999999999883 started.\n",
      "MAP: 0.06329922161682183\n",
      "Execution Time: 27.418724298477173\n",
      "Iteration 0 Weight w_ials: 2.619999999999988 started.\n",
      "MAP: 0.0632512960418647\n",
      "Execution Time: 27.7079758644104\n",
      "Iteration 0 Weight w_ials: 2.629999999999988 started.\n",
      "MAP: 0.06336818685455785\n",
      "Execution Time: 26.813295602798462\n",
      "Iteration 0 Weight w_ials: 2.6399999999999877 started.\n",
      "MAP: 0.0632459163072215\n",
      "Execution Time: 28.288872241973877\n",
      "Iteration 0 Weight w_ials: 2.6499999999999875 started.\n",
      "MAP: 0.06320486330089209\n",
      "Execution Time: 26.28654670715332\n",
      "Iteration 0 Weight w_ials: 2.6599999999999873 started.\n",
      "MAP: 0.06321416924288073\n",
      "Execution Time: 28.69607138633728\n",
      "Iteration 0 Weight w_ials: 2.669999999999987 started.\n",
      "MAP: 0.06319445538230085\n",
      "Execution Time: 25.742380142211914\n",
      "Iteration 0 Weight w_ials: 2.679999999999987 started.\n",
      "MAP: 0.06315301224996127\n",
      "Execution Time: 29.333235263824463\n",
      "Iteration 0 Weight w_ials: 2.6899999999999866 started.\n",
      "MAP: 0.06305970965037674\n",
      "Execution Time: 25.923455715179443\n",
      "Iteration 0 Weight w_ials: 2.6999999999999864 started.\n",
      "MAP: 0.06318399764354397\n",
      "Execution Time: 29.215340614318848\n",
      "Iteration 0 Weight w_ials: 2.709999999999986 started.\n",
      "MAP: 0.06307315077206627\n",
      "Execution Time: 25.669206619262695\n",
      "Iteration 0 Weight w_ials: 2.719999999999986 started.\n",
      "MAP: 0.0631683419900872\n",
      "Execution Time: 29.188295125961304\n",
      "Iteration 0 Weight w_ials: 2.7299999999999858 started.\n",
      "MAP: 0.06315612061940891\n",
      "Execution Time: 25.899847507476807\n",
      "Iteration 0 Weight w_ials: 2.7399999999999856 started.\n",
      "MAP: 0.06314157858629091\n",
      "Execution Time: 29.112579584121704\n",
      "Iteration 0 Weight w_ials: 2.7499999999999853 started.\n",
      "MAP: 0.06310856921562681\n",
      "Execution Time: 25.980767488479614\n",
      "Iteration 0 Weight w_ials: 2.759999999999985 started.\n",
      "MAP: 0.0629976410633519\n",
      "Execution Time: 29.115543842315674\n",
      "Iteration 0 Weight w_ials: 2.769999999999985 started.\n",
      "MAP: 0.06292055626847107\n",
      "Execution Time: 25.649189233779907\n",
      "Iteration 0 Weight w_ials: 2.7799999999999847 started.\n",
      "MAP: 0.06279541471962916\n",
      "Execution Time: 28.29667830467224\n",
      "Iteration 0 Weight w_ials: 2.7899999999999845 started.\n",
      "MAP: 0.06275784194876594\n",
      "Execution Time: 26.63878107070923\n",
      "Iteration 0 Weight w_ials: 2.7999999999999843 started.\n",
      "MAP: 0.06277576968480401\n",
      "Execution Time: 27.702985525131226\n",
      "Iteration 0 Weight w_ials: 2.809999999999984 started.\n",
      "MAP: 0.06274059875982603\n",
      "Execution Time: 28.026074171066284\n",
      "Iteration 0 Weight w_ials: 2.819999999999984 started.\n",
      "MAP: 0.06269180481087586\n",
      "Execution Time: 25.568735599517822\n",
      "Iteration 0 Weight w_ials: 2.8299999999999836 started.\n",
      "MAP: 0.06272155302111446\n",
      "Execution Time: 29.80469536781311\n",
      "Iteration 0 Weight w_ials: 2.8399999999999834 started.\n",
      "MAP: 0.06254995504310484\n",
      "Execution Time: 25.59033441543579\n",
      "Iteration 0 Weight w_ials: 2.849999999999983 started.\n",
      "MAP: 0.06254520717747793\n",
      "Execution Time: 28.116147994995117\n"
     ]
    },
    {
     "name": "stdout",
     "output_type": "stream",
     "text": [
      "Iteration 0 Weight w_ials: 2.859999999999983 started.\n",
      "MAP: 0.06247875709866543\n",
      "Execution Time: 27.65181016921997\n",
      "Iteration 0 Weight w_ials: 2.869999999999983 started.\n",
      "MAP: 0.06250731634073534\n",
      "Execution Time: 25.717727661132812\n",
      "Iteration 0 Weight w_ials: 2.8799999999999826 started.\n",
      "MAP: 0.06248338274660894\n",
      "Execution Time: 29.803101301193237\n",
      "Iteration 0 Weight w_ials: 2.8899999999999824 started.\n",
      "MAP: 0.06240235388035366\n",
      "Execution Time: 25.956761598587036\n",
      "Iteration 0 Weight w_ials: 2.899999999999982 started.\n",
      "MAP: 0.06242313711147361\n",
      "Execution Time: 28.641610622406006\n",
      "Iteration 0 Weight w_ials: 2.909999999999982 started.\n",
      "MAP: 0.062438524935497\n",
      "Execution Time: 27.021097660064697\n",
      "Iteration 0 Weight w_ials: 2.9199999999999817 started.\n",
      "MAP: 0.06233450718957455\n",
      "Execution Time: 25.776440620422363\n",
      "Iteration 0 Weight w_ials: 2.9299999999999815 started.\n",
      "MAP: 0.062366160500772705\n",
      "Execution Time: 29.643184900283813\n",
      "Iteration 0 Weight w_ials: 2.9399999999999813 started.\n",
      "MAP: 0.062353106606893215\n",
      "Execution Time: 25.651839017868042\n",
      "Iteration 0 Weight w_ials: 2.949999999999981 started.\n",
      "MAP: 0.06228803162809465\n",
      "Execution Time: 28.978843927383423\n",
      "Iteration 0 Weight w_ials: 2.959999999999981 started.\n",
      "MAP: 0.0622787616809539\n",
      "Execution Time: 26.480367183685303\n",
      "Iteration 0 Weight w_ials: 2.9699999999999807 started.\n",
      "MAP: 0.06226113394617079\n",
      "Execution Time: 26.15561079978943\n",
      "Iteration 0 Weight w_ials: 2.9799999999999804 started.\n",
      "MAP: 0.06220272302519323\n",
      "Execution Time: 29.39661192893982\n",
      "Iteration 0 Weight w_ials: 2.9899999999999802 started.\n",
      "MAP: 0.06209451802982363\n",
      "Execution Time: 25.747499465942383\n",
      "Iteration 0 Weight w_ials: 2.99999999999998 started.\n",
      "MAP: 0.06213864597691172\n",
      "Execution Time: 29.634185791015625\n",
      "Iteration 0 Weight w_ials: 3.00999999999998 started.\n",
      "MAP: 0.06211783655331434\n",
      "Execution Time: 26.31438970565796\n",
      "Iteration 0 Weight w_ials: 3.0199999999999796 started.\n"
     ]
    },
    {
     "ename": "KeyboardInterrupt",
     "evalue": "",
     "output_type": "error",
     "traceback": [
      "\u001b[1;31m---------------------------------------------------------------------------\u001b[0m",
      "\u001b[1;31mKeyboardInterrupt\u001b[0m                         Traceback (most recent call last)",
      "\u001b[1;32m<ipython-input-31-7c68d5537e73>\u001b[0m in \u001b[0;36m<module>\u001b[1;34m\u001b[0m\n\u001b[0;32m     16\u001b[0m     accum_precision, accum_recall, accum_map, num_user_evaluated, num_users_skipped = evaluator(rec, \n\u001b[0;32m     17\u001b[0m                                                                                             \u001b[0murm_train_validation\u001b[0m\u001b[1;33m,\u001b[0m\u001b[1;33m\u001b[0m\u001b[1;33m\u001b[0m\u001b[0m\n\u001b[1;32m---> 18\u001b[1;33m                                                                                             urm_test)\n\u001b[0m\u001b[0;32m     19\u001b[0m     \u001b[0mprint\u001b[0m\u001b[1;33m(\u001b[0m\u001b[1;34m\"MAP: \"\u001b[0m \u001b[1;33m+\u001b[0m \u001b[0mstr\u001b[0m\u001b[1;33m(\u001b[0m\u001b[0maccum_map\u001b[0m\u001b[1;33m)\u001b[0m\u001b[1;33m)\u001b[0m\u001b[1;33m\u001b[0m\u001b[1;33m\u001b[0m\u001b[0m\n\u001b[0;32m     20\u001b[0m     \u001b[1;32mif\u001b[0m \u001b[0maccum_map\u001b[0m \u001b[1;33m>\u001b[0m \u001b[0mbest_MAP\u001b[0m \u001b[1;33m:\u001b[0m\u001b[1;33m\u001b[0m\u001b[1;33m\u001b[0m\u001b[0m\n",
      "\u001b[1;32m<ipython-input-10-4432b3241058>\u001b[0m in \u001b[0;36mevaluator\u001b[1;34m(recommender, urm_train, urm_test)\u001b[0m\n\u001b[0;32m     29\u001b[0m \u001b[1;33m\u001b[0m\u001b[0m\n\u001b[0;32m     30\u001b[0m         unseen_items_mask = np.in1d(recommended_items,urm_train[user_id].indices,\n\u001b[1;32m---> 31\u001b[1;33m                                         assume_unique=True, invert=True)\n\u001b[0m\u001b[0;32m     32\u001b[0m \u001b[1;33m\u001b[0m\u001b[0m\n\u001b[0;32m     33\u001b[0m         \u001b[0mrecommendations\u001b[0m \u001b[1;33m=\u001b[0m \u001b[0mrecommended_items\u001b[0m\u001b[1;33m[\u001b[0m\u001b[0munseen_items_mask\u001b[0m\u001b[1;33m]\u001b[0m\u001b[1;33m\u001b[0m\u001b[1;33m\u001b[0m\u001b[0m\n",
      "\u001b[1;32m~\\anaconda3\\envs\\RecSysFramework\\lib\\site-packages\\numpy\\lib\\arraysetops.py\u001b[0m in \u001b[0;36min1d\u001b[1;34m(ar1, ar2, assume_unique, invert)\u001b[0m\n\u001b[0;32m    579\u001b[0m     \u001b[1;31m# here. The values from the first array should always come before\u001b[0m\u001b[1;33m\u001b[0m\u001b[1;33m\u001b[0m\u001b[1;33m\u001b[0m\u001b[0m\n\u001b[0;32m    580\u001b[0m     \u001b[1;31m# the values from the second array.\u001b[0m\u001b[1;33m\u001b[0m\u001b[1;33m\u001b[0m\u001b[1;33m\u001b[0m\u001b[0m\n\u001b[1;32m--> 581\u001b[1;33m     \u001b[0morder\u001b[0m \u001b[1;33m=\u001b[0m \u001b[0mar\u001b[0m\u001b[1;33m.\u001b[0m\u001b[0margsort\u001b[0m\u001b[1;33m(\u001b[0m\u001b[0mkind\u001b[0m\u001b[1;33m=\u001b[0m\u001b[1;34m'mergesort'\u001b[0m\u001b[1;33m)\u001b[0m\u001b[1;33m\u001b[0m\u001b[1;33m\u001b[0m\u001b[0m\n\u001b[0m\u001b[0;32m    582\u001b[0m     \u001b[0msar\u001b[0m \u001b[1;33m=\u001b[0m \u001b[0mar\u001b[0m\u001b[1;33m[\u001b[0m\u001b[0morder\u001b[0m\u001b[1;33m]\u001b[0m\u001b[1;33m\u001b[0m\u001b[1;33m\u001b[0m\u001b[0m\n\u001b[0;32m    583\u001b[0m     \u001b[1;32mif\u001b[0m \u001b[0minvert\u001b[0m\u001b[1;33m:\u001b[0m\u001b[1;33m\u001b[0m\u001b[1;33m\u001b[0m\u001b[0m\n",
      "\u001b[1;31mKeyboardInterrupt\u001b[0m: "
     ]
    }
   ],
   "source": [
    "import time\n",
    "\n",
    "w_ials = 0\n",
    "\n",
    "for i in (range (0,500)) :\n",
    "    \n",
    "    start = time.time()\n",
    "\n",
    "    #Create recommender\n",
    "    rec = HybridRecommender(urm_train_validation, ICM, userCF, itemCF, cbf, IALS)\n",
    "    print(\"Iteration \" + str(counter) + \" Weight w_ials: \" + str(w_ials) +\" started.\")\n",
    "\n",
    "    rec.fit(user_cf_param=user_cf_param,item_cf_param=item_cf_param,cbf_param=cbf_param,\n",
    "            slim_param=slim_bpr_param,als_param=als_param, w_user=0.32, w_item=0.19, w_cbf=0.39, w_p3alpha=0, w_als=0, w_ials=w_ials)\n",
    "\n",
    "    accum_precision, accum_recall, accum_map, num_user_evaluated, num_users_skipped = evaluator(rec, \n",
    "                                                                                            urm_train_validation, \n",
    "                                                                                            urm_test)\n",
    "    print(\"MAP: \" + str(accum_map))\n",
    "    if accum_map > best_MAP :\n",
    "        best_ials = w_ials\n",
    "        print(\"New Best! w_ials weight: \" + str(w_ials) +\" MAP: \" + str(accum_map) + \" previous best MAP: \" + str(best_MAP))\n",
    "        best_MAP = accum_map\n",
    "\n",
    "    stop = time.time()\n",
    "    print(\"Execution Time: \" + str(stop-start))\n",
    "\n",
    "    w_ials+=0.01\n",
    "\n",
    "\n"
   ]
  },
  {
   "cell_type": "code",
   "execution_count": null,
   "metadata": {},
   "outputs": [],
   "source": [
    "print(best_ials)\n",
    "print(best_MAP)"
   ]
  },
  {
   "cell_type": "code",
   "execution_count": null,
   "metadata": {},
   "outputs": [],
   "source": [
    "w = {\n",
    "    \"user_cf\": 0.32,\n",
    "    \"item_cf\": 0.19, #0.3 con train\n",
    "    \"cbf\": 0.39, #0.77\n",
    "    \"icm_svd\": 0,\n",
    "    \"als\": 0,#2\n",
    "    \"ials\" : 0,\n",
    "    \"slim_bpr\": 0,\n",
    "    \"elastic\": 0,\n",
    "    \"p3alpha\" : 0,\n",
    "    \"rp3beta\" : 0\n",
    "}"
   ]
  },
  {
   "cell_type": "code",
   "execution_count": null,
   "metadata": {},
   "outputs": [],
   "source": [
    "userCF = UserBasedCollaborativeFiltering(urm_train_validation)"
   ]
  },
  {
   "cell_type": "code",
   "execution_count": null,
   "metadata": {},
   "outputs": [],
   "source": [
    "userCF.fit(knn=user_cf_param[\"knn\"], shrink=user_cf_param[\"shrink\"],similarity='cosine')"
   ]
  },
  {
   "cell_type": "code",
   "execution_count": null,
   "metadata": {},
   "outputs": [],
   "source": [
    "accum_precision, accum_recall, accum_map, num_user_evaluated, num_users_skipped = evaluator(userCF, \n",
    "                                                                                            urm_train_validation, \n",
    "                                                                                            urm_test)\n",
    "accum_precision, accum_recall, accum_map, num_user_evaluated, num_users_skipped"
   ]
  },
  {
   "cell_type": "code",
   "execution_count": null,
   "metadata": {},
   "outputs": [],
   "source": [
    "itemCF = ItemBasedCollaborativeFiltering(urm_train_validation)"
   ]
  },
  {
   "cell_type": "code",
   "execution_count": null,
   "metadata": {},
   "outputs": [],
   "source": [
    "itemCF.fit(knn=item_cf_param[\"knn\"], shrink=item_cf_param[\"shrink\"], similarity=\"cosine\")"
   ]
  },
  {
   "cell_type": "code",
   "execution_count": null,
   "metadata": {},
   "outputs": [],
   "source": [
    "accum_precision, accum_recall, accum_map, num_user_evaluated, num_users_skipped = evaluator(itemCF, \n",
    "                                                                                            urm_train_validation, \n",
    "                                                                                            urm_test)\n",
    "accum_precision, accum_recall, accum_map, num_user_evaluated, num_users_skipped"
   ]
  },
  {
   "cell_type": "code",
   "execution_count": null,
   "metadata": {},
   "outputs": [],
   "source": [
    "SlimBpr=SlimBPRRec(urm_train_validation)"
   ]
  },
  {
   "cell_type": "code",
   "execution_count": null,
   "metadata": {},
   "outputs": [],
   "source": [
    "SlimBpr.fit(nnz=slim_bpr_param[\"nnz\"], knn=slim_bpr_param[\"knn\"])"
   ]
  },
  {
   "cell_type": "code",
   "execution_count": null,
   "metadata": {},
   "outputs": [],
   "source": [
    "accum_precision, accum_recall, accum_map, num_user_evaluated, num_users_skipped = evaluator(SlimBpr, \n",
    "                                                                                            urm_train_validation, \n",
    "                                                                                            urm_test)\n",
    "accum_precision, accum_recall, accum_map, num_user_evaluated, num_users_skipped"
   ]
  },
  {
   "cell_type": "code",
   "execution_count": null,
   "metadata": {},
   "outputs": [],
   "source": [
    "slim_elastic = SLIMElasticNetRecommender(urm_train)"
   ]
  },
  {
   "cell_type": "code",
   "execution_count": null,
   "metadata": {},
   "outputs": [],
   "source": [
    "slim_elastic.fit()"
   ]
  },
  {
   "cell_type": "code",
   "execution_count": null,
   "metadata": {},
   "outputs": [],
   "source": [
    "accum_precision, accum_recall, accum_map, num_user_evaluated, num_users_skipped = evaluator(slim_elastic, \n",
    "                                                                                            urm_train_validation, \n",
    "                                                                                            urm_test)\n",
    "accum_precision, accum_recall, accum_map, num_user_evaluated, num_users_skipped"
   ]
  },
  {
   "cell_type": "code",
   "execution_count": null,
   "metadata": {},
   "outputs": [],
   "source": [
    "cbf = ContentBasedFiltering(urm_train_validation,ICM)"
   ]
  },
  {
   "cell_type": "code",
   "execution_count": null,
   "metadata": {},
   "outputs": [],
   "source": [
    "cbf.fit(knn=cbf_param[\"knn\"],shrink=cbf_param[\"shrink\"],similarity='cosine')"
   ]
  },
  {
   "cell_type": "code",
   "execution_count": null,
   "metadata": {},
   "outputs": [],
   "source": [
    "accum_precision, accum_recall, accum_map, num_user_evaluated, num_users_skipped = evaluator(cbf, \n",
    "                                                                                            urm_train_validation, \n",
    "                                                                                            urm_test)\n",
    "accum_precision, accum_recall, accum_map, num_user_evaluated, num_users_skipped"
   ]
  },
  {
   "cell_type": "code",
   "execution_count": null,
   "metadata": {},
   "outputs": [],
   "source": [
    "ALS = AlternatingLeastSquare(urm_train_validation)"
   ]
  },
  {
   "cell_type": "code",
   "execution_count": null,
   "metadata": {},
   "outputs": [],
   "source": [
    "ALS.fit(n_factors=als_param[\"n_factors\"], regularization=als_param[\"regularization\"],iterations=als_param[\"iterations\"])"
   ]
  },
  {
   "cell_type": "code",
   "execution_count": null,
   "metadata": {},
   "outputs": [],
   "source": [
    "accum_precision, accum_recall, accum_map, num_user_evaluated, num_users_skipped = evaluator(ALS, \n",
    "                                                                                            urm_train_validation, \n",
    "                                                                                            urm_test)\n",
    "accum_precision, accum_recall, accum_map, num_user_evaluated, num_users_skipped"
   ]
  },
  {
   "cell_type": "code",
   "execution_count": null,
   "metadata": {},
   "outputs": [],
   "source": [
    "P3alpha = P3alphaRecommender(urm_train_validation)"
   ]
  },
  {
   "cell_type": "code",
   "execution_count": null,
   "metadata": {},
   "outputs": [],
   "source": [
    "P3alpha.fit(topK=p3alpha_param[\"knn\"], alpha=p3alpha_param[\"alpha\"])"
   ]
  },
  {
   "cell_type": "code",
   "execution_count": null,
   "metadata": {},
   "outputs": [],
   "source": [
    "accum_precision, accum_recall, accum_map, num_user_evaluated, num_users_skipped = evaluator(P3alpha, \n",
    "                                                                                            urm_train_validation, \n",
    "                                                                                            urm_test)\n",
    "accum_precision, accum_recall, accum_map, num_user_evaluated, num_users_skipped"
   ]
  },
  {
   "cell_type": "code",
   "execution_count": null,
   "metadata": {},
   "outputs": [],
   "source": [
    "RP3beta = RP3betaRecommender(urm_train_validation)"
   ]
  },
  {
   "cell_type": "code",
   "execution_count": null,
   "metadata": {},
   "outputs": [],
   "source": [
    "RP3beta.fit(topK=rp3beta_param[\"knn\"], alpha=rp3beta_param[\"alpha\"], beta=rp3beta_param[\"beta\"])"
   ]
  },
  {
   "cell_type": "code",
   "execution_count": null,
   "metadata": {},
   "outputs": [],
   "source": [
    "accum_precision, accum_recall, accum_map, num_user_evaluated, num_users_skipped = evaluator(RP3beta, \n",
    "                                                                                            urm_train_validation, \n",
    "                                                                                            urm_test)\n",
    "accum_precision, accum_recall, accum_map, num_user_evaluated, num_users_skipped"
   ]
  },
  {
   "cell_type": "code",
   "execution_count": null,
   "metadata": {},
   "outputs": [],
   "source": [
    "recommender = HybridRecommender(urm_train_validation, ICM, userCF, itemCF, cbf, ALS)"
   ]
  },
  {
   "cell_type": "code",
   "execution_count": null,
   "metadata": {
    "scrolled": true
   },
   "outputs": [],
   "source": [
    "recommender.fit(user_cf_param=user_cf_param,item_cf_param=item_cf_param,cbf_param=cbf_param,\n",
    "                slim_param=slim_bpr_param,als_param=als_param, w_user=w[\"user_cf\"], w_item=w[\"item_cf\"], w_cbf=w[\"cbf\"], w_p3alpha=w[\"p3alpha\"], w_als=w[\"als\"])"
   ]
  },
  {
   "cell_type": "code",
   "execution_count": null,
   "metadata": {},
   "outputs": [],
   "source": [
    "accum_precision, accum_recall, accum_map, num_user_evaluated, num_users_skipped = evaluator(recommender, \n",
    "                                                                                            urm_train_validation, \n",
    "                                                                                            urm_test)\n",
    "accum_precision, accum_recall, accum_map, num_user_evaluated, num_users_skipped"
   ]
  },
  {
   "cell_type": "markdown",
   "metadata": {
    "id": "0Vi-dduXaj46"
   },
   "source": [
    "**Submission to competition**\n",
    "\n",
    "This step serves as a similar step that you will perform when preparing a submission to the competition. Specially after you have chosen and trained your recommender.\n",
    "\n",
    "For this step the best suggestion is to select the most-performing configuration obtained in the hyperparameter tuning step and to train the recommender using both the train and validation set. Remember that in the competition you do not have access to the test set.\n",
    "\n",
    "Another consideration is that, due to easier and faster calculations, we replaced the user/item identifiers with new ones in the preprocessing step. For the competition, you are required to generate recommendations using the dataset's original identifiers. Due to this, this step also reverts back the newer identifiers with the ones originally found in the dataset.\n",
    "\n",
    "Last, this step creates a function that writes the recommendations for each user in the same file in a tabular format following this format:\n",
    "\n",
    "csv\n",
    "<user_id>,<item_id_1> <item_id_2> <item_id_3> <item_id_4> <item_id_5> <item_id_6> <item_id_7> <item_id_8> <item_id_9> <item_id_10>\n",
    "Always verify the competitions' submission file model as it might vary from the one we presented here."
   ]
  },
  {
   "cell_type": "code",
   "execution_count": null,
   "metadata": {
    "id": "EcSDk9aMtW4k"
   },
   "outputs": [],
   "source": [
    "def load_goodguys():\n",
    "  return pd.read_csv(\"./data_target_users_test.csv\")\n",
    "goodguys=load_goodguys()"
   ]
  },
  {
   "cell_type": "code",
   "execution_count": null,
   "metadata": {
    "id": "eHzsuFiqtW4k",
    "outputId": "bc36c459-1cc6-460a-b403-95482cf1508d"
   },
   "outputs": [],
   "source": [
    "goodguys"
   ]
  },
  {
   "cell_type": "code",
   "execution_count": null,
   "metadata": {
    "id": "0b3DwuXrayTA",
    "outputId": "27c6d557-b304-427c-bf2c-8fdc090efe64"
   },
   "outputs": [],
   "source": [
    "users_to_recommend = np.random.choice(goodguys.user_id,size=goodguys.size, replace=False)\n",
    "users_to_recommend"
   ]
  },
  {
   "cell_type": "code",
   "execution_count": null,
   "metadata": {
    "id": "RurxNTttbI-i"
   },
   "outputs": [],
   "source": [
    "def prepare_submission(users_to_recommend: np.array, urm_train: sp.csr_matrix, recommender: object):\n",
    "    \n",
    "    recommendation_length = 10\n",
    "    submission = []\n",
    "    \n",
    "    for user_id in users_to_recommend :\n",
    "\n",
    "        recommendations = recommender.recommend2(user_id, urm_train, recommendation_length)\n",
    "\n",
    "        \n",
    "        submission.append((user_id, [item_id for item_id in recommendations]))\n",
    "   \n",
    "    return submission"
   ]
  },
  {
   "cell_type": "code",
   "execution_count": null,
   "metadata": {
    "id": "5KYlvMDVbLxo",
    "scrolled": true
   },
   "outputs": [],
   "source": [
    "submission = prepare_submission(users_to_recommend, urm_train_validation, recommender)"
   ]
  },
  {
   "cell_type": "code",
   "execution_count": null,
   "metadata": {
    "id": "sJZEjE3CbQTp",
    "outputId": "8e2faf6b-144c-4ba3-ee1a-692290e15d3c"
   },
   "outputs": [],
   "source": [
    "submission"
   ]
  },
  {
   "cell_type": "code",
   "execution_count": null,
   "metadata": {
    "id": "6hCawP60bVm3"
   },
   "outputs": [],
   "source": [
    "import os\n",
    "from datetime import datetime\n",
    "\n",
    "csv_fname = './submission'\n",
    "csv_fname += datetime.now().strftime('%b%d_%H-%M-%S') + '.csv'\n",
    "\n",
    "def write_submission(submissions):\n",
    "    with open(csv_fname, \"w\") as f:\n",
    "        f.write(f\"user_id,item_list\\n\")\n",
    "        for user_id, items in submissions:\n",
    "            f.write(f\"{user_id},{' '.join([str(item) for item in items])}\\n\")\n"
   ]
  },
  {
   "cell_type": "code",
   "execution_count": null,
   "metadata": {
    "id": "ov91al-UbXAQ"
   },
   "outputs": [],
   "source": [
    "write_submission(submission)"
   ]
  },
  {
   "cell_type": "code",
   "execution_count": null,
   "metadata": {},
   "outputs": [],
   "source": []
  }
 ],
 "metadata": {
  "colab": {
   "collapsed_sections": [],
   "name": "RecommenderChallenge.ipynb",
   "provenance": []
  },
  "kernelspec": {
   "display_name": "Python 3",
   "language": "python",
   "name": "python3"
  },
  "language_info": {
   "codemirror_mode": {
    "name": "ipython",
    "version": 3
   },
   "file_extension": ".py",
   "mimetype": "text/x-python",
   "name": "python",
   "nbconvert_exporter": "python",
   "pygments_lexer": "ipython3",
   "version": "3.6.10"
  }
 },
 "nbformat": 4,
 "nbformat_minor": 1
}
