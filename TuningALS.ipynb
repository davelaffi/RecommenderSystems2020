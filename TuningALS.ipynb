{
 "cells": [
  {
   "cell_type": "code",
   "execution_count": null,
   "metadata": {
    "id": "ybQSYdHvb_CB",
    "scrolled": true
   },
   "outputs": [],
   "source": [
    "import numpy as np\n",
    "import pandas as pd\n",
    "import scipy.sparse as sp\n",
    "from tqdm import tqdm\n",
    "from Base.DataIO import DataIO\n",
    "\n",
    "#----Recommenders----\n",
    "from SLIM.SLIM_BPR_Python import SLIM_BPR_Python\n",
    "from SLIM.SlimElasticNet import SLIMElasticNetRecommender\n",
    "from cf.item_cf3 import ItemBasedCollaborativeFiltering\n",
    "from cf.user_cf2 import UserBasedCollaborativeFiltering\n",
    "from MF.IALSRecommender import IALSRecommender\n",
    "from cbf.cbf import ContentBasedFiltering\n",
    "from SlimBPR.SlimBPRRec import SlimBPRRec\n",
    "from SlimBPR.SlimBPR import SlimBPR\n",
    "from MF.ALS import AlternatingLeastSquare\n",
    "\n",
    "\n",
    "from Hybrid.hybridRec import HybridRecommender\n",
    "#---------------\n",
    "\n",
    "#----Model Load & Save----\n",
    "from Data_manager.Dataset import Dataset\n",
    "#-------------------------\n",
    "\n",
    "from sklearn.model_selection import train_test_split"
   ]
  },
  {
   "cell_type": "code",
   "execution_count": null,
   "metadata": {
    "id": "FSE7ic-VbiJd"
   },
   "outputs": [],
   "source": [
    "def load_data_ICM():\n",
    "  return pd.read_csv(\"./data_ICM_title_abstract.csv\")"
   ]
  },
  {
   "cell_type": "code",
   "execution_count": null,
   "metadata": {
    "id": "-d-NVkEZbiJd"
   },
   "outputs": [],
   "source": [
    "features=load_data_ICM()\n",
    "d ={'item_id': features['row'],'feature_id':features['col'],'value':features['data']}\n",
    "features=pd.DataFrame(data=d)\n",
    "itemList=list(d['item_id'])"
   ]
  },
  {
   "cell_type": "code",
   "execution_count": null,
   "metadata": {
    "id": "hJs6hZ8obiJd"
   },
   "outputs": [],
   "source": [
    "featureList=list(d['feature_id'])"
   ]
  },
  {
   "cell_type": "code",
   "execution_count": null,
   "metadata": {
    "id": "kR-oPdRtbiJd"
   },
   "outputs": [],
   "source": [
    "valueList=list(d['value'])\n",
    "ICM = sp.coo_matrix((valueList,(itemList,featureList)))\n",
    "ICM = ICM.tocsr()"
   ]
  },
  {
   "cell_type": "code",
   "execution_count": null,
   "metadata": {
    "id": "_PXL-kG4biJd",
    "outputId": "163614e6-32e7-451c-b1b2-0de16719dea1"
   },
   "outputs": [],
   "source": [
    "ICM"
   ]
  },
  {
   "cell_type": "markdown",
   "metadata": {
    "id": "GLb4ij1thWhs"
   },
   "source": [
    "**Dataset splitting into train,validation and test**\n",
    "\n",
    "This is the last part before creating the recommender. However, this step is super important, as it is the base for the training, parameters optimization, and evaluation of the recommender(s).\n",
    "\n",
    "In here we read the ratings (which we loaded and preprocessed before) and create the train, validation, and test User-Rating Matrices (URM). It's important that these are disjoint to avoid information leakage from the train into the validation/test set, in our case, we are safe to use the train_test_split function from scikit-learn as the dataset only contains one datapoint for every (user,item) pair. On another topic, we first create the test set and then we create the validation by splitting again the train set.\n",
    "\n",
    "train_test_split takes an array (or several arrays) and divides it into train and test according to a given size (in our case testing_percentage and validation_percentage, which need to be a float between 0 and 1).\n",
    "\n",
    "After we have our different splits, we create the sparse URMs by using the csr_matrix function from scipy.\n",
    "\n",
    "\n"
   ]
  },
  {
   "cell_type": "code",
   "execution_count": null,
   "metadata": {},
   "outputs": [],
   "source": [
    "#Load\n",
    "loaded_dataset = Dataset(None, None, None, None)\n",
    "loaded_dataset.load_data(\"Salvataggi/\")\n",
    "\n",
    "\n",
    "urm_train = (loaded_dataset.get_urm_train())[\"urm_train\"]\n",
    "urm_validation = (loaded_dataset.get_urm_validation())[\"urm_validation\"]\n",
    "urm_test = loaded_dataset.get_urm_test()[\"urm_test\"]"
   ]
  },
  {
   "cell_type": "code",
   "execution_count": null,
   "metadata": {},
   "outputs": [],
   "source": [
    "urm_train_validation = urm_train + urm_validation"
   ]
  },
  {
   "cell_type": "markdown",
   "metadata": {},
   "source": [
    "**Evaluation Metrics**"
   ]
  },
  {
   "cell_type": "code",
   "execution_count": null,
   "metadata": {},
   "outputs": [],
   "source": [
    "def recall(recommendations: np.array, relevant_items: np.array) -> float:\n",
    "    is_relevant = np.in1d(recommendations, relevant_items, assume_unique=True)\n",
    "    \n",
    "    recall_score = np.sum(is_relevant) / relevant_items.shape[0]\n",
    "    \n",
    "    return recall_score\n",
    "    \n",
    "    \n",
    "def precision(recommendations: np.array, relevant_items: np.array) -> float:\n",
    "    is_relevant = np.in1d(recommendations, relevant_items, assume_unique=True)\n",
    "    \n",
    "    precision_score = np.sum(is_relevant) / recommendations.shape[0]\n",
    "\n",
    "    return precision_score\n",
    "\n",
    "def mean_average_precision(recommendations: np.array, relevant_items: np.array) -> float:\n",
    "    is_relevant = np.in1d(recommendations, relevant_items, assume_unique=True)\n",
    "    \n",
    "    precision_at_k = is_relevant * np.cumsum(is_relevant, dtype=np.float32) / (1 + np.arange(is_relevant.shape[0]))\n",
    "\n",
    "    map_score = np.sum(precision_at_k) / np.min([relevant_items.shape[0], is_relevant.shape[0]])\n",
    "\n",
    "    return map_score"
   ]
  },
  {
   "cell_type": "markdown",
   "metadata": {},
   "source": [
    "**Evaluation Procedure**\n",
    "\n",
    "The evaluation procedure returns the averaged accuracy scores (in terms of precision, recall and MAP) for all users (that have at least 1 rating in the test set). It also calculates the number of evaluated and skipped users. It receives a recommender instance, and the train and test URMs."
   ]
  },
  {
   "cell_type": "code",
   "execution_count": null,
   "metadata": {},
   "outputs": [],
   "source": [
    "def evaluator(recommender: object, urm_train: sp.csr_matrix, urm_test: sp.csr_matrix):\n",
    "    recommendation_length = 10\n",
    "    accum_precision = 0\n",
    "    accum_recall = 0\n",
    "    accum_map = 0\n",
    "    \n",
    "    num_users = urm_train.shape[0]\n",
    "    \n",
    "    num_users_evaluated = 0\n",
    "    num_users_skipped = 0\n",
    "    \n",
    "    for user_id in range(num_users):\n",
    "        user_profile_start = urm_test.indptr[user_id]\n",
    "        user_profile_end = urm_test.indptr[user_id+1]\n",
    "\n",
    "        relevant_items = urm_test.indices[user_profile_start:user_profile_end]\n",
    "\n",
    "        if relevant_items.size == 0:\n",
    "            num_users_skipped += 1\n",
    "            continue\n",
    "            \n",
    "#         recommendations = recommender.recommend(user_id_array=user_id,\n",
    "#                                                cutoff=recommendation_length,\n",
    "#                                                remove_seen_flag=True\n",
    "#                                                )\n",
    "\n",
    "        expected_ratings = recommender.get_expected_ratings(user_id)\n",
    "        recommended_items = np.flip(np.argsort(expected_ratings), 0)\n",
    "\n",
    "        unseen_items_mask = np.in1d(recommended_items,urm_train[user_id].indices,\n",
    "                                        assume_unique=True, invert=True)\n",
    "\n",
    "        recommendations = recommended_items[unseen_items_mask]\n",
    "\n",
    "\n",
    "        accum_precision += precision(recommendations, relevant_items)\n",
    "        accum_recall += recall(recommendations, relevant_items)\n",
    "        accum_map += mean_average_precision(recommendations, relevant_items)\n",
    "\n",
    "        num_users_evaluated += 1\n",
    "\n",
    "    \n",
    "    accum_precision /= max(num_users_evaluated, 1)\n",
    "    accum_recall /= max(num_users_evaluated, 1)\n",
    "    accum_map /=  max(num_users_evaluated, 1)\n",
    "    \n",
    "    return accum_precision, accum_recall, accum_map, num_users_evaluated, num_users_skipped"
   ]
  },
  {
   "cell_type": "markdown",
   "metadata": {},
   "source": [
    "**Tuning ALS**"
   ]
  },
  {
   "cell_type": "code",
   "execution_count": null,
   "metadata": {},
   "outputs": [],
   "source": []
  },
  {
   "cell_type": "code",
   "execution_count": null,
   "metadata": {
    "scrolled": true
   },
   "outputs": [],
   "source": [
    "import time\n",
    "\n",
    "best_factors = np.zeros(4000)\n",
    "best_reg = np.zeros(4000)\n",
    "best_MAP = np.zeros(4000)\n",
    "\n",
    "counter = 0\n",
    "start = time.time()\n",
    "for factors in range(100, 1000, 40) :\n",
    "    \n",
    "    reg = 1.0\n",
    "    for i in range(0, 20) :\n",
    "        \n",
    "        print(\"Iteration \" + str(counter) + \" factors: \" + str(factors)   + \" reg: \" + str(reg)  + \" started.\")\n",
    "        \n",
    "        recommenderToTune = AlternatingLeastSquare(urm_train) #factors 0-1000, reg 0.15-2, iterations:30\n",
    "        recommenderToTune.fit(factors, reg, 30)\n",
    "\n",
    "        accum_precision, accum_recall, accum_map, num_user_evaluated, num_users_skipped = evaluator(recommenderToTune, \n",
    "                                                                                                urm_train_validation, \n",
    "                                                                                                urm_test)\n",
    "        \n",
    "        print(\"MAP iteration \" + str(counter) + \": \" + str(accum_map))\n",
    "        best_factors[counter] = factors\n",
    "        best_reg[counter] = reg\n",
    "        best_MAP[counter] = accum_map\n",
    "        \n",
    "        counter += 1\n",
    "        reg += 0.05\n",
    "        \n",
    "stop = time.time()\n",
    "print(\"Execution Time: \" + str(stop-start))"
   ]
  },
  {
   "cell_type": "code",
   "execution_count": null,
   "metadata": {},
   "outputs": [],
   "source": [
    "best_MAP"
   ]
  },
  {
   "cell_type": "code",
   "execution_count": null,
   "metadata": {},
   "outputs": [],
   "source": [
    "#Tieni solo i migliori 400\n",
    "factors_top400 = np.zeros(400, dtype=int)\n",
    "reg_top400 = np.zeros(400, dtype=float)\n",
    "MAP_top400 = np.zeros(400)\n",
    "\n",
    "#Sort of best maps decrescent\n",
    "MAP_sorted = np.sort(best_MAP)[::-1]\n",
    "\n",
    "#Tengo solo i primi 400 MAP\n",
    "MAP_top400 = MAP_sorted[:400]\n",
    "\n",
    "counter = 0\n",
    "\n",
    "#MAP_top400[0] will be the highest mapping_value \n",
    "for mapping_value in MAP_top400 :\n",
    "    \n",
    "    for iteration in range(0, best_MAP.shape[0]) :\n",
    "        \n",
    "        if best_MAP[iteration] == mapping_value :\n",
    "            \n",
    "            factors_top400[counter] = best_factors[iteration]\n",
    "            reg_top400[counter] = best_reg[iteration]\n",
    "            \n",
    "            counter += 1\n",
    "            \n",
    "print(factors_top400)\n",
    "print(reg_top400)\n",
    "print(MAP_top400)"
   ]
  },
  {
   "cell_type": "code",
   "execution_count": null,
   "metadata": {},
   "outputs": [],
   "source": [
    "print(\"Inizio tuning preciso di +20 -20 factors dei top400\")\n",
    "\n",
    "iteration = 0\n",
    "for iteration in tqdm(range(0, factors_top400.shape[0])) :\n",
    "        \n",
    "    start = time.time()\n",
    "    print(\"Iteration \" + str(iteration) + \" factors: \" + str(factors_top400[iteration])   + \" Reg: \" + str(reg_top400[iteration])  + \" started.\")\n",
    "    \n",
    "    print(\"factors +20\")\n",
    "    print(\"factors: \" + str(factors_top400[iteration] + 20) + \" reg: \" + str(reg_top400[iteration]))\n",
    "    \n",
    "    recommenderToTune.fit(factors_top400[iteration]+20, reg_top400[iteration], 30)\n",
    "\n",
    "    accum_precision, accum_recall, accum_map, num_user_evaluated, num_users_skipped = evaluator(recommenderToTune, \n",
    "                                                                                            urm_train_validation, \n",
    "                                                                                            urm_test)\n",
    "\n",
    "    print(\"MAP iteration \" + str(iteration) + \": \" + str(accum_map))\n",
    "\n",
    "    if accum_map > MAP_top400[iteration] :\n",
    "        \n",
    "        factors_top400[iteration] = factors_top400[iteration] + 20\n",
    "        reg_top400[iteration] = reg_top400[iteration]\n",
    "        MAP_top400[iteration] = accum_map\n",
    "        \n",
    "        print(\"updated! factors +20 is better\")\n",
    "        \n",
    "    ###############\n",
    "    \n",
    "    print(\"factors +10\")\n",
    "    print(\"factors: \" + str(factors_top400[iteration] + 10) + \" reg: \" + str(reg_top400[iteration]))\n",
    "    \n",
    "    recommenderToTune.fit(factors_top400[iteration]+10, reg_top400[iteration], 30)\n",
    "\n",
    "    accum_precision, accum_recall, accum_map, num_user_evaluated, num_users_skipped = evaluator(recommenderToTune, \n",
    "                                                                                            urm_train_validation, \n",
    "                                                                                            urm_test)\n",
    "\n",
    "    print(\"MAP iteration \" + str(iteration) + \": \" + str(accum_map))\n",
    "\n",
    "    if accum_map > MAP_top400[iteration] :\n",
    "        \n",
    "        factors_top400[iteration] = factors_top400[iteration] + 10\n",
    "        reg_top400[iteration] = reg_top400[iteration]\n",
    "        MAP_top400[iteration] = accum_map\n",
    "        \n",
    "        print(\"updated! factors +10 is better\")\n",
    "        \n",
    "    ###############\n",
    "    \n",
    "    \n",
    "    if (factors-20) > 0 :\n",
    "        print(\"factors -20\")\n",
    "        print(\"factors: \" + str(factors_top400[iteration] -20) + \" reg: \" + str(reg_top400[iteration]))\n",
    "\n",
    "        recommenderToTune.fit(factors_top400[iteration]-20, reg_top400[iteration], 30)\n",
    "\n",
    "        accum_precision, accum_recall, accum_map, num_user_evaluated, num_users_skipped = evaluator(recommenderToTune, \n",
    "                                                                                                urm_train_validation, \n",
    "                                                                                                urm_test)\n",
    "\n",
    "        print(\"MAP iteration \" + str(iteration) + \": \" + str(accum_map))\n",
    "\n",
    "        if accum_map > MAP_top400[iteration] :\n",
    "\n",
    "            factors_top400[iteration] = factors_top400[iteration] -20\n",
    "            reg_top400[iteration] = reg_top400[iteration]\n",
    "            MAP_top400[iteration] = accum_map\n",
    "\n",
    "            print(\"updated! factors -20 is better\")\n",
    "        \n",
    "    ###############\n",
    "    \n",
    "    if (factors-10) > 0 :\n",
    "        print(\"factors -10\")\n",
    "        print(\"factors: \" + str(factors_top400[iteration] -10) + \" reg: \" + str(reg_top400[iteration]))\n",
    "\n",
    "        recommenderToTune.fit(factors_top400[iteration]-10, reg_top400[iteration], 30)\n",
    "\n",
    "        accum_precision, accum_recall, accum_map, num_user_evaluated, num_users_skipped = evaluator(recommenderToTune, \n",
    "                                                                                                urm_train_validation, \n",
    "                                                                                                urm_test)\n",
    "\n",
    "        print(\"MAP iteration \" + str(iteration) + \": \" + str(accum_map))\n",
    "\n",
    "        if accum_map > MAP_top400[iteration] :\n",
    "\n",
    "            factors_top400[iteration] = factors_top400[iteration] -10\n",
    "            reg_top400[iteration] = reg_top400[iteration]\n",
    "            MAP_top400[iteration] = accum_map\n",
    "\n",
    "            print(\"updated! factors -10 is better\")\n",
    "        \n",
    "    ###############\n",
    "\n",
    "    stop = time.time()\n",
    "    print(\"Execution Time: \" + str(stop-start))"
   ]
  },
  {
   "cell_type": "code",
   "execution_count": null,
   "metadata": {},
   "outputs": [],
   "source": [
    "#Prendo i 5 migliori\n",
    "factors_top5 = np.zeros(400, dtype=int)\n",
    "reg_top5 = np.zeros(400, dtype=float)\n",
    "MAP_top5 = np.zeros(5)\n",
    "\n",
    "#Sort of best maps decrescent\n",
    "MAP_sorted = np.sort(best_MAP)[::-1]\n",
    "\n",
    "#Tengo solo i primi 400 MAP\n",
    "MAP_top5 = MAP_sorted[:5]\n",
    "\n",
    "counter = 0\n",
    "\n",
    "#MAP_top400[0] will be the highest mapping_value \n",
    "for mapping_value in MAP_top5 :\n",
    "    \n",
    "    for iteration in range(0, MAP_top400.shape[0]) :\n",
    "        \n",
    "        if best_MAP[iteration] == mapping_value :\n",
    "            \n",
    "            factors_top5[counter] = factors_top400[iteration]\n",
    "            reg_top5[counter] = reg_top400[iteration]\n",
    "            \n",
    "            counter += 1\n",
    "            \n",
    "print(factors_top5)\n",
    "print(reg_top5)\n",
    "print(MAP_top5)"
   ]
  },
  {
   "cell_type": "code",
   "execution_count": null,
   "metadata": {},
   "outputs": [],
   "source": [
    "#in un intorno di 10 prendo il migliore per ognuno\n",
    "\n",
    "for iteration in range (0, MAP_top5.shape[0]) :\n",
    "    \n",
    "    for factors in range ((factors_top5[iteration]-5), (factors_top5[iteration]+5)) :\n",
    "        \n",
    "        reg = reg_top5[iteration] - 0.05\n",
    "        for i in range (0, 10) :\n",
    "            \n",
    "            print(\"factors: \" + str(factors) + \" reg: \" + str(reg))\n",
    "\n",
    "            recommenderToTune.fit(factors, reg, 30)\n",
    "\n",
    "            accum_precision, accum_recall, accum_map, num_user_evaluated, num_users_skipped = evaluator(recommenderToTune, \n",
    "                                                                                                    urm_train_validation, \n",
    "                                                                                                    urm_test)\n",
    "\n",
    "            print(\"MAP \" + str(accum_map))\n",
    "\n",
    "            if accum_map > MAP_top5[iteration] :\n",
    "\n",
    "                factors_top5[iteration] = factors\n",
    "                reg[iteration] = reg\n",
    "                MAP_top5[iteration] = accum_map\n",
    "\n",
    "                print(\"updated! is better\")\n",
    "                  \n",
    "            reg+= 0.01\n",
    "            \n",
    "print(factors_top5)\n",
    "print(reg_top5)\n",
    "print(MAP_top5)"
   ]
  },
  {
   "cell_type": "code",
   "execution_count": null,
   "metadata": {},
   "outputs": [],
   "source": [
    "#best values\n",
    "bestFactors = 0\n",
    "bestReg = 0\n",
    "bestMap = 0\n",
    "\n",
    "#Sort of best maps decrescent\n",
    "MAP_sorted = np.sort(MAP_top5)[::-1]\n",
    "\n",
    "#Tengo solo i primi 400 MAP\n",
    "bestMap = MAP_sorted[0]\n",
    "\n",
    "counter = 0\n",
    "\n",
    "for iteration in range(0, MAP_top5.shape[0]) :\n",
    "\n",
    "    if MAP_top5[iteration] == bestMap :\n",
    "\n",
    "        bestFactors = factors_top5[iteration]\n",
    "        bestReg = reg_top5[iteration]\n",
    "\n",
    "            \n",
    "print(bestFactors)\n",
    "print(bestReg)\n",
    "print(bestMap)"
   ]
  },
  {
   "cell_type": "code",
   "execution_count": null,
   "metadata": {},
   "outputs": [],
   "source": [
    "result = \"bestKnn: \" + str(bestKnn) + \" bestShrink: \" + str(bestShrink) + \" best MAP: \" + str(bestMap)\n",
    "with open('resultALS.txt', 'a') as fp:\n",
    "    fp.write(result)"
   ]
  },
  {
   "cell_type": "markdown",
   "metadata": {},
   "source": [
    "**Recommenders Parameters**"
   ]
  },
  {
   "cell_type": "code",
   "execution_count": null,
   "metadata": {},
   "outputs": [],
   "source": [
    "#Params for the recommenders\n",
    "cbf_param = {\n",
    "    \"knn\": 380,\n",
    "    \"shrink\": 9\n",
    "}\n",
    "\n",
    "user_cf_param = {\n",
    "    \"knn\": 249,\n",
    "    \"shrink\": 853\n",
    "}\n",
    "\n",
    "item_cf_param = {\n",
    "    \"knn\": 119,\n",
    "    \"shrink\": 430\n",
    "}\n",
    "\n",
    "slim_bpr_param = {   #work in progres....\n",
    "    \"learning_rate\" : 0.00214168231523243,\n",
    "    \"epochs\": 10,\n",
    "    \"nnz\" : 0.39651777555716483,\n",
    "    \"knn\": 1134\n",
    "}\n",
    "\n",
    "als_param = {   #work in progress...\n",
    "    \"n_factors\": 242,\n",
    "    \"regularization\": 2.0,\n",
    "    \"iterations\": 15\n",
    "}\n",
    "\n",
    "Ials_param = {\n",
    "    \"num_factors\" : 50,\n",
    "    \"confidence_scaling\" : \"linear\",\n",
    "    \"alpha\" : 0.40,\n",
    "    \"epsilon\" : 0.28,\n",
    "    \"reg\" : 0.0003\n",
    "}\n"
   ]
  },
  {
   "cell_type": "code",
   "execution_count": null,
   "metadata": {},
   "outputs": [],
   "source": [
    "userCF = UserBasedCollaborativeFiltering(urm_train)"
   ]
  },
  {
   "cell_type": "code",
   "execution_count": null,
   "metadata": {},
   "outputs": [],
   "source": [
    "userCF.fit(knn=user_cf_param[\"knn\"], shrink=user_cf_param[\"shrink\"],similarity='cosine')"
   ]
  },
  {
   "cell_type": "code",
   "execution_count": null,
   "metadata": {},
   "outputs": [],
   "source": [
    "accum_precision, accum_recall, accum_map, num_user_evaluated, num_users_skipped = evaluator(userCF, \n",
    "                                                                                            urm_train_validation, \n",
    "                                                                                            urm_test)\n",
    "accum_precision, accum_recall, accum_map, num_user_evaluated, num_users_skipped"
   ]
  },
  {
   "cell_type": "code",
   "execution_count": null,
   "metadata": {},
   "outputs": [],
   "source": [
    "itemCF = ItemBasedCollaborativeFiltering(urm_train)"
   ]
  },
  {
   "cell_type": "code",
   "execution_count": null,
   "metadata": {},
   "outputs": [],
   "source": [
    "itemCF.fit(knn=item_cf_param[\"knn\"], shrink=item_cf_param[\"shrink\"], similarity=\"cosine\")"
   ]
  },
  {
   "cell_type": "code",
   "execution_count": null,
   "metadata": {},
   "outputs": [],
   "source": [
    "accum_precision, accum_recall, accum_map, num_user_evaluated, num_users_skipped = evaluator(itemCF, \n",
    "                                                                                            urm_train_validation, \n",
    "                                                                                            urm_test)\n",
    "accum_precision, accum_recall, accum_map, num_user_evaluated, num_users_skipped"
   ]
  },
  {
   "cell_type": "code",
   "execution_count": null,
   "metadata": {},
   "outputs": [],
   "source": [
    "SlimBpr=SlimBPRRec(urm_train)"
   ]
  },
  {
   "cell_type": "code",
   "execution_count": null,
   "metadata": {
    "scrolled": true
   },
   "outputs": [],
   "source": [
    "SlimBpr.fit(nnz=slim_bpr_param[\"nnz\"], knn=slim_bpr_param[\"knn\"])"
   ]
  },
  {
   "cell_type": "code",
   "execution_count": null,
   "metadata": {},
   "outputs": [],
   "source": [
    "accum_precision, accum_recall, accum_map, num_user_evaluated, num_users_skipped = evaluator(SlimBpr, \n",
    "                                                                                            urm_train_validation, \n",
    "                                                                                            urm_test)\n",
    "accum_precision, accum_recall, accum_map, num_user_evaluated, num_users_skipped"
   ]
  },
  {
   "cell_type": "code",
   "execution_count": null,
   "metadata": {},
   "outputs": [],
   "source": [
    "slim_elastic = SLIMElasticNetRecommender(urm_train)"
   ]
  },
  {
   "cell_type": "code",
   "execution_count": null,
   "metadata": {},
   "outputs": [],
   "source": [
    "slim_elastic.fit()"
   ]
  },
  {
   "cell_type": "code",
   "execution_count": null,
   "metadata": {},
   "outputs": [],
   "source": [
    "accum_precision, accum_recall, accum_map, num_user_evaluated, num_users_skipped = evaluator(slim_elastic, \n",
    "                                                                                            urm_train_validation, \n",
    "                                                                                            urm_test)\n",
    "accum_precision, accum_recall, accum_map, num_user_evaluated, num_users_skipped"
   ]
  },
  {
   "cell_type": "code",
   "execution_count": null,
   "metadata": {},
   "outputs": [],
   "source": [
    "cbf = ContentBasedFiltering(urm_train,ICM)"
   ]
  },
  {
   "cell_type": "code",
   "execution_count": null,
   "metadata": {},
   "outputs": [],
   "source": [
    "cbf.fit(knn=cbf_param[\"knn\"],shrink=cbf_param[\"shrink\"],similarity='cosine')"
   ]
  },
  {
   "cell_type": "code",
   "execution_count": null,
   "metadata": {},
   "outputs": [],
   "source": [
    "accum_precision, accum_recall, accum_map, num_user_evaluated, num_users_skipped = evaluator(cbf, \n",
    "                                                                                            urm_train_validation, \n",
    "                                                                                            urm_test)\n",
    "accum_precision, accum_recall, accum_map, num_user_evaluated, num_users_skipped"
   ]
  },
  {
   "cell_type": "code",
   "execution_count": null,
   "metadata": {},
   "outputs": [],
   "source": [
    "ALS = AlternatingLeastSquare(urm_train)"
   ]
  },
  {
   "cell_type": "code",
   "execution_count": null,
   "metadata": {},
   "outputs": [],
   "source": [
    "ALS.fit(n_factors=als_param[\"n_factors\"], regularization=als_param[\"regularization\"],iterations=als_param[\"iterations\"])"
   ]
  },
  {
   "cell_type": "code",
   "execution_count": null,
   "metadata": {},
   "outputs": [],
   "source": [
    "accum_precision, accum_recall, accum_map, num_user_evaluated, num_users_skipped = evaluator(ALS, \n",
    "                                                                                            urm_train_validation, \n",
    "                                                                                            urm_test)\n",
    "accum_precision, accum_recall, accum_map, num_user_evaluated, num_users_skipped"
   ]
  },
  {
   "cell_type": "code",
   "execution_count": null,
   "metadata": {},
   "outputs": [],
   "source": [
    "IALS = IALSRecommender(urm_train)"
   ]
  },
  {
   "cell_type": "code",
   "execution_count": null,
   "metadata": {},
   "outputs": [],
   "source": [
    "IALS.fit(num_factors=Ials_param[\"num_factors\"], confidence_scaling=Ials_param[\"confidence_scaling\"], alpha=Ials_param[\"alpha\"], epsilon=Ials_param[\"epsilon\"], reg=Ials_param[\"reg\"])"
   ]
  },
  {
   "cell_type": "code",
   "execution_count": null,
   "metadata": {},
   "outputs": [],
   "source": [
    "accum_precision, accum_recall, accum_map, num_user_evaluated, num_users_skipped = evaluator(IALS, \n",
    "                                                                                            urm_train_validation, \n",
    "                                                                                            urm_test)\n",
    "accum_precision, accum_recall, accum_map, num_user_evaluated, num_users_skipped"
   ]
  },
  {
   "cell_type": "markdown",
   "metadata": {},
   "source": [
    "**Hybrid**"
   ]
  },
  {
   "cell_type": "markdown",
   "metadata": {},
   "source": [
    "**Hybrid Recommender Tuning**"
   ]
  },
  {
   "cell_type": "code",
   "execution_count": null,
   "metadata": {},
   "outputs": [],
   "source": [
    "best_weight = 0\n",
    "best_MAP = 0.0\n",
    "counter = 0"
   ]
  },
  {
   "cell_type": "code",
   "execution_count": null,
   "metadata": {
    "scrolled": true
   },
   "outputs": [],
   "source": [
    "import time\n",
    "\n",
    "#Create recommender\n",
    "rec = HybridRecommender(urm_train_validation, ICM, userCF, itemCF, cbf, ALS, SlimBpr)\n",
    "\n",
    "\n",
    "for w_bpr in range(0,1000) :\n",
    "\n",
    "    start = time.time()\n",
    "    print(\"Iteration \" + str(counter) + \" Weight: \" + str(w_bpr)  + \" started.\")\n",
    "    \n",
    "    rec.fit(user_cf_param=user_cf_param,item_cf_param=item_cf_param,cbf_param=cbf_param,\n",
    "            slim_param=slim_bpr_param,als_param=als_param, w_user=37, w_item=235, w_cbf=98, w_als=73, w_slim_bpr=w_bpr)\n",
    "\n",
    "    accum_precision, accum_recall, accum_map, num_user_evaluated, num_users_skipped = evaluator(rec, \n",
    "                                                                                            urm_train_validation, \n",
    "                                                                                            urm_test)\n",
    "\n",
    "    if accum_map > best_MAP :\n",
    "        best_weight = w_bpr\n",
    "        print(\"New Best! weight: \" + str(w_bpr) + \" MAP: \" + str(accum_map) + \" previous best MAP: \" + str(best_MAP))\n",
    "        best_MAP = accum_map\n",
    "\n",
    "    stop = time.time()\n",
    "    print(\"Execution Time: \" + str(stop-start))"
   ]
  },
  {
   "cell_type": "code",
   "execution_count": null,
   "metadata": {},
   "outputs": [],
   "source": [
    "w = {\n",
    "    \"user_cf\": 37,\n",
    "    \"item_cf\": 235,\n",
    "    \"cbf\": 98,\n",
    "    \"icm_svd\": 0,\n",
    "    \"als\": ,\n",
    "    \"slim_bpr\": 113,\n",
    "    \"elastic\": 0\n",
    "}"
   ]
  },
  {
   "cell_type": "code",
   "execution_count": null,
   "metadata": {},
   "outputs": [],
   "source": [
    "userCF = UserBasedCollaborativeFiltering(urm_train_validation)"
   ]
  },
  {
   "cell_type": "code",
   "execution_count": null,
   "metadata": {},
   "outputs": [],
   "source": [
    "userCF.fit(knn=user_cf_param[\"knn\"], shrink=user_cf_param[\"shrink\"],similarity='cosine')"
   ]
  },
  {
   "cell_type": "code",
   "execution_count": null,
   "metadata": {},
   "outputs": [],
   "source": [
    "accum_precision, accum_recall, accum_map, num_user_evaluated, num_users_skipped = evaluator(userCF, \n",
    "                                                                                            urm_train_validation, \n",
    "                                                                                            urm_test)\n",
    "accum_precision, accum_recall, accum_map, num_user_evaluated, num_users_skipped"
   ]
  },
  {
   "cell_type": "code",
   "execution_count": null,
   "metadata": {},
   "outputs": [],
   "source": [
    "itemCF = ItemBasedCollaborativeFiltering(urm_train_validation)"
   ]
  },
  {
   "cell_type": "code",
   "execution_count": null,
   "metadata": {},
   "outputs": [],
   "source": [
    "itemCF.fit(knn=item_cf_param[\"knn\"], shrink=item_cf_param[\"shrink\"], similarity=\"cosine\")"
   ]
  },
  {
   "cell_type": "code",
   "execution_count": null,
   "metadata": {},
   "outputs": [],
   "source": [
    "accum_precision, accum_recall, accum_map, num_user_evaluated, num_users_skipped = evaluator(itemCF, \n",
    "                                                                                            urm_train_validation, \n",
    "                                                                                            urm_test)\n",
    "accum_precision, accum_recall, accum_map, num_user_evaluated, num_users_skipped"
   ]
  },
  {
   "cell_type": "code",
   "execution_count": null,
   "metadata": {},
   "outputs": [],
   "source": [
    "SlimBpr=SlimBPRRec(urm_train_validation)"
   ]
  },
  {
   "cell_type": "code",
   "execution_count": null,
   "metadata": {
    "scrolled": true
   },
   "outputs": [],
   "source": [
    "SlimBpr.fit(nnz=slim_bpr_param[\"nnz\"], knn=slim_bpr_param[\"knn\"])"
   ]
  },
  {
   "cell_type": "code",
   "execution_count": null,
   "metadata": {},
   "outputs": [],
   "source": [
    "accum_precision, accum_recall, accum_map, num_user_evaluated, num_users_skipped = evaluator(SlimBpr, \n",
    "                                                                                            urm_train_validation, \n",
    "                                                                                            urm_test)\n",
    "accum_precision, accum_recall, accum_map, num_user_evaluated, num_users_skipped"
   ]
  },
  {
   "cell_type": "code",
   "execution_count": null,
   "metadata": {},
   "outputs": [],
   "source": [
    "slim_elastic = SLIMElasticNetRecommender(urm_train)"
   ]
  },
  {
   "cell_type": "code",
   "execution_count": null,
   "metadata": {},
   "outputs": [],
   "source": [
    "slim_elastic.fit()"
   ]
  },
  {
   "cell_type": "code",
   "execution_count": null,
   "metadata": {},
   "outputs": [],
   "source": [
    "accum_precision, accum_recall, accum_map, num_user_evaluated, num_users_skipped = evaluator(slim_elastic, \n",
    "                                                                                            urm_train_validation, \n",
    "                                                                                            urm_test)\n",
    "accum_precision, accum_recall, accum_map, num_user_evaluated, num_users_skipped"
   ]
  },
  {
   "cell_type": "code",
   "execution_count": null,
   "metadata": {},
   "outputs": [],
   "source": [
    "cbf = ContentBasedFiltering(urm_train_validation,ICM)"
   ]
  },
  {
   "cell_type": "code",
   "execution_count": null,
   "metadata": {},
   "outputs": [],
   "source": [
    "cbf.fit(knn=cbf_param[\"knn\"],shrink=cbf_param[\"shrink\"],similarity='cosine')"
   ]
  },
  {
   "cell_type": "code",
   "execution_count": null,
   "metadata": {},
   "outputs": [],
   "source": [
    "accum_precision, accum_recall, accum_map, num_user_evaluated, num_users_skipped = evaluator(cbf, \n",
    "                                                                                            urm_train_validation, \n",
    "                                                                                            urm_test)\n",
    "accum_precision, accum_recall, accum_map, num_user_evaluated, num_users_skipped"
   ]
  },
  {
   "cell_type": "code",
   "execution_count": null,
   "metadata": {},
   "outputs": [],
   "source": [
    "ALS = AlternatingLeastSquare(urm_train_validation)"
   ]
  },
  {
   "cell_type": "code",
   "execution_count": null,
   "metadata": {},
   "outputs": [],
   "source": [
    "ALS.fit(n_factors=als_param[\"n_factors\"], regularization=als_param[\"regularization\"],iterations=als_param[\"iterations\"])"
   ]
  },
  {
   "cell_type": "code",
   "execution_count": null,
   "metadata": {},
   "outputs": [],
   "source": [
    "accum_precision, accum_recall, accum_map, num_user_evaluated, num_users_skipped = evaluator(ALS, \n",
    "                                                                                            urm_train_validation, \n",
    "                                                                                            urm_test)\n",
    "accum_precision, accum_recall, accum_map, num_user_evaluated, num_users_skipped"
   ]
  },
  {
   "cell_type": "code",
   "execution_count": null,
   "metadata": {},
   "outputs": [],
   "source": [
    "recommender = HybridRecommender(urm_train_validation, ICM, userCF, itemCF, cbf, ALS, SlimBpr)"
   ]
  },
  {
   "cell_type": "code",
   "execution_count": null,
   "metadata": {
    "scrolled": true
   },
   "outputs": [],
   "source": [
    "recommender.fit(user_cf_param=user_cf_param,item_cf_param=item_cf_param,cbf_param=cbf_param,\n",
    "                slim_param=slim_bpr_param,als_param=als_param, w_user=w[\"user_cf\"], w_item=w[\"item_cf\"], w_cbf=w[\"cbf\"],w_als=w[\"als\"], w_slim_bpr=w[\"slim_bpr\"])"
   ]
  },
  {
   "cell_type": "code",
   "execution_count": null,
   "metadata": {},
   "outputs": [],
   "source": [
    "accum_precision, accum_recall, accum_map, num_user_evaluated, num_users_skipped = evaluator(recommender, \n",
    "                                                                                            urm_train_validation, \n",
    "                                                                                            urm_test)\n",
    "accum_precision, accum_recall, accum_map, num_user_evaluated, num_users_skipped"
   ]
  },
  {
   "cell_type": "markdown",
   "metadata": {
    "id": "0Vi-dduXaj46"
   },
   "source": [
    "**Submission to competition**\n",
    "\n",
    "This step serves as a similar step that you will perform when preparing a submission to the competition. Specially after you have chosen and trained your recommender.\n",
    "\n",
    "For this step the best suggestion is to select the most-performing configuration obtained in the hyperparameter tuning step and to train the recommender using both the train and validation set. Remember that in the competition you do not have access to the test set.\n",
    "\n",
    "Another consideration is that, due to easier and faster calculations, we replaced the user/item identifiers with new ones in the preprocessing step. For the competition, you are required to generate recommendations using the dataset's original identifiers. Due to this, this step also reverts back the newer identifiers with the ones originally found in the dataset.\n",
    "\n",
    "Last, this step creates a function that writes the recommendations for each user in the same file in a tabular format following this format:\n",
    "\n",
    "csv\n",
    "<user_id>,<item_id_1> <item_id_2> <item_id_3> <item_id_4> <item_id_5> <item_id_6> <item_id_7> <item_id_8> <item_id_9> <item_id_10>\n",
    "Always verify the competitions' submission file model as it might vary from the one we presented here."
   ]
  },
  {
   "cell_type": "code",
   "execution_count": null,
   "metadata": {
    "id": "EcSDk9aMtW4k"
   },
   "outputs": [],
   "source": [
    "def load_goodguys():\n",
    "  return pd.read_csv(\"./data_target_users_test.csv\")\n",
    "goodguys=load_goodguys()"
   ]
  },
  {
   "cell_type": "code",
   "execution_count": null,
   "metadata": {
    "id": "eHzsuFiqtW4k",
    "outputId": "bc36c459-1cc6-460a-b403-95482cf1508d"
   },
   "outputs": [],
   "source": [
    "goodguys"
   ]
  },
  {
   "cell_type": "code",
   "execution_count": null,
   "metadata": {
    "id": "0b3DwuXrayTA",
    "outputId": "27c6d557-b304-427c-bf2c-8fdc090efe64"
   },
   "outputs": [],
   "source": [
    "users_to_recommend = np.random.choice(goodguys.user_id,size=goodguys.size, replace=False)\n",
    "users_to_recommend"
   ]
  },
  {
   "cell_type": "code",
   "execution_count": null,
   "metadata": {
    "id": "RurxNTttbI-i"
   },
   "outputs": [],
   "source": [
    "def prepare_submission(users_to_recommend: np.array, urm_train: sp.csr_matrix, recommender: object):\n",
    "    \n",
    "    recommendation_length = 10\n",
    "    submission = []\n",
    "    \n",
    "    for user_id in users_to_recommend :\n",
    "\n",
    "        recommendations = recommender.recommend2(user_id, urm_train, recommendation_length)\n",
    "\n",
    "        \n",
    "        submission.append((user_id, [item_id for item_id in recommendations]))\n",
    "   \n",
    "    return submission"
   ]
  },
  {
   "cell_type": "code",
   "execution_count": null,
   "metadata": {
    "id": "5KYlvMDVbLxo",
    "scrolled": true
   },
   "outputs": [],
   "source": [
    "submission = prepare_submission(users_to_recommend, urm_train_validation, recommender)"
   ]
  },
  {
   "cell_type": "code",
   "execution_count": null,
   "metadata": {
    "id": "sJZEjE3CbQTp",
    "outputId": "8e2faf6b-144c-4ba3-ee1a-692290e15d3c"
   },
   "outputs": [],
   "source": [
    "submission"
   ]
  },
  {
   "cell_type": "code",
   "execution_count": null,
   "metadata": {
    "id": "6hCawP60bVm3"
   },
   "outputs": [],
   "source": [
    "import os\n",
    "from datetime import datetime\n",
    "\n",
    "csv_fname = './submission'\n",
    "csv_fname += datetime.now().strftime('%b%d_%H-%M-%S') + '.csv'\n",
    "\n",
    "def write_submission(submissions):\n",
    "    with open(csv_fname, \"w\") as f:\n",
    "        f.write(f\"user_id,item_list\\n\")\n",
    "        for user_id, items in submissions:\n",
    "            f.write(f\"{user_id},{' '.join([str(item) for item in items])}\\n\")\n"
   ]
  },
  {
   "cell_type": "code",
   "execution_count": null,
   "metadata": {
    "id": "ov91al-UbXAQ"
   },
   "outputs": [],
   "source": [
    "write_submission(submission)"
   ]
  },
  {
   "cell_type": "code",
   "execution_count": null,
   "metadata": {},
   "outputs": [],
   "source": []
  }
 ],
 "metadata": {
  "colab": {
   "collapsed_sections": [],
   "name": "RecommenderChallenge.ipynb",
   "provenance": []
  },
  "kernelspec": {
   "display_name": "Python 3",
   "language": "python",
   "name": "python3"
  },
  "language_info": {
   "codemirror_mode": {
    "name": "ipython",
    "version": 3
   },
   "file_extension": ".py",
   "mimetype": "text/x-python",
   "name": "python",
   "nbconvert_exporter": "python",
   "pygments_lexer": "ipython3",
   "version": "3.6.10"
  }
 },
 "nbformat": 4,
 "nbformat_minor": 1
}
