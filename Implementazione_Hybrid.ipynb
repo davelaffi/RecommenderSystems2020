{
 "cells": [
  {
   "cell_type": "code",
   "execution_count": 1,
   "metadata": {
    "id": "ybQSYdHvb_CB"
   },
   "outputs": [],
   "source": [
    "import numpy as np\n",
    "import pandas as pd\n",
    "import scipy.sparse as sp\n",
    "from tqdm import tqdm\n",
    "from Base.DataIO import DataIO\n",
    "\n",
    "#----Recommenders----\n",
    "from SLIM.SLIM_BPR_Python import SLIM_BPR_Python\n",
    "from SLIM.SlimElasticNet import SLIMElasticNetRecommender\n",
    "from cf.item_cf3 import ItemBasedCollaborativeFiltering\n",
    "from cf.user_cf2 import UserBasedCollaborativeFiltering\n",
    "from MF.ALS import AlternatingLeastSquare\n",
    "from cbf.cbf import ContentBasedFiltering\n",
    "from SlimBPR.SlimBPRRec import SlimBPRRec\n",
    "from SlimBPR.SlimBPR import SlimBPR\n",
    "\n",
    "from Hybrid.hybridRec import HybridRecommender\n",
    "#---------------\n",
    "\n",
    "#----Model Load & Save----\n",
    "from Data_manager.Dataset import Dataset\n",
    "#-------------------------\n",
    "\n",
    "from sklearn.model_selection import train_test_split"
   ]
  },
  {
   "cell_type": "markdown",
   "metadata": {
    "id": "iyPCmUzVedBh"
   },
   "source": [
    "**Dataset loading with pandas**\n",
    "\n",
    "The function read_csv from pandas provides a wonderful and fast interface to load tabular data like this. For better results and performance we provide the separator ::, the column names [\"user_id\", \"item_id\", \"ratings\", \"timestamp\"], and the types of each attribute in the dtype parameter."
   ]
  },
  {
   "cell_type": "code",
   "execution_count": null,
   "metadata": {
    "id": "96AUQmIlcAr2"
   },
   "outputs": [],
   "source": [
    "def load_data():\n",
    "  return pd.read_csv(\"./data_train.csv\")"
   ]
  },
  {
   "cell_type": "code",
   "execution_count": null,
   "metadata": {
    "id": "vMaAYCCksV82"
   },
   "outputs": [],
   "source": [
    "ratings=load_data()\n",
    "d ={'user_id': ratings['row'],'item_id':ratings['col'],'ratings':ratings['data']}\n",
    "ratings=pd.DataFrame(data=d)"
   ]
  },
  {
   "cell_type": "code",
   "execution_count": null,
   "metadata": {
    "colab": {
     "base_uri": "https://localhost:8080/"
    },
    "id": "enpGAp964Y5a",
    "outputId": "c436ac0a-ab96-4e87-8990-dea6db1076a0"
   },
   "outputs": [],
   "source": [
    "ratings.dtypes"
   ]
  },
  {
   "cell_type": "code",
   "execution_count": null,
   "metadata": {
    "id": "8dj1UlZkbiJd"
   },
   "outputs": [],
   "source": [
    "userList=list(d['user_id'])\n",
    "itemList=list(d['item_id'])\n",
    "ratingList=list(d['ratings'])"
   ]
  },
  {
   "cell_type": "code",
   "execution_count": null,
   "metadata": {
    "id": "EuTgqT-1biJd"
   },
   "outputs": [],
   "source": [
    "URM = sp.coo_matrix((ratingList,(userList,itemList)))\n",
    "URM = URM.tocsr()"
   ]
  },
  {
   "cell_type": "code",
   "execution_count": null,
   "metadata": {
    "id": "r4kLvs-TbiJd",
    "outputId": "547ba2f6-8e3d-4fda-9dc3-08577d183c47"
   },
   "outputs": [],
   "source": [
    "URM"
   ]
  },
  {
   "cell_type": "code",
   "execution_count": 2,
   "metadata": {
    "id": "FSE7ic-VbiJd"
   },
   "outputs": [],
   "source": [
    "def load_data_ICM():\n",
    "  return pd.read_csv(\"./data_ICM_title_abstract.csv\")"
   ]
  },
  {
   "cell_type": "code",
   "execution_count": 3,
   "metadata": {
    "id": "-d-NVkEZbiJd"
   },
   "outputs": [],
   "source": [
    "features=load_data_ICM()\n",
    "d ={'item_id': features['row'],'feature_id':features['col'],'value':features['data']}\n",
    "features=pd.DataFrame(data=d)\n",
    "itemList=list(d['item_id'])"
   ]
  },
  {
   "cell_type": "code",
   "execution_count": 4,
   "metadata": {
    "id": "hJs6hZ8obiJd"
   },
   "outputs": [],
   "source": [
    "featureList=list(d['feature_id'])"
   ]
  },
  {
   "cell_type": "code",
   "execution_count": 5,
   "metadata": {
    "id": "kR-oPdRtbiJd"
   },
   "outputs": [],
   "source": [
    "valueList=list(d['value'])\n",
    "ICM = sp.coo_matrix((valueList,(itemList,featureList)))\n",
    "ICM = ICM.tocsr()"
   ]
  },
  {
   "cell_type": "code",
   "execution_count": 6,
   "metadata": {
    "id": "_PXL-kG4biJd",
    "outputId": "163614e6-32e7-451c-b1b2-0de16719dea1"
   },
   "outputs": [
    {
     "data": {
      "text/plain": [
       "<25975x20000 sparse matrix of type '<class 'numpy.float64'>'\n",
       "\twith 490691 stored elements in Compressed Sparse Row format>"
      ]
     },
     "execution_count": 6,
     "metadata": {},
     "output_type": "execute_result"
    }
   ],
   "source": [
    "ICM"
   ]
  },
  {
   "cell_type": "code",
   "execution_count": null,
   "metadata": {},
   "outputs": [],
   "source": [
    "num_users=URM.shape[0]"
   ]
  },
  {
   "cell_type": "code",
   "execution_count": null,
   "metadata": {},
   "outputs": [],
   "source": [
    "num_items=URM.shape[1]"
   ]
  },
  {
   "cell_type": "code",
   "execution_count": null,
   "metadata": {},
   "outputs": [],
   "source": [
    "num_users,num_items"
   ]
  },
  {
   "cell_type": "markdown",
   "metadata": {
    "id": "GLb4ij1thWhs"
   },
   "source": [
    "**Dataset splitting into train,validation and test**\n",
    "\n",
    "This is the last part before creating the recommender. However, this step is super important, as it is the base for the training, parameters optimization, and evaluation of the recommender(s).\n",
    "\n",
    "In here we read the ratings (which we loaded and preprocessed before) and create the train, validation, and test User-Rating Matrices (URM). It's important that these are disjoint to avoid information leakage from the train into the validation/test set, in our case, we are safe to use the train_test_split function from scikit-learn as the dataset only contains one datapoint for every (user,item) pair. On another topic, we first create the test set and then we create the validation by splitting again the train set.\n",
    "\n",
    "train_test_split takes an array (or several arrays) and divides it into train and test according to a given size (in our case testing_percentage and validation_percentage, which need to be a float between 0 and 1).\n",
    "\n",
    "After we have our different splits, we create the sparse URMs by using the csr_matrix function from scipy.\n",
    "\n",
    "\n"
   ]
  },
  {
   "cell_type": "code",
   "execution_count": null,
   "metadata": {},
   "outputs": [],
   "source": [
    "from Notebooks_utils.data_splitter import train_test_holdout\n",
    "\n",
    "urm_train_validation, urm_test = train_test_holdout(URM, train_perc = 0.85)\n",
    "urm_train, urm_validation = train_test_holdout(urm_train_validation, train_perc = 0.85)"
   ]
  },
  {
   "cell_type": "code",
   "execution_count": null,
   "metadata": {},
   "outputs": [],
   "source": [
    "#Save Data\n",
    "dataset = Dataset(\"prova\", {\"urm_train\" : urm_train}, {\"urm_validation\" : urm_validation}, {\"urm_test\" : urm_test}) \n",
    "dataset.save_data(\"Salvataggi/\")"
   ]
  },
  {
   "cell_type": "code",
   "execution_count": 7,
   "metadata": {},
   "outputs": [],
   "source": [
    "#Load\n",
    "loaded_dataset = Dataset(None, None, None, None)\n",
    "loaded_dataset.load_data(\"Salvataggi/\")\n",
    "\n",
    "\n",
    "urm_train = (loaded_dataset.get_urm_train())[\"urm_train\"]\n",
    "urm_validation = (loaded_dataset.get_urm_validation())[\"urm_validation\"]\n",
    "urm_test = loaded_dataset.get_urm_test()[\"urm_test\"]"
   ]
  },
  {
   "cell_type": "code",
   "execution_count": 8,
   "metadata": {},
   "outputs": [],
   "source": [
    "urm_train_validation = urm_train + urm_validation"
   ]
  },
  {
   "cell_type": "code",
   "execution_count": 9,
   "metadata": {},
   "outputs": [],
   "source": [
    "from Base.Evaluation.Evaluator import EvaluatorHoldout\n",
    "\n",
    "evaluator_validation = EvaluatorHoldout(urm_validation, cutoff_list=[10])\n",
    "evaluator_test = EvaluatorHoldout(urm_test, cutoff_list=[10])"
   ]
  },
  {
   "cell_type": "code",
   "execution_count": 32,
   "metadata": {},
   "outputs": [],
   "source": [
    "from skopt.space import Real, Integer, Categorical\n",
    "\n",
    "hyperparameters_range_dictionary = {}\n",
    "hyperparameters_range_dictionary[\"knn\"] = Integer(5, 1000)\n",
    "hyperparameters_range_dictionary[\"shrink\"] = Integer(0, 1000)\n",
    "hyperparameters_range_dictionary[\"similarity\"] = Categorical([\"cosine\",\n",
    "#                                                              \"pearson\" \n",
    "#                                                               \"adjusted\",\n",
    "#                                                               \"asymmetric\",\n",
    "                                                               \"jaccard\",\n",
    "#                                                               \"tanimoto\", \n",
    "#                                                               \"dice\", \n",
    "#                                                               \"tversky\"\n",
    "                                                             ])"
   ]
  },
  {
   "cell_type": "code",
   "execution_count": 33,
   "metadata": {
    "scrolled": true
   },
   "outputs": [],
   "source": [
    "from ParameterTuning.SearchBayesianSkopt import SearchBayesianSkopt\n",
    "\n",
    "recommender_class = UserBasedCollaborativeFiltering\n",
    "\n",
    "parameterSearch = SearchBayesianSkopt(recommender_class,\n",
    "                                 evaluator_validation=evaluator_validation,\n",
    "                                 evaluator_test=evaluator_test)"
   ]
  },
  {
   "cell_type": "code",
   "execution_count": 34,
   "metadata": {},
   "outputs": [],
   "source": [
    "from ParameterTuning.SearchAbstractClass import SearchInputRecommenderArgs\n",
    "  \n",
    "recommender_input_args = SearchInputRecommenderArgs(\n",
    "    CONSTRUCTOR_POSITIONAL_ARGS = [urm_train],     # For a CBF model simply put [URM_train, ICM_train]\n",
    "    CONSTRUCTOR_KEYWORD_ARGS = {},\n",
    "    FIT_POSITIONAL_ARGS = [],\n",
    "    FIT_KEYWORD_ARGS = {}\n",
    ")"
   ]
  },
  {
   "cell_type": "code",
   "execution_count": 35,
   "metadata": {},
   "outputs": [],
   "source": [
    "recommender_input_args_last_test = SearchInputRecommenderArgs(\n",
    "    CONSTRUCTOR_POSITIONAL_ARGS = [urm_train_validation],     # For a CBF model simply put [URM_train_validation, ICM_train]\n",
    "    CONSTRUCTOR_KEYWORD_ARGS = {},\n",
    "    FIT_POSITIONAL_ARGS = [],\n",
    "    FIT_KEYWORD_ARGS = {}\n",
    ")"
   ]
  },
  {
   "cell_type": "code",
   "execution_count": 36,
   "metadata": {},
   "outputs": [],
   "source": [
    "import os\n",
    "\n",
    "output_folder_path = \"result_experiments/\"\n",
    "\n",
    "# If directory does not exist, create\n",
    "if not os.path.exists(output_folder_path):\n",
    "    os.makedirs(output_folder_path)\n",
    "    \n",
    "n_cases = 50\n",
    "n_random_starts = int(n_cases*0.3)\n",
    "metric_to_optimize = \"MAP\""
   ]
  },
  {
   "cell_type": "code",
   "execution_count": 37,
   "metadata": {
    "scrolled": true
   },
   "outputs": [
    {
     "name": "stdout",
     "output_type": "stream",
     "text": [
      "Iteration No: 1 started. Evaluating function at random point.\n",
      "SearchBayesianSkopt: Testing config: {'knn': 610, 'shrink': 751, 'similarity': 'cosine'}\n",
      "Similarity column 25975 ( 100 % ), 3270.39 column/sec, elapsed time 0.13 min\n",
      "EvaluatorHoldout: Processed 4643 ( 100.00% ) in 2.71 sec. Users per second: 1712\n",
      "SearchBayesianSkopt: New best config found. Config 0: {'knn': 610, 'shrink': 751, 'similarity': 'cosine'} - results: ROC_AUC: 0.1059732, PRECISION: 0.0201594, PRECISION_RECALL_MIN_DEN: 0.0851283, RECALL: 0.0835353, MAP: 0.0388358, MRR: 0.0755877, NDCG: 0.0578805, F1: 0.0324804, HIT_RATE: 0.2015938, ARHR: 0.0819564, NOVELTY: 0.0047530, AVERAGE_POPULARITY: 0.1326831, DIVERSITY_MEAN_INTER_LIST: 0.9726258, DIVERSITY_HERFINDAHL: 0.9972416, COVERAGE_ITEM: 0.3706641, COVERAGE_ITEM_CORRECT: 0.0179403, COVERAGE_USER: 0.5842456, COVERAGE_USER_CORRECT: 0.0981502, DIVERSITY_GINI: 0.1049679, SHANNON_ENTROPY: 10.7202130, \n",
      "\n",
      "EvaluatorHoldout: Processed 5007 ( 100.00% ) in 3.06 sec. Users per second: 1636\n",
      "SearchBayesianSkopt: Best config evaluated with evaluator_test. Config: {'knn': 610, 'shrink': 751, 'similarity': 'cosine'} - results:\n",
      "CUTOFF: 10 - ROC_AUC: 0.1160801, PRECISION: 0.0224885, PRECISION_RECALL_MIN_DEN: 0.0858756, RECALL: 0.0840202, MAP: 0.0394433, MRR: 0.0836576, NDCG: 0.0599826, F1: 0.0354805, HIT_RATE: 0.2248852, ARHR: 0.0929406, NOVELTY: 0.0047683, AVERAGE_POPULARITY: 0.1306863, DIVERSITY_MEAN_INTER_LIST: 0.9734667, DIVERSITY_HERFINDAHL: 0.9973272, COVERAGE_ITEM: 0.3867180, COVERAGE_ITEM_CORRECT: 0.0222137, COVERAGE_USER: 0.6300491, COVERAGE_USER_CORRECT: 0.1142570, DIVERSITY_GINI: 0.1095514, SHANNON_ENTROPY: 10.7883038, \n",
      "\n",
      "\n",
      "DataIO: Json dumps supports only 'str' as dictionary keys. Transforming keys to string, note that this will alter the mapper content.\n",
      "Iteration No: 1 ended. Evaluation done at random point.\n",
      "Time taken: 16.4421\n",
      "Function value obtained: -0.0388\n",
      "Current minimum: -0.0388\n",
      "Iteration No: 2 started. Evaluating function at random point.\n",
      "SearchBayesianSkopt: Testing config: {'knn': 367, 'shrink': 369, 'similarity': 'jaccard'}\n",
      "Similarity column 25975 ( 100 % ), 2980.58 column/sec, elapsed time 0.15 min\n",
      "EvaluatorHoldout: Processed 4643 ( 100.00% ) in 2.68 sec. Users per second: 1731\n",
      "SearchBayesianSkopt: Config 1 is suboptimal. Config: {'knn': 367, 'shrink': 369, 'similarity': 'jaccard'} - results: ROC_AUC: 0.1069339, PRECISION: 0.0208055, PRECISION_RECALL_MIN_DEN: 0.0861165, RECALL: 0.0844180, MAP: 0.0386640, MRR: 0.0753822, NDCG: 0.0580969, F1: 0.0333834, HIT_RATE: 0.2080551, ARHR: 0.0823311, NOVELTY: 0.0048086, AVERAGE_POPULARITY: 0.1155440, DIVERSITY_MEAN_INTER_LIST: 0.9785734, DIVERSITY_HERFINDAHL: 0.9978363, COVERAGE_ITEM: 0.3825602, COVERAGE_ITEM_CORRECT: 0.0189028, COVERAGE_USER: 0.5842456, COVERAGE_USER_CORRECT: 0.1002894, DIVERSITY_GINI: 0.1136153, SHANNON_ENTROPY: 10.9497296, \n",
      "\n",
      "Iteration No: 2 ended. Evaluation done at random point.\n",
      "Time taken: 13.5657\n",
      "Function value obtained: -0.0387\n",
      "Current minimum: -0.0388\n",
      "Iteration No: 3 started. Evaluating function at random point.\n",
      "SearchBayesianSkopt: Testing config: {'knn': 266, 'shrink': 501, 'similarity': 'jaccard'}\n",
      "Similarity column 25975 ( 100 % ), 2867.24 column/sec, elapsed time 0.15 min\n",
      "EvaluatorHoldout: Processed 4643 ( 100.00% ) in 2.48 sec. Users per second: 1873\n",
      "SearchBayesianSkopt: Config 2 is suboptimal. Config: {'knn': 266, 'shrink': 501, 'similarity': 'jaccard'} - results: ROC_AUC: 0.1058282, PRECISION: 0.0205255, PRECISION_RECALL_MIN_DEN: 0.0850349, RECALL: 0.0833799, MAP: 0.0383683, MRR: 0.0752097, NDCG: 0.0575613, F1: 0.0329418, HIT_RATE: 0.2052552, ARHR: 0.0823191, NOVELTY: 0.0048092, AVERAGE_POPULARITY: 0.1181676, DIVERSITY_MEAN_INTER_LIST: 0.9778925, DIVERSITY_HERFINDAHL: 0.9977682, COVERAGE_ITEM: 0.3889894, COVERAGE_ITEM_CORRECT: 0.0187103, COVERAGE_USER: 0.5842456, COVERAGE_USER_CORRECT: 0.0987794, DIVERSITY_GINI: 0.1164664, SHANNON_ENTROPY: 10.9555871, \n",
      "\n",
      "Iteration No: 3 ended. Evaluation done at random point.\n",
      "Time taken: 13.3388\n",
      "Function value obtained: -0.0384\n",
      "Current minimum: -0.0388\n",
      "Iteration No: 4 started. Evaluating function at random point.\n",
      "SearchBayesianSkopt: Testing config: {'knn': 226, 'shrink': 650, 'similarity': 'jaccard'}\n",
      "Similarity column 25975 ( 100 % ), 3064.50 column/sec, elapsed time 0.14 min\n",
      "EvaluatorHoldout: Processed 4643 ( 100.00% ) in 2.54 sec. Users per second: 1828\n",
      "SearchBayesianSkopt: New best config found. Config 3: {'knn': 226, 'shrink': 650, 'similarity': 'jaccard'} - results: ROC_AUC: 0.1066339, PRECISION: 0.0206117, PRECISION_RECALL_MIN_DEN: 0.0857070, RECALL: 0.0840014, MAP: 0.0392504, MRR: 0.0764757, NDCG: 0.0584096, F1: 0.0331012, HIT_RATE: 0.2061167, ARHR: 0.0835497, NOVELTY: 0.0048085, AVERAGE_POPULARITY: 0.1193696, DIVERSITY_MEAN_INTER_LIST: 0.9775107, DIVERSITY_HERFINDAHL: 0.9977300, COVERAGE_ITEM: 0.3912223, COVERAGE_ITEM_CORRECT: 0.0184408, COVERAGE_USER: 0.5842456, COVERAGE_USER_CORRECT: 0.0992827, DIVERSITY_GINI: 0.1176499, SHANNON_ENTROPY: 10.9551135, \n",
      "\n",
      "EvaluatorHoldout: Processed 5007 ( 100.00% ) in 2.66 sec. Users per second: 1885\n",
      "SearchBayesianSkopt: Best config evaluated with evaluator_test. Config: {'knn': 226, 'shrink': 650, 'similarity': 'jaccard'} - results:\n",
      "CUTOFF: 10 - ROC_AUC: 0.1171844, PRECISION: 0.0227082, PRECISION_RECALL_MIN_DEN: 0.0864319, RECALL: 0.0845098, MAP: 0.0392597, MRR: 0.0850543, NDCG: 0.0601718, F1: 0.0357975, HIT_RATE: 0.2270821, ARHR: 0.0939053, NOVELTY: 0.0048235, AVERAGE_POPULARITY: 0.1177701, DIVERSITY_MEAN_INTER_LIST: 0.9781863, DIVERSITY_HERFINDAHL: 0.9977991, COVERAGE_ITEM: 0.4058133, COVERAGE_ITEM_CORRECT: 0.0229066, COVERAGE_USER: 0.6300491, COVERAGE_USER_CORRECT: 0.1163961, DIVERSITY_GINI: 0.1218249, SHANNON_ENTROPY: 11.0159577, \n",
      "\n",
      "\n",
      "Iteration No: 4 ended. Evaluation done at random point.\n",
      "Time taken: 15.3749\n",
      "Function value obtained: -0.0393\n",
      "Current minimum: -0.0393\n",
      "Iteration No: 5 started. Evaluating function at random point.\n",
      "SearchBayesianSkopt: Testing config: {'knn': 912, 'shrink': 644, 'similarity': 'cosine'}\n",
      "Similarity column 25975 ( 100 % ), 2615.23 column/sec, elapsed time 0.17 min\n",
      "EvaluatorHoldout: Processed 4643 ( 100.00% ) in 2.76 sec. Users per second: 1683\n",
      "SearchBayesianSkopt: Config 4 is suboptimal. Config: {'knn': 912, 'shrink': 644, 'similarity': 'cosine'} - results: ROC_AUC: 0.1053799, PRECISION: 0.0200948, PRECISION_RECALL_MIN_DEN: 0.0849489, RECALL: 0.0833551, MAP: 0.0383535, MRR: 0.0743180, NDCG: 0.0573949, F1: 0.0323829, HIT_RATE: 0.2009477, ARHR: 0.0806462, NOVELTY: 0.0047393, AVERAGE_POPULARITY: 0.1335411, DIVERSITY_MEAN_INTER_LIST: 0.9723410, DIVERSITY_HERFINDAHL: 0.9972132, COVERAGE_ITEM: 0.3643118, COVERAGE_ITEM_CORRECT: 0.0175938, COVERAGE_USER: 0.5842456, COVERAGE_USER_CORRECT: 0.0981502, DIVERSITY_GINI: 0.1013034, SHANNON_ENTROPY: 10.6630159, \n",
      "\n",
      "Iteration No: 5 ended. Evaluation done at random point.\n",
      "Time taken: 15.9999\n",
      "Function value obtained: -0.0384\n",
      "Current minimum: -0.0393\n",
      "Iteration No: 6 started. Evaluating function at random point.\n",
      "SearchBayesianSkopt: Testing config: {'knn': 83, 'shrink': 750, 'similarity': 'jaccard'}\n",
      "Similarity column 25975 ( 100 % ), 3414.45 column/sec, elapsed time 0.13 min\n",
      "EvaluatorHoldout: Processed 4643 ( 100.00% ) in 2.43 sec. Users per second: 1909\n",
      "SearchBayesianSkopt: Config 5 is suboptimal. Config: {'knn': 83, 'shrink': 750, 'similarity': 'jaccard'} - results: ROC_AUC: 0.1068527, PRECISION: 0.0205255, PRECISION_RECALL_MIN_DEN: 0.0853751, RECALL: 0.0836010, MAP: 0.0387397, MRR: 0.0746389, NDCG: 0.0577985, F1: 0.0329590, HIT_RATE: 0.2052552, ARHR: 0.0814167, NOVELTY: 0.0048553, AVERAGE_POPULARITY: 0.1132220, DIVERSITY_MEAN_INTER_LIST: 0.9798281, DIVERSITY_HERFINDAHL: 0.9979617, COVERAGE_ITEM: 0.4025024, COVERAGE_ITEM_CORRECT: 0.0190183, COVERAGE_USER: 0.5842456, COVERAGE_USER_CORRECT: 0.0995344, DIVERSITY_GINI: 0.1259450, SHANNON_ENTROPY: 11.1003862, \n",
      "\n",
      "Iteration No: 6 ended. Evaluation done at random point.\n",
      "Time taken: 10.9261\n",
      "Function value obtained: -0.0387\n",
      "Current minimum: -0.0393\n",
      "Iteration No: 7 started. Evaluating function at random point.\n",
      "SearchBayesianSkopt: Testing config: {'knn': 737, 'shrink': 729, 'similarity': 'jaccard'}\n",
      "Similarity column 25975 ( 100 % ), 2857.78 column/sec, elapsed time 0.15 min\n"
     ]
    },
    {
     "name": "stdout",
     "output_type": "stream",
     "text": [
      "EvaluatorHoldout: Processed 4643 ( 100.00% ) in 2.65 sec. Users per second: 1750\n",
      "SearchBayesianSkopt: Config 6 is suboptimal. Config: {'knn': 737, 'shrink': 729, 'similarity': 'jaccard'} - results: ROC_AUC: 0.1057792, PRECISION: 0.0202886, PRECISION_RECALL_MIN_DEN: 0.0854234, RECALL: 0.0838883, MAP: 0.0386805, MRR: 0.0750774, NDCG: 0.0578340, F1: 0.0326747, HIT_RATE: 0.2028861, ARHR: 0.0814757, NOVELTY: 0.0047576, AVERAGE_POPULARITY: 0.1267069, DIVERSITY_MEAN_INTER_LIST: 0.9747386, DIVERSITY_HERFINDAHL: 0.9974529, COVERAGE_ITEM: 0.3683542, COVERAGE_ITEM_CORRECT: 0.0182483, COVERAGE_USER: 0.5842456, COVERAGE_USER_CORRECT: 0.0984019, DIVERSITY_GINI: 0.1038075, SHANNON_ENTROPY: 10.7439411, \n",
      "\n",
      "Iteration No: 7 ended. Evaluation done at random point.\n",
      "Time taken: 14.7364\n",
      "Function value obtained: -0.0387\n",
      "Current minimum: -0.0393\n",
      "Iteration No: 8 started. Evaluating function at random point.\n",
      "SearchBayesianSkopt: Testing config: {'knn': 854, 'shrink': 389, 'similarity': 'jaccard'}\n",
      "Similarity column 25975 ( 100 % ), 2865.12 column/sec, elapsed time 0.15 min\n",
      "EvaluatorHoldout: Processed 4643 ( 100.00% ) in 2.70 sec. Users per second: 1721\n",
      "SearchBayesianSkopt: Config 7 is suboptimal. Config: {'knn': 854, 'shrink': 389, 'similarity': 'jaccard'} - results: ROC_AUC: 0.1069125, PRECISION: 0.0204609, PRECISION_RECALL_MIN_DEN: 0.0859416, RECALL: 0.0843505, MAP: 0.0385567, MRR: 0.0758787, NDCG: 0.0579777, F1: 0.0329332, HIT_RATE: 0.2046091, ARHR: 0.0823180, NOVELTY: 0.0047723, AVERAGE_POPULARITY: 0.1199668, DIVERSITY_MEAN_INTER_LIST: 0.9771281, DIVERSITY_HERFINDAHL: 0.9976918, COVERAGE_ITEM: 0.3680077, COVERAGE_ITEM_CORRECT: 0.0187488, COVERAGE_USER: 0.5842456, COVERAGE_USER_CORRECT: 0.0996602, DIVERSITY_GINI: 0.1042721, SHANNON_ENTROPY: 10.8025710, \n",
      "\n",
      "Iteration No: 8 ended. Evaluation done at random point.\n",
      "Time taken: 14.9773\n",
      "Function value obtained: -0.0386\n",
      "Current minimum: -0.0393\n",
      "Iteration No: 9 started. Evaluating function at random point.\n",
      "SearchBayesianSkopt: Testing config: {'knn': 620, 'shrink': 110, 'similarity': 'jaccard'}\n",
      "Similarity column 25975 ( 100 % ), 3001.40 column/sec, elapsed time 0.14 min\n",
      "EvaluatorHoldout: Processed 4643 ( 100.00% ) in 2.68 sec. Users per second: 1731\n",
      "SearchBayesianSkopt: Config 8 is suboptimal. Config: {'knn': 620, 'shrink': 110, 'similarity': 'jaccard'} - results: ROC_AUC: 0.1071681, PRECISION: 0.0205040, PRECISION_RECALL_MIN_DEN: 0.0857094, RECALL: 0.0841798, MAP: 0.0387238, MRR: 0.0762333, NDCG: 0.0581494, F1: 0.0329759, HIT_RATE: 0.2050398, ARHR: 0.0830527, NOVELTY: 0.0048711, AVERAGE_POPULARITY: 0.0973374, DIVERSITY_MEAN_INTER_LIST: 0.9848122, DIVERSITY_HERFINDAHL: 0.9984600, COVERAGE_ITEM: 0.3840616, COVERAGE_ITEM_CORRECT: 0.0207892, COVERAGE_USER: 0.5842456, COVERAGE_USER_CORRECT: 0.0986536, DIVERSITY_GINI: 0.1176785, SHANNON_ENTROPY: 11.2122369, \n",
      "\n",
      "Iteration No: 9 ended. Evaluation done at random point.\n",
      "Time taken: 14.0962\n",
      "Function value obtained: -0.0387\n",
      "Current minimum: -0.0393\n",
      "Iteration No: 10 started. Evaluating function at random point.\n",
      "SearchBayesianSkopt: Testing config: {'knn': 385, 'shrink': 932, 'similarity': 'cosine'}\n",
      "Similarity column 25975 ( 100 % ), 3235.51 column/sec, elapsed time 0.13 min\n",
      "EvaluatorHoldout: Processed 4643 ( 100.00% ) in 2.54 sec. Users per second: 1825\n",
      "SearchBayesianSkopt: Config 9 is suboptimal. Config: {'knn': 385, 'shrink': 932, 'similarity': 'cosine'} - results: ROC_AUC: 0.1072896, PRECISION: 0.0206332, PRECISION_RECALL_MIN_DEN: 0.0861657, RECALL: 0.0845351, MAP: 0.0390981, MRR: 0.0762678, NDCG: 0.0584794, F1: 0.0331703, HIT_RATE: 0.2063321, ARHR: 0.0829871, NOVELTY: 0.0047747, AVERAGE_POPULARITY: 0.1294514, DIVERSITY_MEAN_INTER_LIST: 0.9739082, DIVERSITY_HERFINDAHL: 0.9973698, COVERAGE_ITEM: 0.3793263, COVERAGE_ITEM_CORRECT: 0.0182868, COVERAGE_USER: 0.5842456, COVERAGE_USER_CORRECT: 0.1005411, DIVERSITY_GINI: 0.1104525, SHANNON_ENTROPY: 10.8059865, \n",
      "\n",
      "Iteration No: 10 ended. Evaluation done at random point.\n",
      "Time taken: 12.7828\n",
      "Function value obtained: -0.0391\n",
      "Current minimum: -0.0393\n",
      "Iteration No: 11 started. Evaluating function at random point.\n",
      "SearchBayesianSkopt: Testing config: {'knn': 487, 'shrink': 233, 'similarity': 'jaccard'}\n",
      "Similarity column 25975 ( 100 % ), 3001.83 column/sec, elapsed time 0.14 min\n",
      "EvaluatorHoldout: Processed 4643 ( 100.00% ) in 2.57 sec. Users per second: 1809\n",
      "SearchBayesianSkopt: Config 10 is suboptimal. Config: {'knn': 487, 'shrink': 233, 'similarity': 'jaccard'} - results: ROC_AUC: 0.1062643, PRECISION: 0.0208486, PRECISION_RECALL_MIN_DEN: 0.0866705, RECALL: 0.0850804, MAP: 0.0381025, MRR: 0.0744075, NDCG: 0.0578229, F1: 0.0334905, HIT_RATE: 0.2084859, ARHR: 0.0813909, NOVELTY: 0.0048184, AVERAGE_POPULARITY: 0.1106221, DIVERSITY_MEAN_INTER_LIST: 0.9803244, DIVERSITY_HERFINDAHL: 0.9980113, COVERAGE_ITEM: 0.3788258, COVERAGE_ITEM_CORRECT: 0.0196728, COVERAGE_USER: 0.5842456, COVERAGE_USER_CORRECT: 0.1004153, DIVERSITY_GINI: 0.1121408, SHANNON_ENTROPY: 10.9940908, \n",
      "\n",
      "Iteration No: 11 ended. Evaluation done at random point.\n",
      "Time taken: 13.6924\n",
      "Function value obtained: -0.0381\n",
      "Current minimum: -0.0393\n",
      "Iteration No: 12 started. Evaluating function at random point.\n",
      "SearchBayesianSkopt: Testing config: {'knn': 162, 'shrink': 441, 'similarity': 'jaccard'}\n",
      "Similarity column 25975 ( 100 % ), 3325.90 column/sec, elapsed time 0.13 min\n",
      "EvaluatorHoldout: Processed 4643 ( 100.00% ) in 2.38 sec. Users per second: 1955\n",
      "SearchBayesianSkopt: Config 11 is suboptimal. Config: {'knn': 162, 'shrink': 441, 'similarity': 'jaccard'} - results: ROC_AUC: 0.1071138, PRECISION: 0.0207409, PRECISION_RECALL_MIN_DEN: 0.0860929, RECALL: 0.0844290, MAP: 0.0382572, MRR: 0.0755913, NDCG: 0.0578074, F1: 0.0333010, HIT_RATE: 0.2074090, ARHR: 0.0827285, NOVELTY: 0.0048332, AVERAGE_POPULARITY: 0.1138313, DIVERSITY_MEAN_INTER_LIST: 0.9795863, DIVERSITY_HERFINDAHL: 0.9979375, COVERAGE_ITEM: 0.3917228, COVERAGE_ITEM_CORRECT: 0.0189798, COVERAGE_USER: 0.5842456, COVERAGE_USER_CORRECT: 0.1001636, DIVERSITY_GINI: 0.1194351, SHANNON_ENTROPY: 11.0328241, \n",
      "\n",
      "Iteration No: 12 ended. Evaluation done at random point.\n",
      "Time taken: 11.5331\n",
      "Function value obtained: -0.0383\n",
      "Current minimum: -0.0393\n",
      "Iteration No: 13 started. Evaluating function at random point.\n",
      "SearchBayesianSkopt: Testing config: {'knn': 416, 'shrink': 283, 'similarity': 'cosine'}\n",
      "Similarity column 25975 ( 100 % ), 3284.60 column/sec, elapsed time 0.13 min\n",
      "EvaluatorHoldout: Processed 4643 ( 100.00% ) in 2.56 sec. Users per second: 1814\n",
      "SearchBayesianSkopt: Config 12 is suboptimal. Config: {'knn': 416, 'shrink': 283, 'similarity': 'cosine'} - results: ROC_AUC: 0.1066294, PRECISION: 0.0205686, PRECISION_RECALL_MIN_DEN: 0.0850078, RECALL: 0.0833083, MAP: 0.0386736, MRR: 0.0758672, NDCG: 0.0578404, F1: 0.0329916, HIT_RATE: 0.2056860, ARHR: 0.0826214, NOVELTY: 0.0047848, AVERAGE_POPULARITY: 0.1241643, DIVERSITY_MEAN_INTER_LIST: 0.9759124, DIVERSITY_HERFINDAHL: 0.9975702, COVERAGE_ITEM: 0.3790568, COVERAGE_ITEM_CORRECT: 0.0181713, COVERAGE_USER: 0.5842456, COVERAGE_USER_CORRECT: 0.0995344, DIVERSITY_GINI: 0.1103842, SHANNON_ENTROPY: 10.8482412, \n",
      "\n",
      "Iteration No: 13 ended. Evaluation done at random point.\n",
      "Time taken: 12.7605\n",
      "Function value obtained: -0.0387\n",
      "Current minimum: -0.0393\n",
      "Iteration No: 14 started. Evaluating function at random point.\n",
      "SearchBayesianSkopt: Testing config: {'knn': 324, 'shrink': 928, 'similarity': 'jaccard'}\n",
      "Similarity column 25975 ( 100 % ), 3199.20 column/sec, elapsed time 0.14 min\n",
      "EvaluatorHoldout: Processed 4643 ( 100.00% ) in 2.51 sec. Users per second: 1850\n",
      "SearchBayesianSkopt: Config 13 is suboptimal. Config: {'knn': 324, 'shrink': 928, 'similarity': 'jaccard'} - results: ROC_AUC: 0.1073614, PRECISION: 0.0206763, PRECISION_RECALL_MIN_DEN: 0.0863221, RECALL: 0.0846413, MAP: 0.0390093, MRR: 0.0760969, NDCG: 0.0583758, F1: 0.0332341, HIT_RATE: 0.2067629, ARHR: 0.0828766, NOVELTY: 0.0047866, AVERAGE_POPULARITY: 0.1245722, DIVERSITY_MEAN_INTER_LIST: 0.9755264, DIVERSITY_HERFINDAHL: 0.9975316, COVERAGE_ITEM: 0.3843696, COVERAGE_ITEM_CORRECT: 0.0184023, COVERAGE_USER: 0.5842456, COVERAGE_USER_CORRECT: 0.1006669, DIVERSITY_GINI: 0.1131850, SHANNON_ENTROPY: 10.8638546, \n",
      "\n",
      "Iteration No: 14 ended. Evaluation done at random point.\n"
     ]
    },
    {
     "name": "stdout",
     "output_type": "stream",
     "text": [
      "Time taken: 12.6421\n",
      "Function value obtained: -0.0390\n",
      "Current minimum: -0.0393\n",
      "Iteration No: 15 started. Evaluating function at random point.\n",
      "SearchBayesianSkopt: Testing config: {'knn': 966, 'shrink': 234, 'similarity': 'jaccard'}\n",
      "Similarity column 25975 ( 100 % ), 2883.68 column/sec, elapsed time 0.15 min\n",
      "EvaluatorHoldout: Processed 4643 ( 100.00% ) in 2.81 sec. Users per second: 1650\n",
      "SearchBayesianSkopt: Config 14 is suboptimal. Config: {'knn': 966, 'shrink': 234, 'similarity': 'jaccard'} - results: ROC_AUC: 0.1059010, PRECISION: 0.0203317, PRECISION_RECALL_MIN_DEN: 0.0848523, RECALL: 0.0832398, MAP: 0.0380768, MRR: 0.0743480, NDCG: 0.0572509, F1: 0.0326809, HIT_RATE: 0.2033168, ARHR: 0.0808713, NOVELTY: 0.0047929, AVERAGE_POPULARITY: 0.1131984, DIVERSITY_MEAN_INTER_LIST: 0.9793532, DIVERSITY_HERFINDAHL: 0.9979142, COVERAGE_ITEM: 0.3683927, COVERAGE_ITEM_CORRECT: 0.0190183, COVERAGE_USER: 0.5842456, COVERAGE_USER_CORRECT: 0.0987794, DIVERSITY_GINI: 0.1056625, SHANNON_ENTROPY: 10.8861775, \n",
      "\n",
      "Iteration No: 15 ended. Evaluation done at random point.\n",
      "Time taken: 15.3268\n",
      "Function value obtained: -0.0381\n",
      "Current minimum: -0.0393\n",
      "Iteration No: 16 started. Searching for the next optimal point.\n",
      "SearchBayesianSkopt: Testing config: {'knn': 7, 'shrink': 15, 'similarity': 'cosine'}\n",
      "Similarity column 25975 ( 100 % ), 3857.29 column/sec, elapsed time 0.11 min\n",
      "EvaluatorHoldout: Processed 4643 ( 100.00% ) in 2.09 sec. Users per second: 2226\n",
      "SearchBayesianSkopt: Config 15 is suboptimal. Config: {'knn': 7, 'shrink': 15, 'similarity': 'cosine'} - results: ROC_AUC: 0.0949816, PRECISION: 0.0175964, PRECISION_RECALL_MIN_DEN: 0.0735100, RECALL: 0.0721254, MAP: 0.0334954, MRR: 0.0666397, NDCG: 0.0501277, F1: 0.0282907, HIT_RATE: 0.1759638, ARHR: 0.0717355, NOVELTY: 0.0051791, AVERAGE_POPULARITY: 0.0590358, DIVERSITY_MEAN_INTER_LIST: 0.9793355, DIVERSITY_HERFINDAHL: 0.9979125, COVERAGE_ITEM: 0.4082002, COVERAGE_ITEM_CORRECT: 0.0221367, COVERAGE_USER: 0.5842456, COVERAGE_USER_CORRECT: 0.0875802, DIVERSITY_GINI: 0.1520652, SHANNON_ENTROPY: 11.6216232, \n",
      "\n",
      "Iteration No: 16 ended. Search finished for the next optimal point.\n",
      "Time taken: 9.1190\n",
      "Function value obtained: -0.0335\n",
      "Current minimum: -0.0393\n",
      "Iteration No: 17 started. Searching for the next optimal point.\n",
      "SearchBayesianSkopt: Testing config: {'knn': 993, 'shrink': 983, 'similarity': 'cosine'}\n",
      "Similarity column 25975 ( 100 % ), 2946.88 column/sec, elapsed time 0.15 min\n",
      "EvaluatorHoldout: Processed 4643 ( 100.00% ) in 2.73 sec. Users per second: 1698\n",
      "SearchBayesianSkopt: Config 16 is suboptimal. Config: {'knn': 993, 'shrink': 983, 'similarity': 'cosine'} - results: ROC_AUC: 0.1048611, PRECISION: 0.0201594, PRECISION_RECALL_MIN_DEN: 0.0852965, RECALL: 0.0836726, MAP: 0.0382039, MRR: 0.0745440, NDCG: 0.0573600, F1: 0.0324907, HIT_RATE: 0.2015938, ARHR: 0.0808209, NOVELTY: 0.0047303, AVERAGE_POPULARITY: 0.1363987, DIVERSITY_MEAN_INTER_LIST: 0.9708931, DIVERSITY_HERFINDAHL: 0.9970684, COVERAGE_ITEM: 0.3629644, COVERAGE_ITEM_CORRECT: 0.0175553, COVERAGE_USER: 0.5842456, COVERAGE_USER_CORRECT: 0.0985277, DIVERSITY_GINI: 0.1004182, SHANNON_ENTROPY: 10.6266043, \n",
      "\n",
      "Iteration No: 17 ended. Search finished for the next optimal point.\n",
      "Time taken: 15.0746\n",
      "Function value obtained: -0.0382\n",
      "Current minimum: -0.0393\n",
      "Iteration No: 18 started. Searching for the next optimal point.\n",
      "SearchBayesianSkopt: Testing config: {'knn': 1000, 'shrink': 1000, 'similarity': 'jaccard'}\n",
      "Similarity column 25975 ( 100 % ), 2812.80 column/sec, elapsed time 0.15 min\n",
      "EvaluatorHoldout: Processed 4643 ( 100.00% ) in 2.76 sec. Users per second: 1681\n",
      "SearchBayesianSkopt: Config 17 is suboptimal. Config: {'knn': 1000, 'shrink': 1000, 'similarity': 'jaccard'} - results: ROC_AUC: 0.1050649, PRECISION: 0.0203101, PRECISION_RECALL_MIN_DEN: 0.0856689, RECALL: 0.0840522, MAP: 0.0383371, MRR: 0.0746530, NDCG: 0.0575783, F1: 0.0327151, HIT_RATE: 0.2031014, ARHR: 0.0811041, NOVELTY: 0.0047378, AVERAGE_POPULARITY: 0.1314540, DIVERSITY_MEAN_INTER_LIST: 0.9726135, DIVERSITY_HERFINDAHL: 0.9972404, COVERAGE_ITEM: 0.3632724, COVERAGE_ITEM_CORRECT: 0.0177478, COVERAGE_USER: 0.5842456, COVERAGE_USER_CORRECT: 0.0992827, DIVERSITY_GINI: 0.1008262, SHANNON_ENTROPY: 10.6611724, \n",
      "\n",
      "Iteration No: 18 ended. Search finished for the next optimal point.\n",
      "Time taken: 15.6014\n",
      "Function value obtained: -0.0383\n",
      "Current minimum: -0.0393\n",
      "Iteration No: 19 started. Searching for the next optimal point.\n",
      "SearchBayesianSkopt: Testing config: {'knn': 995, 'shrink': 2, 'similarity': 'cosine'}\n",
      "Similarity column 25975 ( 100 % ), 2983.48 column/sec, elapsed time 0.15 min\n",
      "EvaluatorHoldout: Processed 4643 ( 100.00% ) in 2.70 sec. Users per second: 1718\n",
      "SearchBayesianSkopt: Config 18 is suboptimal. Config: {'knn': 995, 'shrink': 2, 'similarity': 'cosine'} - results: ROC_AUC: 0.0738657, PRECISION: 0.0141503, PRECISION_RECALL_MIN_DEN: 0.0629441, RECALL: 0.0622641, MAP: 0.0266805, MRR: 0.0494504, NDCG: 0.0408219, F1: 0.0230600, HIT_RATE: 0.1415033, ARHR: 0.0534770, NOVELTY: 0.0055726, AVERAGE_POPULARITY: 0.0284652, DIVERSITY_MEAN_INTER_LIST: 0.9966509, DIVERSITY_HERFINDAHL: 0.9996436, COVERAGE_ITEM: 0.5356304, COVERAGE_ITEM_CORRECT: 0.0204427, COVERAGE_USER: 0.5842456, COVERAGE_USER_CORRECT: 0.0703410, DIVERSITY_GINI: 0.2645381, SHANNON_ENTROPY: 12.9136950, \n",
      "\n",
      "Iteration No: 19 ended. Search finished for the next optimal point.\n",
      "Time taken: 15.1162\n",
      "Function value obtained: -0.0267\n",
      "Current minimum: -0.0393\n",
      "Iteration No: 20 started. Searching for the next optimal point.\n",
      "SearchBayesianSkopt: Testing config: {'knn': 5, 'shrink': 1000, 'similarity': 'jaccard'}\n",
      "Similarity column 25975 ( 100 % ), 3591.59 column/sec, elapsed time 0.12 min\n",
      "EvaluatorHoldout: Processed 4643 ( 100.00% ) in 2.03 sec. Users per second: 2287\n",
      "SearchBayesianSkopt: Config 19 is suboptimal. Config: {'knn': 5, 'shrink': 1000, 'similarity': 'jaccard'} - results: ROC_AUC: 0.0913322, PRECISION: 0.0161964, PRECISION_RECALL_MIN_DEN: 0.0681508, RECALL: 0.0669248, MAP: 0.0323100, MRR: 0.0629552, NDCG: 0.0476565, F1: 0.0260810, HIT_RATE: 0.1619642, ARHR: 0.0669298, NOVELTY: 0.0050292, AVERAGE_POPULARITY: 0.0814814, DIVERSITY_MEAN_INTER_LIST: 0.9635695, DIVERSITY_HERFINDAHL: 0.9963362, COVERAGE_ITEM: 0.3519923, COVERAGE_ITEM_CORRECT: 0.0175938, COVERAGE_USER: 0.5842456, COVERAGE_USER_CORRECT: 0.0820435, DIVERSITY_GINI: 0.1067708, SHANNON_ENTROPY: 10.7855239, \n",
      "\n",
      "Iteration No: 20 ended. Search finished for the next optimal point.\n",
      "Time taken: 9.5259\n",
      "Function value obtained: -0.0323\n",
      "Current minimum: -0.0393\n",
      "Iteration No: 21 started. Searching for the next optimal point.\n",
      "SearchBayesianSkopt: Testing config: {'knn': 23, 'shrink': 984, 'similarity': 'cosine'}\n",
      "Similarity column 25975 ( 100 % ), 3484.07 column/sec, elapsed time 0.12 min\n",
      "EvaluatorHoldout: Processed 4643 ( 100.00% ) in 2.20 sec. Users per second: 2111\n",
      "SearchBayesianSkopt: Config 20 is suboptimal. Config: {'knn': 23, 'shrink': 984, 'similarity': 'cosine'} - results: ROC_AUC: 0.1045752, PRECISION: 0.0195348, PRECISION_RECALL_MIN_DEN: 0.0807683, RECALL: 0.0793529, MAP: 0.0384012, MRR: 0.0743230, NDCG: 0.0565713, F1: 0.0313516, HIT_RATE: 0.1953478, ARHR: 0.0804927, NOVELTY: 0.0049293, AVERAGE_POPULARITY: 0.1026418, DIVERSITY_MEAN_INTER_LIST: 0.9824347, DIVERSITY_HERFINDAHL: 0.9982223, COVERAGE_ITEM: 0.4132820, COVERAGE_ITEM_CORRECT: 0.0184023, COVERAGE_USER: 0.5842456, COVERAGE_USER_CORRECT: 0.0962627, DIVERSITY_GINI: 0.1371933, SHANNON_ENTROPY: 11.3113295, \n",
      "\n",
      "Iteration No: 21 ended. Search finished for the next optimal point.\n",
      "Time taken: 10.1773\n",
      "Function value obtained: -0.0384\n",
      "Current minimum: -0.0393\n",
      "Iteration No: 22 started. Searching for the next optimal point.\n",
      "SearchBayesianSkopt: Testing config: {'knn': 1000, 'shrink': 997, 'similarity': 'jaccard'}\n",
      "Similarity column 25975 ( 100 % ), 2852.10 column/sec, elapsed time 0.15 min\n",
      "EvaluatorHoldout: Processed 4643 ( 100.00% ) in 2.71 sec. Users per second: 1713\n",
      "SearchBayesianSkopt: Config 21 is suboptimal. Config: {'knn': 1000, 'shrink': 997, 'similarity': 'jaccard'} - results: ROC_AUC: 0.1050784, PRECISION: 0.0203101, PRECISION_RECALL_MIN_DEN: 0.0856689, RECALL: 0.0840522, MAP: 0.0383381, MRR: 0.0746560, NDCG: 0.0575798, F1: 0.0327151, HIT_RATE: 0.2031014, ARHR: 0.0811071, NOVELTY: 0.0047379, AVERAGE_POPULARITY: 0.1314189, DIVERSITY_MEAN_INTER_LIST: 0.9726257, DIVERSITY_HERFINDAHL: 0.9972416, COVERAGE_ITEM: 0.3632724, COVERAGE_ITEM_CORRECT: 0.0177478, COVERAGE_USER: 0.5842456, COVERAGE_USER_CORRECT: 0.0992827, DIVERSITY_GINI: 0.1008224, SHANNON_ENTROPY: 10.6613610, \n"
     ]
    },
    {
     "name": "stdout",
     "output_type": "stream",
     "text": [
      "\n",
      "Iteration No: 22 ended. Search finished for the next optimal point.\n",
      "Time taken: 15.3279\n",
      "Function value obtained: -0.0383\n",
      "Current minimum: -0.0393\n",
      "Iteration No: 23 started. Searching for the next optimal point.\n",
      "SearchBayesianSkopt: Testing config: {'knn': 5, 'shrink': 991, 'similarity': 'cosine'}\n",
      "Similarity column 25975 ( 100 % ), 3927.99 column/sec, elapsed time 0.11 min\n",
      "EvaluatorHoldout: Processed 4643 ( 100.00% ) in 2.09 sec. Users per second: 2226\n",
      "SearchBayesianSkopt: Config 22 is suboptimal. Config: {'knn': 5, 'shrink': 991, 'similarity': 'cosine'} - results: ROC_AUC: 0.0908392, PRECISION: 0.0161749, PRECISION_RECALL_MIN_DEN: 0.0680541, RECALL: 0.0668216, MAP: 0.0321699, MRR: 0.0624353, NDCG: 0.0474927, F1: 0.0260452, HIT_RATE: 0.1617489, ARHR: 0.0663495, NOVELTY: 0.0050322, AVERAGE_POPULARITY: 0.0816747, DIVERSITY_MEAN_INTER_LIST: 0.9633780, DIVERSITY_HERFINDAHL: 0.9963170, COVERAGE_ITEM: 0.3517613, COVERAGE_ITEM_CORRECT: 0.0174783, COVERAGE_USER: 0.5842456, COVERAGE_USER_CORRECT: 0.0820435, DIVERSITY_GINI: 0.1069203, SHANNON_ENTROPY: 10.7826903, \n",
      "\n",
      "Iteration No: 23 ended. Search finished for the next optimal point.\n",
      "Time taken: 8.9784\n",
      "Function value obtained: -0.0322\n",
      "Current minimum: -0.0393\n",
      "Iteration No: 24 started. Searching for the next optimal point.\n",
      "SearchBayesianSkopt: Testing config: {'knn': 999, 'shrink': 16, 'similarity': 'jaccard'}\n",
      "Similarity column 25975 ( 100 % ), 2734.31 column/sec, elapsed time 0.16 min\n",
      "EvaluatorHoldout: Processed 4643 ( 100.00% ) in 2.74 sec. Users per second: 1692\n",
      "SearchBayesianSkopt: Config 23 is suboptimal. Config: {'knn': 999, 'shrink': 16, 'similarity': 'jaccard'} - results: ROC_AUC: 0.0958391, PRECISION: 0.0191471, PRECISION_RECALL_MIN_DEN: 0.0825109, RECALL: 0.0812444, MAP: 0.0344096, MRR: 0.0662506, NDCG: 0.0531336, F1: 0.0309906, HIT_RATE: 0.1914710, ARHR: 0.0714359, NOVELTY: 0.0051645, AVERAGE_POPULARITY: 0.0560911, DIVERSITY_MEAN_INTER_LIST: 0.9937361, DIVERSITY_HERFINDAHL: 0.9993522, COVERAGE_ITEM: 0.4522040, COVERAGE_ITEM_CORRECT: 0.0233686, COVERAGE_USER: 0.5842456, COVERAGE_USER_CORRECT: 0.0947527, DIVERSITY_GINI: 0.1802645, SHANNON_ENTROPY: 12.2004788, \n",
      "\n",
      "Iteration No: 24 ended. Search finished for the next optimal point.\n",
      "Time taken: 15.8415\n",
      "Function value obtained: -0.0344\n",
      "Current minimum: -0.0393\n",
      "Iteration No: 25 started. Searching for the next optimal point.\n",
      "SearchBayesianSkopt: Testing config: {'knn': 13, 'shrink': 10, 'similarity': 'cosine'}\n",
      "Similarity column 25975 ( 100 % ), 3833.91 column/sec, elapsed time 0.11 min\n",
      "EvaluatorHoldout: Processed 4643 ( 100.00% ) in 2.07 sec. Users per second: 2244\n",
      "SearchBayesianSkopt: Config 24 is suboptimal. Config: {'knn': 13, 'shrink': 10, 'similarity': 'cosine'} - results: ROC_AUC: 0.0997078, PRECISION: 0.0189963, PRECISION_RECALL_MIN_DEN: 0.0791759, RECALL: 0.0776711, MAP: 0.0348666, MRR: 0.0702779, NDCG: 0.0530560, F1: 0.0305267, HIT_RATE: 0.1899634, ARHR: 0.0763625, NOVELTY: 0.0052379, AVERAGE_POPULARITY: 0.0550129, DIVERSITY_MEAN_INTER_LIST: 0.9900722, DIVERSITY_HERFINDAHL: 0.9989859, COVERAGE_ITEM: 0.4603272, COVERAGE_ITEM_CORRECT: 0.0241386, COVERAGE_USER: 0.5842456, COVERAGE_USER_CORRECT: 0.0931169, DIVERSITY_GINI: 0.1936447, SHANNON_ENTROPY: 12.1819193, \n",
      "\n",
      "Iteration No: 25 ended. Search finished for the next optimal point.\n",
      "Time taken: 9.2537\n",
      "Function value obtained: -0.0349\n",
      "Current minimum: -0.0393\n",
      "Iteration No: 26 started. Searching for the next optimal point.\n",
      "SearchBayesianSkopt: Testing config: {'knn': 993, 'shrink': 995, 'similarity': 'cosine'}\n",
      "Similarity column 25975 ( 100 % ), 3004.04 column/sec, elapsed time 0.14 min\n",
      "EvaluatorHoldout: Processed 4643 ( 100.00% ) in 2.73 sec. Users per second: 1702\n",
      "SearchBayesianSkopt: Config 25 is suboptimal. Config: {'knn': 993, 'shrink': 995, 'similarity': 'cosine'} - results: ROC_AUC: 0.1048372, PRECISION: 0.0201809, PRECISION_RECALL_MIN_DEN: 0.0853683, RECALL: 0.0837444, MAP: 0.0382103, MRR: 0.0745617, NDCG: 0.0573879, F1: 0.0325241, HIT_RATE: 0.2018092, ARHR: 0.0808386, NOVELTY: 0.0047302, AVERAGE_POPULARITY: 0.1364355, DIVERSITY_MEAN_INTER_LIST: 0.9708811, DIVERSITY_HERFINDAHL: 0.9970672, COVERAGE_ITEM: 0.3629644, COVERAGE_ITEM_CORRECT: 0.0175553, COVERAGE_USER: 0.5842456, COVERAGE_USER_CORRECT: 0.0986536, DIVERSITY_GINI: 0.1004169, SHANNON_ENTROPY: 10.6263574, \n",
      "\n",
      "Iteration No: 26 ended. Search finished for the next optimal point.\n",
      "Time taken: 15.0352\n",
      "Function value obtained: -0.0382\n",
      "Current minimum: -0.0393\n",
      "Iteration No: 27 started. Searching for the next optimal point.\n",
      "SearchBayesianSkopt: Testing config: {'knn': 978, 'shrink': 996, 'similarity': 'jaccard'}\n",
      "Similarity column 25975 ( 100 % ), 2735.77 column/sec, elapsed time 0.16 min\n",
      "EvaluatorHoldout: Processed 4643 ( 100.00% ) in 2.73 sec. Users per second: 1700\n",
      "SearchBayesianSkopt: Config 26 is suboptimal. Config: {'knn': 978, 'shrink': 996, 'similarity': 'jaccard'} - results: ROC_AUC: 0.1050743, PRECISION: 0.0202671, PRECISION_RECALL_MIN_DEN: 0.0858520, RECALL: 0.0842753, MAP: 0.0383425, MRR: 0.0744736, NDCG: 0.0576113, F1: 0.0326760, HIT_RATE: 0.2026707, ARHR: 0.0808550, NOVELTY: 0.0047393, AVERAGE_POPULARITY: 0.1311241, DIVERSITY_MEAN_INTER_LIST: 0.9728018, DIVERSITY_HERFINDAHL: 0.9972592, COVERAGE_ITEM: 0.3636189, COVERAGE_ITEM_CORRECT: 0.0177478, COVERAGE_USER: 0.5842456, COVERAGE_USER_CORRECT: 0.0992827, DIVERSITY_GINI: 0.1010248, SHANNON_ENTROPY: 10.6678926, \n",
      "\n",
      "Iteration No: 27 ended. Search finished for the next optimal point.\n",
      "Time taken: 15.7097\n",
      "Function value obtained: -0.0383\n",
      "Current minimum: -0.0393\n",
      "Iteration No: 28 started. Searching for the next optimal point.\n",
      "SearchBayesianSkopt: Testing config: {'knn': 9, 'shrink': 992, 'similarity': 'jaccard'}\n",
      "Similarity column 25975 ( 100 % ), 3483.16 column/sec, elapsed time 0.12 min\n",
      "EvaluatorHoldout: Processed 4643 ( 100.00% ) in 2.02 sec. Users per second: 2295\n",
      "SearchBayesianSkopt: Config 27 is suboptimal. Config: {'knn': 9, 'shrink': 992, 'similarity': 'jaccard'} - results: ROC_AUC: 0.1006107, PRECISION: 0.0187810, PRECISION_RECALL_MIN_DEN: 0.0787450, RECALL: 0.0773519, MAP: 0.0355908, MRR: 0.0701453, NDCG: 0.0535391, F1: 0.0302237, HIT_RATE: 0.1878096, ARHR: 0.0753953, NOVELTY: 0.0049863, AVERAGE_POPULARITY: 0.0900316, DIVERSITY_MEAN_INTER_LIST: 0.9780305, DIVERSITY_HERFINDAHL: 0.9977820, COVERAGE_ITEM: 0.3912608, COVERAGE_ITEM_CORRECT: 0.0192878, COVERAGE_USER: 0.5842456, COVERAGE_USER_CORRECT: 0.0932427, DIVERSITY_GINI: 0.1272231, SHANNON_ENTROPY: 11.1773467, \n",
      "\n",
      "Iteration No: 28 ended. Search finished for the next optimal point.\n",
      "Time taken: 9.8272\n",
      "Function value obtained: -0.0356\n",
      "Current minimum: -0.0393\n",
      "Iteration No: 29 started. Searching for the next optimal point.\n"
     ]
    },
    {
     "name": "stderr",
     "output_type": "stream",
     "text": [
      "C:\\Users\\davel\\anaconda3\\envs\\RecSysFramework\\lib\\site-packages\\skopt\\optimizer\\optimizer.py:399: UserWarning: The objective has been evaluated at this point before.\n",
      "  warnings.warn(\"The objective has been evaluated \"\n"
     ]
    },
    {
     "name": "stdout",
     "output_type": "stream",
     "text": [
      "SearchBayesianSkopt: Testing config: {'knn': 1000, 'shrink': 1000, 'similarity': 'jaccard'}\n",
      "Similarity column 25975 ( 100 % ), 2982.52 column/sec, elapsed time 0.15 min\n",
      "EvaluatorHoldout: Processed 4643 ( 100.00% ) in 2.69 sec. Users per second: 1725\n",
      "SearchBayesianSkopt: Config 28 is suboptimal. Config: {'knn': 1000, 'shrink': 1000, 'similarity': 'jaccard'} - results: ROC_AUC: 0.1050649, PRECISION: 0.0203101, PRECISION_RECALL_MIN_DEN: 0.0856689, RECALL: 0.0840522, MAP: 0.0383371, MRR: 0.0746530, NDCG: 0.0575783, F1: 0.0327151, HIT_RATE: 0.2031014, ARHR: 0.0811041, NOVELTY: 0.0047378, AVERAGE_POPULARITY: 0.1314540, DIVERSITY_MEAN_INTER_LIST: 0.9726135, DIVERSITY_HERFINDAHL: 0.9972404, COVERAGE_ITEM: 0.3632724, COVERAGE_ITEM_CORRECT: 0.0177478, COVERAGE_USER: 0.5842456, COVERAGE_USER_CORRECT: 0.0992827, DIVERSITY_GINI: 0.1008262, SHANNON_ENTROPY: 10.6611724, \n",
      "\n",
      "Iteration No: 29 ended. Search finished for the next optimal point.\n",
      "Time taken: 15.0188\n",
      "Function value obtained: -0.0383\n",
      "Current minimum: -0.0393\n",
      "Iteration No: 30 started. Searching for the next optimal point.\n",
      "SearchBayesianSkopt: Testing config: {'knn': 995, 'shrink': 18, 'similarity': 'cosine'}\n",
      "Similarity column 25975 ( 100 % ), 3075.60 column/sec, elapsed time 0.14 min\n",
      "EvaluatorHoldout: Processed 4643 ( 100.00% ) in 2.82 sec. Users per second: 1649\n",
      "SearchBayesianSkopt: Config 29 is suboptimal. Config: {'knn': 995, 'shrink': 18, 'similarity': 'cosine'} - results: ROC_AUC: 0.1040720, PRECISION: 0.0203101, PRECISION_RECALL_MIN_DEN: 0.0846018, RECALL: 0.0830893, MAP: 0.0372974, MRR: 0.0740728, NDCG: 0.0566681, F1: 0.0326415, HIT_RATE: 0.2031014, ARHR: 0.0801108, NOVELTY: 0.0050012, AVERAGE_POPULARITY: 0.0764421, DIVERSITY_MEAN_INTER_LIST: 0.9902019, DIVERSITY_HERFINDAHL: 0.9989989, COVERAGE_ITEM: 0.4105101, COVERAGE_ITEM_CORRECT: 0.0222522, COVERAGE_USER: 0.5842456, COVERAGE_USER_CORRECT: 0.0990311, DIVERSITY_GINI: 0.1418003, SHANNON_ENTROPY: 11.6949974, \n",
      "\n",
      "Iteration No: 30 ended. Search finished for the next optimal point.\n",
      "Time taken: 14.8431\n",
      "Function value obtained: -0.0373\n",
      "Current minimum: -0.0393\n",
      "Iteration No: 31 started. Searching for the next optimal point.\n"
     ]
    },
    {
     "name": "stderr",
     "output_type": "stream",
     "text": [
      "C:\\Users\\davel\\anaconda3\\envs\\RecSysFramework\\lib\\site-packages\\skopt\\optimizer\\optimizer.py:399: UserWarning: The objective has been evaluated at this point before.\n",
      "  warnings.warn(\"The objective has been evaluated \"\n"
     ]
    },
    {
     "name": "stdout",
     "output_type": "stream",
     "text": [
      "SearchBayesianSkopt: Testing config: {'knn': 1000, 'shrink': 1000, 'similarity': 'jaccard'}\n",
      "Similarity column 25975 ( 100 % ), 2952.99 column/sec, elapsed time 0.15 min\n",
      "EvaluatorHoldout: Processed 4643 ( 100.00% ) in 3.00 sec. Users per second: 1545\n",
      "SearchBayesianSkopt: Config 30 is suboptimal. Config: {'knn': 1000, 'shrink': 1000, 'similarity': 'jaccard'} - results: ROC_AUC: 0.1050649, PRECISION: 0.0203101, PRECISION_RECALL_MIN_DEN: 0.0856689, RECALL: 0.0840522, MAP: 0.0383371, MRR: 0.0746530, NDCG: 0.0575783, F1: 0.0327151, HIT_RATE: 0.2031014, ARHR: 0.0811041, NOVELTY: 0.0047378, AVERAGE_POPULARITY: 0.1314540, DIVERSITY_MEAN_INTER_LIST: 0.9726135, DIVERSITY_HERFINDAHL: 0.9972404, COVERAGE_ITEM: 0.3632724, COVERAGE_ITEM_CORRECT: 0.0177478, COVERAGE_USER: 0.5842456, COVERAGE_USER_CORRECT: 0.0992827, DIVERSITY_GINI: 0.1008262, SHANNON_ENTROPY: 10.6611724, \n",
      "\n",
      "Iteration No: 31 ended. Search finished for the next optimal point.\n",
      "Time taken: 15.4161\n",
      "Function value obtained: -0.0383\n",
      "Current minimum: -0.0393\n",
      "Iteration No: 32 started. Searching for the next optimal point.\n",
      "SearchBayesianSkopt: Testing config: {'knn': 10, 'shrink': 20, 'similarity': 'jaccard'}\n",
      "Similarity column 25975 ( 100 % ), 3378.68 column/sec, elapsed time 0.13 min\n",
      "EvaluatorHoldout: Processed 4643 ( 100.00% ) in 2.10 sec. Users per second: 2208\n",
      "SearchBayesianSkopt: Config 31 is suboptimal. Config: {'knn': 10, 'shrink': 20, 'similarity': 'jaccard'} - results: ROC_AUC: 0.1037442, PRECISION: 0.0195132, PRECISION_RECALL_MIN_DEN: 0.0807844, RECALL: 0.0792040, MAP: 0.0363790, MRR: 0.0719581, NDCG: 0.0546799, F1: 0.0313122, HIT_RATE: 0.1951325, ARHR: 0.0778802, NOVELTY: 0.0051852, AVERAGE_POPULARITY: 0.0597324, DIVERSITY_MEAN_INTER_LIST: 0.9863853, DIVERSITY_HERFINDAHL: 0.9986173, COVERAGE_ITEM: 0.4439654, COVERAGE_ITEM_CORRECT: 0.0241771, COVERAGE_USER: 0.5842456, COVERAGE_USER_CORRECT: 0.0962627, DIVERSITY_GINI: 0.1769513, SHANNON_ENTROPY: 11.9469820, \n",
      "\n",
      "Iteration No: 32 ended. Search finished for the next optimal point.\n",
      "Time taken: 10.1992\n",
      "Function value obtained: -0.0364\n",
      "Current minimum: -0.0393\n",
      "Iteration No: 33 started. Searching for the next optimal point.\n"
     ]
    },
    {
     "name": "stderr",
     "output_type": "stream",
     "text": [
      "C:\\Users\\davel\\anaconda3\\envs\\RecSysFramework\\lib\\site-packages\\skopt\\optimizer\\optimizer.py:399: UserWarning: The objective has been evaluated at this point before.\n",
      "  warnings.warn(\"The objective has been evaluated \"\n"
     ]
    },
    {
     "name": "stdout",
     "output_type": "stream",
     "text": [
      "SearchBayesianSkopt: Testing config: {'knn': 1000, 'shrink': 1000, 'similarity': 'jaccard'}\n",
      "Similarity column 25975 ( 100 % ), 2820.81 column/sec, elapsed time 0.15 min\n",
      "EvaluatorHoldout: Processed 4643 ( 100.00% ) in 2.73 sec. Users per second: 1700\n",
      "SearchBayesianSkopt: Config 32 is suboptimal. Config: {'knn': 1000, 'shrink': 1000, 'similarity': 'jaccard'} - results: ROC_AUC: 0.1050649, PRECISION: 0.0203101, PRECISION_RECALL_MIN_DEN: 0.0856689, RECALL: 0.0840522, MAP: 0.0383371, MRR: 0.0746530, NDCG: 0.0575783, F1: 0.0327151, HIT_RATE: 0.2031014, ARHR: 0.0811041, NOVELTY: 0.0047378, AVERAGE_POPULARITY: 0.1314540, DIVERSITY_MEAN_INTER_LIST: 0.9726135, DIVERSITY_HERFINDAHL: 0.9972404, COVERAGE_ITEM: 0.3632724, COVERAGE_ITEM_CORRECT: 0.0177478, COVERAGE_USER: 0.5842456, COVERAGE_USER_CORRECT: 0.0992827, DIVERSITY_GINI: 0.1008262, SHANNON_ENTROPY: 10.6611724, \n",
      "\n",
      "Iteration No: 33 ended. Search finished for the next optimal point.\n",
      "Time taken: 15.5415\n",
      "Function value obtained: -0.0383\n",
      "Current minimum: -0.0393\n",
      "Iteration No: 34 started. Searching for the next optimal point.\n"
     ]
    },
    {
     "name": "stderr",
     "output_type": "stream",
     "text": [
      "C:\\Users\\davel\\anaconda3\\envs\\RecSysFramework\\lib\\site-packages\\skopt\\optimizer\\optimizer.py:399: UserWarning: The objective has been evaluated at this point before.\n",
      "  warnings.warn(\"The objective has been evaluated \"\n"
     ]
    },
    {
     "name": "stdout",
     "output_type": "stream",
     "text": [
      "SearchBayesianSkopt: Testing config: {'knn': 1000, 'shrink': 1000, 'similarity': 'jaccard'}\n",
      "Similarity column 25975 ( 100 % ), 2540.31 column/sec, elapsed time 0.17 min\n",
      "EvaluatorHoldout: Processed 4643 ( 100.00% ) in 2.72 sec. Users per second: 1706\n",
      "SearchBayesianSkopt: Config 33 is suboptimal. Config: {'knn': 1000, 'shrink': 1000, 'similarity': 'jaccard'} - results: ROC_AUC: 0.1050649, PRECISION: 0.0203101, PRECISION_RECALL_MIN_DEN: 0.0856689, RECALL: 0.0840522, MAP: 0.0383371, MRR: 0.0746530, NDCG: 0.0575783, F1: 0.0327151, HIT_RATE: 0.2031014, ARHR: 0.0811041, NOVELTY: 0.0047378, AVERAGE_POPULARITY: 0.1314540, DIVERSITY_MEAN_INTER_LIST: 0.9726135, DIVERSITY_HERFINDAHL: 0.9972404, COVERAGE_ITEM: 0.3632724, COVERAGE_ITEM_CORRECT: 0.0177478, COVERAGE_USER: 0.5842456, COVERAGE_USER_CORRECT: 0.0992827, DIVERSITY_GINI: 0.1008262, SHANNON_ENTROPY: 10.6611724, \n",
      "\n",
      "Iteration No: 34 ended. Search finished for the next optimal point.\n",
      "Time taken: 16.5856\n",
      "Function value obtained: -0.0383\n",
      "Current minimum: -0.0393\n",
      "Iteration No: 35 started. Searching for the next optimal point.\n",
      "SearchBayesianSkopt: Testing config: {'knn': 10, 'shrink': 998, 'similarity': 'cosine'}\n",
      "Similarity column 25975 ( 100 % ), 3845.58 column/sec, elapsed time 0.11 min\n",
      "EvaluatorHoldout: Processed 4643 ( 100.00% ) in 2.08 sec. Users per second: 2230\n",
      "SearchBayesianSkopt: Config 34 is suboptimal. Config: {'knn': 10, 'shrink': 998, 'similarity': 'cosine'} - results: ROC_AUC: 0.1006412, PRECISION: 0.0189748, PRECISION_RECALL_MIN_DEN: 0.0798004, RECALL: 0.0783861, MAP: 0.0366875, MRR: 0.0719586, NDCG: 0.0547588, F1: 0.0305536, HIT_RATE: 0.1897480, ARHR: 0.0771908, NOVELTY: 0.0049819, AVERAGE_POPULARITY: 0.0915440, DIVERSITY_MEAN_INTER_LIST: 0.9792902, DIVERSITY_HERFINDAHL: 0.9979079, COVERAGE_ITEM: 0.3958807, COVERAGE_ITEM_CORRECT: 0.0194803, COVERAGE_USER: 0.5842456, COVERAGE_USER_CORRECT: 0.0939977, DIVERSITY_GINI: 0.1298900, SHANNON_ENTROPY: 11.2172782, \n",
      "\n",
      "Iteration No: 35 ended. Search finished for the next optimal point.\n",
      "Time taken: 9.2668\n",
      "Function value obtained: -0.0367\n",
      "Current minimum: -0.0393\n",
      "Iteration No: 36 started. Searching for the next optimal point.\n",
      "SearchBayesianSkopt: Testing config: {'knn': 1000, 'shrink': 7, 'similarity': 'cosine'}\n",
      "Similarity column 25975 ( 100 % ), 2948.51 column/sec, elapsed time 0.15 min\n",
      "EvaluatorHoldout: Processed 4643 ( 100.00% ) in 2.76 sec. Users per second: 1681\n",
      "SearchBayesianSkopt: Config 35 is suboptimal. Config: {'knn': 1000, 'shrink': 7, 'similarity': 'cosine'} - results: ROC_AUC: 0.0936905, PRECISION: 0.0181779, PRECISION_RECALL_MIN_DEN: 0.0783916, RECALL: 0.0771682, MAP: 0.0336747, MRR: 0.0646511, NDCG: 0.0512633, F1: 0.0294245, HIT_RATE: 0.1817790, ARHR: 0.0694279, NOVELTY: 0.0052302, AVERAGE_POPULARITY: 0.0514206, DIVERSITY_MEAN_INTER_LIST: 0.9945809, DIVERSITY_HERFINDAHL: 0.9994367, COVERAGE_ITEM: 0.4676420, COVERAGE_ITEM_CORRECT: 0.0227911, COVERAGE_USER: 0.5842456, COVERAGE_USER_CORRECT: 0.0906002, DIVERSITY_GINI: 0.1949487, SHANNON_ENTROPY: 12.3638734, \n",
      "\n",
      "Iteration No: 36 ended. Search finished for the next optimal point.\n",
      "Time taken: 15.3668\n",
      "Function value obtained: -0.0337\n",
      "Current minimum: -0.0393\n",
      "Iteration No: 37 started. Searching for the next optimal point.\n",
      "SearchBayesianSkopt: Testing config: {'knn': 18, 'shrink': 13, 'similarity': 'jaccard'}\n",
      "Similarity column 25975 ( 100 % ), 3316.23 column/sec, elapsed time 0.13 min\n",
      "EvaluatorHoldout: Processed 4643 ( 100.00% ) in 2.26 sec. Users per second: 2053\n",
      "SearchBayesianSkopt: Config 36 is suboptimal. Config: {'knn': 18, 'shrink': 13, 'similarity': 'jaccard'} - results: ROC_AUC: 0.1022465, PRECISION: 0.0197071, PRECISION_RECALL_MIN_DEN: 0.0809007, RECALL: 0.0792657, MAP: 0.0363779, MRR: 0.0709333, NDCG: 0.0546879, F1: 0.0315662, HIT_RATE: 0.1970709, ARHR: 0.0769088, NOVELTY: 0.0052593, AVERAGE_POPULARITY: 0.0537271, DIVERSITY_MEAN_INTER_LIST: 0.9922747, DIVERSITY_HERFINDAHL: 0.9992061, COVERAGE_ITEM: 0.4885082, COVERAGE_ITEM_CORRECT: 0.0248316, COVERAGE_USER: 0.5842456, COVERAGE_USER_CORRECT: 0.0970177, DIVERSITY_GINI: 0.2147563, SHANNON_ENTROPY: 12.3780631, \n",
      "\n",
      "Iteration No: 37 ended. Search finished for the next optimal point.\n",
      "Time taken: 10.6233\n",
      "Function value obtained: -0.0364\n",
      "Current minimum: -0.0393\n",
      "Iteration No: 38 started. Searching for the next optimal point.\n",
      "SearchBayesianSkopt: Testing config: {'knn': 21, 'shrink': 993, 'similarity': 'cosine'}\n",
      "Similarity column 25975 ( 100 % ), 3661.56 column/sec, elapsed time 0.12 min\n",
      "EvaluatorHoldout: Processed 4643 ( 100.00% ) in 2.15 sec. Users per second: 2156\n",
      "SearchBayesianSkopt: Config 37 is suboptimal. Config: {'knn': 21, 'shrink': 993, 'similarity': 'cosine'} - results: ROC_AUC: 0.1043058, PRECISION: 0.0193840, PRECISION_RECALL_MIN_DEN: 0.0807432, RECALL: 0.0793059, MAP: 0.0380096, MRR: 0.0734316, NDCG: 0.0561282, F1: 0.0311535, HIT_RATE: 0.1938402, ARHR: 0.0794348, NOVELTY: 0.0049353, AVERAGE_POPULARITY: 0.1013682, DIVERSITY_MEAN_INTER_LIST: 0.9825087, DIVERSITY_HERFINDAHL: 0.9982297, COVERAGE_ITEM: 0.4137055, COVERAGE_ITEM_CORRECT: 0.0185563, COVERAGE_USER: 0.5842456, COVERAGE_USER_CORRECT: 0.0958852, DIVERSITY_GINI: 0.1377627, SHANNON_ENTROPY: 11.3200011, \n",
      "\n",
      "Iteration No: 38 ended. Search finished for the next optimal point.\n",
      "Time taken: 9.8447\n",
      "Function value obtained: -0.0380\n",
      "Current minimum: -0.0393\n",
      "Iteration No: 39 started. Searching for the next optimal point.\n",
      "SearchBayesianSkopt: Testing config: {'knn': 7, 'shrink': 7, 'similarity': 'jaccard'}\n",
      "Similarity column 25975 ( 100 % ), 3444.55 column/sec, elapsed time 0.13 min\n",
      "EvaluatorHoldout: Processed 4643 ( 100.00% ) in 2.02 sec. Users per second: 2300\n",
      "SearchBayesianSkopt: Config 38 is suboptimal. Config: {'knn': 7, 'shrink': 7, 'similarity': 'jaccard'} - results: ROC_AUC: 0.0900704, PRECISION: 0.0165195, PRECISION_RECALL_MIN_DEN: 0.0696846, RECALL: 0.0684996, MAP: 0.0330764, MRR: 0.0647634, NDCG: 0.0485987, F1: 0.0266194, HIT_RATE: 0.1651949, ARHR: 0.0697961, NOVELTY: 0.0053789, AVERAGE_POPULARITY: 0.0431766, DIVERSITY_MEAN_INTER_LIST: 0.9787834, DIVERSITY_HERFINDAHL: 0.9978573, COVERAGE_ITEM: 0.4752262, COVERAGE_ITEM_CORRECT: 0.0222137, COVERAGE_USER: 0.5842456, COVERAGE_USER_CORRECT: 0.0819177, DIVERSITY_GINI: 0.2124821, SHANNON_ENTROPY: 12.0812910, \n",
      "\n",
      "Iteration No: 39 ended. Search finished for the next optimal point.\n",
      "Time taken: 9.9441\n",
      "Function value obtained: -0.0331\n",
      "Current minimum: -0.0393\n",
      "Iteration No: 40 started. Searching for the next optimal point.\n"
     ]
    },
    {
     "name": "stderr",
     "output_type": "stream",
     "text": [
      "C:\\Users\\davel\\anaconda3\\envs\\RecSysFramework\\lib\\site-packages\\skopt\\optimizer\\optimizer.py:399: UserWarning: The objective has been evaluated at this point before.\n",
      "  warnings.warn(\"The objective has been evaluated \"\n"
     ]
    },
    {
     "name": "stdout",
     "output_type": "stream",
     "text": [
      "SearchBayesianSkopt: Testing config: {'knn': 1000, 'shrink': 1000, 'similarity': 'jaccard'}\n",
      "Similarity column 25975 ( 100 % ), 2832.38 column/sec, elapsed time 0.15 min\n",
      "EvaluatorHoldout: Processed 4643 ( 100.00% ) in 2.70 sec. Users per second: 1722\n",
      "SearchBayesianSkopt: Config 39 is suboptimal. Config: {'knn': 1000, 'shrink': 1000, 'similarity': 'jaccard'} - results: ROC_AUC: 0.1050649, PRECISION: 0.0203101, PRECISION_RECALL_MIN_DEN: 0.0856689, RECALL: 0.0840522, MAP: 0.0383371, MRR: 0.0746530, NDCG: 0.0575783, F1: 0.0327151, HIT_RATE: 0.2031014, ARHR: 0.0811041, NOVELTY: 0.0047378, AVERAGE_POPULARITY: 0.1314540, DIVERSITY_MEAN_INTER_LIST: 0.9726135, DIVERSITY_HERFINDAHL: 0.9972404, COVERAGE_ITEM: 0.3632724, COVERAGE_ITEM_CORRECT: 0.0177478, COVERAGE_USER: 0.5842456, COVERAGE_USER_CORRECT: 0.0992827, DIVERSITY_GINI: 0.1008262, SHANNON_ENTROPY: 10.6611724, \n",
      "\n",
      "Iteration No: 40 ended. Search finished for the next optimal point.\n",
      "Time taken: 15.4593\n",
      "Function value obtained: -0.0383\n",
      "Current minimum: -0.0393\n",
      "Iteration No: 41 started. Searching for the next optimal point.\n",
      "SearchBayesianSkopt: Testing config: {'knn': 36, 'shrink': 997, 'similarity': 'cosine'}\n",
      "Similarity column 25975 ( 100 % ), 3894.97 column/sec, elapsed time 0.11 min\n",
      "EvaluatorHoldout: Processed 4643 ( 100.00% ) in 2.14 sec. Users per second: 2171\n",
      "SearchBayesianSkopt: Config 40 is suboptimal. Config: {'knn': 36, 'shrink': 997, 'similarity': 'cosine'} - results: ROC_AUC: 0.1064918, PRECISION: 0.0195563, PRECISION_RECALL_MIN_DEN: 0.0832982, RECALL: 0.0817975, MAP: 0.0386966, MRR: 0.0747767, NDCG: 0.0572933, F1: 0.0315658, HIT_RATE: 0.1955632, ARHR: 0.0808558, NOVELTY: 0.0049034, AVERAGE_POPULARITY: 0.1077456, DIVERSITY_MEAN_INTER_LIST: 0.9815432, DIVERSITY_HERFINDAHL: 0.9981332, COVERAGE_ITEM: 0.4113571, COVERAGE_ITEM_CORRECT: 0.0182868, COVERAGE_USER: 0.5842456, COVERAGE_USER_CORRECT: 0.0971436, DIVERSITY_GINI: 0.1343614, SHANNON_ENTROPY: 11.2426787, \n",
      "\n",
      "Iteration No: 41 ended. Search finished for the next optimal point.\n",
      "Time taken: 9.5578\n",
      "Function value obtained: -0.0387\n",
      "Current minimum: -0.0393\n",
      "Iteration No: 42 started. Searching for the next optimal point.\n"
     ]
    },
    {
     "name": "stderr",
     "output_type": "stream",
     "text": [
      "C:\\Users\\davel\\anaconda3\\envs\\RecSysFramework\\lib\\site-packages\\skopt\\optimizer\\optimizer.py:399: UserWarning: The objective has been evaluated at this point before.\n",
      "  warnings.warn(\"The objective has been evaluated \"\n"
     ]
    },
    {
     "name": "stdout",
     "output_type": "stream",
     "text": [
      "SearchBayesianSkopt: Testing config: {'knn': 1000, 'shrink': 1000, 'similarity': 'jaccard'}\n",
      "Similarity column 25975 ( 100 % ), 2923.81 column/sec, elapsed time 0.15 min\n",
      "EvaluatorHoldout: Processed 4643 ( 100.00% ) in 2.98 sec. Users per second: 1558\n",
      "SearchBayesianSkopt: Config 41 is suboptimal. Config: {'knn': 1000, 'shrink': 1000, 'similarity': 'jaccard'} - results: ROC_AUC: 0.1050649, PRECISION: 0.0203101, PRECISION_RECALL_MIN_DEN: 0.0856689, RECALL: 0.0840522, MAP: 0.0383371, MRR: 0.0746530, NDCG: 0.0575783, F1: 0.0327151, HIT_RATE: 0.2031014, ARHR: 0.0811041, NOVELTY: 0.0047378, AVERAGE_POPULARITY: 0.1314540, DIVERSITY_MEAN_INTER_LIST: 0.9726135, DIVERSITY_HERFINDAHL: 0.9972404, COVERAGE_ITEM: 0.3632724, COVERAGE_ITEM_CORRECT: 0.0177478, COVERAGE_USER: 0.5842456, COVERAGE_USER_CORRECT: 0.0992827, DIVERSITY_GINI: 0.1008262, SHANNON_ENTROPY: 10.6611724, \n",
      "\n",
      "Iteration No: 42 ended. Search finished for the next optimal point.\n",
      "Time taken: 15.4631\n",
      "Function value obtained: -0.0383\n",
      "Current minimum: -0.0393\n",
      "Iteration No: 43 started. Searching for the next optimal point.\n"
     ]
    },
    {
     "name": "stderr",
     "output_type": "stream",
     "text": [
      "C:\\Users\\davel\\anaconda3\\envs\\RecSysFramework\\lib\\site-packages\\skopt\\optimizer\\optimizer.py:399: UserWarning: The objective has been evaluated at this point before.\n",
      "  warnings.warn(\"The objective has been evaluated \"\n"
     ]
    },
    {
     "name": "stdout",
     "output_type": "stream",
     "text": [
      "SearchBayesianSkopt: Testing config: {'knn': 1000, 'shrink': 1000, 'similarity': 'jaccard'}\n",
      "Similarity column 25975 ( 100 % ), 2809.59 column/sec, elapsed time 0.15 min\n",
      "EvaluatorHoldout: Processed 4643 ( 100.00% ) in 2.81 sec. Users per second: 1652\n",
      "SearchBayesianSkopt: Config 42 is suboptimal. Config: {'knn': 1000, 'shrink': 1000, 'similarity': 'jaccard'} - results: ROC_AUC: 0.1050649, PRECISION: 0.0203101, PRECISION_RECALL_MIN_DEN: 0.0856689, RECALL: 0.0840522, MAP: 0.0383371, MRR: 0.0746530, NDCG: 0.0575783, F1: 0.0327151, HIT_RATE: 0.2031014, ARHR: 0.0811041, NOVELTY: 0.0047378, AVERAGE_POPULARITY: 0.1314540, DIVERSITY_MEAN_INTER_LIST: 0.9726135, DIVERSITY_HERFINDAHL: 0.9972404, COVERAGE_ITEM: 0.3632724, COVERAGE_ITEM_CORRECT: 0.0177478, COVERAGE_USER: 0.5842456, COVERAGE_USER_CORRECT: 0.0992827, DIVERSITY_GINI: 0.1008262, SHANNON_ENTROPY: 10.6611724, \n",
      "\n",
      "Iteration No: 43 ended. Search finished for the next optimal point.\n",
      "Time taken: 15.6666\n",
      "Function value obtained: -0.0383\n",
      "Current minimum: -0.0393\n",
      "Iteration No: 44 started. Searching for the next optimal point.\n",
      "SearchBayesianSkopt: Testing config: {'knn': 992, 'shrink': 4, 'similarity': 'cosine'}\n",
      "Similarity column 25975 ( 100 % ), 3188.97 column/sec, elapsed time 0.14 min\n",
      "EvaluatorHoldout: Processed 4643 ( 100.00% ) in 2.70 sec. Users per second: 1719\n",
      "SearchBayesianSkopt: Config 43 is suboptimal. Config: {'knn': 992, 'shrink': 4, 'similarity': 'cosine'} - results: ROC_AUC: 0.0861089, PRECISION: 0.0165195, PRECISION_RECALL_MIN_DEN: 0.0713650, RECALL: 0.0704241, MAP: 0.0307637, MRR: 0.0585303, NDCG: 0.0468898, F1: 0.0267615, HIT_RATE: 0.1651949, ARHR: 0.0629099, NOVELTY: 0.0053895, AVERAGE_POPULARITY: 0.0393315, DIVERSITY_MEAN_INTER_LIST: 0.9958964, DIVERSITY_HERFINDAHL: 0.9995682, COVERAGE_ITEM: 0.5055630, COVERAGE_ITEM_CORRECT: 0.0225602, COVERAGE_USER: 0.5842456, COVERAGE_USER_CORRECT: 0.0822952, DIVERSITY_GINI: 0.2314900, SHANNON_ENTROPY: 12.6816778, \n",
      "\n",
      "Iteration No: 44 ended. Search finished for the next optimal point.\n",
      "Time taken: 14.4463\n",
      "Function value obtained: -0.0308\n",
      "Current minimum: -0.0393\n",
      "Iteration No: 45 started. Searching for the next optimal point.\n"
     ]
    },
    {
     "name": "stderr",
     "output_type": "stream",
     "text": [
      "C:\\Users\\davel\\anaconda3\\envs\\RecSysFramework\\lib\\site-packages\\skopt\\optimizer\\optimizer.py:399: UserWarning: The objective has been evaluated at this point before.\n",
      "  warnings.warn(\"The objective has been evaluated \"\n"
     ]
    },
    {
     "name": "stdout",
     "output_type": "stream",
     "text": [
      "SearchBayesianSkopt: Testing config: {'knn': 5, 'shrink': 1000, 'similarity': 'jaccard'}\n",
      "Similarity column 25975 ( 100 % ), 3401.83 column/sec, elapsed time 0.13 min\n",
      "EvaluatorHoldout: Processed 4643 ( 100.00% ) in 2.07 sec. Users per second: 2240\n",
      "SearchBayesianSkopt: Config 44 is suboptimal. Config: {'knn': 5, 'shrink': 1000, 'similarity': 'jaccard'} - results: ROC_AUC: 0.0913322, PRECISION: 0.0161964, PRECISION_RECALL_MIN_DEN: 0.0681508, RECALL: 0.0669248, MAP: 0.0323100, MRR: 0.0629552, NDCG: 0.0476565, F1: 0.0260810, HIT_RATE: 0.1619642, ARHR: 0.0669298, NOVELTY: 0.0050292, AVERAGE_POPULARITY: 0.0814814, DIVERSITY_MEAN_INTER_LIST: 0.9635695, DIVERSITY_HERFINDAHL: 0.9963362, COVERAGE_ITEM: 0.3519923, COVERAGE_ITEM_CORRECT: 0.0175938, COVERAGE_USER: 0.5842456, COVERAGE_USER_CORRECT: 0.0820435, DIVERSITY_GINI: 0.1067708, SHANNON_ENTROPY: 10.7855239, \n",
      "\n",
      "Iteration No: 45 ended. Search finished for the next optimal point.\n",
      "Time taken: 10.0805\n",
      "Function value obtained: -0.0323\n",
      "Current minimum: -0.0393\n",
      "Iteration No: 46 started. Searching for the next optimal point.\n"
     ]
    },
    {
     "name": "stderr",
     "output_type": "stream",
     "text": [
      "C:\\Users\\davel\\anaconda3\\envs\\RecSysFramework\\lib\\site-packages\\skopt\\optimizer\\optimizer.py:399: UserWarning: The objective has been evaluated at this point before.\n",
      "  warnings.warn(\"The objective has been evaluated \"\n"
     ]
    },
    {
     "name": "stdout",
     "output_type": "stream",
     "text": [
      "SearchBayesianSkopt: Testing config: {'knn': 1000, 'shrink': 1000, 'similarity': 'jaccard'}\n",
      "Similarity column 25975 ( 100 % ), 2599.66 column/sec, elapsed time 0.17 min\n",
      "EvaluatorHoldout: Processed 4643 ( 100.00% ) in 2.92 sec. Users per second: 1590\n",
      "SearchBayesianSkopt: Config 45 is suboptimal. Config: {'knn': 1000, 'shrink': 1000, 'similarity': 'jaccard'} - results: ROC_AUC: 0.1050649, PRECISION: 0.0203101, PRECISION_RECALL_MIN_DEN: 0.0856689, RECALL: 0.0840522, MAP: 0.0383371, MRR: 0.0746530, NDCG: 0.0575783, F1: 0.0327151, HIT_RATE: 0.2031014, ARHR: 0.0811041, NOVELTY: 0.0047378, AVERAGE_POPULARITY: 0.1314540, DIVERSITY_MEAN_INTER_LIST: 0.9726135, DIVERSITY_HERFINDAHL: 0.9972404, COVERAGE_ITEM: 0.3632724, COVERAGE_ITEM_CORRECT: 0.0177478, COVERAGE_USER: 0.5842456, COVERAGE_USER_CORRECT: 0.0992827, DIVERSITY_GINI: 0.1008262, SHANNON_ENTROPY: 10.6611724, \n",
      "\n",
      "Iteration No: 46 ended. Search finished for the next optimal point.\n",
      "Time taken: 16.5504\n",
      "Function value obtained: -0.0383\n",
      "Current minimum: -0.0393\n",
      "Iteration No: 47 started. Searching for the next optimal point.\n"
     ]
    },
    {
     "name": "stderr",
     "output_type": "stream",
     "text": [
      "C:\\Users\\davel\\anaconda3\\envs\\RecSysFramework\\lib\\site-packages\\skopt\\optimizer\\optimizer.py:399: UserWarning: The objective has been evaluated at this point before.\n",
      "  warnings.warn(\"The objective has been evaluated \"\n"
     ]
    },
    {
     "name": "stdout",
     "output_type": "stream",
     "text": [
      "SearchBayesianSkopt: Testing config: {'knn': 1000, 'shrink': 1000, 'similarity': 'jaccard'}\n",
      "Similarity column 25975 ( 100 % ), 2941.87 column/sec, elapsed time 0.15 min\n",
      "EvaluatorHoldout: Processed 4643 ( 100.00% ) in 2.80 sec. Users per second: 1656\n",
      "SearchBayesianSkopt: Config 46 is suboptimal. Config: {'knn': 1000, 'shrink': 1000, 'similarity': 'jaccard'} - results: ROC_AUC: 0.1050649, PRECISION: 0.0203101, PRECISION_RECALL_MIN_DEN: 0.0856689, RECALL: 0.0840522, MAP: 0.0383371, MRR: 0.0746530, NDCG: 0.0575783, F1: 0.0327151, HIT_RATE: 0.2031014, ARHR: 0.0811041, NOVELTY: 0.0047378, AVERAGE_POPULARITY: 0.1314540, DIVERSITY_MEAN_INTER_LIST: 0.9726135, DIVERSITY_HERFINDAHL: 0.9972404, COVERAGE_ITEM: 0.3632724, COVERAGE_ITEM_CORRECT: 0.0177478, COVERAGE_USER: 0.5842456, COVERAGE_USER_CORRECT: 0.0992827, DIVERSITY_GINI: 0.1008262, SHANNON_ENTROPY: 10.6611724, \n",
      "\n",
      "Iteration No: 47 ended. Search finished for the next optimal point.\n",
      "Time taken: 15.2011\n",
      "Function value obtained: -0.0383\n",
      "Current minimum: -0.0393\n",
      "Iteration No: 48 started. Searching for the next optimal point.\n",
      "SearchBayesianSkopt: Testing config: {'knn': 9, 'shrink': 996, 'similarity': 'cosine'}\n",
      "Similarity column 25975 ( 100 % ), 3719.42 column/sec, elapsed time 0.12 min\n",
      "EvaluatorHoldout: Processed 4643 ( 100.00% ) in 2.10 sec. Users per second: 2216\n",
      "SearchBayesianSkopt: Config 47 is suboptimal. Config: {'knn': 9, 'shrink': 996, 'similarity': 'cosine'} - results: ROC_AUC: 0.0999113, PRECISION: 0.0187810, PRECISION_RECALL_MIN_DEN: 0.0787711, RECALL: 0.0773665, MAP: 0.0355389, MRR: 0.0698723, NDCG: 0.0534469, F1: 0.0302248, HIT_RATE: 0.1878096, ARHR: 0.0751208, NOVELTY: 0.0049906, AVERAGE_POPULARITY: 0.0900679, DIVERSITY_MEAN_INTER_LIST: 0.9779158, DIVERSITY_HERFINDAHL: 0.9977705, COVERAGE_ITEM: 0.3909528, COVERAGE_ITEM_CORRECT: 0.0192108, COVERAGE_USER: 0.5842456, COVERAGE_USER_CORRECT: 0.0931169, DIVERSITY_GINI: 0.1273766, SHANNON_ENTROPY: 11.1761316, \n",
      "\n",
      "Iteration No: 48 ended. Search finished for the next optimal point.\n",
      "Time taken: 9.5473\n",
      "Function value obtained: -0.0355\n",
      "Current minimum: -0.0393\n",
      "Iteration No: 49 started. Searching for the next optimal point.\n"
     ]
    },
    {
     "name": "stderr",
     "output_type": "stream",
     "text": [
      "C:\\Users\\davel\\anaconda3\\envs\\RecSysFramework\\lib\\site-packages\\skopt\\optimizer\\optimizer.py:399: UserWarning: The objective has been evaluated at this point before.\n",
      "  warnings.warn(\"The objective has been evaluated \"\n"
     ]
    },
    {
     "name": "stdout",
     "output_type": "stream",
     "text": [
      "SearchBayesianSkopt: Testing config: {'knn': 1000, 'shrink': 1000, 'similarity': 'jaccard'}\n",
      "Similarity column 25975 ( 100 % ), 2875.73 column/sec, elapsed time 0.15 min\n",
      "EvaluatorHoldout: Processed 4643 ( 100.00% ) in 2.81 sec. Users per second: 1652\n",
      "SearchBayesianSkopt: Config 48 is suboptimal. Config: {'knn': 1000, 'shrink': 1000, 'similarity': 'jaccard'} - results: ROC_AUC: 0.1050649, PRECISION: 0.0203101, PRECISION_RECALL_MIN_DEN: 0.0856689, RECALL: 0.0840522, MAP: 0.0383371, MRR: 0.0746530, NDCG: 0.0575783, F1: 0.0327151, HIT_RATE: 0.2031014, ARHR: 0.0811041, NOVELTY: 0.0047378, AVERAGE_POPULARITY: 0.1314540, DIVERSITY_MEAN_INTER_LIST: 0.9726135, DIVERSITY_HERFINDAHL: 0.9972404, COVERAGE_ITEM: 0.3632724, COVERAGE_ITEM_CORRECT: 0.0177478, COVERAGE_USER: 0.5842456, COVERAGE_USER_CORRECT: 0.0992827, DIVERSITY_GINI: 0.1008262, SHANNON_ENTROPY: 10.6611724, \n",
      "\n",
      "Iteration No: 49 ended. Search finished for the next optimal point.\n",
      "Time taken: 15.5724\n",
      "Function value obtained: -0.0383\n",
      "Current minimum: -0.0393\n",
      "Iteration No: 50 started. Searching for the next optimal point.\n",
      "SearchBayesianSkopt: Testing config: {'knn': 987, 'shrink': 1, 'similarity': 'cosine'}\n",
      "Similarity column 25975 ( 100 % ), 3012.01 column/sec, elapsed time 0.14 min\n",
      "EvaluatorHoldout: Processed 4643 ( 100.00% ) in 2.91 sec. Users per second: 1596\n",
      "SearchBayesianSkopt: Config 49 is suboptimal. Config: {'knn': 987, 'shrink': 1, 'similarity': 'cosine'} - results: ROC_AUC: 0.0633349, PRECISION: 0.0125781, PRECISION_RECALL_MIN_DEN: 0.0567424, RECALL: 0.0561620, MAP: 0.0235007, MRR: 0.0430563, NDCG: 0.0361488, F1: 0.0205531, HIT_RATE: 0.1257807, ARHR: 0.0463785, NOVELTY: 0.0057034, AVERAGE_POPULARITY: 0.0221470, DIVERSITY_MEAN_INTER_LIST: 0.9969388, DIVERSITY_HERFINDAHL: 0.9996724, COVERAGE_ITEM: 0.5418287, COVERAGE_ITEM_CORRECT: 0.0191723, COVERAGE_USER: 0.5842456, COVERAGE_USER_CORRECT: 0.0624135, DIVERSITY_GINI: 0.2756806, SHANNON_ENTROPY: 12.9975793, \n",
      "\n",
      "Iteration No: 50 ended. Search finished for the next optimal point.\n",
      "Time taken: 15.1528\n",
      "Function value obtained: -0.0235\n",
      "Current minimum: -0.0393\n",
      "SearchBayesianSkopt: Search complete. Best config is 3: {'knn': 226, 'shrink': 650, 'similarity': 'jaccard'}\n",
      "\n",
      "SearchBayesianSkopt: Evaluation with constructor data for final test. Using best config: {'knn': 226, 'shrink': 650, 'similarity': 'jaccard'}\n",
      "Similarity column 25975 ( 100 % ), 3172.65 column/sec, elapsed time 0.14 min\n",
      "EvaluatorHoldout: Processed 5007 ( 100.00% ) in 2.76 sec. Users per second: 1813\n",
      "SearchBayesianSkopt: Best config evaluated with evaluator_test with constructor data for final test. Config: {'knn': 226, 'shrink': 650, 'similarity': 'jaccard'} - results:\n",
      "CUTOFF: 10 - ROC_AUC: 0.1343040, PRECISION: 0.0264829, PRECISION_RECALL_MIN_DEN: 0.1034357, RECALL: 0.1013257, MAP: 0.0481740, MRR: 0.0990085, NDCG: 0.0722725, F1: 0.0419909, HIT_RATE: 0.2648292, ARHR: 0.1108883, NOVELTY: 0.0047581, AVERAGE_POPULARITY: 0.1233249, DIVERSITY_MEAN_INTER_LIST: 0.9758109, DIVERSITY_HERFINDAHL: 0.9975616, COVERAGE_ITEM: 0.3893744, COVERAGE_ITEM_CORRECT: 0.0259480, COVERAGE_USER: 0.6300491, COVERAGE_USER_CORRECT: 0.1319995, DIVERSITY_GINI: 0.1096715, SHANNON_ENTROPY: 10.8458999, \n",
      "\n",
      "\n",
      "SearchBayesianSkopt: Saving model in result_experiments/UserBasedCFRecommender\n",
      "\n",
      "UserBasedCFRecommender: Saving model in file 'result_experiments/UserBasedCFRecommender_best_model_last'\n",
      "UserBasedCFRecommender: Saving complete\n"
     ]
    }
   ],
   "source": [
    "parameterSearch.search(recommender_input_args,\n",
    "                       recommender_input_args_last_test = recommender_input_args_last_test,\n",
    "                       parameter_search_space = hyperparameters_range_dictionary,\n",
    "                       n_cases = n_cases,\n",
    "                       n_random_starts = n_random_starts,\n",
    "                       save_model = \"last\",\n",
    "                       output_folder_path = output_folder_path,\n",
    "                       output_file_name_root = recommender_class.RECOMMENDER_NAME,\n",
    "                       metric_to_optimize = metric_to_optimize,\n",
    "                      )"
   ]
  },
  {
   "cell_type": "code",
   "execution_count": 38,
   "metadata": {},
   "outputs": [
    {
     "data": {
      "text/plain": [
       "{'knn': 226, 'shrink': 650, 'similarity': 'jaccard'}"
      ]
     },
     "execution_count": 38,
     "metadata": {},
     "output_type": "execute_result"
    }
   ],
   "source": [
    "data_loader = DataIO(folder_path = output_folder_path)\n",
    "search_metadata = data_loader.load_data(recommender_class.RECOMMENDER_NAME + \"_metadata.zip\")\n",
    "best_parameters = search_metadata[\"hyperparameters_best\"]\n",
    "best_parameters\n",
    "#last: 381, 515"
   ]
  },
  {
   "cell_type": "markdown",
   "metadata": {},
   "source": [
    "**Evaluation Metrics**"
   ]
  },
  {
   "cell_type": "code",
   "execution_count": null,
   "metadata": {},
   "outputs": [],
   "source": [
    "def recall(recommendations: np.array, relevant_items: np.array) -> float:\n",
    "    is_relevant = np.in1d(recommendations, relevant_items, assume_unique=True)\n",
    "    \n",
    "    recall_score = np.sum(is_relevant) / relevant_items.shape[0]\n",
    "    \n",
    "    return recall_score\n",
    "    \n",
    "    \n",
    "def precision(recommendations: np.array, relevant_items: np.array) -> float:\n",
    "    is_relevant = np.in1d(recommendations, relevant_items, assume_unique=True)\n",
    "    \n",
    "    precision_score = np.sum(is_relevant) / recommendations.shape[0]\n",
    "\n",
    "    return precision_score\n",
    "\n",
    "def mean_average_precision(recommendations: np.array, relevant_items: np.array) -> float:\n",
    "    is_relevant = np.in1d(recommendations, relevant_items, assume_unique=True)\n",
    "    \n",
    "    precision_at_k = is_relevant * np.cumsum(is_relevant, dtype=np.float32) / (1 + np.arange(is_relevant.shape[0]))\n",
    "\n",
    "    map_score = np.sum(precision_at_k) / np.min([relevant_items.shape[0], is_relevant.shape[0]])\n",
    "\n",
    "    return map_score"
   ]
  },
  {
   "cell_type": "markdown",
   "metadata": {},
   "source": [
    "**Evaluation Procedure**\n",
    "\n",
    "The evaluation procedure returns the averaged accuracy scores (in terms of precision, recall and MAP) for all users (that have at least 1 rating in the test set). It also calculates the number of evaluated and skipped users. It receives a recommender instance, and the train and test URMs."
   ]
  },
  {
   "cell_type": "code",
   "execution_count": null,
   "metadata": {},
   "outputs": [],
   "source": [
    "def evaluator(recommender: object, urm_train: sp.csr_matrix, urm_test: sp.csr_matrix):\n",
    "    recommendation_length = 10\n",
    "    accum_precision = 0\n",
    "    accum_recall = 0\n",
    "    accum_map = 0\n",
    "    \n",
    "    num_users = urm_train.shape[0]\n",
    "    \n",
    "    num_users_evaluated = 0\n",
    "    num_users_skipped = 0\n",
    "    \n",
    "    for user_id in range(num_users):\n",
    "        user_profile_start = urm_test.indptr[user_id]\n",
    "        user_profile_end = urm_test.indptr[user_id+1]\n",
    "\n",
    "        relevant_items = urm_test.indices[user_profile_start:user_profile_end]\n",
    "\n",
    "        if relevant_items.size == 0:\n",
    "            num_users_skipped += 1\n",
    "            continue\n",
    "            \n",
    "#         recommendations = recommender.recommend(user_id_array=user_id,\n",
    "#                                                cutoff=recommendation_length,\n",
    "#                                                remove_seen_flag=True\n",
    "#                                                )\n",
    "\n",
    "        expected_ratings = recommender.get_expected_ratings(user_id)\n",
    "        recommended_items = np.flip(np.argsort(expected_ratings), 0)\n",
    "\n",
    "        unseen_items_mask = np.in1d(recommended_items,urm_train[user_id].indices,\n",
    "                                        assume_unique=True, invert=True)\n",
    "\n",
    "        recommendations = recommended_items[unseen_items_mask]\n",
    "\n",
    "\n",
    "        accum_precision += precision(recommendations, relevant_items)\n",
    "        accum_recall += recall(recommendations, relevant_items)\n",
    "        accum_map += mean_average_precision(recommendations, relevant_items)\n",
    "\n",
    "        num_users_evaluated += 1\n",
    "\n",
    "    \n",
    "    accum_precision /= max(num_users_evaluated, 1)\n",
    "    accum_recall /= max(num_users_evaluated, 1)\n",
    "    accum_map /=  max(num_users_evaluated, 1)\n",
    "    \n",
    "    return accum_precision, accum_recall, accum_map, num_users_evaluated, num_users_skipped"
   ]
  },
  {
   "cell_type": "code",
   "execution_count": null,
   "metadata": {},
   "outputs": [],
   "source": [
    "#Params for the recommenders\n",
    "cbf_param = {\n",
    "    \"knn\": 380,\n",
    "    \"shrink\": 9\n",
    "}\n",
    "\n",
    "user_cf_param = {\n",
    "    \"knn\": 249,\n",
    "    \"shrink\": 853\n",
    "}\n",
    "\n",
    "item_cf_param = {\n",
    "    \"knn\": 119,\n",
    "    \"shrink\": 430\n",
    "}\n",
    "\n",
    "slim_bpr_param = {\n",
    "    \"learning_rate\" : 0.05,\n",
    "    \"epochs\": 10,\n",
    "    \"nnz\" : 1,\n",
    "    \"knn\": 200\n",
    "}\n",
    "\n",
    "als_param = {\n",
    "    \"n_factors\": 300,\n",
    "    \"regularization\": 0.15,\n",
    "    \"iterations\": 30\n",
    "}\n"
   ]
  },
  {
   "cell_type": "code",
   "execution_count": null,
   "metadata": {},
   "outputs": [],
   "source": [
    "userCF = UserBasedCollaborativeFiltering(urm_train)"
   ]
  },
  {
   "cell_type": "code",
   "execution_count": null,
   "metadata": {},
   "outputs": [],
   "source": [
    "userCF.fit(knn=user_cf_param[\"knn\"], shrink=user_cf_param[\"shrink\"],similarity='cosine')"
   ]
  },
  {
   "cell_type": "code",
   "execution_count": null,
   "metadata": {},
   "outputs": [],
   "source": [
    "accum_precision, accum_recall, accum_map, num_user_evaluated, num_users_skipped = evaluator(userCF, \n",
    "                                                                                            urm_train_validation, \n",
    "                                                                                            urm_test)\n",
    "accum_precision, accum_recall, accum_map, num_user_evaluated, num_users_skipped"
   ]
  },
  {
   "cell_type": "code",
   "execution_count": null,
   "metadata": {},
   "outputs": [],
   "source": [
    "itemCF = ItemBasedCollaborativeFiltering(urm_train)"
   ]
  },
  {
   "cell_type": "code",
   "execution_count": null,
   "metadata": {},
   "outputs": [],
   "source": [
    "itemCF.fit(knn=item_cf_param[\"knn\"], shrink=item_cf_param[\"shrink\"], similarity=\"cosine\")"
   ]
  },
  {
   "cell_type": "code",
   "execution_count": null,
   "metadata": {},
   "outputs": [],
   "source": [
    "accum_precision, accum_recall, accum_map, num_user_evaluated, num_users_skipped = evaluator(itemCF, \n",
    "                                                                                            urm_train_validation, \n",
    "                                                                                            urm_test)\n",
    "accum_precision, accum_recall, accum_map, num_user_evaluated, num_users_skipped"
   ]
  },
  {
   "cell_type": "code",
   "execution_count": null,
   "metadata": {},
   "outputs": [],
   "source": [
    "SlimBpr=SlimBPRRec(learning_rate=slim_bpr_param[\"learning_rate\"], epochs=slim_bpr_param[\"epochs\"], nnz=slim_bpr_param[\"nnz\"], knn=slim_bpr_param[\"knn\"])"
   ]
  },
  {
   "cell_type": "code",
   "execution_count": null,
   "metadata": {},
   "outputs": [],
   "source": [
    "SlimBpr.fit(urm_train)"
   ]
  },
  {
   "cell_type": "code",
   "execution_count": null,
   "metadata": {},
   "outputs": [],
   "source": [
    "accum_precision, accum_recall, accum_map, num_user_evaluated, num_users_skipped = evaluator(SlimBpr, \n",
    "                                                                                            urm_train_validation, \n",
    "                                                                                            urm_test)\n",
    "accum_precision, accum_recall, accum_map, num_user_evaluated, num_users_skipped"
   ]
  },
  {
   "cell_type": "code",
   "execution_count": null,
   "metadata": {},
   "outputs": [],
   "source": [
    "slim_elastic = SLIMElasticNetRecommender(urm_train)"
   ]
  },
  {
   "cell_type": "code",
   "execution_count": null,
   "metadata": {},
   "outputs": [],
   "source": [
    "slim_elastic.fit()"
   ]
  },
  {
   "cell_type": "code",
   "execution_count": null,
   "metadata": {},
   "outputs": [],
   "source": [
    "accum_precision, accum_recall, accum_map, num_user_evaluated, num_users_skipped = evaluator(slim_elastic, \n",
    "                                                                                            urm_train_validation, \n",
    "                                                                                            urm_test)\n",
    "accum_precision, accum_recall, accum_map, num_user_evaluated, num_users_skipped"
   ]
  },
  {
   "cell_type": "code",
   "execution_count": null,
   "metadata": {},
   "outputs": [],
   "source": [
    "cbf = ContentBasedFiltering(urm_train,ICM)"
   ]
  },
  {
   "cell_type": "code",
   "execution_count": null,
   "metadata": {},
   "outputs": [],
   "source": [
    "cbf.fit(knn=cbf_param[\"knn\"],shrink=cbf_param[\"shrink\"],similarity='cosine')"
   ]
  },
  {
   "cell_type": "code",
   "execution_count": null,
   "metadata": {},
   "outputs": [],
   "source": [
    "accum_precision, accum_recall, accum_map, num_user_evaluated, num_users_skipped = evaluator(cbf, \n",
    "                                                                                            urm_train_validation, \n",
    "                                                                                            urm_test)\n",
    "accum_precision, accum_recall, accum_map, num_user_evaluated, num_users_skipped"
   ]
  },
  {
   "cell_type": "code",
   "execution_count": null,
   "metadata": {},
   "outputs": [],
   "source": [
    "ALS = AlternatingLeastSquare(urm_train)"
   ]
  },
  {
   "cell_type": "code",
   "execution_count": null,
   "metadata": {},
   "outputs": [],
   "source": [
    "ALS.fit(n_factors=als_param[\"n_factors\"], regularization=als_param[\"regularization\"],iterations=als_param[\"iterations\"])"
   ]
  },
  {
   "cell_type": "code",
   "execution_count": null,
   "metadata": {},
   "outputs": [],
   "source": [
    "accum_precision, accum_recall, accum_map, num_user_evaluated, num_users_skipped = evaluator(ALS, \n",
    "                                                                                            urm_train_validation, \n",
    "                                                                                            urm_test)\n",
    "accum_precision, accum_recall, accum_map, num_user_evaluated, num_users_skipped"
   ]
  },
  {
   "cell_type": "markdown",
   "metadata": {},
   "source": [
    "**Hybrid**"
   ]
  },
  {
   "cell_type": "markdown",
   "metadata": {},
   "source": [
    "**Hybrid Recommender Tuning**"
   ]
  },
  {
   "cell_type": "code",
   "execution_count": null,
   "metadata": {},
   "outputs": [],
   "source": [
    "from Base.Evaluation.Evaluator import EvaluatorHoldout\n",
    "\n",
    "evaluator_validation = EvaluatorHoldout(urm_validation, cutoff_list=[10])\n",
    "evaluator_test = EvaluatorHoldout(urm_test, cutoff_list=[10])"
   ]
  },
  {
   "cell_type": "code",
   "execution_count": null,
   "metadata": {},
   "outputs": [],
   "source": [
    "from skopt.space import Real, Integer, Categorical\n",
    "\n",
    "hyperparameters_range_dictionary = {}\n",
    "hyperparameters_range_dictionary[\"w_user\"] = Integer(0, 1000)\n",
    "hyperparameters_range_dictionary[\"w_item\"] = Integer(0, 1000)\n",
    "hyperparameters_range_dictionary[\"w_cbf\"] = Integer(0, 1000)"
   ]
  },
  {
   "cell_type": "code",
   "execution_count": null,
   "metadata": {
    "scrolled": true
   },
   "outputs": [],
   "source": [
    "from ParameterTuning.SearchBayesianSkopt import SearchBayesianSkopt\n",
    "\n",
    "recommender_class = HybridRecommender\n",
    "\n",
    "parameterSearch = SearchBayesianSkopt(recommender_class,\n",
    "                                 evaluator_validation=evaluator_validation,\n",
    "                                 evaluator_test=evaluator_test)"
   ]
  },
  {
   "cell_type": "code",
   "execution_count": null,
   "metadata": {},
   "outputs": [],
   "source": [
    "from ParameterTuning.SearchAbstractClass import SearchInputRecommenderArgs\n",
    "  \n",
    "recommender_input_args = SearchInputRecommenderArgs(\n",
    "    CONSTRUCTOR_POSITIONAL_ARGS = [urm_train, ICM],     # For a CBF model simply put [URM_train, ICM_train]\n",
    "    CONSTRUCTOR_KEYWORD_ARGS = {},\n",
    "    FIT_POSITIONAL_ARGS = [user_cf_param, item_cf_param, cbf_param, slim_bpr_param, als_param],\n",
    "    FIT_KEYWORD_ARGS = {}\n",
    ")"
   ]
  },
  {
   "cell_type": "code",
   "execution_count": null,
   "metadata": {},
   "outputs": [],
   "source": [
    "recommender_input_args_last_test = SearchInputRecommenderArgs(\n",
    "    CONSTRUCTOR_POSITIONAL_ARGS = [urm_train_validation, ICM],     # For a CBF model simply put [URM_train_validation, ICM_train]\n",
    "    CONSTRUCTOR_KEYWORD_ARGS = {},\n",
    "    FIT_POSITIONAL_ARGS = [user_cf_param, item_cf_param, cbf_param, slim_bpr_param, als_param],\n",
    "    FIT_KEYWORD_ARGS = {}\n",
    ")"
   ]
  },
  {
   "cell_type": "code",
   "execution_count": null,
   "metadata": {},
   "outputs": [],
   "source": [
    "import os\n",
    "\n",
    "output_folder_path = \"result_experiments/\"\n",
    "\n",
    "# If directory does not exist, create\n",
    "if not os.path.exists(output_folder_path):\n",
    "    os.makedirs(output_folder_path)\n",
    "    \n",
    "n_cases = 300\n",
    "n_random_starts = int(n_cases*0.45)\n",
    "metric_to_optimize = \"MAP\""
   ]
  },
  {
   "cell_type": "code",
   "execution_count": null,
   "metadata": {
    "scrolled": true
   },
   "outputs": [],
   "source": [
    "parameterSearch.search(recommender_input_args,\n",
    "                       recommender_input_args_last_test = recommender_input_args_last_test,\n",
    "                       parameter_search_space = hyperparameters_range_dictionary,\n",
    "                       n_cases = n_cases,\n",
    "                       n_random_starts = n_random_starts,\n",
    "                       save_model = \"last\",\n",
    "                       output_folder_path = output_folder_path,\n",
    "                       output_file_name_root = recommender_class.RECOMMENDER_NAME,\n",
    "                       metric_to_optimize = metric_to_optimize,\n",
    "                      )"
   ]
  },
  {
   "cell_type": "code",
   "execution_count": null,
   "metadata": {},
   "outputs": [],
   "source": [
    "data_loader = DataIO(folder_path = output_folder_path)\n",
    "search_metadata = data_loader.load_data(recommender_class.RECOMMENDER_NAME + \"_metadata.zip\")\n",
    "best_parameters = search_metadata[\"hyperparameters_best\"]\n",
    "best_parameters"
   ]
  },
  {
   "cell_type": "code",
   "execution_count": null,
   "metadata": {},
   "outputs": [],
   "source": [
    "w = {\n",
    "    \"user_cf\": 5,\n",
    "    \"item_cf\": 30,\n",
    "    \"cbf\": 0,\n",
    "    \"icm_svd\": 0,\n",
    "    \"als\": 0,\n",
    "    \"slim\": 0,\n",
    "    \"elastic\": 0\n",
    "}"
   ]
  },
  {
   "cell_type": "code",
   "execution_count": null,
   "metadata": {},
   "outputs": [],
   "source": [
    "recommender = HybridRecommender(urm_train_validation, ICM)"
   ]
  },
  {
   "cell_type": "code",
   "execution_count": null,
   "metadata": {
    "scrolled": true
   },
   "outputs": [],
   "source": [
    "recommender.fit(user_cf_param=user_cf_param,item_cf_param=item_cf_param,cbf_param=cbf_param,\n",
    "                slim_param=slim_bpr_param,als_param=als_param, w_user=w[\"user_cf\"], w_item=w[\"item_cf\"])"
   ]
  },
  {
   "cell_type": "code",
   "execution_count": null,
   "metadata": {},
   "outputs": [],
   "source": [
    "accum_precision, accum_recall, accum_map, num_user_evaluated, num_users_skipped = evaluator(recommender, \n",
    "                                                                                            urm_train_validation, \n",
    "                                                                                            urm_test)\n",
    "accum_precision, accum_recall, accum_map, num_user_evaluated, num_users_skipped"
   ]
  },
  {
   "cell_type": "markdown",
   "metadata": {
    "id": "0Vi-dduXaj46"
   },
   "source": [
    "**Submission to competition**\n",
    "\n",
    "This step serves as a similar step that you will perform when preparing a submission to the competition. Specially after you have chosen and trained your recommender.\n",
    "\n",
    "For this step the best suggestion is to select the most-performing configuration obtained in the hyperparameter tuning step and to train the recommender using both the train and validation set. Remember that in the competition you do not have access to the test set.\n",
    "\n",
    "Another consideration is that, due to easier and faster calculations, we replaced the user/item identifiers with new ones in the preprocessing step. For the competition, you are required to generate recommendations using the dataset's original identifiers. Due to this, this step also reverts back the newer identifiers with the ones originally found in the dataset.\n",
    "\n",
    "Last, this step creates a function that writes the recommendations for each user in the same file in a tabular format following this format:\n",
    "\n",
    "csv\n",
    "<user_id>,<item_id_1> <item_id_2> <item_id_3> <item_id_4> <item_id_5> <item_id_6> <item_id_7> <item_id_8> <item_id_9> <item_id_10>\n",
    "Always verify the competitions' submission file model as it might vary from the one we presented here."
   ]
  },
  {
   "cell_type": "code",
   "execution_count": null,
   "metadata": {
    "id": "EcSDk9aMtW4k"
   },
   "outputs": [],
   "source": [
    "def load_goodguys():\n",
    "  return pd.read_csv(\"./data_target_users_test.csv\")\n",
    "goodguys=load_goodguys()"
   ]
  },
  {
   "cell_type": "code",
   "execution_count": null,
   "metadata": {
    "id": "eHzsuFiqtW4k",
    "outputId": "bc36c459-1cc6-460a-b403-95482cf1508d"
   },
   "outputs": [],
   "source": [
    "goodguys"
   ]
  },
  {
   "cell_type": "code",
   "execution_count": null,
   "metadata": {
    "id": "0b3DwuXrayTA",
    "outputId": "27c6d557-b304-427c-bf2c-8fdc090efe64"
   },
   "outputs": [],
   "source": [
    "users_to_recommend = np.random.choice(goodguys.user_id,size=goodguys.size, replace=False)\n",
    "users_to_recommend"
   ]
  },
  {
   "cell_type": "code",
   "execution_count": null,
   "metadata": {
    "id": "RurxNTttbI-i"
   },
   "outputs": [],
   "source": [
    "def prepare_submission(users_to_recommend: np.array, urm_train: sp.csr_matrix, recommender: object):\n",
    "    \n",
    "    recommendation_length = 10\n",
    "    submission = []\n",
    "    \n",
    "    for user_id in users_to_recommend :\n",
    "\n",
    "        recommendations = recommender.recommend2(user_id, urm_train, recommendation_length)\n",
    "\n",
    "        \n",
    "        submission.append((user_id, [item_id for item_id in recommendations]))\n",
    "   \n",
    "    return submission"
   ]
  },
  {
   "cell_type": "code",
   "execution_count": null,
   "metadata": {
    "id": "5KYlvMDVbLxo",
    "scrolled": true
   },
   "outputs": [],
   "source": [
    "submission = prepare_submission(users_to_recommend, urm_train_validation, recommender)"
   ]
  },
  {
   "cell_type": "code",
   "execution_count": null,
   "metadata": {
    "id": "sJZEjE3CbQTp",
    "outputId": "8e2faf6b-144c-4ba3-ee1a-692290e15d3c"
   },
   "outputs": [],
   "source": [
    "submission"
   ]
  },
  {
   "cell_type": "code",
   "execution_count": null,
   "metadata": {
    "id": "6hCawP60bVm3"
   },
   "outputs": [],
   "source": [
    "import os\n",
    "from datetime import datetime\n",
    "\n",
    "csv_fname = './submission'\n",
    "csv_fname += datetime.now().strftime('%b%d_%H-%M-%S') + '.csv'\n",
    "\n",
    "def write_submission(submissions):\n",
    "    with open(csv_fname, \"w\") as f:\n",
    "        f.write(f\"user_id,item_list\\n\")\n",
    "        for user_id, items in submissions:\n",
    "            f.write(f\"{user_id},{' '.join([str(item) for item in items])}\\n\")\n"
   ]
  },
  {
   "cell_type": "code",
   "execution_count": null,
   "metadata": {
    "id": "ov91al-UbXAQ"
   },
   "outputs": [],
   "source": [
    "write_submission(submission)"
   ]
  },
  {
   "cell_type": "code",
   "execution_count": null,
   "metadata": {},
   "outputs": [],
   "source": []
  }
 ],
 "metadata": {
  "colab": {
   "collapsed_sections": [],
   "name": "RecommenderChallenge.ipynb",
   "provenance": []
  },
  "kernelspec": {
   "display_name": "Python 3",
   "language": "python",
   "name": "python3"
  },
  "language_info": {
   "codemirror_mode": {
    "name": "ipython",
    "version": 3
   },
   "file_extension": ".py",
   "mimetype": "text/x-python",
   "name": "python",
   "nbconvert_exporter": "python",
   "pygments_lexer": "ipython3",
   "version": "3.6.10"
  }
 },
 "nbformat": 4,
 "nbformat_minor": 1
}
