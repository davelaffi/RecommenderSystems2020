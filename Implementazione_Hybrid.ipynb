{
 "cells": [
  {
   "cell_type": "code",
   "execution_count": 1,
   "metadata": {
    "id": "ybQSYdHvb_CB"
   },
   "outputs": [],
   "source": [
    "import numpy as np\n",
    "import pandas as pd\n",
    "import scipy.sparse as sp\n",
    "from tqdm import tqdm\n",
    "from Base.DataIO import DataIO\n",
    "\n",
    "#----Recommenders----\n",
    "from SLIM.SLIM_BPR_Python import SLIM_BPR_Python\n",
    "from SLIM.SlimElasticNet import SLIMElasticNetRecommender\n",
    "from cf.item_cf3 import ItemBasedCollaborativeFiltering\n",
    "from cf.user_cf2 import UserBasedCollaborativeFiltering\n",
    "from MF.ALS import AlternatingLeastSquare\n",
    "from cbf.cbf import ContentBasedFiltering\n",
    "from SlimBPR.SlimBPRRec import SlimBPRRec\n",
    "from SlimBPR.SlimBPR import SlimBPR\n",
    "#---------------\n",
    "\n",
    "#----Model Load & Save----\n",
    "from Data_manager.Dataset import Dataset\n",
    "#-------------------------\n",
    "\n",
    "from sklearn.model_selection import train_test_split"
   ]
  },
  {
   "cell_type": "markdown",
   "metadata": {
    "id": "iyPCmUzVedBh"
   },
   "source": [
    "**Dataset loading with pandas**\n",
    "\n",
    "The function read_csv from pandas provides a wonderful and fast interface to load tabular data like this. For better results and performance we provide the separator ::, the column names [\"user_id\", \"item_id\", \"ratings\", \"timestamp\"], and the types of each attribute in the dtype parameter."
   ]
  },
  {
   "cell_type": "code",
   "execution_count": null,
   "metadata": {
    "id": "96AUQmIlcAr2"
   },
   "outputs": [],
   "source": [
    "def load_data():\n",
    "  return pd.read_csv(\"./data_train.csv\")"
   ]
  },
  {
   "cell_type": "code",
   "execution_count": null,
   "metadata": {
    "id": "vMaAYCCksV82"
   },
   "outputs": [],
   "source": [
    "ratings=load_data()\n",
    "d ={'user_id': ratings['row'],'item_id':ratings['col'],'ratings':ratings['data']}\n",
    "ratings=pd.DataFrame(data=d)"
   ]
  },
  {
   "cell_type": "code",
   "execution_count": null,
   "metadata": {
    "colab": {
     "base_uri": "https://localhost:8080/"
    },
    "id": "enpGAp964Y5a",
    "outputId": "c436ac0a-ab96-4e87-8990-dea6db1076a0"
   },
   "outputs": [],
   "source": [
    "ratings.dtypes"
   ]
  },
  {
   "cell_type": "code",
   "execution_count": null,
   "metadata": {
    "id": "8dj1UlZkbiJd"
   },
   "outputs": [],
   "source": [
    "userList=list(d['user_id'])\n",
    "itemList=list(d['item_id'])\n",
    "ratingList=list(d['ratings'])"
   ]
  },
  {
   "cell_type": "code",
   "execution_count": null,
   "metadata": {
    "id": "EuTgqT-1biJd"
   },
   "outputs": [],
   "source": [
    "URM = sp.coo_matrix((ratingList,(userList,itemList)))\n",
    "URM = URM.tocsr()"
   ]
  },
  {
   "cell_type": "code",
   "execution_count": null,
   "metadata": {
    "id": "r4kLvs-TbiJd",
    "outputId": "547ba2f6-8e3d-4fda-9dc3-08577d183c47"
   },
   "outputs": [],
   "source": [
    "URM"
   ]
  },
  {
   "cell_type": "code",
   "execution_count": null,
   "metadata": {
    "id": "FSE7ic-VbiJd"
   },
   "outputs": [],
   "source": [
    "def load_data_ICM():\n",
    "  return pd.read_csv(\"./data_ICM_title_abstract.csv\")"
   ]
  },
  {
   "cell_type": "code",
   "execution_count": null,
   "metadata": {
    "id": "-d-NVkEZbiJd"
   },
   "outputs": [],
   "source": [
    "features=load_data_ICM()\n",
    "d ={'item_id': features['row'],'feature_id':features['col'],'value':features['data']}\n",
    "features=pd.DataFrame(data=d)\n",
    "itemList=list(d['item_id'])"
   ]
  },
  {
   "cell_type": "code",
   "execution_count": null,
   "metadata": {
    "id": "hJs6hZ8obiJd"
   },
   "outputs": [],
   "source": [
    "featureList=list(d['feature_id'])"
   ]
  },
  {
   "cell_type": "code",
   "execution_count": null,
   "metadata": {
    "id": "kR-oPdRtbiJd"
   },
   "outputs": [],
   "source": [
    "valueList=list(d['value'])\n",
    "ICM = sp.coo_matrix((valueList,(itemList,featureList)))\n",
    "ICM = ICM.tocsr()"
   ]
  },
  {
   "cell_type": "code",
   "execution_count": null,
   "metadata": {
    "id": "_PXL-kG4biJd",
    "outputId": "163614e6-32e7-451c-b1b2-0de16719dea1"
   },
   "outputs": [],
   "source": [
    "ICM"
   ]
  },
  {
   "cell_type": "code",
   "execution_count": null,
   "metadata": {},
   "outputs": [],
   "source": [
    "num_users=URM.shape[0]"
   ]
  },
  {
   "cell_type": "code",
   "execution_count": null,
   "metadata": {},
   "outputs": [],
   "source": [
    "num_items=URM.shape[1]"
   ]
  },
  {
   "cell_type": "code",
   "execution_count": null,
   "metadata": {},
   "outputs": [],
   "source": [
    "num_users,num_items"
   ]
  },
  {
   "cell_type": "markdown",
   "metadata": {
    "id": "GLb4ij1thWhs"
   },
   "source": [
    "**Dataset splitting into train,validation and test**\n",
    "\n",
    "This is the last part before creating the recommender. However, this step is super important, as it is the base for the training, parameters optimization, and evaluation of the recommender(s).\n",
    "\n",
    "In here we read the ratings (which we loaded and preprocessed before) and create the train, validation, and test User-Rating Matrices (URM). It's important that these are disjoint to avoid information leakage from the train into the validation/test set, in our case, we are safe to use the train_test_split function from scikit-learn as the dataset only contains one datapoint for every (user,item) pair. On another topic, we first create the test set and then we create the validation by splitting again the train set.\n",
    "\n",
    "train_test_split takes an array (or several arrays) and divides it into train and test according to a given size (in our case testing_percentage and validation_percentage, which need to be a float between 0 and 1).\n",
    "\n",
    "After we have our different splits, we create the sparse URMs by using the csr_matrix function from scipy.\n",
    "\n",
    "\n"
   ]
  },
  {
   "cell_type": "code",
   "execution_count": null,
   "metadata": {},
   "outputs": [],
   "source": [
    "from Notebooks_utils.data_splitter import train_test_holdout\n",
    "\n",
    "urm_train_validation, urm_test = train_test_holdout(URM, train_perc = 0.85)\n",
    "urm_train, urm_validation = train_test_holdout(urm_train_validation, train_perc = 0.85)"
   ]
  },
  {
   "cell_type": "code",
   "execution_count": null,
   "metadata": {},
   "outputs": [],
   "source": [
    "#Save Data\n",
    "dataset = Dataset(\"prova\", {\"urm_train\" : urm_train}, {\"urm_validation\" : urm_validation}, {\"urm_test\" : urm_test}) \n",
    "dataset.save_data(\"Salvataggi/\")"
   ]
  },
  {
   "cell_type": "code",
   "execution_count": 2,
   "metadata": {},
   "outputs": [],
   "source": [
    "#Load\n",
    "loaded_dataset = Dataset(None, None, None, None)\n",
    "loaded_dataset.load_data(\"Salvataggi/\")\n",
    "\n",
    "\n",
    "urm_train = (loaded_dataset.get_urm_train())[\"urm_train\"]\n",
    "urm_validation = (loaded_dataset.get_urm_validation())[\"urm_validation\"]\n",
    "urm_test = loaded_dataset.get_urm_test()[\"urm_test\"]"
   ]
  },
  {
   "cell_type": "code",
   "execution_count": 3,
   "metadata": {},
   "outputs": [],
   "source": [
    "urm_train_validation = urm_train + urm_validation"
   ]
  },
  {
   "cell_type": "code",
   "execution_count": 5,
   "metadata": {},
   "outputs": [],
   "source": [
    "from Base.Evaluation.Evaluator import EvaluatorHoldout\n",
    "\n",
    "evaluator_validation = EvaluatorHoldout(urm_validation, cutoff_list=[10])\n",
    "evaluator_test = EvaluatorHoldout(urm_test, cutoff_list=[10])"
   ]
  },
  {
   "cell_type": "code",
   "execution_count": 6,
   "metadata": {},
   "outputs": [],
   "source": [
    "from skopt.space import Real, Integer, Categorical\n",
    "\n",
    "hyperparameters_range_dictionary = {}\n",
    "hyperparameters_range_dictionary[\"knn\"] = Integer(5, 1000)\n",
    "hyperparameters_range_dictionary[\"shrink\"] = Integer(0, 1000)\n",
    "hyperparameters_range_dictionary[\"similarity\"] = Categorical([\"cosine\"])"
   ]
  },
  {
   "cell_type": "code",
   "execution_count": 7,
   "metadata": {
    "scrolled": true
   },
   "outputs": [],
   "source": [
    "from ParameterTuning.SearchBayesianSkopt import SearchBayesianSkopt\n",
    "\n",
    "recommender_class = ItemBasedCollaborativeFiltering\n",
    "\n",
    "parameterSearch = SearchBayesianSkopt(recommender_class,\n",
    "                                 evaluator_validation=evaluator_validation,\n",
    "                                 evaluator_test=evaluator_test)"
   ]
  },
  {
   "cell_type": "code",
   "execution_count": 8,
   "metadata": {},
   "outputs": [],
   "source": [
    "from ParameterTuning.SearchAbstractClass import SearchInputRecommenderArgs\n",
    "  \n",
    "recommender_input_args = SearchInputRecommenderArgs(\n",
    "    CONSTRUCTOR_POSITIONAL_ARGS = [urm_train],     # For a CBF model simply put [URM_train, ICM_train]\n",
    "    CONSTRUCTOR_KEYWORD_ARGS = {},\n",
    "    FIT_POSITIONAL_ARGS = [],\n",
    "    FIT_KEYWORD_ARGS = {}\n",
    ")"
   ]
  },
  {
   "cell_type": "code",
   "execution_count": 9,
   "metadata": {},
   "outputs": [],
   "source": [
    "recommender_input_args_last_test = SearchInputRecommenderArgs(\n",
    "    CONSTRUCTOR_POSITIONAL_ARGS = [urm_train_validation],     # For a CBF model simply put [URM_train_validation, ICM_train]\n",
    "    CONSTRUCTOR_KEYWORD_ARGS = {},\n",
    "    FIT_POSITIONAL_ARGS = [],\n",
    "    FIT_KEYWORD_ARGS = {}\n",
    ")"
   ]
  },
  {
   "cell_type": "code",
   "execution_count": 10,
   "metadata": {},
   "outputs": [],
   "source": [
    "import os\n",
    "\n",
    "output_folder_path = \"result_experiments/\"\n",
    "\n",
    "# If directory does not exist, create\n",
    "if not os.path.exists(output_folder_path):\n",
    "    os.makedirs(output_folder_path)\n",
    "    \n",
    "n_cases = 5\n",
    "n_random_starts = int(n_cases*0.3)\n",
    "metric_to_optimize = \"MAP\""
   ]
  },
  {
   "cell_type": "code",
   "execution_count": 11,
   "metadata": {
    "scrolled": true
   },
   "outputs": [
    {
     "name": "stdout",
     "output_type": "stream",
     "text": [
      "Iteration No: 1 started. Evaluating function at random point.\n",
      "SearchBayesianSkopt: Testing config: {'knn': 146, 'shrink': 660, 'similarity': 'cosine'}\n",
      "Similarity column 25975 ( 100 % ), 2158.70 column/sec, elapsed time 0.20 min\n",
      "EvaluatorHoldout: Processed 4643 ( 100.00% ) in 2.79 sec. Users per second: 1662\n",
      "SearchBayesianSkopt: New best config found. Config 0: {'knn': 146, 'shrink': 660, 'similarity': 'cosine'} - results: ROC_AUC: 0.1062147, PRECISION: 0.0202886, PRECISION_RECALL_MIN_DEN: 0.0851358, RECALL: 0.0835327, MAP: 0.0383558, MRR: 0.0744432, NDCG: 0.0574994, F1: 0.0326477, HIT_RATE: 0.2028861, ARHR: 0.0811599, NOVELTY: 0.0048213, AVERAGE_POPULARITY: 0.1208662, DIVERSITY_MEAN_INTER_LIST: 0.9773862, DIVERSITY_HERFINDAHL: 0.9977176, COVERAGE_ITEM: 0.3932628, COVERAGE_ITEM_CORRECT: 0.0184408, COVERAGE_USER: 0.5842456, COVERAGE_USER_CORRECT: 0.0981502, DIVERSITY_GINI: 0.1193545, SHANNON_ENTROPY: 10.9724188, \n",
      "\n",
      "EvaluatorHoldout: Processed 5007 ( 100.00% ) in 3.02 sec. Users per second: 1657\n",
      "SearchBayesianSkopt: Best config evaluated with evaluator_test. Config: {'knn': 146, 'shrink': 660, 'similarity': 'cosine'} - results:\n",
      "CUTOFF: 10 - ROC_AUC: 0.1153360, PRECISION: 0.0228081, PRECISION_RECALL_MIN_DEN: 0.0874150, RECALL: 0.0854828, MAP: 0.0387099, MRR: 0.0838742, NDCG: 0.0597864, F1: 0.0360085, HIT_RATE: 0.2280807, ARHR: 0.0925336, NOVELTY: 0.0048389, AVERAGE_POPULARITY: 0.1190117, DIVERSITY_MEAN_INTER_LIST: 0.9780786, DIVERSITY_HERFINDAHL: 0.9977883, COVERAGE_ITEM: 0.4100096, COVERAGE_ITEM_CORRECT: 0.0231376, COVERAGE_USER: 0.6300491, COVERAGE_USER_CORRECT: 0.1170253, DIVERSITY_GINI: 0.1246822, SHANNON_ENTROPY: 11.0417228, \n",
      "\n",
      "\n",
      "DataIO: Json dumps supports only 'str' as dictionary keys. Transforming keys to string, note that this will alter the mapper content.\n",
      "Iteration No: 1 ended. Evaluation done at random point.\n",
      "Time taken: 19.2369\n",
      "Function value obtained: -0.0384\n",
      "Current minimum: -0.0384\n",
      "Iteration No: 2 started. Searching for the next optimal point.\n",
      "SearchBayesianSkopt: Testing config: {'knn': 1000, 'shrink': 0, 'similarity': 'cosine'}\n",
      "Similarity column 25975 ( 100 % ), 1993.75 column/sec, elapsed time 0.22 min\n",
      "EvaluatorHoldout: Processed 4643 ( 100.00% ) in 3.23 sec. Users per second: 1438\n",
      "SearchBayesianSkopt: Config 1 is suboptimal. Config: {'knn': 1000, 'shrink': 0, 'similarity': 'cosine'} - results: ROC_AUC: 0.0506386, PRECISION: 0.0099505, PRECISION_RECALL_MIN_DEN: 0.0444351, RECALL: 0.0440218, MAP: 0.0186395, MRR: 0.0339207, NDCG: 0.0286189, F1: 0.0162319, HIT_RATE: 0.0995046, ARHR: 0.0366450, NOVELTY: 0.0058752, AVERAGE_POPULARITY: 0.0154834, DIVERSITY_MEAN_INTER_LIST: 0.9971395, DIVERSITY_HERFINDAHL: 0.9996925, COVERAGE_ITEM: 0.5258518, COVERAGE_ITEM_CORRECT: 0.0159384, COVERAGE_USER: 0.5842456, COVERAGE_USER_CORRECT: 0.0498301, DIVERSITY_GINI: 0.2674063, SHANNON_ENTROPY: 12.9916165, \n",
      "\n",
      "Iteration No: 2 ended. Search finished for the next optimal point.\n",
      "Time taken: 19.8016\n",
      "Function value obtained: -0.0186\n",
      "Current minimum: -0.0384\n",
      "Iteration No: 3 started. Searching for the next optimal point.\n",
      "SearchBayesianSkopt: Testing config: {'knn': 5, 'shrink': 0, 'similarity': 'cosine'}\n",
      "Similarity column 25975 ( 100 % ), 2476.51 column/sec, elapsed time 0.17 min\n",
      "EvaluatorHoldout: Processed 4643 ( 100.00% ) in 2.41 sec. Users per second: 1924\n",
      "SearchBayesianSkopt: Config 2 is suboptimal. Config: {'knn': 5, 'shrink': 0, 'similarity': 'cosine'} - results: ROC_AUC: 0.0577459, PRECISION: 0.0103166, PRECISION_RECALL_MIN_DEN: 0.0474896, RECALL: 0.0467684, MAP: 0.0223516, MRR: 0.0402371, NDCG: 0.0324000, F1: 0.0169043, HIT_RATE: 0.1031661, ARHR: 0.0423743, NOVELTY: 0.0057166, AVERAGE_POPULARITY: 0.0257176, DIVERSITY_MEAN_INTER_LIST: 0.9199418, DIVERSITY_HERFINDAHL: 0.9919744, COVERAGE_ITEM: 0.4175553, COVERAGE_ITEM_CORRECT: 0.0151684, COVERAGE_USER: 0.5842456, COVERAGE_USER_CORRECT: 0.0534793, DIVERSITY_GINI: 0.1594030, SHANNON_ENTROPY: 10.9073932, \n",
      "\n",
      "Iteration No: 3 ended. Search finished for the next optimal point.\n",
      "Time taken: 13.2540\n",
      "Function value obtained: -0.0224\n",
      "Current minimum: -0.0384\n",
      "Iteration No: 4 started. Searching for the next optimal point.\n",
      "SearchBayesianSkopt: Testing config: {'knn': 5, 'shrink': 1000, 'similarity': 'cosine'}\n",
      "Similarity column 25975 ( 100 % ), 2605.36 column/sec, elapsed time 0.17 min\n",
      "EvaluatorHoldout: Processed 4643 ( 100.00% ) in 2.31 sec. Users per second: 2006\n",
      "SearchBayesianSkopt: Config 3 is suboptimal. Config: {'knn': 5, 'shrink': 1000, 'similarity': 'cosine'} - results: ROC_AUC: 0.0908153, PRECISION: 0.0161749, PRECISION_RECALL_MIN_DEN: 0.0680541, RECALL: 0.0668216, MAP: 0.0321687, MRR: 0.0624329, NDCG: 0.0474912, F1: 0.0260452, HIT_RATE: 0.1617489, ARHR: 0.0663471, NOVELTY: 0.0050322, AVERAGE_POPULARITY: 0.0816747, DIVERSITY_MEAN_INTER_LIST: 0.9633780, DIVERSITY_HERFINDAHL: 0.9963170, COVERAGE_ITEM: 0.3517613, COVERAGE_ITEM_CORRECT: 0.0174783, COVERAGE_USER: 0.5842456, COVERAGE_USER_CORRECT: 0.0820435, DIVERSITY_GINI: 0.1069203, SHANNON_ENTROPY: 10.7826903, \n",
      "\n",
      "Iteration No: 4 ended. Search finished for the next optimal point.\n",
      "Time taken: 12.5806\n",
      "Function value obtained: -0.0322\n",
      "Current minimum: -0.0384\n",
      "Iteration No: 5 started. Searching for the next optimal point.\n",
      "SearchBayesianSkopt: Testing config: {'knn': 998, 'shrink': 536, 'similarity': 'cosine'}\n",
      "Similarity column 25975 ( 100 % ), 2110.73 column/sec, elapsed time 0.21 min\n",
      "EvaluatorHoldout: Processed 4643 ( 100.00% ) in 3.21 sec. Users per second: 1446\n",
      "SearchBayesianSkopt: Config 4 is suboptimal. Config: {'knn': 998, 'shrink': 536, 'similarity': 'cosine'} - results: ROC_AUC: 0.1049959, PRECISION: 0.0201594, PRECISION_RECALL_MIN_DEN: 0.0851715, RECALL: 0.0835637, MAP: 0.0379440, MRR: 0.0741048, NDCG: 0.0571333, F1: 0.0324825, HIT_RATE: 0.2015938, ARHR: 0.0804097, NOVELTY: 0.0047354, AVERAGE_POPULARITY: 0.1338392, DIVERSITY_MEAN_INTER_LIST: 0.9719198, DIVERSITY_HERFINDAHL: 0.9971711, COVERAGE_ITEM: 0.3629644, COVERAGE_ITEM_CORRECT: 0.0175553, COVERAGE_USER: 0.5842456, COVERAGE_USER_CORRECT: 0.0985277, DIVERSITY_GINI: 0.1005466, SHANNON_ENTROPY: 10.6447217, \n",
      "\n",
      "Iteration No: 5 ended. Search finished for the next optimal point.\n",
      "Time taken: 19.0972\n",
      "Function value obtained: -0.0379\n",
      "Current minimum: -0.0384\n",
      "SearchBayesianSkopt: Search complete. Best config is 0: {'knn': 146, 'shrink': 660, 'similarity': 'cosine'}\n",
      "\n",
      "SearchBayesianSkopt: Evaluation with constructor data for final test. Using best config: {'knn': 146, 'shrink': 660, 'similarity': 'cosine'}\n",
      "Similarity column 25975 ( 100 % ), 2450.43 column/sec, elapsed time 0.18 min\n",
      "EvaluatorHoldout: Processed 5007 ( 100.00% ) in 3.28 sec. Users per second: 1525\n",
      "SearchBayesianSkopt: Best config evaluated with evaluator_test with constructor data for final test. Config: {'knn': 146, 'shrink': 660, 'similarity': 'cosine'} - results:\n",
      "CUTOFF: 10 - ROC_AUC: 0.1327628, PRECISION: 0.0264630, PRECISION_RECALL_MIN_DEN: 0.1030070, RECALL: 0.1008582, MAP: 0.0476673, MRR: 0.0980299, NDCG: 0.0716760, F1: 0.0419256, HIT_RATE: 0.2646295, ARHR: 0.1094847, NOVELTY: 0.0047702, AVERAGE_POPULARITY: 0.1256387, DIVERSITY_MEAN_INTER_LIST: 0.9753214, DIVERSITY_HERFINDAHL: 0.9975127, COVERAGE_ITEM: 0.3951492, COVERAGE_ITEM_CORRECT: 0.0263330, COVERAGE_USER: 0.6300491, COVERAGE_USER_CORRECT: 0.1319995, DIVERSITY_GINI: 0.1131856, SHANNON_ENTROPY: 10.8701932, \n",
      "\n",
      "\n",
      "SearchBayesianSkopt: Saving model in result_experiments/ItemBasedCFRecommender\n",
      "\n",
      "ItemBasedCFRecommender: Saving model in file 'result_experiments/ItemBasedCFRecommender_best_model_last'\n",
      "ItemBasedCFRecommender: Saving complete\n"
     ]
    }
   ],
   "source": [
    "parameterSearch.search(recommender_input_args,\n",
    "                       recommender_input_args_last_test = recommender_input_args_last_test,\n",
    "                       parameter_search_space = hyperparameters_range_dictionary,\n",
    "                       n_cases = n_cases,\n",
    "                       n_random_starts = n_random_starts,\n",
    "                       save_model = \"last\",\n",
    "                       output_folder_path = output_folder_path,\n",
    "                       output_file_name_root = recommender_class.RECOMMENDER_NAME,\n",
    "                       metric_to_optimize = metric_to_optimize,\n",
    "                      )"
   ]
  },
  {
   "cell_type": "code",
   "execution_count": 12,
   "metadata": {},
   "outputs": [
    {
     "data": {
      "text/plain": [
       "{'knn': 146, 'shrink': 660, 'similarity': 'cosine'}"
      ]
     },
     "execution_count": 12,
     "metadata": {},
     "output_type": "execute_result"
    }
   ],
   "source": [
    "data_loader = DataIO(folder_path = output_folder_path)\n",
    "search_metadata = data_loader.load_data(recommender_class.RECOMMENDER_NAME + \"_metadata.zip\")\n",
    "best_parameters = search_metadata[\"hyperparameters_best\"]\n",
    "best_parameters"
   ]
  },
  {
   "cell_type": "markdown",
   "metadata": {},
   "source": [
    "**Evaluation Metrics**"
   ]
  },
  {
   "cell_type": "code",
   "execution_count": null,
   "metadata": {},
   "outputs": [],
   "source": [
    "def recall(recommendations: np.array, relevant_items: np.array) -> float:\n",
    "    is_relevant = np.in1d(recommendations, relevant_items, assume_unique=True)\n",
    "    \n",
    "    recall_score = np.sum(is_relevant) / relevant_items.shape[0]\n",
    "    \n",
    "    return recall_score\n",
    "    \n",
    "    \n",
    "def precision(recommendations: np.array, relevant_items: np.array) -> float:\n",
    "    is_relevant = np.in1d(recommendations, relevant_items, assume_unique=True)\n",
    "    \n",
    "    precision_score = np.sum(is_relevant) / recommendations.shape[0]\n",
    "\n",
    "    return precision_score\n",
    "\n",
    "def mean_average_precision(recommendations: np.array, relevant_items: np.array) -> float:\n",
    "    is_relevant = np.in1d(recommendations, relevant_items, assume_unique=True)\n",
    "    \n",
    "    precision_at_k = is_relevant * np.cumsum(is_relevant, dtype=np.float32) / (1 + np.arange(is_relevant.shape[0]))\n",
    "\n",
    "    map_score = np.sum(precision_at_k) / np.min([relevant_items.shape[0], is_relevant.shape[0]])\n",
    "\n",
    "    return map_score"
   ]
  },
  {
   "cell_type": "markdown",
   "metadata": {},
   "source": [
    "**Evaluation Procedure**\n",
    "\n",
    "The evaluation procedure returns the averaged accuracy scores (in terms of precision, recall and MAP) for all users (that have at least 1 rating in the test set). It also calculates the number of evaluated and skipped users. It receives a recommender instance, and the train and test URMs."
   ]
  },
  {
   "cell_type": "code",
   "execution_count": null,
   "metadata": {},
   "outputs": [],
   "source": [
    "def evaluator(recommender: object, urm_train: sp.csr_matrix, urm_test: sp.csr_matrix):\n",
    "    recommendation_length = 10\n",
    "    accum_precision = 0\n",
    "    accum_recall = 0\n",
    "    accum_map = 0\n",
    "    \n",
    "    num_users = urm_train.shape[0]\n",
    "    \n",
    "    num_users_evaluated = 0\n",
    "    num_users_skipped = 0\n",
    "    \n",
    "    for user_id in range(num_users):\n",
    "        user_profile_start = urm_test.indptr[user_id]\n",
    "        user_profile_end = urm_test.indptr[user_id+1]\n",
    "\n",
    "        relevant_items = urm_test.indices[user_profile_start:user_profile_end]\n",
    "\n",
    "        if relevant_items.size == 0:\n",
    "            num_users_skipped += 1\n",
    "            continue\n",
    "            \n",
    "#         recommendations = recommender.recommend(user_id_array=user_id,\n",
    "#                                                cutoff=recommendation_length,\n",
    "#                                                remove_seen_flag=True\n",
    "#                                                )\n",
    "\n",
    "        expected_ratings = recommender.get_expected_ratings(user_id)\n",
    "        recommended_items = np.flip(np.argsort(expected_ratings), 0)\n",
    "\n",
    "        unseen_items_mask = np.in1d(recommended_items,urm_train[user_id].indices,\n",
    "                                        assume_unique=True, invert=True)\n",
    "\n",
    "        recommendations = recommended_items[unseen_items_mask]\n",
    "\n",
    "\n",
    "        accum_precision += precision(recommendations, relevant_items)\n",
    "        accum_recall += recall(recommendations, relevant_items)\n",
    "        accum_map += mean_average_precision(recommendations, relevant_items)\n",
    "\n",
    "        num_users_evaluated += 1\n",
    "\n",
    "    \n",
    "    accum_precision /= max(num_users_evaluated, 1)\n",
    "    accum_recall /= max(num_users_evaluated, 1)\n",
    "    accum_map /=  max(num_users_evaluated, 1)\n",
    "    \n",
    "    return accum_precision, accum_recall, accum_map, num_users_evaluated, num_users_skipped"
   ]
  },
  {
   "cell_type": "code",
   "execution_count": null,
   "metadata": {},
   "outputs": [],
   "source": [
    "#Params for the recommenders\n",
    "cbf_param = {\n",
    "    \"knn\": 140,\n",
    "    \"shrink\": 0\n",
    "}\n",
    "\n",
    "user_cf_param = {\n",
    "    \"knn\": 1000,\n",
    "    \"shrink\": 1000\n",
    "}\n",
    "\n",
    "item_cf_param = {\n",
    "    \"knn\": 1000,\n",
    "    \"shrink\": 1000\n",
    "}\n",
    "\n",
    "slim_bpr_param = {\n",
    "    \"learning_rate\" : 0.05,\n",
    "    \"epochs\": 10,\n",
    "    \"nnz\" : 1,\n",
    "    \"knn\": 200\n",
    "}\n",
    "\n",
    "als_param = {\n",
    "    \"n_factors\": 300,\n",
    "    \"regularization\": 0.15,\n",
    "    \"iterations\": 30\n",
    "}\n"
   ]
  },
  {
   "cell_type": "code",
   "execution_count": null,
   "metadata": {},
   "outputs": [],
   "source": [
    "userCF = UserBasedCollaborativeFiltering(knn=user_cf_param[\"knn\"], shrink=user_cf_param[\"shrink\"])"
   ]
  },
  {
   "cell_type": "code",
   "execution_count": null,
   "metadata": {},
   "outputs": [],
   "source": [
    "userCF.fit(urm_train)"
   ]
  },
  {
   "cell_type": "code",
   "execution_count": null,
   "metadata": {},
   "outputs": [],
   "source": [
    "accum_precision, accum_recall, accum_map, num_user_evaluated, num_users_skipped = evaluator(userCF, \n",
    "                                                                                            urm_train_validation, \n",
    "                                                                                            urm_test)\n",
    "accum_precision, accum_recall, accum_map, num_user_evaluated, num_users_skipped"
   ]
  },
  {
   "cell_type": "code",
   "execution_count": null,
   "metadata": {},
   "outputs": [],
   "source": [
    "itemCF = ItemBasedCollaborativeFiltering(urm_train)"
   ]
  },
  {
   "cell_type": "code",
   "execution_count": null,
   "metadata": {},
   "outputs": [],
   "source": [
    "itemCF.fit(knn=item_cf_param[\"knn\"], shrink=item_cf_param[\"shrink\"], similarity=\"cosine\")"
   ]
  },
  {
   "cell_type": "code",
   "execution_count": null,
   "metadata": {},
   "outputs": [],
   "source": [
    "accum_precision, accum_recall, accum_map, num_user_evaluated, num_users_skipped = evaluator(itemCF, \n",
    "                                                                                            urm_train_validation, \n",
    "                                                                                            urm_test)\n",
    "accum_precision, accum_recall, accum_map, num_user_evaluated, num_users_skipped"
   ]
  },
  {
   "cell_type": "code",
   "execution_count": null,
   "metadata": {},
   "outputs": [],
   "source": [
    "SlimBpr=SlimBPRRec(learning_rate=slim_bpr_param[\"learning_rate\"], epochs=slim_bpr_param[\"epochs\"], nnz=slim_bpr_param[\"nnz\"], knn=slim_bpr_param[\"knn\"])"
   ]
  },
  {
   "cell_type": "code",
   "execution_count": null,
   "metadata": {},
   "outputs": [],
   "source": [
    "SlimBpr.fit(urm_train)"
   ]
  },
  {
   "cell_type": "code",
   "execution_count": null,
   "metadata": {},
   "outputs": [],
   "source": [
    "accum_precision, accum_recall, accum_map, num_user_evaluated, num_users_skipped = evaluator(SlimBpr, \n",
    "                                                                                            urm_train_validation, \n",
    "                                                                                            urm_test)\n",
    "accum_precision, accum_recall, accum_map, num_user_evaluated, num_users_skipped"
   ]
  },
  {
   "cell_type": "code",
   "execution_count": null,
   "metadata": {},
   "outputs": [],
   "source": [
    "slim_elastic = SLIMElasticNetRecommender()"
   ]
  },
  {
   "cell_type": "code",
   "execution_count": null,
   "metadata": {},
   "outputs": [],
   "source": [
    "slim_elastic.fit(urm_train)"
   ]
  },
  {
   "cell_type": "code",
   "execution_count": null,
   "metadata": {},
   "outputs": [],
   "source": [
    "accum_precision, accum_recall, accum_map, num_user_evaluated, num_users_skipped = evaluator(slim_elastic, \n",
    "                                                                                            urm_train_validation, \n",
    "                                                                                            urm_test)\n",
    "accum_precision, accum_recall, accum_map, num_user_evaluated, num_users_skipped"
   ]
  },
  {
   "cell_type": "code",
   "execution_count": null,
   "metadata": {},
   "outputs": [],
   "source": [
    "cbf = ContentBasedFiltering(knn=cbf_param[\"knn\"],shrink=cbf_param[\"shrink\"])"
   ]
  },
  {
   "cell_type": "code",
   "execution_count": null,
   "metadata": {},
   "outputs": [],
   "source": [
    "cbf.fit(urm_train,ICM)"
   ]
  },
  {
   "cell_type": "code",
   "execution_count": null,
   "metadata": {},
   "outputs": [],
   "source": [
    "accum_precision, accum_recall, accum_map, num_user_evaluated, num_users_skipped = evaluator(cbf, \n",
    "                                                                                            urm_train_validation, \n",
    "                                                                                            urm_test)\n",
    "accum_precision, accum_recall, accum_map, num_user_evaluated, num_users_skipped"
   ]
  },
  {
   "cell_type": "code",
   "execution_count": null,
   "metadata": {},
   "outputs": [],
   "source": [
    "ALS = AlternatingLeastSquare(n_factors=als_param[\"n_factors\"], regularization=als_param[\"regularization\"],iterations=als_param[\"iterations\"])"
   ]
  },
  {
   "cell_type": "code",
   "execution_count": null,
   "metadata": {},
   "outputs": [],
   "source": [
    "ALS.fit(urm_train)"
   ]
  },
  {
   "cell_type": "code",
   "execution_count": null,
   "metadata": {},
   "outputs": [],
   "source": [
    "accum_precision, accum_recall, accum_map, num_user_evaluated, num_users_skipped = evaluator(ALS, \n",
    "                                                                                            urm_train_validation, \n",
    "                                                                                            urm_test)\n",
    "accum_precision, accum_recall, accum_map, num_user_evaluated, num_users_skipped"
   ]
  },
  {
   "cell_type": "markdown",
   "metadata": {},
   "source": [
    "**Hybrid**"
   ]
  },
  {
   "cell_type": "code",
   "execution_count": null,
   "metadata": {},
   "outputs": [],
   "source": [
    "class HybridRecommender(object):\n",
    "    def __init__(self, URM, ICM):\n",
    "        \n",
    "        self.urm = URM\n",
    "        \n",
    "        self.ICM = ICM\n",
    "\n",
    "#         self.userCF = UserBasedCollaborativeFiltering(URM.copy())\n",
    "\n",
    "        self.itemCF = ItemBasedCollaborativeFiltering(URM.copy())\n",
    "        \n",
    "#         self.cbf = ContentBasedFiltering(URM.copy(), ICM.copy())\n",
    "        \n",
    "#         self.slim_random = SLIM_BPR_Python(URM.copy())\n",
    "        \n",
    "#         self.slim_elastic = SLIMElasticNetRecommender()\n",
    "        \n",
    "#         self.ALS = AlternatingLeastSquare(URM.copy())\n",
    "    \n",
    "\n",
    "    def fit(self, w, user_cf_param, item_cf_param, cbf_param, slim_param, als_param,):\n",
    "        self.URM = URM\n",
    "\n",
    "        ### SUB-FITTING ###\n",
    "        print(\"Fitting user cf...\")\n",
    "#         self.userCF.fit(knn=user_cf_param[\"knn\"], shrink=user_cf_param[\"shrink\"])\n",
    "\n",
    "        print(\"Fitting item cf...\")\n",
    "        self.itemCF.fit(knn=item_cf_param[\"knn\"], shrink=item_cf_param[\"shrink\"], similarity=\"cosine\")\n",
    "        \n",
    "        print(\"Fitting cbf...\")\n",
    "#         self.cbf.fit(knn=cbf_param[\"knn\"],shrink=cbf_param[\"shrink\"])\n",
    "        \n",
    "        print(\"Fitting slim bpr...\")\n",
    "#         self.slim_random.fit(topK=slim_param[\"topK\"],epochs=slim_param[\"epochs\"])\n",
    "        \n",
    "        print(\"Fitting slim elastic...\")\n",
    "#         self.slim_elastic.fit(URM.copy())\n",
    "        \n",
    "        print(\"Fitting ALS...\")\n",
    "#         self.ALS.fit(n_factors=als_param[\"n_factors\"], regularization=als_param[\"regularization\"],iterations=als_param[\"iterations\"])\n",
    "\n",
    "\n",
    "    def recommend(self,user_id,urm_train: sp.csr_matrix,at=10):\n",
    "     \n",
    "        expected_ratings = self.get_expected_ratings(user_id)\n",
    "        \n",
    "        recommended_items = np.flip(np.argsort(expected_ratings), 0)\n",
    "\n",
    "        # REMOVING SEEN\n",
    "        unseen_items_mask = np.in1d(recommended_items,urm_train[user_id].indices,\n",
    "                                    assume_unique=True, invert=True)\n",
    "        recommended_items = recommended_items[unseen_items_mask]\n",
    "\n",
    "        return recommended_items[0:at]\n",
    "    \n",
    "    def get_expected_ratings(self, user_id) :\n",
    "#         self.userCF_ratings = self.userCF.get_expected_ratings(user_id)\n",
    "        self.itemCF_ratings = self.itemCF.get_expected_ratings(user_id)\n",
    "#         self.cbf_ratings = self.cbf.get_expected_ratings(user_id)\n",
    "#         self.slim_ratings = self.slim_random.get_expected_ratings(user_id)\n",
    "#         self.slim_elastic_ratings = self.slim_elastic.get_expected_ratings(user_id)\n",
    "#         self.ALS_ratings = self.ALS.get_expected_ratings(user_id)\n",
    "\n",
    "        self.hybrid_ratings = None \n",
    "\n",
    "#         self.hybrid_ratings = self.userCF_ratings * w[\"user_cf\"]\n",
    "        self.hybrid_ratings = self.itemCF_ratings * w[\"item_cf\"]\n",
    "#         self.hybrid_ratings += self.cbf_ratings * w_right[\"cbf\"]\n",
    "#         self.hybrid_ratings += self.slim_ratings * w[\"slim\"]\n",
    "#         self.hybrid_ratings += self.ALS_ratings * w[\"als\"]\n",
    "#         self.hybrid_ratings += self.slim_elastic_ratings * w[\"elastic\"]\n",
    "\n",
    "        return self.hybrid_ratings\n",
    "\n",
    "w = {\n",
    "    \"user_cf\": 0,\n",
    "    \"item_cf\": 1,\n",
    "    \"cbf\": 0,\n",
    "    \"icm_svd\": 0,\n",
    "    \"als\": 0,\n",
    "    \"slim\": 0,\n",
    "    \"elastic\": 0\n",
    "}\n"
   ]
  },
  {
   "cell_type": "code",
   "execution_count": null,
   "metadata": {},
   "outputs": [],
   "source": [
    "recommender = HybridRecommender(urm_train, ICM)"
   ]
  },
  {
   "cell_type": "code",
   "execution_count": null,
   "metadata": {
    "scrolled": true
   },
   "outputs": [],
   "source": [
    "recommender.fit(w, user_cf_param=user_cf_param,item_cf_param=item_cf_param,cbf_param=cbf_param,slim_param=slim_bpr_param,als_param=als_param)"
   ]
  },
  {
   "cell_type": "code",
   "execution_count": null,
   "metadata": {},
   "outputs": [],
   "source": [
    "accum_precision, accum_recall, accum_map, num_user_evaluated, num_users_skipped = evaluator(recommender, \n",
    "                                                                                            urm_train_validation, \n",
    "                                                                                            urm_test)\n",
    "accum_precision, accum_recall, accum_map, num_user_evaluated, num_users_skipped"
   ]
  },
  {
   "cell_type": "markdown",
   "metadata": {
    "id": "0Vi-dduXaj46"
   },
   "source": [
    "**Submission to competition**\n",
    "\n",
    "This step serves as a similar step that you will perform when preparing a submission to the competition. Specially after you have chosen and trained your recommender.\n",
    "\n",
    "For this step the best suggestion is to select the most-performing configuration obtained in the hyperparameter tuning step and to train the recommender using both the train and validation set. Remember that in the competition you do not have access to the test set.\n",
    "\n",
    "Another consideration is that, due to easier and faster calculations, we replaced the user/item identifiers with new ones in the preprocessing step. For the competition, you are required to generate recommendations using the dataset's original identifiers. Due to this, this step also reverts back the newer identifiers with the ones originally found in the dataset.\n",
    "\n",
    "Last, this step creates a function that writes the recommendations for each user in the same file in a tabular format following this format:\n",
    "\n",
    "csv\n",
    "<user_id>,<item_id_1> <item_id_2> <item_id_3> <item_id_4> <item_id_5> <item_id_6> <item_id_7> <item_id_8> <item_id_9> <item_id_10>\n",
    "Always verify the competitions' submission file model as it might vary from the one we presented here."
   ]
  },
  {
   "cell_type": "code",
   "execution_count": null,
   "metadata": {
    "id": "EcSDk9aMtW4k"
   },
   "outputs": [],
   "source": [
    "def load_goodguys():\n",
    "  return pd.read_csv(\"./data_target_users_test.csv\")\n",
    "goodguys=load_goodguys()"
   ]
  },
  {
   "cell_type": "code",
   "execution_count": null,
   "metadata": {
    "id": "eHzsuFiqtW4k",
    "outputId": "bc36c459-1cc6-460a-b403-95482cf1508d"
   },
   "outputs": [],
   "source": [
    "goodguys"
   ]
  },
  {
   "cell_type": "code",
   "execution_count": null,
   "metadata": {
    "id": "0b3DwuXrayTA",
    "outputId": "27c6d557-b304-427c-bf2c-8fdc090efe64"
   },
   "outputs": [],
   "source": [
    "users_to_recommend = np.random.choice(goodguys.user_id,size=goodguys.size, replace=False)\n",
    "users_to_recommend"
   ]
  },
  {
   "cell_type": "code",
   "execution_count": null,
   "metadata": {
    "id": "RurxNTttbI-i"
   },
   "outputs": [],
   "source": [
    "def prepare_submission(ratings: pd.DataFrame, users_to_recommend: np.array, urm_train: sp.csr_matrix, recommender: object):\n",
    "    \n",
    "    recommendation_length = 10\n",
    "    submission = []\n",
    "    \n",
    "    for user_id in users_to_recommend :\n",
    "\n",
    "        recommendations = recommender.recommend(user_id, urm_train, recommendation_length)\n",
    "\n",
    "        \n",
    "        submission.append((user_id, [item_id for item_id in recommendations]))\n",
    "   \n",
    "    return submission"
   ]
  },
  {
   "cell_type": "code",
   "execution_count": null,
   "metadata": {
    "id": "5KYlvMDVbLxo",
    "scrolled": true
   },
   "outputs": [],
   "source": [
    "submission = prepare_submission(ratings, users_to_recommend, urm_train_validation, recommender)"
   ]
  },
  {
   "cell_type": "code",
   "execution_count": null,
   "metadata": {
    "id": "sJZEjE3CbQTp",
    "outputId": "8e2faf6b-144c-4ba3-ee1a-692290e15d3c"
   },
   "outputs": [],
   "source": [
    "submission"
   ]
  },
  {
   "cell_type": "code",
   "execution_count": null,
   "metadata": {
    "id": "6hCawP60bVm3"
   },
   "outputs": [],
   "source": [
    "import os\n",
    "from datetime import datetime\n",
    "\n",
    "csv_fname = './submission'\n",
    "csv_fname += datetime.now().strftime('%b%d_%H-%M-%S') + '.csv'\n",
    "\n",
    "def write_submission(submissions):\n",
    "    with open(csv_fname, \"w\") as f:\n",
    "        f.write(f\"user_id,item_list\\n\")\n",
    "        for user_id, items in submissions:\n",
    "            f.write(f\"{user_id},{' '.join([str(item) for item in items])}\\n\")\n"
   ]
  },
  {
   "cell_type": "code",
   "execution_count": null,
   "metadata": {
    "id": "ov91al-UbXAQ"
   },
   "outputs": [],
   "source": [
    "write_submission(submission)"
   ]
  },
  {
   "cell_type": "code",
   "execution_count": null,
   "metadata": {},
   "outputs": [],
   "source": []
  }
 ],
 "metadata": {
  "colab": {
   "collapsed_sections": [],
   "name": "RecommenderChallenge.ipynb",
   "provenance": []
  },
  "kernelspec": {
   "display_name": "Python 3",
   "language": "python",
   "name": "python3"
  },
  "language_info": {
   "codemirror_mode": {
    "name": "ipython",
    "version": 3
   },
   "file_extension": ".py",
   "mimetype": "text/x-python",
   "name": "python",
   "nbconvert_exporter": "python",
   "pygments_lexer": "ipython3",
   "version": "3.6.10"
  }
 },
 "nbformat": 4,
 "nbformat_minor": 1
}
