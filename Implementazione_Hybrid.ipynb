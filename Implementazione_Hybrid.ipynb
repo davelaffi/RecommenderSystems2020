{
 "cells": [
  {
   "cell_type": "code",
   "execution_count": 1,
   "metadata": {
    "id": "ybQSYdHvb_CB"
   },
   "outputs": [],
   "source": [
    "import numpy as np\n",
    "import pandas as pd\n",
    "import scipy.sparse as sp\n",
    "from tqdm import tqdm\n",
    "from Base.DataIO import DataIO\n",
    "\n",
    "#----Recommenders----\n",
    "from SLIM.SLIM_BPR_Python import SLIM_BPR_Python\n",
    "from SLIM.SlimElasticNet import SLIMElasticNetRecommender\n",
    "from cf.item_cf3 import ItemBasedCollaborativeFiltering\n",
    "from cf.user_cf2 import UserBasedCollaborativeFiltering\n",
    "from MF.ALS import AlternatingLeastSquare\n",
    "from cbf.cbf import ContentBasedFiltering\n",
    "from SlimBPR.SlimBPRRec import SlimBPRRec\n",
    "from SlimBPR.SlimBPR import SlimBPR\n",
    "#---------------\n",
    "\n",
    "#----Model Load & Save----\n",
    "#from Data_manager.DataReader import DataReader\n",
    "#from Data_manager.DataSplitter import DataSplitter\n",
    "from Data_manager.Dataset import Dataset\n",
    "#-------------------------\n",
    "\n",
    "from sklearn.model_selection import train_test_split"
   ]
  },
  {
   "cell_type": "markdown",
   "metadata": {
    "id": "iyPCmUzVedBh"
   },
   "source": [
    "**Dataset loading with pandas**\n",
    "\n",
    "The function read_csv from pandas provides a wonderful and fast interface to load tabular data like this. For better results and performance we provide the separator ::, the column names [\"user_id\", \"item_id\", \"ratings\", \"timestamp\"], and the types of each attribute in the dtype parameter."
   ]
  },
  {
   "cell_type": "code",
   "execution_count": 2,
   "metadata": {
    "id": "96AUQmIlcAr2"
   },
   "outputs": [],
   "source": [
    "def load_data():\n",
    "  return pd.read_csv(\"./data_train.csv\")"
   ]
  },
  {
   "cell_type": "code",
   "execution_count": 3,
   "metadata": {
    "id": "vMaAYCCksV82"
   },
   "outputs": [],
   "source": [
    "ratings=load_data()\n",
    "d ={'user_id': ratings['row'],'item_id':ratings['col'],'ratings':ratings['data']}\n",
    "ratings=pd.DataFrame(data=d)"
   ]
  },
  {
   "cell_type": "code",
   "execution_count": 4,
   "metadata": {
    "colab": {
     "base_uri": "https://localhost:8080/"
    },
    "id": "enpGAp964Y5a",
    "outputId": "c436ac0a-ab96-4e87-8990-dea6db1076a0"
   },
   "outputs": [
    {
     "data": {
      "text/plain": [
       "user_id      int64\n",
       "item_id      int64\n",
       "ratings    float64\n",
       "dtype: object"
      ]
     },
     "execution_count": 4,
     "metadata": {},
     "output_type": "execute_result"
    }
   ],
   "source": [
    "ratings.dtypes"
   ]
  },
  {
   "cell_type": "code",
   "execution_count": 5,
   "metadata": {
    "id": "8dj1UlZkbiJd"
   },
   "outputs": [],
   "source": [
    "userList=list(d['user_id'])\n",
    "itemList=list(d['item_id'])\n",
    "ratingList=list(d['ratings'])"
   ]
  },
  {
   "cell_type": "code",
   "execution_count": 6,
   "metadata": {
    "id": "EuTgqT-1biJd"
   },
   "outputs": [],
   "source": [
    "URM = sp.coo_matrix((ratingList,(userList,itemList)))\n",
    "URM = URM.tocsr()"
   ]
  },
  {
   "cell_type": "code",
   "execution_count": 7,
   "metadata": {
    "id": "r4kLvs-TbiJd",
    "outputId": "547ba2f6-8e3d-4fda-9dc3-08577d183c47"
   },
   "outputs": [
    {
     "data": {
      "text/plain": [
       "<7947x25975 sparse matrix of type '<class 'numpy.float64'>'\n",
       "\twith 113268 stored elements in Compressed Sparse Row format>"
      ]
     },
     "execution_count": 7,
     "metadata": {},
     "output_type": "execute_result"
    }
   ],
   "source": [
    "URM"
   ]
  },
  {
   "cell_type": "code",
   "execution_count": 8,
   "metadata": {
    "id": "FSE7ic-VbiJd"
   },
   "outputs": [],
   "source": [
    "def load_data_ICM():\n",
    "  return pd.read_csv(\"./data_ICM_title_abstract.csv\")"
   ]
  },
  {
   "cell_type": "code",
   "execution_count": 9,
   "metadata": {
    "id": "-d-NVkEZbiJd"
   },
   "outputs": [],
   "source": [
    "features=load_data_ICM()\n",
    "d ={'item_id': features['row'],'feature_id':features['col'],'value':features['data']}\n",
    "features=pd.DataFrame(data=d)\n",
    "itemList=list(d['item_id'])"
   ]
  },
  {
   "cell_type": "code",
   "execution_count": 10,
   "metadata": {
    "id": "hJs6hZ8obiJd"
   },
   "outputs": [],
   "source": [
    "featureList=list(d['feature_id'])"
   ]
  },
  {
   "cell_type": "code",
   "execution_count": 11,
   "metadata": {
    "id": "kR-oPdRtbiJd"
   },
   "outputs": [],
   "source": [
    "valueList=list(d['value'])\n",
    "ICM = sp.coo_matrix((valueList,(itemList,featureList)))\n",
    "ICM = ICM.tocsr()"
   ]
  },
  {
   "cell_type": "code",
   "execution_count": 12,
   "metadata": {
    "id": "_PXL-kG4biJd",
    "outputId": "163614e6-32e7-451c-b1b2-0de16719dea1"
   },
   "outputs": [
    {
     "data": {
      "text/plain": [
       "<25975x20000 sparse matrix of type '<class 'numpy.float64'>'\n",
       "\twith 490691 stored elements in Compressed Sparse Row format>"
      ]
     },
     "execution_count": 12,
     "metadata": {},
     "output_type": "execute_result"
    }
   ],
   "source": [
    "ICM"
   ]
  },
  {
   "cell_type": "code",
   "execution_count": 13,
   "metadata": {},
   "outputs": [],
   "source": [
    "num_users=URM.shape[0]"
   ]
  },
  {
   "cell_type": "code",
   "execution_count": 14,
   "metadata": {},
   "outputs": [],
   "source": [
    "num_items=URM.shape[1]"
   ]
  },
  {
   "cell_type": "code",
   "execution_count": 15,
   "metadata": {},
   "outputs": [
    {
     "data": {
      "text/plain": [
       "(7947, 25975)"
      ]
     },
     "execution_count": 15,
     "metadata": {},
     "output_type": "execute_result"
    }
   ],
   "source": [
    "num_users,num_items"
   ]
  },
  {
   "cell_type": "markdown",
   "metadata": {
    "id": "GLb4ij1thWhs"
   },
   "source": [
    "**Dataset splitting into train,validation and test**\n",
    "\n",
    "This is the last part before creating the recommender. However, this step is super important, as it is the base for the training, parameters optimization, and evaluation of the recommender(s).\n",
    "\n",
    "In here we read the ratings (which we loaded and preprocessed before) and create the train, validation, and test User-Rating Matrices (URM). It's important that these are disjoint to avoid information leakage from the train into the validation/test set, in our case, we are safe to use the train_test_split function from scikit-learn as the dataset only contains one datapoint for every (user,item) pair. On another topic, we first create the test set and then we create the validation by splitting again the train set.\n",
    "\n",
    "train_test_split takes an array (or several arrays) and divides it into train and test according to a given size (in our case testing_percentage and validation_percentage, which need to be a float between 0 and 1).\n",
    "\n",
    "After we have our different splits, we create the sparse URMs by using the csr_matrix function from scipy.\n",
    "\n",
    "\n"
   ]
  },
  {
   "cell_type": "code",
   "execution_count": 16,
   "metadata": {},
   "outputs": [],
   "source": [
    "from Base.Evaluation.Evaluator import EvaluatorHoldout\n",
    "from Notebooks_utils.data_splitter import train_test_holdout\n",
    "\n",
    "urm_train_validation, urm_test = train_test_holdout(URM, train_perc = 0.85)\n",
    "urm_train, urm_validation = train_test_holdout(urm_train_validation, train_perc = 0.85)\n",
    "\n",
    "evaluator_validation = EvaluatorHoldout(urm_validation, cutoff_list=[10])\n",
    "evaluator_test = EvaluatorHoldout(urm_test, cutoff_list=[10])"
   ]
  },
  {
   "cell_type": "code",
   "execution_count": 17,
   "metadata": {},
   "outputs": [],
   "source": [
    "dataset = Dataset(\"prova\", urm_train_validation, urm_test, ICM) "
   ]
  },
  {
   "cell_type": "code",
   "execution_count": 18,
   "metadata": {},
   "outputs": [
    {
     "name": "stdout",
     "output_type": "stream",
     "text": [
      "  (0, 10080)\t1.0\n",
      "  (1, 2665)\t1.0\n",
      "  (1, 17068)\t1.0\n",
      "  (1, 17723)\t1.0\n",
      "  (1, 18131)\t1.0\n",
      "  (1, 20146)\t1.0\n",
      "  (2, 21181)\t1.0\n",
      "  (3, 18736)\t1.0\n",
      "  (3, 23037)\t1.0\n",
      "  (4, 477)\t1.0\n",
      "  (4, 6927)\t1.0\n",
      "  (4, 10204)\t1.0\n",
      "  (4, 13707)\t1.0\n",
      "  (4, 18999)\t1.0\n",
      "  (5, 814)\t1.0\n",
      "  (5, 2754)\t1.0\n",
      "  (5, 3907)\t1.0\n",
      "  (5, 4481)\t1.0\n",
      "  (5, 5581)\t1.0\n",
      "  (5, 6549)\t1.0\n",
      "  (5, 7583)\t1.0\n",
      "  (5, 8849)\t1.0\n",
      "  (5, 9014)\t1.0\n",
      "  (5, 9658)\t1.0\n",
      "  (5, 12914)\t1.0\n",
      "  :\t:\n",
      "  (7944, 22869)\t1.0\n",
      "  (7944, 23519)\t1.0\n",
      "  (7944, 23721)\t1.0\n",
      "  (7944, 23986)\t1.0\n",
      "  (7944, 24022)\t1.0\n",
      "  (7944, 24075)\t1.0\n",
      "  (7944, 24484)\t1.0\n",
      "  (7944, 24806)\t1.0\n",
      "  (7944, 24882)\t1.0\n",
      "  (7944, 24912)\t1.0\n",
      "  (7944, 24990)\t1.0\n",
      "  (7944, 25068)\t1.0\n",
      "  (7944, 25119)\t1.0\n",
      "  (7944, 25314)\t1.0\n",
      "  (7944, 25707)\t1.0\n",
      "  (7944, 25713)\t1.0\n",
      "  (7944, 25746)\t1.0\n",
      "  (7944, 25812)\t1.0\n",
      "  (7944, 25882)\t1.0\n",
      "  (7945, 817)\t1.0\n",
      "  (7945, 2476)\t1.0\n",
      "  (7945, 12319)\t1.0\n",
      "  (7945, 21384)\t1.0\n",
      "  (7946, 8699)\t1.0\n",
      "  (7946, 19178)\t1.0\n",
      "  (0, 19467)\t1.0\n",
      "  (1, 7494)\t1.0\n",
      "  (2, 19337)\t1.0\n",
      "  (4, 19838)\t1.0\n",
      "  (4, 19851)\t1.0\n",
      "  (7, 16685)\t1.0\n",
      "  (7, 22181)\t1.0\n",
      "  (10, 6380)\t1.0\n",
      "  (11, 5200)\t1.0\n",
      "  (11, 7753)\t1.0\n",
      "  (11, 17791)\t1.0\n",
      "  (11, 19427)\t1.0\n",
      "  (11, 21807)\t1.0\n",
      "  (12, 11339)\t1.0\n",
      "  (14, 22286)\t1.0\n",
      "  (16, 13410)\t1.0\n",
      "  (17, 2667)\t1.0\n",
      "  (17, 3165)\t1.0\n",
      "  (17, 4792)\t1.0\n",
      "  (17, 10269)\t1.0\n",
      "  (17, 16098)\t1.0\n",
      "  (17, 17994)\t1.0\n",
      "  (17, 18775)\t1.0\n",
      "  (17, 20626)\t1.0\n",
      "  (17, 24725)\t1.0\n",
      "  :\t:\n",
      "  (7940, 18822)\t1.0\n",
      "  (7940, 21854)\t1.0\n",
      "  (7941, 15778)\t1.0\n",
      "  (7942, 24405)\t1.0\n",
      "  (7944, 415)\t1.0\n",
      "  (7944, 3125)\t1.0\n",
      "  (7944, 3446)\t1.0\n",
      "  (7944, 3692)\t1.0\n",
      "  (7944, 3802)\t1.0\n",
      "  (7944, 6046)\t1.0\n",
      "  (7944, 6282)\t1.0\n",
      "  (7944, 8165)\t1.0\n",
      "  (7944, 8319)\t1.0\n",
      "  (7944, 9486)\t1.0\n",
      "  (7944, 10032)\t1.0\n",
      "  (7944, 11573)\t1.0\n",
      "  (7944, 11964)\t1.0\n",
      "  (7944, 12527)\t1.0\n",
      "  (7944, 13786)\t1.0\n",
      "  (7944, 15359)\t1.0\n",
      "  (7944, 15583)\t1.0\n",
      "  (7944, 19208)\t1.0\n",
      "  (7944, 20532)\t1.0\n",
      "  (7944, 21501)\t1.0\n",
      "  (7944, 25953)\t1.0\n",
      "  (0, 1185)\t1.0155238528490431\n",
      "  (0, 2507)\t0.4590236122747286\n",
      "  (0, 3534)\t0.2277423980028497\n",
      "  (0, 8766)\t0.5015486500435398\n",
      "  (0, 10862)\t0.297010950830452\n",
      "  (0, 11171)\t0.0741344056718804\n",
      "  (0, 12276)\t0.1836447789262808\n",
      "  (0, 12899)\t0.11016809836417582\n",
      "  (0, 12996)\t0.2059209326130223\n",
      "  (0, 15509)\t0.1319664880204454\n",
      "  (0, 15697)\t1.0394234295737121\n",
      "  (0, 15963)\t1.0150960252867385\n",
      "  (0, 17323)\t0.09894438738160367\n",
      "  (0, 17969)\t0.3177529120501895\n",
      "  (0, 18664)\t0.2283280502119487\n",
      "  (0, 18739)\t0.16271333895986909\n",
      "  (0, 19443)\t0.3396986806425767\n",
      "  (1, 4491)\t0.9496188342356204\n",
      "  (1, 6248)\t0.9757535788847672\n",
      "  (1, 10060)\t0.028560068110603687\n",
      "  (1, 11628)\t1.044078397993085\n",
      "  (1, 13007)\t0.1137456587888592\n",
      "  (2, 2381)\t0.1637323089733631\n",
      "  (2, 2507)\t0.5867847795083503\n",
      "  (2, 2566)\t0.3235376722823832\n",
      "  :\t:\n",
      "  (25973, 5065)\t0.13613639032866465\n",
      "  (25973, 5807)\t0.2935149152116403\n",
      "  (25973, 6659)\t0.4477251257976749\n",
      "  (25973, 8785)\t1.01477293777655\n",
      "  (25973, 9412)\t0.24594047839434904\n",
      "  (25973, 10362)\t0.4098537896849525\n",
      "  (25973, 12185)\t0.0020602674387311948\n",
      "  (25973, 12625)\t0.13895787013481276\n",
      "  (25973, 13470)\t0.45397762797179797\n",
      "  (25973, 16364)\t0.15368918150301628\n",
      "  (25974, 4498)\t0.9899022286145914\n",
      "  (25974, 6764)\t1.0465642849209562\n",
      "  (25974, 7325)\t0.5825310977387491\n",
      "  (25974, 7662)\t0.3068935853259428\n",
      "  (25974, 9945)\t1.0205080945832192\n",
      "  (25974, 10200)\t0.16622442359920778\n",
      "  (25974, 10454)\t0.951674929612782\n",
      "  (25974, 10502)\t0.20157979014653093\n",
      "  (25974, 11366)\t0.17727641974767816\n",
      "  (25974, 11924)\t0.4072930894593423\n",
      "  (25974, 12554)\t0.9630162069686026\n",
      "  (25974, 13003)\t0.10461315331587352\n",
      "  (25974, 16236)\t0.11875957775824594\n",
      "  (25974, 18797)\t0.3633009980986941\n",
      "  (25974, 19629)\t0.1291407100074455\n",
      "prova\n",
      "DataIO: Folder salvataggi.temp_DataIO__dataset_URM_train/ already exists, could be the result of a previous failed save attempt or multiple saver are active in parallel. Folder will be removed.\n"
     ]
    },
    {
     "ename": "AttributeError",
     "evalue": "items not found",
     "output_type": "error",
     "traceback": [
      "\u001b[1;31m---------------------------------------------------------------------------\u001b[0m",
      "\u001b[1;31mAttributeError\u001b[0m                            Traceback (most recent call last)",
      "\u001b[1;32m<ipython-input-18-2d74cd12125d>\u001b[0m in \u001b[0;36m<module>\u001b[1;34m\u001b[0m\n\u001b[1;32m----> 1\u001b[1;33m \u001b[0mdataset\u001b[0m\u001b[1;33m.\u001b[0m\u001b[0msave_data\u001b[0m\u001b[1;33m(\u001b[0m\u001b[1;34m\"salvataggi\"\u001b[0m\u001b[1;33m)\u001b[0m\u001b[1;33m\u001b[0m\u001b[1;33m\u001b[0m\u001b[0m\n\u001b[0m",
      "\u001b[1;32m~\\Desktop\\ChallengeRecommender\\Data_manager\\Dataset.py\u001b[0m in \u001b[0;36msave_data\u001b[1;34m(self, save_folder_path)\u001b[0m\n\u001b[0;32m    103\u001b[0m         \u001b[0mdataIO\u001b[0m\u001b[1;33m.\u001b[0m\u001b[0msave_data\u001b[0m\u001b[1;33m(\u001b[0m\u001b[0mfile_name\u001b[0m \u001b[1;33m=\u001b[0m \u001b[1;34m\"dataset_global_attributes\"\u001b[0m\u001b[1;33m,\u001b[0m \u001b[0mdata_dict_to_save\u001b[0m \u001b[1;33m=\u001b[0m \u001b[0mglobal_attributes_dict\u001b[0m\u001b[1;33m)\u001b[0m\u001b[1;33m\u001b[0m\u001b[1;33m\u001b[0m\u001b[0m\n\u001b[0;32m    104\u001b[0m \u001b[1;33m\u001b[0m\u001b[0m\n\u001b[1;32m--> 105\u001b[1;33m         \u001b[0mdataIO\u001b[0m\u001b[1;33m.\u001b[0m\u001b[0msave_data\u001b[0m\u001b[1;33m(\u001b[0m\u001b[0mfile_name\u001b[0m \u001b[1;33m=\u001b[0m \u001b[1;34m\"dataset_URM_train\"\u001b[0m\u001b[1;33m,\u001b[0m \u001b[0mdata_dict_to_save\u001b[0m \u001b[1;33m=\u001b[0m \u001b[0mself\u001b[0m\u001b[1;33m.\u001b[0m\u001b[0mURM_train\u001b[0m\u001b[1;33m)\u001b[0m\u001b[1;33m\u001b[0m\u001b[1;33m\u001b[0m\u001b[0m\n\u001b[0m\u001b[0;32m    106\u001b[0m \u001b[1;33m\u001b[0m\u001b[0m\n\u001b[0;32m    107\u001b[0m         dataIO.save_data(data_dict_to_save = self.URM_test,\n",
      "\u001b[1;32m~\\Desktop\\ChallengeRecommender\\Base\\DataIO.py\u001b[0m in \u001b[0;36msave_data\u001b[1;34m(self, file_name, data_dict_to_save)\u001b[0m\n\u001b[0;32m    115\u001b[0m         \u001b[0mattribute_to_json_file\u001b[0m \u001b[1;33m=\u001b[0m \u001b[1;33m{\u001b[0m\u001b[1;33m}\u001b[0m\u001b[1;33m\u001b[0m\u001b[1;33m\u001b[0m\u001b[0m\n\u001b[0;32m    116\u001b[0m \u001b[1;33m\u001b[0m\u001b[0m\n\u001b[1;32m--> 117\u001b[1;33m         \u001b[1;32mfor\u001b[0m \u001b[0mattrib_name\u001b[0m\u001b[1;33m,\u001b[0m \u001b[0mattrib_data\u001b[0m \u001b[1;32min\u001b[0m \u001b[0mdata_dict_to_save\u001b[0m\u001b[1;33m.\u001b[0m\u001b[0mitems\u001b[0m\u001b[1;33m(\u001b[0m\u001b[1;33m)\u001b[0m\u001b[1;33m:\u001b[0m\u001b[1;33m\u001b[0m\u001b[1;33m\u001b[0m\u001b[0m\n\u001b[0m\u001b[0;32m    118\u001b[0m \u001b[1;33m\u001b[0m\u001b[0m\n\u001b[0;32m    119\u001b[0m             \u001b[0mcurrent_file_path\u001b[0m \u001b[1;33m=\u001b[0m \u001b[0mcurrent_temp_folder\u001b[0m \u001b[1;33m+\u001b[0m \u001b[0mattrib_name\u001b[0m\u001b[1;33m\u001b[0m\u001b[1;33m\u001b[0m\u001b[0m\n",
      "\u001b[1;32m~\\anaconda3\\envs\\RecSysFramework\\lib\\site-packages\\scipy\\sparse\\base.py\u001b[0m in \u001b[0;36m__getattr__\u001b[1;34m(self, attr)\u001b[0m\n\u001b[0;32m    687\u001b[0m             \u001b[1;32mreturn\u001b[0m \u001b[0mself\u001b[0m\u001b[1;33m.\u001b[0m\u001b[0mgetnnz\u001b[0m\u001b[1;33m(\u001b[0m\u001b[1;33m)\u001b[0m\u001b[1;33m\u001b[0m\u001b[1;33m\u001b[0m\u001b[0m\n\u001b[0;32m    688\u001b[0m         \u001b[1;32melse\u001b[0m\u001b[1;33m:\u001b[0m\u001b[1;33m\u001b[0m\u001b[1;33m\u001b[0m\u001b[0m\n\u001b[1;32m--> 689\u001b[1;33m             \u001b[1;32mraise\u001b[0m \u001b[0mAttributeError\u001b[0m\u001b[1;33m(\u001b[0m\u001b[0mattr\u001b[0m \u001b[1;33m+\u001b[0m \u001b[1;34m\" not found\"\u001b[0m\u001b[1;33m)\u001b[0m\u001b[1;33m\u001b[0m\u001b[1;33m\u001b[0m\u001b[0m\n\u001b[0m\u001b[0;32m    690\u001b[0m \u001b[1;33m\u001b[0m\u001b[0m\n\u001b[0;32m    691\u001b[0m     \u001b[1;32mdef\u001b[0m \u001b[0mtranspose\u001b[0m\u001b[1;33m(\u001b[0m\u001b[0mself\u001b[0m\u001b[1;33m,\u001b[0m \u001b[0maxes\u001b[0m\u001b[1;33m=\u001b[0m\u001b[1;32mNone\u001b[0m\u001b[1;33m,\u001b[0m \u001b[0mcopy\u001b[0m\u001b[1;33m=\u001b[0m\u001b[1;32mFalse\u001b[0m\u001b[1;33m)\u001b[0m\u001b[1;33m:\u001b[0m\u001b[1;33m\u001b[0m\u001b[1;33m\u001b[0m\u001b[0m\n",
      "\u001b[1;31mAttributeError\u001b[0m: items not found"
     ]
    }
   ],
   "source": [
    "dataset.save_data(\"salvataggi\")"
   ]
  },
  {
   "cell_type": "code",
   "execution_count": null,
   "metadata": {},
   "outputs": [],
   "source": [
    "from skopt.space import Real, Integer, Categorical\n",
    "\n",
    "hyperparameters_range_dictionary = {}\n",
    "hyperparameters_range_dictionary[\"knn\"] = Integer(5, 1000)\n",
    "hyperparameters_range_dictionary[\"shrink\"] = Integer(0, 1000)\n",
    "hyperparameters_range_dictionary[\"similarity\"] = Categorical([\"cosine\"])"
   ]
  },
  {
   "cell_type": "code",
   "execution_count": null,
   "metadata": {
    "scrolled": true
   },
   "outputs": [],
   "source": [
    "from ParameterTuning.SearchBayesianSkopt import SearchBayesianSkopt\n",
    "\n",
    "recommender_class = UserBasedCollaborativeFiltering\n",
    "\n",
    "parameterSearch = SearchBayesianSkopt(recommender_class,\n",
    "                                 evaluator_validation=evaluator_validation,\n",
    "                                 evaluator_test=evaluator_test)"
   ]
  },
  {
   "cell_type": "code",
   "execution_count": null,
   "metadata": {},
   "outputs": [],
   "source": [
    "from ParameterTuning.SearchAbstractClass import SearchInputRecommenderArgs\n",
    "  \n",
    "recommender_input_args = SearchInputRecommenderArgs(\n",
    "    CONSTRUCTOR_POSITIONAL_ARGS = [urm_train],     # For a CBF model simply put [URM_train, ICM_train]\n",
    "    CONSTRUCTOR_KEYWORD_ARGS = {},\n",
    "    FIT_POSITIONAL_ARGS = [],\n",
    "    FIT_KEYWORD_ARGS = {}\n",
    ")"
   ]
  },
  {
   "cell_type": "code",
   "execution_count": null,
   "metadata": {},
   "outputs": [],
   "source": [
    "recommender_input_args_last_test = SearchInputRecommenderArgs(\n",
    "    CONSTRUCTOR_POSITIONAL_ARGS = [urm_train_validation],     # For a CBF model simply put [URM_train_validation, ICM_train]\n",
    "    CONSTRUCTOR_KEYWORD_ARGS = {},\n",
    "    FIT_POSITIONAL_ARGS = [],\n",
    "    FIT_KEYWORD_ARGS = {}\n",
    ")"
   ]
  },
  {
   "cell_type": "code",
   "execution_count": null,
   "metadata": {},
   "outputs": [],
   "source": [
    "import os\n",
    "\n",
    "output_folder_path = \"result_experiments/\"\n",
    "\n",
    "# If directory does not exist, create\n",
    "if not os.path.exists(output_folder_path):\n",
    "    os.makedirs(output_folder_path)\n",
    "    \n",
    "n_cases = 5\n",
    "n_random_starts = int(n_cases*0.3)\n",
    "metric_to_optimize = \"MAP\""
   ]
  },
  {
   "cell_type": "code",
   "execution_count": null,
   "metadata": {
    "scrolled": true
   },
   "outputs": [],
   "source": [
    "parameterSearch.search(recommender_input_args,\n",
    "                       recommender_input_args_last_test = recommender_input_args_last_test,\n",
    "                       parameter_search_space = hyperparameters_range_dictionary,\n",
    "                       n_cases = n_cases,\n",
    "                       n_random_starts = n_random_starts,\n",
    "                       save_model = \"last\",\n",
    "                       output_folder_path = output_folder_path,\n",
    "                       output_file_name_root = recommender_class.RECOMMENDER_NAME,\n",
    "                       metric_to_optimize = metric_to_optimize,\n",
    "                      )"
   ]
  },
  {
   "cell_type": "code",
   "execution_count": null,
   "metadata": {},
   "outputs": [],
   "source": [
    "data_loader = DataIO(folder_path = output_folder_path)\n",
    "search_metadata = data_loader.load_data(recommender_class.RECOMMENDER_NAME + \"_metadata.zip\")\n",
    "best_parameters = search_metadata[\"hyperparameters_best\"]\n",
    "best_parameters"
   ]
  },
  {
   "cell_type": "markdown",
   "metadata": {},
   "source": [
    "**Evaluation Metrics**"
   ]
  },
  {
   "cell_type": "code",
   "execution_count": null,
   "metadata": {},
   "outputs": [],
   "source": [
    "def recall(recommendations: np.array, relevant_items: np.array) -> float:\n",
    "    is_relevant = np.in1d(recommendations, relevant_items, assume_unique=True)\n",
    "    \n",
    "    recall_score = np.sum(is_relevant) / relevant_items.shape[0]\n",
    "    \n",
    "    return recall_score\n",
    "    \n",
    "    \n",
    "def precision(recommendations: np.array, relevant_items: np.array) -> float:\n",
    "    is_relevant = np.in1d(recommendations, relevant_items, assume_unique=True)\n",
    "    \n",
    "    precision_score = np.sum(is_relevant) / recommendations.shape[0]\n",
    "\n",
    "    return precision_score\n",
    "\n",
    "def mean_average_precision(recommendations: np.array, relevant_items: np.array) -> float:\n",
    "    is_relevant = np.in1d(recommendations, relevant_items, assume_unique=True)\n",
    "    \n",
    "    precision_at_k = is_relevant * np.cumsum(is_relevant, dtype=np.float32) / (1 + np.arange(is_relevant.shape[0]))\n",
    "\n",
    "    map_score = np.sum(precision_at_k) / np.min([relevant_items.shape[0], is_relevant.shape[0]])\n",
    "\n",
    "    return map_score"
   ]
  },
  {
   "cell_type": "markdown",
   "metadata": {},
   "source": [
    "**Evaluation Procedure**\n",
    "\n",
    "The evaluation procedure returns the averaged accuracy scores (in terms of precision, recall and MAP) for all users (that have at least 1 rating in the test set). It also calculates the number of evaluated and skipped users. It receives a recommender instance, and the train and test URMs."
   ]
  },
  {
   "cell_type": "code",
   "execution_count": null,
   "metadata": {},
   "outputs": [],
   "source": [
    "def evaluator(recommender: object, urm_train: sp.csr_matrix, urm_test: sp.csr_matrix):\n",
    "    recommendation_length = 10\n",
    "    accum_precision = 0\n",
    "    accum_recall = 0\n",
    "    accum_map = 0\n",
    "    \n",
    "    num_users = urm_train.shape[0]\n",
    "    \n",
    "    num_users_evaluated = 0\n",
    "    num_users_skipped = 0\n",
    "    \n",
    "    for user_id in range(num_users):\n",
    "        user_profile_start = urm_test.indptr[user_id]\n",
    "        user_profile_end = urm_test.indptr[user_id+1]\n",
    "\n",
    "        relevant_items = urm_test.indices[user_profile_start:user_profile_end]\n",
    "\n",
    "        if relevant_items.size == 0:\n",
    "            num_users_skipped += 1\n",
    "            continue\n",
    "            \n",
    "#         recommendations = recommender.recommend(user_id_array=user_id,\n",
    "#                                                cutoff=recommendation_length,\n",
    "#                                                remove_seen_flag=True\n",
    "#                                                )\n",
    "\n",
    "        expected_ratings = recommender.get_expected_ratings(user_id)\n",
    "        recommended_items = np.flip(np.argsort(expected_ratings), 0)\n",
    "\n",
    "        unseen_items_mask = np.in1d(recommended_items,urm_train[user_id].indices,\n",
    "                                        assume_unique=True, invert=True)\n",
    "\n",
    "        recommendations = recommended_items[unseen_items_mask]\n",
    "\n",
    "\n",
    "        accum_precision += precision(recommendations, relevant_items)\n",
    "        accum_recall += recall(recommendations, relevant_items)\n",
    "        accum_map += mean_average_precision(recommendations, relevant_items)\n",
    "\n",
    "        num_users_evaluated += 1\n",
    "\n",
    "    \n",
    "    accum_precision /= max(num_users_evaluated, 1)\n",
    "    accum_recall /= max(num_users_evaluated, 1)\n",
    "    accum_map /=  max(num_users_evaluated, 1)\n",
    "    \n",
    "    return accum_precision, accum_recall, accum_map, num_users_evaluated, num_users_skipped"
   ]
  },
  {
   "cell_type": "code",
   "execution_count": null,
   "metadata": {},
   "outputs": [],
   "source": [
    "#Params for the recommenders\n",
    "cbf_param = {\n",
    "    \"knn\": 140,\n",
    "    \"shrink\": 0\n",
    "}\n",
    "\n",
    "user_cf_param = {\n",
    "    \"knn\": 98,\n",
    "    \"shrink\": 364\n",
    "}\n",
    "\n",
    "item_cf_param = {\n",
    "    \"knn\": 1000,\n",
    "    \"shrink\": 562\n",
    "}\n",
    "\n",
    "slim_bpr_param = {\n",
    "    \"learning_rate\" : 0.05,\n",
    "    \"epochs\": 10,\n",
    "    \"nnz\" : 1,\n",
    "    \"knn\": 200\n",
    "}\n",
    "\n",
    "als_param = {\n",
    "    \"n_factors\": 300,\n",
    "    \"regularization\": 0.15,\n",
    "    \"iterations\": 30\n",
    "}\n"
   ]
  },
  {
   "cell_type": "code",
   "execution_count": null,
   "metadata": {},
   "outputs": [],
   "source": [
    "userCF = UserBasedCollaborativeFiltering(knn=user_cf_param[\"knn\"], shrink=user_cf_param[\"shrink\"])"
   ]
  },
  {
   "cell_type": "code",
   "execution_count": null,
   "metadata": {},
   "outputs": [],
   "source": [
    "userCF.fit(urm_train)"
   ]
  },
  {
   "cell_type": "code",
   "execution_count": null,
   "metadata": {},
   "outputs": [],
   "source": [
    "accum_precision, accum_recall, accum_map, num_user_evaluated, num_users_skipped = evaluator(userCF, \n",
    "                                                                                            urm_train_validation, \n",
    "                                                                                            urm_test)\n",
    "accum_precision, accum_recall, accum_map, num_user_evaluated, num_users_skipped"
   ]
  },
  {
   "cell_type": "code",
   "execution_count": null,
   "metadata": {},
   "outputs": [],
   "source": [
    "itemCF = ItemBasedCollaborativeFiltering(urm_train)"
   ]
  },
  {
   "cell_type": "code",
   "execution_count": null,
   "metadata": {},
   "outputs": [],
   "source": [
    "itemCF.fit(knn=item_cf_param[\"knn\"], shrink=item_cf_param[\"shrink\"], similarity=\"cosine\")"
   ]
  },
  {
   "cell_type": "code",
   "execution_count": null,
   "metadata": {},
   "outputs": [],
   "source": [
    "accum_precision, accum_recall, accum_map, num_user_evaluated, num_users_skipped = evaluator(itemCF, \n",
    "                                                                                            urm_train_validation, \n",
    "                                                                                            urm_test)\n",
    "accum_precision, accum_recall, accum_map, num_user_evaluated, num_users_skipped"
   ]
  },
  {
   "cell_type": "code",
   "execution_count": null,
   "metadata": {},
   "outputs": [],
   "source": [
    "SlimBpr=SlimBPRRec(learning_rate=slim_bpr_param[\"learning_rate\"], epochs=slim_bpr_param[\"epochs\"], nnz=slim_bpr_param[\"nnz\"], knn=slim_bpr_param[\"knn\"])"
   ]
  },
  {
   "cell_type": "code",
   "execution_count": null,
   "metadata": {},
   "outputs": [],
   "source": [
    "SlimBpr.fit(urm_train)"
   ]
  },
  {
   "cell_type": "code",
   "execution_count": null,
   "metadata": {},
   "outputs": [],
   "source": [
    "accum_precision, accum_recall, accum_map, num_user_evaluated, num_users_skipped = evaluator(SlimBpr, \n",
    "                                                                                            urm_train_validation, \n",
    "                                                                                            urm_test)\n",
    "accum_precision, accum_recall, accum_map, num_user_evaluated, num_users_skipped"
   ]
  },
  {
   "cell_type": "code",
   "execution_count": null,
   "metadata": {},
   "outputs": [],
   "source": [
    "slim_elastic = SLIMElasticNetRecommender()"
   ]
  },
  {
   "cell_type": "code",
   "execution_count": null,
   "metadata": {},
   "outputs": [],
   "source": [
    "slim_elastic.fit(urm_train)"
   ]
  },
  {
   "cell_type": "code",
   "execution_count": null,
   "metadata": {},
   "outputs": [],
   "source": [
    "accum_precision, accum_recall, accum_map, num_user_evaluated, num_users_skipped = evaluator(slim_elastic, \n",
    "                                                                                            urm_train_validation, \n",
    "                                                                                            urm_test)\n",
    "accum_precision, accum_recall, accum_map, num_user_evaluated, num_users_skipped"
   ]
  },
  {
   "cell_type": "code",
   "execution_count": null,
   "metadata": {},
   "outputs": [],
   "source": [
    "cbf = ContentBasedFiltering(knn=cbf_param[\"knn\"],shrink=cbf_param[\"shrink\"])"
   ]
  },
  {
   "cell_type": "code",
   "execution_count": null,
   "metadata": {},
   "outputs": [],
   "source": [
    "cbf.fit(urm_train,ICM)"
   ]
  },
  {
   "cell_type": "code",
   "execution_count": null,
   "metadata": {},
   "outputs": [],
   "source": [
    "accum_precision, accum_recall, accum_map, num_user_evaluated, num_users_skipped = evaluator(cbf, \n",
    "                                                                                            urm_train_validation, \n",
    "                                                                                            urm_test)\n",
    "accum_precision, accum_recall, accum_map, num_user_evaluated, num_users_skipped"
   ]
  },
  {
   "cell_type": "code",
   "execution_count": null,
   "metadata": {},
   "outputs": [],
   "source": [
    "ALS = AlternatingLeastSquare(n_factors=als_param[\"n_factors\"], regularization=als_param[\"regularization\"],iterations=als_param[\"iterations\"])"
   ]
  },
  {
   "cell_type": "code",
   "execution_count": null,
   "metadata": {},
   "outputs": [],
   "source": [
    "ALS.fit(urm_train)"
   ]
  },
  {
   "cell_type": "code",
   "execution_count": null,
   "metadata": {},
   "outputs": [],
   "source": [
    "accum_precision, accum_recall, accum_map, num_user_evaluated, num_users_skipped = evaluator(ALS, \n",
    "                                                                                            urm_train_validation, \n",
    "                                                                                            urm_test)\n",
    "accum_precision, accum_recall, accum_map, num_user_evaluated, num_users_skipped"
   ]
  },
  {
   "cell_type": "markdown",
   "metadata": {},
   "source": [
    "**Hybrid**"
   ]
  },
  {
   "cell_type": "code",
   "execution_count": null,
   "metadata": {},
   "outputs": [],
   "source": [
    "class HybridRecommender(object):\n",
    "    def __init__(self, URM, ICM):\n",
    "        \n",
    "        self.urm = URM\n",
    "        \n",
    "        self.ICM = ICM\n",
    "\n",
    "#         self.userCF = UserBasedCollaborativeFiltering(URM.copy())\n",
    "\n",
    "        self.itemCF = ItemBasedCollaborativeFiltering(URM.copy())\n",
    "        \n",
    "#         self.cbf = ContentBasedFiltering(URM.copy(), ICM.copy())\n",
    "        \n",
    "#         self.slim_random = SLIM_BPR_Python(URM.copy())\n",
    "        \n",
    "#         self.slim_elastic = SLIMElasticNetRecommender()\n",
    "        \n",
    "#         self.ALS = AlternatingLeastSquare(URM.copy())\n",
    "    \n",
    "\n",
    "    def fit(self, w, user_cf_param, item_cf_param, cbf_param, slim_param, als_param,):\n",
    "        self.URM = URM\n",
    "\n",
    "        ### SUB-FITTING ###\n",
    "        print(\"Fitting user cf...\")\n",
    "#         self.userCF.fit(knn=user_cf_param[\"knn\"], shrink=user_cf_param[\"shrink\"])\n",
    "\n",
    "        print(\"Fitting item cf...\")\n",
    "        self.itemCF.fit(knn=item_cf_param[\"knn\"], shrink=item_cf_param[\"shrink\"], similarity=\"cosine\")\n",
    "        \n",
    "        print(\"Fitting cbf...\")\n",
    "#         self.cbf.fit(knn=cbf_param[\"knn\"],shrink=cbf_param[\"shrink\"])\n",
    "        \n",
    "        print(\"Fitting slim bpr...\")\n",
    "#         self.slim_random.fit(topK=slim_param[\"topK\"],epochs=slim_param[\"epochs\"])\n",
    "        \n",
    "        print(\"Fitting slim elastic...\")\n",
    "#         self.slim_elastic.fit(URM.copy())\n",
    "        \n",
    "        print(\"Fitting ALS...\")\n",
    "#         self.ALS.fit(n_factors=als_param[\"n_factors\"], regularization=als_param[\"regularization\"],iterations=als_param[\"iterations\"])\n",
    "\n",
    "\n",
    "    def recommend(self,user_id,urm_train: sp.csr_matrix,at=10):\n",
    "     \n",
    "        expected_ratings = self.get_expected_ratings(user_id)\n",
    "        \n",
    "        recommended_items = np.flip(np.argsort(expected_ratings), 0)\n",
    "\n",
    "        # REMOVING SEEN\n",
    "        unseen_items_mask = np.in1d(recommended_items,urm_train[user_id].indices,\n",
    "                                    assume_unique=True, invert=True)\n",
    "        recommended_items = recommended_items[unseen_items_mask]\n",
    "\n",
    "        return recommended_items[0:at]\n",
    "    \n",
    "    def get_expected_ratings(self, user_id) :\n",
    "#         self.userCF_ratings = self.userCF.get_expected_ratings(user_id)\n",
    "        self.itemCF_ratings = self.itemCF.get_expected_ratings(user_id)\n",
    "#         self.cbf_ratings = self.cbf.get_expected_ratings(user_id)\n",
    "#         self.slim_ratings = self.slim_random.get_expected_ratings(user_id)\n",
    "#         self.slim_elastic_ratings = self.slim_elastic.get_expected_ratings(user_id)\n",
    "#         self.ALS_ratings = self.ALS.get_expected_ratings(user_id)\n",
    "\n",
    "        self.hybrid_ratings = None \n",
    "\n",
    "#         self.hybrid_ratings = self.userCF_ratings * w[\"user_cf\"]\n",
    "        self.hybrid_ratings = self.itemCF_ratings * w[\"item_cf\"]\n",
    "#         self.hybrid_ratings += self.cbf_ratings * w_right[\"cbf\"]\n",
    "#         self.hybrid_ratings += self.slim_ratings * w[\"slim\"]\n",
    "#         self.hybrid_ratings += self.ALS_ratings * w[\"als\"]\n",
    "#         self.hybrid_ratings += self.slim_elastic_ratings * w[\"elastic\"]\n",
    "\n",
    "        return self.hybrid_ratings\n",
    "\n",
    "w = {\n",
    "    \"user_cf\": 0,\n",
    "    \"item_cf\": 1,\n",
    "    \"cbf\": 0,\n",
    "    \"icm_svd\": 0,\n",
    "    \"als\": 0,\n",
    "    \"slim\": 0,\n",
    "    \"elastic\": 0\n",
    "}\n"
   ]
  },
  {
   "cell_type": "code",
   "execution_count": null,
   "metadata": {},
   "outputs": [],
   "source": [
    "recommender = HybridRecommender(urm_train, ICM)"
   ]
  },
  {
   "cell_type": "code",
   "execution_count": null,
   "metadata": {
    "scrolled": true
   },
   "outputs": [],
   "source": [
    "recommender.fit(w, user_cf_param=user_cf_param,item_cf_param=item_cf_param,cbf_param=cbf_param,slim_param=slim_bpr_param,als_param=als_param)"
   ]
  },
  {
   "cell_type": "code",
   "execution_count": null,
   "metadata": {},
   "outputs": [],
   "source": [
    "accum_precision, accum_recall, accum_map, num_user_evaluated, num_users_skipped = evaluator(recommender, \n",
    "                                                                                            urm_train_validation, \n",
    "                                                                                            urm_test)\n",
    "accum_precision, accum_recall, accum_map, num_user_evaluated, num_users_skipped"
   ]
  },
  {
   "cell_type": "markdown",
   "metadata": {
    "id": "0Vi-dduXaj46"
   },
   "source": [
    "**Submission to competition**\n",
    "\n",
    "This step serves as a similar step that you will perform when preparing a submission to the competition. Specially after you have chosen and trained your recommender.\n",
    "\n",
    "For this step the best suggestion is to select the most-performing configuration obtained in the hyperparameter tuning step and to train the recommender using both the train and validation set. Remember that in the competition you do not have access to the test set.\n",
    "\n",
    "Another consideration is that, due to easier and faster calculations, we replaced the user/item identifiers with new ones in the preprocessing step. For the competition, you are required to generate recommendations using the dataset's original identifiers. Due to this, this step also reverts back the newer identifiers with the ones originally found in the dataset.\n",
    "\n",
    "Last, this step creates a function that writes the recommendations for each user in the same file in a tabular format following this format:\n",
    "\n",
    "csv\n",
    "<user_id>,<item_id_1> <item_id_2> <item_id_3> <item_id_4> <item_id_5> <item_id_6> <item_id_7> <item_id_8> <item_id_9> <item_id_10>\n",
    "Always verify the competitions' submission file model as it might vary from the one we presented here."
   ]
  },
  {
   "cell_type": "code",
   "execution_count": null,
   "metadata": {
    "id": "EcSDk9aMtW4k"
   },
   "outputs": [],
   "source": [
    "def load_goodguys():\n",
    "  return pd.read_csv(\"./data_target_users_test.csv\")\n",
    "goodguys=load_goodguys()"
   ]
  },
  {
   "cell_type": "code",
   "execution_count": null,
   "metadata": {
    "id": "eHzsuFiqtW4k",
    "outputId": "bc36c459-1cc6-460a-b403-95482cf1508d"
   },
   "outputs": [],
   "source": [
    "goodguys"
   ]
  },
  {
   "cell_type": "code",
   "execution_count": null,
   "metadata": {
    "id": "0b3DwuXrayTA",
    "outputId": "27c6d557-b304-427c-bf2c-8fdc090efe64"
   },
   "outputs": [],
   "source": [
    "users_to_recommend = np.random.choice(goodguys.user_id,size=goodguys.size, replace=False)\n",
    "users_to_recommend"
   ]
  },
  {
   "cell_type": "code",
   "execution_count": null,
   "metadata": {
    "id": "RurxNTttbI-i"
   },
   "outputs": [],
   "source": [
    "def prepare_submission(ratings: pd.DataFrame, users_to_recommend: np.array, urm_train: sp.csr_matrix, recommender: object):\n",
    "    \n",
    "    recommendation_length = 10\n",
    "    submission = []\n",
    "    \n",
    "    for user_id in users_to_recommend :\n",
    "\n",
    "        recommendations = recommender.recommend(user_id, urm_train, recommendation_length)\n",
    "\n",
    "        \n",
    "        submission.append((user_id, [item_id for item_id in recommendations]))\n",
    "   \n",
    "    return submission"
   ]
  },
  {
   "cell_type": "code",
   "execution_count": null,
   "metadata": {
    "id": "5KYlvMDVbLxo",
    "scrolled": true
   },
   "outputs": [],
   "source": [
    "submission = prepare_submission(ratings, users_to_recommend, urm_train_validation, recommender)"
   ]
  },
  {
   "cell_type": "code",
   "execution_count": null,
   "metadata": {
    "id": "sJZEjE3CbQTp",
    "outputId": "8e2faf6b-144c-4ba3-ee1a-692290e15d3c"
   },
   "outputs": [],
   "source": [
    "submission"
   ]
  },
  {
   "cell_type": "code",
   "execution_count": null,
   "metadata": {
    "id": "6hCawP60bVm3"
   },
   "outputs": [],
   "source": [
    "import os\n",
    "from datetime import datetime\n",
    "\n",
    "csv_fname = './submission'\n",
    "csv_fname += datetime.now().strftime('%b%d_%H-%M-%S') + '.csv'\n",
    "\n",
    "def write_submission(submissions):\n",
    "    with open(csv_fname, \"w\") as f:\n",
    "        f.write(f\"user_id,item_list\\n\")\n",
    "        for user_id, items in submissions:\n",
    "            f.write(f\"{user_id},{' '.join([str(item) for item in items])}\\n\")\n"
   ]
  },
  {
   "cell_type": "code",
   "execution_count": null,
   "metadata": {
    "id": "ov91al-UbXAQ"
   },
   "outputs": [],
   "source": [
    "write_submission(submission)"
   ]
  },
  {
   "cell_type": "code",
   "execution_count": null,
   "metadata": {},
   "outputs": [],
   "source": []
  }
 ],
 "metadata": {
  "colab": {
   "collapsed_sections": [],
   "name": "RecommenderChallenge.ipynb",
   "provenance": []
  },
  "kernelspec": {
   "display_name": "Python 3",
   "language": "python",
   "name": "python3"
  },
  "language_info": {
   "codemirror_mode": {
    "name": "ipython",
    "version": 3
   },
   "file_extension": ".py",
   "mimetype": "text/x-python",
   "name": "python",
   "nbconvert_exporter": "python",
   "pygments_lexer": "ipython3",
   "version": "3.6.10"
  }
 },
 "nbformat": 4,
 "nbformat_minor": 1
}
