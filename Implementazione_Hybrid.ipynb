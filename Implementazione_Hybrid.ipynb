{
 "cells": [
  {
   "cell_type": "code",
   "execution_count": 1,
   "metadata": {
    "id": "ybQSYdHvb_CB"
   },
   "outputs": [],
   "source": [
    "import numpy as np\n",
    "import pandas as pd\n",
    "import scipy.sparse as sp\n",
    "from tqdm import tqdm\n",
    "from Base.DataIO import DataIO\n",
    "\n",
    "#----Recommenders----\n",
    "from SLIM.SLIM_BPR_Python import SLIM_BPR_Python\n",
    "from SLIM.SlimElasticNet import SLIMElasticNetRecommender\n",
    "from cf.item_cf3 import ItemBasedCollaborativeFiltering\n",
    "from cf.user_cf2 import UserBasedCollaborativeFiltering\n",
    "from MF.ALS import AlternatingLeastSquare\n",
    "from cbf.cbf import ContentBasedFiltering\n",
    "from SlimBPR.SlimBPRRec import SlimBPRRec\n",
    "from SlimBPR.SlimBPR import SlimBPR\n",
    "\n",
    "from Hybrid.hybridRec import HybridRecommender\n",
    "#---------------\n",
    "\n",
    "#----Model Load & Save----\n",
    "from Data_manager.Dataset import Dataset\n",
    "#-------------------------\n",
    "\n",
    "from sklearn.model_selection import train_test_split"
   ]
  },
  {
   "cell_type": "markdown",
   "metadata": {
    "id": "iyPCmUzVedBh"
   },
   "source": [
    "**Dataset loading with pandas**\n",
    "\n",
    "The function read_csv from pandas provides a wonderful and fast interface to load tabular data like this. For better results and performance we provide the separator ::, the column names [\"user_id\", \"item_id\", \"ratings\", \"timestamp\"], and the types of each attribute in the dtype parameter."
   ]
  },
  {
   "cell_type": "code",
   "execution_count": 2,
   "metadata": {
    "id": "96AUQmIlcAr2"
   },
   "outputs": [],
   "source": [
    "def load_data():\n",
    "  return pd.read_csv(\"./data_train.csv\")"
   ]
  },
  {
   "cell_type": "code",
   "execution_count": 3,
   "metadata": {
    "id": "vMaAYCCksV82"
   },
   "outputs": [],
   "source": [
    "ratings=load_data()\n",
    "d ={'user_id': ratings['row'],'item_id':ratings['col'],'ratings':ratings['data']}\n",
    "ratings=pd.DataFrame(data=d)"
   ]
  },
  {
   "cell_type": "code",
   "execution_count": 4,
   "metadata": {
    "colab": {
     "base_uri": "https://localhost:8080/"
    },
    "id": "enpGAp964Y5a",
    "outputId": "c436ac0a-ab96-4e87-8990-dea6db1076a0"
   },
   "outputs": [
    {
     "data": {
      "text/plain": [
       "user_id      int64\n",
       "item_id      int64\n",
       "ratings    float64\n",
       "dtype: object"
      ]
     },
     "execution_count": 4,
     "metadata": {},
     "output_type": "execute_result"
    }
   ],
   "source": [
    "ratings.dtypes"
   ]
  },
  {
   "cell_type": "code",
   "execution_count": 5,
   "metadata": {
    "id": "8dj1UlZkbiJd"
   },
   "outputs": [],
   "source": [
    "userList=list(d['user_id'])\n",
    "itemList=list(d['item_id'])\n",
    "ratingList=list(d['ratings'])"
   ]
  },
  {
   "cell_type": "code",
   "execution_count": 6,
   "metadata": {
    "id": "EuTgqT-1biJd"
   },
   "outputs": [],
   "source": [
    "URM = sp.coo_matrix((ratingList,(userList,itemList)))\n",
    "URM = URM.tocsr()"
   ]
  },
  {
   "cell_type": "code",
   "execution_count": 7,
   "metadata": {
    "id": "r4kLvs-TbiJd",
    "outputId": "547ba2f6-8e3d-4fda-9dc3-08577d183c47"
   },
   "outputs": [
    {
     "data": {
      "text/plain": [
       "<7947x25975 sparse matrix of type '<class 'numpy.float64'>'\n",
       "\twith 113268 stored elements in Compressed Sparse Row format>"
      ]
     },
     "execution_count": 7,
     "metadata": {},
     "output_type": "execute_result"
    }
   ],
   "source": [
    "URM"
   ]
  },
  {
   "cell_type": "code",
   "execution_count": 8,
   "metadata": {
    "id": "FSE7ic-VbiJd"
   },
   "outputs": [],
   "source": [
    "def load_data_ICM():\n",
    "  return pd.read_csv(\"./data_ICM_title_abstract.csv\")"
   ]
  },
  {
   "cell_type": "code",
   "execution_count": 9,
   "metadata": {
    "id": "-d-NVkEZbiJd"
   },
   "outputs": [],
   "source": [
    "features=load_data_ICM()\n",
    "d ={'item_id': features['row'],'feature_id':features['col'],'value':features['data']}\n",
    "features=pd.DataFrame(data=d)\n",
    "itemList=list(d['item_id'])"
   ]
  },
  {
   "cell_type": "code",
   "execution_count": 10,
   "metadata": {
    "id": "hJs6hZ8obiJd"
   },
   "outputs": [],
   "source": [
    "featureList=list(d['feature_id'])"
   ]
  },
  {
   "cell_type": "code",
   "execution_count": 11,
   "metadata": {
    "id": "kR-oPdRtbiJd"
   },
   "outputs": [],
   "source": [
    "valueList=list(d['value'])\n",
    "ICM = sp.coo_matrix((valueList,(itemList,featureList)))\n",
    "ICM = ICM.tocsr()"
   ]
  },
  {
   "cell_type": "code",
   "execution_count": 12,
   "metadata": {
    "id": "_PXL-kG4biJd",
    "outputId": "163614e6-32e7-451c-b1b2-0de16719dea1"
   },
   "outputs": [
    {
     "data": {
      "text/plain": [
       "<25975x20000 sparse matrix of type '<class 'numpy.float64'>'\n",
       "\twith 490691 stored elements in Compressed Sparse Row format>"
      ]
     },
     "execution_count": 12,
     "metadata": {},
     "output_type": "execute_result"
    }
   ],
   "source": [
    "ICM"
   ]
  },
  {
   "cell_type": "code",
   "execution_count": 13,
   "metadata": {},
   "outputs": [],
   "source": [
    "num_users=URM.shape[0]"
   ]
  },
  {
   "cell_type": "code",
   "execution_count": 14,
   "metadata": {},
   "outputs": [],
   "source": [
    "num_items=URM.shape[1]"
   ]
  },
  {
   "cell_type": "code",
   "execution_count": 15,
   "metadata": {},
   "outputs": [
    {
     "data": {
      "text/plain": [
       "(7947, 25975)"
      ]
     },
     "execution_count": 15,
     "metadata": {},
     "output_type": "execute_result"
    }
   ],
   "source": [
    "num_users,num_items"
   ]
  },
  {
   "cell_type": "markdown",
   "metadata": {
    "id": "GLb4ij1thWhs"
   },
   "source": [
    "**Dataset splitting into train,validation and test**\n",
    "\n",
    "This is the last part before creating the recommender. However, this step is super important, as it is the base for the training, parameters optimization, and evaluation of the recommender(s).\n",
    "\n",
    "In here we read the ratings (which we loaded and preprocessed before) and create the train, validation, and test User-Rating Matrices (URM). It's important that these are disjoint to avoid information leakage from the train into the validation/test set, in our case, we are safe to use the train_test_split function from scikit-learn as the dataset only contains one datapoint for every (user,item) pair. On another topic, we first create the test set and then we create the validation by splitting again the train set.\n",
    "\n",
    "train_test_split takes an array (or several arrays) and divides it into train and test according to a given size (in our case testing_percentage and validation_percentage, which need to be a float between 0 and 1).\n",
    "\n",
    "After we have our different splits, we create the sparse URMs by using the csr_matrix function from scipy.\n",
    "\n",
    "\n"
   ]
  },
  {
   "cell_type": "code",
   "execution_count": null,
   "metadata": {},
   "outputs": [],
   "source": [
    "from Notebooks_utils.data_splitter import train_test_holdout\n",
    "\n",
    "urm_train_validation, urm_test = train_test_holdout(URM, train_perc = 0.85)\n",
    "urm_train, urm_validation = train_test_holdout(urm_train_validation, train_perc = 0.85)"
   ]
  },
  {
   "cell_type": "code",
   "execution_count": null,
   "metadata": {},
   "outputs": [],
   "source": [
    "#Save Data\n",
    "dataset = Dataset(\"prova\", {\"urm_train\" : urm_train}, {\"urm_validation\" : urm_validation}, {\"urm_test\" : urm_test}) \n",
    "dataset.save_data(\"Salvataggi/\")"
   ]
  },
  {
   "cell_type": "code",
   "execution_count": 16,
   "metadata": {},
   "outputs": [],
   "source": [
    "#Load\n",
    "loaded_dataset = Dataset(None, None, None, None)\n",
    "loaded_dataset.load_data(\"Salvataggi/\")\n",
    "\n",
    "\n",
    "urm_train = (loaded_dataset.get_urm_train())[\"urm_train\"]\n",
    "urm_validation = (loaded_dataset.get_urm_validation())[\"urm_validation\"]\n",
    "urm_test = loaded_dataset.get_urm_test()[\"urm_test\"]"
   ]
  },
  {
   "cell_type": "code",
   "execution_count": 17,
   "metadata": {},
   "outputs": [],
   "source": [
    "urm_train_validation = urm_train + urm_validation"
   ]
  },
  {
   "cell_type": "code",
   "execution_count": null,
   "metadata": {},
   "outputs": [],
   "source": [
    "from Base.Evaluation.Evaluator import EvaluatorHoldout\n",
    "\n",
    "evaluator_validation = EvaluatorHoldout(urm_validation, cutoff_list=[10])\n",
    "evaluator_test = EvaluatorHoldout(urm_test, cutoff_list=[10])"
   ]
  },
  {
   "cell_type": "code",
   "execution_count": null,
   "metadata": {},
   "outputs": [],
   "source": [
    "from skopt.space import Real, Integer, Categorical\n",
    "\n",
    "hyperparameters_range_dictionary = {}\n",
    "hyperparameters_range_dictionary[\"knn\"] = Integer(5, 1000)\n",
    "hyperparameters_range_dictionary[\"shrink\"] = Integer(0, 1000)\n",
    "hyperparameters_range_dictionary[\"similarity\"] = Categorical([\"cosine\"])"
   ]
  },
  {
   "cell_type": "code",
   "execution_count": null,
   "metadata": {
    "scrolled": true
   },
   "outputs": [],
   "source": [
    "from ParameterTuning.SearchBayesianSkopt import SearchBayesianSkopt\n",
    "\n",
    "recommender_class = UserBasedCollaborativeFiltering\n",
    "\n",
    "parameterSearch = SearchBayesianSkopt(recommender_class,\n",
    "                                 evaluator_validation=evaluator_validation,\n",
    "                                 evaluator_test=evaluator_test)"
   ]
  },
  {
   "cell_type": "code",
   "execution_count": null,
   "metadata": {},
   "outputs": [],
   "source": [
    "from ParameterTuning.SearchAbstractClass import SearchInputRecommenderArgs\n",
    "  \n",
    "recommender_input_args = SearchInputRecommenderArgs(\n",
    "    CONSTRUCTOR_POSITIONAL_ARGS = [urm_train],     # For a CBF model simply put [URM_train, ICM_train]\n",
    "    CONSTRUCTOR_KEYWORD_ARGS = {},\n",
    "    FIT_POSITIONAL_ARGS = [],\n",
    "    FIT_KEYWORD_ARGS = {}\n",
    ")"
   ]
  },
  {
   "cell_type": "code",
   "execution_count": null,
   "metadata": {},
   "outputs": [],
   "source": [
    "recommender_input_args_last_test = SearchInputRecommenderArgs(\n",
    "    CONSTRUCTOR_POSITIONAL_ARGS = [urm_train_validation],     # For a CBF model simply put [URM_train_validation, ICM_train]\n",
    "    CONSTRUCTOR_KEYWORD_ARGS = {},\n",
    "    FIT_POSITIONAL_ARGS = [],\n",
    "    FIT_KEYWORD_ARGS = {}\n",
    ")"
   ]
  },
  {
   "cell_type": "code",
   "execution_count": null,
   "metadata": {},
   "outputs": [],
   "source": [
    "import os\n",
    "\n",
    "output_folder_path = \"result_experiments/\"\n",
    "\n",
    "# If directory does not exist, create\n",
    "if not os.path.exists(output_folder_path):\n",
    "    os.makedirs(output_folder_path)\n",
    "    \n",
    "n_cases = 50\n",
    "n_random_starts = int(n_cases*0.3)\n",
    "metric_to_optimize = \"MAP\""
   ]
  },
  {
   "cell_type": "code",
   "execution_count": null,
   "metadata": {
    "scrolled": true
   },
   "outputs": [],
   "source": [
    "parameterSearch.search(recommender_input_args,\n",
    "                       recommender_input_args_last_test = recommender_input_args_last_test,\n",
    "                       parameter_search_space = hyperparameters_range_dictionary,\n",
    "                       n_cases = n_cases,\n",
    "                       n_random_starts = n_random_starts,\n",
    "                       save_model = \"last\",\n",
    "                       output_folder_path = output_folder_path,\n",
    "                       output_file_name_root = recommender_class.RECOMMENDER_NAME,\n",
    "                       metric_to_optimize = metric_to_optimize,\n",
    "                      )"
   ]
  },
  {
   "cell_type": "code",
   "execution_count": null,
   "metadata": {},
   "outputs": [],
   "source": [
    "data_loader = DataIO(folder_path = output_folder_path)\n",
    "search_metadata = data_loader.load_data(recommender_class.RECOMMENDER_NAME + \"_metadata.zip\")\n",
    "best_parameters = search_metadata[\"hyperparameters_best\"]\n",
    "best_parameters"
   ]
  },
  {
   "cell_type": "markdown",
   "metadata": {},
   "source": [
    "**Evaluation Metrics**"
   ]
  },
  {
   "cell_type": "code",
   "execution_count": null,
   "metadata": {},
   "outputs": [],
   "source": [
    "def recall(recommendations: np.array, relevant_items: np.array) -> float:\n",
    "    is_relevant = np.in1d(recommendations, relevant_items, assume_unique=True)\n",
    "    \n",
    "    recall_score = np.sum(is_relevant) / relevant_items.shape[0]\n",
    "    \n",
    "    return recall_score\n",
    "    \n",
    "    \n",
    "def precision(recommendations: np.array, relevant_items: np.array) -> float:\n",
    "    is_relevant = np.in1d(recommendations, relevant_items, assume_unique=True)\n",
    "    \n",
    "    precision_score = np.sum(is_relevant) / recommendations.shape[0]\n",
    "\n",
    "    return precision_score\n",
    "\n",
    "def mean_average_precision(recommendations: np.array, relevant_items: np.array) -> float:\n",
    "    is_relevant = np.in1d(recommendations, relevant_items, assume_unique=True)\n",
    "    \n",
    "    precision_at_k = is_relevant * np.cumsum(is_relevant, dtype=np.float32) / (1 + np.arange(is_relevant.shape[0]))\n",
    "\n",
    "    map_score = np.sum(precision_at_k) / np.min([relevant_items.shape[0], is_relevant.shape[0]])\n",
    "\n",
    "    return map_score"
   ]
  },
  {
   "cell_type": "markdown",
   "metadata": {},
   "source": [
    "**Evaluation Procedure**\n",
    "\n",
    "The evaluation procedure returns the averaged accuracy scores (in terms of precision, recall and MAP) for all users (that have at least 1 rating in the test set). It also calculates the number of evaluated and skipped users. It receives a recommender instance, and the train and test URMs."
   ]
  },
  {
   "cell_type": "code",
   "execution_count": null,
   "metadata": {},
   "outputs": [],
   "source": [
    "def evaluator(recommender: object, urm_train: sp.csr_matrix, urm_test: sp.csr_matrix):\n",
    "    recommendation_length = 10\n",
    "    accum_precision = 0\n",
    "    accum_recall = 0\n",
    "    accum_map = 0\n",
    "    \n",
    "    num_users = urm_train.shape[0]\n",
    "    \n",
    "    num_users_evaluated = 0\n",
    "    num_users_skipped = 0\n",
    "    \n",
    "    for user_id in range(num_users):\n",
    "        user_profile_start = urm_test.indptr[user_id]\n",
    "        user_profile_end = urm_test.indptr[user_id+1]\n",
    "\n",
    "        relevant_items = urm_test.indices[user_profile_start:user_profile_end]\n",
    "\n",
    "        if relevant_items.size == 0:\n",
    "            num_users_skipped += 1\n",
    "            continue\n",
    "            \n",
    "#         recommendations = recommender.recommend(user_id_array=user_id,\n",
    "#                                                cutoff=recommendation_length,\n",
    "#                                                remove_seen_flag=True\n",
    "#                                                )\n",
    "\n",
    "        expected_ratings = recommender.get_expected_ratings(user_id)\n",
    "        recommended_items = np.flip(np.argsort(expected_ratings), 0)\n",
    "\n",
    "        unseen_items_mask = np.in1d(recommended_items,urm_train[user_id].indices,\n",
    "                                        assume_unique=True, invert=True)\n",
    "\n",
    "        recommendations = recommended_items[unseen_items_mask]\n",
    "\n",
    "\n",
    "        accum_precision += precision(recommendations, relevant_items)\n",
    "        accum_recall += recall(recommendations, relevant_items)\n",
    "        accum_map += mean_average_precision(recommendations, relevant_items)\n",
    "\n",
    "        num_users_evaluated += 1\n",
    "\n",
    "    \n",
    "    accum_precision /= max(num_users_evaluated, 1)\n",
    "    accum_recall /= max(num_users_evaluated, 1)\n",
    "    accum_map /=  max(num_users_evaluated, 1)\n",
    "    \n",
    "    return accum_precision, accum_recall, accum_map, num_users_evaluated, num_users_skipped"
   ]
  },
  {
   "cell_type": "code",
   "execution_count": 18,
   "metadata": {},
   "outputs": [],
   "source": [
    "#Params for the recommenders\n",
    "cbf_param = {\n",
    "    \"knn\": 380,\n",
    "    \"shrink\": 9\n",
    "}\n",
    "\n",
    "user_cf_param = {\n",
    "    \"knn\": 249,\n",
    "    \"shrink\": 853\n",
    "}\n",
    "\n",
    "item_cf_param = {\n",
    "    \"knn\": 119,\n",
    "    \"shrink\": 430\n",
    "}\n",
    "\n",
    "slim_bpr_param = {\n",
    "    \"learning_rate\" : 0.05,\n",
    "    \"epochs\": 10,\n",
    "    \"nnz\" : 1,\n",
    "    \"knn\": 200\n",
    "}\n",
    "\n",
    "als_param = {\n",
    "    \"n_factors\": 300,\n",
    "    \"regularization\": 0.15,\n",
    "    \"iterations\": 30\n",
    "}\n"
   ]
  },
  {
   "cell_type": "code",
   "execution_count": null,
   "metadata": {},
   "outputs": [],
   "source": [
    "userCF = UserBasedCollaborativeFiltering(urm_train)"
   ]
  },
  {
   "cell_type": "code",
   "execution_count": null,
   "metadata": {},
   "outputs": [],
   "source": [
    "userCF.fit(knn=user_cf_param[\"knn\"], shrink=user_cf_param[\"shrink\"],similarity='cosine')"
   ]
  },
  {
   "cell_type": "code",
   "execution_count": null,
   "metadata": {},
   "outputs": [],
   "source": [
    "accum_precision, accum_recall, accum_map, num_user_evaluated, num_users_skipped = evaluator(userCF, \n",
    "                                                                                            urm_train_validation, \n",
    "                                                                                            urm_test)\n",
    "accum_precision, accum_recall, accum_map, num_user_evaluated, num_users_skipped"
   ]
  },
  {
   "cell_type": "code",
   "execution_count": null,
   "metadata": {},
   "outputs": [],
   "source": [
    "itemCF = ItemBasedCollaborativeFiltering(urm_train)"
   ]
  },
  {
   "cell_type": "code",
   "execution_count": null,
   "metadata": {},
   "outputs": [],
   "source": [
    "itemCF.fit(knn=item_cf_param[\"knn\"], shrink=item_cf_param[\"shrink\"], similarity=\"cosine\")"
   ]
  },
  {
   "cell_type": "code",
   "execution_count": null,
   "metadata": {},
   "outputs": [],
   "source": [
    "accum_precision, accum_recall, accum_map, num_user_evaluated, num_users_skipped = evaluator(itemCF, \n",
    "                                                                                            urm_train_validation, \n",
    "                                                                                            urm_test)\n",
    "accum_precision, accum_recall, accum_map, num_user_evaluated, num_users_skipped"
   ]
  },
  {
   "cell_type": "code",
   "execution_count": null,
   "metadata": {},
   "outputs": [],
   "source": [
    "SlimBpr=SlimBPRRec(learning_rate=slim_bpr_param[\"learning_rate\"], epochs=slim_bpr_param[\"epochs\"], nnz=slim_bpr_param[\"nnz\"], knn=slim_bpr_param[\"knn\"])"
   ]
  },
  {
   "cell_type": "code",
   "execution_count": null,
   "metadata": {},
   "outputs": [],
   "source": [
    "SlimBpr.fit(urm_train)"
   ]
  },
  {
   "cell_type": "code",
   "execution_count": null,
   "metadata": {},
   "outputs": [],
   "source": [
    "accum_precision, accum_recall, accum_map, num_user_evaluated, num_users_skipped = evaluator(SlimBpr, \n",
    "                                                                                            urm_train_validation, \n",
    "                                                                                            urm_test)\n",
    "accum_precision, accum_recall, accum_map, num_user_evaluated, num_users_skipped"
   ]
  },
  {
   "cell_type": "code",
   "execution_count": null,
   "metadata": {},
   "outputs": [],
   "source": [
    "slim_elastic = SLIMElasticNetRecommender(urm_train)"
   ]
  },
  {
   "cell_type": "code",
   "execution_count": null,
   "metadata": {},
   "outputs": [],
   "source": [
    "slim_elastic.fit()"
   ]
  },
  {
   "cell_type": "code",
   "execution_count": null,
   "metadata": {},
   "outputs": [],
   "source": [
    "accum_precision, accum_recall, accum_map, num_user_evaluated, num_users_skipped = evaluator(slim_elastic, \n",
    "                                                                                            urm_train_validation, \n",
    "                                                                                            urm_test)\n",
    "accum_precision, accum_recall, accum_map, num_user_evaluated, num_users_skipped"
   ]
  },
  {
   "cell_type": "code",
   "execution_count": null,
   "metadata": {},
   "outputs": [],
   "source": [
    "cbf = ContentBasedFiltering(urm_train,ICM)"
   ]
  },
  {
   "cell_type": "code",
   "execution_count": null,
   "metadata": {},
   "outputs": [],
   "source": [
    "cbf.fit(knn=cbf_param[\"knn\"],shrink=cbf_param[\"shrink\"],similarity='cosine')"
   ]
  },
  {
   "cell_type": "code",
   "execution_count": null,
   "metadata": {},
   "outputs": [],
   "source": [
    "accum_precision, accum_recall, accum_map, num_user_evaluated, num_users_skipped = evaluator(cbf, \n",
    "                                                                                            urm_train_validation, \n",
    "                                                                                            urm_test)\n",
    "accum_precision, accum_recall, accum_map, num_user_evaluated, num_users_skipped"
   ]
  },
  {
   "cell_type": "code",
   "execution_count": null,
   "metadata": {},
   "outputs": [],
   "source": [
    "ALS = AlternatingLeastSquare(urm_train)"
   ]
  },
  {
   "cell_type": "code",
   "execution_count": null,
   "metadata": {},
   "outputs": [],
   "source": [
    "ALS.fit(n_factors=als_param[\"n_factors\"], regularization=als_param[\"regularization\"],iterations=als_param[\"iterations\"])"
   ]
  },
  {
   "cell_type": "code",
   "execution_count": null,
   "metadata": {},
   "outputs": [],
   "source": [
    "accum_precision, accum_recall, accum_map, num_user_evaluated, num_users_skipped = evaluator(ALS, \n",
    "                                                                                            urm_train_validation, \n",
    "                                                                                            urm_test)\n",
    "accum_precision, accum_recall, accum_map, num_user_evaluated, num_users_skipped"
   ]
  },
  {
   "cell_type": "markdown",
   "metadata": {},
   "source": [
    "**Hybrid**"
   ]
  },
  {
   "cell_type": "markdown",
   "metadata": {},
   "source": [
    "**Hybrid Recommender Tuning**"
   ]
  },
  {
   "cell_type": "code",
   "execution_count": 19,
   "metadata": {},
   "outputs": [],
   "source": [
    "from Base.Evaluation.Evaluator import EvaluatorHoldout\n",
    "\n",
    "evaluator_validation = EvaluatorHoldout(urm_validation, cutoff_list=[10])\n",
    "evaluator_test = EvaluatorHoldout(urm_test, cutoff_list=[10])"
   ]
  },
  {
   "cell_type": "code",
   "execution_count": 32,
   "metadata": {},
   "outputs": [],
   "source": [
    "from skopt.space import Real, Integer, Categorical\n",
    "\n",
    "hyperparameters_range_dictionary = {}\n",
    "hyperparameters_range_dictionary[\"w_user\"] = Integer(0, 1000)\n",
    "hyperparameters_range_dictionary[\"w_item\"] = Integer(0, 1000)\n",
    "hyperparameters_range_dictionary[\"w_cbf\"] = Integer(0, 1000)"
   ]
  },
  {
   "cell_type": "code",
   "execution_count": 33,
   "metadata": {
    "scrolled": true
   },
   "outputs": [],
   "source": [
    "from ParameterTuning.SearchBayesianSkopt import SearchBayesianSkopt\n",
    "\n",
    "recommender_class = HybridRecommender\n",
    "\n",
    "parameterSearch = SearchBayesianSkopt(recommender_class,\n",
    "                                 evaluator_validation=evaluator_validation,\n",
    "                                 evaluator_test=evaluator_test)"
   ]
  },
  {
   "cell_type": "code",
   "execution_count": 34,
   "metadata": {},
   "outputs": [],
   "source": [
    "from ParameterTuning.SearchAbstractClass import SearchInputRecommenderArgs\n",
    "  \n",
    "recommender_input_args = SearchInputRecommenderArgs(\n",
    "    CONSTRUCTOR_POSITIONAL_ARGS = [urm_train, ICM],     # For a CBF model simply put [URM_train, ICM_train]\n",
    "    CONSTRUCTOR_KEYWORD_ARGS = {},\n",
    "    FIT_POSITIONAL_ARGS = [user_cf_param, item_cf_param, cbf_param, slim_bpr_param, als_param],\n",
    "    FIT_KEYWORD_ARGS = {}\n",
    ")"
   ]
  },
  {
   "cell_type": "code",
   "execution_count": 35,
   "metadata": {},
   "outputs": [],
   "source": [
    "recommender_input_args_last_test = SearchInputRecommenderArgs(\n",
    "    CONSTRUCTOR_POSITIONAL_ARGS = [urm_train_validation, ICM],     # For a CBF model simply put [URM_train_validation, ICM_train]\n",
    "    CONSTRUCTOR_KEYWORD_ARGS = {},\n",
    "    FIT_POSITIONAL_ARGS = [user_cf_param, item_cf_param, cbf_param, slim_bpr_param, als_param],\n",
    "    FIT_KEYWORD_ARGS = {}\n",
    ")"
   ]
  },
  {
   "cell_type": "code",
   "execution_count": 36,
   "metadata": {},
   "outputs": [],
   "source": [
    "import os\n",
    "\n",
    "output_folder_path = \"result_experiments/\"\n",
    "\n",
    "# If directory does not exist, create\n",
    "if not os.path.exists(output_folder_path):\n",
    "    os.makedirs(output_folder_path)\n",
    "    \n",
    "n_cases = 150\n",
    "n_random_starts = int(n_cases*0.4)\n",
    "metric_to_optimize = \"MAP\""
   ]
  },
  {
   "cell_type": "code",
   "execution_count": null,
   "metadata": {
    "scrolled": true
   },
   "outputs": [
    {
     "name": "stdout",
     "output_type": "stream",
     "text": [
      "Iteration No: 1 started. Evaluating function at random point.\n",
      "SearchBayesianSkopt: Testing config: {'w_user': 175, 'w_item': 70, 'w_cbf': 25}\n",
      "Fitting user cf...\n",
      "Similarity column 25975 ( 100 % ), 2929.84 column/sec, elapsed time 0.15 min\n",
      "Fitting item cf...\n",
      "Similarity column 25975 ( 100 % ), 3189.03 column/sec, elapsed time 0.14 min\n",
      "Fitting cbf...\n",
      "Similarity column 25975 ( 100 % ), 1312.33 column/sec, elapsed time 0.33 min\n",
      "Fitting slim bpr...\n",
      "Fitting slim elastic...\n",
      "Fitting ALS...\n",
      "EvaluatorHoldout: Processed 4643 ( 100.00% ) in 4.30 sec. Users per second: 1079\n",
      "SearchBayesianSkopt: New best config found. Config 0: {'w_user': 175, 'w_item': 70, 'w_cbf': 25} - results: ROC_AUC: 0.1239471, PRECISION: 0.0239716, PRECISION_RECALL_MIN_DEN: 0.1009601, RECALL: 0.0990701, MAP: 0.0445175, MRR: 0.0856976, NDCG: 0.0672280, F1: 0.0386026, HIT_RATE: 0.2397157, ARHR: 0.0935944, NOVELTY: 0.0048100, AVERAGE_POPULARITY: 0.0884072, DIVERSITY_MEAN_INTER_LIST: 0.9876088, DIVERSITY_HERFINDAHL: 0.9987396, COVERAGE_ITEM: 0.4652936, COVERAGE_ITEM_CORRECT: 0.0266795, COVERAGE_USER: 0.5842456, COVERAGE_USER_CORRECT: 0.1148861, DIVERSITY_GINI: 0.1821211, SHANNON_ENTROPY: 11.8985322, \n",
      "\n",
      "EvaluatorHoldout: Processed 5007 ( 100.00% ) in 4.80 sec. Users per second: 1043\n",
      "SearchBayesianSkopt: Best config evaluated with evaluator_test. Config: {'w_user': 175, 'w_item': 70, 'w_cbf': 25} - results:\n",
      "CUTOFF: 10 - ROC_AUC: 0.1255855, PRECISION: 0.0260036, PRECISION_RECALL_MIN_DEN: 0.0972939, RECALL: 0.0950842, MAP: 0.0429504, MRR: 0.0891870, NDCG: 0.0661938, F1: 0.0408387, HIT_RATE: 0.2600359, ARHR: 0.0998610, NOVELTY: 0.0048156, AVERAGE_POPULARITY: 0.0871627, DIVERSITY_MEAN_INTER_LIST: 0.9880882, DIVERSITY_HERFINDAHL: 0.9987891, COVERAGE_ITEM: 0.4859288, COVERAGE_ITEM_CORRECT: 0.0310298, COVERAGE_USER: 0.6300491, COVERAGE_USER_CORRECT: 0.1298603, DIVERSITY_GINI: 0.1892214, SHANNON_ENTROPY: 11.9636867, \n",
      "\n",
      "\n",
      "DataIO: Json dumps supports only 'str' as dictionary keys. Transforming keys to string, note that this will alter the mapper content.\n",
      "Iteration No: 1 ended. Evaluation done at random point.\n",
      "Time taken: 55.5763\n",
      "Function value obtained: -0.0445\n",
      "Current minimum: -0.0445\n",
      "Iteration No: 2 started. Evaluating function at random point.\n",
      "SearchBayesianSkopt: Testing config: {'w_user': 695, 'w_item': 433, 'w_cbf': 255}\n",
      "Fitting user cf...\n",
      "Similarity column 25975 ( 100 % ), 3004.40 column/sec, elapsed time 0.14 min\n",
      "Fitting item cf...\n",
      "Similarity column 25975 ( 100 % ), 3155.52 column/sec, elapsed time 0.14 min\n",
      "Fitting cbf...\n",
      "Similarity column 25975 ( 100 % ), 1307.93 column/sec, elapsed time 0.33 min\n",
      "Fitting slim bpr...\n",
      "Fitting slim elastic...\n",
      "Fitting ALS...\n",
      "EvaluatorHoldout: Processed 4643 ( 100.00% ) in 4.39 sec. Users per second: 1058\n",
      "SearchBayesianSkopt: Config 1 is suboptimal. Config: {'w_user': 695, 'w_item': 433, 'w_cbf': 255} - results: ROC_AUC: 0.1066035, PRECISION: 0.0211070, PRECISION_RECALL_MIN_DEN: 0.0852296, RECALL: 0.0833886, MAP: 0.0376255, MRR: 0.0752667, NDCG: 0.0571799, F1: 0.0336873, HIT_RATE: 0.2110704, ARHR: 0.0821734, NOVELTY: 0.0049546, AVERAGE_POPULARITY: 0.0591143, DIVERSITY_MEAN_INTER_LIST: 0.9937534, DIVERSITY_HERFINDAHL: 0.9993539, COVERAGE_ITEM: 0.4948604, COVERAGE_ITEM_CORRECT: 0.0259865, COVERAGE_USER: 0.5842456, COVERAGE_USER_CORRECT: 0.1002894, DIVERSITY_GINI: 0.2204280, SHANNON_ENTROPY: 12.4639825, \n",
      "\n",
      "Iteration No: 2 ended. Evaluation done at random point.\n",
      "Time taken: 50.5313\n",
      "Function value obtained: -0.0376\n",
      "Current minimum: -0.0445\n",
      "Iteration No: 3 started. Evaluating function at random point.\n",
      "SearchBayesianSkopt: Testing config: {'w_user': 748, 'w_item': 973, 'w_cbf': 895}\n",
      "Fitting user cf...\n",
      "Similarity column 25975 ( 100 % ), 2682.40 column/sec, elapsed time 0.16 min\n",
      "Fitting item cf...\n",
      "Similarity column 25975 ( 100 % ), 3243.17 column/sec, elapsed time 0.13 min\n",
      "Fitting cbf...\n",
      "Similarity column 25975 ( 100 % ), 1291.87 column/sec, elapsed time 0.34 min\n",
      "Fitting slim bpr...\n",
      "Fitting slim elastic...\n",
      "Fitting ALS...\n",
      "EvaluatorHoldout: Processed 4643 ( 100.00% ) in 4.32 sec. Users per second: 1075\n",
      "SearchBayesianSkopt: Config 2 is suboptimal. Config: {'w_user': 748, 'w_item': 973, 'w_cbf': 895} - results: ROC_AUC: 0.0877492, PRECISION: 0.0177256, PRECISION_RECALL_MIN_DEN: 0.0716622, RECALL: 0.0701284, MAP: 0.0312042, MRR: 0.0620816, NDCG: 0.0477003, F1: 0.0282985, HIT_RATE: 0.1772561, ARHR: 0.0674030, NOVELTY: 0.0050796, AVERAGE_POPULARITY: 0.0343325, DIVERSITY_MEAN_INTER_LIST: 0.9967791, DIVERSITY_HERFINDAHL: 0.9996564, COVERAGE_ITEM: 0.5106064, COVERAGE_ITEM_CORRECT: 0.0244466, COVERAGE_USER: 0.5842456, COVERAGE_USER_CORRECT: 0.0851894, DIVERSITY_GINI: 0.2446396, SHANNON_ENTROPY: 12.8019494, \n",
      "\n",
      "Iteration No: 3 ended. Evaluation done at random point.\n",
      "Time taken: 51.5562\n",
      "Function value obtained: -0.0312\n",
      "Current minimum: -0.0445\n",
      "Iteration No: 4 started. Evaluating function at random point.\n",
      "SearchBayesianSkopt: Testing config: {'w_user': 462, 'w_item': 409, 'w_cbf': 724}\n",
      "Fitting user cf...\n",
      "Similarity column 25975 ( 100 % ), 2934.81 column/sec, elapsed time 0.15 min\n",
      "Fitting item cf...\n",
      "Similarity column 25975 ( 100 % ), 2919.63 column/sec, elapsed time 0.15 min\n",
      "Fitting cbf...\n",
      "Similarity column 25975 ( 100 % ), 1272.78 column/sec, elapsed time 0.34 min\n",
      "Fitting slim bpr...\n",
      "Fitting slim elastic...\n",
      "Fitting ALS...\n",
      "EvaluatorHoldout: Processed 4643 ( 100.00% ) in 4.52 sec. Users per second: 1026\n",
      "SearchBayesianSkopt: Config 3 is suboptimal. Config: {'w_user': 462, 'w_item': 409, 'w_cbf': 724} - results: ROC_AUC: 0.0776262, PRECISION: 0.0153565, PRECISION_RECALL_MIN_DEN: 0.0629396, RECALL: 0.0616472, MAP: 0.0270134, MRR: 0.0540198, NDCG: 0.0415360, F1: 0.0245880, HIT_RATE: 0.1535645, ARHR: 0.0581413, NOVELTY: 0.0051276, AVERAGE_POPULARITY: 0.0239061, DIVERSITY_MEAN_INTER_LIST: 0.9972618, DIVERSITY_HERFINDAHL: 0.9997047, COVERAGE_ITEM: 0.5148412, COVERAGE_ITEM_CORRECT: 0.0231376, COVERAGE_USER: 0.5842456, COVERAGE_USER_CORRECT: 0.0757519, DIVERSITY_GINI: 0.2521467, SHANNON_ENTROPY: 12.8839418, \n",
      "\n",
      "Iteration No: 4 ended. Evaluation done at random point.\n",
      "Time taken: 52.3454\n",
      "Function value obtained: -0.0270\n",
      "Current minimum: -0.0445\n",
      "Iteration No: 5 started. Evaluating function at random point.\n",
      "SearchBayesianSkopt: Testing config: {'w_user': 67, 'w_item': 488, 'w_cbf': 237}\n",
      "Fitting user cf...\n",
      "Similarity column 25975 ( 100 % ), 2997.63 column/sec, elapsed time 0.14 min\n",
      "Fitting item cf...\n",
      "Similarity column 25975 ( 100 % ), 3147.11 column/sec, elapsed time 0.14 min\n",
      "Fitting cbf...\n",
      "Similarity column 25975 ( 100 % ), 1198.35 column/sec, elapsed time 0.36 min\n",
      "Fitting slim bpr...\n",
      "Fitting slim elastic...\n",
      "Fitting ALS...\n",
      "EvaluatorHoldout: Processed 4643 ( 100.00% ) in 4.72 sec. Users per second: 984\n",
      "SearchBayesianSkopt: Config 4 is suboptimal. Config: {'w_user': 67, 'w_item': 488, 'w_cbf': 237} - results: ROC_AUC: 0.0961609, PRECISION: 0.0192979, PRECISION_RECALL_MIN_DEN: 0.0782581, RECALL: 0.0766011, MAP: 0.0340442, MRR: 0.0668170, NDCG: 0.0519671, F1: 0.0308291, HIT_RATE: 0.1929787, ARHR: 0.0729791, NOVELTY: 0.0050283, AVERAGE_POPULARITY: 0.0448044, DIVERSITY_MEAN_INTER_LIST: 0.9958272, DIVERSITY_HERFINDAHL: 0.9995613, COVERAGE_ITEM: 0.5059095, COVERAGE_ITEM_CORRECT: 0.0253321, COVERAGE_USER: 0.5842456, COVERAGE_USER_CORRECT: 0.0919844, DIVERSITY_GINI: 0.2358345, SHANNON_ENTROPY: 12.6809660, \n",
      "\n",
      "Iteration No: 5 ended. Evaluation done at random point.\n",
      "Time taken: 53.0585\n",
      "Function value obtained: -0.0340\n",
      "Current minimum: -0.0445\n",
      "Iteration No: 6 started. Evaluating function at random point.\n",
      "SearchBayesianSkopt: Testing config: {'w_user': 436, 'w_item': 310, 'w_cbf': 430}\n",
      "Fitting user cf...\n",
      "Similarity column 25975 ( 100 % ), 2615.62 column/sec, elapsed time 0.17 min\n",
      "Fitting item cf...\n",
      "Similarity column 25975 ( 100 % ), 2705.53 column/sec, elapsed time 0.16 min\n",
      "Fitting cbf...\n",
      "Similarity column 25975 ( 100 % ), 972.05 column/sec, elapsed time 0.45 min\n",
      "Fitting slim bpr...\n",
      "Fitting slim elastic...\n",
      "Fitting ALS...\n",
      "EvaluatorHoldout: Processed 4643 ( 100.00% ) in 5.93 sec. Users per second: 783\n",
      "SearchBayesianSkopt: Config 5 is suboptimal. Config: {'w_user': 436, 'w_item': 310, 'w_cbf': 430} - results: ROC_AUC: 0.0841701, PRECISION: 0.0168426, PRECISION_RECALL_MIN_DEN: 0.0687717, RECALL: 0.0673167, MAP: 0.0295993, MRR: 0.0593965, NDCG: 0.0454801, F1: 0.0269438, HIT_RATE: 0.1684256, ARHR: 0.0642026, NOVELTY: 0.0051009, AVERAGE_POPULARITY: 0.0298855, DIVERSITY_MEAN_INTER_LIST: 0.9970285, DIVERSITY_HERFINDAHL: 0.9996814, COVERAGE_ITEM: 0.5128393, COVERAGE_ITEM_CORRECT: 0.0239076, COVERAGE_USER: 0.5842456, COVERAGE_USER_CORRECT: 0.0815402, DIVERSITY_GINI: 0.2482902, SHANNON_ENTROPY: 12.8421820, \n"
     ]
    },
    {
     "name": "stdout",
     "output_type": "stream",
     "text": [
      "\n",
      "Iteration No: 6 ended. Evaluation done at random point.\n",
      "Time taken: 62.9296\n",
      "Function value obtained: -0.0296\n",
      "Current minimum: -0.0445\n",
      "Iteration No: 7 started. Evaluating function at random point.\n",
      "SearchBayesianSkopt: Testing config: {'w_user': 404, 'w_item': 577, 'w_cbf': 713}\n",
      "Fitting user cf...\n",
      "Similarity column 25975 ( 100 % ), 2949.81 column/sec, elapsed time 0.15 min\n",
      "Fitting item cf...\n",
      "Similarity column 25975 ( 100 % ), 3032.82 column/sec, elapsed time 0.14 min\n",
      "Fitting cbf...\n",
      "Similarity column 25975 ( 100 % ), 1294.64 column/sec, elapsed time 0.33 min\n",
      "Fitting slim bpr...\n",
      "Fitting slim elastic...\n",
      "Fitting ALS...\n",
      "EvaluatorHoldout: Processed 4643 ( 100.00% ) in 4.43 sec. Users per second: 1048\n",
      "SearchBayesianSkopt: Config 6 is suboptimal. Config: {'w_user': 404, 'w_item': 577, 'w_cbf': 713} - results: ROC_AUC: 0.0818135, PRECISION: 0.0162610, PRECISION_RECALL_MIN_DEN: 0.0666733, RECALL: 0.0652586, MAP: 0.0285112, MRR: 0.0573188, NDCG: 0.0439058, F1: 0.0260348, HIT_RATE: 0.1626104, ARHR: 0.0618837, NOVELTY: 0.0051142, AVERAGE_POPULARITY: 0.0270794, DIVERSITY_MEAN_INTER_LIST: 0.9971479, DIVERSITY_HERFINDAHL: 0.9996933, COVERAGE_ITEM: 0.5139942, COVERAGE_ITEM_CORRECT: 0.0235611, COVERAGE_USER: 0.5842456, COVERAGE_USER_CORRECT: 0.0794010, DIVERSITY_GINI: 0.2502584, SHANNON_ENTROPY: 12.8634714, \n",
      "\n",
      "Iteration No: 7 ended. Evaluation done at random point.\n",
      "Time taken: 51.5488\n",
      "Function value obtained: -0.0285\n",
      "Current minimum: -0.0445\n",
      "Iteration No: 8 started. Evaluating function at random point.\n",
      "SearchBayesianSkopt: Testing config: {'w_user': 712, 'w_item': 349, 'w_cbf': 309}\n",
      "Fitting user cf...\n",
      "Similarity column 25975 ( 100 % ), 2867.63 column/sec, elapsed time 0.15 min\n",
      "Fitting item cf...\n",
      "Similarity column 25975 ( 100 % ), 2849.17 column/sec, elapsed time 0.15 min\n",
      "Fitting cbf...\n",
      "Similarity column 25975 ( 100 % ), 1259.21 column/sec, elapsed time 0.34 min\n",
      "Fitting slim bpr...\n",
      "Fitting slim elastic...\n",
      "Fitting ALS...\n",
      "EvaluatorHoldout: Processed 4643 ( 100.00% ) in 4.43 sec. Users per second: 1048\n",
      "SearchBayesianSkopt: Config 7 is suboptimal. Config: {'w_user': 712, 'w_item': 349, 'w_cbf': 309} - results: ROC_AUC: 0.0992943, PRECISION: 0.0197502, PRECISION_RECALL_MIN_DEN: 0.0802087, RECALL: 0.0785266, MAP: 0.0346808, MRR: 0.0687004, NDCG: 0.0530972, F1: 0.0315621, HIT_RATE: 0.1975016, ARHR: 0.0750245, NOVELTY: 0.0050106, AVERAGE_POPULARITY: 0.0488104, DIVERSITY_MEAN_INTER_LIST: 0.9953008, DIVERSITY_HERFINDAHL: 0.9995086, COVERAGE_ITEM: 0.5033686, COVERAGE_ITEM_CORRECT: 0.0251396, COVERAGE_USER: 0.5842456, COVERAGE_USER_CORRECT: 0.0943752, DIVERSITY_GINI: 0.2319558, SHANNON_ENTROPY: 12.6251458, \n",
      "\n",
      "Iteration No: 8 ended. Evaluation done at random point.\n",
      "Time taken: 52.8118\n",
      "Function value obtained: -0.0347\n",
      "Current minimum: -0.0445\n",
      "Iteration No: 9 started. Evaluating function at random point.\n",
      "SearchBayesianSkopt: Testing config: {'w_user': 881, 'w_item': 424, 'w_cbf': 791}\n",
      "Fitting user cf...\n",
      "Similarity column 25975 ( 100 % ), 3043.65 column/sec, elapsed time 0.14 min\n",
      "Fitting item cf...\n",
      "Similarity column 25975 ( 100 % ), 3281.69 column/sec, elapsed time 0.13 min\n",
      "Fitting cbf...\n",
      "Similarity column 25975 ( 100 % ), 1336.74 column/sec, elapsed time 0.32 min\n",
      "Fitting slim bpr...\n",
      "Fitting slim elastic...\n",
      "Fitting ALS...\n",
      "EvaluatorHoldout: Processed 4643 ( 100.00% ) in 4.35 sec. Users per second: 1067\n",
      "SearchBayesianSkopt: Config 8 is suboptimal. Config: {'w_user': 881, 'w_item': 424, 'w_cbf': 791} - results: ROC_AUC: 0.0822819, PRECISION: 0.0165410, PRECISION_RECALL_MIN_DEN: 0.0672856, RECALL: 0.0658404, MAP: 0.0287644, MRR: 0.0579334, NDCG: 0.0443486, F1: 0.0264397, HIT_RATE: 0.1654103, ARHR: 0.0626073, NOVELTY: 0.0051106, AVERAGE_POPULARITY: 0.0278822, DIVERSITY_MEAN_INTER_LIST: 0.9971156, DIVERSITY_HERFINDAHL: 0.9996901, COVERAGE_ITEM: 0.5131473, COVERAGE_ITEM_CORRECT: 0.0237536, COVERAGE_USER: 0.5842456, COVERAGE_USER_CORRECT: 0.0804077, DIVERSITY_GINI: 0.2494932, SHANNON_ENTROPY: 12.8564017, \n",
      "\n",
      "Iteration No: 9 ended. Evaluation done at random point.\n",
      "Time taken: 49.6845\n",
      "Function value obtained: -0.0288\n",
      "Current minimum: -0.0445\n",
      "Iteration No: 10 started. Evaluating function at random point.\n",
      "SearchBayesianSkopt: Testing config: {'w_user': 618, 'w_item': 652, 'w_cbf': 414}\n",
      "Fitting user cf...\n",
      "Similarity column 25975 ( 100 % ), 3079.93 column/sec, elapsed time 0.14 min\n",
      "Fitting item cf...\n",
      "Similarity column 25975 ( 100 % ), 3277.55 column/sec, elapsed time 0.13 min\n",
      "Fitting cbf...\n",
      "Similarity column 25975 ( 100 % ), 1330.99 column/sec, elapsed time 0.33 min\n",
      "Fitting slim bpr...\n",
      "Fitting slim elastic...\n",
      "Fitting ALS...\n",
      "EvaluatorHoldout: Processed 4643 ( 100.00% ) in 4.33 sec. Users per second: 1073\n",
      "SearchBayesianSkopt: Config 9 is suboptimal. Config: {'w_user': 618, 'w_item': 652, 'w_cbf': 414} - results: ROC_AUC: 0.0991973, PRECISION: 0.0196640, PRECISION_RECALL_MIN_DEN: 0.0800687, RECALL: 0.0784346, MAP: 0.0345646, MRR: 0.0683382, NDCG: 0.0529551, F1: 0.0314447, HIT_RATE: 0.1966401, ARHR: 0.0745672, NOVELTY: 0.0050127, AVERAGE_POPULARITY: 0.0482280, DIVERSITY_MEAN_INTER_LIST: 0.9953939, DIVERSITY_HERFINDAHL: 0.9995179, COVERAGE_ITEM: 0.5034841, COVERAGE_ITEM_CORRECT: 0.0250626, COVERAGE_USER: 0.5842456, COVERAGE_USER_CORRECT: 0.0945011, DIVERSITY_GINI: 0.2323754, SHANNON_ENTROPY: 12.6331953, \n",
      "\n",
      "Iteration No: 10 ended. Evaluation done at random point.\n",
      "Time taken: 49.6510\n",
      "Function value obtained: -0.0346\n",
      "Current minimum: -0.0445\n",
      "Iteration No: 11 started. Evaluating function at random point.\n",
      "SearchBayesianSkopt: Testing config: {'w_user': 155, 'w_item': 869, 'w_cbf': 24}\n",
      "Fitting user cf...\n",
      "Similarity column 25975 ( 100 % ), 3110.55 column/sec, elapsed time 0.14 min\n",
      "Fitting item cf...\n",
      "Similarity column 25975 ( 100 % ), 3270.55 column/sec, elapsed time 0.13 min\n",
      "Fitting cbf...\n",
      "Similarity column 25975 ( 100 % ), 1329.66 column/sec, elapsed time 0.33 min\n",
      "Fitting slim bpr...\n",
      "Fitting slim elastic...\n",
      "Fitting ALS...\n",
      "EvaluatorHoldout: Processed 4643 ( 100.00% ) in 4.28 sec. Users per second: 1084\n",
      "SearchBayesianSkopt: New best config found. Config 10: {'w_user': 155, 'w_item': 869, 'w_cbf': 24} - results: ROC_AUC: 0.1268318, PRECISION: 0.0241223, PRECISION_RECALL_MIN_DEN: 0.1047858, RECALL: 0.1030491, MAP: 0.0478253, MRR: 0.0888197, NDCG: 0.0707044, F1: 0.0390934, HIT_RATE: 0.2412233, ARHR: 0.0970449, NOVELTY: 0.0047542, AVERAGE_POPULARITY: 0.1168319, DIVERSITY_MEAN_INTER_LIST: 0.9801799, DIVERSITY_HERFINDAHL: 0.9979969, COVERAGE_ITEM: 0.3971511, COVERAGE_ITEM_CORRECT: 0.0250626, COVERAGE_USER: 0.5842456, COVERAGE_USER_CORRECT: 0.1165220, DIVERSITY_GINI: 0.1239970, SHANNON_ENTROPY: 11.1362095, \n",
      "\n",
      "EvaluatorHoldout: Processed 5007 ( 100.00% ) in 4.73 sec. Users per second: 1059\n",
      "SearchBayesianSkopt: Best config evaluated with evaluator_test. Config: {'w_user': 155, 'w_item': 869, 'w_cbf': 24} - results:\n",
      "CUTOFF: 10 - ROC_AUC: 0.1316474, PRECISION: 0.0263032, PRECISION_RECALL_MIN_DEN: 0.1039762, RECALL: 0.1018829, MAP: 0.0455197, MRR: 0.0935914, NDCG: 0.0699837, F1: 0.0418118, HIT_RATE: 0.2630318, ARHR: 0.1044255, NOVELTY: 0.0047688, AVERAGE_POPULARITY: 0.1149986, DIVERSITY_MEAN_INTER_LIST: 0.9810038, DIVERSITY_HERFINDAHL: 0.9980808, COVERAGE_ITEM: 0.4169009, COVERAGE_ITEM_CORRECT: 0.0290664, COVERAGE_USER: 0.6300491, COVERAGE_USER_CORRECT: 0.1318737, DIVERSITY_GINI: 0.1300765, SHANNON_ENTROPY: 11.2145427, \n",
      "\n",
      "\n",
      "Iteration No: 11 ended. Evaluation done at random point.\n",
      "Time taken: 54.3716\n",
      "Function value obtained: -0.0478\n",
      "Current minimum: -0.0478\n",
      "Iteration No: 12 started. Evaluating function at random point.\n",
      "SearchBayesianSkopt: Testing config: {'w_user': 549, 'w_item': 210, 'w_cbf': 303}\n",
      "Fitting user cf...\n",
      "Similarity column 25975 ( 100 % ), 3142.33 column/sec, elapsed time 0.14 min\n",
      "Fitting item cf...\n",
      "Similarity column 25975 ( 100 % ), 3267.66 column/sec, elapsed time 0.13 min\n",
      "Fitting cbf...\n",
      "Similarity column 25975 ( 100 % ), 1325.46 column/sec, elapsed time 0.33 min\n",
      "Fitting slim bpr...\n",
      "Fitting slim elastic...\n",
      "Fitting ALS...\n",
      "EvaluatorHoldout: Processed 4643 ( 100.00% ) in 4.36 sec. Users per second: 1066\n",
      "SearchBayesianSkopt: Config 11 is suboptimal. Config: {'w_user': 549, 'w_item': 210, 'w_cbf': 303} - results: ROC_AUC: 0.0897814, PRECISION: 0.0182210, PRECISION_RECALL_MIN_DEN: 0.0736251, RECALL: 0.0721082, MAP: 0.0318169, MRR: 0.0632885, NDCG: 0.0488191, F1: 0.0290910, HIT_RATE: 0.1822098, ARHR: 0.0688329, NOVELTY: 0.0050640, AVERAGE_POPULARITY: 0.0374963, DIVERSITY_MEAN_INTER_LIST: 0.9965269, DIVERSITY_HERFINDAHL: 0.9996312, COVERAGE_ITEM: 0.5099134, COVERAGE_ITEM_CORRECT: 0.0244851, COVERAGE_USER: 0.5842456, COVERAGE_USER_CORRECT: 0.0873286, DIVERSITY_GINI: 0.2422590, SHANNON_ENTROPY: 12.7684189, \n"
     ]
    },
    {
     "name": "stdout",
     "output_type": "stream",
     "text": [
      "\n",
      "Iteration No: 12 ended. Evaluation done at random point.\n",
      "Time taken: 49.6359\n",
      "Function value obtained: -0.0318\n",
      "Current minimum: -0.0478\n",
      "Iteration No: 13 started. Evaluating function at random point.\n",
      "SearchBayesianSkopt: Testing config: {'w_user': 107, 'w_item': 125, 'w_cbf': 793}\n",
      "Fitting user cf...\n",
      "Similarity column 25975 ( 100 % ), 3117.64 column/sec, elapsed time 0.14 min\n",
      "Fitting item cf...\n",
      "Similarity column 25975 ( 100 % ), 3265.89 column/sec, elapsed time 0.13 min\n",
      "Fitting cbf...\n",
      "Similarity column 25975 ( 100 % ), 1142.22 column/sec, elapsed time 0.38 min\n",
      "Fitting slim bpr...\n",
      "Fitting slim elastic...\n",
      "Fitting ALS...\n",
      "EvaluatorHoldout: Processed 4643 ( 100.00% ) in 4.28 sec. Users per second: 1084\n",
      "SearchBayesianSkopt: Config 12 is suboptimal. Config: {'w_user': 107, 'w_item': 125, 'w_cbf': 793} - results: ROC_AUC: 0.0654211, PRECISION: 0.0131596, PRECISION_RECALL_MIN_DEN: 0.0547658, RECALL: 0.0536562, MAP: 0.0234045, MRR: 0.0460429, NDCG: 0.0358379, F1: 0.0211355, HIT_RATE: 0.1315960, ARHR: 0.0497104, NOVELTY: 0.0051618, AVERAGE_POPULARITY: 0.0166541, DIVERSITY_MEAN_INTER_LIST: 0.9973715, DIVERSITY_HERFINDAHL: 0.9997157, COVERAGE_ITEM: 0.5170356, COVERAGE_ITEM_CORRECT: 0.0215207, COVERAGE_USER: 0.5842456, COVERAGE_USER_CORRECT: 0.0646785, DIVERSITY_GINI: 0.2554753, SHANNON_ENTROPY: 12.9125940, \n",
      "\n",
      "Iteration No: 13 ended. Evaluation done at random point.\n",
      "Time taken: 54.2259\n",
      "Function value obtained: -0.0234\n",
      "Current minimum: -0.0478\n",
      "Iteration No: 14 started. Evaluating function at random point.\n",
      "SearchBayesianSkopt: Testing config: {'w_user': 111, 'w_item': 937, 'w_cbf': 491}\n",
      "Fitting user cf...\n",
      "Similarity column 25975 ( 100 % ), 3102.37 column/sec, elapsed time 0.14 min\n",
      "Fitting item cf...\n",
      "Similarity column 25975 ( 100 % ), 3297.75 column/sec, elapsed time 0.13 min\n",
      "Fitting cbf...\n",
      "Similarity column 25975 ( 100 % ), 1321.78 column/sec, elapsed time 0.33 min\n",
      "Fitting slim bpr...\n",
      "Fitting slim elastic...\n",
      "Fitting ALS...\n",
      "EvaluatorHoldout: Processed 4643 ( 100.00% ) in 4.34 sec. Users per second: 1069\n",
      "SearchBayesianSkopt: Config 13 is suboptimal. Config: {'w_user': 111, 'w_item': 937, 'w_cbf': 491} - results: ROC_AUC: 0.0941595, PRECISION: 0.0187163, PRECISION_RECALL_MIN_DEN: 0.0758025, RECALL: 0.0742371, MAP: 0.0332305, MRR: 0.0653690, NDCG: 0.0506254, F1: 0.0298956, HIT_RATE: 0.1871635, ARHR: 0.0714169, NOVELTY: 0.0050421, AVERAGE_POPULARITY: 0.0419071, DIVERSITY_MEAN_INTER_LIST: 0.9961384, DIVERSITY_HERFINDAHL: 0.9995924, COVERAGE_ITEM: 0.5069875, COVERAGE_ITEM_CORRECT: 0.0247931, COVERAGE_USER: 0.5842456, COVERAGE_USER_CORRECT: 0.0890902, DIVERSITY_GINI: 0.2382112, SHANNON_ENTROPY: 12.7169544, \n",
      "\n",
      "Iteration No: 14 ended. Evaluation done at random point.\n",
      "Time taken: 50.1968\n",
      "Function value obtained: -0.0332\n",
      "Current minimum: -0.0478\n",
      "Iteration No: 15 started. Evaluating function at random point.\n",
      "SearchBayesianSkopt: Testing config: {'w_user': 173, 'w_item': 915, 'w_cbf': 438}\n",
      "Fitting user cf...\n",
      "Similarity column 25975 ( 100 % ), 3107.20 column/sec, elapsed time 0.14 min\n",
      "Fitting item cf...\n",
      "Similarity column 25975 ( 100 % ), 3212.30 column/sec, elapsed time 0.13 min\n",
      "Fitting cbf...\n",
      "Similarity column 25975 ( 100 % ), 1201.48 column/sec, elapsed time 0.36 min\n",
      "Fitting slim bpr...\n",
      "Fitting slim elastic...\n",
      "Fitting ALS...\n",
      "EvaluatorHoldout: Processed 4643 ( 100.00% ) in 4.95 sec. Users per second: 937\n",
      "SearchBayesianSkopt: Config 14 is suboptimal. Config: {'w_user': 173, 'w_item': 915, 'w_cbf': 438} - results: ROC_AUC: 0.0971791, PRECISION: 0.0194486, PRECISION_RECALL_MIN_DEN: 0.0784851, RECALL: 0.0768220, MAP: 0.0341887, MRR: 0.0672890, NDCG: 0.0521988, F1: 0.0310392, HIT_RATE: 0.1944863, ARHR: 0.0735368, NOVELTY: 0.0050213, AVERAGE_POPULARITY: 0.0462456, DIVERSITY_MEAN_INTER_LIST: 0.9956700, DIVERSITY_HERFINDAHL: 0.9995456, COVERAGE_ITEM: 0.5046776, COVERAGE_ITEM_CORRECT: 0.0252166, COVERAGE_USER: 0.5842456, COVERAGE_USER_CORRECT: 0.0926136, DIVERSITY_GINI: 0.2342113, SHANNON_ENTROPY: 12.6613420, \n",
      "\n",
      "Iteration No: 15 ended. Evaluation done at random point.\n",
      "Time taken: 52.8360\n",
      "Function value obtained: -0.0342\n",
      "Current minimum: -0.0478\n",
      "Iteration No: 16 started. Evaluating function at random point.\n",
      "SearchBayesianSkopt: Testing config: {'w_user': 888, 'w_item': 572, 'w_cbf': 756}\n",
      "Fitting user cf...\n",
      "Similarity column 25975 ( 100 % ), 2853.24 column/sec, elapsed time 0.15 min\n",
      "Fitting item cf...\n",
      "Similarity column 25975 ( 100 % ), 2378.27 column/sec, elapsed time 0.18 min\n",
      "Fitting cbf...\n",
      "Similarity column 25975 ( 100 % ), 1139.49 column/sec, elapsed time 0.38 min\n",
      "Fitting slim bpr...\n",
      "Fitting slim elastic...\n",
      "Fitting ALS...\n",
      "EvaluatorHoldout: Processed 4643 ( 100.00% ) in 4.35 sec. Users per second: 1066\n",
      "SearchBayesianSkopt: Config 15 is suboptimal. Config: {'w_user': 888, 'w_item': 572, 'w_cbf': 756} - results: ROC_AUC: 0.0861127, PRECISION: 0.0173810, PRECISION_RECALL_MIN_DEN: 0.0702641, RECALL: 0.0687634, MAP: 0.0305152, MRR: 0.0610268, NDCG: 0.0467332, F1: 0.0277482, HIT_RATE: 0.1738100, ARHR: 0.0660454, NOVELTY: 0.0050902, AVERAGE_POPULARITY: 0.0320523, DIVERSITY_MEAN_INTER_LIST: 0.9969172, DIVERSITY_HERFINDAHL: 0.9996702, COVERAGE_ITEM: 0.5120693, COVERAGE_ITEM_CORRECT: 0.0242156, COVERAGE_USER: 0.5842456, COVERAGE_USER_CORRECT: 0.0840569, DIVERSITY_GINI: 0.2465719, SHANNON_ENTROPY: 12.8234211, \n",
      "\n",
      "Iteration No: 16 ended. Evaluation done at random point.\n",
      "Time taken: 57.5296\n",
      "Function value obtained: -0.0305\n",
      "Current minimum: -0.0478\n",
      "Iteration No: 17 started. Evaluating function at random point.\n",
      "SearchBayesianSkopt: Testing config: {'w_user': 436, 'w_item': 555, 'w_cbf': 184}\n",
      "Fitting user cf...\n",
      "Similarity column 25975 ( 100 % ), 3056.38 column/sec, elapsed time 0.14 min\n",
      "Fitting item cf...\n",
      "Similarity column 25975 ( 100 % ), 3192.75 column/sec, elapsed time 0.14 min\n",
      "Fitting cbf...\n",
      "Similarity column 25975 ( 100 % ), 1313.75 column/sec, elapsed time 0.33 min\n",
      "Fitting slim bpr...\n",
      "Fitting slim elastic...\n",
      "Fitting ALS...\n",
      "EvaluatorHoldout: Processed 4643 ( 100.00% ) in 4.33 sec. Users per second: 1072\n",
      "SearchBayesianSkopt: Config 16 is suboptimal. Config: {'w_user': 436, 'w_item': 555, 'w_cbf': 184} - results: ROC_AUC: 0.1133446, PRECISION: 0.0221193, PRECISION_RECALL_MIN_DEN: 0.0900434, RECALL: 0.0881703, MAP: 0.0406377, MRR: 0.0793594, NDCG: 0.0610541, F1: 0.0353663, HIT_RATE: 0.2211932, ARHR: 0.0867861, NOVELTY: 0.0048982, AVERAGE_POPULARITY: 0.0704437, DIVERSITY_MEAN_INTER_LIST: 0.9916754, DIVERSITY_HERFINDAHL: 0.9991462, COVERAGE_ITEM: 0.4849663, COVERAGE_ITEM_CORRECT: 0.0259865, COVERAGE_USER: 0.5842456, COVERAGE_USER_CORRECT: 0.1046936, DIVERSITY_GINI: 0.2061809, SHANNON_ENTROPY: 12.2589762, \n",
      "\n",
      "Iteration No: 17 ended. Evaluation done at random point.\n",
      "Time taken: 50.3555\n",
      "Function value obtained: -0.0406\n",
      "Current minimum: -0.0478\n",
      "Iteration No: 18 started. Evaluating function at random point.\n",
      "SearchBayesianSkopt: Testing config: {'w_user': 543, 'w_item': 324, 'w_cbf': 982}\n",
      "Fitting user cf...\n",
      "Similarity column 25975 ( 100 % ), 3075.19 column/sec, elapsed time 0.14 min\n",
      "Fitting item cf...\n",
      "Similarity column 25975 ( 100 % ), 3236.56 column/sec, elapsed time 0.13 min\n",
      "Fitting cbf...\n",
      "Similarity column 25975 ( 100 % ), 1304.46 column/sec, elapsed time 0.33 min\n",
      "Fitting slim bpr...\n",
      "Fitting slim elastic...\n",
      "Fitting ALS...\n",
      "EvaluatorHoldout: Processed 4643 ( 100.00% ) in 4.28 sec. Users per second: 1084\n",
      "SearchBayesianSkopt: Config 17 is suboptimal. Config: {'w_user': 543, 'w_item': 324, 'w_cbf': 982} - results: ROC_AUC: 0.0722585, PRECISION: 0.0141719, PRECISION_RECALL_MIN_DEN: 0.0591802, RECALL: 0.0579749, MAP: 0.0251060, MRR: 0.0500911, NDCG: 0.0386602, F1: 0.0227761, HIT_RATE: 0.1417187, ARHR: 0.0539189, NOVELTY: 0.0051444, AVERAGE_POPULARITY: 0.0200779, DIVERSITY_MEAN_INTER_LIST: 0.9973252, DIVERSITY_HERFINDAHL: 0.9997110, COVERAGE_ITEM: 0.5160346, COVERAGE_ITEM_CORRECT: 0.0222907, COVERAGE_USER: 0.5842456, COVERAGE_USER_CORRECT: 0.0700893, DIVERSITY_GINI: 0.2539889, SHANNON_ENTROPY: 12.8998466, \n",
      "\n",
      "Iteration No: 18 ended. Evaluation done at random point.\n",
      "Time taken: 50.1500\n",
      "Function value obtained: -0.0251\n",
      "Current minimum: -0.0478\n",
      "Iteration No: 19 started. Evaluating function at random point.\n",
      "SearchBayesianSkopt: Testing config: {'w_user': 771, 'w_item': 179, 'w_cbf': 842}\n",
      "Fitting user cf...\n"
     ]
    },
    {
     "name": "stdout",
     "output_type": "stream",
     "text": [
      "Similarity column 25975 ( 100 % ), 3014.69 column/sec, elapsed time 0.14 min\n",
      "Fitting item cf...\n",
      "Similarity column 25975 ( 100 % ), 3199.05 column/sec, elapsed time 0.14 min\n",
      "Fitting cbf...\n",
      "Similarity column 25975 ( 100 % ), 1303.97 column/sec, elapsed time 0.33 min\n",
      "Fitting slim bpr...\n",
      "Fitting slim elastic...\n",
      "Fitting ALS...\n",
      "EvaluatorHoldout: Processed 4643 ( 100.00% ) in 4.39 sec. Users per second: 1057\n",
      "SearchBayesianSkopt: Config 18 is suboptimal. Config: {'w_user': 771, 'w_item': 179, 'w_cbf': 842} - results: ROC_AUC: 0.0738926, PRECISION: 0.0145596, PRECISION_RECALL_MIN_DEN: 0.0604220, RECALL: 0.0591634, MAP: 0.0255436, MRR: 0.0510224, NDCG: 0.0394242, F1: 0.0233684, HIT_RATE: 0.1455955, ARHR: 0.0549770, NOVELTY: 0.0051381, AVERAGE_POPULARITY: 0.0213883, DIVERSITY_MEAN_INTER_LIST: 0.9972940, DIVERSITY_HERFINDAHL: 0.9997079, COVERAGE_ITEM: 0.5153417, COVERAGE_ITEM_CORRECT: 0.0225217, COVERAGE_USER: 0.5842456, COVERAGE_USER_CORRECT: 0.0717252, DIVERSITY_GINI: 0.2530375, SHANNON_ENTROPY: 12.8921732, \n",
      "\n",
      "Iteration No: 19 ended. Evaluation done at random point.\n",
      "Time taken: 50.5978\n",
      "Function value obtained: -0.0255\n",
      "Current minimum: -0.0478\n",
      "Iteration No: 20 started. Evaluating function at random point.\n",
      "SearchBayesianSkopt: Testing config: {'w_user': 993, 'w_item': 681, 'w_cbf': 83}\n",
      "Fitting user cf...\n",
      "Similarity column 25975 ( 100 % ), 3034.59 column/sec, elapsed time 0.14 min\n",
      "Fitting item cf...\n",
      "Similarity column 25975 ( 100 % ), 3014.68 column/sec, elapsed time 0.14 min\n",
      "Fitting cbf...\n",
      "Similarity column 25975 ( 100 % ), 1292.99 column/sec, elapsed time 0.33 min\n",
      "Fitting slim bpr...\n",
      "Fitting slim elastic...\n",
      "Fitting ALS...\n",
      "EvaluatorHoldout: Processed 4643 ( 100.00% ) in 4.38 sec. Users per second: 1060\n",
      "SearchBayesianSkopt: New best config found. Config 19: {'w_user': 993, 'w_item': 681, 'w_cbf': 83} - results: ROC_AUC: 0.1315319, PRECISION: 0.0255438, PRECISION_RECALL_MIN_DEN: 0.1108844, RECALL: 0.1090077, MAP: 0.0496317, MRR: 0.0930682, NDCG: 0.0739725, F1: 0.0413890, HIT_RATE: 0.2554383, ARHR: 0.1019729, NOVELTY: 0.0047263, AVERAGE_POPULARITY: 0.1094136, DIVERSITY_MEAN_INTER_LIST: 0.9820985, DIVERSITY_HERFINDAHL: 0.9981887, COVERAGE_ITEM: 0.4256015, COVERAGE_ITEM_CORRECT: 0.0279885, COVERAGE_USER: 0.5842456, COVERAGE_USER_CORRECT: 0.1221845, DIVERSITY_GINI: 0.1445816, SHANNON_ENTROPY: 11.3808710, \n",
      "\n",
      "EvaluatorHoldout: Processed 5007 ( 100.00% ) in 4.70 sec. Users per second: 1066\n",
      "SearchBayesianSkopt: Best config evaluated with evaluator_test. Config: {'w_user': 993, 'w_item': 681, 'w_cbf': 83} - results:\n",
      "CUTOFF: 10 - ROC_AUC: 0.1359792, PRECISION: 0.0271620, PRECISION_RECALL_MIN_DEN: 0.1053192, RECALL: 0.1031651, MAP: 0.0477420, MRR: 0.0977480, NDCG: 0.0725154, F1: 0.0430021, HIT_RATE: 0.2716197, ARHR: 0.1092211, NOVELTY: 0.0047357, AVERAGE_POPULARITY: 0.1077612, DIVERSITY_MEAN_INTER_LIST: 0.9828239, DIVERSITY_HERFINDAHL: 0.9982628, COVERAGE_ITEM: 0.4481617, COVERAGE_ITEM_CORRECT: 0.0310683, COVERAGE_USER: 0.6300491, COVERAGE_USER_CORRECT: 0.1360262, DIVERSITY_GINI: 0.1514347, SHANNON_ENTROPY: 11.4562906, \n",
      "\n",
      "\n",
      "Iteration No: 20 ended. Evaluation done at random point.\n",
      "Time taken: 55.9965\n",
      "Function value obtained: -0.0496\n",
      "Current minimum: -0.0496\n",
      "Iteration No: 21 started. Evaluating function at random point.\n",
      "SearchBayesianSkopt: Testing config: {'w_user': 544, 'w_item': 569, 'w_cbf': 132}\n",
      "Fitting user cf...\n",
      "Similarity column 25975 ( 100 % ), 3061.77 column/sec, elapsed time 0.14 min\n",
      "Fitting item cf...\n",
      "Similarity column 25975 ( 100 % ), 3086.89 column/sec, elapsed time 0.14 min\n",
      "Fitting cbf...\n",
      "Similarity column 25975 ( 100 % ), 1270.48 column/sec, elapsed time 0.34 min\n",
      "Fitting slim bpr...\n",
      "Fitting slim elastic...\n",
      "Fitting ALS...\n",
      "EvaluatorHoldout: Processed 4643 ( 100.00% ) in 4.45 sec. Users per second: 1044\n",
      "SearchBayesianSkopt: Config 20 is suboptimal. Config: {'w_user': 544, 'w_item': 569, 'w_cbf': 132} - results: ROC_AUC: 0.1235303, PRECISION: 0.0238854, PRECISION_RECALL_MIN_DEN: 0.1004129, RECALL: 0.0985644, MAP: 0.0445025, MRR: 0.0859968, NDCG: 0.0671069, F1: 0.0384525, HIT_RATE: 0.2388542, ARHR: 0.0939772, NOVELTY: 0.0048167, AVERAGE_POPULARITY: 0.0866335, DIVERSITY_MEAN_INTER_LIST: 0.9881188, DIVERSITY_HERFINDAHL: 0.9987906, COVERAGE_ITEM: 0.4676420, COVERAGE_ITEM_CORRECT: 0.0268335, COVERAGE_USER: 0.5842456, COVERAGE_USER_CORRECT: 0.1140053, DIVERSITY_GINI: 0.1841219, SHANNON_ENTROPY: 11.9327686, \n",
      "\n",
      "Iteration No: 21 ended. Evaluation done at random point.\n",
      "Time taken: 51.5169\n",
      "Function value obtained: -0.0445\n",
      "Current minimum: -0.0496\n",
      "Iteration No: 22 started. Evaluating function at random point.\n",
      "SearchBayesianSkopt: Testing config: {'w_user': 858, 'w_item': 603, 'w_cbf': 855}\n",
      "Fitting user cf...\n",
      "Similarity column 25975 ( 100 % ), 2917.67 column/sec, elapsed time 0.15 min\n",
      "Fitting item cf...\n",
      "Similarity column 25975 ( 100 % ), 3070.46 column/sec, elapsed time 0.14 min\n",
      "Fitting cbf...\n",
      "Similarity column 25975 ( 100 % ), 1282.07 column/sec, elapsed time 0.34 min\n",
      "Fitting slim bpr...\n",
      "Fitting slim elastic...\n",
      "Fitting ALS...\n",
      "EvaluatorHoldout: Processed 4643 ( 100.00% ) in 4.41 sec. Users per second: 1052\n",
      "SearchBayesianSkopt: Config 21 is suboptimal. Config: {'w_user': 858, 'w_item': 603, 'w_cbf': 855} - results: ROC_AUC: 0.0836528, PRECISION: 0.0167779, PRECISION_RECALL_MIN_DEN: 0.0684523, RECALL: 0.0669883, MAP: 0.0295078, MRR: 0.0591407, NDCG: 0.0452998, F1: 0.0268348, HIT_RATE: 0.1677795, ARHR: 0.0639572, NOVELTY: 0.0051026, AVERAGE_POPULARITY: 0.0295400, DIVERSITY_MEAN_INTER_LIST: 0.9970509, DIVERSITY_HERFINDAHL: 0.9996836, COVERAGE_ITEM: 0.5128393, COVERAGE_ITEM_CORRECT: 0.0238691, COVERAGE_USER: 0.5842456, COVERAGE_USER_CORRECT: 0.0810369, DIVERSITY_GINI: 0.2484643, SHANNON_ENTROPY: 12.8453763, \n",
      "\n",
      "Iteration No: 22 ended. Evaluation done at random point.\n",
      "Time taken: 51.5988\n",
      "Function value obtained: -0.0295\n",
      "Current minimum: -0.0496\n",
      "Iteration No: 23 started. Evaluating function at random point.\n",
      "SearchBayesianSkopt: Testing config: {'w_user': 221, 'w_item': 613, 'w_cbf': 331}\n",
      "Fitting user cf...\n",
      "Similarity column 25975 ( 100 % ), 2891.75 column/sec, elapsed time 0.15 min\n",
      "Fitting item cf...\n",
      "Similarity column 25975 ( 100 % ), 2912.91 column/sec, elapsed time 0.15 min\n",
      "Fitting cbf...\n",
      "Similarity column 25975 ( 100 % ), 1243.33 column/sec, elapsed time 0.35 min\n",
      "Fitting slim bpr...\n",
      "Fitting slim elastic...\n",
      "Fitting ALS...\n",
      "EvaluatorHoldout: Processed 4643 ( 100.00% ) in 5.20 sec. Users per second: 892\n",
      "SearchBayesianSkopt: Config 22 is suboptimal. Config: {'w_user': 221, 'w_item': 613, 'w_cbf': 331} - results: ROC_AUC: 0.0968086, PRECISION: 0.0193625, PRECISION_RECALL_MIN_DEN: 0.0785513, RECALL: 0.0768881, MAP: 0.0341507, MRR: 0.0672579, NDCG: 0.0521585, F1: 0.0309348, HIT_RATE: 0.1936248, ARHR: 0.0733950, NOVELTY: 0.0050269, AVERAGE_POPULARITY: 0.0451060, DIVERSITY_MEAN_INTER_LIST: 0.9957843, DIVERSITY_HERFINDAHL: 0.9995570, COVERAGE_ITEM: 0.5054475, COVERAGE_ITEM_CORRECT: 0.0253321, COVERAGE_USER: 0.5842456, COVERAGE_USER_CORRECT: 0.0924877, DIVERSITY_GINI: 0.2352744, SHANNON_ENTROPY: 12.6749257, \n",
      "\n",
      "Iteration No: 23 ended. Evaluation done at random point.\n",
      "Time taken: 53.6183\n",
      "Function value obtained: -0.0342\n",
      "Current minimum: -0.0496\n",
      "Iteration No: 24 started. Evaluating function at random point.\n",
      "SearchBayesianSkopt: Testing config: {'w_user': 134, 'w_item': 169, 'w_cbf': 540}\n",
      "Fitting user cf...\n"
     ]
    }
   ],
   "source": [
    "parameterSearch.search(recommender_input_args,\n",
    "                       recommender_input_args_last_test = recommender_input_args_last_test,\n",
    "                       parameter_search_space = hyperparameters_range_dictionary,\n",
    "                       n_cases = n_cases,\n",
    "                       n_random_starts = n_random_starts,\n",
    "                       save_model = \"last\",\n",
    "                       output_folder_path = output_folder_path,\n",
    "                       output_file_name_root = recommender_class.RECOMMENDER_NAME,\n",
    "                       metric_to_optimize = metric_to_optimize,\n",
    "                      )"
   ]
  },
  {
   "cell_type": "code",
   "execution_count": null,
   "metadata": {},
   "outputs": [],
   "source": [
    "data_loader = DataIO(folder_path = output_folder_path)\n",
    "search_metadata = data_loader.load_data(recommender_class.RECOMMENDER_NAME + \"_metadata.zip\")\n",
    "best_parameters = search_metadata[\"hyperparameters_best\"]\n",
    "best_parameters"
   ]
  },
  {
   "cell_type": "code",
   "execution_count": null,
   "metadata": {},
   "outputs": [],
   "source": [
    "w = {\n",
    "    \"user_cf\": 5,\n",
    "    \"item_cf\": 30,\n",
    "    \"cbf\": 0,\n",
    "    \"icm_svd\": 0,\n",
    "    \"als\": 0,\n",
    "    \"slim\": 0,\n",
    "    \"elastic\": 0\n",
    "}"
   ]
  },
  {
   "cell_type": "code",
   "execution_count": null,
   "metadata": {},
   "outputs": [],
   "source": [
    "recommender = HybridRecommender(urm_train_validation, ICM)"
   ]
  },
  {
   "cell_type": "code",
   "execution_count": null,
   "metadata": {
    "scrolled": true
   },
   "outputs": [],
   "source": [
    "recommender.fit(user_cf_param=user_cf_param,item_cf_param=item_cf_param,cbf_param=cbf_param,\n",
    "                slim_param=slim_bpr_param,als_param=als_param, w_user=w[\"user_cf\"], w_item=w[\"item_cf\"])"
   ]
  },
  {
   "cell_type": "code",
   "execution_count": null,
   "metadata": {},
   "outputs": [],
   "source": [
    "accum_precision, accum_recall, accum_map, num_user_evaluated, num_users_skipped = evaluator(recommender, \n",
    "                                                                                            urm_train_validation, \n",
    "                                                                                            urm_test)\n",
    "accum_precision, accum_recall, accum_map, num_user_evaluated, num_users_skipped"
   ]
  },
  {
   "cell_type": "markdown",
   "metadata": {
    "id": "0Vi-dduXaj46"
   },
   "source": [
    "**Submission to competition**\n",
    "\n",
    "This step serves as a similar step that you will perform when preparing a submission to the competition. Specially after you have chosen and trained your recommender.\n",
    "\n",
    "For this step the best suggestion is to select the most-performing configuration obtained in the hyperparameter tuning step and to train the recommender using both the train and validation set. Remember that in the competition you do not have access to the test set.\n",
    "\n",
    "Another consideration is that, due to easier and faster calculations, we replaced the user/item identifiers with new ones in the preprocessing step. For the competition, you are required to generate recommendations using the dataset's original identifiers. Due to this, this step also reverts back the newer identifiers with the ones originally found in the dataset.\n",
    "\n",
    "Last, this step creates a function that writes the recommendations for each user in the same file in a tabular format following this format:\n",
    "\n",
    "csv\n",
    "<user_id>,<item_id_1> <item_id_2> <item_id_3> <item_id_4> <item_id_5> <item_id_6> <item_id_7> <item_id_8> <item_id_9> <item_id_10>\n",
    "Always verify the competitions' submission file model as it might vary from the one we presented here."
   ]
  },
  {
   "cell_type": "code",
   "execution_count": null,
   "metadata": {
    "id": "EcSDk9aMtW4k"
   },
   "outputs": [],
   "source": [
    "def load_goodguys():\n",
    "  return pd.read_csv(\"./data_target_users_test.csv\")\n",
    "goodguys=load_goodguys()"
   ]
  },
  {
   "cell_type": "code",
   "execution_count": null,
   "metadata": {
    "id": "eHzsuFiqtW4k",
    "outputId": "bc36c459-1cc6-460a-b403-95482cf1508d"
   },
   "outputs": [],
   "source": [
    "goodguys"
   ]
  },
  {
   "cell_type": "code",
   "execution_count": null,
   "metadata": {
    "id": "0b3DwuXrayTA",
    "outputId": "27c6d557-b304-427c-bf2c-8fdc090efe64"
   },
   "outputs": [],
   "source": [
    "users_to_recommend = np.random.choice(goodguys.user_id,size=goodguys.size, replace=False)\n",
    "users_to_recommend"
   ]
  },
  {
   "cell_type": "code",
   "execution_count": null,
   "metadata": {
    "id": "RurxNTttbI-i"
   },
   "outputs": [],
   "source": [
    "def prepare_submission(users_to_recommend: np.array, urm_train: sp.csr_matrix, recommender: object):\n",
    "    \n",
    "    recommendation_length = 10\n",
    "    submission = []\n",
    "    \n",
    "    for user_id in users_to_recommend :\n",
    "\n",
    "        recommendations = recommender.recommend2(user_id, urm_train, recommendation_length)\n",
    "\n",
    "        \n",
    "        submission.append((user_id, [item_id for item_id in recommendations]))\n",
    "   \n",
    "    return submission"
   ]
  },
  {
   "cell_type": "code",
   "execution_count": null,
   "metadata": {
    "id": "5KYlvMDVbLxo",
    "scrolled": true
   },
   "outputs": [],
   "source": [
    "submission = prepare_submission(users_to_recommend, urm_train_validation, recommender)"
   ]
  },
  {
   "cell_type": "code",
   "execution_count": null,
   "metadata": {
    "id": "sJZEjE3CbQTp",
    "outputId": "8e2faf6b-144c-4ba3-ee1a-692290e15d3c"
   },
   "outputs": [],
   "source": [
    "submission"
   ]
  },
  {
   "cell_type": "code",
   "execution_count": null,
   "metadata": {
    "id": "6hCawP60bVm3"
   },
   "outputs": [],
   "source": [
    "import os\n",
    "from datetime import datetime\n",
    "\n",
    "csv_fname = './submission'\n",
    "csv_fname += datetime.now().strftime('%b%d_%H-%M-%S') + '.csv'\n",
    "\n",
    "def write_submission(submissions):\n",
    "    with open(csv_fname, \"w\") as f:\n",
    "        f.write(f\"user_id,item_list\\n\")\n",
    "        for user_id, items in submissions:\n",
    "            f.write(f\"{user_id},{' '.join([str(item) for item in items])}\\n\")\n"
   ]
  },
  {
   "cell_type": "code",
   "execution_count": null,
   "metadata": {
    "id": "ov91al-UbXAQ"
   },
   "outputs": [],
   "source": [
    "write_submission(submission)"
   ]
  },
  {
   "cell_type": "code",
   "execution_count": null,
   "metadata": {},
   "outputs": [],
   "source": []
  }
 ],
 "metadata": {
  "colab": {
   "collapsed_sections": [],
   "name": "RecommenderChallenge.ipynb",
   "provenance": []
  },
  "kernelspec": {
   "display_name": "Python 3",
   "language": "python",
   "name": "python3"
  },
  "language_info": {
   "codemirror_mode": {
    "name": "ipython",
    "version": 3
   },
   "file_extension": ".py",
   "mimetype": "text/x-python",
   "name": "python",
   "nbconvert_exporter": "python",
   "pygments_lexer": "ipython3",
   "version": "3.6.10"
  }
 },
 "nbformat": 4,
 "nbformat_minor": 1
}
