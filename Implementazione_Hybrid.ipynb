{
 "cells": [
  {
   "cell_type": "code",
   "execution_count": 1,
   "metadata": {
    "id": "ybQSYdHvb_CB"
   },
   "outputs": [],
   "source": [
    "import numpy as np\n",
    "import pandas as pd\n",
    "import scipy.sparse as sp\n",
    "from tqdm import tqdm\n",
    "from Base.DataIO import DataIO\n",
    "\n",
    "#----Recommenders----\n",
    "from SLIM.SLIM_BPR_Python import SLIM_BPR_Python\n",
    "from SLIM.SlimElasticNet import SLIMElasticNetRecommender\n",
    "from cf.item_cf3 import ItemBasedCollaborativeFiltering\n",
    "from cf.user_cf2 import UserBasedCollaborativeFiltering\n",
    "from MF.ALS import AlternatingLeastSquare\n",
    "from cbf.cbf import ContentBasedFiltering\n",
    "from SlimBPR.SlimBPRRec import SlimBPRRec\n",
    "from SlimBPR.SlimBPR import SlimBPR\n",
    "#---------------\n",
    "\n",
    "#----Model Load & Save----\n",
    "#from Data_manager.DataReader import DataReader\n",
    "#from Data_manager.DataSplitter import DataSplitter\n",
    "from Data_manager.Dataset import Dataset\n",
    "#-------------------------\n",
    "\n",
    "from sklearn.model_selection import train_test_split"
   ]
  },
  {
   "cell_type": "markdown",
   "metadata": {
    "id": "iyPCmUzVedBh"
   },
   "source": [
    "**Dataset loading with pandas**\n",
    "\n",
    "The function read_csv from pandas provides a wonderful and fast interface to load tabular data like this. For better results and performance we provide the separator ::, the column names [\"user_id\", \"item_id\", \"ratings\", \"timestamp\"], and the types of each attribute in the dtype parameter."
   ]
  },
  {
   "cell_type": "code",
   "execution_count": 2,
   "metadata": {
    "id": "96AUQmIlcAr2"
   },
   "outputs": [],
   "source": [
    "def load_data():\n",
    "  return pd.read_csv(\"./data_train.csv\")"
   ]
  },
  {
   "cell_type": "code",
   "execution_count": 3,
   "metadata": {
    "id": "vMaAYCCksV82"
   },
   "outputs": [],
   "source": [
    "ratings=load_data()\n",
    "d ={'user_id': ratings['row'],'item_id':ratings['col'],'ratings':ratings['data']}\n",
    "ratings=pd.DataFrame(data=d)"
   ]
  },
  {
   "cell_type": "code",
   "execution_count": 4,
   "metadata": {
    "colab": {
     "base_uri": "https://localhost:8080/"
    },
    "id": "enpGAp964Y5a",
    "outputId": "c436ac0a-ab96-4e87-8990-dea6db1076a0"
   },
   "outputs": [
    {
     "data": {
      "text/plain": [
       "user_id      int64\n",
       "item_id      int64\n",
       "ratings    float64\n",
       "dtype: object"
      ]
     },
     "execution_count": 4,
     "metadata": {},
     "output_type": "execute_result"
    }
   ],
   "source": [
    "ratings.dtypes"
   ]
  },
  {
   "cell_type": "code",
   "execution_count": 5,
   "metadata": {
    "id": "8dj1UlZkbiJd"
   },
   "outputs": [],
   "source": [
    "userList=list(d['user_id'])\n",
    "itemList=list(d['item_id'])\n",
    "ratingList=list(d['ratings'])"
   ]
  },
  {
   "cell_type": "code",
   "execution_count": 6,
   "metadata": {
    "id": "EuTgqT-1biJd"
   },
   "outputs": [],
   "source": [
    "URM = sp.coo_matrix((ratingList,(userList,itemList)))\n",
    "URM = URM.tocsr()"
   ]
  },
  {
   "cell_type": "code",
   "execution_count": 7,
   "metadata": {
    "id": "r4kLvs-TbiJd",
    "outputId": "547ba2f6-8e3d-4fda-9dc3-08577d183c47"
   },
   "outputs": [
    {
     "data": {
      "text/plain": [
       "<7947x25975 sparse matrix of type '<class 'numpy.float64'>'\n",
       "\twith 113268 stored elements in Compressed Sparse Row format>"
      ]
     },
     "execution_count": 7,
     "metadata": {},
     "output_type": "execute_result"
    }
   ],
   "source": [
    "URM"
   ]
  },
  {
   "cell_type": "code",
   "execution_count": 8,
   "metadata": {
    "id": "FSE7ic-VbiJd"
   },
   "outputs": [],
   "source": [
    "def load_data_ICM():\n",
    "  return pd.read_csv(\"./data_ICM_title_abstract.csv\")"
   ]
  },
  {
   "cell_type": "code",
   "execution_count": 9,
   "metadata": {
    "id": "-d-NVkEZbiJd"
   },
   "outputs": [],
   "source": [
    "features=load_data_ICM()\n",
    "d ={'item_id': features['row'],'feature_id':features['col'],'value':features['data']}\n",
    "features=pd.DataFrame(data=d)\n",
    "itemList=list(d['item_id'])"
   ]
  },
  {
   "cell_type": "code",
   "execution_count": 10,
   "metadata": {
    "id": "hJs6hZ8obiJd"
   },
   "outputs": [],
   "source": [
    "featureList=list(d['feature_id'])"
   ]
  },
  {
   "cell_type": "code",
   "execution_count": 11,
   "metadata": {
    "id": "kR-oPdRtbiJd"
   },
   "outputs": [],
   "source": [
    "valueList=list(d['value'])\n",
    "ICM = sp.coo_matrix((valueList,(itemList,featureList)))\n",
    "ICM = ICM.tocsr()"
   ]
  },
  {
   "cell_type": "code",
   "execution_count": 12,
   "metadata": {
    "id": "_PXL-kG4biJd",
    "outputId": "163614e6-32e7-451c-b1b2-0de16719dea1"
   },
   "outputs": [
    {
     "data": {
      "text/plain": [
       "<25975x20000 sparse matrix of type '<class 'numpy.float64'>'\n",
       "\twith 490691 stored elements in Compressed Sparse Row format>"
      ]
     },
     "execution_count": 12,
     "metadata": {},
     "output_type": "execute_result"
    }
   ],
   "source": [
    "ICM"
   ]
  },
  {
   "cell_type": "code",
   "execution_count": 13,
   "metadata": {},
   "outputs": [],
   "source": [
    "num_users=URM.shape[0]"
   ]
  },
  {
   "cell_type": "code",
   "execution_count": 14,
   "metadata": {},
   "outputs": [],
   "source": [
    "num_items=URM.shape[1]"
   ]
  },
  {
   "cell_type": "code",
   "execution_count": 15,
   "metadata": {},
   "outputs": [
    {
     "data": {
      "text/plain": [
       "(7947, 25975)"
      ]
     },
     "execution_count": 15,
     "metadata": {},
     "output_type": "execute_result"
    }
   ],
   "source": [
    "num_users,num_items"
   ]
  },
  {
   "cell_type": "markdown",
   "metadata": {
    "id": "GLb4ij1thWhs"
   },
   "source": [
    "**Dataset splitting into train,validation and test**\n",
    "\n",
    "This is the last part before creating the recommender. However, this step is super important, as it is the base for the training, parameters optimization, and evaluation of the recommender(s).\n",
    "\n",
    "In here we read the ratings (which we loaded and preprocessed before) and create the train, validation, and test User-Rating Matrices (URM). It's important that these are disjoint to avoid information leakage from the train into the validation/test set, in our case, we are safe to use the train_test_split function from scikit-learn as the dataset only contains one datapoint for every (user,item) pair. On another topic, we first create the test set and then we create the validation by splitting again the train set.\n",
    "\n",
    "train_test_split takes an array (or several arrays) and divides it into train and test according to a given size (in our case testing_percentage and validation_percentage, which need to be a float between 0 and 1).\n",
    "\n",
    "After we have our different splits, we create the sparse URMs by using the csr_matrix function from scipy.\n",
    "\n",
    "\n"
   ]
  },
  {
   "cell_type": "code",
   "execution_count": 16,
   "metadata": {},
   "outputs": [],
   "source": [
    "from Base.Evaluation.Evaluator import EvaluatorHoldout\n",
    "from Notebooks_utils.data_splitter import train_test_holdout\n",
    "\n",
    "urm_train_validation, urm_test = train_test_holdout(URM, train_perc = 0.85)\n",
    "urm_train, urm_validation = train_test_holdout(urm_train_validation, train_perc = 0.85)\n",
    "\n",
    "evaluator_validation = EvaluatorHoldout(urm_validation, cutoff_list=[10])\n",
    "evaluator_test = EvaluatorHoldout(urm_test, cutoff_list=[10])"
   ]
  },
  {
   "cell_type": "code",
   "execution_count": 17,
   "metadata": {},
   "outputs": [],
   "source": [
    "#Save Data\n",
    "dataset = Dataset(\"prova\", {\"urm_train\" : urm_train_validation}, {\"urm_test\" : urm_test}, {\"icm\" : ICM}) \n",
    "dataset.save_data(\"Salvataggi/\")"
   ]
  },
  {
   "cell_type": "code",
   "execution_count": 18,
   "metadata": {},
   "outputs": [],
   "source": [
    "#Load\n",
    "loaded_dataset = Dataset(None, None, None, None)\n",
    "loaded_dataset.load_data(\"Salvataggi/\")\n",
    "\n",
    "\n",
    "urm_train_validation_new = (loaded_dataset.get_urm_train())[\"urm_train\"]\n",
    "urm_test_new = loaded_dataset.get_urm_test()[\"urm_test\"]\n",
    "ICM_new = loaded_dataset.get_icm()[\"icm\"]"
   ]
  },
  {
   "cell_type": "code",
   "execution_count": 19,
   "metadata": {},
   "outputs": [],
   "source": [
    "from skopt.space import Real, Integer, Categorical\n",
    "\n",
    "hyperparameters_range_dictionary = {}\n",
    "hyperparameters_range_dictionary[\"knn\"] = Integer(5, 1000)\n",
    "hyperparameters_range_dictionary[\"shrink\"] = Integer(0, 1000)\n",
    "hyperparameters_range_dictionary[\"similarity\"] = Categorical([\"cosine\"])"
   ]
  },
  {
   "cell_type": "code",
   "execution_count": 20,
   "metadata": {
    "scrolled": true
   },
   "outputs": [],
   "source": [
    "from ParameterTuning.SearchBayesianSkopt import SearchBayesianSkopt\n",
    "\n",
    "recommender_class = UserBasedCollaborativeFiltering\n",
    "\n",
    "parameterSearch = SearchBayesianSkopt(recommender_class,\n",
    "                                 evaluator_validation=evaluator_validation,\n",
    "                                 evaluator_test=evaluator_test)"
   ]
  },
  {
   "cell_type": "code",
   "execution_count": 21,
   "metadata": {},
   "outputs": [],
   "source": [
    "from ParameterTuning.SearchAbstractClass import SearchInputRecommenderArgs\n",
    "  \n",
    "recommender_input_args = SearchInputRecommenderArgs(\n",
    "    CONSTRUCTOR_POSITIONAL_ARGS = [urm_train],     # For a CBF model simply put [URM_train, ICM_train]\n",
    "    CONSTRUCTOR_KEYWORD_ARGS = {},\n",
    "    FIT_POSITIONAL_ARGS = [],\n",
    "    FIT_KEYWORD_ARGS = {}\n",
    ")"
   ]
  },
  {
   "cell_type": "code",
   "execution_count": 22,
   "metadata": {},
   "outputs": [],
   "source": [
    "recommender_input_args_last_test = SearchInputRecommenderArgs(\n",
    "    CONSTRUCTOR_POSITIONAL_ARGS = [urm_train_validation],     # For a CBF model simply put [URM_train_validation, ICM_train]\n",
    "    CONSTRUCTOR_KEYWORD_ARGS = {},\n",
    "    FIT_POSITIONAL_ARGS = [],\n",
    "    FIT_KEYWORD_ARGS = {}\n",
    ")"
   ]
  },
  {
   "cell_type": "code",
   "execution_count": 23,
   "metadata": {},
   "outputs": [],
   "source": [
    "import os\n",
    "\n",
    "output_folder_path = \"result_experiments/\"\n",
    "\n",
    "# If directory does not exist, create\n",
    "if not os.path.exists(output_folder_path):\n",
    "    os.makedirs(output_folder_path)\n",
    "    \n",
    "n_cases = 5\n",
    "n_random_starts = int(n_cases*0.3)\n",
    "metric_to_optimize = \"MAP\""
   ]
  },
  {
   "cell_type": "code",
   "execution_count": 24,
   "metadata": {
    "scrolled": true
   },
   "outputs": [
    {
     "name": "stdout",
     "output_type": "stream",
     "text": [
      "Iteration No: 1 started. Evaluating function at random point.\n",
      "SearchBayesianSkopt: Testing config: {'knn': 491, 'shrink': 845, 'similarity': 'cosine'}\n",
      "Similarity column 25975 ( 100 % ), 2400.81 column/sec, elapsed time 0.18 min\n",
      "EvaluatorHoldout: Processed 4612 ( 100.00% ) in 2.64 sec. Users per second: 1748\n",
      "SearchBayesianSkopt: New best config found. Config 0: {'knn': 491, 'shrink': 845, 'similarity': 'cosine'} - results: ROC_AUC: 0.1121837, PRECISION: 0.0215958, PRECISION_RECALL_MIN_DEN: 0.0849228, RECALL: 0.0834026, MAP: 0.0389834, MRR: 0.0806357, NDCG: 0.0591669, F1: 0.0343081, HIT_RATE: 0.2159584, ARHR: 0.0888548, NOVELTY: 0.0047672, AVERAGE_POPULARITY: 0.1286901, DIVERSITY_MEAN_INTER_LIST: 0.9722158, DIVERSITY_HERFINDAHL: 0.9972005, COVERAGE_ITEM: 0.3742060, COVERAGE_ITEM_CORRECT: 0.0192878, COVERAGE_USER: 0.5803448, COVERAGE_USER_CORRECT: 0.1020511, DIVERSITY_GINI: 0.1094704, SHANNON_ENTROPY: 10.8147666, \n",
      "\n",
      "EvaluatorHoldout: Processed 5019 ( 100.00% ) in 2.78 sec. Users per second: 1803\n",
      "SearchBayesianSkopt: Best config evaluated with evaluator_test. Config: {'knn': 491, 'shrink': 845, 'similarity': 'cosine'} - results:\n",
      "CUTOFF: 10 - ROC_AUC: 0.1177254, PRECISION: 0.0233313, PRECISION_RECALL_MIN_DEN: 0.0875415, RECALL: 0.0854378, MAP: 0.0407662, MRR: 0.0835470, NDCG: 0.0612086, F1: 0.0366534, HIT_RATE: 0.2333134, ARHR: 0.0929247, NOVELTY: 0.0047787, AVERAGE_POPULARITY: 0.1260633, DIVERSITY_MEAN_INTER_LIST: 0.9729947, DIVERSITY_HERFINDAHL: 0.9972801, COVERAGE_ITEM: 0.3894129, COVERAGE_ITEM_CORRECT: 0.0220212, COVERAGE_USER: 0.6315591, COVERAGE_USER_CORRECT: 0.1175286, DIVERSITY_GINI: 0.1112507, SHANNON_ENTROPY: 10.8420243, \n",
      "\n",
      "\n",
      "DataIO: Json dumps supports only 'str' as dictionary keys. Transforming keys to string, note that this will alter the mapper content.\n",
      "Iteration No: 1 ended. Evaluation done at random point.\n",
      "Time taken: 18.6714\n",
      "Function value obtained: -0.0390\n",
      "Current minimum: -0.0390\n",
      "Iteration No: 2 started. Searching for the next optimal point.\n",
      "SearchBayesianSkopt: Testing config: {'knn': 1000, 'shrink': 0, 'similarity': 'cosine'}\n",
      "Similarity column 25975 ( 100 % ), 3037.23 column/sec, elapsed time 0.14 min\n",
      "EvaluatorHoldout: Processed 4612 ( 100.00% ) in 2.64 sec. Users per second: 1749\n",
      "SearchBayesianSkopt: Config 1 is suboptimal. Config: {'knn': 1000, 'shrink': 0, 'similarity': 'cosine'} - results: ROC_AUC: 0.0561524, PRECISION: 0.0107329, PRECISION_RECALL_MIN_DEN: 0.0469509, RECALL: 0.0464379, MAP: 0.0217210, MRR: 0.0407569, NDCG: 0.0321258, F1: 0.0174359, HIT_RATE: 0.1073287, ARHR: 0.0443228, NOVELTY: 0.0058793, AVERAGE_POPULARITY: 0.0140672, DIVERSITY_MEAN_INTER_LIST: 0.9973361, DIVERSITY_HERFINDAHL: 0.9997120, COVERAGE_ITEM: 0.5216169, COVERAGE_ITEM_CORRECT: 0.0169779, COVERAGE_USER: 0.5803448, COVERAGE_USER_CORRECT: 0.0518435, DIVERSITY_GINI: 0.2646423, SHANNON_ENTROPY: 12.9810751, \n",
      "\n",
      "Iteration No: 2 ended. Search finished for the next optimal point.\n",
      "Time taken: 14.4216\n",
      "Function value obtained: -0.0217\n",
      "Current minimum: -0.0390\n",
      "Iteration No: 3 started. Searching for the next optimal point.\n",
      "SearchBayesianSkopt: Testing config: {'knn': 5, 'shrink': 1000, 'similarity': 'cosine'}\n",
      "Similarity column 25975 ( 100 % ), 3697.49 column/sec, elapsed time 0.12 min\n",
      "EvaluatorHoldout: Processed 4612 ( 100.00% ) in 2.14 sec. Users per second: 2151\n",
      "SearchBayesianSkopt: Config 2 is suboptimal. Config: {'knn': 5, 'shrink': 1000, 'similarity': 'cosine'} - results: ROC_AUC: 0.0949705, PRECISION: 0.0171509, PRECISION_RECALL_MIN_DEN: 0.0675964, RECALL: 0.0664805, MAP: 0.0326398, MRR: 0.0698315, NDCG: 0.0489832, F1: 0.0272673, HIT_RATE: 0.1715091, ARHR: 0.0751710, NOVELTY: 0.0049391, AVERAGE_POPULARITY: 0.0800395, DIVERSITY_MEAN_INTER_LIST: 0.9631927, DIVERSITY_HERFINDAHL: 0.9962984, COVERAGE_ITEM: 0.3487199, COVERAGE_ITEM_CORRECT: 0.0179788, COVERAGE_USER: 0.5803448, COVERAGE_USER_CORRECT: 0.0843085, DIVERSITY_GINI: 0.1054687, SHANNON_ENTROPY: 10.7721818, \n",
      "\n",
      "Iteration No: 3 ended. Search finished for the next optimal point.\n",
      "Time taken: 9.5090\n",
      "Function value obtained: -0.0326\n",
      "Current minimum: -0.0390\n",
      "Iteration No: 4 started. Searching for the next optimal point.\n",
      "SearchBayesianSkopt: Testing config: {'knn': 1000, 'shrink': 1000, 'similarity': 'cosine'}\n",
      "Similarity column 25975 ( 100 % ), 2910.18 column/sec, elapsed time 0.15 min\n",
      "EvaluatorHoldout: Processed 4612 ( 100.00% ) in 2.83 sec. Users per second: 1631\n",
      "SearchBayesianSkopt: New best config found. Config 3: {'knn': 1000, 'shrink': 1000, 'similarity': 'cosine'} - results: ROC_AUC: 0.1117109, PRECISION: 0.0218560, PRECISION_RECALL_MIN_DEN: 0.0866312, RECALL: 0.0850948, MAP: 0.0391507, MRR: 0.0811639, NDCG: 0.0597374, F1: 0.0347792, HIT_RATE: 0.2185603, ARHR: 0.0889820, NOVELTY: 0.0047379, AVERAGE_POPULARITY: 0.1320177, DIVERSITY_MEAN_INTER_LIST: 0.9700178, DIVERSITY_HERFINDAHL: 0.9969807, COVERAGE_ITEM: 0.3633879, COVERAGE_ITEM_CORRECT: 0.0189028, COVERAGE_USER: 0.5803448, COVERAGE_USER_CORRECT: 0.1036869, DIVERSITY_GINI: 0.1027786, SHANNON_ENTROPY: 10.6809684, \n",
      "\n",
      "EvaluatorHoldout: Processed 5019 ( 100.00% ) in 2.95 sec. Users per second: 1702\n",
      "SearchBayesianSkopt: Best config evaluated with evaluator_test. Config: {'knn': 1000, 'shrink': 1000, 'similarity': 'cosine'} - results:\n",
      "CUTOFF: 10 - ROC_AUC: 0.1183734, PRECISION: 0.0228731, PRECISION_RECALL_MIN_DEN: 0.0873395, RECALL: 0.0854801, MAP: 0.0414099, MRR: 0.0843063, NDCG: 0.0616959, F1: 0.0360893, HIT_RATE: 0.2287308, ARHR: 0.0934402, NOVELTY: 0.0047500, AVERAGE_POPULARITY: 0.1295169, DIVERSITY_MEAN_INTER_LIST: 0.9709011, DIVERSITY_HERFINDAHL: 0.9970708, COVERAGE_ITEM: 0.3799423, COVERAGE_ITEM_CORRECT: 0.0207892, COVERAGE_USER: 0.6315591, COVERAGE_USER_CORRECT: 0.1176545, DIVERSITY_GINI: 0.1049976, SHANNON_ENTROPY: 10.7140641, \n",
      "\n",
      "\n",
      "Iteration No: 4 ended. Search finished for the next optimal point.\n",
      "Time taken: 18.1906\n",
      "Function value obtained: -0.0392\n",
      "Current minimum: -0.0392\n",
      "Iteration No: 5 started. Searching for the next optimal point.\n",
      "SearchBayesianSkopt: Testing config: {'knn': 993, 'shrink': 997, 'similarity': 'cosine'}\n",
      "Similarity column 25975 ( 100 % ), 2914.90 column/sec, elapsed time 0.15 min\n",
      "EvaluatorHoldout: Processed 4612 ( 100.00% ) in 2.67 sec. Users per second: 1730\n",
      "SearchBayesianSkopt: Config 4 is suboptimal. Config: {'knn': 993, 'shrink': 997, 'similarity': 'cosine'} - results: ROC_AUC: 0.1116722, PRECISION: 0.0217693, PRECISION_RECALL_MIN_DEN: 0.0861735, RECALL: 0.0846526, MAP: 0.0389480, MRR: 0.0808128, NDCG: 0.0594574, F1: 0.0346325, HIT_RATE: 0.2176930, ARHR: 0.0886372, NOVELTY: 0.0047381, AVERAGE_POPULARITY: 0.1319475, DIVERSITY_MEAN_INTER_LIST: 0.9700606, DIVERSITY_HERFINDAHL: 0.9969850, COVERAGE_ITEM: 0.3638114, COVERAGE_ITEM_CORRECT: 0.0187873, COVERAGE_USER: 0.5803448, COVERAGE_USER_CORRECT: 0.1033094, DIVERSITY_GINI: 0.1028380, SHANNON_ENTROPY: 10.6821633, \n",
      "\n",
      "Iteration No: 5 ended. Search finished for the next optimal point.\n",
      "Time taken: 14.8105\n",
      "Function value obtained: -0.0389\n",
      "Current minimum: -0.0392\n",
      "SearchBayesianSkopt: Search complete. Best config is 3: {'knn': 1000, 'shrink': 1000, 'similarity': 'cosine'}\n",
      "\n",
      "SearchBayesianSkopt: Evaluation with constructor data for final test. Using best config: {'knn': 1000, 'shrink': 1000, 'similarity': 'cosine'}\n",
      "Similarity column 25975 ( 100 % ), 2897.03 column/sec, elapsed time 0.15 min\n",
      "EvaluatorHoldout: Processed 5019 ( 100.00% ) in 3.12 sec. Users per second: 1606\n",
      "SearchBayesianSkopt: Best config evaluated with evaluator_test with constructor data for final test. Config: {'knn': 1000, 'shrink': 1000, 'similarity': 'cosine'} - results:\n",
      "CUTOFF: 10 - ROC_AUC: 0.1355866, PRECISION: 0.0265989, PRECISION_RECALL_MIN_DEN: 0.1032335, RECALL: 0.1010640, MAP: 0.0500843, MRR: 0.0986550, NDCG: 0.0733627, F1: 0.0421139, HIT_RATE: 0.2659892, ARHR: 0.1106209, NOVELTY: 0.0046711, AVERAGE_POPULARITY: 0.1443940, DIVERSITY_MEAN_INTER_LIST: 0.9660705, DIVERSITY_HERFINDAHL: 0.9965878, COVERAGE_ITEM: 0.3507988, COVERAGE_ITEM_CORRECT: 0.0244851, COVERAGE_USER: 0.6315591, COVERAGE_USER_CORRECT: 0.1327545, DIVERSITY_GINI: 0.0890184, SHANNON_ENTROPY: 10.4346455, \n",
      "\n",
      "\n",
      "SearchBayesianSkopt: Saving model in result_experiments/UserBasedCFRecommender\n",
      "\n"
     ]
    },
    {
     "name": "stdout",
     "output_type": "stream",
     "text": [
      "UserBasedCFRecommender: Saving model in file 'result_experiments/UserBasedCFRecommender_best_model_last'\n",
      "UserBasedCFRecommender: Saving complete\n"
     ]
    }
   ],
   "source": [
    "parameterSearch.search(recommender_input_args,\n",
    "                       recommender_input_args_last_test = recommender_input_args_last_test,\n",
    "                       parameter_search_space = hyperparameters_range_dictionary,\n",
    "                       n_cases = n_cases,\n",
    "                       n_random_starts = n_random_starts,\n",
    "                       save_model = \"last\",\n",
    "                       output_folder_path = output_folder_path,\n",
    "                       output_file_name_root = recommender_class.RECOMMENDER_NAME,\n",
    "                       metric_to_optimize = metric_to_optimize,\n",
    "                      )"
   ]
  },
  {
   "cell_type": "code",
   "execution_count": 25,
   "metadata": {},
   "outputs": [
    {
     "data": {
      "text/plain": [
       "{'knn': 1000, 'shrink': 1000, 'similarity': 'cosine'}"
      ]
     },
     "execution_count": 25,
     "metadata": {},
     "output_type": "execute_result"
    }
   ],
   "source": [
    "data_loader = DataIO(folder_path = output_folder_path)\n",
    "search_metadata = data_loader.load_data(recommender_class.RECOMMENDER_NAME + \"_metadata.zip\")\n",
    "best_parameters = search_metadata[\"hyperparameters_best\"]\n",
    "best_parameters"
   ]
  },
  {
   "cell_type": "markdown",
   "metadata": {},
   "source": [
    "**Evaluation Metrics**"
   ]
  },
  {
   "cell_type": "code",
   "execution_count": 26,
   "metadata": {},
   "outputs": [],
   "source": [
    "def recall(recommendations: np.array, relevant_items: np.array) -> float:\n",
    "    is_relevant = np.in1d(recommendations, relevant_items, assume_unique=True)\n",
    "    \n",
    "    recall_score = np.sum(is_relevant) / relevant_items.shape[0]\n",
    "    \n",
    "    return recall_score\n",
    "    \n",
    "    \n",
    "def precision(recommendations: np.array, relevant_items: np.array) -> float:\n",
    "    is_relevant = np.in1d(recommendations, relevant_items, assume_unique=True)\n",
    "    \n",
    "    precision_score = np.sum(is_relevant) / recommendations.shape[0]\n",
    "\n",
    "    return precision_score\n",
    "\n",
    "def mean_average_precision(recommendations: np.array, relevant_items: np.array) -> float:\n",
    "    is_relevant = np.in1d(recommendations, relevant_items, assume_unique=True)\n",
    "    \n",
    "    precision_at_k = is_relevant * np.cumsum(is_relevant, dtype=np.float32) / (1 + np.arange(is_relevant.shape[0]))\n",
    "\n",
    "    map_score = np.sum(precision_at_k) / np.min([relevant_items.shape[0], is_relevant.shape[0]])\n",
    "\n",
    "    return map_score"
   ]
  },
  {
   "cell_type": "markdown",
   "metadata": {},
   "source": [
    "**Evaluation Procedure**\n",
    "\n",
    "The evaluation procedure returns the averaged accuracy scores (in terms of precision, recall and MAP) for all users (that have at least 1 rating in the test set). It also calculates the number of evaluated and skipped users. It receives a recommender instance, and the train and test URMs."
   ]
  },
  {
   "cell_type": "code",
   "execution_count": 27,
   "metadata": {},
   "outputs": [],
   "source": [
    "def evaluator(recommender: object, urm_train: sp.csr_matrix, urm_test: sp.csr_matrix):\n",
    "    recommendation_length = 10\n",
    "    accum_precision = 0\n",
    "    accum_recall = 0\n",
    "    accum_map = 0\n",
    "    \n",
    "    num_users = urm_train.shape[0]\n",
    "    \n",
    "    num_users_evaluated = 0\n",
    "    num_users_skipped = 0\n",
    "    \n",
    "    for user_id in range(num_users):\n",
    "        user_profile_start = urm_test.indptr[user_id]\n",
    "        user_profile_end = urm_test.indptr[user_id+1]\n",
    "\n",
    "        relevant_items = urm_test.indices[user_profile_start:user_profile_end]\n",
    "\n",
    "        if relevant_items.size == 0:\n",
    "            num_users_skipped += 1\n",
    "            continue\n",
    "            \n",
    "#         recommendations = recommender.recommend(user_id_array=user_id,\n",
    "#                                                cutoff=recommendation_length,\n",
    "#                                                remove_seen_flag=True\n",
    "#                                                )\n",
    "\n",
    "        expected_ratings = recommender.get_expected_ratings(user_id)\n",
    "        recommended_items = np.flip(np.argsort(expected_ratings), 0)\n",
    "\n",
    "        unseen_items_mask = np.in1d(recommended_items,urm_train[user_id].indices,\n",
    "                                        assume_unique=True, invert=True)\n",
    "\n",
    "        recommendations = recommended_items[unseen_items_mask]\n",
    "\n",
    "\n",
    "        accum_precision += precision(recommendations, relevant_items)\n",
    "        accum_recall += recall(recommendations, relevant_items)\n",
    "        accum_map += mean_average_precision(recommendations, relevant_items)\n",
    "\n",
    "        num_users_evaluated += 1\n",
    "\n",
    "    \n",
    "    accum_precision /= max(num_users_evaluated, 1)\n",
    "    accum_recall /= max(num_users_evaluated, 1)\n",
    "    accum_map /=  max(num_users_evaluated, 1)\n",
    "    \n",
    "    return accum_precision, accum_recall, accum_map, num_users_evaluated, num_users_skipped"
   ]
  },
  {
   "cell_type": "code",
   "execution_count": 29,
   "metadata": {},
   "outputs": [],
   "source": [
    "#Params for the recommenders\n",
    "cbf_param = {\n",
    "    \"knn\": 140,\n",
    "    \"shrink\": 0\n",
    "}\n",
    "\n",
    "user_cf_param = {\n",
    "    \"knn\": 1000,\n",
    "    \"shrink\": 1000\n",
    "}\n",
    "\n",
    "item_cf_param = {\n",
    "    \"knn\": 1000,\n",
    "    \"shrink\": 1000\n",
    "}\n",
    "\n",
    "slim_bpr_param = {\n",
    "    \"learning_rate\" : 0.05,\n",
    "    \"epochs\": 10,\n",
    "    \"nnz\" : 1,\n",
    "    \"knn\": 200\n",
    "}\n",
    "\n",
    "als_param = {\n",
    "    \"n_factors\": 300,\n",
    "    \"regularization\": 0.15,\n",
    "    \"iterations\": 30\n",
    "}\n"
   ]
  },
  {
   "cell_type": "code",
   "execution_count": null,
   "metadata": {},
   "outputs": [],
   "source": [
    "userCF = UserBasedCollaborativeFiltering(knn=user_cf_param[\"knn\"], shrink=user_cf_param[\"shrink\"])"
   ]
  },
  {
   "cell_type": "code",
   "execution_count": null,
   "metadata": {},
   "outputs": [],
   "source": [
    "userCF.fit(urm_train)"
   ]
  },
  {
   "cell_type": "code",
   "execution_count": null,
   "metadata": {},
   "outputs": [],
   "source": [
    "accum_precision, accum_recall, accum_map, num_user_evaluated, num_users_skipped = evaluator(userCF, \n",
    "                                                                                            urm_train_validation, \n",
    "                                                                                            urm_test)\n",
    "accum_precision, accum_recall, accum_map, num_user_evaluated, num_users_skipped"
   ]
  },
  {
   "cell_type": "code",
   "execution_count": 30,
   "metadata": {},
   "outputs": [],
   "source": [
    "itemCF = ItemBasedCollaborativeFiltering(urm_train)"
   ]
  },
  {
   "cell_type": "code",
   "execution_count": 31,
   "metadata": {},
   "outputs": [
    {
     "name": "stdout",
     "output_type": "stream",
     "text": [
      "Similarity column 25975 ( 100 % ), 2167.68 column/sec, elapsed time 0.20 min\n"
     ]
    }
   ],
   "source": [
    "itemCF.fit(knn=item_cf_param[\"knn\"], shrink=item_cf_param[\"shrink\"], similarity=\"cosine\")"
   ]
  },
  {
   "cell_type": "code",
   "execution_count": 33,
   "metadata": {},
   "outputs": [
    {
     "data": {
      "text/plain": [
       "(0.00013142175847892368, 1.0, 0.049894952584396975, 5019, 2928)"
      ]
     },
     "execution_count": 33,
     "metadata": {},
     "output_type": "execute_result"
    }
   ],
   "source": [
    "accum_precision, accum_recall, accum_map, num_user_evaluated, num_users_skipped = evaluator(itemCF, \n",
    "                                                                                            urm_train_validation_new, \n",
    "                                                                                            urm_test_new)\n",
    "accum_precision, accum_recall, accum_map, num_user_evaluated, num_users_skipped"
   ]
  },
  {
   "cell_type": "code",
   "execution_count": null,
   "metadata": {},
   "outputs": [],
   "source": [
    "SlimBpr=SlimBPRRec(learning_rate=slim_bpr_param[\"learning_rate\"], epochs=slim_bpr_param[\"epochs\"], nnz=slim_bpr_param[\"nnz\"], knn=slim_bpr_param[\"knn\"])"
   ]
  },
  {
   "cell_type": "code",
   "execution_count": null,
   "metadata": {},
   "outputs": [],
   "source": [
    "SlimBpr.fit(urm_train)"
   ]
  },
  {
   "cell_type": "code",
   "execution_count": null,
   "metadata": {},
   "outputs": [],
   "source": [
    "accum_precision, accum_recall, accum_map, num_user_evaluated, num_users_skipped = evaluator(SlimBpr, \n",
    "                                                                                            urm_train_validation, \n",
    "                                                                                            urm_test)\n",
    "accum_precision, accum_recall, accum_map, num_user_evaluated, num_users_skipped"
   ]
  },
  {
   "cell_type": "code",
   "execution_count": null,
   "metadata": {},
   "outputs": [],
   "source": [
    "slim_elastic = SLIMElasticNetRecommender()"
   ]
  },
  {
   "cell_type": "code",
   "execution_count": null,
   "metadata": {},
   "outputs": [],
   "source": [
    "slim_elastic.fit(urm_train)"
   ]
  },
  {
   "cell_type": "code",
   "execution_count": null,
   "metadata": {},
   "outputs": [],
   "source": [
    "accum_precision, accum_recall, accum_map, num_user_evaluated, num_users_skipped = evaluator(slim_elastic, \n",
    "                                                                                            urm_train_validation, \n",
    "                                                                                            urm_test)\n",
    "accum_precision, accum_recall, accum_map, num_user_evaluated, num_users_skipped"
   ]
  },
  {
   "cell_type": "code",
   "execution_count": null,
   "metadata": {},
   "outputs": [],
   "source": [
    "cbf = ContentBasedFiltering(knn=cbf_param[\"knn\"],shrink=cbf_param[\"shrink\"])"
   ]
  },
  {
   "cell_type": "code",
   "execution_count": null,
   "metadata": {},
   "outputs": [],
   "source": [
    "cbf.fit(urm_train,ICM)"
   ]
  },
  {
   "cell_type": "code",
   "execution_count": null,
   "metadata": {},
   "outputs": [],
   "source": [
    "accum_precision, accum_recall, accum_map, num_user_evaluated, num_users_skipped = evaluator(cbf, \n",
    "                                                                                            urm_train_validation, \n",
    "                                                                                            urm_test)\n",
    "accum_precision, accum_recall, accum_map, num_user_evaluated, num_users_skipped"
   ]
  },
  {
   "cell_type": "code",
   "execution_count": null,
   "metadata": {},
   "outputs": [],
   "source": [
    "ALS = AlternatingLeastSquare(n_factors=als_param[\"n_factors\"], regularization=als_param[\"regularization\"],iterations=als_param[\"iterations\"])"
   ]
  },
  {
   "cell_type": "code",
   "execution_count": null,
   "metadata": {},
   "outputs": [],
   "source": [
    "ALS.fit(urm_train)"
   ]
  },
  {
   "cell_type": "code",
   "execution_count": null,
   "metadata": {},
   "outputs": [],
   "source": [
    "accum_precision, accum_recall, accum_map, num_user_evaluated, num_users_skipped = evaluator(ALS, \n",
    "                                                                                            urm_train_validation, \n",
    "                                                                                            urm_test)\n",
    "accum_precision, accum_recall, accum_map, num_user_evaluated, num_users_skipped"
   ]
  },
  {
   "cell_type": "markdown",
   "metadata": {},
   "source": [
    "**Hybrid**"
   ]
  },
  {
   "cell_type": "code",
   "execution_count": null,
   "metadata": {},
   "outputs": [],
   "source": [
    "class HybridRecommender(object):\n",
    "    def __init__(self, URM, ICM):\n",
    "        \n",
    "        self.urm = URM\n",
    "        \n",
    "        self.ICM = ICM\n",
    "\n",
    "#         self.userCF = UserBasedCollaborativeFiltering(URM.copy())\n",
    "\n",
    "        self.itemCF = ItemBasedCollaborativeFiltering(URM.copy())\n",
    "        \n",
    "#         self.cbf = ContentBasedFiltering(URM.copy(), ICM.copy())\n",
    "        \n",
    "#         self.slim_random = SLIM_BPR_Python(URM.copy())\n",
    "        \n",
    "#         self.slim_elastic = SLIMElasticNetRecommender()\n",
    "        \n",
    "#         self.ALS = AlternatingLeastSquare(URM.copy())\n",
    "    \n",
    "\n",
    "    def fit(self, w, user_cf_param, item_cf_param, cbf_param, slim_param, als_param,):\n",
    "        self.URM = URM\n",
    "\n",
    "        ### SUB-FITTING ###\n",
    "        print(\"Fitting user cf...\")\n",
    "#         self.userCF.fit(knn=user_cf_param[\"knn\"], shrink=user_cf_param[\"shrink\"])\n",
    "\n",
    "        print(\"Fitting item cf...\")\n",
    "        self.itemCF.fit(knn=item_cf_param[\"knn\"], shrink=item_cf_param[\"shrink\"], similarity=\"cosine\")\n",
    "        \n",
    "        print(\"Fitting cbf...\")\n",
    "#         self.cbf.fit(knn=cbf_param[\"knn\"],shrink=cbf_param[\"shrink\"])\n",
    "        \n",
    "        print(\"Fitting slim bpr...\")\n",
    "#         self.slim_random.fit(topK=slim_param[\"topK\"],epochs=slim_param[\"epochs\"])\n",
    "        \n",
    "        print(\"Fitting slim elastic...\")\n",
    "#         self.slim_elastic.fit(URM.copy())\n",
    "        \n",
    "        print(\"Fitting ALS...\")\n",
    "#         self.ALS.fit(n_factors=als_param[\"n_factors\"], regularization=als_param[\"regularization\"],iterations=als_param[\"iterations\"])\n",
    "\n",
    "\n",
    "    def recommend(self,user_id,urm_train: sp.csr_matrix,at=10):\n",
    "     \n",
    "        expected_ratings = self.get_expected_ratings(user_id)\n",
    "        \n",
    "        recommended_items = np.flip(np.argsort(expected_ratings), 0)\n",
    "\n",
    "        # REMOVING SEEN\n",
    "        unseen_items_mask = np.in1d(recommended_items,urm_train[user_id].indices,\n",
    "                                    assume_unique=True, invert=True)\n",
    "        recommended_items = recommended_items[unseen_items_mask]\n",
    "\n",
    "        return recommended_items[0:at]\n",
    "    \n",
    "    def get_expected_ratings(self, user_id) :\n",
    "#         self.userCF_ratings = self.userCF.get_expected_ratings(user_id)\n",
    "        self.itemCF_ratings = self.itemCF.get_expected_ratings(user_id)\n",
    "#         self.cbf_ratings = self.cbf.get_expected_ratings(user_id)\n",
    "#         self.slim_ratings = self.slim_random.get_expected_ratings(user_id)\n",
    "#         self.slim_elastic_ratings = self.slim_elastic.get_expected_ratings(user_id)\n",
    "#         self.ALS_ratings = self.ALS.get_expected_ratings(user_id)\n",
    "\n",
    "        self.hybrid_ratings = None \n",
    "\n",
    "#         self.hybrid_ratings = self.userCF_ratings * w[\"user_cf\"]\n",
    "        self.hybrid_ratings = self.itemCF_ratings * w[\"item_cf\"]\n",
    "#         self.hybrid_ratings += self.cbf_ratings * w_right[\"cbf\"]\n",
    "#         self.hybrid_ratings += self.slim_ratings * w[\"slim\"]\n",
    "#         self.hybrid_ratings += self.ALS_ratings * w[\"als\"]\n",
    "#         self.hybrid_ratings += self.slim_elastic_ratings * w[\"elastic\"]\n",
    "\n",
    "        return self.hybrid_ratings\n",
    "\n",
    "w = {\n",
    "    \"user_cf\": 0,\n",
    "    \"item_cf\": 1,\n",
    "    \"cbf\": 0,\n",
    "    \"icm_svd\": 0,\n",
    "    \"als\": 0,\n",
    "    \"slim\": 0,\n",
    "    \"elastic\": 0\n",
    "}\n"
   ]
  },
  {
   "cell_type": "code",
   "execution_count": null,
   "metadata": {},
   "outputs": [],
   "source": [
    "recommender = HybridRecommender(urm_train, ICM)"
   ]
  },
  {
   "cell_type": "code",
   "execution_count": null,
   "metadata": {
    "scrolled": true
   },
   "outputs": [],
   "source": [
    "recommender.fit(w, user_cf_param=user_cf_param,item_cf_param=item_cf_param,cbf_param=cbf_param,slim_param=slim_bpr_param,als_param=als_param)"
   ]
  },
  {
   "cell_type": "code",
   "execution_count": null,
   "metadata": {},
   "outputs": [],
   "source": [
    "accum_precision, accum_recall, accum_map, num_user_evaluated, num_users_skipped = evaluator(recommender, \n",
    "                                                                                            urm_train_validation, \n",
    "                                                                                            urm_test)\n",
    "accum_precision, accum_recall, accum_map, num_user_evaluated, num_users_skipped"
   ]
  },
  {
   "cell_type": "markdown",
   "metadata": {
    "id": "0Vi-dduXaj46"
   },
   "source": [
    "**Submission to competition**\n",
    "\n",
    "This step serves as a similar step that you will perform when preparing a submission to the competition. Specially after you have chosen and trained your recommender.\n",
    "\n",
    "For this step the best suggestion is to select the most-performing configuration obtained in the hyperparameter tuning step and to train the recommender using both the train and validation set. Remember that in the competition you do not have access to the test set.\n",
    "\n",
    "Another consideration is that, due to easier and faster calculations, we replaced the user/item identifiers with new ones in the preprocessing step. For the competition, you are required to generate recommendations using the dataset's original identifiers. Due to this, this step also reverts back the newer identifiers with the ones originally found in the dataset.\n",
    "\n",
    "Last, this step creates a function that writes the recommendations for each user in the same file in a tabular format following this format:\n",
    "\n",
    "csv\n",
    "<user_id>,<item_id_1> <item_id_2> <item_id_3> <item_id_4> <item_id_5> <item_id_6> <item_id_7> <item_id_8> <item_id_9> <item_id_10>\n",
    "Always verify the competitions' submission file model as it might vary from the one we presented here."
   ]
  },
  {
   "cell_type": "code",
   "execution_count": null,
   "metadata": {
    "id": "EcSDk9aMtW4k"
   },
   "outputs": [],
   "source": [
    "def load_goodguys():\n",
    "  return pd.read_csv(\"./data_target_users_test.csv\")\n",
    "goodguys=load_goodguys()"
   ]
  },
  {
   "cell_type": "code",
   "execution_count": null,
   "metadata": {
    "id": "eHzsuFiqtW4k",
    "outputId": "bc36c459-1cc6-460a-b403-95482cf1508d"
   },
   "outputs": [],
   "source": [
    "goodguys"
   ]
  },
  {
   "cell_type": "code",
   "execution_count": null,
   "metadata": {
    "id": "0b3DwuXrayTA",
    "outputId": "27c6d557-b304-427c-bf2c-8fdc090efe64"
   },
   "outputs": [],
   "source": [
    "users_to_recommend = np.random.choice(goodguys.user_id,size=goodguys.size, replace=False)\n",
    "users_to_recommend"
   ]
  },
  {
   "cell_type": "code",
   "execution_count": null,
   "metadata": {
    "id": "RurxNTttbI-i"
   },
   "outputs": [],
   "source": [
    "def prepare_submission(ratings: pd.DataFrame, users_to_recommend: np.array, urm_train: sp.csr_matrix, recommender: object):\n",
    "    \n",
    "    recommendation_length = 10\n",
    "    submission = []\n",
    "    \n",
    "    for user_id in users_to_recommend :\n",
    "\n",
    "        recommendations = recommender.recommend(user_id, urm_train, recommendation_length)\n",
    "\n",
    "        \n",
    "        submission.append((user_id, [item_id for item_id in recommendations]))\n",
    "   \n",
    "    return submission"
   ]
  },
  {
   "cell_type": "code",
   "execution_count": null,
   "metadata": {
    "id": "5KYlvMDVbLxo",
    "scrolled": true
   },
   "outputs": [],
   "source": [
    "submission = prepare_submission(ratings, users_to_recommend, urm_train_validation, recommender)"
   ]
  },
  {
   "cell_type": "code",
   "execution_count": null,
   "metadata": {
    "id": "sJZEjE3CbQTp",
    "outputId": "8e2faf6b-144c-4ba3-ee1a-692290e15d3c"
   },
   "outputs": [],
   "source": [
    "submission"
   ]
  },
  {
   "cell_type": "code",
   "execution_count": null,
   "metadata": {
    "id": "6hCawP60bVm3"
   },
   "outputs": [],
   "source": [
    "import os\n",
    "from datetime import datetime\n",
    "\n",
    "csv_fname = './submission'\n",
    "csv_fname += datetime.now().strftime('%b%d_%H-%M-%S') + '.csv'\n",
    "\n",
    "def write_submission(submissions):\n",
    "    with open(csv_fname, \"w\") as f:\n",
    "        f.write(f\"user_id,item_list\\n\")\n",
    "        for user_id, items in submissions:\n",
    "            f.write(f\"{user_id},{' '.join([str(item) for item in items])}\\n\")\n"
   ]
  },
  {
   "cell_type": "code",
   "execution_count": null,
   "metadata": {
    "id": "ov91al-UbXAQ"
   },
   "outputs": [],
   "source": [
    "write_submission(submission)"
   ]
  },
  {
   "cell_type": "code",
   "execution_count": null,
   "metadata": {},
   "outputs": [],
   "source": []
  }
 ],
 "metadata": {
  "colab": {
   "collapsed_sections": [],
   "name": "RecommenderChallenge.ipynb",
   "provenance": []
  },
  "kernelspec": {
   "display_name": "Python 3",
   "language": "python",
   "name": "python3"
  },
  "language_info": {
   "codemirror_mode": {
    "name": "ipython",
    "version": 3
   },
   "file_extension": ".py",
   "mimetype": "text/x-python",
   "name": "python",
   "nbconvert_exporter": "python",
   "pygments_lexer": "ipython3",
   "version": "3.6.10"
  }
 },
 "nbformat": 4,
 "nbformat_minor": 1
}
