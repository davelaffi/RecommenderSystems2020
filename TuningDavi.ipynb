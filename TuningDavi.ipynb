{
 "cells": [
  {
   "cell_type": "code",
   "execution_count": 1,
   "metadata": {
    "id": "ybQSYdHvb_CB"
   },
   "outputs": [],
   "source": [
    "import numpy as np\n",
    "import pandas as pd\n",
    "import scipy.sparse as sp\n",
    "from tqdm import tqdm\n",
    "from Base.DataIO import DataIO\n",
    "\n",
    "#----Recommenders----\n",
    "from SLIM.SLIM_BPR_Python import SLIM_BPR_Python\n",
    "from SLIM.SlimElasticNet import SLIMElasticNetRecommender\n",
    "from cf.item_cf3 import ItemBasedCollaborativeFiltering\n",
    "from cf.user_cf2 import UserBasedCollaborativeFiltering\n",
    "from MF.IALSRecommender import IALSRecommender\n",
    "from cbf.cbf import ContentBasedFiltering\n",
    "from SlimBPR.SlimBPRRec import SlimBPRRec\n",
    "from SlimBPR.SlimBPR import SlimBPR\n",
    "from MF.ALS import AlternatingLeastSquare\n",
    "\n",
    "\n",
    "from Hybrid.hybridRec import HybridRecommender\n",
    "#---------------\n",
    "\n",
    "#----Model Load & Save----\n",
    "from Data_manager.Dataset import Dataset\n",
    "#-------------------------\n",
    "\n",
    "from sklearn.model_selection import train_test_split"
   ]
  },
  {
   "cell_type": "code",
   "execution_count": 2,
   "metadata": {
    "id": "FSE7ic-VbiJd"
   },
   "outputs": [],
   "source": [
    "def load_data_ICM():\n",
    "  return pd.read_csv(\"./data_ICM_title_abstract.csv\")"
   ]
  },
  {
   "cell_type": "code",
   "execution_count": 3,
   "metadata": {
    "id": "-d-NVkEZbiJd"
   },
   "outputs": [],
   "source": [
    "features=load_data_ICM()\n",
    "d ={'item_id': features['row'],'feature_id':features['col'],'value':features['data']}\n",
    "features=pd.DataFrame(data=d)\n",
    "itemList=list(d['item_id'])"
   ]
  },
  {
   "cell_type": "code",
   "execution_count": 4,
   "metadata": {
    "id": "hJs6hZ8obiJd"
   },
   "outputs": [],
   "source": [
    "featureList=list(d['feature_id'])"
   ]
  },
  {
   "cell_type": "code",
   "execution_count": 5,
   "metadata": {
    "id": "kR-oPdRtbiJd"
   },
   "outputs": [],
   "source": [
    "valueList=list(d['value'])\n",
    "ICM = sp.coo_matrix((valueList,(itemList,featureList)))\n",
    "ICM = ICM.tocsr()"
   ]
  },
  {
   "cell_type": "code",
   "execution_count": 6,
   "metadata": {
    "id": "_PXL-kG4biJd",
    "outputId": "163614e6-32e7-451c-b1b2-0de16719dea1"
   },
   "outputs": [
    {
     "data": {
      "text/plain": [
       "<25975x20000 sparse matrix of type '<class 'numpy.float64'>'\n",
       "\twith 490691 stored elements in Compressed Sparse Row format>"
      ]
     },
     "execution_count": 6,
     "metadata": {},
     "output_type": "execute_result"
    }
   ],
   "source": [
    "ICM"
   ]
  },
  {
   "cell_type": "markdown",
   "metadata": {
    "id": "GLb4ij1thWhs"
   },
   "source": [
    "**Dataset splitting into train,validation and test**\n",
    "\n",
    "This is the last part before creating the recommender. However, this step is super important, as it is the base for the training, parameters optimization, and evaluation of the recommender(s).\n",
    "\n",
    "In here we read the ratings (which we loaded and preprocessed before) and create the train, validation, and test User-Rating Matrices (URM). It's important that these are disjoint to avoid information leakage from the train into the validation/test set, in our case, we are safe to use the train_test_split function from scikit-learn as the dataset only contains one datapoint for every (user,item) pair. On another topic, we first create the test set and then we create the validation by splitting again the train set.\n",
    "\n",
    "train_test_split takes an array (or several arrays) and divides it into train and test according to a given size (in our case testing_percentage and validation_percentage, which need to be a float between 0 and 1).\n",
    "\n",
    "After we have our different splits, we create the sparse URMs by using the csr_matrix function from scipy.\n",
    "\n",
    "\n"
   ]
  },
  {
   "cell_type": "code",
   "execution_count": 7,
   "metadata": {},
   "outputs": [],
   "source": [
    "#Load\n",
    "loaded_dataset = Dataset(None, None, None, None)\n",
    "loaded_dataset.load_data(\"Salvataggi/\")\n",
    "\n",
    "\n",
    "urm_train = (loaded_dataset.get_urm_train())[\"urm_train\"]\n",
    "urm_validation = (loaded_dataset.get_urm_validation())[\"urm_validation\"]\n",
    "urm_test = loaded_dataset.get_urm_test()[\"urm_test\"]"
   ]
  },
  {
   "cell_type": "code",
   "execution_count": 8,
   "metadata": {},
   "outputs": [],
   "source": [
    "urm_train_validation = urm_train + urm_validation"
   ]
  },
  {
   "cell_type": "markdown",
   "metadata": {},
   "source": [
    "**Hyper parameter TUNING**"
   ]
  },
  {
   "cell_type": "code",
   "execution_count": 9,
   "metadata": {},
   "outputs": [],
   "source": [
    "from Base.Evaluation.Evaluator import EvaluatorHoldout\n",
    "\n",
    "evaluator_validation = EvaluatorHoldout(urm_validation, cutoff_list=[10])\n",
    "evaluator_test = EvaluatorHoldout(urm_test, cutoff_list=[10])"
   ]
  },
  {
   "cell_type": "markdown",
   "metadata": {},
   "source": [
    "**Tuning IALS**"
   ]
  },
  {
   "cell_type": "code",
   "execution_count": null,
   "metadata": {},
   "outputs": [],
   "source": [
    "from skopt.space import Real, Integer, Categorical\n",
    "\n",
    "hyperparameters_range_dictionary = {}\n",
    "hyperparameters_range_dictionary[\"num_factors\"] = Integer(20, 400)\n",
    "hyperparameters_range_dictionary[\"confidence_scaling\"] = Categorical([\"linear\", \"log\"]) \n",
    "hyperparameters_range_dictionary[\"alpha\"] = Real(0.001, 1)\n",
    "hyperparameters_range_dictionary[\"epsilon\"] = Real(0.01, 1)\n",
    "hyperparameters_range_dictionary[\"reg\"] = Real(1e-5, 1e-2)"
   ]
  },
  {
   "cell_type": "code",
   "execution_count": null,
   "metadata": {
    "scrolled": true
   },
   "outputs": [],
   "source": [
    "from ParameterTuning.SearchBayesianSkopt import SearchBayesianSkopt\n",
    "\n",
    "recommender_class = IALSRecommender\n",
    "\n",
    "parameterSearch = SearchBayesianSkopt(recommender_class,\n",
    "                                 evaluator_validation=evaluator_validation,\n",
    "                                 evaluator_test=evaluator_test)"
   ]
  },
  {
   "cell_type": "code",
   "execution_count": null,
   "metadata": {},
   "outputs": [],
   "source": [
    "from ParameterTuning.SearchAbstractClass import SearchInputRecommenderArgs\n",
    "\n",
    "recommender_input_args = SearchInputRecommenderArgs(\n",
    "    CONSTRUCTOR_POSITIONAL_ARGS = [urm_train],     # For a CBF model simply put [URM_train, ICM_train]\n",
    "    CONSTRUCTOR_KEYWORD_ARGS = {},\n",
    "    FIT_POSITIONAL_ARGS = [],\n",
    "    FIT_KEYWORD_ARGS = {}\n",
    ")"
   ]
  },
  {
   "cell_type": "code",
   "execution_count": null,
   "metadata": {},
   "outputs": [],
   "source": [
    "recommender_input_args_last_test = SearchInputRecommenderArgs(\n",
    "    CONSTRUCTOR_POSITIONAL_ARGS = [urm_train_validation],     # For a CBF model simply put [URM_train_validation, ICM_train]\n",
    "    CONSTRUCTOR_KEYWORD_ARGS = {},\n",
    "    FIT_POSITIONAL_ARGS = [],\n",
    "    FIT_KEYWORD_ARGS = {}\n",
    ")"
   ]
  },
  {
   "cell_type": "code",
   "execution_count": null,
   "metadata": {},
   "outputs": [],
   "source": [
    "import os\n",
    "\n",
    "output_folder_path = \"result_experiments/\"\n",
    "\n",
    "# If directory does not exist, create\n",
    "if not os.path.exists(output_folder_path):\n",
    "    os.makedirs(output_folder_path)\n",
    "    \n",
    "n_cases = 50\n",
    "n_random_starts = int(n_cases*0.3)\n",
    "metric_to_optimize = \"MAP\""
   ]
  },
  {
   "cell_type": "code",
   "execution_count": null,
   "metadata": {
    "scrolled": true
   },
   "outputs": [],
   "source": [
    "parameterSearch.search(recommender_input_args,\n",
    "                       recommender_input_args_last_test = recommender_input_args_last_test,\n",
    "                       parameter_search_space = hyperparameters_range_dictionary,\n",
    "                       n_cases = n_cases,\n",
    "                       n_random_starts = n_random_starts,\n",
    "                       save_model = \"last\",\n",
    "                       output_folder_path = output_folder_path,\n",
    "                       output_file_name_root = recommender_class.RECOMMENDER_NAME,\n",
    "                       metric_to_optimize = metric_to_optimize,\n",
    "                      )"
   ]
  },
  {
   "cell_type": "markdown",
   "metadata": {},
   "source": [
    "**Evaluation Metrics**"
   ]
  },
  {
   "cell_type": "code",
   "execution_count": 10,
   "metadata": {},
   "outputs": [],
   "source": [
    "def recall(recommendations: np.array, relevant_items: np.array) -> float:\n",
    "    is_relevant = np.in1d(recommendations, relevant_items, assume_unique=True)\n",
    "    \n",
    "    recall_score = np.sum(is_relevant) / relevant_items.shape[0]\n",
    "    \n",
    "    return recall_score\n",
    "    \n",
    "    \n",
    "def precision(recommendations: np.array, relevant_items: np.array) -> float:\n",
    "    is_relevant = np.in1d(recommendations, relevant_items, assume_unique=True)\n",
    "    \n",
    "    precision_score = np.sum(is_relevant) / recommendations.shape[0]\n",
    "\n",
    "    return precision_score\n",
    "\n",
    "def mean_average_precision(recommendations: np.array, relevant_items: np.array) -> float:\n",
    "    is_relevant = np.in1d(recommendations, relevant_items, assume_unique=True)\n",
    "    \n",
    "    precision_at_k = is_relevant * np.cumsum(is_relevant, dtype=np.float32) / (1 + np.arange(is_relevant.shape[0]))\n",
    "\n",
    "    map_score = np.sum(precision_at_k) / np.min([relevant_items.shape[0], is_relevant.shape[0]])\n",
    "\n",
    "    return map_score"
   ]
  },
  {
   "cell_type": "markdown",
   "metadata": {},
   "source": [
    "**Evaluation Procedure**\n",
    "\n",
    "The evaluation procedure returns the averaged accuracy scores (in terms of precision, recall and MAP) for all users (that have at least 1 rating in the test set). It also calculates the number of evaluated and skipped users. It receives a recommender instance, and the train and test URMs."
   ]
  },
  {
   "cell_type": "code",
   "execution_count": 11,
   "metadata": {},
   "outputs": [],
   "source": [
    "def evaluator(recommender: object, urm_train: sp.csr_matrix, urm_test: sp.csr_matrix):\n",
    "    recommendation_length = 10\n",
    "    accum_precision = 0\n",
    "    accum_recall = 0\n",
    "    accum_map = 0\n",
    "    \n",
    "    num_users = urm_train.shape[0]\n",
    "    \n",
    "    num_users_evaluated = 0\n",
    "    num_users_skipped = 0\n",
    "    \n",
    "    for user_id in range(num_users):\n",
    "        user_profile_start = urm_test.indptr[user_id]\n",
    "        user_profile_end = urm_test.indptr[user_id+1]\n",
    "\n",
    "        relevant_items = urm_test.indices[user_profile_start:user_profile_end]\n",
    "\n",
    "        if relevant_items.size == 0:\n",
    "            num_users_skipped += 1\n",
    "            continue\n",
    "            \n",
    "#         recommendations = recommender.recommend(user_id_array=user_id,\n",
    "#                                                cutoff=recommendation_length,\n",
    "#                                                remove_seen_flag=True\n",
    "#                                                )\n",
    "\n",
    "        expected_ratings = recommender.get_expected_ratings(user_id)\n",
    "        recommended_items = np.flip(np.argsort(expected_ratings), 0)\n",
    "\n",
    "        unseen_items_mask = np.in1d(recommended_items,urm_train[user_id].indices,\n",
    "                                        assume_unique=True, invert=True)\n",
    "\n",
    "        recommendations = recommended_items[unseen_items_mask]\n",
    "\n",
    "\n",
    "        accum_precision += precision(recommendations, relevant_items)\n",
    "        accum_recall += recall(recommendations, relevant_items)\n",
    "        accum_map += mean_average_precision(recommendations, relevant_items)\n",
    "\n",
    "        num_users_evaluated += 1\n",
    "\n",
    "    \n",
    "    accum_precision /= max(num_users_evaluated, 1)\n",
    "    accum_recall /= max(num_users_evaluated, 1)\n",
    "    accum_map /=  max(num_users_evaluated, 1)\n",
    "    \n",
    "    return accum_precision, accum_recall, accum_map, num_users_evaluated, num_users_skipped"
   ]
  },
  {
   "cell_type": "code",
   "execution_count": 12,
   "metadata": {},
   "outputs": [],
   "source": [
    "#Params for the recommenders\n",
    "cbf_param = {\n",
    "    \"knn\": 380,\n",
    "    \"shrink\": 9\n",
    "}\n",
    "\n",
    "user_cf_param = {\n",
    "    \"knn\": 249,\n",
    "    \"shrink\": 853\n",
    "}\n",
    "\n",
    "item_cf_param = {\n",
    "    \"knn\": 119,\n",
    "    \"shrink\": 430\n",
    "}\n",
    "\n",
    "slim_bpr_param = {   #work in progres....\n",
    "    \"learning_rate\" : 0.00214168231523243,\n",
    "    \"epochs\": 10,\n",
    "    \"nnz\" : 0.39651777555716483,\n",
    "    \"knn\": 1134\n",
    "}\n",
    "\n",
    "als_param = {   #work in progress...\n",
    "    \"n_factors\": 242,\n",
    "    \"regularization\": 2.0,\n",
    "    \"iterations\": 15\n",
    "}\n",
    "\n",
    "Ials_param = {\n",
    "    \"num_factors\" : 840,\n",
    "    \"confidence_scaling\" : \"linear\",\n",
    "    \"alpha\" : 0.40,\n",
    "    \"epsilon\" : 0.28,\n",
    "    \"reg\" : 0.0003\n",
    "}\n"
   ]
  },
  {
   "cell_type": "code",
   "execution_count": 13,
   "metadata": {},
   "outputs": [],
   "source": [
    "userCF = UserBasedCollaborativeFiltering(urm_train)"
   ]
  },
  {
   "cell_type": "code",
   "execution_count": 14,
   "metadata": {},
   "outputs": [
    {
     "name": "stdout",
     "output_type": "stream",
     "text": [
      "Similarity column 25975 ( 100 % ), 3038.34 column/sec, elapsed time 0.14 min\n"
     ]
    }
   ],
   "source": [
    "userCF.fit(knn=user_cf_param[\"knn\"], shrink=user_cf_param[\"shrink\"],similarity='cosine')"
   ]
  },
  {
   "cell_type": "code",
   "execution_count": 15,
   "metadata": {},
   "outputs": [
    {
     "data": {
      "text/plain": [
       "(0.00013115158761398967, 1.0, 0.04790977256434664, 5007, 2940)"
      ]
     },
     "execution_count": 15,
     "metadata": {},
     "output_type": "execute_result"
    }
   ],
   "source": [
    "accum_precision, accum_recall, accum_map, num_user_evaluated, num_users_skipped = evaluator(userCF, \n",
    "                                                                                            urm_train_validation, \n",
    "                                                                                            urm_test)\n",
    "accum_precision, accum_recall, accum_map, num_user_evaluated, num_users_skipped"
   ]
  },
  {
   "cell_type": "code",
   "execution_count": 16,
   "metadata": {},
   "outputs": [],
   "source": [
    "itemCF = ItemBasedCollaborativeFiltering(urm_train)"
   ]
  },
  {
   "cell_type": "code",
   "execution_count": 17,
   "metadata": {},
   "outputs": [
    {
     "name": "stdout",
     "output_type": "stream",
     "text": [
      "Similarity column 25975 ( 100 % ), 2851.42 column/sec, elapsed time 0.15 min\n"
     ]
    }
   ],
   "source": [
    "itemCF.fit(knn=item_cf_param[\"knn\"], shrink=item_cf_param[\"shrink\"], similarity=\"cosine\")"
   ]
  },
  {
   "cell_type": "code",
   "execution_count": 18,
   "metadata": {},
   "outputs": [
    {
     "data": {
      "text/plain": [
       "(0.00013115158761398967, 1.0, 0.04681989284146422, 5007, 2940)"
      ]
     },
     "execution_count": 18,
     "metadata": {},
     "output_type": "execute_result"
    }
   ],
   "source": [
    "accum_precision, accum_recall, accum_map, num_user_evaluated, num_users_skipped = evaluator(itemCF, \n",
    "                                                                                            urm_train_validation, \n",
    "                                                                                            urm_test)\n",
    "accum_precision, accum_recall, accum_map, num_user_evaluated, num_users_skipped"
   ]
  },
  {
   "cell_type": "code",
   "execution_count": 19,
   "metadata": {},
   "outputs": [],
   "source": [
    "SlimBpr=SlimBPRRec(urm_train)"
   ]
  },
  {
   "cell_type": "code",
   "execution_count": 20,
   "metadata": {
    "scrolled": true
   },
   "outputs": [
    {
     "name": "stdout",
     "output_type": "stream",
     "text": [
      "Get S SLIM BPR...\n",
      "Epoch: 0\n"
     ]
    },
    {
     "name": "stderr",
     "output_type": "stream",
     "text": [
      "100%|██████████████████████████████████████████████████████████████████████████| 32424/32424 [00:18<00:00, 1787.37it/s]\n"
     ]
    },
    {
     "name": "stdout",
     "output_type": "stream",
     "text": [
      "Epoch: 1\n"
     ]
    },
    {
     "name": "stderr",
     "output_type": "stream",
     "text": [
      "100%|██████████████████████████████████████████████████████████████████████████| 32424/32424 [00:18<00:00, 1739.46it/s]\n"
     ]
    },
    {
     "name": "stdout",
     "output_type": "stream",
     "text": [
      "Epoch: 2\n"
     ]
    },
    {
     "name": "stderr",
     "output_type": "stream",
     "text": [
      "100%|██████████████████████████████████████████████████████████████████████████| 32424/32424 [00:18<00:00, 1733.82it/s]\n"
     ]
    },
    {
     "name": "stdout",
     "output_type": "stream",
     "text": [
      "Epoch: 3\n"
     ]
    },
    {
     "name": "stderr",
     "output_type": "stream",
     "text": [
      "100%|██████████████████████████████████████████████████████████████████████████| 32424/32424 [00:18<00:00, 1741.70it/s]\n"
     ]
    },
    {
     "name": "stdout",
     "output_type": "stream",
     "text": [
      "Epoch: 4\n"
     ]
    },
    {
     "name": "stderr",
     "output_type": "stream",
     "text": [
      "100%|██████████████████████████████████████████████████████████████████████████| 32424/32424 [00:18<00:00, 1748.50it/s]\n"
     ]
    },
    {
     "name": "stdout",
     "output_type": "stream",
     "text": [
      "Epoch: 5\n"
     ]
    },
    {
     "name": "stderr",
     "output_type": "stream",
     "text": [
      "100%|██████████████████████████████████████████████████████████████████████████| 32424/32424 [00:18<00:00, 1739.38it/s]\n"
     ]
    },
    {
     "name": "stdout",
     "output_type": "stream",
     "text": [
      "Epoch: 6\n"
     ]
    },
    {
     "name": "stderr",
     "output_type": "stream",
     "text": [
      "100%|██████████████████████████████████████████████████████████████████████████| 32424/32424 [00:18<00:00, 1760.28it/s]\n"
     ]
    },
    {
     "name": "stdout",
     "output_type": "stream",
     "text": [
      "Epoch: 7\n"
     ]
    },
    {
     "name": "stderr",
     "output_type": "stream",
     "text": [
      "100%|██████████████████████████████████████████████████████████████████████████| 32424/32424 [00:18<00:00, 1741.82it/s]\n"
     ]
    },
    {
     "name": "stdout",
     "output_type": "stream",
     "text": [
      "Epoch: 8\n"
     ]
    },
    {
     "name": "stderr",
     "output_type": "stream",
     "text": [
      "100%|██████████████████████████████████████████████████████████████████████████| 32424/32424 [00:18<00:00, 1749.06it/s]\n"
     ]
    },
    {
     "name": "stdout",
     "output_type": "stream",
     "text": [
      "Epoch: 9\n"
     ]
    },
    {
     "name": "stderr",
     "output_type": "stream",
     "text": [
      "100%|██████████████████████████████████████████████████████████████████████████| 32424/32424 [00:18<00:00, 1740.90it/s]\n"
     ]
    },
    {
     "name": "stdout",
     "output_type": "stream",
     "text": [
      "Epoch: 10\n"
     ]
    },
    {
     "name": "stderr",
     "output_type": "stream",
     "text": [
      "100%|██████████████████████████████████████████████████████████████████████████| 32424/32424 [00:18<00:00, 1754.23it/s]\n"
     ]
    },
    {
     "name": "stdout",
     "output_type": "stream",
     "text": [
      "Epoch: 11\n"
     ]
    },
    {
     "name": "stderr",
     "output_type": "stream",
     "text": [
      "100%|██████████████████████████████████████████████████████████████████████████| 32424/32424 [00:18<00:00, 1741.50it/s]\n"
     ]
    },
    {
     "name": "stdout",
     "output_type": "stream",
     "text": [
      "Epoch: 12\n"
     ]
    },
    {
     "name": "stderr",
     "output_type": "stream",
     "text": [
      "100%|██████████████████████████████████████████████████████████████████████████| 32424/32424 [00:18<00:00, 1761.74it/s]\n"
     ]
    },
    {
     "name": "stdout",
     "output_type": "stream",
     "text": [
      "Epoch: 13\n"
     ]
    },
    {
     "name": "stderr",
     "output_type": "stream",
     "text": [
      "100%|██████████████████████████████████████████████████████████████████████████| 32424/32424 [00:18<00:00, 1731.40it/s]\n"
     ]
    },
    {
     "name": "stdout",
     "output_type": "stream",
     "text": [
      "Epoch: 14\n"
     ]
    },
    {
     "name": "stderr",
     "output_type": "stream",
     "text": [
      "100%|██████████████████████████████████████████████████████████████████████████| 32424/32424 [00:18<00:00, 1729.12it/s]\n"
     ]
    },
    {
     "name": "stdout",
     "output_type": "stream",
     "text": [
      "Epoch: 15\n"
     ]
    },
    {
     "name": "stderr",
     "output_type": "stream",
     "text": [
      "100%|██████████████████████████████████████████████████████████████████████████| 32424/32424 [00:18<00:00, 1743.34it/s]\n"
     ]
    },
    {
     "name": "stdout",
     "output_type": "stream",
     "text": [
      "Epoch: 16\n"
     ]
    },
    {
     "name": "stderr",
     "output_type": "stream",
     "text": [
      "100%|██████████████████████████████████████████████████████████████████████████| 32424/32424 [00:18<00:00, 1723.72it/s]\n"
     ]
    },
    {
     "name": "stdout",
     "output_type": "stream",
     "text": [
      "Epoch: 17\n"
     ]
    },
    {
     "name": "stderr",
     "output_type": "stream",
     "text": [
      "100%|██████████████████████████████████████████████████████████████████████████| 32424/32424 [00:18<00:00, 1741.75it/s]\n"
     ]
    },
    {
     "name": "stdout",
     "output_type": "stream",
     "text": [
      "Epoch: 18\n"
     ]
    },
    {
     "name": "stderr",
     "output_type": "stream",
     "text": [
      "100%|██████████████████████████████████████████████████████████████████████████| 32424/32424 [00:18<00:00, 1724.31it/s]\n"
     ]
    },
    {
     "name": "stdout",
     "output_type": "stream",
     "text": [
      "Epoch: 19\n"
     ]
    },
    {
     "name": "stderr",
     "output_type": "stream",
     "text": [
      "100%|██████████████████████████████████████████████████████████████████████████| 32424/32424 [00:19<00:00, 1682.82it/s]\n"
     ]
    },
    {
     "name": "stdout",
     "output_type": "stream",
     "text": [
      "Keeping only knn = 1134 ...\n"
     ]
    },
    {
     "name": "stderr",
     "output_type": "stream",
     "text": [
      "100%|██████████████████████████████████████████████████████████████████████████| 25975/25975 [00:02<00:00, 9431.89it/s]\n"
     ]
    }
   ],
   "source": [
    "SlimBpr.fit(nnz=slim_bpr_param[\"nnz\"], knn=slim_bpr_param[\"knn\"])"
   ]
  },
  {
   "cell_type": "code",
   "execution_count": 21,
   "metadata": {},
   "outputs": [
    {
     "data": {
      "text/plain": [
       "(0.00013115158761398967, 1.0, 0.04609918915781799, 5007, 2940)"
      ]
     },
     "execution_count": 21,
     "metadata": {},
     "output_type": "execute_result"
    }
   ],
   "source": [
    "accum_precision, accum_recall, accum_map, num_user_evaluated, num_users_skipped = evaluator(SlimBpr, \n",
    "                                                                                            urm_train_validation, \n",
    "                                                                                            urm_test)\n",
    "accum_precision, accum_recall, accum_map, num_user_evaluated, num_users_skipped"
   ]
  },
  {
   "cell_type": "code",
   "execution_count": null,
   "metadata": {},
   "outputs": [],
   "source": [
    "slim_elastic = SLIMElasticNetRecommender(urm_train)"
   ]
  },
  {
   "cell_type": "code",
   "execution_count": null,
   "metadata": {},
   "outputs": [],
   "source": [
    "slim_elastic.fit()"
   ]
  },
  {
   "cell_type": "code",
   "execution_count": null,
   "metadata": {},
   "outputs": [],
   "source": [
    "accum_precision, accum_recall, accum_map, num_user_evaluated, num_users_skipped = evaluator(slim_elastic, \n",
    "                                                                                            urm_train_validation, \n",
    "                                                                                            urm_test)\n",
    "accum_precision, accum_recall, accum_map, num_user_evaluated, num_users_skipped"
   ]
  },
  {
   "cell_type": "code",
   "execution_count": 22,
   "metadata": {},
   "outputs": [],
   "source": [
    "cbf = ContentBasedFiltering(urm_train,ICM)"
   ]
  },
  {
   "cell_type": "code",
   "execution_count": 23,
   "metadata": {},
   "outputs": [
    {
     "name": "stdout",
     "output_type": "stream",
     "text": [
      "Similarity column 25975 ( 100 % ), 1262.46 column/sec, elapsed time 0.34 min\n"
     ]
    }
   ],
   "source": [
    "cbf.fit(knn=cbf_param[\"knn\"],shrink=cbf_param[\"shrink\"],similarity='cosine')"
   ]
  },
  {
   "cell_type": "code",
   "execution_count": 24,
   "metadata": {},
   "outputs": [
    {
     "data": {
      "text/plain": [
       "(0.00013115158761398967, 1.0, 0.028420201221214296, 5007, 2940)"
      ]
     },
     "execution_count": 24,
     "metadata": {},
     "output_type": "execute_result"
    }
   ],
   "source": [
    "accum_precision, accum_recall, accum_map, num_user_evaluated, num_users_skipped = evaluator(cbf, \n",
    "                                                                                            urm_train_validation, \n",
    "                                                                                            urm_test)\n",
    "accum_precision, accum_recall, accum_map, num_user_evaluated, num_users_skipped"
   ]
  },
  {
   "cell_type": "code",
   "execution_count": 25,
   "metadata": {},
   "outputs": [],
   "source": [
    "ALS = AlternatingLeastSquare(urm_train)"
   ]
  },
  {
   "cell_type": "code",
   "execution_count": 26,
   "metadata": {},
   "outputs": [
    {
     "data": {
      "application/vnd.jupyter.widget-view+json": {
       "model_id": "c678093e10d14c21b0a3777fffd2d0c0",
       "version_major": 2,
       "version_minor": 0
      },
      "text/plain": [
       "HBox(children=(IntProgress(value=0, max=15), HTML(value='')))"
      ]
     },
     "metadata": {},
     "output_type": "display_data"
    },
    {
     "name": "stdout",
     "output_type": "stream",
     "text": [
      "\n"
     ]
    }
   ],
   "source": [
    "ALS.fit(n_factors=als_param[\"n_factors\"], regularization=als_param[\"regularization\"],iterations=als_param[\"iterations\"])"
   ]
  },
  {
   "cell_type": "code",
   "execution_count": 27,
   "metadata": {},
   "outputs": [
    {
     "data": {
      "text/plain": [
       "(0.00013115158761398967, 1.0, 0.05584213803203896, 5007, 2940)"
      ]
     },
     "execution_count": 27,
     "metadata": {},
     "output_type": "execute_result"
    }
   ],
   "source": [
    "accum_precision, accum_recall, accum_map, num_user_evaluated, num_users_skipped = evaluator(ALS, \n",
    "                                                                                            urm_train_validation, \n",
    "                                                                                            urm_test)\n",
    "accum_precision, accum_recall, accum_map, num_user_evaluated, num_users_skipped"
   ]
  },
  {
   "cell_type": "code",
   "execution_count": null,
   "metadata": {},
   "outputs": [],
   "source": [
    "IALS = IALSRecommender(urm_train)"
   ]
  },
  {
   "cell_type": "code",
   "execution_count": null,
   "metadata": {},
   "outputs": [],
   "source": [
    "IALS.fit(num_factors=Ials_param[\"num_factors\"], confidence_scaling=Ials_param[\"confidence_scaling\"], alpha=Ials_param[\"alpha\"], epsilon=Ials_param[\"epsilon\"], reg=Ials_param[\"reg\"])"
   ]
  },
  {
   "cell_type": "code",
   "execution_count": null,
   "metadata": {},
   "outputs": [],
   "source": [
    "accum_precision, accum_recall, accum_map, num_user_evaluated, num_users_skipped = evaluator(IALS, \n",
    "                                                                                            urm_train_validation, \n",
    "                                                                                            urm_test)\n",
    "accum_precision, accum_recall, accum_map, num_user_evaluated, num_users_skipped"
   ]
  },
  {
   "cell_type": "markdown",
   "metadata": {},
   "source": [
    "**Hybrid**"
   ]
  },
  {
   "cell_type": "markdown",
   "metadata": {},
   "source": [
    "**Hybrid Recommender Tuning**"
   ]
  },
  {
   "cell_type": "code",
   "execution_count": 28,
   "metadata": {},
   "outputs": [],
   "source": [
    "from Base.Evaluation.Evaluator import EvaluatorHoldout\n",
    "\n",
    "evaluator_validation = EvaluatorHoldout(urm_validation, cutoff_list=[10])\n",
    "evaluator_test = EvaluatorHoldout(urm_test, cutoff_list=[10])"
   ]
  },
  {
   "cell_type": "code",
   "execution_count": 29,
   "metadata": {},
   "outputs": [],
   "source": [
    "from skopt.space import Real, Integer, Categorical\n",
    "\n",
    "hyperparameters_range_dictionary = {}\n",
    "hyperparameters_range_dictionary[\"w_slim_bpr\"] = Integer(0, 2000)"
   ]
  },
  {
   "cell_type": "code",
   "execution_count": 30,
   "metadata": {
    "scrolled": true
   },
   "outputs": [],
   "source": [
    "from ParameterTuning.SearchBayesianSkopt import SearchBayesianSkopt\n",
    "\n",
    "recommender_class = HybridRecommender\n",
    "\n",
    "parameterSearch = SearchBayesianSkopt(recommender_class,\n",
    "                                 evaluator_validation=evaluator_validation,\n",
    "                                 evaluator_test=evaluator_test)"
   ]
  },
  {
   "cell_type": "code",
   "execution_count": 31,
   "metadata": {},
   "outputs": [],
   "source": [
    "from ParameterTuning.SearchAbstractClass import SearchInputRecommenderArgs\n",
    "  \n",
    "recommender_input_args = SearchInputRecommenderArgs(\n",
    "    CONSTRUCTOR_POSITIONAL_ARGS = [urm_train, ICM, userCF, itemCF, cbf, ALS, SlimBpr],     # For a CBF model simply put [URM_train, ICM_train]\n",
    "    CONSTRUCTOR_KEYWORD_ARGS = {},\n",
    "    FIT_POSITIONAL_ARGS = [user_cf_param, item_cf_param, cbf_param, slim_bpr_param, als_param, 37, 235, 98, 73],\n",
    "    FIT_KEYWORD_ARGS = {}\n",
    ")"
   ]
  },
  {
   "cell_type": "code",
   "execution_count": 32,
   "metadata": {},
   "outputs": [],
   "source": [
    "recommender_input_args_last_test = SearchInputRecommenderArgs(\n",
    "    CONSTRUCTOR_POSITIONAL_ARGS = [urm_train, ICM, userCF, itemCF, cbf, ALS, SlimBpr],     # For a CBF model simply put [URM_train_validation, ICM_train]\n",
    "    CONSTRUCTOR_KEYWORD_ARGS = {},\n",
    "    FIT_POSITIONAL_ARGS = [user_cf_param, item_cf_param, cbf_param, slim_bpr_param, als_param, 37, 235, 98, 73],\n",
    "    FIT_KEYWORD_ARGS = {}\n",
    ")"
   ]
  },
  {
   "cell_type": "code",
   "execution_count": 33,
   "metadata": {},
   "outputs": [],
   "source": [
    "import os\n",
    "\n",
    "output_folder_path = \"result_experiments/\"\n",
    "\n",
    "# If directory does not exist, create\n",
    "if not os.path.exists(output_folder_path):\n",
    "    os.makedirs(output_folder_path)\n",
    "    \n",
    "n_cases = 300\n",
    "n_random_starts = int(n_cases*0.45)\n",
    "metric_to_optimize = \"MAP\""
   ]
  },
  {
   "cell_type": "code",
   "execution_count": 34,
   "metadata": {
    "scrolled": true
   },
   "outputs": [
    {
     "name": "stdout",
     "output_type": "stream",
     "text": [
      "Iteration No: 1 started. Evaluating function at random point.\n",
      "SearchBayesianSkopt: Testing config: {'w_slim_bpr': 1689}\n",
      "EvaluatorHoldout: Processed 4643 ( 100.00% ) in 29.45 sec. Users per second: 158\n",
      "SearchBayesianSkopt: New best config found. Config 0: {'w_slim_bpr': 1689} - results: ROC_AUC: 0.1292475, PRECISION: 0.0250915, PRECISION_RECALL_MIN_DEN: 0.1076882, RECALL: 0.1058209, MAP: 0.0470767, MRR: 0.0891374, NDCG: 0.0710640, F1: 0.0405647, HIT_RATE: 0.2509154, ARHR: 0.0971470, NOVELTY: 0.0048391, AVERAGE_POPULARITY: 0.1089494, DIVERSITY_MEAN_INTER_LIST: 0.9846941, DIVERSITY_HERFINDAHL: 0.9984482, COVERAGE_ITEM: 0.3641193, COVERAGE_ITEM_CORRECT: 0.0264100, COVERAGE_USER: 0.5842456, COVERAGE_USER_CORRECT: 0.1216811, DIVERSITY_GINI: 0.1216491, SHANNON_ENTROPY: 11.3865327, \n",
      "\n",
      "EvaluatorHoldout: Processed 5000 ( 99.86% ) in 30.82 sec. Users per second: 162\n",
      "EvaluatorHoldout: Processed 5007 ( 100.00% ) in 30.88 sec. Users per second: 162\n",
      "SearchBayesianSkopt: Best config evaluated with evaluator_test. Config: {'w_slim_bpr': 1689} - results:\n",
      "CUTOFF: 10 - ROC_AUC: 0.1310299, PRECISION: 0.0264230, PRECISION_RECALL_MIN_DEN: 0.1009590, RECALL: 0.0989440, MAP: 0.0438579, MRR: 0.0935442, NDCG: 0.0684996, F1: 0.0417079, HIT_RATE: 0.2642301, ARHR: 0.1037258, NOVELTY: 0.0048461, AVERAGE_POPULARITY: 0.1072424, DIVERSITY_MEAN_INTER_LIST: 0.9852443, DIVERSITY_HERFINDAHL: 0.9985048, COVERAGE_ITEM: 0.3778248, COVERAGE_ITEM_CORRECT: 0.0291049, COVERAGE_USER: 0.6300491, COVERAGE_USER_CORRECT: 0.1351453, DIVERSITY_GINI: 0.1249901, SHANNON_ENTROPY: 11.4372642, \n",
      "\n",
      "\n",
      "DataIO: Json dumps supports only 'str' as dictionary keys. Transforming keys to string, note that this will alter the mapper content.\n",
      "Iteration No: 1 ended. Evaluation done at random point.\n",
      "Time taken: 60.3684\n",
      "Function value obtained: -0.0471\n",
      "Current minimum: -0.0471\n",
      "Iteration No: 2 started. Evaluating function at random point.\n",
      "SearchBayesianSkopt: Testing config: {'w_slim_bpr': 766}\n",
      "EvaluatorHoldout: Processed 4643 ( 100.00% ) in 31.12 sec. Users per second: 149\n",
      "SearchBayesianSkopt: New best config found. Config 1: {'w_slim_bpr': 766} - results: ROC_AUC: 0.1395067, PRECISION: 0.0273961, PRECISION_RECALL_MIN_DEN: 0.1182686, RECALL: 0.1161622, MAP: 0.0508779, MRR: 0.0953094, NDCG: 0.0770912, F1: 0.0443358, HIT_RATE: 0.2739608, ARHR: 0.1046784, NOVELTY: 0.0048558, AVERAGE_POPULARITY: 0.1021516, DIVERSITY_MEAN_INTER_LIST: 0.9870767, DIVERSITY_HERFINDAHL: 0.9986864, COVERAGE_ITEM: 0.3676227, COVERAGE_ITEM_CORRECT: 0.0305679, COVERAGE_USER: 0.5842456, COVERAGE_USER_CORRECT: 0.1318737, DIVERSITY_GINI: 0.1250293, SHANNON_ENTROPY: 11.5026769, \n",
      "\n",
      "EvaluatorHoldout: Processed 5000 ( 99.86% ) in 31.63 sec. Users per second: 158\n",
      "EvaluatorHoldout: Processed 5007 ( 100.00% ) in 31.69 sec. Users per second: 158\n",
      "SearchBayesianSkopt: Best config evaluated with evaluator_test. Config: {'w_slim_bpr': 766} - results:\n",
      "CUTOFF: 10 - ROC_AUC: 0.1431286, PRECISION: 0.0293389, PRECISION_RECALL_MIN_DEN: 0.1125924, RECALL: 0.1103015, MAP: 0.0484285, MRR: 0.1026006, NDCG: 0.0756784, F1: 0.0463494, HIT_RATE: 0.2933893, ARHR: 0.1147334, NOVELTY: 0.0048607, AVERAGE_POPULARITY: 0.1008464, DIVERSITY_MEAN_INTER_LIST: 0.9874386, DIVERSITY_HERFINDAHL: 0.9987241, COVERAGE_ITEM: 0.3801347, COVERAGE_ITEM_CORRECT: 0.0338787, COVERAGE_USER: 0.6300491, COVERAGE_USER_CORRECT: 0.1469737, DIVERSITY_GINI: 0.1276251, SHANNON_ENTROPY: 11.5409865, \n",
      "\n",
      "\n",
      "Iteration No: 2 ended. Evaluation done at random point.\n",
      "Time taken: 62.8636\n",
      "Function value obtained: -0.0509\n",
      "Current minimum: -0.0509\n",
      "Iteration No: 3 started. Evaluating function at random point.\n",
      "SearchBayesianSkopt: Testing config: {'w_slim_bpr': 1864}\n",
      "EvaluatorHoldout: Processed 4643 ( 100.00% ) in 31.55 sec. Users per second: 147\n",
      "SearchBayesianSkopt: Config 2 is suboptimal. Config: {'w_slim_bpr': 1864} - results: ROC_AUC: 0.1282516, PRECISION: 0.0248331, PRECISION_RECALL_MIN_DEN: 0.1067406, RECALL: 0.1048737, MAP: 0.0468024, MRR: 0.0885250, NDCG: 0.0705299, F1: 0.0401573, HIT_RATE: 0.2483308, ARHR: 0.0962306, NOVELTY: 0.0048386, AVERAGE_POPULARITY: 0.1095940, DIVERSITY_MEAN_INTER_LIST: 0.9844460, DIVERSITY_HERFINDAHL: 0.9984234, COVERAGE_ITEM: 0.3642348, COVERAGE_ITEM_CORRECT: 0.0259865, COVERAGE_USER: 0.5842456, COVERAGE_USER_CORRECT: 0.1209261, DIVERSITY_GINI: 0.1215690, SHANNON_ENTROPY: 11.3766393, \n",
      "\n",
      "Iteration No: 3 ended. Evaluation done at random point.\n",
      "Time taken: 31.5958\n",
      "Function value obtained: -0.0468\n",
      "Current minimum: -0.0509\n",
      "Iteration No: 4 started. Evaluating function at random point.\n",
      "SearchBayesianSkopt: Testing config: {'w_slim_bpr': 1979}\n",
      "EvaluatorHoldout: Processed 4643 ( 100.00% ) in 30.52 sec. Users per second: 152\n",
      "SearchBayesianSkopt: Config 3 is suboptimal. Config: {'w_slim_bpr': 1979} - results: ROC_AUC: 0.1276239, PRECISION: 0.0247039, PRECISION_RECALL_MIN_DEN: 0.1060711, RECALL: 0.1041943, MAP: 0.0465297, MRR: 0.0882071, NDCG: 0.0701362, F1: 0.0399385, HIT_RATE: 0.2470386, ARHR: 0.0958482, NOVELTY: 0.0048380, AVERAGE_POPULARITY: 0.1099412, DIVERSITY_MEAN_INTER_LIST: 0.9843158, DIVERSITY_HERFINDAHL: 0.9984104, COVERAGE_ITEM: 0.3643888, COVERAGE_ITEM_CORRECT: 0.0257555, COVERAGE_USER: 0.5842456, COVERAGE_USER_CORRECT: 0.1204228, DIVERSITY_GINI: 0.1214722, SHANNON_ENTROPY: 11.3710644, \n",
      "\n",
      "Iteration No: 4 ended. Evaluation done at random point.\n",
      "Time taken: 30.5684\n",
      "Function value obtained: -0.0465\n",
      "Current minimum: -0.0509\n",
      "Iteration No: 5 started. Evaluating function at random point.\n",
      "SearchBayesianSkopt: Testing config: {'w_slim_bpr': 188}\n",
      "EvaluatorHoldout: Processed 4643 ( 100.00% ) in 29.87 sec. Users per second: 155\n",
      "SearchBayesianSkopt: New best config found. Config 4: {'w_slim_bpr': 188} - results: ROC_AUC: 0.1459202, PRECISION: 0.0292914, PRECISION_RECALL_MIN_DEN: 0.1255553, RECALL: 0.1234506, MAP: 0.0555913, MRR: 0.1031419, NDCG: 0.0832752, F1: 0.0473484, HIT_RATE: 0.2929141, ARHR: 0.1133648, NOVELTY: 0.0049118, AVERAGE_POPULARITY: 0.0860739, DIVERSITY_MEAN_INTER_LIST: 0.9914788, DIVERSITY_HERFINDAHL: 0.9991265, COVERAGE_ITEM: 0.3669297, COVERAGE_ITEM_CORRECT: 0.0347642, COVERAGE_USER: 0.5842456, COVERAGE_USER_CORRECT: 0.1384170, DIVERSITY_GINI: 0.1307104, SHANNON_ENTROPY: 11.7499586, \n",
      "\n",
      "EvaluatorHoldout: Processed 5000 ( 99.86% ) in 30.63 sec. Users per second: 163\n",
      "EvaluatorHoldout: Processed 5007 ( 100.00% ) in 30.69 sec. Users per second: 163\n",
      "SearchBayesianSkopt: Best config evaluated with evaluator_test. Config: {'w_slim_bpr': 188} - results:\n",
      "CUTOFF: 10 - ROC_AUC: 0.1548358, PRECISION: 0.0320951, PRECISION_RECALL_MIN_DEN: 0.1238513, RECALL: 0.1211790, MAP: 0.0538070, MRR: 0.1110595, NDCG: 0.0832331, F1: 0.0507489, HIT_RATE: 0.3209507, ARHR: 0.1250212, NOVELTY: 0.0049135, AVERAGE_POPULARITY: 0.0854501, DIVERSITY_MEAN_INTER_LIST: 0.9916080, DIVERSITY_HERFINDAHL: 0.9991410, COVERAGE_ITEM: 0.3786718, COVERAGE_ITEM_CORRECT: 0.0398460, COVERAGE_USER: 0.6300491, COVERAGE_USER_CORRECT: 0.1577954, DIVERSITY_GINI: 0.1325617, SHANNON_ENTROPY: 11.7725802, \n",
      "\n",
      "\n",
      "Iteration No: 5 ended. Evaluation done at random point.\n",
      "Time taken: 60.6193\n",
      "Function value obtained: -0.0556\n",
      "Current minimum: -0.0556\n",
      "Iteration No: 6 started. Evaluating function at random point.\n",
      "SearchBayesianSkopt: Testing config: {'w_slim_bpr': 510}\n",
      "EvaluatorHoldout: Processed 4643 ( 100.00% ) in 30.19 sec. Users per second: 154\n",
      "SearchBayesianSkopt: Config 5 is suboptimal. Config: {'w_slim_bpr': 510} - results: ROC_AUC: 0.1427398, PRECISION: 0.0281499, PRECISION_RECALL_MIN_DEN: 0.1210572, RECALL: 0.1188795, MAP: 0.0529149, MRR: 0.0988207, NDCG: 0.0796201, F1: 0.0455208, HIT_RATE: 0.2814990, ARHR: 0.1086841, NOVELTY: 0.0048687, AVERAGE_POPULARITY: 0.0975450, DIVERSITY_MEAN_INTER_LIST: 0.9885041, DIVERSITY_HERFINDAHL: 0.9988291, COVERAGE_ITEM: 0.3668912, COVERAGE_ITEM_CORRECT: 0.0317613, COVERAGE_USER: 0.5842456, COVERAGE_USER_CORRECT: 0.1340128, DIVERSITY_GINI: 0.1262709, SHANNON_ENTROPY: 11.5720525, \n",
      "\n",
      "Iteration No: 6 ended. Evaluation done at random point.\n",
      "Time taken: 30.2326\n",
      "Function value obtained: -0.0529\n",
      "Current minimum: -0.0556\n",
      "Iteration No: 7 started. Evaluating function at random point.\n",
      "SearchBayesianSkopt: Testing config: {'w_slim_bpr': 1302}\n",
      "EvaluatorHoldout: Processed 4643 ( 100.00% ) in 29.45 sec. Users per second: 158\n",
      "SearchBayesianSkopt: Config 6 is suboptimal. Config: {'w_slim_bpr': 1302} - results: ROC_AUC: 0.1329488, PRECISION: 0.0258669, PRECISION_RECALL_MIN_DEN: 0.1115204, RECALL: 0.1095702, MAP: 0.0486540, MRR: 0.0917288, NDCG: 0.0733933, F1: 0.0418532, HIT_RATE: 0.2586690, ARHR: 0.1001414, NOVELTY: 0.0048409, AVERAGE_POPULARITY: 0.1074010, DIVERSITY_MEAN_INTER_LIST: 0.9852922, DIVERSITY_HERFINDAHL: 0.9985080, COVERAGE_ITEM: 0.3651588, COVERAGE_ITEM_CORRECT: 0.0278345, COVERAGE_USER: 0.5842456, COVERAGE_USER_CORRECT: 0.1250786, DIVERSITY_GINI: 0.1225654, SHANNON_ENTROPY: 11.4161956, \n"
     ]
    },
    {
     "name": "stdout",
     "output_type": "stream",
     "text": [
      "\n",
      "Iteration No: 7 ended. Evaluation done at random point.\n",
      "Time taken: 29.5197\n",
      "Function value obtained: -0.0487\n",
      "Current minimum: -0.0556\n",
      "Iteration No: 8 started. Evaluating function at random point.\n",
      "SearchBayesianSkopt: Testing config: {'w_slim_bpr': 271}\n",
      "EvaluatorHoldout: Processed 4643 ( 100.00% ) in 29.89 sec. Users per second: 155\n",
      "SearchBayesianSkopt: Config 7 is suboptimal. Config: {'w_slim_bpr': 271} - results: ROC_AUC: 0.1457475, PRECISION: 0.0289899, PRECISION_RECALL_MIN_DEN: 0.1235130, RECALL: 0.1213570, MAP: 0.0546260, MRR: 0.1017781, NDCG: 0.0819801, F1: 0.0468001, HIT_RATE: 0.2898988, ARHR: 0.1120798, NOVELTY: 0.0048978, AVERAGE_POPULARITY: 0.0898318, DIVERSITY_MEAN_INTER_LIST: 0.9906034, DIVERSITY_HERFINDAHL: 0.9990390, COVERAGE_ITEM: 0.3671992, COVERAGE_ITEM_CORRECT: 0.0337247, COVERAGE_USER: 0.5842456, COVERAGE_USER_CORRECT: 0.1374103, DIVERSITY_GINI: 0.1291202, SHANNON_ENTROPY: 11.6920757, \n",
      "\n",
      "Iteration No: 8 ended. Evaluation done at random point.\n",
      "Time taken: 29.9325\n",
      "Function value obtained: -0.0546\n",
      "Current minimum: -0.0556\n",
      "Iteration No: 9 started. Evaluating function at random point.\n",
      "SearchBayesianSkopt: Testing config: {'w_slim_bpr': 762}\n",
      "EvaluatorHoldout: Processed 4643 ( 100.00% ) in 30.03 sec. Users per second: 155\n",
      "SearchBayesianSkopt: Config 8 is suboptimal. Config: {'w_slim_bpr': 762} - results: ROC_AUC: 0.1396960, PRECISION: 0.0273530, PRECISION_RECALL_MIN_DEN: 0.1180317, RECALL: 0.1159397, MAP: 0.0509764, MRR: 0.0953953, NDCG: 0.0771136, F1: 0.0442632, HIT_RATE: 0.2735300, ARHR: 0.1047586, NOVELTY: 0.0048559, AVERAGE_POPULARITY: 0.1020805, DIVERSITY_MEAN_INTER_LIST: 0.9870929, DIVERSITY_HERFINDAHL: 0.9986880, COVERAGE_ITEM: 0.3674687, COVERAGE_ITEM_CORRECT: 0.0305294, COVERAGE_USER: 0.5842456, COVERAGE_USER_CORRECT: 0.1317478, DIVERSITY_GINI: 0.1250180, SHANNON_ENTROPY: 11.5031398, \n",
      "\n",
      "Iteration No: 9 ended. Evaluation done at random point.\n",
      "Time taken: 30.0834\n",
      "Function value obtained: -0.0510\n",
      "Current minimum: -0.0556\n",
      "Iteration No: 10 started. Evaluating function at random point.\n",
      "SearchBayesianSkopt: Testing config: {'w_slim_bpr': 1687}\n",
      "EvaluatorHoldout: Processed 4643 ( 100.00% ) in 29.17 sec. Users per second: 159\n",
      "SearchBayesianSkopt: Config 9 is suboptimal. Config: {'w_slim_bpr': 1687} - results: ROC_AUC: 0.1293432, PRECISION: 0.0250915, PRECISION_RECALL_MIN_DEN: 0.1076882, RECALL: 0.1058209, MAP: 0.0471974, MRR: 0.0892762, NDCG: 0.0711576, F1: 0.0405647, HIT_RATE: 0.2509154, ARHR: 0.0972858, NOVELTY: 0.0048392, AVERAGE_POPULARITY: 0.1089352, DIVERSITY_MEAN_INTER_LIST: 0.9847005, DIVERSITY_HERFINDAHL: 0.9984488, COVERAGE_ITEM: 0.3641963, COVERAGE_ITEM_CORRECT: 0.0264100, COVERAGE_USER: 0.5842456, COVERAGE_USER_CORRECT: 0.1216811, DIVERSITY_GINI: 0.1216949, SHANNON_ENTROPY: 11.3871360, \n",
      "\n",
      "Iteration No: 10 ended. Evaluation done at random point.\n",
      "Time taken: 29.2083\n",
      "Function value obtained: -0.0472\n",
      "Current minimum: -0.0556\n",
      "Iteration No: 11 started. Evaluating function at random point.\n",
      "SearchBayesianSkopt: Testing config: {'w_slim_bpr': 184}\n",
      "EvaluatorHoldout: Processed 4643 ( 100.00% ) in 28.87 sec. Users per second: 161\n",
      "SearchBayesianSkopt: New best config found. Config 10: {'w_slim_bpr': 184} - results: ROC_AUC: 0.1461044, PRECISION: 0.0291837, PRECISION_RECALL_MIN_DEN: 0.1251748, RECALL: 0.1230773, MAP: 0.0556032, MRR: 0.1031394, NDCG: 0.0831873, F1: 0.0471802, HIT_RATE: 0.2918372, ARHR: 0.1133645, NOVELTY: 0.0049127, AVERAGE_POPULARITY: 0.0858478, DIVERSITY_MEAN_INTER_LIST: 0.9915251, DIVERSITY_HERFINDAHL: 0.9991312, COVERAGE_ITEM: 0.3670837, COVERAGE_ITEM_CORRECT: 0.0346102, COVERAGE_USER: 0.5842456, COVERAGE_USER_CORRECT: 0.1379137, DIVERSITY_GINI: 0.1308396, SHANNON_ENTROPY: 11.7534885, \n",
      "\n",
      "EvaluatorHoldout: Processed 5000 ( 99.86% ) in 30.82 sec. Users per second: 162\n",
      "EvaluatorHoldout: Processed 5007 ( 100.00% ) in 30.90 sec. Users per second: 162\n",
      "SearchBayesianSkopt: Best config evaluated with evaluator_test. Config: {'w_slim_bpr': 184} - results:\n",
      "CUTOFF: 10 - ROC_AUC: 0.1550555, PRECISION: 0.0320751, PRECISION_RECALL_MIN_DEN: 0.1238313, RECALL: 0.1211699, MAP: 0.0536476, MRR: 0.1107904, NDCG: 0.0830993, F1: 0.0507232, HIT_RATE: 0.3207509, ARHR: 0.1247552, NOVELTY: 0.0049143, AVERAGE_POPULARITY: 0.0852465, DIVERSITY_MEAN_INTER_LIST: 0.9916516, DIVERSITY_HERFINDAHL: 0.9991454, COVERAGE_ITEM: 0.3787103, COVERAGE_ITEM_CORRECT: 0.0397690, COVERAGE_USER: 0.6300491, COVERAGE_USER_CORRECT: 0.1577954, DIVERSITY_GINI: 0.1326335, SHANNON_ENTROPY: 11.7757953, \n",
      "\n",
      "\n",
      "Iteration No: 11 ended. Evaluation done at random point.\n",
      "Time taken: 59.8220\n",
      "Function value obtained: -0.0556\n",
      "Current minimum: -0.0556\n",
      "Iteration No: 12 started. Evaluating function at random point.\n",
      "SearchBayesianSkopt: Testing config: {'w_slim_bpr': 1979}\n",
      "EvaluatorHoldout: Processed 4643 ( 100.00% ) in 29.64 sec. Users per second: 157\n",
      "SearchBayesianSkopt: Config 11 is suboptimal. Config: {'w_slim_bpr': 1979} - results: ROC_AUC: 0.1276239, PRECISION: 0.0247039, PRECISION_RECALL_MIN_DEN: 0.1060711, RECALL: 0.1041943, MAP: 0.0465297, MRR: 0.0882071, NDCG: 0.0701362, F1: 0.0399385, HIT_RATE: 0.2470386, ARHR: 0.0958482, NOVELTY: 0.0048380, AVERAGE_POPULARITY: 0.1099412, DIVERSITY_MEAN_INTER_LIST: 0.9843158, DIVERSITY_HERFINDAHL: 0.9984104, COVERAGE_ITEM: 0.3643888, COVERAGE_ITEM_CORRECT: 0.0257555, COVERAGE_USER: 0.5842456, COVERAGE_USER_CORRECT: 0.1204228, DIVERSITY_GINI: 0.1214722, SHANNON_ENTROPY: 11.3710644, \n",
      "\n",
      "Iteration No: 12 ended. Evaluation done at random point.\n",
      "Time taken: 29.6771\n",
      "Function value obtained: -0.0465\n",
      "Current minimum: -0.0556\n",
      "Iteration No: 13 started. Evaluating function at random point.\n",
      "SearchBayesianSkopt: Testing config: {'w_slim_bpr': 600}\n",
      "EvaluatorHoldout: Processed 4643 ( 100.00% ) in 32.44 sec. Users per second: 143\n",
      "SearchBayesianSkopt: Config 12 is suboptimal. Config: {'w_slim_bpr': 600} - results: ROC_AUC: 0.1411623, PRECISION: 0.0281499, PRECISION_RECALL_MIN_DEN: 0.1208681, RECALL: 0.1187172, MAP: 0.0518885, MRR: 0.0971685, NDCG: 0.0787233, F1: 0.0455089, HIT_RATE: 0.2814990, ARHR: 0.1069826, NOVELTY: 0.0048633, AVERAGE_POPULARITY: 0.0994229, DIVERSITY_MEAN_INTER_LIST: 0.9879264, DIVERSITY_HERFINDAHL: 0.9987714, COVERAGE_ITEM: 0.3676997, COVERAGE_ITEM_CORRECT: 0.0315303, COVERAGE_USER: 0.5842456, COVERAGE_USER_CORRECT: 0.1342645, DIVERSITY_GINI: 0.1260213, SHANNON_ENTROPY: 11.5444018, \n",
      "\n",
      "Iteration No: 13 ended. Evaluation done at random point.\n",
      "Time taken: 32.4868\n",
      "Function value obtained: -0.0519\n",
      "Current minimum: -0.0556\n",
      "Iteration No: 14 started. Evaluating function at random point.\n",
      "SearchBayesianSkopt: Testing config: {'w_slim_bpr': 962}\n",
      "EvaluatorHoldout: Processed 4643 ( 100.00% ) in 30.62 sec. Users per second: 152\n",
      "SearchBayesianSkopt: Config 13 is suboptimal. Config: {'w_slim_bpr': 962} - results: ROC_AUC: 0.1366269, PRECISION: 0.0267930, PRECISION_RECALL_MIN_DEN: 0.1158238, RECALL: 0.1137771, MAP: 0.0499767, MRR: 0.0941814, NDCG: 0.0756640, F1: 0.0433724, HIT_RATE: 0.2679302, ARHR: 0.1030191, NOVELTY: 0.0048487, AVERAGE_POPULARITY: 0.1044921, DIVERSITY_MEAN_INTER_LIST: 0.9862930, DIVERSITY_HERFINDAHL: 0.9986081, COVERAGE_ITEM: 0.3659288, COVERAGE_ITEM_CORRECT: 0.0292974, COVERAGE_USER: 0.5842456, COVERAGE_USER_CORRECT: 0.1294828, DIVERSITY_GINI: 0.1236696, SHANNON_ENTROPY: 11.4613945, \n",
      "\n",
      "Iteration No: 14 ended. Evaluation done at random point.\n",
      "Time taken: 30.6707\n",
      "Function value obtained: -0.0500\n",
      "Current minimum: -0.0556\n",
      "Iteration No: 15 started. Evaluating function at random point.\n",
      "SearchBayesianSkopt: Testing config: {'w_slim_bpr': 1181}\n",
      "EvaluatorHoldout: Processed 4643 ( 100.00% ) in 29.26 sec. Users per second: 159\n",
      "SearchBayesianSkopt: Config 14 is suboptimal. Config: {'w_slim_bpr': 1181} - results: ROC_AUC: 0.1338812, PRECISION: 0.0262330, PRECISION_RECALL_MIN_DEN: 0.1133936, RECALL: 0.1114167, MAP: 0.0490157, MRR: 0.0922917, NDCG: 0.0741618, F1: 0.0424672, HIT_RATE: 0.2623304, ARHR: 0.1008983, NOVELTY: 0.0048428, AVERAGE_POPULARITY: 0.1065205, DIVERSITY_MEAN_INTER_LIST: 0.9856006, DIVERSITY_HERFINDAHL: 0.9985388, COVERAGE_ITEM: 0.3650433, COVERAGE_ITEM_CORRECT: 0.0285274, COVERAGE_USER: 0.5842456, COVERAGE_USER_CORRECT: 0.1265886, DIVERSITY_GINI: 0.1228557, SHANNON_ENTROPY: 11.4305054, \n",
      "\n"
     ]
    },
    {
     "name": "stdout",
     "output_type": "stream",
     "text": [
      "Iteration No: 15 ended. Evaluation done at random point.\n",
      "Time taken: 29.3032\n",
      "Function value obtained: -0.0490\n",
      "Current minimum: -0.0556\n",
      "Iteration No: 16 started. Evaluating function at random point.\n",
      "SearchBayesianSkopt: Testing config: {'w_slim_bpr': 1553}\n",
      "EvaluatorHoldout: Processed 4643 ( 100.00% ) in 29.28 sec. Users per second: 159\n",
      "SearchBayesianSkopt: Config 15 is suboptimal. Config: {'w_slim_bpr': 1553} - results: ROC_AUC: 0.1305171, PRECISION: 0.0254577, PRECISION_RECALL_MIN_DEN: 0.1092198, RECALL: 0.1073258, MAP: 0.0477533, MRR: 0.0903131, NDCG: 0.0720612, F1: 0.0411537, HIT_RATE: 0.2545768, ARHR: 0.0984997, NOVELTY: 0.0048398, AVERAGE_POPULARITY: 0.1084439, DIVERSITY_MEAN_INTER_LIST: 0.9848814, DIVERSITY_HERFINDAHL: 0.9984669, COVERAGE_ITEM: 0.3645428, COVERAGE_ITEM_CORRECT: 0.0270260, COVERAGE_USER: 0.5842456, COVERAGE_USER_CORRECT: 0.1234428, DIVERSITY_GINI: 0.1219132, SHANNON_ENTROPY: 11.3949071, \n",
      "\n",
      "Iteration No: 16 ended. Evaluation done at random point.\n",
      "Time taken: 29.3239\n",
      "Function value obtained: -0.0478\n",
      "Current minimum: -0.0556\n",
      "Iteration No: 17 started. Evaluating function at random point.\n",
      "SearchBayesianSkopt: Testing config: {'w_slim_bpr': 1013}\n",
      "EvaluatorHoldout: Processed 4643 ( 100.00% ) in 29.24 sec. Users per second: 159\n",
      "SearchBayesianSkopt: Config 16 is suboptimal. Config: {'w_slim_bpr': 1013} - results: ROC_AUC: 0.1359696, PRECISION: 0.0266638, PRECISION_RECALL_MIN_DEN: 0.1152100, RECALL: 0.1131879, MAP: 0.0496015, MRR: 0.0932315, NDCG: 0.0751498, F1: 0.0431603, HIT_RATE: 0.2666379, ARHR: 0.1020121, NOVELTY: 0.0048477, AVERAGE_POPULARITY: 0.1049656, DIVERSITY_MEAN_INTER_LIST: 0.9861324, DIVERSITY_HERFINDAHL: 0.9985920, COVERAGE_ITEM: 0.3655438, COVERAGE_ITEM_CORRECT: 0.0291434, COVERAGE_USER: 0.5842456, COVERAGE_USER_CORRECT: 0.1289795, DIVERSITY_GINI: 0.1235426, SHANNON_ENTROPY: 11.4551366, \n",
      "\n",
      "Iteration No: 17 ended. Evaluation done at random point.\n",
      "Time taken: 29.2809\n",
      "Function value obtained: -0.0496\n",
      "Current minimum: -0.0556\n",
      "Iteration No: 18 started. Evaluating function at random point.\n",
      "SearchBayesianSkopt: Testing config: {'w_slim_bpr': 417}\n",
      "EvaluatorHoldout: Processed 4643 ( 100.00% ) in 29.64 sec. Users per second: 157\n",
      "SearchBayesianSkopt: Config 17 is suboptimal. Config: {'w_slim_bpr': 417} - results: ROC_AUC: 0.1439852, PRECISION: 0.0283007, PRECISION_RECALL_MIN_DEN: 0.1209339, RECALL: 0.1187913, MAP: 0.0534553, MRR: 0.0999185, NDCG: 0.0802085, F1: 0.0457112, HIT_RATE: 0.2830067, ARHR: 0.1098363, NOVELTY: 0.0048772, AVERAGE_POPULARITY: 0.0950575, DIVERSITY_MEAN_INTER_LIST: 0.9892333, DIVERSITY_HERFINDAHL: 0.9989020, COVERAGE_ITEM: 0.3666987, COVERAGE_ITEM_CORRECT: 0.0324928, COVERAGE_USER: 0.5842456, COVERAGE_USER_CORRECT: 0.1343903, DIVERSITY_GINI: 0.1269490, SHANNON_ENTROPY: 11.6093788, \n",
      "\n",
      "Iteration No: 18 ended. Evaluation done at random point.\n",
      "Time taken: 29.6818\n",
      "Function value obtained: -0.0535\n",
      "Current minimum: -0.0556\n",
      "Iteration No: 19 started. Evaluating function at random point.\n",
      "SearchBayesianSkopt: Testing config: {'w_slim_bpr': 1174}\n",
      "EvaluatorHoldout: Processed 4643 ( 100.00% ) in 32.03 sec. Users per second: 145\n",
      "SearchBayesianSkopt: Config 18 is suboptimal. Config: {'w_slim_bpr': 1174} - results: ROC_AUC: 0.1339026, PRECISION: 0.0262115, PRECISION_RECALL_MIN_DEN: 0.1133721, RECALL: 0.1113952, MAP: 0.0490076, MRR: 0.0923106, NDCG: 0.0741477, F1: 0.0424374, HIT_RATE: 0.2621150, ARHR: 0.1008871, NOVELTY: 0.0048430, AVERAGE_POPULARITY: 0.1064984, DIVERSITY_MEAN_INTER_LIST: 0.9856113, DIVERSITY_HERFINDAHL: 0.9985399, COVERAGE_ITEM: 0.3651203, COVERAGE_ITEM_CORRECT: 0.0284889, COVERAGE_USER: 0.5842456, COVERAGE_USER_CORRECT: 0.1265886, DIVERSITY_GINI: 0.1229034, SHANNON_ENTROPY: 11.4312513, \n",
      "\n",
      "Iteration No: 19 ended. Evaluation done at random point.\n",
      "Time taken: 32.0771\n",
      "Function value obtained: -0.0490\n",
      "Current minimum: -0.0556\n",
      "Iteration No: 20 started. Evaluating function at random point.\n",
      "SearchBayesianSkopt: Testing config: {'w_slim_bpr': 274}\n",
      "EvaluatorHoldout: Processed 4643 ( 100.00% ) in 30.31 sec. Users per second: 153\n",
      "SearchBayesianSkopt: Config 19 is suboptimal. Config: {'w_slim_bpr': 274} - results: ROC_AUC: 0.1457212, PRECISION: 0.0289683, PRECISION_RECALL_MIN_DEN: 0.1234377, RECALL: 0.1212990, MAP: 0.0547136, MRR: 0.1019013, NDCG: 0.0820440, F1: 0.0467677, HIT_RATE: 0.2896834, ARHR: 0.1121839, NOVELTY: 0.0048973, AVERAGE_POPULARITY: 0.0899528, DIVERSITY_MEAN_INTER_LIST: 0.9905720, DIVERSITY_HERFINDAHL: 0.9990359, COVERAGE_ITEM: 0.3671607, COVERAGE_ITEM_CORRECT: 0.0337247, COVERAGE_USER: 0.5842456, COVERAGE_USER_CORRECT: 0.1374103, DIVERSITY_GINI: 0.1290547, SHANNON_ENTROPY: 11.6899004, \n",
      "\n",
      "Iteration No: 20 ended. Evaluation done at random point.\n",
      "Time taken: 30.3519\n",
      "Function value obtained: -0.0547\n",
      "Current minimum: -0.0556\n",
      "Iteration No: 21 started. Evaluating function at random point.\n",
      "SearchBayesianSkopt: Testing config: {'w_slim_bpr': 611}\n",
      "EvaluatorHoldout: Processed 4643 ( 100.00% ) in 29.88 sec. Users per second: 155\n",
      "SearchBayesianSkopt: Config 20 is suboptimal. Config: {'w_slim_bpr': 611} - results: ROC_AUC: 0.1408153, PRECISION: 0.0280853, PRECISION_RECALL_MIN_DEN: 0.1206347, RECALL: 0.1184762, MAP: 0.0519099, MRR: 0.0971360, NDCG: 0.0786448, F1: 0.0454067, HIT_RATE: 0.2808529, ARHR: 0.1069722, NOVELTY: 0.0048624, AVERAGE_POPULARITY: 0.0996351, DIVERSITY_MEAN_INTER_LIST: 0.9878563, DIVERSITY_HERFINDAHL: 0.9987644, COVERAGE_ITEM: 0.3671222, COVERAGE_ITEM_CORRECT: 0.0314148, COVERAGE_USER: 0.5842456, COVERAGE_USER_CORRECT: 0.1337612, DIVERSITY_GINI: 0.1257679, SHANNON_ENTROPY: 11.5392618, \n",
      "\n",
      "Iteration No: 21 ended. Evaluation done at random point.\n",
      "Time taken: 29.9275\n",
      "Function value obtained: -0.0519\n",
      "Current minimum: -0.0556\n",
      "Iteration No: 22 started. Evaluating function at random point.\n",
      "SearchBayesianSkopt: Testing config: {'w_slim_bpr': 154}\n",
      "EvaluatorHoldout: Processed 4643 ( 100.00% ) in 29.57 sec. Users per second: 157\n",
      "SearchBayesianSkopt: New best config found. Config 21: {'w_slim_bpr': 154} - results: ROC_AUC: 0.1460504, PRECISION: 0.0294852, PRECISION_RECALL_MIN_DEN: 0.1259366, RECALL: 0.1238072, MAP: 0.0557828, MRR: 0.1035988, NDCG: 0.0835824, F1: 0.0476277, HIT_RATE: 0.2948525, ARHR: 0.1138835, NOVELTY: 0.0049192, AVERAGE_POPULARITY: 0.0840501, DIVERSITY_MEAN_INTER_LIST: 0.9919137, DIVERSITY_HERFINDAHL: 0.9991700, COVERAGE_ITEM: 0.3657748, COVERAGE_ITEM_CORRECT: 0.0349567, COVERAGE_USER: 0.5842456, COVERAGE_USER_CORRECT: 0.1389203, DIVERSITY_GINI: 0.1310594, SHANNON_ENTROPY: 11.7751736, \n",
      "\n",
      "EvaluatorHoldout: Processed 5000 ( 99.86% ) in 31.86 sec. Users per second: 157\n",
      "EvaluatorHoldout: Processed 5007 ( 100.00% ) in 31.92 sec. Users per second: 157\n",
      "SearchBayesianSkopt: Best config evaluated with evaluator_test. Config: {'w_slim_bpr': 154} - results:\n",
      "CUTOFF: 10 - ROC_AUC: 0.1561609, PRECISION: 0.0320152, PRECISION_RECALL_MIN_DEN: 0.1238591, RECALL: 0.1212141, MAP: 0.0540377, MRR: 0.1113952, NDCG: 0.0834076, F1: 0.0506521, HIT_RATE: 0.3201518, ARHR: 0.1253669, NOVELTY: 0.0049204, AVERAGE_POPULARITY: 0.0835414, DIVERSITY_MEAN_INTER_LIST: 0.9920162, DIVERSITY_HERFINDAHL: 0.9991818, COVERAGE_ITEM: 0.3780943, COVERAGE_ITEM_CORRECT: 0.0401155, COVERAGE_USER: 0.6300491, COVERAGE_USER_CORRECT: 0.1576696, DIVERSITY_GINI: 0.1330405, SHANNON_ENTROPY: 11.7980426, \n",
      "\n",
      "\n",
      "Iteration No: 22 ended. Evaluation done at random point.\n",
      "Time taken: 61.5429\n",
      "Function value obtained: -0.0558\n",
      "Current minimum: -0.0558\n",
      "Iteration No: 23 started. Evaluating function at random point.\n",
      "SearchBayesianSkopt: Testing config: {'w_slim_bpr': 1146}\n",
      "EvaluatorHoldout: Processed 4643 ( 100.00% ) in 29.49 sec. Users per second: 157\n",
      "SearchBayesianSkopt: Config 22 is suboptimal. Config: {'w_slim_bpr': 1146} - results: ROC_AUC: 0.1344011, PRECISION: 0.0262977, PRECISION_RECALL_MIN_DEN: 0.1139320, RECALL: 0.1119711, MAP: 0.0493439, MRR: 0.0926695, NDCG: 0.0745598, F1: 0.0425921, HIT_RATE: 0.2629765, ARHR: 0.1012574, NOVELTY: 0.0048442, AVERAGE_POPULARITY: 0.1061426, DIVERSITY_MEAN_INTER_LIST: 0.9857215, DIVERSITY_HERFINDAHL: 0.9985509, COVERAGE_ITEM: 0.3651973, COVERAGE_ITEM_CORRECT: 0.0286429, COVERAGE_USER: 0.5842456, COVERAGE_USER_CORRECT: 0.1270920, DIVERSITY_GINI: 0.1229909, SHANNON_ENTROPY: 11.4359872, \n",
      "\n"
     ]
    },
    {
     "name": "stdout",
     "output_type": "stream",
     "text": [
      "Iteration No: 23 ended. Evaluation done at random point.\n",
      "Time taken: 29.5467\n",
      "Function value obtained: -0.0493\n",
      "Current minimum: -0.0558\n",
      "Iteration No: 24 started. Evaluating function at random point.\n",
      "SearchBayesianSkopt: Testing config: {'w_slim_bpr': 805}\n",
      "EvaluatorHoldout: Processed 4643 ( 100.00% ) in 28.73 sec. Users per second: 162\n",
      "SearchBayesianSkopt: Config 23 is suboptimal. Config: {'w_slim_bpr': 805} - results: ROC_AUC: 0.1387378, PRECISION: 0.0271376, PRECISION_RECALL_MIN_DEN: 0.1170607, RECALL: 0.1149875, MAP: 0.0507379, MRR: 0.0953999, NDCG: 0.0766730, F1: 0.0439118, HIT_RATE: 0.2713763, ARHR: 0.1046700, NOVELTY: 0.0048540, AVERAGE_POPULARITY: 0.1025935, DIVERSITY_MEAN_INTER_LIST: 0.9869270, DIVERSITY_HERFINDAHL: 0.9986714, COVERAGE_ITEM: 0.3672377, COVERAGE_ITEM_CORRECT: 0.0300674, COVERAGE_USER: 0.5842456, COVERAGE_USER_CORRECT: 0.1303637, DIVERSITY_GINI: 0.1247697, SHANNON_ENTROPY: 11.4940405, \n",
      "\n",
      "Iteration No: 24 ended. Evaluation done at random point.\n",
      "Time taken: 28.7819\n",
      "Function value obtained: -0.0507\n",
      "Current minimum: -0.0558\n",
      "Iteration No: 25 started. Evaluating function at random point.\n",
      "SearchBayesianSkopt: Testing config: {'w_slim_bpr': 913}\n",
      "EvaluatorHoldout: Processed 4643 ( 100.00% ) in 28.64 sec. Users per second: 162\n",
      "SearchBayesianSkopt: Config 24 is suboptimal. Config: {'w_slim_bpr': 913} - results: ROC_AUC: 0.1373007, PRECISION: 0.0268146, PRECISION_RECALL_MIN_DEN: 0.1158968, RECALL: 0.1138489, MAP: 0.0500068, MRR: 0.0942450, NDCG: 0.0757292, F1: 0.0434058, HIT_RATE: 0.2681456, ARHR: 0.1031039, NOVELTY: 0.0048505, AVERAGE_POPULARITY: 0.1039615, DIVERSITY_MEAN_INTER_LIST: 0.9864821, DIVERSITY_HERFINDAHL: 0.9986270, COVERAGE_ITEM: 0.3670837, COVERAGE_ITEM_CORRECT: 0.0294129, COVERAGE_USER: 0.5842456, COVERAGE_USER_CORRECT: 0.1296087, DIVERSITY_GINI: 0.1241529, SHANNON_ENTROPY: 11.4717191, \n",
      "\n",
      "Iteration No: 25 ended. Evaluation done at random point.\n",
      "Time taken: 28.6962\n",
      "Function value obtained: -0.0500\n",
      "Current minimum: -0.0558\n",
      "Iteration No: 26 started. Evaluating function at random point.\n",
      "SearchBayesianSkopt: Testing config: {'w_slim_bpr': 531}\n",
      "EvaluatorHoldout: Processed 4643 ( 100.00% ) in 30.81 sec. Users per second: 151\n",
      "SearchBayesianSkopt: Config 25 is suboptimal. Config: {'w_slim_bpr': 531} - results: ROC_AUC: 0.1425355, PRECISION: 0.0279991, PRECISION_RECALL_MIN_DEN: 0.1206432, RECALL: 0.1184762, MAP: 0.0528463, MRR: 0.0986454, NDCG: 0.0794269, F1: 0.0452941, HIT_RATE: 0.2799914, ARHR: 0.1083733, NOVELTY: 0.0048672, AVERAGE_POPULARITY: 0.0980704, DIVERSITY_MEAN_INTER_LIST: 0.9883389, DIVERSITY_HERFINDAHL: 0.9988126, COVERAGE_ITEM: 0.3670452, COVERAGE_ITEM_CORRECT: 0.0316073, COVERAGE_USER: 0.5842456, COVERAGE_USER_CORRECT: 0.1337612, DIVERSITY_GINI: 0.1261342, SHANNON_ENTROPY: 11.5640919, \n",
      "\n",
      "Iteration No: 26 ended. Evaluation done at random point.\n",
      "Time taken: 30.8480\n",
      "Function value obtained: -0.0528\n",
      "Current minimum: -0.0558\n",
      "Iteration No: 27 started. Evaluating function at random point.\n",
      "SearchBayesianSkopt: Testing config: {'w_slim_bpr': 842}\n",
      "EvaluatorHoldout: Processed 4643 ( 100.00% ) in 29.27 sec. Users per second: 159\n",
      "SearchBayesianSkopt: Config 26 is suboptimal. Config: {'w_slim_bpr': 842} - results: ROC_AUC: 0.1381702, PRECISION: 0.0270946, PRECISION_RECALL_MIN_DEN: 0.1171125, RECALL: 0.1150322, MAP: 0.0506051, MRR: 0.0949823, NDCG: 0.0765169, F1: 0.0438587, HIT_RATE: 0.2709455, ARHR: 0.1040994, NOVELTY: 0.0048530, AVERAGE_POPULARITY: 0.1030035, DIVERSITY_MEAN_INTER_LIST: 0.9868079, DIVERSITY_HERFINDAHL: 0.9986595, COVERAGE_ITEM: 0.3670452, COVERAGE_ITEM_CORRECT: 0.0299519, COVERAGE_USER: 0.5842456, COVERAGE_USER_CORRECT: 0.1304895, DIVERSITY_GINI: 0.1245680, SHANNON_ENTROPY: 11.4873050, \n",
      "\n",
      "Iteration No: 27 ended. Evaluation done at random point.\n",
      "Time taken: 29.3191\n",
      "Function value obtained: -0.0506\n",
      "Current minimum: -0.0558\n",
      "Iteration No: 28 started. Evaluating function at random point.\n",
      "SearchBayesianSkopt: Testing config: {'w_slim_bpr': 530}\n",
      "EvaluatorHoldout: Processed 4643 ( 100.00% ) in 28.74 sec. Users per second: 162\n",
      "SearchBayesianSkopt: Config 27 is suboptimal. Config: {'w_slim_bpr': 530} - results: ROC_AUC: 0.1425802, PRECISION: 0.0279991, PRECISION_RECALL_MIN_DEN: 0.1206432, RECALL: 0.1184762, MAP: 0.0528521, MRR: 0.0986544, NDCG: 0.0794328, F1: 0.0452941, HIT_RATE: 0.2799914, ARHR: 0.1083865, NOVELTY: 0.0048671, AVERAGE_POPULARITY: 0.0980526, DIVERSITY_MEAN_INTER_LIST: 0.9883455, DIVERSITY_HERFINDAHL: 0.9988133, COVERAGE_ITEM: 0.3670837, COVERAGE_ITEM_CORRECT: 0.0316073, COVERAGE_USER: 0.5842456, COVERAGE_USER_CORRECT: 0.1337612, DIVERSITY_GINI: 0.1261546, SHANNON_ENTROPY: 11.5644191, \n",
      "\n",
      "Iteration No: 28 ended. Evaluation done at random point.\n",
      "Time taken: 28.7907\n",
      "Function value obtained: -0.0529\n",
      "Current minimum: -0.0558\n",
      "Iteration No: 29 started. Evaluating function at random point.\n",
      "SearchBayesianSkopt: Testing config: {'w_slim_bpr': 1966}\n",
      "EvaluatorHoldout: Processed 4643 ( 100.00% ) in 29.28 sec. Users per second: 159\n",
      "SearchBayesianSkopt: Config 28 is suboptimal. Config: {'w_slim_bpr': 1966} - results: ROC_AUC: 0.1277228, PRECISION: 0.0247469, PRECISION_RECALL_MIN_DEN: 0.1063295, RECALL: 0.1044528, MAP: 0.0465656, MRR: 0.0882759, NDCG: 0.0702320, F1: 0.0400138, HIT_RATE: 0.2474693, ARHR: 0.0959194, NOVELTY: 0.0048380, AVERAGE_POPULARITY: 0.1099414, DIVERSITY_MEAN_INTER_LIST: 0.9843158, DIVERSITY_HERFINDAHL: 0.9984104, COVERAGE_ITEM: 0.3643118, COVERAGE_ITEM_CORRECT: 0.0257940, COVERAGE_USER: 0.5842456, COVERAGE_USER_CORRECT: 0.1206745, DIVERSITY_GINI: 0.1214749, SHANNON_ENTROPY: 11.3712200, \n",
      "\n",
      "Iteration No: 29 ended. Evaluation done at random point.\n",
      "Time taken: 29.3265\n",
      "Function value obtained: -0.0466\n",
      "Current minimum: -0.0558\n",
      "Iteration No: 30 started. Evaluating function at random point.\n",
      "SearchBayesianSkopt: Testing config: {'w_slim_bpr': 852}\n",
      "EvaluatorHoldout: Processed 4643 ( 100.00% ) in 28.26 sec. Users per second: 164\n",
      "SearchBayesianSkopt: Config 29 is suboptimal. Config: {'w_slim_bpr': 852} - results: ROC_AUC: 0.1381255, PRECISION: 0.0271161, PRECISION_RECALL_MIN_DEN: 0.1171555, RECALL: 0.1150753, MAP: 0.0505216, MRR: 0.0949778, NDCG: 0.0764814, F1: 0.0438900, HIT_RATE: 0.2711609, ARHR: 0.1040345, NOVELTY: 0.0048526, AVERAGE_POPULARITY: 0.1031788, DIVERSITY_MEAN_INTER_LIST: 0.9867516, DIVERSITY_HERFINDAHL: 0.9986539, COVERAGE_ITEM: 0.3671992, COVERAGE_ITEM_CORRECT: 0.0299904, COVERAGE_USER: 0.5842456, COVERAGE_USER_CORRECT: 0.1307412, DIVERSITY_GINI: 0.1245601, SHANNON_ENTROPY: 11.4851010, \n",
      "\n",
      "Iteration No: 30 ended. Evaluation done at random point.\n",
      "Time taken: 28.3017\n",
      "Function value obtained: -0.0505\n",
      "Current minimum: -0.0558\n",
      "Iteration No: 31 started. Evaluating function at random point.\n",
      "SearchBayesianSkopt: Testing config: {'w_slim_bpr': 1001}\n",
      "EvaluatorHoldout: Processed 4643 ( 100.00% ) in 29.42 sec. Users per second: 158\n",
      "SearchBayesianSkopt: Config 30 is suboptimal. Config: {'w_slim_bpr': 1001} - results: ROC_AUC: 0.1362624, PRECISION: 0.0266638, PRECISION_RECALL_MIN_DEN: 0.1152100, RECALL: 0.1131879, MAP: 0.0496316, MRR: 0.0935551, NDCG: 0.0752090, F1: 0.0431603, HIT_RATE: 0.2666379, ARHR: 0.1023521, NOVELTY: 0.0048479, AVERAGE_POPULARITY: 0.1048087, DIVERSITY_MEAN_INTER_LIST: 0.9861834, DIVERSITY_HERFINDAHL: 0.9985971, COVERAGE_ITEM: 0.3656978, COVERAGE_ITEM_CORRECT: 0.0291434, COVERAGE_USER: 0.5842456, COVERAGE_USER_CORRECT: 0.1289795, DIVERSITY_GINI: 0.1235910, SHANNON_ENTROPY: 11.4569036, \n",
      "\n",
      "Iteration No: 31 ended. Evaluation done at random point.\n",
      "Time taken: 29.4777\n",
      "Function value obtained: -0.0496\n",
      "Current minimum: -0.0558\n",
      "Iteration No: 32 started. Evaluating function at random point.\n",
      "SearchBayesianSkopt: Testing config: {'w_slim_bpr': 1230}\n",
      "EvaluatorHoldout: Processed 4643 ( 100.00% ) in 30.01 sec. Users per second: 155\n",
      "SearchBayesianSkopt: Config 31 is suboptimal. Config: {'w_slim_bpr': 1230} - results: ROC_AUC: 0.1336379, PRECISION: 0.0261684, PRECISION_RECALL_MIN_DEN: 0.1127562, RECALL: 0.1107687, MAP: 0.0489498, MRR: 0.0921706, NDCG: 0.0739536, F1: 0.0423354, HIT_RATE: 0.2616843, ARHR: 0.1006997, NOVELTY: 0.0048424, AVERAGE_POPULARITY: 0.1068931, DIVERSITY_MEAN_INTER_LIST: 0.9854795, DIVERSITY_HERFINDAHL: 0.9985267, COVERAGE_ITEM: 0.3651203, COVERAGE_ITEM_CORRECT: 0.0283734, COVERAGE_USER: 0.5842456, COVERAGE_USER_CORRECT: 0.1264628, DIVERSITY_GINI: 0.1227931, SHANNON_ENTROPY: 11.4256361, \n"
     ]
    },
    {
     "name": "stdout",
     "output_type": "stream",
     "text": [
      "\n",
      "Iteration No: 32 ended. Evaluation done at random point.\n",
      "Time taken: 30.0545\n",
      "Function value obtained: -0.0489\n",
      "Current minimum: -0.0558\n",
      "Iteration No: 33 started. Evaluating function at random point.\n",
      "SearchBayesianSkopt: Testing config: {'w_slim_bpr': 1381}\n",
      "EvaluatorHoldout: Processed 4643 ( 100.00% ) in 28.84 sec. Users per second: 161\n",
      "SearchBayesianSkopt: Config 32 is suboptimal. Config: {'w_slim_bpr': 1381} - results: ROC_AUC: 0.1325166, PRECISION: 0.0256515, PRECISION_RECALL_MIN_DEN: 0.1104639, RECALL: 0.1085492, MAP: 0.0484909, MRR: 0.0914916, NDCG: 0.0730026, F1: 0.0414968, HIT_RATE: 0.2565152, ARHR: 0.0997998, NOVELTY: 0.0048405, AVERAGE_POPULARITY: 0.1077343, DIVERSITY_MEAN_INTER_LIST: 0.9851630, DIVERSITY_HERFINDAHL: 0.9984951, COVERAGE_ITEM: 0.3656208, COVERAGE_ITEM_CORRECT: 0.0274495, COVERAGE_USER: 0.5842456, COVERAGE_USER_CORRECT: 0.1243236, DIVERSITY_GINI: 0.1225117, SHANNON_ENTROPY: 11.4100146, \n",
      "\n",
      "Iteration No: 33 ended. Evaluation done at random point.\n",
      "Time taken: 28.8768\n",
      "Function value obtained: -0.0485\n",
      "Current minimum: -0.0558\n",
      "Iteration No: 34 started. Evaluating function at random point.\n",
      "SearchBayesianSkopt: Testing config: {'w_slim_bpr': 310}\n",
      "EvaluatorHoldout: Processed 4643 ( 100.00% ) in 29.77 sec. Users per second: 156\n",
      "SearchBayesianSkopt: Config 33 is suboptimal. Config: {'w_slim_bpr': 310} - results: ROC_AUC: 0.1450272, PRECISION: 0.0288391, PRECISION_RECALL_MIN_DEN: 0.1227090, RECALL: 0.1205287, MAP: 0.0544601, MRR: 0.1012676, NDCG: 0.0815863, F1: 0.0465420, HIT_RATE: 0.2883911, ARHR: 0.1114100, NOVELTY: 0.0048917, AVERAGE_POPULARITY: 0.0914862, DIVERSITY_MEAN_INTER_LIST: 0.9902065, DIVERSITY_HERFINDAHL: 0.9989993, COVERAGE_ITEM: 0.3667372, COVERAGE_ITEM_CORRECT: 0.0334552, COVERAGE_USER: 0.5842456, COVERAGE_USER_CORRECT: 0.1367812, DIVERSITY_GINI: 0.1284983, SHANNON_ENTROPY: 11.6685106, \n",
      "\n",
      "Iteration No: 34 ended. Evaluation done at random point.\n",
      "Time taken: 29.8160\n",
      "Function value obtained: -0.0545\n",
      "Current minimum: -0.0558\n",
      "Iteration No: 35 started. Evaluating function at random point.\n",
      "SearchBayesianSkopt: Testing config: {'w_slim_bpr': 1050}\n",
      "EvaluatorHoldout: Processed 4643 ( 100.00% ) in 31.17 sec. Users per second: 149\n",
      "SearchBayesianSkopt: Config 34 is suboptimal. Config: {'w_slim_bpr': 1050} - results: ROC_AUC: 0.1358226, PRECISION: 0.0265561, PRECISION_RECALL_MIN_DEN: 0.1146482, RECALL: 0.1126514, MAP: 0.0496072, MRR: 0.0931876, NDCG: 0.0750240, F1: 0.0429802, HIT_RATE: 0.2655611, ARHR: 0.1019382, NOVELTY: 0.0048460, AVERAGE_POPULARITY: 0.1054393, DIVERSITY_MEAN_INTER_LIST: 0.9859745, DIVERSITY_HERFINDAHL: 0.9985762, COVERAGE_ITEM: 0.3653898, COVERAGE_ITEM_CORRECT: 0.0289124, COVERAGE_USER: 0.5842456, COVERAGE_USER_CORRECT: 0.1283503, DIVERSITY_GINI: 0.1232922, SHANNON_ENTROPY: 11.4479643, \n",
      "\n",
      "Iteration No: 35 ended. Evaluation done at random point.\n",
      "Time taken: 31.2290\n",
      "Function value obtained: -0.0496\n",
      "Current minimum: -0.0558\n",
      "Iteration No: 36 started. Evaluating function at random point.\n",
      "SearchBayesianSkopt: Testing config: {'w_slim_bpr': 1433}\n",
      "EvaluatorHoldout: Processed 4643 ( 100.00% ) in 30.74 sec. Users per second: 151\n",
      "SearchBayesianSkopt: Config 35 is suboptimal. Config: {'w_slim_bpr': 1433} - results: ROC_AUC: 0.1318987, PRECISION: 0.0255223, PRECISION_RECALL_MIN_DEN: 0.1101435, RECALL: 0.1082516, MAP: 0.0482990, MRR: 0.0911094, NDCG: 0.0727346, F1: 0.0413060, HIT_RATE: 0.2552229, ARHR: 0.0993366, NOVELTY: 0.0048403, AVERAGE_POPULARITY: 0.1079324, DIVERSITY_MEAN_INTER_LIST: 0.9850786, DIVERSITY_HERFINDAHL: 0.9984866, COVERAGE_ITEM: 0.3654283, COVERAGE_ITEM_CORRECT: 0.0272570, COVERAGE_USER: 0.5842456, COVERAGE_USER_CORRECT: 0.1236945, DIVERSITY_GINI: 0.1223878, SHANNON_ENTROPY: 11.4059734, \n",
      "\n",
      "Iteration No: 36 ended. Evaluation done at random point.\n",
      "Time taken: 30.7892\n",
      "Function value obtained: -0.0483\n",
      "Current minimum: -0.0558\n",
      "Iteration No: 37 started. Evaluating function at random point.\n",
      "SearchBayesianSkopt: Testing config: {'w_slim_bpr': 168}\n",
      "EvaluatorHoldout: Processed 4643 ( 100.00% ) in 30.12 sec. Users per second: 154\n",
      "SearchBayesianSkopt: Config 36 is suboptimal. Config: {'w_slim_bpr': 168} - results: ROC_AUC: 0.1458512, PRECISION: 0.0293776, PRECISION_RECALL_MIN_DEN: 0.1254931, RECALL: 0.1233808, MAP: 0.0556428, MRR: 0.1032219, NDCG: 0.0833312, F1: 0.0474557, HIT_RATE: 0.2937756, ARHR: 0.1135539, NOVELTY: 0.0049161, AVERAGE_POPULARITY: 0.0848677, DIVERSITY_MEAN_INTER_LIST: 0.9917288, DIVERSITY_HERFINDAHL: 0.9991515, COVERAGE_ITEM: 0.3662753, COVERAGE_ITEM_CORRECT: 0.0348797, COVERAGE_USER: 0.5842456, COVERAGE_USER_CORRECT: 0.1384170, DIVERSITY_GINI: 0.1309285, SHANNON_ENTROPY: 11.7645818, \n",
      "\n",
      "Iteration No: 37 ended. Evaluation done at random point.\n",
      "Time taken: 30.1761\n",
      "Function value obtained: -0.0556\n",
      "Current minimum: -0.0558\n",
      "Iteration No: 38 started. Evaluating function at random point.\n",
      "SearchBayesianSkopt: Testing config: {'w_slim_bpr': 830}\n",
      "EvaluatorHoldout: Processed 4643 ( 100.00% ) in 30.31 sec. Users per second: 153\n",
      "SearchBayesianSkopt: Config 37 is suboptimal. Config: {'w_slim_bpr': 830} - results: ROC_AUC: 0.1383379, PRECISION: 0.0271592, PRECISION_RECALL_MIN_DEN: 0.1172868, RECALL: 0.1152136, MAP: 0.0507018, MRR: 0.0951671, NDCG: 0.0766726, F1: 0.0439565, HIT_RATE: 0.2715916, ARHR: 0.1043329, NOVELTY: 0.0048532, AVERAGE_POPULARITY: 0.1029032, DIVERSITY_MEAN_INTER_LIST: 0.9868379, DIVERSITY_HERFINDAHL: 0.9986625, COVERAGE_ITEM: 0.3668912, COVERAGE_ITEM_CORRECT: 0.0300289, COVERAGE_USER: 0.5842456, COVERAGE_USER_CORRECT: 0.1306153, DIVERSITY_GINI: 0.1245510, SHANNON_ENTROPY: 11.4886739, \n",
      "\n",
      "Iteration No: 38 ended. Evaluation done at random point.\n",
      "Time taken: 30.3512\n",
      "Function value obtained: -0.0507\n",
      "Current minimum: -0.0558\n",
      "Iteration No: 39 started. Evaluating function at random point.\n",
      "SearchBayesianSkopt: Testing config: {'w_slim_bpr': 1538}\n",
      "EvaluatorHoldout: Processed 4643 ( 100.00% ) in 30.39 sec. Users per second: 153\n",
      "SearchBayesianSkopt: Config 38 is suboptimal. Config: {'w_slim_bpr': 1538} - results: ROC_AUC: 0.1306263, PRECISION: 0.0255008, PRECISION_RECALL_MIN_DEN: 0.1093490, RECALL: 0.1074478, MAP: 0.0477979, MRR: 0.0903768, NDCG: 0.0721367, F1: 0.0412190, HIT_RATE: 0.2550075, ARHR: 0.0985635, NOVELTY: 0.0048401, AVERAGE_POPULARITY: 0.1084025, DIVERSITY_MEAN_INTER_LIST: 0.9848993, DIVERSITY_HERFINDAHL: 0.9984687, COVERAGE_ITEM: 0.3648508, COVERAGE_ITEM_CORRECT: 0.0271030, COVERAGE_USER: 0.5842456, COVERAGE_USER_CORRECT: 0.1236945, DIVERSITY_GINI: 0.1220464, SHANNON_ENTROPY: 11.3967730, \n",
      "\n",
      "Iteration No: 39 ended. Evaluation done at random point.\n",
      "Time taken: 30.4449\n",
      "Function value obtained: -0.0478\n",
      "Current minimum: -0.0558\n",
      "Iteration No: 40 started. Evaluating function at random point.\n",
      "SearchBayesianSkopt: Testing config: {'w_slim_bpr': 465}\n",
      "EvaluatorHoldout: Processed 4643 ( 100.00% ) in 29.13 sec. Users per second: 159\n",
      "SearchBayesianSkopt: Config 39 is suboptimal. Config: {'w_slim_bpr': 465} - results: ROC_AUC: 0.1430169, PRECISION: 0.0283868, PRECISION_RECALL_MIN_DEN: 0.1213805, RECALL: 0.1191587, MAP: 0.0532323, MRR: 0.0995109, NDCG: 0.0800281, F1: 0.0458508, HIT_RATE: 0.2838682, ARHR: 0.1095860, NOVELTY: 0.0048724, AVERAGE_POPULARITY: 0.0963969, DIVERSITY_MEAN_INTER_LIST: 0.9888575, DIVERSITY_HERFINDAHL: 0.9988645, COVERAGE_ITEM: 0.3666987, COVERAGE_ITEM_CORRECT: 0.0322233, COVERAGE_USER: 0.5842456, COVERAGE_USER_CORRECT: 0.1347678, DIVERSITY_GINI: 0.1265663, SHANNON_ENTROPY: 11.5898004, \n",
      "\n",
      "Iteration No: 40 ended. Evaluation done at random point.\n",
      "Time taken: 29.1684\n",
      "Function value obtained: -0.0532\n",
      "Current minimum: -0.0558\n",
      "Iteration No: 41 started. Evaluating function at random point.\n",
      "SearchBayesianSkopt: Testing config: {'w_slim_bpr': 215}\n",
      "EvaluatorHoldout: Processed 4643 ( 100.00% ) in 32.45 sec. Users per second: 143\n",
      "SearchBayesianSkopt: Config 40 is suboptimal. Config: {'w_slim_bpr': 215} - results: ROC_AUC: 0.1455621, PRECISION: 0.0292699, PRECISION_RECALL_MIN_DEN: 0.1249915, RECALL: 0.1228205, MAP: 0.0549440, MRR: 0.1025070, NDCG: 0.0826329, F1: 0.0472737, HIT_RATE: 0.2926987, ARHR: 0.1128240, NOVELTY: 0.0049069, AVERAGE_POPULARITY: 0.0873175, DIVERSITY_MEAN_INTER_LIST: 0.9912036, DIVERSITY_HERFINDAHL: 0.9990990, COVERAGE_ITEM: 0.3669682, COVERAGE_ITEM_CORRECT: 0.0347257, COVERAGE_USER: 0.5842456, COVERAGE_USER_CORRECT: 0.1381653, DIVERSITY_GINI: 0.1302079, SHANNON_ENTROPY: 11.7311878, \n"
     ]
    },
    {
     "name": "stdout",
     "output_type": "stream",
     "text": [
      "\n",
      "Iteration No: 41 ended. Evaluation done at random point.\n",
      "Time taken: 32.5117\n",
      "Function value obtained: -0.0549\n",
      "Current minimum: -0.0558\n",
      "Iteration No: 42 started. Evaluating function at random point.\n",
      "SearchBayesianSkopt: Testing config: {'w_slim_bpr': 1172}\n",
      "EvaluatorHoldout: Processed 4643 ( 100.00% ) in 29.31 sec. Users per second: 158\n",
      "SearchBayesianSkopt: Config 41 is suboptimal. Config: {'w_slim_bpr': 1172} - results: ROC_AUC: 0.1340688, PRECISION: 0.0261900, PRECISION_RECALL_MIN_DEN: 0.1133505, RECALL: 0.1113895, MAP: 0.0490083, MRR: 0.0923283, NDCG: 0.0741506, F1: 0.0424088, HIT_RATE: 0.2618996, ARHR: 0.1008811, NOVELTY: 0.0048431, AVERAGE_POPULARITY: 0.1064557, DIVERSITY_MEAN_INTER_LIST: 0.9856242, DIVERSITY_HERFINDAHL: 0.9985412, COVERAGE_ITEM: 0.3651973, COVERAGE_ITEM_CORRECT: 0.0284889, COVERAGE_USER: 0.5842456, COVERAGE_USER_CORRECT: 0.1265886, DIVERSITY_GINI: 0.1229663, SHANNON_ENTROPY: 11.4321348, \n",
      "\n",
      "Iteration No: 42 ended. Evaluation done at random point.\n",
      "Time taken: 29.3547\n",
      "Function value obtained: -0.0490\n",
      "Current minimum: -0.0558\n",
      "Iteration No: 43 started. Evaluating function at random point.\n",
      "SearchBayesianSkopt: Testing config: {'w_slim_bpr': 1480}\n",
      "EvaluatorHoldout: Processed 4643 ( 100.00% ) in 29.33 sec. Users per second: 158\n",
      "SearchBayesianSkopt: Config 42 is suboptimal. Config: {'w_slim_bpr': 1480} - results: ROC_AUC: 0.1314162, PRECISION: 0.0255223, PRECISION_RECALL_MIN_DEN: 0.1099138, RECALL: 0.1080129, MAP: 0.0480646, MRR: 0.0908531, NDCG: 0.0725001, F1: 0.0412885, HIT_RATE: 0.2552229, ARHR: 0.0990045, NOVELTY: 0.0048398, AVERAGE_POPULARITY: 0.1082140, DIVERSITY_MEAN_INTER_LIST: 0.9849739, DIVERSITY_HERFINDAHL: 0.9984762, COVERAGE_ITEM: 0.3647353, COVERAGE_ITEM_CORRECT: 0.0272185, COVERAGE_USER: 0.5842456, COVERAGE_USER_CORRECT: 0.1239461, DIVERSITY_GINI: 0.1221033, SHANNON_ENTROPY: 11.4001870, \n",
      "\n",
      "Iteration No: 43 ended. Evaluation done at random point.\n",
      "Time taken: 29.3770\n",
      "Function value obtained: -0.0481\n",
      "Current minimum: -0.0558\n",
      "Iteration No: 44 started. Evaluating function at random point.\n",
      "SearchBayesianSkopt: Testing config: {'w_slim_bpr': 1501}\n",
      "EvaluatorHoldout: Processed 4643 ( 100.00% ) in 29.73 sec. Users per second: 156\n",
      "SearchBayesianSkopt: Config 43 is suboptimal. Config: {'w_slim_bpr': 1501} - results: ROC_AUC: 0.1311134, PRECISION: 0.0255438, PRECISION_RECALL_MIN_DEN: 0.1099377, RECALL: 0.1080368, MAP: 0.0479739, MRR: 0.0906770, NDCG: 0.0724228, F1: 0.0413185, HIT_RATE: 0.2554383, ARHR: 0.0988432, NOVELTY: 0.0048400, AVERAGE_POPULARITY: 0.1082523, DIVERSITY_MEAN_INTER_LIST: 0.9849549, DIVERSITY_HERFINDAHL: 0.9984743, COVERAGE_ITEM: 0.3646583, COVERAGE_ITEM_CORRECT: 0.0272185, COVERAGE_USER: 0.5842456, COVERAGE_USER_CORRECT: 0.1240720, DIVERSITY_GINI: 0.1220378, SHANNON_ENTROPY: 11.3987415, \n",
      "\n",
      "Iteration No: 44 ended. Evaluation done at random point.\n",
      "Time taken: 29.7816\n",
      "Function value obtained: -0.0480\n",
      "Current minimum: -0.0558\n",
      "Iteration No: 45 started. Evaluating function at random point.\n",
      "SearchBayesianSkopt: Testing config: {'w_slim_bpr': 1787}\n",
      "EvaluatorHoldout: Processed 4643 ( 100.00% ) in 29.24 sec. Users per second: 159\n",
      "SearchBayesianSkopt: Config 44 is suboptimal. Config: {'w_slim_bpr': 1787} - results: ROC_AUC: 0.1285834, PRECISION: 0.0249623, PRECISION_RECALL_MIN_DEN: 0.1072862, RECALL: 0.1054415, MAP: 0.0469644, MRR: 0.0889476, NDCG: 0.0708517, F1: 0.0403679, HIT_RATE: 0.2496231, ARHR: 0.0967579, NOVELTY: 0.0048386, AVERAGE_POPULARITY: 0.1093424, DIVERSITY_MEAN_INTER_LIST: 0.9845429, DIVERSITY_HERFINDAHL: 0.9984331, COVERAGE_ITEM: 0.3640808, COVERAGE_ITEM_CORRECT: 0.0262175, COVERAGE_USER: 0.5842456, COVERAGE_USER_CORRECT: 0.1213036, DIVERSITY_GINI: 0.1215733, SHANNON_ENTROPY: 11.3805892, \n",
      "\n",
      "Iteration No: 45 ended. Evaluation done at random point.\n",
      "Time taken: 29.2848\n",
      "Function value obtained: -0.0470\n",
      "Current minimum: -0.0558\n",
      "Iteration No: 46 started. Evaluating function at random point.\n",
      "SearchBayesianSkopt: Testing config: {'w_slim_bpr': 1511}\n",
      "EvaluatorHoldout: Processed 4643 ( 100.00% ) in 30.83 sec. Users per second: 151\n",
      "SearchBayesianSkopt: Config 45 is suboptimal. Config: {'w_slim_bpr': 1511} - results: ROC_AUC: 0.1310102, PRECISION: 0.0255438, PRECISION_RECALL_MIN_DEN: 0.1099377, RECALL: 0.1080368, MAP: 0.0479029, MRR: 0.0905580, NDCG: 0.0723584, F1: 0.0413185, HIT_RATE: 0.2554383, ARHR: 0.0987048, NOVELTY: 0.0048401, AVERAGE_POPULARITY: 0.1082661, DIVERSITY_MEAN_INTER_LIST: 0.9849505, DIVERSITY_HERFINDAHL: 0.9984738, COVERAGE_ITEM: 0.3647353, COVERAGE_ITEM_CORRECT: 0.0272185, COVERAGE_USER: 0.5842456, COVERAGE_USER_CORRECT: 0.1240720, DIVERSITY_GINI: 0.1220689, SHANNON_ENTROPY: 11.3987383, \n",
      "\n",
      "Iteration No: 46 ended. Evaluation done at random point.\n",
      "Time taken: 30.8842\n",
      "Function value obtained: -0.0479\n",
      "Current minimum: -0.0558\n",
      "Iteration No: 47 started. Evaluating function at random point.\n",
      "SearchBayesianSkopt: Testing config: {'w_slim_bpr': 817}\n",
      "EvaluatorHoldout: Processed 4643 ( 100.00% ) in 27.42 sec. Users per second: 169\n",
      "SearchBayesianSkopt: Config 46 is suboptimal. Config: {'w_slim_bpr': 817} - results: ROC_AUC: 0.1385755, PRECISION: 0.0272022, PRECISION_RECALL_MIN_DEN: 0.1175453, RECALL: 0.1154721, MAP: 0.0507446, MRR: 0.0952997, NDCG: 0.0767775, F1: 0.0440317, HIT_RATE: 0.2720224, ARHR: 0.1045433, NOVELTY: 0.0048535, AVERAGE_POPULARITY: 0.1027436, DIVERSITY_MEAN_INTER_LIST: 0.9868820, DIVERSITY_HERFINDAHL: 0.9986669, COVERAGE_ITEM: 0.3670837, COVERAGE_ITEM_CORRECT: 0.0301829, COVERAGE_USER: 0.5842456, COVERAGE_USER_CORRECT: 0.1307412, DIVERSITY_GINI: 0.1246945, SHANNON_ENTROPY: 11.4914840, \n",
      "\n",
      "Iteration No: 47 ended. Evaluation done at random point.\n",
      "Time taken: 27.4640\n",
      "Function value obtained: -0.0507\n",
      "Current minimum: -0.0558\n",
      "Iteration No: 48 started. Evaluating function at random point.\n",
      "SearchBayesianSkopt: Testing config: {'w_slim_bpr': 1259}\n",
      "EvaluatorHoldout: Processed 4643 ( 100.00% ) in 29.13 sec. Users per second: 159\n",
      "SearchBayesianSkopt: Config 47 is suboptimal. Config: {'w_slim_bpr': 1259} - results: ROC_AUC: 0.1334062, PRECISION: 0.0260823, PRECISION_RECALL_MIN_DEN: 0.1125219, RECALL: 0.1105529, MAP: 0.0488368, MRR: 0.0920843, NDCG: 0.0737995, F1: 0.0422069, HIT_RATE: 0.2608227, ARHR: 0.1005560, NOVELTY: 0.0048419, AVERAGE_POPULARITY: 0.1070971, DIVERSITY_MEAN_INTER_LIST: 0.9854099, DIVERSITY_HERFINDAHL: 0.9985198, COVERAGE_ITEM: 0.3651203, COVERAGE_ITEM_CORRECT: 0.0281809, COVERAGE_USER: 0.5842456, COVERAGE_USER_CORRECT: 0.1262111, DIVERSITY_GINI: 0.1226768, SHANNON_ENTROPY: 11.4219038, \n",
      "\n",
      "Iteration No: 48 ended. Evaluation done at random point.\n",
      "Time taken: 29.1777\n",
      "Function value obtained: -0.0488\n",
      "Current minimum: -0.0558\n",
      "Iteration No: 49 started. Evaluating function at random point.\n",
      "SearchBayesianSkopt: Testing config: {'w_slim_bpr': 1155}\n",
      "EvaluatorHoldout: Processed 4643 ( 100.00% ) in 31.00 sec. Users per second: 150\n",
      "SearchBayesianSkopt: Config 48 is suboptimal. Config: {'w_slim_bpr': 1155} - results: ROC_AUC: 0.1343680, PRECISION: 0.0262546, PRECISION_RECALL_MIN_DEN: 0.1137167, RECALL: 0.1117557, MAP: 0.0491350, MRR: 0.0925093, NDCG: 0.0743525, F1: 0.0425200, HIT_RATE: 0.2625458, ARHR: 0.1010804, NOVELTY: 0.0048440, AVERAGE_POPULARITY: 0.1062100, DIVERSITY_MEAN_INTER_LIST: 0.9856997, DIVERSITY_HERFINDAHL: 0.9985487, COVERAGE_ITEM: 0.3651588, COVERAGE_ITEM_CORRECT: 0.0285659, COVERAGE_USER: 0.5842456, COVERAGE_USER_CORRECT: 0.1269662, DIVERSITY_GINI: 0.1229839, SHANNON_ENTROPY: 11.4351652, \n",
      "\n",
      "Iteration No: 49 ended. Evaluation done at random point.\n",
      "Time taken: 31.0438\n",
      "Function value obtained: -0.0491\n",
      "Current minimum: -0.0558\n",
      "Iteration No: 50 started. Evaluating function at random point.\n",
      "SearchBayesianSkopt: Testing config: {'w_slim_bpr': 1255}\n",
      "EvaluatorHoldout: Processed 4643 ( 100.00% ) in 31.42 sec. Users per second: 148\n",
      "SearchBayesianSkopt: Config 49 is suboptimal. Config: {'w_slim_bpr': 1255} - results: ROC_AUC: 0.1334558, PRECISION: 0.0260823, PRECISION_RECALL_MIN_DEN: 0.1125151, RECALL: 0.1105461, MAP: 0.0488540, MRR: 0.0921309, NDCG: 0.0738178, F1: 0.0422064, HIT_RATE: 0.2608227, ARHR: 0.1005718, NOVELTY: 0.0048418, AVERAGE_POPULARITY: 0.1071005, DIVERSITY_MEAN_INTER_LIST: 0.9854120, DIVERSITY_HERFINDAHL: 0.9985200, COVERAGE_ITEM: 0.3651973, COVERAGE_ITEM_CORRECT: 0.0282194, COVERAGE_USER: 0.5842456, COVERAGE_USER_CORRECT: 0.1263370, DIVERSITY_GINI: 0.1226868, SHANNON_ENTROPY: 11.4220527, \n"
     ]
    },
    {
     "name": "stdout",
     "output_type": "stream",
     "text": [
      "\n",
      "Iteration No: 50 ended. Evaluation done at random point.\n",
      "Time taken: 31.4803\n",
      "Function value obtained: -0.0489\n",
      "Current minimum: -0.0558\n",
      "Iteration No: 51 started. Evaluating function at random point.\n",
      "SearchBayesianSkopt: Testing config: {'w_slim_bpr': 154}\n",
      "EvaluatorHoldout: Processed 4643 ( 100.00% ) in 29.73 sec. Users per second: 156\n",
      "SearchBayesianSkopt: Config 50 is suboptimal. Config: {'w_slim_bpr': 154} - results: ROC_AUC: 0.1460504, PRECISION: 0.0294852, PRECISION_RECALL_MIN_DEN: 0.1259366, RECALL: 0.1238072, MAP: 0.0557828, MRR: 0.1035988, NDCG: 0.0835824, F1: 0.0476277, HIT_RATE: 0.2948525, ARHR: 0.1138835, NOVELTY: 0.0049192, AVERAGE_POPULARITY: 0.0840501, DIVERSITY_MEAN_INTER_LIST: 0.9919137, DIVERSITY_HERFINDAHL: 0.9991700, COVERAGE_ITEM: 0.3657748, COVERAGE_ITEM_CORRECT: 0.0349567, COVERAGE_USER: 0.5842456, COVERAGE_USER_CORRECT: 0.1389203, DIVERSITY_GINI: 0.1310594, SHANNON_ENTROPY: 11.7751736, \n",
      "\n",
      "Iteration No: 51 ended. Evaluation done at random point.\n",
      "Time taken: 29.7710\n",
      "Function value obtained: -0.0558\n",
      "Current minimum: -0.0558\n",
      "Iteration No: 52 started. Evaluating function at random point.\n",
      "SearchBayesianSkopt: Testing config: {'w_slim_bpr': 488}\n",
      "EvaluatorHoldout: Processed 4643 ( 100.00% ) in 31.72 sec. Users per second: 146\n",
      "SearchBayesianSkopt: Config 51 is suboptimal. Config: {'w_slim_bpr': 488} - results: ROC_AUC: 0.1428806, PRECISION: 0.0283007, PRECISION_RECALL_MIN_DEN: 0.1215093, RECALL: 0.1193038, MAP: 0.0529938, MRR: 0.0987658, NDCG: 0.0797883, F1: 0.0457490, HIT_RATE: 0.2830067, ARHR: 0.1087675, NOVELTY: 0.0048705, AVERAGE_POPULARITY: 0.0969641, DIVERSITY_MEAN_INTER_LIST: 0.9886780, DIVERSITY_HERFINDAHL: 0.9988465, COVERAGE_ITEM: 0.3665448, COVERAGE_ITEM_CORRECT: 0.0320308, COVERAGE_USER: 0.5842456, COVERAGE_USER_CORRECT: 0.1345162, DIVERSITY_GINI: 0.1263575, SHANNON_ENTROPY: 11.5803462, \n",
      "\n",
      "Iteration No: 52 ended. Evaluation done at random point.\n",
      "Time taken: 31.7613\n",
      "Function value obtained: -0.0530\n",
      "Current minimum: -0.0558\n",
      "Iteration No: 53 started. Evaluating function at random point.\n",
      "SearchBayesianSkopt: Testing config: {'w_slim_bpr': 7}\n",
      "EvaluatorHoldout: Processed 4643 ( 100.00% ) in 31.27 sec. Users per second: 149\n",
      "SearchBayesianSkopt: Config 52 is suboptimal. Config: {'w_slim_bpr': 7} - results: ROC_AUC: 0.1432685, PRECISION: 0.0290330, PRECISION_RECALL_MIN_DEN: 0.1244554, RECALL: 0.1224167, MAP: 0.0552303, MRR: 0.1019038, NDCG: 0.0825483, F1: 0.0469347, HIT_RATE: 0.2903295, ARHR: 0.1117465, NOVELTY: 0.0049705, AVERAGE_POPULARITY: 0.0720153, DIVERSITY_MEAN_INTER_LIST: 0.9940628, DIVERSITY_HERFINDAHL: 0.9993849, COVERAGE_ITEM: 0.3674687, COVERAGE_ITEM_CORRECT: 0.0364581, COVERAGE_USER: 0.5842456, COVERAGE_USER_CORRECT: 0.1381653, DIVERSITY_GINI: 0.1376240, SHANNON_ENTROPY: 11.9479415, \n",
      "\n",
      "Iteration No: 53 ended. Evaluation done at random point.\n",
      "Time taken: 31.3187\n",
      "Function value obtained: -0.0552\n",
      "Current minimum: -0.0558\n",
      "Iteration No: 54 started. Evaluating function at random point.\n",
      "SearchBayesianSkopt: Testing config: {'w_slim_bpr': 1145}\n",
      "EvaluatorHoldout: Processed 4643 ( 100.00% ) in 31.44 sec. Users per second: 148\n",
      "SearchBayesianSkopt: Config 53 is suboptimal. Config: {'w_slim_bpr': 1145} - results: ROC_AUC: 0.1344113, PRECISION: 0.0262977, PRECISION_RECALL_MIN_DEN: 0.1139320, RECALL: 0.1119711, MAP: 0.0493475, MRR: 0.0926695, NDCG: 0.0745624, F1: 0.0425921, HIT_RATE: 0.2629765, ARHR: 0.1012646, NOVELTY: 0.0048442, AVERAGE_POPULARITY: 0.1061188, DIVERSITY_MEAN_INTER_LIST: 0.9857295, DIVERSITY_HERFINDAHL: 0.9985517, COVERAGE_ITEM: 0.3652358, COVERAGE_ITEM_CORRECT: 0.0286429, COVERAGE_USER: 0.5842456, COVERAGE_USER_CORRECT: 0.1270920, DIVERSITY_GINI: 0.1229934, SHANNON_ENTROPY: 11.4361701, \n",
      "\n",
      "Iteration No: 54 ended. Evaluation done at random point.\n",
      "Time taken: 31.5042\n",
      "Function value obtained: -0.0493\n",
      "Current minimum: -0.0558\n",
      "Iteration No: 55 started. Evaluating function at random point.\n",
      "SearchBayesianSkopt: Testing config: {'w_slim_bpr': 694}\n",
      "EvaluatorHoldout: Processed 4643 ( 100.00% ) in 31.09 sec. Users per second: 149\n",
      "SearchBayesianSkopt: Config 54 is suboptimal. Config: {'w_slim_bpr': 694} - results: ROC_AUC: 0.1406328, PRECISION: 0.0275684, PRECISION_RECALL_MIN_DEN: 0.1191686, RECALL: 0.1171019, MAP: 0.0515443, MRR: 0.0965047, NDCG: 0.0779116, F1: 0.0446299, HIT_RATE: 0.2756838, ARHR: 0.1059764, NOVELTY: 0.0048588, AVERAGE_POPULARITY: 0.1010162, DIVERSITY_MEAN_INTER_LIST: 0.9874497, DIVERSITY_HERFINDAHL: 0.9987237, COVERAGE_ITEM: 0.3677767, COVERAGE_ITEM_CORRECT: 0.0310298, COVERAGE_USER: 0.5842456, COVERAGE_USER_CORRECT: 0.1325028, DIVERSITY_GINI: 0.1255513, SHANNON_ENTROPY: 11.5209243, \n",
      "\n",
      "Iteration No: 55 ended. Evaluation done at random point.\n",
      "Time taken: 31.1481\n",
      "Function value obtained: -0.0515\n",
      "Current minimum: -0.0558\n",
      "Iteration No: 56 started. Evaluating function at random point.\n",
      "SearchBayesianSkopt: Testing config: {'w_slim_bpr': 1147}\n",
      "EvaluatorHoldout: Processed 4643 ( 100.00% ) in 30.90 sec. Users per second: 150\n",
      "SearchBayesianSkopt: Config 55 is suboptimal. Config: {'w_slim_bpr': 1147} - results: ROC_AUC: 0.1344011, PRECISION: 0.0262977, PRECISION_RECALL_MIN_DEN: 0.1139320, RECALL: 0.1119711, MAP: 0.0493647, MRR: 0.0927748, NDCG: 0.0745856, F1: 0.0425921, HIT_RATE: 0.2629765, ARHR: 0.1013627, NOVELTY: 0.0048442, AVERAGE_POPULARITY: 0.1061430, DIVERSITY_MEAN_INTER_LIST: 0.9857222, DIVERSITY_HERFINDAHL: 0.9985510, COVERAGE_ITEM: 0.3652743, COVERAGE_ITEM_CORRECT: 0.0286429, COVERAGE_USER: 0.5842456, COVERAGE_USER_CORRECT: 0.1270920, DIVERSITY_GINI: 0.1230202, SHANNON_ENTROPY: 11.4361506, \n",
      "\n",
      "Iteration No: 56 ended. Evaluation done at random point.\n",
      "Time taken: 30.9604\n",
      "Function value obtained: -0.0494\n",
      "Current minimum: -0.0558\n",
      "Iteration No: 57 started. Evaluating function at random point.\n",
      "SearchBayesianSkopt: Testing config: {'w_slim_bpr': 1384}\n",
      "EvaluatorHoldout: Processed 4643 ( 100.00% ) in 30.21 sec. Users per second: 154\n",
      "SearchBayesianSkopt: Config 56 is suboptimal. Config: {'w_slim_bpr': 1384} - results: ROC_AUC: 0.1324403, PRECISION: 0.0256300, PRECISION_RECALL_MIN_DEN: 0.1104399, RECALL: 0.1085253, MAP: 0.0484504, MRR: 0.0914174, NDCG: 0.0729557, F1: 0.0414669, HIT_RATE: 0.2562998, ARHR: 0.0997280, NOVELTY: 0.0048404, AVERAGE_POPULARITY: 0.1077631, DIVERSITY_MEAN_INTER_LIST: 0.9851544, DIVERSITY_HERFINDAHL: 0.9984942, COVERAGE_ITEM: 0.3655438, COVERAGE_ITEM_CORRECT: 0.0274110, COVERAGE_USER: 0.5842456, COVERAGE_USER_CORRECT: 0.1241978, DIVERSITY_GINI: 0.1224765, SHANNON_ENTROPY: 11.4095298, \n",
      "\n",
      "Iteration No: 57 ended. Evaluation done at random point.\n",
      "Time taken: 30.2668\n",
      "Function value obtained: -0.0485\n",
      "Current minimum: -0.0558\n",
      "Iteration No: 58 started. Evaluating function at random point.\n",
      "SearchBayesianSkopt: Testing config: {'w_slim_bpr': 459}\n",
      "EvaluatorHoldout: Processed 4643 ( 100.00% ) in 31.12 sec. Users per second: 149\n",
      "SearchBayesianSkopt: Config 57 is suboptimal. Config: {'w_slim_bpr': 459} - results: ROC_AUC: 0.1429141, PRECISION: 0.0283868, PRECISION_RECALL_MIN_DEN: 0.1212139, RECALL: 0.1189921, MAP: 0.0533487, MRR: 0.0996286, NDCG: 0.0800913, F1: 0.0458384, HIT_RATE: 0.2838682, ARHR: 0.1096753, NOVELTY: 0.0048733, AVERAGE_POPULARITY: 0.0962464, DIVERSITY_MEAN_INTER_LIST: 0.9889027, DIVERSITY_HERFINDAHL: 0.9988690, COVERAGE_ITEM: 0.3668142, COVERAGE_ITEM_CORRECT: 0.0322233, COVERAGE_USER: 0.5842456, COVERAGE_USER_CORRECT: 0.1345162, DIVERSITY_GINI: 0.1266841, SHANNON_ENTROPY: 11.5929442, \n",
      "\n",
      "Iteration No: 58 ended. Evaluation done at random point.\n",
      "Time taken: 31.1635\n",
      "Function value obtained: -0.0533\n",
      "Current minimum: -0.0558\n",
      "Iteration No: 59 started. Evaluating function at random point.\n",
      "SearchBayesianSkopt: Testing config: {'w_slim_bpr': 1323}\n",
      "EvaluatorHoldout: Processed 4643 ( 100.00% ) in 31.57 sec. Users per second: 147\n",
      "SearchBayesianSkopt: Config 58 is suboptimal. Config: {'w_slim_bpr': 1323} - results: ROC_AUC: 0.1329497, PRECISION: 0.0258023, PRECISION_RECALL_MIN_DEN: 0.1113218, RECALL: 0.1093926, MAP: 0.0487385, MRR: 0.0919558, NDCG: 0.0734251, F1: 0.0417557, HIT_RATE: 0.2580228, ARHR: 0.1003077, NOVELTY: 0.0048405, AVERAGE_POPULARITY: 0.1074998, DIVERSITY_MEAN_INTER_LIST: 0.9852525, DIVERSITY_HERFINDAHL: 0.9985040, COVERAGE_ITEM: 0.3655438, COVERAGE_ITEM_CORRECT: 0.0277190, COVERAGE_USER: 0.5842456, COVERAGE_USER_CORRECT: 0.1249528, DIVERSITY_GINI: 0.1226096, SHANNON_ENTROPY: 11.4144769, \n"
     ]
    },
    {
     "name": "stdout",
     "output_type": "stream",
     "text": [
      "\n",
      "Iteration No: 59 ended. Evaluation done at random point.\n",
      "Time taken: 31.6304\n",
      "Function value obtained: -0.0487\n",
      "Current minimum: -0.0558\n",
      "Iteration No: 60 started. Evaluating function at random point.\n",
      "SearchBayesianSkopt: Testing config: {'w_slim_bpr': 1366}\n",
      "EvaluatorHoldout: Processed 4000 ( 86.15% ) in 30.30 sec. Users per second: 132\n",
      "EvaluatorHoldout: Processed 4643 ( 100.00% ) in 35.04 sec. Users per second: 132\n",
      "SearchBayesianSkopt: Config 59 is suboptimal. Config: {'w_slim_bpr': 1366} - results: ROC_AUC: 0.1326587, PRECISION: 0.0256946, PRECISION_RECALL_MIN_DEN: 0.1109808, RECALL: 0.1090800, MAP: 0.0485445, MRR: 0.0915733, NDCG: 0.0731664, F1: 0.0415919, HIT_RATE: 0.2569459, ARHR: 0.0998543, NOVELTY: 0.0048405, AVERAGE_POPULARITY: 0.1076715, DIVERSITY_MEAN_INTER_LIST: 0.9851871, DIVERSITY_HERFINDAHL: 0.9984975, COVERAGE_ITEM: 0.3656978, COVERAGE_ITEM_CORRECT: 0.0275265, COVERAGE_USER: 0.5842456, COVERAGE_USER_CORRECT: 0.1247011, DIVERSITY_GINI: 0.1225649, SHANNON_ENTROPY: 11.4113419, \n",
      "\n",
      "Iteration No: 60 ended. Evaluation done at random point.\n",
      "Time taken: 35.1000\n",
      "Function value obtained: -0.0485\n",
      "Current minimum: -0.0558\n",
      "Iteration No: 61 started. Evaluating function at random point.\n",
      "SearchBayesianSkopt: Testing config: {'w_slim_bpr': 665}\n",
      "EvaluatorHoldout: Processed 4643 ( 100.00% ) in 33.99 sec. Users per second: 137\n",
      "SearchBayesianSkopt: Config 60 is suboptimal. Config: {'w_slim_bpr': 665} - results: ROC_AUC: 0.1405398, PRECISION: 0.0278053, PRECISION_RECALL_MIN_DEN: 0.1198435, RECALL: 0.1177097, MAP: 0.0516628, MRR: 0.0968760, NDCG: 0.0781909, F1: 0.0449844, HIT_RATE: 0.2780530, ARHR: 0.1065685, NOVELTY: 0.0048603, AVERAGE_POPULARITY: 0.1005146, DIVERSITY_MEAN_INTER_LIST: 0.9876026, DIVERSITY_HERFINDAHL: 0.9987390, COVERAGE_ITEM: 0.3676612, COVERAGE_ITEM_CORRECT: 0.0312993, COVERAGE_USER: 0.5842456, COVERAGE_USER_CORRECT: 0.1328803, DIVERSITY_GINI: 0.1256190, SHANNON_ENTROPY: 11.5272621, \n",
      "\n",
      "Iteration No: 61 ended. Evaluation done at random point.\n",
      "Time taken: 34.0671\n",
      "Function value obtained: -0.0517\n",
      "Current minimum: -0.0558\n",
      "Iteration No: 62 started. Evaluating function at random point.\n",
      "SearchBayesianSkopt: Testing config: {'w_slim_bpr': 1280}\n",
      "EvaluatorHoldout: Processed 4643 ( 100.00% ) in 33.79 sec. Users per second: 137\n",
      "SearchBayesianSkopt: Config 61 is suboptimal. Config: {'w_slim_bpr': 1280} - results: ROC_AUC: 0.1331461, PRECISION: 0.0259961, PRECISION_RECALL_MIN_DEN: 0.1120912, RECALL: 0.1101114, MAP: 0.0487301, MRR: 0.0918953, NDCG: 0.0735935, F1: 0.0420619, HIT_RATE: 0.2599612, ARHR: 0.1003394, NOVELTY: 0.0048415, AVERAGE_POPULARITY: 0.1071893, DIVERSITY_MEAN_INTER_LIST: 0.9853694, DIVERSITY_HERFINDAHL: 0.9985157, COVERAGE_ITEM: 0.3650048, COVERAGE_ITEM_CORRECT: 0.0280269, COVERAGE_USER: 0.5842456, COVERAGE_USER_CORRECT: 0.1257078, DIVERSITY_GINI: 0.1225777, SHANNON_ENTROPY: 11.4193528, \n",
      "\n",
      "Iteration No: 62 ended. Evaluation done at random point.\n",
      "Time taken: 33.8446\n",
      "Function value obtained: -0.0487\n",
      "Current minimum: -0.0558\n",
      "Iteration No: 63 started. Evaluating function at random point.\n",
      "SearchBayesianSkopt: Testing config: {'w_slim_bpr': 1784}\n",
      "EvaluatorHoldout: Processed 4643 ( 100.00% ) in 33.43 sec. Users per second: 139\n",
      "SearchBayesianSkopt: Config 62 is suboptimal. Config: {'w_slim_bpr': 1784} - results: ROC_AUC: 0.1286745, PRECISION: 0.0249623, PRECISION_RECALL_MIN_DEN: 0.1072862, RECALL: 0.1054415, MAP: 0.0469967, MRR: 0.0889751, NDCG: 0.0708781, F1: 0.0403679, HIT_RATE: 0.2496231, ARHR: 0.0967929, NOVELTY: 0.0048387, AVERAGE_POPULARITY: 0.1093339, DIVERSITY_MEAN_INTER_LIST: 0.9845487, DIVERSITY_HERFINDAHL: 0.9984337, COVERAGE_ITEM: 0.3642348, COVERAGE_ITEM_CORRECT: 0.0262175, COVERAGE_USER: 0.5842456, COVERAGE_USER_CORRECT: 0.1213036, DIVERSITY_GINI: 0.1216452, SHANNON_ENTROPY: 11.3814019, \n",
      "\n",
      "Iteration No: 63 ended. Evaluation done at random point.\n",
      "Time taken: 33.4805\n",
      "Function value obtained: -0.0470\n",
      "Current minimum: -0.0558\n",
      "Iteration No: 64 started. Evaluating function at random point.\n",
      "SearchBayesianSkopt: Testing config: {'w_slim_bpr': 8}\n",
      "EvaluatorHoldout: Processed 4643 ( 100.00% ) in 32.77 sec. Users per second: 142\n",
      "SearchBayesianSkopt: Config 63 is suboptimal. Config: {'w_slim_bpr': 8} - results: ROC_AUC: 0.1433611, PRECISION: 0.0290545, PRECISION_RECALL_MIN_DEN: 0.1244359, RECALL: 0.1223972, MAP: 0.0551416, MRR: 0.1019233, NDCG: 0.0824998, F1: 0.0469614, HIT_RATE: 0.2905449, ARHR: 0.1117692, NOVELTY: 0.0049700, AVERAGE_POPULARITY: 0.0721405, DIVERSITY_MEAN_INTER_LIST: 0.9940459, DIVERSITY_HERFINDAHL: 0.9993832, COVERAGE_ITEM: 0.3673917, COVERAGE_ITEM_CORRECT: 0.0364581, COVERAGE_USER: 0.5842456, COVERAGE_USER_CORRECT: 0.1382912, DIVERSITY_GINI: 0.1375497, SHANNON_ENTROPY: 11.9462032, \n",
      "\n",
      "Iteration No: 64 ended. Evaluation done at random point.\n",
      "Time taken: 32.8228\n",
      "Function value obtained: -0.0551\n",
      "Current minimum: -0.0558\n",
      "Iteration No: 65 started. Evaluating function at random point.\n",
      "SearchBayesianSkopt: Testing config: {'w_slim_bpr': 1460}\n",
      "EvaluatorHoldout: Processed 4000 ( 86.15% ) in 31.09 sec. Users per second: 129\n",
      "EvaluatorHoldout: Processed 4643 ( 100.00% ) in 35.84 sec. Users per second: 130\n",
      "SearchBayesianSkopt: Config 64 is suboptimal. Config: {'w_slim_bpr': 1460} - results: ROC_AUC: 0.1317331, PRECISION: 0.0255008, PRECISION_RECALL_MIN_DEN: 0.1100717, RECALL: 0.1081834, MAP: 0.0482605, MRR: 0.0910368, NDCG: 0.0726838, F1: 0.0412728, HIT_RATE: 0.2550075, ARHR: 0.0992179, NOVELTY: 0.0048402, AVERAGE_POPULARITY: 0.1080482, DIVERSITY_MEAN_INTER_LIST: 0.9850309, DIVERSITY_HERFINDAHL: 0.9984819, COVERAGE_ITEM: 0.3651588, COVERAGE_ITEM_CORRECT: 0.0272570, COVERAGE_USER: 0.5842456, COVERAGE_USER_CORRECT: 0.1238203, DIVERSITY_GINI: 0.1222917, SHANNON_ENTROPY: 11.4035002, \n",
      "\n",
      "Iteration No: 65 ended. Evaluation done at random point.\n",
      "Time taken: 35.9017\n",
      "Function value obtained: -0.0483\n",
      "Current minimum: -0.0558\n",
      "Iteration No: 66 started. Evaluating function at random point.\n",
      "SearchBayesianSkopt: Testing config: {'w_slim_bpr': 922}\n",
      "EvaluatorHoldout: Processed 4643 ( 100.00% ) in 33.68 sec. Users per second: 138\n",
      "SearchBayesianSkopt: Config 65 is suboptimal. Config: {'w_slim_bpr': 922} - results: ROC_AUC: 0.1372626, PRECISION: 0.0268361, PRECISION_RECALL_MIN_DEN: 0.1159156, RECALL: 0.1138677, MAP: 0.0499712, MRR: 0.0941698, NDCG: 0.0757140, F1: 0.0434354, HIT_RATE: 0.2683610, ARHR: 0.1030032, NOVELTY: 0.0048501, AVERAGE_POPULARITY: 0.1040989, DIVERSITY_MEAN_INTER_LIST: 0.9864234, DIVERSITY_HERFINDAHL: 0.9986211, COVERAGE_ITEM: 0.3668527, COVERAGE_ITEM_CORRECT: 0.0293744, COVERAGE_USER: 0.5842456, COVERAGE_USER_CORRECT: 0.1298603, DIVERSITY_GINI: 0.1240588, SHANNON_ENTROPY: 11.4691857, \n",
      "\n",
      "Iteration No: 66 ended. Evaluation done at random point.\n",
      "Time taken: 33.7275\n",
      "Function value obtained: -0.0500\n",
      "Current minimum: -0.0558\n",
      "Iteration No: 67 started. Evaluating function at random point.\n",
      "SearchBayesianSkopt: Testing config: {'w_slim_bpr': 1953}\n",
      "EvaluatorHoldout: Processed 4643 ( 100.00% ) in 30.80 sec. Users per second: 151\n",
      "SearchBayesianSkopt: Config 66 is suboptimal. Config: {'w_slim_bpr': 1953} - results: ROC_AUC: 0.1277783, PRECISION: 0.0247469, PRECISION_RECALL_MIN_DEN: 0.1063349, RECALL: 0.1044730, MAP: 0.0465806, MRR: 0.0882604, NDCG: 0.0702458, F1: 0.0400153, HIT_RATE: 0.2474693, ARHR: 0.0959308, NOVELTY: 0.0048379, AVERAGE_POPULARITY: 0.1099448, DIVERSITY_MEAN_INTER_LIST: 0.9843166, DIVERSITY_HERFINDAHL: 0.9984105, COVERAGE_ITEM: 0.3641578, COVERAGE_ITEM_CORRECT: 0.0257940, COVERAGE_USER: 0.5842456, COVERAGE_USER_CORRECT: 0.1205486, DIVERSITY_GINI: 0.1214280, SHANNON_ENTROPY: 11.3709586, \n",
      "\n",
      "Iteration No: 67 ended. Evaluation done at random point.\n",
      "Time taken: 30.8516\n",
      "Function value obtained: -0.0466\n",
      "Current minimum: -0.0558\n",
      "Iteration No: 68 started. Evaluating function at random point.\n",
      "SearchBayesianSkopt: Testing config: {'w_slim_bpr': 1204}\n",
      "EvaluatorHoldout: Processed 4643 ( 100.00% ) in 33.37 sec. Users per second: 139\n",
      "SearchBayesianSkopt: Config 67 is suboptimal. Config: {'w_slim_bpr': 1204} - results: ROC_AUC: 0.1338158, PRECISION: 0.0261469, PRECISION_RECALL_MIN_DEN: 0.1126844, RECALL: 0.1106950, MAP: 0.0488922, MRR: 0.0921876, NDCG: 0.0738979, F1: 0.0423018, HIT_RATE: 0.2614689, ARHR: 0.1007448, NOVELTY: 0.0048424, AVERAGE_POPULARITY: 0.1067623, DIVERSITY_MEAN_INTER_LIST: 0.9855284, DIVERSITY_HERFINDAHL: 0.9985316, COVERAGE_ITEM: 0.3647738, COVERAGE_ITEM_CORRECT: 0.0283349, COVERAGE_USER: 0.5842456, COVERAGE_USER_CORRECT: 0.1262111, DIVERSITY_GINI: 0.1227695, SHANNON_ENTROPY: 11.4277274, \n"
     ]
    },
    {
     "name": "stdout",
     "output_type": "stream",
     "text": [
      "\n",
      "Iteration No: 68 ended. Evaluation done at random point.\n",
      "Time taken: 33.4273\n",
      "Function value obtained: -0.0489\n",
      "Current minimum: -0.0558\n",
      "Iteration No: 69 started. Evaluating function at random point.\n",
      "SearchBayesianSkopt: Testing config: {'w_slim_bpr': 614}\n",
      "EvaluatorHoldout: Processed 4643 ( 100.00% ) in 32.63 sec. Users per second: 142\n",
      "SearchBayesianSkopt: Config 68 is suboptimal. Config: {'w_slim_bpr': 614} - results: ROC_AUC: 0.1408392, PRECISION: 0.0280853, PRECISION_RECALL_MIN_DEN: 0.1206347, RECALL: 0.1184762, MAP: 0.0519257, MRR: 0.0971632, NDCG: 0.0786605, F1: 0.0454067, HIT_RATE: 0.2808529, ARHR: 0.1069994, NOVELTY: 0.0048621, AVERAGE_POPULARITY: 0.0996987, DIVERSITY_MEAN_INTER_LIST: 0.9878373, DIVERSITY_HERFINDAHL: 0.9987625, COVERAGE_ITEM: 0.3671607, COVERAGE_ITEM_CORRECT: 0.0314148, COVERAGE_USER: 0.5842456, COVERAGE_USER_CORRECT: 0.1337612, DIVERSITY_GINI: 0.1257473, SHANNON_ENTROPY: 11.5383572, \n",
      "\n",
      "Iteration No: 69 ended. Evaluation done at random point.\n",
      "Time taken: 32.6745\n",
      "Function value obtained: -0.0519\n",
      "Current minimum: -0.0558\n",
      "Iteration No: 70 started. Evaluating function at random point.\n",
      "SearchBayesianSkopt: Testing config: {'w_slim_bpr': 973}\n",
      "EvaluatorHoldout: Processed 4643 ( 100.00% ) in 33.91 sec. Users per second: 137\n",
      "SearchBayesianSkopt: Config 69 is suboptimal. Config: {'w_slim_bpr': 973} - results: ROC_AUC: 0.1365008, PRECISION: 0.0267715, PRECISION_RECALL_MIN_DEN: 0.1158561, RECALL: 0.1138130, MAP: 0.0499135, MRR: 0.0940051, NDCG: 0.0756008, F1: 0.0433468, HIT_RATE: 0.2677148, ARHR: 0.1028350, NOVELTY: 0.0048485, AVERAGE_POPULARITY: 0.1046073, DIVERSITY_MEAN_INTER_LIST: 0.9862570, DIVERSITY_HERFINDAHL: 0.9986045, COVERAGE_ITEM: 0.3657748, COVERAGE_ITEM_CORRECT: 0.0292974, COVERAGE_USER: 0.5842456, COVERAGE_USER_CORRECT: 0.1293570, DIVERSITY_GINI: 0.1235966, SHANNON_ENTROPY: 11.4597360, \n",
      "\n",
      "Iteration No: 70 ended. Evaluation done at random point.\n",
      "Time taken: 33.9610\n",
      "Function value obtained: -0.0499\n",
      "Current minimum: -0.0558\n",
      "Iteration No: 71 started. Evaluating function at random point.\n",
      "SearchBayesianSkopt: Testing config: {'w_slim_bpr': 1070}\n",
      "EvaluatorHoldout: Processed 4643 ( 100.00% ) in 32.04 sec. Users per second: 145\n",
      "SearchBayesianSkopt: Config 70 is suboptimal. Config: {'w_slim_bpr': 1070} - results: ROC_AUC: 0.1355534, PRECISION: 0.0265130, PRECISION_RECALL_MIN_DEN: 0.1145190, RECALL: 0.1125358, MAP: 0.0495869, MRR: 0.0930527, NDCG: 0.0749553, F1: 0.0429154, HIT_RATE: 0.2651303, ARHR: 0.1017722, NOVELTY: 0.0048453, AVERAGE_POPULARITY: 0.1056139, DIVERSITY_MEAN_INTER_LIST: 0.9859198, DIVERSITY_HERFINDAHL: 0.9985707, COVERAGE_ITEM: 0.3653898, COVERAGE_ITEM_CORRECT: 0.0288354, COVERAGE_USER: 0.5842456, COVERAGE_USER_CORRECT: 0.1280987, DIVERSITY_GINI: 0.1231805, SHANNON_ENTROPY: 11.4446760, \n",
      "\n",
      "Iteration No: 71 ended. Evaluation done at random point.\n",
      "Time taken: 32.0974\n",
      "Function value obtained: -0.0496\n",
      "Current minimum: -0.0558\n",
      "Iteration No: 72 started. Evaluating function at random point.\n",
      "SearchBayesianSkopt: Testing config: {'w_slim_bpr': 730}\n",
      "EvaluatorHoldout: Processed 4643 ( 100.00% ) in 32.08 sec. Users per second: 145\n",
      "SearchBayesianSkopt: Config 71 is suboptimal. Config: {'w_slim_bpr': 730} - results: ROC_AUC: 0.1400832, PRECISION: 0.0273961, PRECISION_RECALL_MIN_DEN: 0.1182222, RECALL: 0.1161371, MAP: 0.0513140, MRR: 0.0959276, NDCG: 0.0774470, F1: 0.0443340, HIT_RATE: 0.2739608, ARHR: 0.1053833, NOVELTY: 0.0048569, AVERAGE_POPULARITY: 0.1015796, DIVERSITY_MEAN_INTER_LIST: 0.9872511, DIVERSITY_HERFINDAHL: 0.9987038, COVERAGE_ITEM: 0.3675842, COVERAGE_ITEM_CORRECT: 0.0306833, COVERAGE_USER: 0.5842456, COVERAGE_USER_CORRECT: 0.1314962, DIVERSITY_GINI: 0.1252053, SHANNON_ENTROPY: 11.5098771, \n",
      "\n",
      "Iteration No: 72 ended. Evaluation done at random point.\n",
      "Time taken: 32.1392\n",
      "Function value obtained: -0.0513\n",
      "Current minimum: -0.0558\n",
      "Iteration No: 73 started. Evaluating function at random point.\n",
      "SearchBayesianSkopt: Testing config: {'w_slim_bpr': 894}\n",
      "EvaluatorHoldout: Processed 4643 ( 100.00% ) in 31.42 sec. Users per second: 148\n",
      "SearchBayesianSkopt: Config 72 is suboptimal. Config: {'w_slim_bpr': 894} - results: ROC_AUC: 0.1376922, PRECISION: 0.0269007, PRECISION_RECALL_MIN_DEN: 0.1163598, RECALL: 0.1143232, MAP: 0.0501437, MRR: 0.0943185, NDCG: 0.0759554, F1: 0.0435532, HIT_RATE: 0.2690071, ARHR: 0.1031998, NOVELTY: 0.0048510, AVERAGE_POPULARITY: 0.1037006, DIVERSITY_MEAN_INTER_LIST: 0.9865683, DIVERSITY_HERFINDAHL: 0.9986356, COVERAGE_ITEM: 0.3671607, COVERAGE_ITEM_CORRECT: 0.0296054, COVERAGE_USER: 0.5842456, COVERAGE_USER_CORRECT: 0.1301120, DIVERSITY_GINI: 0.1242920, SHANNON_ENTROPY: 11.4758643, \n",
      "\n",
      "Iteration No: 73 ended. Evaluation done at random point.\n",
      "Time taken: 31.4772\n",
      "Function value obtained: -0.0501\n",
      "Current minimum: -0.0558\n",
      "Iteration No: 74 started. Evaluating function at random point.\n",
      "SearchBayesianSkopt: Testing config: {'w_slim_bpr': 938}\n",
      "EvaluatorHoldout: Processed 4643 ( 100.00% ) in 32.73 sec. Users per second: 142\n",
      "SearchBayesianSkopt: Config 73 is suboptimal. Config: {'w_slim_bpr': 938} - results: ROC_AUC: 0.1369596, PRECISION: 0.0267715, PRECISION_RECALL_MIN_DEN: 0.1157915, RECALL: 0.1137577, MAP: 0.0499143, MRR: 0.0940509, NDCG: 0.0756189, F1: 0.0433428, HIT_RATE: 0.2677148, ARHR: 0.1028847, NOVELTY: 0.0048493, AVERAGE_POPULARITY: 0.1043227, DIVERSITY_MEAN_INTER_LIST: 0.9863541, DIVERSITY_HERFINDAHL: 0.9986142, COVERAGE_ITEM: 0.3662368, COVERAGE_ITEM_CORRECT: 0.0292589, COVERAGE_USER: 0.5842456, COVERAGE_USER_CORRECT: 0.1294828, DIVERSITY_GINI: 0.1238253, SHANNON_ENTROPY: 11.4649029, \n",
      "\n",
      "Iteration No: 74 ended. Evaluation done at random point.\n",
      "Time taken: 32.7795\n",
      "Function value obtained: -0.0499\n",
      "Current minimum: -0.0558\n",
      "Iteration No: 75 started. Evaluating function at random point.\n",
      "SearchBayesianSkopt: Testing config: {'w_slim_bpr': 11}\n",
      "EvaluatorHoldout: Processed 4643 ( 100.00% ) in 30.24 sec. Users per second: 154\n",
      "SearchBayesianSkopt: Config 74 is suboptimal. Config: {'w_slim_bpr': 11} - results: ROC_AUC: 0.1433297, PRECISION: 0.0290114, PRECISION_RECALL_MIN_DEN: 0.1239693, RECALL: 0.1219256, MAP: 0.0550383, MRR: 0.1018894, NDCG: 0.0823299, F1: 0.0468703, HIT_RATE: 0.2901142, ARHR: 0.1117556, NOVELTY: 0.0049689, AVERAGE_POPULARITY: 0.0723958, DIVERSITY_MEAN_INTER_LIST: 0.9940122, DIVERSITY_HERFINDAHL: 0.9993798, COVERAGE_ITEM: 0.3673532, COVERAGE_ITEM_CORRECT: 0.0363426, COVERAGE_USER: 0.5842456, COVERAGE_USER_CORRECT: 0.1380395, DIVERSITY_GINI: 0.1373698, SHANNON_ENTROPY: 11.9427871, \n",
      "\n",
      "Iteration No: 75 ended. Evaluation done at random point.\n",
      "Time taken: 30.2925\n",
      "Function value obtained: -0.0550\n",
      "Current minimum: -0.0558\n",
      "Iteration No: 76 started. Evaluating function at random point.\n",
      "SearchBayesianSkopt: Testing config: {'w_slim_bpr': 928}\n",
      "EvaluatorHoldout: Processed 4643 ( 100.00% ) in 30.10 sec. Users per second: 154\n",
      "SearchBayesianSkopt: Config 75 is suboptimal. Config: {'w_slim_bpr': 928} - results: ROC_AUC: 0.1371190, PRECISION: 0.0268146, PRECISION_RECALL_MIN_DEN: 0.1158848, RECALL: 0.1138369, MAP: 0.0499577, MRR: 0.0941295, NDCG: 0.0756856, F1: 0.0434050, HIT_RATE: 0.2681456, ARHR: 0.1029684, NOVELTY: 0.0048500, AVERAGE_POPULARITY: 0.1041551, DIVERSITY_MEAN_INTER_LIST: 0.9864047, DIVERSITY_HERFINDAHL: 0.9986192, COVERAGE_ITEM: 0.3667757, COVERAGE_ITEM_CORRECT: 0.0293359, COVERAGE_USER: 0.5842456, COVERAGE_USER_CORRECT: 0.1297345, DIVERSITY_GINI: 0.1240359, SHANNON_ENTROPY: 11.4681879, \n",
      "\n",
      "Iteration No: 76 ended. Evaluation done at random point.\n",
      "Time taken: 30.1518\n",
      "Function value obtained: -0.0500\n",
      "Current minimum: -0.0558\n",
      "Iteration No: 77 started. Evaluating function at random point.\n",
      "SearchBayesianSkopt: Testing config: {'w_slim_bpr': 672}\n",
      "EvaluatorHoldout: Processed 4643 ( 100.00% ) in 30.88 sec. Users per second: 150\n",
      "SearchBayesianSkopt: Config 76 is suboptimal. Config: {'w_slim_bpr': 672} - results: ROC_AUC: 0.1404913, PRECISION: 0.0277407, PRECISION_RECALL_MIN_DEN: 0.1194989, RECALL: 0.1173701, MAP: 0.0516289, MRR: 0.0966544, NDCG: 0.0780687, F1: 0.0448751, HIT_RATE: 0.2774068, ARHR: 0.1063071, NOVELTY: 0.0048596, AVERAGE_POPULARITY: 0.1007453, DIVERSITY_MEAN_INTER_LIST: 0.9875422, DIVERSITY_HERFINDAHL: 0.9987330, COVERAGE_ITEM: 0.3676227, COVERAGE_ITEM_CORRECT: 0.0312223, COVERAGE_USER: 0.5842456, COVERAGE_USER_CORRECT: 0.1326287, DIVERSITY_GINI: 0.1256036, SHANNON_ENTROPY: 11.5249302, \n"
     ]
    },
    {
     "name": "stdout",
     "output_type": "stream",
     "text": [
      "\n",
      "Iteration No: 77 ended. Evaluation done at random point.\n",
      "Time taken: 30.9330\n",
      "Function value obtained: -0.0516\n",
      "Current minimum: -0.0558\n",
      "Iteration No: 78 started. Evaluating function at random point.\n",
      "SearchBayesianSkopt: Testing config: {'w_slim_bpr': 671}\n",
      "EvaluatorHoldout: Processed 4643 ( 100.00% ) in 30.94 sec. Users per second: 150\n",
      "SearchBayesianSkopt: Config 77 is suboptimal. Config: {'w_slim_bpr': 671} - results: ROC_AUC: 0.1405212, PRECISION: 0.0277407, PRECISION_RECALL_MIN_DEN: 0.1194989, RECALL: 0.1173701, MAP: 0.0516172, MRR: 0.0966598, NDCG: 0.0780593, F1: 0.0448751, HIT_RATE: 0.2774068, ARHR: 0.1063137, NOVELTY: 0.0048597, AVERAGE_POPULARITY: 0.1006741, DIVERSITY_MEAN_INTER_LIST: 0.9875611, DIVERSITY_HERFINDAHL: 0.9987348, COVERAGE_ITEM: 0.3676997, COVERAGE_ITEM_CORRECT: 0.0312223, COVERAGE_USER: 0.5842456, COVERAGE_USER_CORRECT: 0.1326287, DIVERSITY_GINI: 0.1256367, SHANNON_ENTROPY: 11.5257370, \n",
      "\n",
      "Iteration No: 78 ended. Evaluation done at random point.\n",
      "Time taken: 30.9879\n",
      "Function value obtained: -0.0516\n",
      "Current minimum: -0.0558\n",
      "Iteration No: 79 started. Evaluating function at random point.\n",
      "SearchBayesianSkopt: Testing config: {'w_slim_bpr': 1086}\n",
      "EvaluatorHoldout: Processed 4643 ( 100.00% ) in 29.73 sec. Users per second: 156\n",
      "SearchBayesianSkopt: Config 78 is suboptimal. Config: {'w_slim_bpr': 1086} - results: ROC_AUC: 0.1354718, PRECISION: 0.0264053, PRECISION_RECALL_MIN_DEN: 0.1142102, RECALL: 0.1122400, MAP: 0.0495228, MRR: 0.0930200, NDCG: 0.0748159, F1: 0.0427528, HIT_RATE: 0.2640534, ARHR: 0.1017087, NOVELTY: 0.0048450, AVERAGE_POPULARITY: 0.1057336, DIVERSITY_MEAN_INTER_LIST: 0.9858792, DIVERSITY_HERFINDAHL: 0.9985667, COVERAGE_ITEM: 0.3654283, COVERAGE_ITEM_CORRECT: 0.0287199, COVERAGE_USER: 0.5842456, COVERAGE_USER_CORRECT: 0.1275953, DIVERSITY_GINI: 0.1231248, SHANNON_ENTROPY: 11.4424660, \n",
      "\n",
      "Iteration No: 79 ended. Evaluation done at random point.\n",
      "Time taken: 29.7899\n",
      "Function value obtained: -0.0495\n",
      "Current minimum: -0.0558\n",
      "Iteration No: 80 started. Evaluating function at random point.\n",
      "SearchBayesianSkopt: Testing config: {'w_slim_bpr': 162}\n",
      "EvaluatorHoldout: Processed 4643 ( 100.00% ) in 31.14 sec. Users per second: 149\n",
      "SearchBayesianSkopt: Config 79 is suboptimal. Config: {'w_slim_bpr': 162} - results: ROC_AUC: 0.1461403, PRECISION: 0.0293991, PRECISION_RECALL_MIN_DEN: 0.1259151, RECALL: 0.1238090, MAP: 0.0557203, MRR: 0.1034637, NDCG: 0.0834974, F1: 0.0475154, HIT_RATE: 0.2939910, ARHR: 0.1137234, NOVELTY: 0.0049174, AVERAGE_POPULARITY: 0.0845074, DIVERSITY_MEAN_INTER_LIST: 0.9918145, DIVERSITY_HERFINDAHL: 0.9991601, COVERAGE_ITEM: 0.3660058, COVERAGE_ITEM_CORRECT: 0.0349567, COVERAGE_USER: 0.5842456, COVERAGE_USER_CORRECT: 0.1387945, DIVERSITY_GINI: 0.1309497, SHANNON_ENTROPY: 11.7691466, \n",
      "\n",
      "Iteration No: 80 ended. Evaluation done at random point.\n",
      "Time taken: 31.1980\n",
      "Function value obtained: -0.0557\n",
      "Current minimum: -0.0558\n",
      "Iteration No: 81 started. Evaluating function at random point.\n",
      "SearchBayesianSkopt: Testing config: {'w_slim_bpr': 905}\n",
      "EvaluatorHoldout: Processed 4643 ( 100.00% ) in 33.04 sec. Users per second: 141\n",
      "SearchBayesianSkopt: Config 80 is suboptimal. Config: {'w_slim_bpr': 905} - results: ROC_AUC: 0.1376131, PRECISION: 0.0267930, PRECISION_RECALL_MIN_DEN: 0.1157675, RECALL: 0.1137309, MAP: 0.0500562, MRR: 0.0942162, NDCG: 0.0757377, F1: 0.0433691, HIT_RATE: 0.2679302, ARHR: 0.1030395, NOVELTY: 0.0048508, AVERAGE_POPULARITY: 0.1038656, DIVERSITY_MEAN_INTER_LIST: 0.9865129, DIVERSITY_HERFINDAHL: 0.9986300, COVERAGE_ITEM: 0.3669682, COVERAGE_ITEM_CORRECT: 0.0294514, COVERAGE_USER: 0.5842456, COVERAGE_USER_CORRECT: 0.1296087, DIVERSITY_GINI: 0.1241522, SHANNON_ENTROPY: 11.4729801, \n",
      "\n",
      "Iteration No: 81 ended. Evaluation done at random point.\n",
      "Time taken: 33.0935\n",
      "Function value obtained: -0.0501\n",
      "Current minimum: -0.0558\n",
      "Iteration No: 82 started. Evaluating function at random point.\n",
      "SearchBayesianSkopt: Testing config: {'w_slim_bpr': 1920}\n",
      "EvaluatorHoldout: Processed 4000 ( 86.15% ) in 31.20 sec. Users per second: 128\n",
      "EvaluatorHoldout: Processed 4643 ( 100.00% ) in 36.20 sec. Users per second: 128\n",
      "SearchBayesianSkopt: Config 81 is suboptimal. Config: {'w_slim_bpr': 1920} - results: ROC_AUC: 0.1279433, PRECISION: 0.0248331, PRECISION_RECALL_MIN_DEN: 0.1066688, RECALL: 0.1047973, MAP: 0.0466363, MRR: 0.0882801, NDCG: 0.0703816, F1: 0.0401517, HIT_RATE: 0.2483308, ARHR: 0.0960019, NOVELTY: 0.0048381, AVERAGE_POPULARITY: 0.1098093, DIVERSITY_MEAN_INTER_LIST: 0.9843716, DIVERSITY_HERFINDAHL: 0.9984160, COVERAGE_ITEM: 0.3641578, COVERAGE_ITEM_CORRECT: 0.0259480, COVERAGE_USER: 0.5842456, COVERAGE_USER_CORRECT: 0.1209261, DIVERSITY_GINI: 0.1214761, SHANNON_ENTROPY: 11.3735302, \n",
      "\n",
      "Iteration No: 82 ended. Evaluation done at random point.\n",
      "Time taken: 36.2679\n",
      "Function value obtained: -0.0466\n",
      "Current minimum: -0.0558\n",
      "Iteration No: 83 started. Evaluating function at random point.\n",
      "SearchBayesianSkopt: Testing config: {'w_slim_bpr': 964}\n",
      "EvaluatorHoldout: Processed 4000 ( 86.15% ) in 30.47 sec. Users per second: 131\n",
      "EvaluatorHoldout: Processed 4643 ( 100.00% ) in 35.20 sec. Users per second: 132\n",
      "SearchBayesianSkopt: Config 82 is suboptimal. Config: {'w_slim_bpr': 964} - results: ROC_AUC: 0.1366576, PRECISION: 0.0267715, PRECISION_RECALL_MIN_DEN: 0.1157699, RECALL: 0.1137232, MAP: 0.0499794, MRR: 0.0941706, NDCG: 0.0756470, F1: 0.0433403, HIT_RATE: 0.2677148, ARHR: 0.1030179, NOVELTY: 0.0048486, AVERAGE_POPULARITY: 0.1045322, DIVERSITY_MEAN_INTER_LIST: 0.9862829, DIVERSITY_HERFINDAHL: 0.9986070, COVERAGE_ITEM: 0.3658133, COVERAGE_ITEM_CORRECT: 0.0292974, COVERAGE_USER: 0.5842456, COVERAGE_USER_CORRECT: 0.1293570, DIVERSITY_GINI: 0.1236448, SHANNON_ENTROPY: 11.4610184, \n",
      "\n",
      "Iteration No: 83 ended. Evaluation done at random point.\n",
      "Time taken: 35.2582\n",
      "Function value obtained: -0.0500\n",
      "Current minimum: -0.0558\n",
      "Iteration No: 84 started. Evaluating function at random point.\n",
      "SearchBayesianSkopt: Testing config: {'w_slim_bpr': 1468}\n",
      "EvaluatorHoldout: Processed 4000 ( 86.15% ) in 30.23 sec. Users per second: 132\n",
      "EvaluatorHoldout: Processed 4643 ( 100.00% ) in 35.18 sec. Users per second: 132\n",
      "SearchBayesianSkopt: Config 83 is suboptimal. Config: {'w_slim_bpr': 1468} - results: ROC_AUC: 0.1316510, PRECISION: 0.0255008, PRECISION_RECALL_MIN_DEN: 0.1100717, RECALL: 0.1081834, MAP: 0.0482527, MRR: 0.0910223, NDCG: 0.0726755, F1: 0.0412728, HIT_RATE: 0.2550075, ARHR: 0.0991930, NOVELTY: 0.0048400, AVERAGE_POPULARITY: 0.1080961, DIVERSITY_MEAN_INTER_LIST: 0.9850123, DIVERSITY_HERFINDAHL: 0.9984800, COVERAGE_ITEM: 0.3649663, COVERAGE_ITEM_CORRECT: 0.0272570, COVERAGE_USER: 0.5842456, COVERAGE_USER_CORRECT: 0.1238203, DIVERSITY_GINI: 0.1222376, SHANNON_ENTROPY: 11.4023386, \n",
      "\n",
      "Iteration No: 84 ended. Evaluation done at random point.\n",
      "Time taken: 35.2381\n",
      "Function value obtained: -0.0483\n",
      "Current minimum: -0.0558\n",
      "Iteration No: 85 started. Evaluating function at random point.\n",
      "SearchBayesianSkopt: Testing config: {'w_slim_bpr': 1361}\n",
      "EvaluatorHoldout: Processed 4643 ( 100.00% ) in 34.65 sec. Users per second: 134\n",
      "SearchBayesianSkopt: Config 84 is suboptimal. Config: {'w_slim_bpr': 1361} - results: ROC_AUC: 0.1327036, PRECISION: 0.0256946, PRECISION_RECALL_MIN_DEN: 0.1109808, RECALL: 0.1090800, MAP: 0.0485436, MRR: 0.0915840, NDCG: 0.0731673, F1: 0.0415919, HIT_RATE: 0.2569459, ARHR: 0.0998419, NOVELTY: 0.0048406, AVERAGE_POPULARITY: 0.1076507, DIVERSITY_MEAN_INTER_LIST: 0.9851925, DIVERSITY_HERFINDAHL: 0.9984980, COVERAGE_ITEM: 0.3656593, COVERAGE_ITEM_CORRECT: 0.0275265, COVERAGE_USER: 0.5842456, COVERAGE_USER_CORRECT: 0.1247011, DIVERSITY_GINI: 0.1225713, SHANNON_ENTROPY: 11.4118130, \n",
      "\n",
      "Iteration No: 85 ended. Evaluation done at random point.\n",
      "Time taken: 34.7148\n",
      "Function value obtained: -0.0485\n",
      "Current minimum: -0.0558\n",
      "Iteration No: 86 started. Evaluating function at random point.\n",
      "SearchBayesianSkopt: Testing config: {'w_slim_bpr': 1207}\n",
      "EvaluatorHoldout: Processed 4000 ( 86.15% ) in 31.78 sec. Users per second: 126\n",
      "EvaluatorHoldout: Processed 4643 ( 100.00% ) in 36.68 sec. Users per second: 127\n",
      "SearchBayesianSkopt: Config 85 is suboptimal. Config: {'w_slim_bpr': 1207} - results: ROC_AUC: 0.1337441, PRECISION: 0.0261253, PRECISION_RECALL_MIN_DEN: 0.1126629, RECALL: 0.1106734, MAP: 0.0489347, MRR: 0.0921499, NDCG: 0.0739049, F1: 0.0422720, HIT_RATE: 0.2612535, ARHR: 0.1007072, NOVELTY: 0.0048423, AVERAGE_POPULARITY: 0.1067551, DIVERSITY_MEAN_INTER_LIST: 0.9855305, DIVERSITY_HERFINDAHL: 0.9985318, COVERAGE_ITEM: 0.3647738, COVERAGE_ITEM_CORRECT: 0.0282964, COVERAGE_USER: 0.5842456, COVERAGE_USER_CORRECT: 0.1260853, DIVERSITY_GINI: 0.1227674, SHANNON_ENTROPY: 11.4276763, \n"
     ]
    },
    {
     "name": "stdout",
     "output_type": "stream",
     "text": [
      "\n",
      "Iteration No: 86 ended. Evaluation done at random point.\n",
      "Time taken: 36.7492\n",
      "Function value obtained: -0.0489\n",
      "Current minimum: -0.0558\n",
      "Iteration No: 87 started. Evaluating function at random point.\n",
      "SearchBayesianSkopt: Testing config: {'w_slim_bpr': 1480}\n",
      "EvaluatorHoldout: Processed 4643 ( 100.00% ) in 34.80 sec. Users per second: 133\n",
      "SearchBayesianSkopt: Config 86 is suboptimal. Config: {'w_slim_bpr': 1480} - results: ROC_AUC: 0.1314162, PRECISION: 0.0255223, PRECISION_RECALL_MIN_DEN: 0.1099138, RECALL: 0.1080129, MAP: 0.0480646, MRR: 0.0908531, NDCG: 0.0725001, F1: 0.0412885, HIT_RATE: 0.2552229, ARHR: 0.0990045, NOVELTY: 0.0048398, AVERAGE_POPULARITY: 0.1082140, DIVERSITY_MEAN_INTER_LIST: 0.9849739, DIVERSITY_HERFINDAHL: 0.9984762, COVERAGE_ITEM: 0.3647353, COVERAGE_ITEM_CORRECT: 0.0272185, COVERAGE_USER: 0.5842456, COVERAGE_USER_CORRECT: 0.1239461, DIVERSITY_GINI: 0.1221033, SHANNON_ENTROPY: 11.4001870, \n",
      "\n",
      "Iteration No: 87 ended. Evaluation done at random point.\n",
      "Time taken: 34.8544\n",
      "Function value obtained: -0.0481\n",
      "Current minimum: -0.0558\n",
      "Iteration No: 88 started. Evaluating function at random point.\n",
      "SearchBayesianSkopt: Testing config: {'w_slim_bpr': 858}\n",
      "EvaluatorHoldout: Processed 4643 ( 100.00% ) in 33.38 sec. Users per second: 139\n",
      "SearchBayesianSkopt: Config 87 is suboptimal. Config: {'w_slim_bpr': 858} - results: ROC_AUC: 0.1380537, PRECISION: 0.0270946, PRECISION_RECALL_MIN_DEN: 0.1169402, RECALL: 0.1148599, MAP: 0.0504535, MRR: 0.0948234, NDCG: 0.0763722, F1: 0.0438461, HIT_RATE: 0.2709455, ARHR: 0.1038319, NOVELTY: 0.0048523, AVERAGE_POPULARITY: 0.1032581, DIVERSITY_MEAN_INTER_LIST: 0.9867240, DIVERSITY_HERFINDAHL: 0.9986511, COVERAGE_ITEM: 0.3671992, COVERAGE_ITEM_CORRECT: 0.0299519, COVERAGE_USER: 0.5842456, COVERAGE_USER_CORRECT: 0.1306153, DIVERSITY_GINI: 0.1245358, SHANNON_ENTROPY: 11.4836670, \n",
      "\n",
      "Iteration No: 88 ended. Evaluation done at random point.\n",
      "Time taken: 33.4474\n",
      "Function value obtained: -0.0505\n",
      "Current minimum: -0.0558\n",
      "Iteration No: 89 started. Evaluating function at random point.\n",
      "SearchBayesianSkopt: Testing config: {'w_slim_bpr': 1285}\n",
      "EvaluatorHoldout: Processed 4643 ( 100.00% ) in 33.90 sec. Users per second: 137\n",
      "SearchBayesianSkopt: Config 88 is suboptimal. Config: {'w_slim_bpr': 1285} - results: ROC_AUC: 0.1330711, PRECISION: 0.0259961, PRECISION_RECALL_MIN_DEN: 0.1120912, RECALL: 0.1101114, MAP: 0.0487241, MRR: 0.0918741, NDCG: 0.0735851, F1: 0.0420619, HIT_RATE: 0.2599612, ARHR: 0.1003224, NOVELTY: 0.0048414, AVERAGE_POPULARITY: 0.1072525, DIVERSITY_MEAN_INTER_LIST: 0.9853492, DIVERSITY_HERFINDAHL: 0.9985137, COVERAGE_ITEM: 0.3649663, COVERAGE_ITEM_CORRECT: 0.0280269, COVERAGE_USER: 0.5842456, COVERAGE_USER_CORRECT: 0.1257078, DIVERSITY_GINI: 0.1225454, SHANNON_ENTROPY: 11.4185458, \n",
      "\n",
      "Iteration No: 89 ended. Evaluation done at random point.\n",
      "Time taken: 33.9571\n",
      "Function value obtained: -0.0487\n",
      "Current minimum: -0.0558\n",
      "Iteration No: 90 started. Evaluating function at random point.\n",
      "SearchBayesianSkopt: Testing config: {'w_slim_bpr': 1722}\n",
      "EvaluatorHoldout: Processed 4643 ( 100.00% ) in 33.02 sec. Users per second: 141\n",
      "SearchBayesianSkopt: Config 89 is suboptimal. Config: {'w_slim_bpr': 1722} - results: ROC_AUC: 0.1291815, PRECISION: 0.0250054, PRECISION_RECALL_MIN_DEN: 0.1075159, RECALL: 0.1056834, MAP: 0.0470134, MRR: 0.0890690, NDCG: 0.0709750, F1: 0.0404419, HIT_RATE: 0.2500538, ARHR: 0.0969770, NOVELTY: 0.0048392, AVERAGE_POPULARITY: 0.1090937, DIVERSITY_MEAN_INTER_LIST: 0.9846423, DIVERSITY_HERFINDAHL: 0.9984430, COVERAGE_ITEM: 0.3643503, COVERAGE_ITEM_CORRECT: 0.0263330, COVERAGE_USER: 0.5842456, COVERAGE_USER_CORRECT: 0.1215553, DIVERSITY_GINI: 0.1217115, SHANNON_ENTROPY: 11.3852309, \n",
      "\n",
      "Iteration No: 90 ended. Evaluation done at random point.\n",
      "Time taken: 33.0826\n",
      "Function value obtained: -0.0470\n",
      "Current minimum: -0.0558\n",
      "Iteration No: 91 started. Evaluating function at random point.\n",
      "SearchBayesianSkopt: Testing config: {'w_slim_bpr': 917}\n",
      "EvaluatorHoldout: Processed 4643 ( 100.00% ) in 33.96 sec. Users per second: 137\n",
      "SearchBayesianSkopt: Config 90 is suboptimal. Config: {'w_slim_bpr': 917} - results: ROC_AUC: 0.1372806, PRECISION: 0.0268576, PRECISION_RECALL_MIN_DEN: 0.1159515, RECALL: 0.1139036, MAP: 0.0500249, MRR: 0.0943020, NDCG: 0.0757705, F1: 0.0434662, HIT_RATE: 0.2685764, ARHR: 0.1031693, NOVELTY: 0.0048503, AVERAGE_POPULARITY: 0.1040493, DIVERSITY_MEAN_INTER_LIST: 0.9864484, DIVERSITY_HERFINDAHL: 0.9986236, COVERAGE_ITEM: 0.3668912, COVERAGE_ITEM_CORRECT: 0.0294129, COVERAGE_USER: 0.5842456, COVERAGE_USER_CORRECT: 0.1298603, DIVERSITY_GINI: 0.1241058, SHANNON_ENTROPY: 11.4704049, \n",
      "\n",
      "Iteration No: 91 ended. Evaluation done at random point.\n",
      "Time taken: 34.0335\n",
      "Function value obtained: -0.0500\n",
      "Current minimum: -0.0558\n",
      "Iteration No: 92 started. Evaluating function at random point.\n",
      "SearchBayesianSkopt: Testing config: {'w_slim_bpr': 1593}\n",
      "EvaluatorHoldout: Processed 4643 ( 100.00% ) in 33.64 sec. Users per second: 138\n",
      "SearchBayesianSkopt: Config 91 is suboptimal. Config: {'w_slim_bpr': 1593} - results: ROC_AUC: 0.1302629, PRECISION: 0.0253069, PRECISION_RECALL_MIN_DEN: 0.1084492, RECALL: 0.1065681, MAP: 0.0475624, MRR: 0.0899892, NDCG: 0.0717072, F1: 0.0409010, HIT_RATE: 0.2530691, ARHR: 0.0981138, NOVELTY: 0.0048397, AVERAGE_POPULARITY: 0.1086092, DIVERSITY_MEAN_INTER_LIST: 0.9848259, DIVERSITY_HERFINDAHL: 0.9984614, COVERAGE_ITEM: 0.3642348, COVERAGE_ITEM_CORRECT: 0.0267565, COVERAGE_USER: 0.5842456, COVERAGE_USER_CORRECT: 0.1228136, DIVERSITY_GINI: 0.1218279, SHANNON_ENTROPY: 11.3927046, \n",
      "\n",
      "Iteration No: 92 ended. Evaluation done at random point.\n",
      "Time taken: 33.6991\n",
      "Function value obtained: -0.0476\n",
      "Current minimum: -0.0558\n",
      "Iteration No: 93 started. Evaluating function at random point.\n",
      "SearchBayesianSkopt: Testing config: {'w_slim_bpr': 1746}\n",
      "EvaluatorHoldout: Processed 4643 ( 100.00% ) in 33.78 sec. Users per second: 137\n",
      "SearchBayesianSkopt: Config 92 is suboptimal. Config: {'w_slim_bpr': 1746} - results: ROC_AUC: 0.1291997, PRECISION: 0.0249623, PRECISION_RECALL_MIN_DEN: 0.1072862, RECALL: 0.1054537, MAP: 0.0469220, MRR: 0.0889323, NDCG: 0.0708399, F1: 0.0403688, HIT_RATE: 0.2496231, ARHR: 0.0967763, NOVELTY: 0.0048391, AVERAGE_POPULARITY: 0.1091384, DIVERSITY_MEAN_INTER_LIST: 0.9846194, DIVERSITY_HERFINDAHL: 0.9984407, COVERAGE_ITEM: 0.3643118, COVERAGE_ITEM_CORRECT: 0.0262175, COVERAGE_USER: 0.5842456, COVERAGE_USER_CORRECT: 0.1214295, DIVERSITY_GINI: 0.1216657, SHANNON_ENTROPY: 11.3840008, \n",
      "\n",
      "Iteration No: 93 ended. Evaluation done at random point.\n",
      "Time taken: 33.8478\n",
      "Function value obtained: -0.0469\n",
      "Current minimum: -0.0558\n",
      "Iteration No: 94 started. Evaluating function at random point.\n",
      "SearchBayesianSkopt: Testing config: {'w_slim_bpr': 282}\n",
      "EvaluatorHoldout: Processed 4000 ( 86.15% ) in 30.47 sec. Users per second: 131\n",
      "EvaluatorHoldout: Processed 4643 ( 100.00% ) in 35.44 sec. Users per second: 131\n",
      "SearchBayesianSkopt: Config 93 is suboptimal. Config: {'w_slim_bpr': 282} - results: ROC_AUC: 0.1454174, PRECISION: 0.0289468, PRECISION_RECALL_MIN_DEN: 0.1232797, RECALL: 0.1211249, MAP: 0.0547425, MRR: 0.1016924, NDCG: 0.0819897, F1: 0.0467267, HIT_RATE: 0.2894680, ARHR: 0.1119878, NOVELTY: 0.0048960, AVERAGE_POPULARITY: 0.0903009, DIVERSITY_MEAN_INTER_LIST: 0.9904928, DIVERSITY_HERFINDAHL: 0.9990279, COVERAGE_ITEM: 0.3670837, COVERAGE_ITEM_CORRECT: 0.0336477, COVERAGE_USER: 0.5842456, COVERAGE_USER_CORRECT: 0.1371587, DIVERSITY_GINI: 0.1289340, SHANNON_ENTROPY: 11.6851731, \n",
      "\n",
      "Iteration No: 94 ended. Evaluation done at random point.\n",
      "Time taken: 35.5035\n",
      "Function value obtained: -0.0547\n",
      "Current minimum: -0.0558\n",
      "Iteration No: 95 started. Evaluating function at random point.\n",
      "SearchBayesianSkopt: Testing config: {'w_slim_bpr': 1168}\n",
      "EvaluatorHoldout: Processed 4643 ( 100.00% ) in 33.83 sec. Users per second: 137\n",
      "SearchBayesianSkopt: Config 94 is suboptimal. Config: {'w_slim_bpr': 1168} - results: ROC_AUC: 0.1341509, PRECISION: 0.0262115, PRECISION_RECALL_MIN_DEN: 0.1133936, RECALL: 0.1114326, MAP: 0.0490848, MRR: 0.0924722, NDCG: 0.0742362, F1: 0.0424401, HIT_RATE: 0.2621150, ARHR: 0.1010295, NOVELTY: 0.0048432, AVERAGE_POPULARITY: 0.1064248, DIVERSITY_MEAN_INTER_LIST: 0.9856333, DIVERSITY_HERFINDAHL: 0.9985421, COVERAGE_ITEM: 0.3651588, COVERAGE_ITEM_CORRECT: 0.0285274, COVERAGE_USER: 0.5842456, COVERAGE_USER_CORRECT: 0.1267145, DIVERSITY_GINI: 0.1229411, SHANNON_ENTROPY: 11.4323344, \n"
     ]
    },
    {
     "name": "stdout",
     "output_type": "stream",
     "text": [
      "\n",
      "Iteration No: 95 ended. Evaluation done at random point.\n",
      "Time taken: 33.8983\n",
      "Function value obtained: -0.0491\n",
      "Current minimum: -0.0558\n",
      "Iteration No: 96 started. Evaluating function at random point.\n",
      "SearchBayesianSkopt: Testing config: {'w_slim_bpr': 59}\n",
      "EvaluatorHoldout: Processed 4643 ( 100.00% ) in 33.86 sec. Users per second: 137\n",
      "SearchBayesianSkopt: Config 95 is suboptimal. Config: {'w_slim_bpr': 59} - results: ROC_AUC: 0.1454226, PRECISION: 0.0293345, PRECISION_RECALL_MIN_DEN: 0.1254835, RECALL: 0.1234149, MAP: 0.0553763, MRR: 0.1024880, NDCG: 0.0830725, F1: 0.0474020, HIT_RATE: 0.2933448, ARHR: 0.1124694, NOVELTY: 0.0049499, AVERAGE_POPULARITY: 0.0769701, DIVERSITY_MEAN_INTER_LIST: 0.9932751, DIVERSITY_HERFINDAHL: 0.9993061, COVERAGE_ITEM: 0.3661213, COVERAGE_ITEM_CORRECT: 0.0359577, COVERAGE_USER: 0.5842456, COVERAGE_USER_CORRECT: 0.1386687, DIVERSITY_GINI: 0.1346176, SHANNON_ENTROPY: 11.8781643, \n",
      "\n",
      "Iteration No: 96 ended. Evaluation done at random point.\n",
      "Time taken: 33.9215\n",
      "Function value obtained: -0.0554\n",
      "Current minimum: -0.0558\n",
      "Iteration No: 97 started. Evaluating function at random point.\n",
      "SearchBayesianSkopt: Testing config: {'w_slim_bpr': 1858}\n",
      "EvaluatorHoldout: Processed 4643 ( 100.00% ) in 33.62 sec. Users per second: 138\n",
      "SearchBayesianSkopt: Config 96 is suboptimal. Config: {'w_slim_bpr': 1858} - results: ROC_AUC: 0.1282858, PRECISION: 0.0248546, PRECISION_RECALL_MIN_DEN: 0.1068483, RECALL: 0.1049813, MAP: 0.0468249, MRR: 0.0885645, NDCG: 0.0705801, F1: 0.0401934, HIT_RATE: 0.2485462, ARHR: 0.0962773, NOVELTY: 0.0048385, AVERAGE_POPULARITY: 0.1095967, DIVERSITY_MEAN_INTER_LIST: 0.9844484, DIVERSITY_HERFINDAHL: 0.9984236, COVERAGE_ITEM: 0.3641578, COVERAGE_ITEM_CORRECT: 0.0260250, COVERAGE_USER: 0.5842456, COVERAGE_USER_CORRECT: 0.1210520, DIVERSITY_GINI: 0.1215333, SHANNON_ENTROPY: 11.3764087, \n",
      "\n",
      "Iteration No: 97 ended. Evaluation done at random point.\n",
      "Time taken: 33.6805\n",
      "Function value obtained: -0.0468\n",
      "Current minimum: -0.0558\n",
      "Iteration No: 98 started. Evaluating function at random point.\n",
      "SearchBayesianSkopt: Testing config: {'w_slim_bpr': 1836}\n",
      "EvaluatorHoldout: Processed 4000 ( 86.15% ) in 30.54 sec. Users per second: 131\n",
      "EvaluatorHoldout: Processed 4643 ( 100.00% ) in 35.17 sec. Users per second: 132\n",
      "SearchBayesianSkopt: Config 97 is suboptimal. Config: {'w_slim_bpr': 1836} - results: ROC_AUC: 0.1282294, PRECISION: 0.0248546, PRECISION_RECALL_MIN_DEN: 0.1069488, RECALL: 0.1051158, MAP: 0.0468455, MRR: 0.0885995, NDCG: 0.0706338, F1: 0.0402032, HIT_RATE: 0.2485462, ARHR: 0.0963103, NOVELTY: 0.0048390, AVERAGE_POPULARITY: 0.1095013, DIVERSITY_MEAN_INTER_LIST: 0.9844815, DIVERSITY_HERFINDAHL: 0.9984269, COVERAGE_ITEM: 0.3640808, COVERAGE_ITEM_CORRECT: 0.0261020, COVERAGE_USER: 0.5842456, COVERAGE_USER_CORRECT: 0.1210520, DIVERSITY_GINI: 0.1215454, SHANNON_ENTROPY: 11.3783806, \n",
      "\n",
      "Iteration No: 98 ended. Evaluation done at random point.\n",
      "Time taken: 35.2281\n",
      "Function value obtained: -0.0468\n",
      "Current minimum: -0.0558\n",
      "Iteration No: 99 started. Evaluating function at random point.\n",
      "SearchBayesianSkopt: Testing config: {'w_slim_bpr': 1429}\n",
      "EvaluatorHoldout: Processed 4643 ( 100.00% ) in 34.90 sec. Users per second: 133\n",
      "SearchBayesianSkopt: Config 98 is suboptimal. Config: {'w_slim_bpr': 1429} - results: ROC_AUC: 0.1319976, PRECISION: 0.0255223, PRECISION_RECALL_MIN_DEN: 0.1101435, RECALL: 0.1082516, MAP: 0.0483190, MRR: 0.0911375, NDCG: 0.0727538, F1: 0.0413060, HIT_RATE: 0.2552229, ARHR: 0.0993686, NOVELTY: 0.0048402, AVERAGE_POPULARITY: 0.1079454, DIVERSITY_MEAN_INTER_LIST: 0.9850752, DIVERSITY_HERFINDAHL: 0.9984863, COVERAGE_ITEM: 0.3653513, COVERAGE_ITEM_CORRECT: 0.0272570, COVERAGE_USER: 0.5842456, COVERAGE_USER_CORRECT: 0.1236945, DIVERSITY_GINI: 0.1223911, SHANNON_ENTROPY: 11.4059902, \n",
      "\n",
      "Iteration No: 99 ended. Evaluation done at random point.\n",
      "Time taken: 34.9672\n",
      "Function value obtained: -0.0483\n",
      "Current minimum: -0.0558\n",
      "Iteration No: 100 started. Evaluating function at random point.\n",
      "SearchBayesianSkopt: Testing config: {'w_slim_bpr': 611}\n",
      "EvaluatorHoldout: Processed 4000 ( 86.15% ) in 31.53 sec. Users per second: 127\n",
      "EvaluatorHoldout: Processed 4643 ( 100.00% ) in 36.57 sec. Users per second: 127\n",
      "SearchBayesianSkopt: Config 99 is suboptimal. Config: {'w_slim_bpr': 611} - results: ROC_AUC: 0.1408153, PRECISION: 0.0280853, PRECISION_RECALL_MIN_DEN: 0.1206347, RECALL: 0.1184762, MAP: 0.0519099, MRR: 0.0971360, NDCG: 0.0786448, F1: 0.0454067, HIT_RATE: 0.2808529, ARHR: 0.1069722, NOVELTY: 0.0048624, AVERAGE_POPULARITY: 0.0996351, DIVERSITY_MEAN_INTER_LIST: 0.9878563, DIVERSITY_HERFINDAHL: 0.9987644, COVERAGE_ITEM: 0.3671222, COVERAGE_ITEM_CORRECT: 0.0314148, COVERAGE_USER: 0.5842456, COVERAGE_USER_CORRECT: 0.1337612, DIVERSITY_GINI: 0.1257679, SHANNON_ENTROPY: 11.5392618, \n",
      "\n",
      "Iteration No: 100 ended. Evaluation done at random point.\n",
      "Time taken: 36.6260\n",
      "Function value obtained: -0.0519\n",
      "Current minimum: -0.0558\n",
      "Iteration No: 101 started. Evaluating function at random point.\n",
      "SearchBayesianSkopt: Testing config: {'w_slim_bpr': 1474}\n",
      "EvaluatorHoldout: Processed 4643 ( 100.00% ) in 34.53 sec. Users per second: 134\n",
      "SearchBayesianSkopt: Config 100 is suboptimal. Config: {'w_slim_bpr': 1474} - results: ROC_AUC: 0.1314639, PRECISION: 0.0254792, PRECISION_RECALL_MIN_DEN: 0.1098564, RECALL: 0.1079680, MAP: 0.0480853, MRR: 0.0908324, NDCG: 0.0724967, F1: 0.0412289, HIT_RATE: 0.2547922, ARHR: 0.0989910, NOVELTY: 0.0048399, AVERAGE_POPULARITY: 0.1081578, DIVERSITY_MEAN_INTER_LIST: 0.9849918, DIVERSITY_HERFINDAHL: 0.9984780, COVERAGE_ITEM: 0.3647353, COVERAGE_ITEM_CORRECT: 0.0272185, COVERAGE_USER: 0.5842456, COVERAGE_USER_CORRECT: 0.1236945, DIVERSITY_GINI: 0.1221369, SHANNON_ENTROPY: 11.4010079, \n",
      "\n",
      "Iteration No: 101 ended. Evaluation done at random point.\n",
      "Time taken: 34.6022\n",
      "Function value obtained: -0.0481\n",
      "Current minimum: -0.0558\n",
      "Iteration No: 102 started. Evaluating function at random point.\n",
      "SearchBayesianSkopt: Testing config: {'w_slim_bpr': 1199}\n",
      "EvaluatorHoldout: Processed 4643 ( 100.00% ) in 34.27 sec. Users per second: 135\n",
      "SearchBayesianSkopt: Config 101 is suboptimal. Config: {'w_slim_bpr': 1199} - results: ROC_AUC: 0.1338252, PRECISION: 0.0261469, PRECISION_RECALL_MIN_DEN: 0.1127023, RECALL: 0.1107129, MAP: 0.0488901, MRR: 0.0921621, NDCG: 0.0738984, F1: 0.0423031, HIT_RATE: 0.2614689, ARHR: 0.1007178, NOVELTY: 0.0048425, AVERAGE_POPULARITY: 0.1067164, DIVERSITY_MEAN_INTER_LIST: 0.9855415, DIVERSITY_HERFINDAHL: 0.9985329, COVERAGE_ITEM: 0.3646968, COVERAGE_ITEM_CORRECT: 0.0283734, COVERAGE_USER: 0.5842456, COVERAGE_USER_CORRECT: 0.1262111, DIVERSITY_GINI: 0.1227633, SHANNON_ENTROPY: 11.4279968, \n",
      "\n",
      "Iteration No: 102 ended. Evaluation done at random point.\n",
      "Time taken: 34.3456\n",
      "Function value obtained: -0.0489\n",
      "Current minimum: -0.0558\n",
      "Iteration No: 103 started. Evaluating function at random point.\n",
      "SearchBayesianSkopt: Testing config: {'w_slim_bpr': 135}\n",
      "EvaluatorHoldout: Processed 4000 ( 86.15% ) in 30.68 sec. Users per second: 130\n",
      "EvaluatorHoldout: Processed 4643 ( 100.00% ) in 35.28 sec. Users per second: 132\n",
      "SearchBayesianSkopt: Config 102 is suboptimal. Config: {'w_slim_bpr': 135} - results: ROC_AUC: 0.1460647, PRECISION: 0.0295714, PRECISION_RECALL_MIN_DEN: 0.1258933, RECALL: 0.1237405, MAP: 0.0557437, MRR: 0.1036136, NDCG: 0.0835681, F1: 0.0477351, HIT_RATE: 0.2957140, ARHR: 0.1139598, NOVELTY: 0.0049236, AVERAGE_POPULARITY: 0.0829614, DIVERSITY_MEAN_INTER_LIST: 0.9921552, DIVERSITY_HERFINDAHL: 0.9991942, COVERAGE_ITEM: 0.3654668, COVERAGE_ITEM_CORRECT: 0.0351877, COVERAGE_USER: 0.5842456, COVERAGE_USER_CORRECT: 0.1392978, DIVERSITY_GINI: 0.1314484, SHANNON_ENTROPY: 11.7910044, \n",
      "\n",
      "Iteration No: 103 ended. Evaluation done at random point.\n",
      "Time taken: 35.3810\n",
      "Function value obtained: -0.0557\n",
      "Current minimum: -0.0558\n",
      "Iteration No: 104 started. Evaluating function at random point.\n",
      "SearchBayesianSkopt: Testing config: {'w_slim_bpr': 1709}\n",
      "EvaluatorHoldout: Processed 4000 ( 86.15% ) in 33.71 sec. Users per second: 119\n",
      "EvaluatorHoldout: Processed 4643 ( 100.00% ) in 38.89 sec. Users per second: 119\n",
      "SearchBayesianSkopt: Config 103 is suboptimal. Config: {'w_slim_bpr': 1709} - results: ROC_AUC: 0.1291984, PRECISION: 0.0250269, PRECISION_RECALL_MIN_DEN: 0.1076236, RECALL: 0.1057911, MAP: 0.0470349, MRR: 0.0889885, NDCG: 0.0710121, F1: 0.0404780, HIT_RATE: 0.2502692, ARHR: 0.0968996, NOVELTY: 0.0048390, AVERAGE_POPULARITY: 0.1090765, DIVERSITY_MEAN_INTER_LIST: 0.9846500, DIVERSITY_HERFINDAHL: 0.9984438, COVERAGE_ITEM: 0.3641963, COVERAGE_ITEM_CORRECT: 0.0263330, COVERAGE_USER: 0.5842456, COVERAGE_USER_CORRECT: 0.1216811, DIVERSITY_GINI: 0.1216560, SHANNON_ENTROPY: 11.3851285, \n"
     ]
    },
    {
     "name": "stdout",
     "output_type": "stream",
     "text": [
      "\n",
      "Iteration No: 104 ended. Evaluation done at random point.\n",
      "Time taken: 38.9545\n",
      "Function value obtained: -0.0470\n",
      "Current minimum: -0.0558\n",
      "Iteration No: 105 started. Evaluating function at random point.\n",
      "SearchBayesianSkopt: Testing config: {'w_slim_bpr': 1851}\n",
      "EvaluatorHoldout: Processed 4000 ( 86.15% ) in 30.72 sec. Users per second: 130\n",
      "EvaluatorHoldout: Processed 4643 ( 100.00% ) in 35.39 sec. Users per second: 131\n",
      "SearchBayesianSkopt: Config 104 is suboptimal. Config: {'w_slim_bpr': 1851} - results: ROC_AUC: 0.1283623, PRECISION: 0.0248546, PRECISION_RECALL_MIN_DEN: 0.1068985, RECALL: 0.1050424, MAP: 0.0468261, MRR: 0.0885800, NDCG: 0.0706018, F1: 0.0401978, HIT_RATE: 0.2485462, ARHR: 0.0962764, NOVELTY: 0.0048385, AVERAGE_POPULARITY: 0.1095809, DIVERSITY_MEAN_INTER_LIST: 0.9844541, DIVERSITY_HERFINDAHL: 0.9984242, COVERAGE_ITEM: 0.3638499, COVERAGE_ITEM_CORRECT: 0.0260635, COVERAGE_USER: 0.5842456, COVERAGE_USER_CORRECT: 0.1211778, DIVERSITY_GINI: 0.1214292, SHANNON_ENTROPY: 11.3760458, \n",
      "\n",
      "Iteration No: 105 ended. Evaluation done at random point.\n",
      "Time taken: 35.4520\n",
      "Function value obtained: -0.0468\n",
      "Current minimum: -0.0558\n",
      "Iteration No: 106 started. Evaluating function at random point.\n",
      "SearchBayesianSkopt: Testing config: {'w_slim_bpr': 1269}\n",
      "EvaluatorHoldout: Processed 4000 ( 86.15% ) in 30.37 sec. Users per second: 132\n",
      "EvaluatorHoldout: Processed 4643 ( 100.00% ) in 35.53 sec. Users per second: 131\n",
      "SearchBayesianSkopt: Config 105 is suboptimal. Config: {'w_slim_bpr': 1269} - results: ROC_AUC: 0.1331580, PRECISION: 0.0260823, PRECISION_RECALL_MIN_DEN: 0.1124717, RECALL: 0.1104919, MAP: 0.0487510, MRR: 0.0918532, NDCG: 0.0736977, F1: 0.0422024, HIT_RATE: 0.2608227, ARHR: 0.1003332, NOVELTY: 0.0048418, AVERAGE_POPULARITY: 0.1071274, DIVERSITY_MEAN_INTER_LIST: 0.9853895, DIVERSITY_HERFINDAHL: 0.9985177, COVERAGE_ITEM: 0.3651973, COVERAGE_ITEM_CORRECT: 0.0281424, COVERAGE_USER: 0.5842456, COVERAGE_USER_CORRECT: 0.1260853, DIVERSITY_GINI: 0.1226482, SHANNON_ENTROPY: 11.4206523, \n",
      "\n",
      "Iteration No: 106 ended. Evaluation done at random point.\n",
      "Time taken: 35.5910\n",
      "Function value obtained: -0.0488\n",
      "Current minimum: -0.0558\n",
      "Iteration No: 107 started. Evaluating function at random point.\n",
      "SearchBayesianSkopt: Testing config: {'w_slim_bpr': 820}\n",
      "EvaluatorHoldout: Processed 4000 ( 86.15% ) in 30.05 sec. Users per second: 133\n",
      "EvaluatorHoldout: Processed 4643 ( 100.00% ) in 34.58 sec. Users per second: 134\n",
      "SearchBayesianSkopt: Config 106 is suboptimal. Config: {'w_slim_bpr': 820} - results: ROC_AUC: 0.1384456, PRECISION: 0.0272238, PRECISION_RECALL_MIN_DEN: 0.1177607, RECALL: 0.1156874, MAP: 0.0507385, MRR: 0.0952947, NDCG: 0.0768146, F1: 0.0440756, HIT_RATE: 0.2722378, ARHR: 0.1045023, NOVELTY: 0.0048536, AVERAGE_POPULARITY: 0.1027806, DIVERSITY_MEAN_INTER_LIST: 0.9868722, DIVERSITY_HERFINDAHL: 0.9986660, COVERAGE_ITEM: 0.3669297, COVERAGE_ITEM_CORRECT: 0.0301829, COVERAGE_USER: 0.5842456, COVERAGE_USER_CORRECT: 0.1308670, DIVERSITY_GINI: 0.1246246, SHANNON_ENTROPY: 11.4907595, \n",
      "\n",
      "Iteration No: 107 ended. Evaluation done at random point.\n",
      "Time taken: 34.6482\n",
      "Function value obtained: -0.0507\n",
      "Current minimum: -0.0558\n",
      "Iteration No: 108 started. Evaluating function at random point.\n",
      "SearchBayesianSkopt: Testing config: {'w_slim_bpr': 1824}\n",
      "EvaluatorHoldout: Processed 4643 ( 100.00% ) in 33.63 sec. Users per second: 138\n",
      "SearchBayesianSkopt: Config 107 is suboptimal. Config: {'w_slim_bpr': 1824} - results: ROC_AUC: 0.1282070, PRECISION: 0.0248331, PRECISION_RECALL_MIN_DEN: 0.1068677, RECALL: 0.1050311, MAP: 0.0468477, MRR: 0.0885726, NDCG: 0.0706094, F1: 0.0401688, HIT_RATE: 0.2483308, ARHR: 0.0963052, NOVELTY: 0.0048391, AVERAGE_POPULARITY: 0.1094808, DIVERSITY_MEAN_INTER_LIST: 0.9844910, DIVERSITY_HERFINDAHL: 0.9984279, COVERAGE_ITEM: 0.3641578, COVERAGE_ITEM_CORRECT: 0.0260250, COVERAGE_USER: 0.5842456, COVERAGE_USER_CORRECT: 0.1208003, DIVERSITY_GINI: 0.1215755, SHANNON_ENTROPY: 11.3789908, \n",
      "\n",
      "Iteration No: 108 ended. Evaluation done at random point.\n",
      "Time taken: 33.6828\n",
      "Function value obtained: -0.0468\n",
      "Current minimum: -0.0558\n",
      "Iteration No: 109 started. Evaluating function at random point.\n",
      "SearchBayesianSkopt: Testing config: {'w_slim_bpr': 1560}\n",
      "EvaluatorHoldout: Processed 4643 ( 100.00% ) in 34.22 sec. Users per second: 136\n",
      "SearchBayesianSkopt: Config 108 is suboptimal. Config: {'w_slim_bpr': 1560} - results: ROC_AUC: 0.1304932, PRECISION: 0.0254146, PRECISION_RECALL_MIN_DEN: 0.1090906, RECALL: 0.1072095, MAP: 0.0476619, MRR: 0.0901384, NDCG: 0.0719450, F1: 0.0410889, HIT_RATE: 0.2541460, ARHR: 0.0983265, NOVELTY: 0.0048399, AVERAGE_POPULARITY: 0.1084656, DIVERSITY_MEAN_INTER_LIST: 0.9848769, DIVERSITY_HERFINDAHL: 0.9984665, COVERAGE_ITEM: 0.3645428, COVERAGE_ITEM_CORRECT: 0.0269490, COVERAGE_USER: 0.5842456, COVERAGE_USER_CORRECT: 0.1231911, DIVERSITY_GINI: 0.1218909, SHANNON_ENTROPY: 11.3946083, \n",
      "\n",
      "Iteration No: 109 ended. Evaluation done at random point.\n",
      "Time taken: 34.2820\n",
      "Function value obtained: -0.0477\n",
      "Current minimum: -0.0558\n",
      "Iteration No: 110 started. Evaluating function at random point.\n",
      "SearchBayesianSkopt: Testing config: {'w_slim_bpr': 1670}\n",
      "EvaluatorHoldout: Processed 4643 ( 100.00% ) in 34.28 sec. Users per second: 135\n",
      "SearchBayesianSkopt: Config 109 is suboptimal. Config: {'w_slim_bpr': 1670} - results: ROC_AUC: 0.1296477, PRECISION: 0.0250700, PRECISION_RECALL_MIN_DEN: 0.1078605, RECALL: 0.1060153, MAP: 0.0473586, MRR: 0.0894073, NDCG: 0.0713240, F1: 0.0405507, HIT_RATE: 0.2507000, ARHR: 0.0974146, NOVELTY: 0.0048395, AVERAGE_POPULARITY: 0.1088186, DIVERSITY_MEAN_INTER_LIST: 0.9847399, DIVERSITY_HERFINDAHL: 0.9984528, COVERAGE_ITEM: 0.3645043, COVERAGE_ITEM_CORRECT: 0.0264100, COVERAGE_USER: 0.5842456, COVERAGE_USER_CORRECT: 0.1216811, DIVERSITY_GINI: 0.1218361, SHANNON_ENTROPY: 11.3894277, \n",
      "\n",
      "Iteration No: 110 ended. Evaluation done at random point.\n",
      "Time taken: 34.3397\n",
      "Function value obtained: -0.0474\n",
      "Current minimum: -0.0558\n",
      "Iteration No: 111 started. Evaluating function at random point.\n",
      "SearchBayesianSkopt: Testing config: {'w_slim_bpr': 8}\n",
      "EvaluatorHoldout: Processed 4643 ( 100.00% ) in 34.22 sec. Users per second: 136\n",
      "SearchBayesianSkopt: Config 110 is suboptimal. Config: {'w_slim_bpr': 8} - results: ROC_AUC: 0.1433611, PRECISION: 0.0290545, PRECISION_RECALL_MIN_DEN: 0.1244359, RECALL: 0.1223972, MAP: 0.0551416, MRR: 0.1019233, NDCG: 0.0824998, F1: 0.0469614, HIT_RATE: 0.2905449, ARHR: 0.1117692, NOVELTY: 0.0049700, AVERAGE_POPULARITY: 0.0721405, DIVERSITY_MEAN_INTER_LIST: 0.9940459, DIVERSITY_HERFINDAHL: 0.9993832, COVERAGE_ITEM: 0.3673917, COVERAGE_ITEM_CORRECT: 0.0364581, COVERAGE_USER: 0.5842456, COVERAGE_USER_CORRECT: 0.1382912, DIVERSITY_GINI: 0.1375497, SHANNON_ENTROPY: 11.9462032, \n",
      "\n",
      "Iteration No: 111 ended. Evaluation done at random point.\n",
      "Time taken: 34.2733\n",
      "Function value obtained: -0.0551\n",
      "Current minimum: -0.0558\n",
      "Iteration No: 112 started. Evaluating function at random point.\n",
      "SearchBayesianSkopt: Testing config: {'w_slim_bpr': 1597}\n",
      "EvaluatorHoldout: Processed 4643 ( 100.00% ) in 34.22 sec. Users per second: 136\n",
      "SearchBayesianSkopt: Config 111 is suboptimal. Config: {'w_slim_bpr': 1597} - results: ROC_AUC: 0.1302223, PRECISION: 0.0253069, PRECISION_RECALL_MIN_DEN: 0.1084492, RECALL: 0.1065681, MAP: 0.0475394, MRR: 0.0899604, NDCG: 0.0716869, F1: 0.0409010, HIT_RATE: 0.2530691, ARHR: 0.0980778, NOVELTY: 0.0048398, AVERAGE_POPULARITY: 0.1086252, DIVERSITY_MEAN_INTER_LIST: 0.9848203, DIVERSITY_HERFINDAHL: 0.9984608, COVERAGE_ITEM: 0.3641963, COVERAGE_ITEM_CORRECT: 0.0267565, COVERAGE_USER: 0.5842456, COVERAGE_USER_CORRECT: 0.1228136, DIVERSITY_GINI: 0.1218292, SHANNON_ENTROPY: 11.3926652, \n",
      "\n",
      "Iteration No: 112 ended. Evaluation done at random point.\n",
      "Time taken: 34.2768\n",
      "Function value obtained: -0.0475\n",
      "Current minimum: -0.0558\n",
      "Iteration No: 113 started. Evaluating function at random point.\n",
      "SearchBayesianSkopt: Testing config: {'w_slim_bpr': 276}\n",
      "EvaluatorHoldout: Processed 4643 ( 100.00% ) in 34.21 sec. Users per second: 136\n",
      "SearchBayesianSkopt: Config 112 is suboptimal. Config: {'w_slim_bpr': 276} - results: ROC_AUC: 0.1454522, PRECISION: 0.0289683, PRECISION_RECALL_MIN_DEN: 0.1234377, RECALL: 0.1212990, MAP: 0.0547244, MRR: 0.1017667, NDCG: 0.0820291, F1: 0.0467677, HIT_RATE: 0.2896834, ARHR: 0.1120900, NOVELTY: 0.0048971, AVERAGE_POPULARITY: 0.0900220, DIVERSITY_MEAN_INTER_LIST: 0.9905547, DIVERSITY_HERFINDAHL: 0.9990341, COVERAGE_ITEM: 0.3670837, COVERAGE_ITEM_CORRECT: 0.0337247, COVERAGE_USER: 0.5842456, COVERAGE_USER_CORRECT: 0.1371587, DIVERSITY_GINI: 0.1290154, SHANNON_ENTROPY: 11.6887825, \n"
     ]
    },
    {
     "name": "stdout",
     "output_type": "stream",
     "text": [
      "\n",
      "Iteration No: 113 ended. Evaluation done at random point.\n",
      "Time taken: 34.2843\n",
      "Function value obtained: -0.0547\n",
      "Current minimum: -0.0558\n",
      "Iteration No: 114 started. Evaluating function at random point.\n",
      "SearchBayesianSkopt: Testing config: {'w_slim_bpr': 1693}\n",
      "EvaluatorHoldout: Processed 4643 ( 100.00% ) in 33.86 sec. Users per second: 137\n",
      "SearchBayesianSkopt: Config 113 is suboptimal. Config: {'w_slim_bpr': 1693} - results: ROC_AUC: 0.1292845, PRECISION: 0.0250485, PRECISION_RECALL_MIN_DEN: 0.1076451, RECALL: 0.1058091, MAP: 0.0470408, MRR: 0.0889962, NDCG: 0.0710268, F1: 0.0405075, HIT_RATE: 0.2504846, ARHR: 0.0969576, NOVELTY: 0.0048390, AVERAGE_POPULARITY: 0.1090008, DIVERSITY_MEAN_INTER_LIST: 0.9846777, DIVERSITY_HERFINDAHL: 0.9984466, COVERAGE_ITEM: 0.3641963, COVERAGE_ITEM_CORRECT: 0.0263715, COVERAGE_USER: 0.5842456, COVERAGE_USER_CORRECT: 0.1216811, DIVERSITY_GINI: 0.1216664, SHANNON_ENTROPY: 11.3860963, \n",
      "\n",
      "Iteration No: 114 ended. Evaluation done at random point.\n",
      "Time taken: 33.9121\n",
      "Function value obtained: -0.0470\n",
      "Current minimum: -0.0558\n",
      "Iteration No: 115 started. Evaluating function at random point.\n",
      "SearchBayesianSkopt: Testing config: {'w_slim_bpr': 823}\n",
      "EvaluatorHoldout: Processed 4643 ( 100.00% ) in 33.88 sec. Users per second: 137\n",
      "SearchBayesianSkopt: Config 114 is suboptimal. Config: {'w_slim_bpr': 823} - results: ROC_AUC: 0.1383950, PRECISION: 0.0271376, PRECISION_RECALL_MIN_DEN: 0.1172150, RECALL: 0.1151418, MAP: 0.0506258, MRR: 0.0950895, NDCG: 0.0765884, F1: 0.0439231, HIT_RATE: 0.2713763, ARHR: 0.1042732, NOVELTY: 0.0048534, AVERAGE_POPULARITY: 0.1028238, DIVERSITY_MEAN_INTER_LIST: 0.9868592, DIVERSITY_HERFINDAHL: 0.9986647, COVERAGE_ITEM: 0.3670837, COVERAGE_ITEM_CORRECT: 0.0300289, COVERAGE_USER: 0.5842456, COVERAGE_USER_CORRECT: 0.1304895, DIVERSITY_GINI: 0.1246387, SHANNON_ENTROPY: 11.4900351, \n",
      "\n",
      "Iteration No: 115 ended. Evaluation done at random point.\n",
      "Time taken: 33.9427\n",
      "Function value obtained: -0.0506\n",
      "Current minimum: -0.0558\n",
      "Iteration No: 116 started. Evaluating function at random point.\n",
      "SearchBayesianSkopt: Testing config: {'w_slim_bpr': 880}\n",
      "EvaluatorHoldout: Processed 4643 ( 100.00% ) in 33.90 sec. Users per second: 137\n",
      "SearchBayesianSkopt: Config 115 is suboptimal. Config: {'w_slim_bpr': 880} - results: ROC_AUC: 0.1377290, PRECISION: 0.0270515, PRECISION_RECALL_MIN_DEN: 0.1168073, RECALL: 0.1147340, MAP: 0.0502608, MRR: 0.0944414, NDCG: 0.0761592, F1: 0.0437806, HIT_RATE: 0.2705148, ARHR: 0.1034291, NOVELTY: 0.0048512, AVERAGE_POPULARITY: 0.1035952, DIVERSITY_MEAN_INTER_LIST: 0.9866117, DIVERSITY_HERFINDAHL: 0.9986399, COVERAGE_ITEM: 0.3671992, COVERAGE_ITEM_CORRECT: 0.0298364, COVERAGE_USER: 0.5842456, COVERAGE_USER_CORRECT: 0.1304895, DIVERSITY_GINI: 0.1243524, SHANNON_ENTROPY: 11.4781008, \n",
      "\n",
      "Iteration No: 116 ended. Evaluation done at random point.\n",
      "Time taken: 33.9548\n",
      "Function value obtained: -0.0503\n",
      "Current minimum: -0.0558\n",
      "Iteration No: 117 started. Evaluating function at random point.\n",
      "SearchBayesianSkopt: Testing config: {'w_slim_bpr': 975}\n",
      "EvaluatorHoldout: Processed 4643 ( 100.00% ) in 34.03 sec. Users per second: 136\n",
      "SearchBayesianSkopt: Config 116 is suboptimal. Config: {'w_slim_bpr': 975} - results: ROC_AUC: 0.1364991, PRECISION: 0.0267499, PRECISION_RECALL_MIN_DEN: 0.1158346, RECALL: 0.1137986, MAP: 0.0498853, MRR: 0.0939845, NDCG: 0.0755708, F1: 0.0433175, HIT_RATE: 0.2674995, ARHR: 0.1027928, NOVELTY: 0.0048483, AVERAGE_POPULARITY: 0.1046060, DIVERSITY_MEAN_INTER_LIST: 0.9862574, DIVERSITY_HERFINDAHL: 0.9986045, COVERAGE_ITEM: 0.3656593, COVERAGE_ITEM_CORRECT: 0.0292589, COVERAGE_USER: 0.5842456, COVERAGE_USER_CORRECT: 0.1293570, DIVERSITY_GINI: 0.1235339, SHANNON_ENTROPY: 11.4590812, \n",
      "\n",
      "Iteration No: 117 ended. Evaluation done at random point.\n",
      "Time taken: 34.1027\n",
      "Function value obtained: -0.0499\n",
      "Current minimum: -0.0558\n",
      "Iteration No: 118 started. Evaluating function at random point.\n",
      "SearchBayesianSkopt: Testing config: {'w_slim_bpr': 1558}\n",
      "EvaluatorHoldout: Processed 4000 ( 86.15% ) in 30.03 sec. Users per second: 133\n",
      "EvaluatorHoldout: Processed 4643 ( 100.00% ) in 34.84 sec. Users per second: 133\n",
      "SearchBayesianSkopt: Config 117 is suboptimal. Config: {'w_slim_bpr': 1558} - results: ROC_AUC: 0.1304622, PRECISION: 0.0254361, PRECISION_RECALL_MIN_DEN: 0.1091121, RECALL: 0.1072181, MAP: 0.0476576, MRR: 0.0901441, NDCG: 0.0719453, F1: 0.0411176, HIT_RATE: 0.2543614, ARHR: 0.0983273, NOVELTY: 0.0048397, AVERAGE_POPULARITY: 0.1084857, DIVERSITY_MEAN_INTER_LIST: 0.9848718, DIVERSITY_HERFINDAHL: 0.9984660, COVERAGE_ITEM: 0.3645428, COVERAGE_ITEM_CORRECT: 0.0269875, COVERAGE_USER: 0.5842456, COVERAGE_USER_CORRECT: 0.1233170, DIVERSITY_GINI: 0.1218928, SHANNON_ENTROPY: 11.3943330, \n",
      "\n",
      "Iteration No: 118 ended. Evaluation done at random point.\n",
      "Time taken: 34.9069\n",
      "Function value obtained: -0.0477\n",
      "Current minimum: -0.0558\n",
      "Iteration No: 119 started. Evaluating function at random point.\n",
      "SearchBayesianSkopt: Testing config: {'w_slim_bpr': 1612}\n",
      "EvaluatorHoldout: Processed 4000 ( 86.15% ) in 30.72 sec. Users per second: 130\n",
      "EvaluatorHoldout: Processed 4643 ( 100.00% ) in 35.27 sec. Users per second: 132\n",
      "SearchBayesianSkopt: Config 118 is suboptimal. Config: {'w_slim_bpr': 1612} - results: ROC_AUC: 0.1301510, PRECISION: 0.0252854, PRECISION_RECALL_MIN_DEN: 0.1083415, RECALL: 0.1064604, MAP: 0.0475522, MRR: 0.0900019, NDCG: 0.0716721, F1: 0.0408649, HIT_RATE: 0.2528538, ARHR: 0.0981008, NOVELTY: 0.0048399, AVERAGE_POPULARITY: 0.1086148, DIVERSITY_MEAN_INTER_LIST: 0.9848184, DIVERSITY_HERFINDAHL: 0.9984606, COVERAGE_ITEM: 0.3642733, COVERAGE_ITEM_CORRECT: 0.0267180, COVERAGE_USER: 0.5842456, COVERAGE_USER_CORRECT: 0.1226878, DIVERSITY_GINI: 0.1218775, SHANNON_ENTROPY: 11.3929062, \n",
      "\n",
      "Iteration No: 119 ended. Evaluation done at random point.\n",
      "Time taken: 35.3304\n",
      "Function value obtained: -0.0476\n",
      "Current minimum: -0.0558\n",
      "Iteration No: 120 started. Evaluating function at random point.\n",
      "SearchBayesianSkopt: Testing config: {'w_slim_bpr': 235}\n",
      "EvaluatorHoldout: Processed 4000 ( 86.15% ) in 30.18 sec. Users per second: 133\n",
      "EvaluatorHoldout: Processed 4643 ( 100.00% ) in 34.85 sec. Users per second: 133\n",
      "SearchBayesianSkopt: Config 119 is suboptimal. Config: {'w_slim_bpr': 235} - results: ROC_AUC: 0.1460345, PRECISION: 0.0292053, PRECISION_RECALL_MIN_DEN: 0.1248497, RECALL: 0.1226931, MAP: 0.0549921, MRR: 0.1024638, NDCG: 0.0826042, F1: 0.0471800, HIT_RATE: 0.2920526, ARHR: 0.1127632, NOVELTY: 0.0049034, AVERAGE_POPULARITY: 0.0884176, DIVERSITY_MEAN_INTER_LIST: 0.9909622, DIVERSITY_HERFINDAHL: 0.9990749, COVERAGE_ITEM: 0.3667372, COVERAGE_ITEM_CORRECT: 0.0342637, COVERAGE_USER: 0.5842456, COVERAGE_USER_CORRECT: 0.1385428, DIVERSITY_GINI: 0.1296020, SHANNON_ENTROPY: 11.7147261, \n",
      "\n",
      "Iteration No: 120 ended. Evaluation done at random point.\n",
      "Time taken: 34.9134\n",
      "Function value obtained: -0.0550\n",
      "Current minimum: -0.0558\n",
      "Iteration No: 121 started. Evaluating function at random point.\n",
      "SearchBayesianSkopt: Testing config: {'w_slim_bpr': 1775}\n",
      "EvaluatorHoldout: Processed 4643 ( 100.00% ) in 34.13 sec. Users per second: 136\n",
      "SearchBayesianSkopt: Config 120 is suboptimal. Config: {'w_slim_bpr': 1775} - results: ROC_AUC: 0.1289219, PRECISION: 0.0249408, PRECISION_RECALL_MIN_DEN: 0.1072646, RECALL: 0.1054321, MAP: 0.0469915, MRR: 0.0889820, NDCG: 0.0708735, F1: 0.0403390, HIT_RATE: 0.2494077, ARHR: 0.0967732, NOVELTY: 0.0048388, AVERAGE_POPULARITY: 0.1092979, DIVERSITY_MEAN_INTER_LIST: 0.9845610, DIVERSITY_HERFINDAHL: 0.9984349, COVERAGE_ITEM: 0.3641963, COVERAGE_ITEM_CORRECT: 0.0261790, COVERAGE_USER: 0.5842456, COVERAGE_USER_CORRECT: 0.1213036, DIVERSITY_GINI: 0.1216270, SHANNON_ENTROPY: 11.3817858, \n",
      "\n",
      "Iteration No: 121 ended. Evaluation done at random point.\n",
      "Time taken: 34.1989\n",
      "Function value obtained: -0.0470\n",
      "Current minimum: -0.0558\n",
      "Iteration No: 122 started. Evaluating function at random point.\n",
      "SearchBayesianSkopt: Testing config: {'w_slim_bpr': 292}\n",
      "EvaluatorHoldout: Processed 4643 ( 100.00% ) in 33.49 sec. Users per second: 139\n",
      "SearchBayesianSkopt: Config 121 is suboptimal. Config: {'w_slim_bpr': 292} - results: ROC_AUC: 0.1451604, PRECISION: 0.0290114, PRECISION_RECALL_MIN_DEN: 0.1230915, RECALL: 0.1209157, MAP: 0.0546020, MRR: 0.1014962, NDCG: 0.0818462, F1: 0.0467952, HIT_RATE: 0.2901142, ARHR: 0.1118646, NOVELTY: 0.0048944, AVERAGE_POPULARITY: 0.0907050, DIVERSITY_MEAN_INTER_LIST: 0.9903960, DIVERSITY_HERFINDAHL: 0.9990183, COVERAGE_ITEM: 0.3667372, COVERAGE_ITEM_CORRECT: 0.0336477, COVERAGE_USER: 0.5842456, COVERAGE_USER_CORRECT: 0.1372845, DIVERSITY_GINI: 0.1286869, SHANNON_ENTROPY: 11.6789778, \n"
     ]
    },
    {
     "name": "stdout",
     "output_type": "stream",
     "text": [
      "\n",
      "Iteration No: 122 ended. Evaluation done at random point.\n",
      "Time taken: 33.5510\n",
      "Function value obtained: -0.0546\n",
      "Current minimum: -0.0558\n",
      "Iteration No: 123 started. Evaluating function at random point.\n",
      "SearchBayesianSkopt: Testing config: {'w_slim_bpr': 550}\n",
      "EvaluatorHoldout: Processed 4643 ( 100.00% ) in 34.02 sec. Users per second: 136\n",
      "SearchBayesianSkopt: Config 122 is suboptimal. Config: {'w_slim_bpr': 550} - results: ROC_AUC: 0.1422505, PRECISION: 0.0280207, PRECISION_RECALL_MIN_DEN: 0.1205391, RECALL: 0.1183495, MAP: 0.0527656, MRR: 0.0984799, NDCG: 0.0793177, F1: 0.0453130, HIT_RATE: 0.2802068, ARHR: 0.1083198, NOVELTY: 0.0048660, AVERAGE_POPULARITY: 0.0985113, DIVERSITY_MEAN_INTER_LIST: 0.9882114, DIVERSITY_HERFINDAHL: 0.9987999, COVERAGE_ITEM: 0.3676612, COVERAGE_ITEM_CORRECT: 0.0314918, COVERAGE_USER: 0.5842456, COVERAGE_USER_CORRECT: 0.1336353, DIVERSITY_GINI: 0.1261752, SHANNON_ENTROPY: 11.5584119, \n",
      "\n",
      "Iteration No: 123 ended. Evaluation done at random point.\n",
      "Time taken: 34.0866\n",
      "Function value obtained: -0.0528\n",
      "Current minimum: -0.0558\n",
      "Iteration No: 124 started. Evaluating function at random point.\n",
      "SearchBayesianSkopt: Testing config: {'w_slim_bpr': 1376}\n",
      "EvaluatorHoldout: Processed 4643 ( 100.00% ) in 33.76 sec. Users per second: 138\n",
      "SearchBayesianSkopt: Config 123 is suboptimal. Config: {'w_slim_bpr': 1376} - results: ROC_AUC: 0.1324929, PRECISION: 0.0256515, PRECISION_RECALL_MIN_DEN: 0.1104639, RECALL: 0.1085492, MAP: 0.0484864, MRR: 0.0914925, NDCG: 0.0729994, F1: 0.0414968, HIT_RATE: 0.2565152, ARHR: 0.0997911, NOVELTY: 0.0048406, AVERAGE_POPULARITY: 0.1077025, DIVERSITY_MEAN_INTER_LIST: 0.9851731, DIVERSITY_HERFINDAHL: 0.9984961, COVERAGE_ITEM: 0.3655053, COVERAGE_ITEM_CORRECT: 0.0274495, COVERAGE_USER: 0.5842456, COVERAGE_USER_CORRECT: 0.1243236, DIVERSITY_GINI: 0.1225260, SHANNON_ENTROPY: 11.4106069, \n",
      "\n",
      "Iteration No: 124 ended. Evaluation done at random point.\n",
      "Time taken: 33.8231\n",
      "Function value obtained: -0.0485\n",
      "Current minimum: -0.0558\n",
      "Iteration No: 125 started. Evaluating function at random point.\n",
      "SearchBayesianSkopt: Testing config: {'w_slim_bpr': 1394}\n",
      "EvaluatorHoldout: Processed 4643 ( 100.00% ) in 33.77 sec. Users per second: 137\n",
      "SearchBayesianSkopt: Config 124 is suboptimal. Config: {'w_slim_bpr': 1394} - results: ROC_AUC: 0.1324687, PRECISION: 0.0256084, PRECISION_RECALL_MIN_DEN: 0.1104092, RECALL: 0.1084945, MAP: 0.0484364, MRR: 0.0913939, NDCG: 0.0729286, F1: 0.0414365, HIT_RATE: 0.2560844, ARHR: 0.0996830, NOVELTY: 0.0048403, AVERAGE_POPULARITY: 0.1078067, DIVERSITY_MEAN_INTER_LIST: 0.9851371, DIVERSITY_HERFINDAHL: 0.9984925, COVERAGE_ITEM: 0.3656208, COVERAGE_ITEM_CORRECT: 0.0273725, COVERAGE_USER: 0.5842456, COVERAGE_USER_CORRECT: 0.1241978, DIVERSITY_GINI: 0.1224780, SHANNON_ENTROPY: 11.4087731, \n",
      "\n",
      "Iteration No: 125 ended. Evaluation done at random point.\n",
      "Time taken: 33.8316\n",
      "Function value obtained: -0.0484\n",
      "Current minimum: -0.0558\n",
      "Iteration No: 126 started. Evaluating function at random point.\n",
      "SearchBayesianSkopt: Testing config: {'w_slim_bpr': 1789}\n",
      "EvaluatorHoldout: Processed 4643 ( 100.00% ) in 32.82 sec. Users per second: 141\n",
      "SearchBayesianSkopt: Config 125 is suboptimal. Config: {'w_slim_bpr': 1789} - results: ROC_AUC: 0.1285939, PRECISION: 0.0249623, PRECISION_RECALL_MIN_DEN: 0.1072862, RECALL: 0.1054415, MAP: 0.0469644, MRR: 0.0889500, NDCG: 0.0708525, F1: 0.0403679, HIT_RATE: 0.2496231, ARHR: 0.0967564, NOVELTY: 0.0048387, AVERAGE_POPULARITY: 0.1093375, DIVERSITY_MEAN_INTER_LIST: 0.9845449, DIVERSITY_HERFINDAHL: 0.9984333, COVERAGE_ITEM: 0.3640808, COVERAGE_ITEM_CORRECT: 0.0262175, COVERAGE_USER: 0.5842456, COVERAGE_USER_CORRECT: 0.1213036, DIVERSITY_GINI: 0.1215705, SHANNON_ENTROPY: 11.3806754, \n",
      "\n",
      "Iteration No: 126 ended. Evaluation done at random point.\n",
      "Time taken: 32.8890\n",
      "Function value obtained: -0.0470\n",
      "Current minimum: -0.0558\n",
      "Iteration No: 127 started. Evaluating function at random point.\n",
      "SearchBayesianSkopt: Testing config: {'w_slim_bpr': 1417}\n",
      "EvaluatorHoldout: Processed 4643 ( 100.00% ) in 33.76 sec. Users per second: 138\n",
      "SearchBayesianSkopt: Config 126 is suboptimal. Config: {'w_slim_bpr': 1417} - results: ROC_AUC: 0.1322946, PRECISION: 0.0255438, PRECISION_RECALL_MIN_DEN: 0.1101507, RECALL: 0.1082516, MAP: 0.0483639, MRR: 0.0912994, NDCG: 0.0728100, F1: 0.0413342, HIT_RATE: 0.2554383, ARHR: 0.0995430, NOVELTY: 0.0048404, AVERAGE_POPULARITY: 0.1079080, DIVERSITY_MEAN_INTER_LIST: 0.9850956, DIVERSITY_HERFINDAHL: 0.9984883, COVERAGE_ITEM: 0.3655823, COVERAGE_ITEM_CORRECT: 0.0273340, COVERAGE_USER: 0.5842456, COVERAGE_USER_CORRECT: 0.1238203, DIVERSITY_GINI: 0.1224979, SHANNON_ENTROPY: 11.4075202, \n",
      "\n",
      "Iteration No: 127 ended. Evaluation done at random point.\n",
      "Time taken: 33.8300\n",
      "Function value obtained: -0.0484\n",
      "Current minimum: -0.0558\n",
      "Iteration No: 128 started. Evaluating function at random point.\n",
      "SearchBayesianSkopt: Testing config: {'w_slim_bpr': 1234}\n",
      "EvaluatorHoldout: Processed 4643 ( 100.00% ) in 33.79 sec. Users per second: 137\n",
      "SearchBayesianSkopt: Config 127 is suboptimal. Config: {'w_slim_bpr': 1234} - results: ROC_AUC: 0.1335558, PRECISION: 0.0261684, PRECISION_RECALL_MIN_DEN: 0.1127562, RECALL: 0.1107687, MAP: 0.0489217, MRR: 0.0921179, NDCG: 0.0739259, F1: 0.0423354, HIT_RATE: 0.2616843, ARHR: 0.1006399, NOVELTY: 0.0048422, AVERAGE_POPULARITY: 0.1069402, DIVERSITY_MEAN_INTER_LIST: 0.9854676, DIVERSITY_HERFINDAHL: 0.9985255, COVERAGE_ITEM: 0.3650048, COVERAGE_ITEM_CORRECT: 0.0283734, COVERAGE_USER: 0.5842456, COVERAGE_USER_CORRECT: 0.1264628, DIVERSITY_GINI: 0.1227338, SHANNON_ENTROPY: 11.4248291, \n",
      "\n",
      "Iteration No: 128 ended. Evaluation done at random point.\n",
      "Time taken: 33.8509\n",
      "Function value obtained: -0.0489\n",
      "Current minimum: -0.0558\n",
      "Iteration No: 129 started. Evaluating function at random point.\n",
      "SearchBayesianSkopt: Testing config: {'w_slim_bpr': 1681}\n",
      "EvaluatorHoldout: Processed 4643 ( 100.00% ) in 33.98 sec. Users per second: 137\n",
      "SearchBayesianSkopt: Config 128 is suboptimal. Config: {'w_slim_bpr': 1681} - results: ROC_AUC: 0.1294076, PRECISION: 0.0250915, PRECISION_RECALL_MIN_DEN: 0.1076882, RECALL: 0.1058209, MAP: 0.0472075, MRR: 0.0892793, NDCG: 0.0711670, F1: 0.0405647, HIT_RATE: 0.2509154, ARHR: 0.0973043, NOVELTY: 0.0048393, AVERAGE_POPULARITY: 0.1088993, DIVERSITY_MEAN_INTER_LIST: 0.9847087, DIVERSITY_HERFINDAHL: 0.9984497, COVERAGE_ITEM: 0.3643118, COVERAGE_ITEM_CORRECT: 0.0264100, COVERAGE_USER: 0.5842456, COVERAGE_USER_CORRECT: 0.1216811, DIVERSITY_GINI: 0.1217409, SHANNON_ENTROPY: 11.3877444, \n",
      "\n",
      "Iteration No: 129 ended. Evaluation done at random point.\n",
      "Time taken: 34.0396\n",
      "Function value obtained: -0.0472\n",
      "Current minimum: -0.0558\n",
      "Iteration No: 130 started. Evaluating function at random point.\n",
      "SearchBayesianSkopt: Testing config: {'w_slim_bpr': 811}\n",
      "EvaluatorHoldout: Processed 4643 ( 100.00% ) in 34.06 sec. Users per second: 136\n",
      "SearchBayesianSkopt: Config 129 is suboptimal. Config: {'w_slim_bpr': 811} - results: ROC_AUC: 0.1385616, PRECISION: 0.0271592, PRECISION_RECALL_MIN_DEN: 0.1171145, RECALL: 0.1150413, MAP: 0.0507127, MRR: 0.0953518, NDCG: 0.0766654, F1: 0.0439440, HIT_RATE: 0.2715916, ARHR: 0.1045989, NOVELTY: 0.0048537, AVERAGE_POPULARITY: 0.1026758, DIVERSITY_MEAN_INTER_LIST: 0.9869045, DIVERSITY_HERFINDAHL: 0.9986692, COVERAGE_ITEM: 0.3670452, COVERAGE_ITEM_CORRECT: 0.0301059, COVERAGE_USER: 0.5842456, COVERAGE_USER_CORRECT: 0.1304895, DIVERSITY_GINI: 0.1246457, SHANNON_ENTROPY: 11.4921717, \n",
      "\n",
      "Iteration No: 130 ended. Evaluation done at random point.\n",
      "Time taken: 34.1244\n",
      "Function value obtained: -0.0507\n",
      "Current minimum: -0.0558\n",
      "Iteration No: 131 started. Evaluating function at random point.\n",
      "SearchBayesianSkopt: Testing config: {'w_slim_bpr': 217}\n",
      "EvaluatorHoldout: Processed 4643 ( 100.00% ) in 32.00 sec. Users per second: 145\n",
      "SearchBayesianSkopt: Config 130 is suboptimal. Config: {'w_slim_bpr': 217} - results: ROC_AUC: 0.1456354, PRECISION: 0.0292914, PRECISION_RECALL_MIN_DEN: 0.1251015, RECALL: 0.1229408, MAP: 0.0549478, MRR: 0.1025503, NDCG: 0.0826744, F1: 0.0473107, HIT_RATE: 0.2929141, ARHR: 0.1128522, NOVELTY: 0.0049067, AVERAGE_POPULARITY: 0.0873990, DIVERSITY_MEAN_INTER_LIST: 0.9911873, DIVERSITY_HERFINDAHL: 0.9990974, COVERAGE_ITEM: 0.3671222, COVERAGE_ITEM_CORRECT: 0.0346872, COVERAGE_USER: 0.5842456, COVERAGE_USER_CORRECT: 0.1384170, DIVERSITY_GINI: 0.1302499, SHANNON_ENTROPY: 11.7307643, \n"
     ]
    },
    {
     "name": "stdout",
     "output_type": "stream",
     "text": [
      "\n",
      "Iteration No: 131 ended. Evaluation done at random point.\n",
      "Time taken: 32.0649\n",
      "Function value obtained: -0.0549\n",
      "Current minimum: -0.0558\n",
      "Iteration No: 132 started. Evaluating function at random point.\n",
      "SearchBayesianSkopt: Testing config: {'w_slim_bpr': 1368}\n",
      "EvaluatorHoldout: Processed 4643 ( 100.00% ) in 33.86 sec. Users per second: 137\n",
      "SearchBayesianSkopt: Config 131 is suboptimal. Config: {'w_slim_bpr': 1368} - results: ROC_AUC: 0.1326196, PRECISION: 0.0256731, PRECISION_RECALL_MIN_DEN: 0.1106792, RECALL: 0.1087646, MAP: 0.0485232, MRR: 0.0915317, NDCG: 0.0730771, F1: 0.0415407, HIT_RATE: 0.2567306, ARHR: 0.0998414, NOVELTY: 0.0048407, AVERAGE_POPULARITY: 0.1076836, DIVERSITY_MEAN_INTER_LIST: 0.9851806, DIVERSITY_HERFINDAHL: 0.9984968, COVERAGE_ITEM: 0.3657363, COVERAGE_ITEM_CORRECT: 0.0274880, COVERAGE_USER: 0.5842456, COVERAGE_USER_CORRECT: 0.1244495, DIVERSITY_GINI: 0.1225850, SHANNON_ENTROPY: 11.4113712, \n",
      "\n",
      "Iteration No: 132 ended. Evaluation done at random point.\n",
      "Time taken: 33.9294\n",
      "Function value obtained: -0.0485\n",
      "Current minimum: -0.0558\n",
      "Iteration No: 133 started. Evaluating function at random point.\n",
      "SearchBayesianSkopt: Testing config: {'w_slim_bpr': 1271}\n",
      "EvaluatorHoldout: Processed 4000 ( 86.15% ) in 31.23 sec. Users per second: 128\n",
      "EvaluatorHoldout: Processed 4643 ( 100.00% ) in 36.56 sec. Users per second: 127\n",
      "SearchBayesianSkopt: Config 132 is suboptimal. Config: {'w_slim_bpr': 1271} - results: ROC_AUC: 0.1331240, PRECISION: 0.0260607, PRECISION_RECALL_MIN_DEN: 0.1124358, RECALL: 0.1104560, MAP: 0.0487375, MRR: 0.0918322, NDCG: 0.0736727, F1: 0.0421716, HIT_RATE: 0.2606074, ARHR: 0.1002976, NOVELTY: 0.0048418, AVERAGE_POPULARITY: 0.1071444, DIVERSITY_MEAN_INTER_LIST: 0.9853848, DIVERSITY_HERFINDAHL: 0.9985173, COVERAGE_ITEM: 0.3652743, COVERAGE_ITEM_CORRECT: 0.0281039, COVERAGE_USER: 0.5842456, COVERAGE_USER_CORRECT: 0.1259595, DIVERSITY_GINI: 0.1226566, SHANNON_ENTROPY: 11.4205262, \n",
      "\n",
      "Iteration No: 133 ended. Evaluation done at random point.\n",
      "Time taken: 36.6405\n",
      "Function value obtained: -0.0487\n",
      "Current minimum: -0.0558\n",
      "Iteration No: 134 started. Evaluating function at random point.\n",
      "SearchBayesianSkopt: Testing config: {'w_slim_bpr': 1625}\n",
      "EvaluatorHoldout: Processed 4643 ( 100.00% ) in 32.95 sec. Users per second: 141\n",
      "SearchBayesianSkopt: Config 133 is suboptimal. Config: {'w_slim_bpr': 1625} - results: ROC_AUC: 0.1301630, PRECISION: 0.0251992, PRECISION_RECALL_MIN_DEN: 0.1081621, RECALL: 0.1062931, MAP: 0.0475362, MRR: 0.0898883, NDCG: 0.0715902, F1: 0.0407401, HIT_RATE: 0.2519922, ARHR: 0.0979656, NOVELTY: 0.0048397, AVERAGE_POPULARITY: 0.1086838, DIVERSITY_MEAN_INTER_LIST: 0.9847939, DIVERSITY_HERFINDAHL: 0.9984582, COVERAGE_ITEM: 0.3643118, COVERAGE_ITEM_CORRECT: 0.0266025, COVERAGE_USER: 0.5842456, COVERAGE_USER_CORRECT: 0.1223103, DIVERSITY_GINI: 0.1218620, SHANNON_ENTROPY: 11.3919170, \n",
      "\n",
      "Iteration No: 134 ended. Evaluation done at random point.\n",
      "Time taken: 33.0144\n",
      "Function value obtained: -0.0475\n",
      "Current minimum: -0.0558\n",
      "Iteration No: 135 started. Evaluating function at random point.\n",
      "SearchBayesianSkopt: Testing config: {'w_slim_bpr': 1191}\n",
      "EvaluatorHoldout: Processed 4643 ( 100.00% ) in 33.88 sec. Users per second: 137\n",
      "SearchBayesianSkopt: Config 134 is suboptimal. Config: {'w_slim_bpr': 1191} - results: ROC_AUC: 0.1338372, PRECISION: 0.0261900, PRECISION_RECALL_MIN_DEN: 0.1131423, RECALL: 0.1111655, MAP: 0.0489694, MRR: 0.0922235, NDCG: 0.0740617, F1: 0.0423925, HIT_RATE: 0.2618996, ARHR: 0.1008083, NOVELTY: 0.0048428, AVERAGE_POPULARITY: 0.1066106, DIVERSITY_MEAN_INTER_LIST: 0.9855726, DIVERSITY_HERFINDAHL: 0.9985360, COVERAGE_ITEM: 0.3648508, COVERAGE_ITEM_CORRECT: 0.0284504, COVERAGE_USER: 0.5842456, COVERAGE_USER_CORRECT: 0.1263370, DIVERSITY_GINI: 0.1228262, SHANNON_ENTROPY: 11.4293082, \n",
      "\n",
      "Iteration No: 135 ended. Evaluation done at random point.\n",
      "Time taken: 35.0432\n",
      "Function value obtained: -0.0490\n",
      "Current minimum: -0.0558\n",
      "Iteration No: 136 started. Searching for the next optimal point.\n",
      "SearchBayesianSkopt: Testing config: {'w_slim_bpr': 0}\n",
      "EvaluatorHoldout: Processed 4643 ( 100.00% ) in 33.92 sec. Users per second: 137\n",
      "SearchBayesianSkopt: Config 135 is suboptimal. Config: {'w_slim_bpr': 0} - results: ROC_AUC: 0.1427320, PRECISION: 0.0289253, PRECISION_RECALL_MIN_DEN: 0.1237887, RECALL: 0.1217464, MAP: 0.0548739, MRR: 0.1013160, NDCG: 0.0820821, F1: 0.0467446, HIT_RATE: 0.2892526, ARHR: 0.1110927, NOVELTY: 0.0049737, AVERAGE_POPULARITY: 0.0712909, DIVERSITY_MEAN_INTER_LIST: 0.9941693, DIVERSITY_HERFINDAHL: 0.9993955, COVERAGE_ITEM: 0.3674302, COVERAGE_ITEM_CORRECT: 0.0364196, COVERAGE_USER: 0.5842456, COVERAGE_USER_CORRECT: 0.1374103, DIVERSITY_GINI: 0.1379547, SHANNON_ENTROPY: 11.9571592, \n",
      "\n",
      "Iteration No: 136 ended. Search finished for the next optimal point.\n",
      "Time taken: 35.0988\n",
      "Function value obtained: -0.0549\n",
      "Current minimum: -0.0558\n",
      "Iteration No: 137 started. Searching for the next optimal point.\n"
     ]
    },
    {
     "name": "stderr",
     "output_type": "stream",
     "text": [
      "C:\\Users\\davel\\anaconda3\\envs\\RecSysFramework\\lib\\site-packages\\skopt\\optimizer\\optimizer.py:399: UserWarning: The objective has been evaluated at this point before.\n",
      "  warnings.warn(\"The objective has been evaluated \"\n"
     ]
    },
    {
     "name": "stdout",
     "output_type": "stream",
     "text": [
      "SearchBayesianSkopt: Testing config: {'w_slim_bpr': 0}\n",
      "EvaluatorHoldout: Processed 4643 ( 100.00% ) in 33.68 sec. Users per second: 138\n",
      "SearchBayesianSkopt: Config 136 is suboptimal. Config: {'w_slim_bpr': 0} - results: ROC_AUC: 0.1427320, PRECISION: 0.0289253, PRECISION_RECALL_MIN_DEN: 0.1237887, RECALL: 0.1217464, MAP: 0.0548739, MRR: 0.1013160, NDCG: 0.0820821, F1: 0.0467446, HIT_RATE: 0.2892526, ARHR: 0.1110927, NOVELTY: 0.0049737, AVERAGE_POPULARITY: 0.0712909, DIVERSITY_MEAN_INTER_LIST: 0.9941693, DIVERSITY_HERFINDAHL: 0.9993955, COVERAGE_ITEM: 0.3674302, COVERAGE_ITEM_CORRECT: 0.0364196, COVERAGE_USER: 0.5842456, COVERAGE_USER_CORRECT: 0.1374103, DIVERSITY_GINI: 0.1379547, SHANNON_ENTROPY: 11.9571592, \n",
      "\n",
      "Iteration No: 137 ended. Search finished for the next optimal point.\n",
      "Time taken: 34.9016\n",
      "Function value obtained: -0.0549\n",
      "Current minimum: -0.0558\n",
      "Iteration No: 138 started. Searching for the next optimal point.\n"
     ]
    },
    {
     "name": "stderr",
     "output_type": "stream",
     "text": [
      "C:\\Users\\davel\\anaconda3\\envs\\RecSysFramework\\lib\\site-packages\\skopt\\optimizer\\optimizer.py:399: UserWarning: The objective has been evaluated at this point before.\n",
      "  warnings.warn(\"The objective has been evaluated \"\n"
     ]
    },
    {
     "name": "stdout",
     "output_type": "stream",
     "text": [
      "SearchBayesianSkopt: Testing config: {'w_slim_bpr': 0}\n",
      "EvaluatorHoldout: Processed 4643 ( 100.00% ) in 33.56 sec. Users per second: 138\n",
      "SearchBayesianSkopt: Config 137 is suboptimal. Config: {'w_slim_bpr': 0} - results: ROC_AUC: 0.1427320, PRECISION: 0.0289253, PRECISION_RECALL_MIN_DEN: 0.1237887, RECALL: 0.1217464, MAP: 0.0548739, MRR: 0.1013160, NDCG: 0.0820821, F1: 0.0467446, HIT_RATE: 0.2892526, ARHR: 0.1110927, NOVELTY: 0.0049737, AVERAGE_POPULARITY: 0.0712909, DIVERSITY_MEAN_INTER_LIST: 0.9941693, DIVERSITY_HERFINDAHL: 0.9993955, COVERAGE_ITEM: 0.3674302, COVERAGE_ITEM_CORRECT: 0.0364196, COVERAGE_USER: 0.5842456, COVERAGE_USER_CORRECT: 0.1374103, DIVERSITY_GINI: 0.1379547, SHANNON_ENTROPY: 11.9571592, \n",
      "\n",
      "Iteration No: 138 ended. Search finished for the next optimal point.\n",
      "Time taken: 34.7823\n",
      "Function value obtained: -0.0549\n",
      "Current minimum: -0.0558\n",
      "Iteration No: 139 started. Searching for the next optimal point.\n"
     ]
    },
    {
     "name": "stderr",
     "output_type": "stream",
     "text": [
      "C:\\Users\\davel\\anaconda3\\envs\\RecSysFramework\\lib\\site-packages\\skopt\\optimizer\\optimizer.py:399: UserWarning: The objective has been evaluated at this point before.\n",
      "  warnings.warn(\"The objective has been evaluated \"\n"
     ]
    },
    {
     "name": "stdout",
     "output_type": "stream",
     "text": [
      "SearchBayesianSkopt: Testing config: {'w_slim_bpr': 0}\n",
      "EvaluatorHoldout: Processed 4643 ( 100.00% ) in 33.33 sec. Users per second: 139\n",
      "SearchBayesianSkopt: Config 138 is suboptimal. Config: {'w_slim_bpr': 0} - results: ROC_AUC: 0.1427320, PRECISION: 0.0289253, PRECISION_RECALL_MIN_DEN: 0.1237887, RECALL: 0.1217464, MAP: 0.0548739, MRR: 0.1013160, NDCG: 0.0820821, F1: 0.0467446, HIT_RATE: 0.2892526, ARHR: 0.1110927, NOVELTY: 0.0049737, AVERAGE_POPULARITY: 0.0712909, DIVERSITY_MEAN_INTER_LIST: 0.9941693, DIVERSITY_HERFINDAHL: 0.9993955, COVERAGE_ITEM: 0.3674302, COVERAGE_ITEM_CORRECT: 0.0364196, COVERAGE_USER: 0.5842456, COVERAGE_USER_CORRECT: 0.1374103, DIVERSITY_GINI: 0.1379547, SHANNON_ENTROPY: 11.9571592, \n",
      "\n",
      "Iteration No: 139 ended. Search finished for the next optimal point.\n",
      "Time taken: 34.5745\n",
      "Function value obtained: -0.0549\n",
      "Current minimum: -0.0558\n",
      "Iteration No: 140 started. Searching for the next optimal point.\n"
     ]
    },
    {
     "name": "stderr",
     "output_type": "stream",
     "text": [
      "C:\\Users\\davel\\anaconda3\\envs\\RecSysFramework\\lib\\site-packages\\skopt\\optimizer\\optimizer.py:399: UserWarning: The objective has been evaluated at this point before.\n",
      "  warnings.warn(\"The objective has been evaluated \"\n"
     ]
    },
    {
     "name": "stdout",
     "output_type": "stream",
     "text": [
      "SearchBayesianSkopt: Testing config: {'w_slim_bpr': 0}\n",
      "EvaluatorHoldout: Processed 4643 ( 100.00% ) in 33.82 sec. Users per second: 137\n",
      "SearchBayesianSkopt: Config 139 is suboptimal. Config: {'w_slim_bpr': 0} - results: ROC_AUC: 0.1427320, PRECISION: 0.0289253, PRECISION_RECALL_MIN_DEN: 0.1237887, RECALL: 0.1217464, MAP: 0.0548739, MRR: 0.1013160, NDCG: 0.0820821, F1: 0.0467446, HIT_RATE: 0.2892526, ARHR: 0.1110927, NOVELTY: 0.0049737, AVERAGE_POPULARITY: 0.0712909, DIVERSITY_MEAN_INTER_LIST: 0.9941693, DIVERSITY_HERFINDAHL: 0.9993955, COVERAGE_ITEM: 0.3674302, COVERAGE_ITEM_CORRECT: 0.0364196, COVERAGE_USER: 0.5842456, COVERAGE_USER_CORRECT: 0.1374103, DIVERSITY_GINI: 0.1379547, SHANNON_ENTROPY: 11.9571592, \n",
      "\n",
      "Iteration No: 140 ended. Search finished for the next optimal point.\n",
      "Time taken: 35.1296\n",
      "Function value obtained: -0.0549\n",
      "Current minimum: -0.0558\n",
      "Iteration No: 141 started. Searching for the next optimal point.\n"
     ]
    },
    {
     "name": "stderr",
     "output_type": "stream",
     "text": [
      "C:\\Users\\davel\\anaconda3\\envs\\RecSysFramework\\lib\\site-packages\\skopt\\optimizer\\optimizer.py:399: UserWarning: The objective has been evaluated at this point before.\n",
      "  warnings.warn(\"The objective has been evaluated \"\n"
     ]
    },
    {
     "name": "stdout",
     "output_type": "stream",
     "text": [
      "SearchBayesianSkopt: Testing config: {'w_slim_bpr': 0}\n",
      "EvaluatorHoldout: Processed 4643 ( 100.00% ) in 33.99 sec. Users per second: 137\n",
      "SearchBayesianSkopt: Config 140 is suboptimal. Config: {'w_slim_bpr': 0} - results: ROC_AUC: 0.1427320, PRECISION: 0.0289253, PRECISION_RECALL_MIN_DEN: 0.1237887, RECALL: 0.1217464, MAP: 0.0548739, MRR: 0.1013160, NDCG: 0.0820821, F1: 0.0467446, HIT_RATE: 0.2892526, ARHR: 0.1110927, NOVELTY: 0.0049737, AVERAGE_POPULARITY: 0.0712909, DIVERSITY_MEAN_INTER_LIST: 0.9941693, DIVERSITY_HERFINDAHL: 0.9993955, COVERAGE_ITEM: 0.3674302, COVERAGE_ITEM_CORRECT: 0.0364196, COVERAGE_USER: 0.5842456, COVERAGE_USER_CORRECT: 0.1374103, DIVERSITY_GINI: 0.1379547, SHANNON_ENTROPY: 11.9571592, \n",
      "\n",
      "Iteration No: 141 ended. Search finished for the next optimal point.\n",
      "Time taken: 35.2154\n",
      "Function value obtained: -0.0549\n",
      "Current minimum: -0.0558\n",
      "Iteration No: 142 started. Searching for the next optimal point.\n"
     ]
    },
    {
     "name": "stderr",
     "output_type": "stream",
     "text": [
      "C:\\Users\\davel\\anaconda3\\envs\\RecSysFramework\\lib\\site-packages\\skopt\\optimizer\\optimizer.py:399: UserWarning: The objective has been evaluated at this point before.\n",
      "  warnings.warn(\"The objective has been evaluated \"\n"
     ]
    },
    {
     "name": "stdout",
     "output_type": "stream",
     "text": [
      "SearchBayesianSkopt: Testing config: {'w_slim_bpr': 0}\n",
      "EvaluatorHoldout: Processed 4643 ( 100.00% ) in 33.38 sec. Users per second: 139\n",
      "SearchBayesianSkopt: Config 141 is suboptimal. Config: {'w_slim_bpr': 0} - results: ROC_AUC: 0.1427320, PRECISION: 0.0289253, PRECISION_RECALL_MIN_DEN: 0.1237887, RECALL: 0.1217464, MAP: 0.0548739, MRR: 0.1013160, NDCG: 0.0820821, F1: 0.0467446, HIT_RATE: 0.2892526, ARHR: 0.1110927, NOVELTY: 0.0049737, AVERAGE_POPULARITY: 0.0712909, DIVERSITY_MEAN_INTER_LIST: 0.9941693, DIVERSITY_HERFINDAHL: 0.9993955, COVERAGE_ITEM: 0.3674302, COVERAGE_ITEM_CORRECT: 0.0364196, COVERAGE_USER: 0.5842456, COVERAGE_USER_CORRECT: 0.1374103, DIVERSITY_GINI: 0.1379547, SHANNON_ENTROPY: 11.9571592, \n",
      "\n",
      "Iteration No: 142 ended. Search finished for the next optimal point.\n",
      "Time taken: 34.6175\n",
      "Function value obtained: -0.0549\n",
      "Current minimum: -0.0558\n",
      "Iteration No: 143 started. Searching for the next optimal point.\n"
     ]
    },
    {
     "name": "stderr",
     "output_type": "stream",
     "text": [
      "C:\\Users\\davel\\anaconda3\\envs\\RecSysFramework\\lib\\site-packages\\skopt\\optimizer\\optimizer.py:399: UserWarning: The objective has been evaluated at this point before.\n",
      "  warnings.warn(\"The objective has been evaluated \"\n"
     ]
    },
    {
     "name": "stdout",
     "output_type": "stream",
     "text": [
      "SearchBayesianSkopt: Testing config: {'w_slim_bpr': 0}\n",
      "EvaluatorHoldout: Processed 4643 ( 100.00% ) in 33.11 sec. Users per second: 140\n",
      "SearchBayesianSkopt: Config 142 is suboptimal. Config: {'w_slim_bpr': 0} - results: ROC_AUC: 0.1427320, PRECISION: 0.0289253, PRECISION_RECALL_MIN_DEN: 0.1237887, RECALL: 0.1217464, MAP: 0.0548739, MRR: 0.1013160, NDCG: 0.0820821, F1: 0.0467446, HIT_RATE: 0.2892526, ARHR: 0.1110927, NOVELTY: 0.0049737, AVERAGE_POPULARITY: 0.0712909, DIVERSITY_MEAN_INTER_LIST: 0.9941693, DIVERSITY_HERFINDAHL: 0.9993955, COVERAGE_ITEM: 0.3674302, COVERAGE_ITEM_CORRECT: 0.0364196, COVERAGE_USER: 0.5842456, COVERAGE_USER_CORRECT: 0.1374103, DIVERSITY_GINI: 0.1379547, SHANNON_ENTROPY: 11.9571592, \n",
      "\n",
      "Iteration No: 143 ended. Search finished for the next optimal point.\n",
      "Time taken: 34.3805\n",
      "Function value obtained: -0.0549\n",
      "Current minimum: -0.0558\n",
      "Iteration No: 144 started. Searching for the next optimal point.\n"
     ]
    },
    {
     "name": "stderr",
     "output_type": "stream",
     "text": [
      "C:\\Users\\davel\\anaconda3\\envs\\RecSysFramework\\lib\\site-packages\\skopt\\optimizer\\optimizer.py:399: UserWarning: The objective has been evaluated at this point before.\n",
      "  warnings.warn(\"The objective has been evaluated \"\n"
     ]
    },
    {
     "name": "stdout",
     "output_type": "stream",
     "text": [
      "SearchBayesianSkopt: Testing config: {'w_slim_bpr': 0}\n",
      "EvaluatorHoldout: Processed 4643 ( 100.00% ) in 33.36 sec. Users per second: 139\n",
      "SearchBayesianSkopt: Config 143 is suboptimal. Config: {'w_slim_bpr': 0} - results: ROC_AUC: 0.1427320, PRECISION: 0.0289253, PRECISION_RECALL_MIN_DEN: 0.1237887, RECALL: 0.1217464, MAP: 0.0548739, MRR: 0.1013160, NDCG: 0.0820821, F1: 0.0467446, HIT_RATE: 0.2892526, ARHR: 0.1110927, NOVELTY: 0.0049737, AVERAGE_POPULARITY: 0.0712909, DIVERSITY_MEAN_INTER_LIST: 0.9941693, DIVERSITY_HERFINDAHL: 0.9993955, COVERAGE_ITEM: 0.3674302, COVERAGE_ITEM_CORRECT: 0.0364196, COVERAGE_USER: 0.5842456, COVERAGE_USER_CORRECT: 0.1374103, DIVERSITY_GINI: 0.1379547, SHANNON_ENTROPY: 11.9571592, \n",
      "\n",
      "Iteration No: 144 ended. Search finished for the next optimal point.\n",
      "Time taken: 34.6744\n",
      "Function value obtained: -0.0549\n",
      "Current minimum: -0.0558\n",
      "Iteration No: 145 started. Searching for the next optimal point.\n"
     ]
    },
    {
     "name": "stderr",
     "output_type": "stream",
     "text": [
      "C:\\Users\\davel\\anaconda3\\envs\\RecSysFramework\\lib\\site-packages\\skopt\\optimizer\\optimizer.py:399: UserWarning: The objective has been evaluated at this point before.\n",
      "  warnings.warn(\"The objective has been evaluated \"\n"
     ]
    },
    {
     "name": "stdout",
     "output_type": "stream",
     "text": [
      "SearchBayesianSkopt: Testing config: {'w_slim_bpr': 0}\n",
      "EvaluatorHoldout: Processed 4643 ( 100.00% ) in 33.52 sec. Users per second: 139\n",
      "SearchBayesianSkopt: Config 144 is suboptimal. Config: {'w_slim_bpr': 0} - results: ROC_AUC: 0.1427320, PRECISION: 0.0289253, PRECISION_RECALL_MIN_DEN: 0.1237887, RECALL: 0.1217464, MAP: 0.0548739, MRR: 0.1013160, NDCG: 0.0820821, F1: 0.0467446, HIT_RATE: 0.2892526, ARHR: 0.1110927, NOVELTY: 0.0049737, AVERAGE_POPULARITY: 0.0712909, DIVERSITY_MEAN_INTER_LIST: 0.9941693, DIVERSITY_HERFINDAHL: 0.9993955, COVERAGE_ITEM: 0.3674302, COVERAGE_ITEM_CORRECT: 0.0364196, COVERAGE_USER: 0.5842456, COVERAGE_USER_CORRECT: 0.1374103, DIVERSITY_GINI: 0.1379547, SHANNON_ENTROPY: 11.9571592, \n",
      "\n",
      "Iteration No: 145 ended. Search finished for the next optimal point.\n",
      "Time taken: 34.8433\n",
      "Function value obtained: -0.0549\n",
      "Current minimum: -0.0558\n",
      "Iteration No: 146 started. Searching for the next optimal point.\n"
     ]
    },
    {
     "name": "stderr",
     "output_type": "stream",
     "text": [
      "C:\\Users\\davel\\anaconda3\\envs\\RecSysFramework\\lib\\site-packages\\skopt\\optimizer\\optimizer.py:399: UserWarning: The objective has been evaluated at this point before.\n",
      "  warnings.warn(\"The objective has been evaluated \"\n"
     ]
    },
    {
     "name": "stdout",
     "output_type": "stream",
     "text": [
      "SearchBayesianSkopt: Testing config: {'w_slim_bpr': 0}\n",
      "EvaluatorHoldout: Processed 4643 ( 100.00% ) in 34.30 sec. Users per second: 135\n",
      "SearchBayesianSkopt: Config 145 is suboptimal. Config: {'w_slim_bpr': 0} - results: ROC_AUC: 0.1427320, PRECISION: 0.0289253, PRECISION_RECALL_MIN_DEN: 0.1237887, RECALL: 0.1217464, MAP: 0.0548739, MRR: 0.1013160, NDCG: 0.0820821, F1: 0.0467446, HIT_RATE: 0.2892526, ARHR: 0.1110927, NOVELTY: 0.0049737, AVERAGE_POPULARITY: 0.0712909, DIVERSITY_MEAN_INTER_LIST: 0.9941693, DIVERSITY_HERFINDAHL: 0.9993955, COVERAGE_ITEM: 0.3674302, COVERAGE_ITEM_CORRECT: 0.0364196, COVERAGE_USER: 0.5842456, COVERAGE_USER_CORRECT: 0.1374103, DIVERSITY_GINI: 0.1379547, SHANNON_ENTROPY: 11.9571592, \n",
      "\n",
      "Iteration No: 146 ended. Search finished for the next optimal point.\n",
      "Time taken: 35.6258\n",
      "Function value obtained: -0.0549\n",
      "Current minimum: -0.0558\n",
      "Iteration No: 147 started. Searching for the next optimal point.\n"
     ]
    },
    {
     "name": "stderr",
     "output_type": "stream",
     "text": [
      "C:\\Users\\davel\\anaconda3\\envs\\RecSysFramework\\lib\\site-packages\\skopt\\optimizer\\optimizer.py:399: UserWarning: The objective has been evaluated at this point before.\n",
      "  warnings.warn(\"The objective has been evaluated \"\n"
     ]
    },
    {
     "name": "stdout",
     "output_type": "stream",
     "text": [
      "SearchBayesianSkopt: Testing config: {'w_slim_bpr': 0}\n",
      "EvaluatorHoldout: Processed 4643 ( 100.00% ) in 33.72 sec. Users per second: 138\n",
      "SearchBayesianSkopt: Config 146 is suboptimal. Config: {'w_slim_bpr': 0} - results: ROC_AUC: 0.1427320, PRECISION: 0.0289253, PRECISION_RECALL_MIN_DEN: 0.1237887, RECALL: 0.1217464, MAP: 0.0548739, MRR: 0.1013160, NDCG: 0.0820821, F1: 0.0467446, HIT_RATE: 0.2892526, ARHR: 0.1110927, NOVELTY: 0.0049737, AVERAGE_POPULARITY: 0.0712909, DIVERSITY_MEAN_INTER_LIST: 0.9941693, DIVERSITY_HERFINDAHL: 0.9993955, COVERAGE_ITEM: 0.3674302, COVERAGE_ITEM_CORRECT: 0.0364196, COVERAGE_USER: 0.5842456, COVERAGE_USER_CORRECT: 0.1374103, DIVERSITY_GINI: 0.1379547, SHANNON_ENTROPY: 11.9571592, \n",
      "\n",
      "Iteration No: 147 ended. Search finished for the next optimal point.\n",
      "Time taken: 35.1013\n",
      "Function value obtained: -0.0549\n",
      "Current minimum: -0.0558\n",
      "Iteration No: 148 started. Searching for the next optimal point.\n"
     ]
    },
    {
     "name": "stderr",
     "output_type": "stream",
     "text": [
      "C:\\Users\\davel\\anaconda3\\envs\\RecSysFramework\\lib\\site-packages\\skopt\\optimizer\\optimizer.py:399: UserWarning: The objective has been evaluated at this point before.\n",
      "  warnings.warn(\"The objective has been evaluated \"\n"
     ]
    },
    {
     "name": "stdout",
     "output_type": "stream",
     "text": [
      "SearchBayesianSkopt: Testing config: {'w_slim_bpr': 0}\n",
      "EvaluatorHoldout: Processed 4643 ( 100.00% ) in 33.71 sec. Users per second: 138\n",
      "SearchBayesianSkopt: Config 147 is suboptimal. Config: {'w_slim_bpr': 0} - results: ROC_AUC: 0.1427320, PRECISION: 0.0289253, PRECISION_RECALL_MIN_DEN: 0.1237887, RECALL: 0.1217464, MAP: 0.0548739, MRR: 0.1013160, NDCG: 0.0820821, F1: 0.0467446, HIT_RATE: 0.2892526, ARHR: 0.1110927, NOVELTY: 0.0049737, AVERAGE_POPULARITY: 0.0712909, DIVERSITY_MEAN_INTER_LIST: 0.9941693, DIVERSITY_HERFINDAHL: 0.9993955, COVERAGE_ITEM: 0.3674302, COVERAGE_ITEM_CORRECT: 0.0364196, COVERAGE_USER: 0.5842456, COVERAGE_USER_CORRECT: 0.1374103, DIVERSITY_GINI: 0.1379547, SHANNON_ENTROPY: 11.9571592, \n",
      "\n",
      "Iteration No: 148 ended. Search finished for the next optimal point.\n",
      "Time taken: 35.0430\n",
      "Function value obtained: -0.0549\n",
      "Current minimum: -0.0558\n",
      "Iteration No: 149 started. Searching for the next optimal point.\n"
     ]
    },
    {
     "name": "stderr",
     "output_type": "stream",
     "text": [
      "C:\\Users\\davel\\anaconda3\\envs\\RecSysFramework\\lib\\site-packages\\skopt\\optimizer\\optimizer.py:399: UserWarning: The objective has been evaluated at this point before.\n",
      "  warnings.warn(\"The objective has been evaluated \"\n"
     ]
    },
    {
     "name": "stdout",
     "output_type": "stream",
     "text": [
      "SearchBayesianSkopt: Testing config: {'w_slim_bpr': 0}\n",
      "EvaluatorHoldout: Processed 4643 ( 100.00% ) in 34.10 sec. Users per second: 136\n",
      "SearchBayesianSkopt: Config 148 is suboptimal. Config: {'w_slim_bpr': 0} - results: ROC_AUC: 0.1427320, PRECISION: 0.0289253, PRECISION_RECALL_MIN_DEN: 0.1237887, RECALL: 0.1217464, MAP: 0.0548739, MRR: 0.1013160, NDCG: 0.0820821, F1: 0.0467446, HIT_RATE: 0.2892526, ARHR: 0.1110927, NOVELTY: 0.0049737, AVERAGE_POPULARITY: 0.0712909, DIVERSITY_MEAN_INTER_LIST: 0.9941693, DIVERSITY_HERFINDAHL: 0.9993955, COVERAGE_ITEM: 0.3674302, COVERAGE_ITEM_CORRECT: 0.0364196, COVERAGE_USER: 0.5842456, COVERAGE_USER_CORRECT: 0.1374103, DIVERSITY_GINI: 0.1379547, SHANNON_ENTROPY: 11.9571592, \n",
      "\n",
      "Iteration No: 149 ended. Search finished for the next optimal point.\n",
      "Time taken: 35.5144\n",
      "Function value obtained: -0.0549\n",
      "Current minimum: -0.0558\n",
      "Iteration No: 150 started. Searching for the next optimal point.\n"
     ]
    },
    {
     "name": "stderr",
     "output_type": "stream",
     "text": [
      "C:\\Users\\davel\\anaconda3\\envs\\RecSysFramework\\lib\\site-packages\\skopt\\optimizer\\optimizer.py:399: UserWarning: The objective has been evaluated at this point before.\n",
      "  warnings.warn(\"The objective has been evaluated \"\n"
     ]
    },
    {
     "name": "stdout",
     "output_type": "stream",
     "text": [
      "SearchBayesianSkopt: Testing config: {'w_slim_bpr': 0}\n",
      "EvaluatorHoldout: Processed 4643 ( 100.00% ) in 32.65 sec. Users per second: 142\n",
      "SearchBayesianSkopt: Config 149 is suboptimal. Config: {'w_slim_bpr': 0} - results: ROC_AUC: 0.1427320, PRECISION: 0.0289253, PRECISION_RECALL_MIN_DEN: 0.1237887, RECALL: 0.1217464, MAP: 0.0548739, MRR: 0.1013160, NDCG: 0.0820821, F1: 0.0467446, HIT_RATE: 0.2892526, ARHR: 0.1110927, NOVELTY: 0.0049737, AVERAGE_POPULARITY: 0.0712909, DIVERSITY_MEAN_INTER_LIST: 0.9941693, DIVERSITY_HERFINDAHL: 0.9993955, COVERAGE_ITEM: 0.3674302, COVERAGE_ITEM_CORRECT: 0.0364196, COVERAGE_USER: 0.5842456, COVERAGE_USER_CORRECT: 0.1374103, DIVERSITY_GINI: 0.1379547, SHANNON_ENTROPY: 11.9571592, \n",
      "\n",
      "Iteration No: 150 ended. Search finished for the next optimal point.\n",
      "Time taken: 33.9439\n",
      "Function value obtained: -0.0549\n",
      "Current minimum: -0.0558\n",
      "Iteration No: 151 started. Searching for the next optimal point.\n"
     ]
    },
    {
     "name": "stderr",
     "output_type": "stream",
     "text": [
      "C:\\Users\\davel\\anaconda3\\envs\\RecSysFramework\\lib\\site-packages\\skopt\\optimizer\\optimizer.py:399: UserWarning: The objective has been evaluated at this point before.\n",
      "  warnings.warn(\"The objective has been evaluated \"\n"
     ]
    },
    {
     "name": "stdout",
     "output_type": "stream",
     "text": [
      "SearchBayesianSkopt: Testing config: {'w_slim_bpr': 0}\n",
      "EvaluatorHoldout: Processed 4643 ( 100.00% ) in 32.27 sec. Users per second: 144\n",
      "SearchBayesianSkopt: Config 150 is suboptimal. Config: {'w_slim_bpr': 0} - results: ROC_AUC: 0.1427320, PRECISION: 0.0289253, PRECISION_RECALL_MIN_DEN: 0.1237887, RECALL: 0.1217464, MAP: 0.0548739, MRR: 0.1013160, NDCG: 0.0820821, F1: 0.0467446, HIT_RATE: 0.2892526, ARHR: 0.1110927, NOVELTY: 0.0049737, AVERAGE_POPULARITY: 0.0712909, DIVERSITY_MEAN_INTER_LIST: 0.9941693, DIVERSITY_HERFINDAHL: 0.9993955, COVERAGE_ITEM: 0.3674302, COVERAGE_ITEM_CORRECT: 0.0364196, COVERAGE_USER: 0.5842456, COVERAGE_USER_CORRECT: 0.1374103, DIVERSITY_GINI: 0.1379547, SHANNON_ENTROPY: 11.9571592, \n",
      "\n",
      "Iteration No: 151 ended. Search finished for the next optimal point.\n",
      "Time taken: 33.5824\n",
      "Function value obtained: -0.0549\n",
      "Current minimum: -0.0558\n",
      "Iteration No: 152 started. Searching for the next optimal point.\n"
     ]
    },
    {
     "name": "stderr",
     "output_type": "stream",
     "text": [
      "C:\\Users\\davel\\anaconda3\\envs\\RecSysFramework\\lib\\site-packages\\skopt\\optimizer\\optimizer.py:399: UserWarning: The objective has been evaluated at this point before.\n",
      "  warnings.warn(\"The objective has been evaluated \"\n"
     ]
    },
    {
     "name": "stdout",
     "output_type": "stream",
     "text": [
      "SearchBayesianSkopt: Testing config: {'w_slim_bpr': 0}\n",
      "EvaluatorHoldout: Processed 4643 ( 100.00% ) in 30.13 sec. Users per second: 154\n",
      "SearchBayesianSkopt: Config 151 is suboptimal. Config: {'w_slim_bpr': 0} - results: ROC_AUC: 0.1427320, PRECISION: 0.0289253, PRECISION_RECALL_MIN_DEN: 0.1237887, RECALL: 0.1217464, MAP: 0.0548739, MRR: 0.1013160, NDCG: 0.0820821, F1: 0.0467446, HIT_RATE: 0.2892526, ARHR: 0.1110927, NOVELTY: 0.0049737, AVERAGE_POPULARITY: 0.0712909, DIVERSITY_MEAN_INTER_LIST: 0.9941693, DIVERSITY_HERFINDAHL: 0.9993955, COVERAGE_ITEM: 0.3674302, COVERAGE_ITEM_CORRECT: 0.0364196, COVERAGE_USER: 0.5842456, COVERAGE_USER_CORRECT: 0.1374103, DIVERSITY_GINI: 0.1379547, SHANNON_ENTROPY: 11.9571592, \n",
      "\n",
      "Iteration No: 152 ended. Search finished for the next optimal point.\n",
      "Time taken: 31.4247\n",
      "Function value obtained: -0.0549\n",
      "Current minimum: -0.0558\n",
      "Iteration No: 153 started. Searching for the next optimal point.\n"
     ]
    },
    {
     "name": "stderr",
     "output_type": "stream",
     "text": [
      "C:\\Users\\davel\\anaconda3\\envs\\RecSysFramework\\lib\\site-packages\\skopt\\optimizer\\optimizer.py:399: UserWarning: The objective has been evaluated at this point before.\n",
      "  warnings.warn(\"The objective has been evaluated \"\n"
     ]
    },
    {
     "name": "stdout",
     "output_type": "stream",
     "text": [
      "SearchBayesianSkopt: Testing config: {'w_slim_bpr': 0}\n",
      "EvaluatorHoldout: Processed 4643 ( 100.00% ) in 31.93 sec. Users per second: 145\n",
      "SearchBayesianSkopt: Config 152 is suboptimal. Config: {'w_slim_bpr': 0} - results: ROC_AUC: 0.1427320, PRECISION: 0.0289253, PRECISION_RECALL_MIN_DEN: 0.1237887, RECALL: 0.1217464, MAP: 0.0548739, MRR: 0.1013160, NDCG: 0.0820821, F1: 0.0467446, HIT_RATE: 0.2892526, ARHR: 0.1110927, NOVELTY: 0.0049737, AVERAGE_POPULARITY: 0.0712909, DIVERSITY_MEAN_INTER_LIST: 0.9941693, DIVERSITY_HERFINDAHL: 0.9993955, COVERAGE_ITEM: 0.3674302, COVERAGE_ITEM_CORRECT: 0.0364196, COVERAGE_USER: 0.5842456, COVERAGE_USER_CORRECT: 0.1374103, DIVERSITY_GINI: 0.1379547, SHANNON_ENTROPY: 11.9571592, \n",
      "\n",
      "Iteration No: 153 ended. Search finished for the next optimal point.\n",
      "Time taken: 33.3395\n",
      "Function value obtained: -0.0549\n",
      "Current minimum: -0.0558\n",
      "Iteration No: 154 started. Searching for the next optimal point.\n"
     ]
    },
    {
     "name": "stderr",
     "output_type": "stream",
     "text": [
      "C:\\Users\\davel\\anaconda3\\envs\\RecSysFramework\\lib\\site-packages\\skopt\\optimizer\\optimizer.py:399: UserWarning: The objective has been evaluated at this point before.\n",
      "  warnings.warn(\"The objective has been evaluated \"\n"
     ]
    },
    {
     "name": "stdout",
     "output_type": "stream",
     "text": [
      "SearchBayesianSkopt: Testing config: {'w_slim_bpr': 0}\n",
      "EvaluatorHoldout: Processed 4000 ( 86.15% ) in 30.15 sec. Users per second: 133\n",
      "EvaluatorHoldout: Processed 4643 ( 100.00% ) in 35.03 sec. Users per second: 133\n",
      "SearchBayesianSkopt: Config 153 is suboptimal. Config: {'w_slim_bpr': 0} - results: ROC_AUC: 0.1427320, PRECISION: 0.0289253, PRECISION_RECALL_MIN_DEN: 0.1237887, RECALL: 0.1217464, MAP: 0.0548739, MRR: 0.1013160, NDCG: 0.0820821, F1: 0.0467446, HIT_RATE: 0.2892526, ARHR: 0.1110927, NOVELTY: 0.0049737, AVERAGE_POPULARITY: 0.0712909, DIVERSITY_MEAN_INTER_LIST: 0.9941693, DIVERSITY_HERFINDAHL: 0.9993955, COVERAGE_ITEM: 0.3674302, COVERAGE_ITEM_CORRECT: 0.0364196, COVERAGE_USER: 0.5842456, COVERAGE_USER_CORRECT: 0.1374103, DIVERSITY_GINI: 0.1379547, SHANNON_ENTROPY: 11.9571592, \n",
      "\n",
      "Iteration No: 154 ended. Search finished for the next optimal point.\n",
      "Time taken: 36.6432\n",
      "Function value obtained: -0.0549\n",
      "Current minimum: -0.0558\n",
      "Iteration No: 155 started. Searching for the next optimal point.\n"
     ]
    },
    {
     "name": "stderr",
     "output_type": "stream",
     "text": [
      "C:\\Users\\davel\\anaconda3\\envs\\RecSysFramework\\lib\\site-packages\\skopt\\optimizer\\optimizer.py:399: UserWarning: The objective has been evaluated at this point before.\n",
      "  warnings.warn(\"The objective has been evaluated \"\n"
     ]
    },
    {
     "name": "stdout",
     "output_type": "stream",
     "text": [
      "SearchBayesianSkopt: Testing config: {'w_slim_bpr': 0}\n",
      "EvaluatorHoldout: Processed 4643 ( 100.00% ) in 33.84 sec. Users per second: 137\n",
      "SearchBayesianSkopt: Config 154 is suboptimal. Config: {'w_slim_bpr': 0} - results: ROC_AUC: 0.1427320, PRECISION: 0.0289253, PRECISION_RECALL_MIN_DEN: 0.1237887, RECALL: 0.1217464, MAP: 0.0548739, MRR: 0.1013160, NDCG: 0.0820821, F1: 0.0467446, HIT_RATE: 0.2892526, ARHR: 0.1110927, NOVELTY: 0.0049737, AVERAGE_POPULARITY: 0.0712909, DIVERSITY_MEAN_INTER_LIST: 0.9941693, DIVERSITY_HERFINDAHL: 0.9993955, COVERAGE_ITEM: 0.3674302, COVERAGE_ITEM_CORRECT: 0.0364196, COVERAGE_USER: 0.5842456, COVERAGE_USER_CORRECT: 0.1374103, DIVERSITY_GINI: 0.1379547, SHANNON_ENTROPY: 11.9571592, \n",
      "\n",
      "Iteration No: 155 ended. Search finished for the next optimal point.\n",
      "Time taken: 35.3070\n",
      "Function value obtained: -0.0549\n",
      "Current minimum: -0.0558\n",
      "Iteration No: 156 started. Searching for the next optimal point.\n"
     ]
    },
    {
     "name": "stderr",
     "output_type": "stream",
     "text": [
      "C:\\Users\\davel\\anaconda3\\envs\\RecSysFramework\\lib\\site-packages\\skopt\\optimizer\\optimizer.py:399: UserWarning: The objective has been evaluated at this point before.\n",
      "  warnings.warn(\"The objective has been evaluated \"\n"
     ]
    },
    {
     "name": "stdout",
     "output_type": "stream",
     "text": [
      "SearchBayesianSkopt: Testing config: {'w_slim_bpr': 0}\n",
      "EvaluatorHoldout: Processed 4643 ( 100.00% ) in 34.14 sec. Users per second: 136\n",
      "SearchBayesianSkopt: Config 155 is suboptimal. Config: {'w_slim_bpr': 0} - results: ROC_AUC: 0.1427320, PRECISION: 0.0289253, PRECISION_RECALL_MIN_DEN: 0.1237887, RECALL: 0.1217464, MAP: 0.0548739, MRR: 0.1013160, NDCG: 0.0820821, F1: 0.0467446, HIT_RATE: 0.2892526, ARHR: 0.1110927, NOVELTY: 0.0049737, AVERAGE_POPULARITY: 0.0712909, DIVERSITY_MEAN_INTER_LIST: 0.9941693, DIVERSITY_HERFINDAHL: 0.9993955, COVERAGE_ITEM: 0.3674302, COVERAGE_ITEM_CORRECT: 0.0364196, COVERAGE_USER: 0.5842456, COVERAGE_USER_CORRECT: 0.1374103, DIVERSITY_GINI: 0.1379547, SHANNON_ENTROPY: 11.9571592, \n",
      "\n",
      "Iteration No: 156 ended. Search finished for the next optimal point.\n",
      "Time taken: 35.5927\n",
      "Function value obtained: -0.0549\n",
      "Current minimum: -0.0558\n",
      "Iteration No: 157 started. Searching for the next optimal point.\n"
     ]
    },
    {
     "name": "stderr",
     "output_type": "stream",
     "text": [
      "C:\\Users\\davel\\anaconda3\\envs\\RecSysFramework\\lib\\site-packages\\skopt\\optimizer\\optimizer.py:399: UserWarning: The objective has been evaluated at this point before.\n",
      "  warnings.warn(\"The objective has been evaluated \"\n"
     ]
    },
    {
     "name": "stdout",
     "output_type": "stream",
     "text": [
      "SearchBayesianSkopt: Testing config: {'w_slim_bpr': 0}\n",
      "EvaluatorHoldout: Processed 4643 ( 100.00% ) in 34.06 sec. Users per second: 136\n",
      "SearchBayesianSkopt: Config 156 is suboptimal. Config: {'w_slim_bpr': 0} - results: ROC_AUC: 0.1427320, PRECISION: 0.0289253, PRECISION_RECALL_MIN_DEN: 0.1237887, RECALL: 0.1217464, MAP: 0.0548739, MRR: 0.1013160, NDCG: 0.0820821, F1: 0.0467446, HIT_RATE: 0.2892526, ARHR: 0.1110927, NOVELTY: 0.0049737, AVERAGE_POPULARITY: 0.0712909, DIVERSITY_MEAN_INTER_LIST: 0.9941693, DIVERSITY_HERFINDAHL: 0.9993955, COVERAGE_ITEM: 0.3674302, COVERAGE_ITEM_CORRECT: 0.0364196, COVERAGE_USER: 0.5842456, COVERAGE_USER_CORRECT: 0.1374103, DIVERSITY_GINI: 0.1379547, SHANNON_ENTROPY: 11.9571592, \n",
      "\n",
      "Iteration No: 157 ended. Search finished for the next optimal point.\n",
      "Time taken: 35.5708\n",
      "Function value obtained: -0.0549\n",
      "Current minimum: -0.0558\n",
      "Iteration No: 158 started. Searching for the next optimal point.\n"
     ]
    },
    {
     "name": "stderr",
     "output_type": "stream",
     "text": [
      "C:\\Users\\davel\\anaconda3\\envs\\RecSysFramework\\lib\\site-packages\\skopt\\optimizer\\optimizer.py:399: UserWarning: The objective has been evaluated at this point before.\n",
      "  warnings.warn(\"The objective has been evaluated \"\n"
     ]
    },
    {
     "name": "stdout",
     "output_type": "stream",
     "text": [
      "SearchBayesianSkopt: Testing config: {'w_slim_bpr': 0}\n",
      "EvaluatorHoldout: Processed 4643 ( 100.00% ) in 33.99 sec. Users per second: 137\n",
      "SearchBayesianSkopt: Config 157 is suboptimal. Config: {'w_slim_bpr': 0} - results: ROC_AUC: 0.1427320, PRECISION: 0.0289253, PRECISION_RECALL_MIN_DEN: 0.1237887, RECALL: 0.1217464, MAP: 0.0548739, MRR: 0.1013160, NDCG: 0.0820821, F1: 0.0467446, HIT_RATE: 0.2892526, ARHR: 0.1110927, NOVELTY: 0.0049737, AVERAGE_POPULARITY: 0.0712909, DIVERSITY_MEAN_INTER_LIST: 0.9941693, DIVERSITY_HERFINDAHL: 0.9993955, COVERAGE_ITEM: 0.3674302, COVERAGE_ITEM_CORRECT: 0.0364196, COVERAGE_USER: 0.5842456, COVERAGE_USER_CORRECT: 0.1374103, DIVERSITY_GINI: 0.1379547, SHANNON_ENTROPY: 11.9571592, \n",
      "\n",
      "Iteration No: 158 ended. Search finished for the next optimal point.\n",
      "Time taken: 35.4683\n",
      "Function value obtained: -0.0549\n",
      "Current minimum: -0.0558\n",
      "Iteration No: 159 started. Searching for the next optimal point.\n"
     ]
    },
    {
     "name": "stderr",
     "output_type": "stream",
     "text": [
      "C:\\Users\\davel\\anaconda3\\envs\\RecSysFramework\\lib\\site-packages\\skopt\\optimizer\\optimizer.py:399: UserWarning: The objective has been evaluated at this point before.\n",
      "  warnings.warn(\"The objective has been evaluated \"\n"
     ]
    },
    {
     "name": "stdout",
     "output_type": "stream",
     "text": [
      "SearchBayesianSkopt: Testing config: {'w_slim_bpr': 0}\n",
      "EvaluatorHoldout: Processed 4643 ( 100.00% ) in 34.18 sec. Users per second: 136\n",
      "SearchBayesianSkopt: Config 158 is suboptimal. Config: {'w_slim_bpr': 0} - results: ROC_AUC: 0.1427320, PRECISION: 0.0289253, PRECISION_RECALL_MIN_DEN: 0.1237887, RECALL: 0.1217464, MAP: 0.0548739, MRR: 0.1013160, NDCG: 0.0820821, F1: 0.0467446, HIT_RATE: 0.2892526, ARHR: 0.1110927, NOVELTY: 0.0049737, AVERAGE_POPULARITY: 0.0712909, DIVERSITY_MEAN_INTER_LIST: 0.9941693, DIVERSITY_HERFINDAHL: 0.9993955, COVERAGE_ITEM: 0.3674302, COVERAGE_ITEM_CORRECT: 0.0364196, COVERAGE_USER: 0.5842456, COVERAGE_USER_CORRECT: 0.1374103, DIVERSITY_GINI: 0.1379547, SHANNON_ENTROPY: 11.9571592, \n",
      "\n",
      "Iteration No: 159 ended. Search finished for the next optimal point.\n",
      "Time taken: 35.6955\n",
      "Function value obtained: -0.0549\n",
      "Current minimum: -0.0558\n",
      "Iteration No: 160 started. Searching for the next optimal point.\n"
     ]
    },
    {
     "name": "stderr",
     "output_type": "stream",
     "text": [
      "C:\\Users\\davel\\anaconda3\\envs\\RecSysFramework\\lib\\site-packages\\skopt\\optimizer\\optimizer.py:399: UserWarning: The objective has been evaluated at this point before.\n",
      "  warnings.warn(\"The objective has been evaluated \"\n"
     ]
    },
    {
     "name": "stdout",
     "output_type": "stream",
     "text": [
      "SearchBayesianSkopt: Testing config: {'w_slim_bpr': 0}\n",
      "EvaluatorHoldout: Processed 4643 ( 100.00% ) in 33.27 sec. Users per second: 140\n",
      "SearchBayesianSkopt: Config 159 is suboptimal. Config: {'w_slim_bpr': 0} - results: ROC_AUC: 0.1427320, PRECISION: 0.0289253, PRECISION_RECALL_MIN_DEN: 0.1237887, RECALL: 0.1217464, MAP: 0.0548739, MRR: 0.1013160, NDCG: 0.0820821, F1: 0.0467446, HIT_RATE: 0.2892526, ARHR: 0.1110927, NOVELTY: 0.0049737, AVERAGE_POPULARITY: 0.0712909, DIVERSITY_MEAN_INTER_LIST: 0.9941693, DIVERSITY_HERFINDAHL: 0.9993955, COVERAGE_ITEM: 0.3674302, COVERAGE_ITEM_CORRECT: 0.0364196, COVERAGE_USER: 0.5842456, COVERAGE_USER_CORRECT: 0.1374103, DIVERSITY_GINI: 0.1379547, SHANNON_ENTROPY: 11.9571592, \n",
      "\n",
      "Iteration No: 160 ended. Search finished for the next optimal point.\n",
      "Time taken: 34.7545\n",
      "Function value obtained: -0.0549\n",
      "Current minimum: -0.0558\n",
      "Iteration No: 161 started. Searching for the next optimal point.\n"
     ]
    },
    {
     "name": "stderr",
     "output_type": "stream",
     "text": [
      "C:\\Users\\davel\\anaconda3\\envs\\RecSysFramework\\lib\\site-packages\\skopt\\optimizer\\optimizer.py:399: UserWarning: The objective has been evaluated at this point before.\n",
      "  warnings.warn(\"The objective has been evaluated \"\n"
     ]
    },
    {
     "name": "stdout",
     "output_type": "stream",
     "text": [
      "SearchBayesianSkopt: Testing config: {'w_slim_bpr': 0}\n",
      "EvaluatorHoldout: Processed 4643 ( 100.00% ) in 32.99 sec. Users per second: 141\n",
      "SearchBayesianSkopt: Config 160 is suboptimal. Config: {'w_slim_bpr': 0} - results: ROC_AUC: 0.1427320, PRECISION: 0.0289253, PRECISION_RECALL_MIN_DEN: 0.1237887, RECALL: 0.1217464, MAP: 0.0548739, MRR: 0.1013160, NDCG: 0.0820821, F1: 0.0467446, HIT_RATE: 0.2892526, ARHR: 0.1110927, NOVELTY: 0.0049737, AVERAGE_POPULARITY: 0.0712909, DIVERSITY_MEAN_INTER_LIST: 0.9941693, DIVERSITY_HERFINDAHL: 0.9993955, COVERAGE_ITEM: 0.3674302, COVERAGE_ITEM_CORRECT: 0.0364196, COVERAGE_USER: 0.5842456, COVERAGE_USER_CORRECT: 0.1374103, DIVERSITY_GINI: 0.1379547, SHANNON_ENTROPY: 11.9571592, \n",
      "\n",
      "Iteration No: 161 ended. Search finished for the next optimal point.\n",
      "Time taken: 34.6836\n",
      "Function value obtained: -0.0549\n",
      "Current minimum: -0.0558\n",
      "Iteration No: 162 started. Searching for the next optimal point.\n"
     ]
    },
    {
     "name": "stderr",
     "output_type": "stream",
     "text": [
      "C:\\Users\\davel\\anaconda3\\envs\\RecSysFramework\\lib\\site-packages\\skopt\\optimizer\\optimizer.py:399: UserWarning: The objective has been evaluated at this point before.\n",
      "  warnings.warn(\"The objective has been evaluated \"\n"
     ]
    },
    {
     "name": "stdout",
     "output_type": "stream",
     "text": [
      "SearchBayesianSkopt: Testing config: {'w_slim_bpr': 0}\n",
      "EvaluatorHoldout: Processed 4643 ( 100.00% ) in 33.79 sec. Users per second: 137\n",
      "SearchBayesianSkopt: Config 161 is suboptimal. Config: {'w_slim_bpr': 0} - results: ROC_AUC: 0.1427320, PRECISION: 0.0289253, PRECISION_RECALL_MIN_DEN: 0.1237887, RECALL: 0.1217464, MAP: 0.0548739, MRR: 0.1013160, NDCG: 0.0820821, F1: 0.0467446, HIT_RATE: 0.2892526, ARHR: 0.1110927, NOVELTY: 0.0049737, AVERAGE_POPULARITY: 0.0712909, DIVERSITY_MEAN_INTER_LIST: 0.9941693, DIVERSITY_HERFINDAHL: 0.9993955, COVERAGE_ITEM: 0.3674302, COVERAGE_ITEM_CORRECT: 0.0364196, COVERAGE_USER: 0.5842456, COVERAGE_USER_CORRECT: 0.1374103, DIVERSITY_GINI: 0.1379547, SHANNON_ENTROPY: 11.9571592, \n",
      "\n",
      "Iteration No: 162 ended. Search finished for the next optimal point.\n",
      "Time taken: 35.3560\n",
      "Function value obtained: -0.0549\n",
      "Current minimum: -0.0558\n",
      "Iteration No: 163 started. Searching for the next optimal point.\n"
     ]
    },
    {
     "name": "stderr",
     "output_type": "stream",
     "text": [
      "C:\\Users\\davel\\anaconda3\\envs\\RecSysFramework\\lib\\site-packages\\skopt\\optimizer\\optimizer.py:399: UserWarning: The objective has been evaluated at this point before.\n",
      "  warnings.warn(\"The objective has been evaluated \"\n"
     ]
    },
    {
     "name": "stdout",
     "output_type": "stream",
     "text": [
      "SearchBayesianSkopt: Testing config: {'w_slim_bpr': 0}\n",
      "EvaluatorHoldout: Processed 4643 ( 100.00% ) in 32.87 sec. Users per second: 141\n",
      "SearchBayesianSkopt: Config 162 is suboptimal. Config: {'w_slim_bpr': 0} - results: ROC_AUC: 0.1427320, PRECISION: 0.0289253, PRECISION_RECALL_MIN_DEN: 0.1237887, RECALL: 0.1217464, MAP: 0.0548739, MRR: 0.1013160, NDCG: 0.0820821, F1: 0.0467446, HIT_RATE: 0.2892526, ARHR: 0.1110927, NOVELTY: 0.0049737, AVERAGE_POPULARITY: 0.0712909, DIVERSITY_MEAN_INTER_LIST: 0.9941693, DIVERSITY_HERFINDAHL: 0.9993955, COVERAGE_ITEM: 0.3674302, COVERAGE_ITEM_CORRECT: 0.0364196, COVERAGE_USER: 0.5842456, COVERAGE_USER_CORRECT: 0.1374103, DIVERSITY_GINI: 0.1379547, SHANNON_ENTROPY: 11.9571592, \n",
      "\n",
      "Iteration No: 163 ended. Search finished for the next optimal point.\n",
      "Time taken: 34.4834\n",
      "Function value obtained: -0.0549\n",
      "Current minimum: -0.0558\n",
      "Iteration No: 164 started. Searching for the next optimal point.\n",
      "SearchBayesianSkopt: Testing config: {'w_slim_bpr': 1}\n",
      "EvaluatorHoldout: Processed 4643 ( 100.00% ) in 33.52 sec. Users per second: 139\n",
      "SearchBayesianSkopt: Config 163 is suboptimal. Config: {'w_slim_bpr': 1} - results: ROC_AUC: 0.1427846, PRECISION: 0.0289253, PRECISION_RECALL_MIN_DEN: 0.1238054, RECALL: 0.1217667, MAP: 0.0548595, MRR: 0.1012164, NDCG: 0.0820720, F1: 0.0467461, HIT_RATE: 0.2892526, ARHR: 0.1109751, NOVELTY: 0.0049731, AVERAGE_POPULARITY: 0.0714521, DIVERSITY_MEAN_INTER_LIST: 0.9941479, DIVERSITY_HERFINDAHL: 0.9993934, COVERAGE_ITEM: 0.3674687, COVERAGE_ITEM_CORRECT: 0.0363426, COVERAGE_USER: 0.5842456, COVERAGE_USER_CORRECT: 0.1374103, DIVERSITY_GINI: 0.1379085, SHANNON_ENTROPY: 11.9554369, \n",
      "\n",
      "Iteration No: 164 ended. Search finished for the next optimal point.\n",
      "Time taken: 35.2022\n",
      "Function value obtained: -0.0549\n",
      "Current minimum: -0.0558\n",
      "Iteration No: 165 started. Searching for the next optimal point.\n"
     ]
    },
    {
     "name": "stderr",
     "output_type": "stream",
     "text": [
      "C:\\Users\\davel\\anaconda3\\envs\\RecSysFramework\\lib\\site-packages\\skopt\\optimizer\\optimizer.py:399: UserWarning: The objective has been evaluated at this point before.\n",
      "  warnings.warn(\"The objective has been evaluated \"\n"
     ]
    },
    {
     "name": "stdout",
     "output_type": "stream",
     "text": [
      "SearchBayesianSkopt: Testing config: {'w_slim_bpr': 0}\n",
      "EvaluatorHoldout: Processed 4643 ( 100.00% ) in 33.70 sec. Users per second: 138\n",
      "SearchBayesianSkopt: Config 164 is suboptimal. Config: {'w_slim_bpr': 0} - results: ROC_AUC: 0.1427320, PRECISION: 0.0289253, PRECISION_RECALL_MIN_DEN: 0.1237887, RECALL: 0.1217464, MAP: 0.0548739, MRR: 0.1013160, NDCG: 0.0820821, F1: 0.0467446, HIT_RATE: 0.2892526, ARHR: 0.1110927, NOVELTY: 0.0049737, AVERAGE_POPULARITY: 0.0712909, DIVERSITY_MEAN_INTER_LIST: 0.9941693, DIVERSITY_HERFINDAHL: 0.9993955, COVERAGE_ITEM: 0.3674302, COVERAGE_ITEM_CORRECT: 0.0364196, COVERAGE_USER: 0.5842456, COVERAGE_USER_CORRECT: 0.1374103, DIVERSITY_GINI: 0.1379547, SHANNON_ENTROPY: 11.9571592, \n",
      "\n",
      "Iteration No: 165 ended. Search finished for the next optimal point.\n",
      "Time taken: 35.4486\n",
      "Function value obtained: -0.0549\n",
      "Current minimum: -0.0558\n",
      "Iteration No: 166 started. Searching for the next optimal point.\n"
     ]
    },
    {
     "name": "stderr",
     "output_type": "stream",
     "text": [
      "C:\\Users\\davel\\anaconda3\\envs\\RecSysFramework\\lib\\site-packages\\skopt\\optimizer\\optimizer.py:399: UserWarning: The objective has been evaluated at this point before.\n",
      "  warnings.warn(\"The objective has been evaluated \"\n"
     ]
    },
    {
     "name": "stdout",
     "output_type": "stream",
     "text": [
      "SearchBayesianSkopt: Testing config: {'w_slim_bpr': 0}\n",
      "EvaluatorHoldout: Processed 4643 ( 100.00% ) in 33.28 sec. Users per second: 140\n",
      "SearchBayesianSkopt: Config 165 is suboptimal. Config: {'w_slim_bpr': 0} - results: ROC_AUC: 0.1427320, PRECISION: 0.0289253, PRECISION_RECALL_MIN_DEN: 0.1237887, RECALL: 0.1217464, MAP: 0.0548739, MRR: 0.1013160, NDCG: 0.0820821, F1: 0.0467446, HIT_RATE: 0.2892526, ARHR: 0.1110927, NOVELTY: 0.0049737, AVERAGE_POPULARITY: 0.0712909, DIVERSITY_MEAN_INTER_LIST: 0.9941693, DIVERSITY_HERFINDAHL: 0.9993955, COVERAGE_ITEM: 0.3674302, COVERAGE_ITEM_CORRECT: 0.0364196, COVERAGE_USER: 0.5842456, COVERAGE_USER_CORRECT: 0.1374103, DIVERSITY_GINI: 0.1379547, SHANNON_ENTROPY: 11.9571592, \n",
      "\n",
      "Iteration No: 166 ended. Search finished for the next optimal point.\n",
      "Time taken: 34.9446\n",
      "Function value obtained: -0.0549\n",
      "Current minimum: -0.0558\n",
      "Iteration No: 167 started. Searching for the next optimal point.\n"
     ]
    },
    {
     "name": "stderr",
     "output_type": "stream",
     "text": [
      "C:\\Users\\davel\\anaconda3\\envs\\RecSysFramework\\lib\\site-packages\\skopt\\optimizer\\optimizer.py:399: UserWarning: The objective has been evaluated at this point before.\n",
      "  warnings.warn(\"The objective has been evaluated \"\n"
     ]
    },
    {
     "name": "stdout",
     "output_type": "stream",
     "text": [
      "SearchBayesianSkopt: Testing config: {'w_slim_bpr': 0}\n",
      "EvaluatorHoldout: Processed 4643 ( 100.00% ) in 33.24 sec. Users per second: 140\n",
      "SearchBayesianSkopt: Config 166 is suboptimal. Config: {'w_slim_bpr': 0} - results: ROC_AUC: 0.1427320, PRECISION: 0.0289253, PRECISION_RECALL_MIN_DEN: 0.1237887, RECALL: 0.1217464, MAP: 0.0548739, MRR: 0.1013160, NDCG: 0.0820821, F1: 0.0467446, HIT_RATE: 0.2892526, ARHR: 0.1110927, NOVELTY: 0.0049737, AVERAGE_POPULARITY: 0.0712909, DIVERSITY_MEAN_INTER_LIST: 0.9941693, DIVERSITY_HERFINDAHL: 0.9993955, COVERAGE_ITEM: 0.3674302, COVERAGE_ITEM_CORRECT: 0.0364196, COVERAGE_USER: 0.5842456, COVERAGE_USER_CORRECT: 0.1374103, DIVERSITY_GINI: 0.1379547, SHANNON_ENTROPY: 11.9571592, \n",
      "\n",
      "Iteration No: 167 ended. Search finished for the next optimal point.\n",
      "Time taken: 34.8863\n",
      "Function value obtained: -0.0549\n",
      "Current minimum: -0.0558\n",
      "Iteration No: 168 started. Searching for the next optimal point.\n"
     ]
    },
    {
     "name": "stderr",
     "output_type": "stream",
     "text": [
      "C:\\Users\\davel\\anaconda3\\envs\\RecSysFramework\\lib\\site-packages\\skopt\\optimizer\\optimizer.py:399: UserWarning: The objective has been evaluated at this point before.\n",
      "  warnings.warn(\"The objective has been evaluated \"\n"
     ]
    },
    {
     "name": "stdout",
     "output_type": "stream",
     "text": [
      "SearchBayesianSkopt: Testing config: {'w_slim_bpr': 0}\n",
      "EvaluatorHoldout: Processed 4643 ( 100.00% ) in 33.97 sec. Users per second: 137\n",
      "SearchBayesianSkopt: Config 167 is suboptimal. Config: {'w_slim_bpr': 0} - results: ROC_AUC: 0.1427320, PRECISION: 0.0289253, PRECISION_RECALL_MIN_DEN: 0.1237887, RECALL: 0.1217464, MAP: 0.0548739, MRR: 0.1013160, NDCG: 0.0820821, F1: 0.0467446, HIT_RATE: 0.2892526, ARHR: 0.1110927, NOVELTY: 0.0049737, AVERAGE_POPULARITY: 0.0712909, DIVERSITY_MEAN_INTER_LIST: 0.9941693, DIVERSITY_HERFINDAHL: 0.9993955, COVERAGE_ITEM: 0.3674302, COVERAGE_ITEM_CORRECT: 0.0364196, COVERAGE_USER: 0.5842456, COVERAGE_USER_CORRECT: 0.1374103, DIVERSITY_GINI: 0.1379547, SHANNON_ENTROPY: 11.9571592, \n",
      "\n",
      "Iteration No: 168 ended. Search finished for the next optimal point.\n",
      "Time taken: 35.7071\n",
      "Function value obtained: -0.0549\n",
      "Current minimum: -0.0558\n",
      "Iteration No: 169 started. Searching for the next optimal point.\n"
     ]
    },
    {
     "name": "stderr",
     "output_type": "stream",
     "text": [
      "C:\\Users\\davel\\anaconda3\\envs\\RecSysFramework\\lib\\site-packages\\skopt\\optimizer\\optimizer.py:399: UserWarning: The objective has been evaluated at this point before.\n",
      "  warnings.warn(\"The objective has been evaluated \"\n"
     ]
    },
    {
     "name": "stdout",
     "output_type": "stream",
     "text": [
      "SearchBayesianSkopt: Testing config: {'w_slim_bpr': 0}\n",
      "EvaluatorHoldout: Processed 4643 ( 100.00% ) in 34.14 sec. Users per second: 136\n",
      "SearchBayesianSkopt: Config 168 is suboptimal. Config: {'w_slim_bpr': 0} - results: ROC_AUC: 0.1427320, PRECISION: 0.0289253, PRECISION_RECALL_MIN_DEN: 0.1237887, RECALL: 0.1217464, MAP: 0.0548739, MRR: 0.1013160, NDCG: 0.0820821, F1: 0.0467446, HIT_RATE: 0.2892526, ARHR: 0.1110927, NOVELTY: 0.0049737, AVERAGE_POPULARITY: 0.0712909, DIVERSITY_MEAN_INTER_LIST: 0.9941693, DIVERSITY_HERFINDAHL: 0.9993955, COVERAGE_ITEM: 0.3674302, COVERAGE_ITEM_CORRECT: 0.0364196, COVERAGE_USER: 0.5842456, COVERAGE_USER_CORRECT: 0.1374103, DIVERSITY_GINI: 0.1379547, SHANNON_ENTROPY: 11.9571592, \n",
      "\n",
      "Iteration No: 169 ended. Search finished for the next optimal point.\n",
      "Time taken: 35.9410\n",
      "Function value obtained: -0.0549\n",
      "Current minimum: -0.0558\n",
      "Iteration No: 170 started. Searching for the next optimal point.\n"
     ]
    },
    {
     "name": "stderr",
     "output_type": "stream",
     "text": [
      "C:\\Users\\davel\\anaconda3\\envs\\RecSysFramework\\lib\\site-packages\\skopt\\optimizer\\optimizer.py:399: UserWarning: The objective has been evaluated at this point before.\n",
      "  warnings.warn(\"The objective has been evaluated \"\n"
     ]
    },
    {
     "name": "stdout",
     "output_type": "stream",
     "text": [
      "SearchBayesianSkopt: Testing config: {'w_slim_bpr': 0}\n",
      "EvaluatorHoldout: Processed 4643 ( 100.00% ) in 34.21 sec. Users per second: 136\n",
      "SearchBayesianSkopt: Config 169 is suboptimal. Config: {'w_slim_bpr': 0} - results: ROC_AUC: 0.1427320, PRECISION: 0.0289253, PRECISION_RECALL_MIN_DEN: 0.1237887, RECALL: 0.1217464, MAP: 0.0548739, MRR: 0.1013160, NDCG: 0.0820821, F1: 0.0467446, HIT_RATE: 0.2892526, ARHR: 0.1110927, NOVELTY: 0.0049737, AVERAGE_POPULARITY: 0.0712909, DIVERSITY_MEAN_INTER_LIST: 0.9941693, DIVERSITY_HERFINDAHL: 0.9993955, COVERAGE_ITEM: 0.3674302, COVERAGE_ITEM_CORRECT: 0.0364196, COVERAGE_USER: 0.5842456, COVERAGE_USER_CORRECT: 0.1374103, DIVERSITY_GINI: 0.1379547, SHANNON_ENTROPY: 11.9571592, \n",
      "\n",
      "Iteration No: 170 ended. Search finished for the next optimal point.\n",
      "Time taken: 35.9853\n",
      "Function value obtained: -0.0549\n",
      "Current minimum: -0.0558\n",
      "Iteration No: 171 started. Searching for the next optimal point.\n"
     ]
    },
    {
     "name": "stderr",
     "output_type": "stream",
     "text": [
      "C:\\Users\\davel\\anaconda3\\envs\\RecSysFramework\\lib\\site-packages\\skopt\\optimizer\\optimizer.py:399: UserWarning: The objective has been evaluated at this point before.\n",
      "  warnings.warn(\"The objective has been evaluated \"\n"
     ]
    },
    {
     "name": "stdout",
     "output_type": "stream",
     "text": [
      "SearchBayesianSkopt: Testing config: {'w_slim_bpr': 0}\n",
      "EvaluatorHoldout: Processed 4643 ( 100.00% ) in 33.66 sec. Users per second: 138\n",
      "SearchBayesianSkopt: Config 170 is suboptimal. Config: {'w_slim_bpr': 0} - results: ROC_AUC: 0.1427320, PRECISION: 0.0289253, PRECISION_RECALL_MIN_DEN: 0.1237887, RECALL: 0.1217464, MAP: 0.0548739, MRR: 0.1013160, NDCG: 0.0820821, F1: 0.0467446, HIT_RATE: 0.2892526, ARHR: 0.1110927, NOVELTY: 0.0049737, AVERAGE_POPULARITY: 0.0712909, DIVERSITY_MEAN_INTER_LIST: 0.9941693, DIVERSITY_HERFINDAHL: 0.9993955, COVERAGE_ITEM: 0.3674302, COVERAGE_ITEM_CORRECT: 0.0364196, COVERAGE_USER: 0.5842456, COVERAGE_USER_CORRECT: 0.1374103, DIVERSITY_GINI: 0.1379547, SHANNON_ENTROPY: 11.9571592, \n",
      "\n",
      "Iteration No: 171 ended. Search finished for the next optimal point.\n",
      "Time taken: 35.4391\n",
      "Function value obtained: -0.0549\n",
      "Current minimum: -0.0558\n",
      "Iteration No: 172 started. Searching for the next optimal point.\n"
     ]
    },
    {
     "name": "stderr",
     "output_type": "stream",
     "text": [
      "C:\\Users\\davel\\anaconda3\\envs\\RecSysFramework\\lib\\site-packages\\skopt\\optimizer\\optimizer.py:399: UserWarning: The objective has been evaluated at this point before.\n",
      "  warnings.warn(\"The objective has been evaluated \"\n"
     ]
    },
    {
     "name": "stdout",
     "output_type": "stream",
     "text": [
      "SearchBayesianSkopt: Testing config: {'w_slim_bpr': 0}\n",
      "EvaluatorHoldout: Processed 4643 ( 100.00% ) in 33.44 sec. Users per second: 139\n",
      "SearchBayesianSkopt: Config 171 is suboptimal. Config: {'w_slim_bpr': 0} - results: ROC_AUC: 0.1427320, PRECISION: 0.0289253, PRECISION_RECALL_MIN_DEN: 0.1237887, RECALL: 0.1217464, MAP: 0.0548739, MRR: 0.1013160, NDCG: 0.0820821, F1: 0.0467446, HIT_RATE: 0.2892526, ARHR: 0.1110927, NOVELTY: 0.0049737, AVERAGE_POPULARITY: 0.0712909, DIVERSITY_MEAN_INTER_LIST: 0.9941693, DIVERSITY_HERFINDAHL: 0.9993955, COVERAGE_ITEM: 0.3674302, COVERAGE_ITEM_CORRECT: 0.0364196, COVERAGE_USER: 0.5842456, COVERAGE_USER_CORRECT: 0.1374103, DIVERSITY_GINI: 0.1379547, SHANNON_ENTROPY: 11.9571592, \n",
      "\n",
      "Iteration No: 172 ended. Search finished for the next optimal point.\n",
      "Time taken: 35.2075\n",
      "Function value obtained: -0.0549\n",
      "Current minimum: -0.0558\n",
      "Iteration No: 173 started. Searching for the next optimal point.\n"
     ]
    },
    {
     "name": "stderr",
     "output_type": "stream",
     "text": [
      "C:\\Users\\davel\\anaconda3\\envs\\RecSysFramework\\lib\\site-packages\\skopt\\optimizer\\optimizer.py:399: UserWarning: The objective has been evaluated at this point before.\n",
      "  warnings.warn(\"The objective has been evaluated \"\n"
     ]
    },
    {
     "name": "stdout",
     "output_type": "stream",
     "text": [
      "SearchBayesianSkopt: Testing config: {'w_slim_bpr': 0}\n",
      "EvaluatorHoldout: Processed 4643 ( 100.00% ) in 34.24 sec. Users per second: 136\n",
      "SearchBayesianSkopt: Config 172 is suboptimal. Config: {'w_slim_bpr': 0} - results: ROC_AUC: 0.1427320, PRECISION: 0.0289253, PRECISION_RECALL_MIN_DEN: 0.1237887, RECALL: 0.1217464, MAP: 0.0548739, MRR: 0.1013160, NDCG: 0.0820821, F1: 0.0467446, HIT_RATE: 0.2892526, ARHR: 0.1110927, NOVELTY: 0.0049737, AVERAGE_POPULARITY: 0.0712909, DIVERSITY_MEAN_INTER_LIST: 0.9941693, DIVERSITY_HERFINDAHL: 0.9993955, COVERAGE_ITEM: 0.3674302, COVERAGE_ITEM_CORRECT: 0.0364196, COVERAGE_USER: 0.5842456, COVERAGE_USER_CORRECT: 0.1374103, DIVERSITY_GINI: 0.1379547, SHANNON_ENTROPY: 11.9571592, \n",
      "\n",
      "Iteration No: 173 ended. Search finished for the next optimal point.\n",
      "Time taken: 36.0134\n",
      "Function value obtained: -0.0549\n",
      "Current minimum: -0.0558\n",
      "Iteration No: 174 started. Searching for the next optimal point.\n"
     ]
    },
    {
     "name": "stderr",
     "output_type": "stream",
     "text": [
      "C:\\Users\\davel\\anaconda3\\envs\\RecSysFramework\\lib\\site-packages\\skopt\\optimizer\\optimizer.py:399: UserWarning: The objective has been evaluated at this point before.\n",
      "  warnings.warn(\"The objective has been evaluated \"\n"
     ]
    },
    {
     "name": "stdout",
     "output_type": "stream",
     "text": [
      "SearchBayesianSkopt: Testing config: {'w_slim_bpr': 0}\n",
      "EvaluatorHoldout: Processed 4643 ( 100.00% ) in 32.94 sec. Users per second: 141\n",
      "SearchBayesianSkopt: Config 173 is suboptimal. Config: {'w_slim_bpr': 0} - results: ROC_AUC: 0.1427320, PRECISION: 0.0289253, PRECISION_RECALL_MIN_DEN: 0.1237887, RECALL: 0.1217464, MAP: 0.0548739, MRR: 0.1013160, NDCG: 0.0820821, F1: 0.0467446, HIT_RATE: 0.2892526, ARHR: 0.1110927, NOVELTY: 0.0049737, AVERAGE_POPULARITY: 0.0712909, DIVERSITY_MEAN_INTER_LIST: 0.9941693, DIVERSITY_HERFINDAHL: 0.9993955, COVERAGE_ITEM: 0.3674302, COVERAGE_ITEM_CORRECT: 0.0364196, COVERAGE_USER: 0.5842456, COVERAGE_USER_CORRECT: 0.1374103, DIVERSITY_GINI: 0.1379547, SHANNON_ENTROPY: 11.9571592, \n",
      "\n",
      "Iteration No: 174 ended. Search finished for the next optimal point.\n",
      "Time taken: 34.7095\n",
      "Function value obtained: -0.0549\n",
      "Current minimum: -0.0558\n",
      "Iteration No: 175 started. Searching for the next optimal point.\n"
     ]
    },
    {
     "name": "stderr",
     "output_type": "stream",
     "text": [
      "C:\\Users\\davel\\anaconda3\\envs\\RecSysFramework\\lib\\site-packages\\skopt\\optimizer\\optimizer.py:399: UserWarning: The objective has been evaluated at this point before.\n",
      "  warnings.warn(\"The objective has been evaluated \"\n"
     ]
    },
    {
     "name": "stdout",
     "output_type": "stream",
     "text": [
      "SearchBayesianSkopt: Testing config: {'w_slim_bpr': 0}\n",
      "EvaluatorHoldout: Processed 4643 ( 100.00% ) in 34.16 sec. Users per second: 136\n",
      "SearchBayesianSkopt: Config 174 is suboptimal. Config: {'w_slim_bpr': 0} - results: ROC_AUC: 0.1427320, PRECISION: 0.0289253, PRECISION_RECALL_MIN_DEN: 0.1237887, RECALL: 0.1217464, MAP: 0.0548739, MRR: 0.1013160, NDCG: 0.0820821, F1: 0.0467446, HIT_RATE: 0.2892526, ARHR: 0.1110927, NOVELTY: 0.0049737, AVERAGE_POPULARITY: 0.0712909, DIVERSITY_MEAN_INTER_LIST: 0.9941693, DIVERSITY_HERFINDAHL: 0.9993955, COVERAGE_ITEM: 0.3674302, COVERAGE_ITEM_CORRECT: 0.0364196, COVERAGE_USER: 0.5842456, COVERAGE_USER_CORRECT: 0.1374103, DIVERSITY_GINI: 0.1379547, SHANNON_ENTROPY: 11.9571592, \n",
      "\n",
      "Iteration No: 175 ended. Search finished for the next optimal point.\n",
      "Time taken: 36.0486\n",
      "Function value obtained: -0.0549\n",
      "Current minimum: -0.0558\n",
      "Iteration No: 176 started. Searching for the next optimal point.\n"
     ]
    },
    {
     "name": "stderr",
     "output_type": "stream",
     "text": [
      "C:\\Users\\davel\\anaconda3\\envs\\RecSysFramework\\lib\\site-packages\\skopt\\optimizer\\optimizer.py:399: UserWarning: The objective has been evaluated at this point before.\n",
      "  warnings.warn(\"The objective has been evaluated \"\n"
     ]
    },
    {
     "name": "stdout",
     "output_type": "stream",
     "text": [
      "SearchBayesianSkopt: Testing config: {'w_slim_bpr': 0}\n",
      "EvaluatorHoldout: Processed 4643 ( 100.00% ) in 33.48 sec. Users per second: 139\n",
      "SearchBayesianSkopt: Config 175 is suboptimal. Config: {'w_slim_bpr': 0} - results: ROC_AUC: 0.1427320, PRECISION: 0.0289253, PRECISION_RECALL_MIN_DEN: 0.1237887, RECALL: 0.1217464, MAP: 0.0548739, MRR: 0.1013160, NDCG: 0.0820821, F1: 0.0467446, HIT_RATE: 0.2892526, ARHR: 0.1110927, NOVELTY: 0.0049737, AVERAGE_POPULARITY: 0.0712909, DIVERSITY_MEAN_INTER_LIST: 0.9941693, DIVERSITY_HERFINDAHL: 0.9993955, COVERAGE_ITEM: 0.3674302, COVERAGE_ITEM_CORRECT: 0.0364196, COVERAGE_USER: 0.5842456, COVERAGE_USER_CORRECT: 0.1374103, DIVERSITY_GINI: 0.1379547, SHANNON_ENTROPY: 11.9571592, \n",
      "\n",
      "Iteration No: 176 ended. Search finished for the next optimal point.\n",
      "Time taken: 35.2745\n",
      "Function value obtained: -0.0549\n",
      "Current minimum: -0.0558\n",
      "Iteration No: 177 started. Searching for the next optimal point.\n"
     ]
    },
    {
     "name": "stderr",
     "output_type": "stream",
     "text": [
      "C:\\Users\\davel\\anaconda3\\envs\\RecSysFramework\\lib\\site-packages\\skopt\\optimizer\\optimizer.py:399: UserWarning: The objective has been evaluated at this point before.\n",
      "  warnings.warn(\"The objective has been evaluated \"\n"
     ]
    },
    {
     "name": "stdout",
     "output_type": "stream",
     "text": [
      "SearchBayesianSkopt: Testing config: {'w_slim_bpr': 0}\n",
      "EvaluatorHoldout: Processed 4643 ( 100.00% ) in 34.25 sec. Users per second: 136\n",
      "SearchBayesianSkopt: Config 176 is suboptimal. Config: {'w_slim_bpr': 0} - results: ROC_AUC: 0.1427320, PRECISION: 0.0289253, PRECISION_RECALL_MIN_DEN: 0.1237887, RECALL: 0.1217464, MAP: 0.0548739, MRR: 0.1013160, NDCG: 0.0820821, F1: 0.0467446, HIT_RATE: 0.2892526, ARHR: 0.1110927, NOVELTY: 0.0049737, AVERAGE_POPULARITY: 0.0712909, DIVERSITY_MEAN_INTER_LIST: 0.9941693, DIVERSITY_HERFINDAHL: 0.9993955, COVERAGE_ITEM: 0.3674302, COVERAGE_ITEM_CORRECT: 0.0364196, COVERAGE_USER: 0.5842456, COVERAGE_USER_CORRECT: 0.1374103, DIVERSITY_GINI: 0.1379547, SHANNON_ENTROPY: 11.9571592, \n",
      "\n",
      "Iteration No: 177 ended. Search finished for the next optimal point.\n",
      "Time taken: 36.1926\n",
      "Function value obtained: -0.0549\n",
      "Current minimum: -0.0558\n",
      "Iteration No: 178 started. Searching for the next optimal point.\n"
     ]
    },
    {
     "name": "stderr",
     "output_type": "stream",
     "text": [
      "C:\\Users\\davel\\anaconda3\\envs\\RecSysFramework\\lib\\site-packages\\skopt\\optimizer\\optimizer.py:399: UserWarning: The objective has been evaluated at this point before.\n",
      "  warnings.warn(\"The objective has been evaluated \"\n"
     ]
    },
    {
     "name": "stdout",
     "output_type": "stream",
     "text": [
      "SearchBayesianSkopt: Testing config: {'w_slim_bpr': 0}\n",
      "EvaluatorHoldout: Processed 4643 ( 100.00% ) in 34.20 sec. Users per second: 136\n",
      "SearchBayesianSkopt: Config 177 is suboptimal. Config: {'w_slim_bpr': 0} - results: ROC_AUC: 0.1427320, PRECISION: 0.0289253, PRECISION_RECALL_MIN_DEN: 0.1237887, RECALL: 0.1217464, MAP: 0.0548739, MRR: 0.1013160, NDCG: 0.0820821, F1: 0.0467446, HIT_RATE: 0.2892526, ARHR: 0.1110927, NOVELTY: 0.0049737, AVERAGE_POPULARITY: 0.0712909, DIVERSITY_MEAN_INTER_LIST: 0.9941693, DIVERSITY_HERFINDAHL: 0.9993955, COVERAGE_ITEM: 0.3674302, COVERAGE_ITEM_CORRECT: 0.0364196, COVERAGE_USER: 0.5842456, COVERAGE_USER_CORRECT: 0.1374103, DIVERSITY_GINI: 0.1379547, SHANNON_ENTROPY: 11.9571592, \n",
      "\n",
      "Iteration No: 178 ended. Search finished for the next optimal point.\n",
      "Time taken: 36.0887\n",
      "Function value obtained: -0.0549\n",
      "Current minimum: -0.0558\n",
      "Iteration No: 179 started. Searching for the next optimal point.\n"
     ]
    },
    {
     "name": "stderr",
     "output_type": "stream",
     "text": [
      "C:\\Users\\davel\\anaconda3\\envs\\RecSysFramework\\lib\\site-packages\\skopt\\optimizer\\optimizer.py:399: UserWarning: The objective has been evaluated at this point before.\n",
      "  warnings.warn(\"The objective has been evaluated \"\n"
     ]
    },
    {
     "name": "stdout",
     "output_type": "stream",
     "text": [
      "SearchBayesianSkopt: Testing config: {'w_slim_bpr': 0}\n",
      "EvaluatorHoldout: Processed 4643 ( 100.00% ) in 33.96 sec. Users per second: 137\n",
      "SearchBayesianSkopt: Config 178 is suboptimal. Config: {'w_slim_bpr': 0} - results: ROC_AUC: 0.1427320, PRECISION: 0.0289253, PRECISION_RECALL_MIN_DEN: 0.1237887, RECALL: 0.1217464, MAP: 0.0548739, MRR: 0.1013160, NDCG: 0.0820821, F1: 0.0467446, HIT_RATE: 0.2892526, ARHR: 0.1110927, NOVELTY: 0.0049737, AVERAGE_POPULARITY: 0.0712909, DIVERSITY_MEAN_INTER_LIST: 0.9941693, DIVERSITY_HERFINDAHL: 0.9993955, COVERAGE_ITEM: 0.3674302, COVERAGE_ITEM_CORRECT: 0.0364196, COVERAGE_USER: 0.5842456, COVERAGE_USER_CORRECT: 0.1374103, DIVERSITY_GINI: 0.1379547, SHANNON_ENTROPY: 11.9571592, \n",
      "\n",
      "Iteration No: 179 ended. Search finished for the next optimal point.\n",
      "Time taken: 35.8206\n",
      "Function value obtained: -0.0549\n",
      "Current minimum: -0.0558\n",
      "Iteration No: 180 started. Searching for the next optimal point.\n"
     ]
    },
    {
     "name": "stderr",
     "output_type": "stream",
     "text": [
      "C:\\Users\\davel\\anaconda3\\envs\\RecSysFramework\\lib\\site-packages\\skopt\\optimizer\\optimizer.py:399: UserWarning: The objective has been evaluated at this point before.\n",
      "  warnings.warn(\"The objective has been evaluated \"\n"
     ]
    },
    {
     "name": "stdout",
     "output_type": "stream",
     "text": [
      "SearchBayesianSkopt: Testing config: {'w_slim_bpr': 0}\n",
      "EvaluatorHoldout: Processed 4643 ( 100.00% ) in 33.36 sec. Users per second: 139\n",
      "SearchBayesianSkopt: Config 179 is suboptimal. Config: {'w_slim_bpr': 0} - results: ROC_AUC: 0.1427320, PRECISION: 0.0289253, PRECISION_RECALL_MIN_DEN: 0.1237887, RECALL: 0.1217464, MAP: 0.0548739, MRR: 0.1013160, NDCG: 0.0820821, F1: 0.0467446, HIT_RATE: 0.2892526, ARHR: 0.1110927, NOVELTY: 0.0049737, AVERAGE_POPULARITY: 0.0712909, DIVERSITY_MEAN_INTER_LIST: 0.9941693, DIVERSITY_HERFINDAHL: 0.9993955, COVERAGE_ITEM: 0.3674302, COVERAGE_ITEM_CORRECT: 0.0364196, COVERAGE_USER: 0.5842456, COVERAGE_USER_CORRECT: 0.1374103, DIVERSITY_GINI: 0.1379547, SHANNON_ENTROPY: 11.9571592, \n",
      "\n",
      "Iteration No: 180 ended. Search finished for the next optimal point.\n",
      "Time taken: 35.2117\n",
      "Function value obtained: -0.0549\n",
      "Current minimum: -0.0558\n",
      "Iteration No: 181 started. Searching for the next optimal point.\n"
     ]
    },
    {
     "name": "stderr",
     "output_type": "stream",
     "text": [
      "C:\\Users\\davel\\anaconda3\\envs\\RecSysFramework\\lib\\site-packages\\skopt\\optimizer\\optimizer.py:399: UserWarning: The objective has been evaluated at this point before.\n",
      "  warnings.warn(\"The objective has been evaluated \"\n"
     ]
    },
    {
     "name": "stdout",
     "output_type": "stream",
     "text": [
      "SearchBayesianSkopt: Testing config: {'w_slim_bpr': 0}\n",
      "EvaluatorHoldout: Processed 4643 ( 100.00% ) in 29.87 sec. Users per second: 155\n",
      "SearchBayesianSkopt: Config 180 is suboptimal. Config: {'w_slim_bpr': 0} - results: ROC_AUC: 0.1427320, PRECISION: 0.0289253, PRECISION_RECALL_MIN_DEN: 0.1237887, RECALL: 0.1217464, MAP: 0.0548739, MRR: 0.1013160, NDCG: 0.0820821, F1: 0.0467446, HIT_RATE: 0.2892526, ARHR: 0.1110927, NOVELTY: 0.0049737, AVERAGE_POPULARITY: 0.0712909, DIVERSITY_MEAN_INTER_LIST: 0.9941693, DIVERSITY_HERFINDAHL: 0.9993955, COVERAGE_ITEM: 0.3674302, COVERAGE_ITEM_CORRECT: 0.0364196, COVERAGE_USER: 0.5842456, COVERAGE_USER_CORRECT: 0.1374103, DIVERSITY_GINI: 0.1379547, SHANNON_ENTROPY: 11.9571592, \n",
      "\n",
      "Iteration No: 181 ended. Search finished for the next optimal point.\n",
      "Time taken: 31.6726\n",
      "Function value obtained: -0.0549\n",
      "Current minimum: -0.0558\n",
      "Iteration No: 182 started. Searching for the next optimal point.\n"
     ]
    },
    {
     "name": "stderr",
     "output_type": "stream",
     "text": [
      "C:\\Users\\davel\\anaconda3\\envs\\RecSysFramework\\lib\\site-packages\\skopt\\optimizer\\optimizer.py:399: UserWarning: The objective has been evaluated at this point before.\n",
      "  warnings.warn(\"The objective has been evaluated \"\n"
     ]
    },
    {
     "name": "stdout",
     "output_type": "stream",
     "text": [
      "SearchBayesianSkopt: Testing config: {'w_slim_bpr': 0}\n",
      "EvaluatorHoldout: Processed 4643 ( 100.00% ) in 32.20 sec. Users per second: 144\n",
      "SearchBayesianSkopt: Config 181 is suboptimal. Config: {'w_slim_bpr': 0} - results: ROC_AUC: 0.1427320, PRECISION: 0.0289253, PRECISION_RECALL_MIN_DEN: 0.1237887, RECALL: 0.1217464, MAP: 0.0548739, MRR: 0.1013160, NDCG: 0.0820821, F1: 0.0467446, HIT_RATE: 0.2892526, ARHR: 0.1110927, NOVELTY: 0.0049737, AVERAGE_POPULARITY: 0.0712909, DIVERSITY_MEAN_INTER_LIST: 0.9941693, DIVERSITY_HERFINDAHL: 0.9993955, COVERAGE_ITEM: 0.3674302, COVERAGE_ITEM_CORRECT: 0.0364196, COVERAGE_USER: 0.5842456, COVERAGE_USER_CORRECT: 0.1374103, DIVERSITY_GINI: 0.1379547, SHANNON_ENTROPY: 11.9571592, \n",
      "\n",
      "Iteration No: 182 ended. Search finished for the next optimal point.\n",
      "Time taken: 34.1300\n",
      "Function value obtained: -0.0549\n",
      "Current minimum: -0.0558\n",
      "Iteration No: 183 started. Searching for the next optimal point.\n"
     ]
    },
    {
     "name": "stderr",
     "output_type": "stream",
     "text": [
      "C:\\Users\\davel\\anaconda3\\envs\\RecSysFramework\\lib\\site-packages\\skopt\\optimizer\\optimizer.py:399: UserWarning: The objective has been evaluated at this point before.\n",
      "  warnings.warn(\"The objective has been evaluated \"\n"
     ]
    },
    {
     "name": "stdout",
     "output_type": "stream",
     "text": [
      "SearchBayesianSkopt: Testing config: {'w_slim_bpr': 0}\n",
      "EvaluatorHoldout: Processed 4643 ( 100.00% ) in 32.19 sec. Users per second: 144\n",
      "SearchBayesianSkopt: Config 182 is suboptimal. Config: {'w_slim_bpr': 0} - results: ROC_AUC: 0.1427320, PRECISION: 0.0289253, PRECISION_RECALL_MIN_DEN: 0.1237887, RECALL: 0.1217464, MAP: 0.0548739, MRR: 0.1013160, NDCG: 0.0820821, F1: 0.0467446, HIT_RATE: 0.2892526, ARHR: 0.1110927, NOVELTY: 0.0049737, AVERAGE_POPULARITY: 0.0712909, DIVERSITY_MEAN_INTER_LIST: 0.9941693, DIVERSITY_HERFINDAHL: 0.9993955, COVERAGE_ITEM: 0.3674302, COVERAGE_ITEM_CORRECT: 0.0364196, COVERAGE_USER: 0.5842456, COVERAGE_USER_CORRECT: 0.1374103, DIVERSITY_GINI: 0.1379547, SHANNON_ENTROPY: 11.9571592, \n",
      "\n",
      "Iteration No: 183 ended. Search finished for the next optimal point.\n",
      "Time taken: 34.0085\n",
      "Function value obtained: -0.0549\n",
      "Current minimum: -0.0558\n",
      "Iteration No: 184 started. Searching for the next optimal point.\n"
     ]
    },
    {
     "name": "stderr",
     "output_type": "stream",
     "text": [
      "C:\\Users\\davel\\anaconda3\\envs\\RecSysFramework\\lib\\site-packages\\skopt\\optimizer\\optimizer.py:399: UserWarning: The objective has been evaluated at this point before.\n",
      "  warnings.warn(\"The objective has been evaluated \"\n"
     ]
    },
    {
     "name": "stdout",
     "output_type": "stream",
     "text": [
      "SearchBayesianSkopt: Testing config: {'w_slim_bpr': 0}\n",
      "EvaluatorHoldout: Processed 4643 ( 100.00% ) in 31.70 sec. Users per second: 146\n",
      "SearchBayesianSkopt: Config 183 is suboptimal. Config: {'w_slim_bpr': 0} - results: ROC_AUC: 0.1427320, PRECISION: 0.0289253, PRECISION_RECALL_MIN_DEN: 0.1237887, RECALL: 0.1217464, MAP: 0.0548739, MRR: 0.1013160, NDCG: 0.0820821, F1: 0.0467446, HIT_RATE: 0.2892526, ARHR: 0.1110927, NOVELTY: 0.0049737, AVERAGE_POPULARITY: 0.0712909, DIVERSITY_MEAN_INTER_LIST: 0.9941693, DIVERSITY_HERFINDAHL: 0.9993955, COVERAGE_ITEM: 0.3674302, COVERAGE_ITEM_CORRECT: 0.0364196, COVERAGE_USER: 0.5842456, COVERAGE_USER_CORRECT: 0.1374103, DIVERSITY_GINI: 0.1379547, SHANNON_ENTROPY: 11.9571592, \n",
      "\n",
      "Iteration No: 184 ended. Search finished for the next optimal point.\n",
      "Time taken: 33.5274\n",
      "Function value obtained: -0.0549\n",
      "Current minimum: -0.0558\n",
      "Iteration No: 185 started. Searching for the next optimal point.\n"
     ]
    },
    {
     "name": "stderr",
     "output_type": "stream",
     "text": [
      "C:\\Users\\davel\\anaconda3\\envs\\RecSysFramework\\lib\\site-packages\\skopt\\optimizer\\optimizer.py:399: UserWarning: The objective has been evaluated at this point before.\n",
      "  warnings.warn(\"The objective has been evaluated \"\n"
     ]
    },
    {
     "name": "stdout",
     "output_type": "stream",
     "text": [
      "SearchBayesianSkopt: Testing config: {'w_slim_bpr': 1}\n",
      "EvaluatorHoldout: Processed 4643 ( 100.00% ) in 29.05 sec. Users per second: 160\n",
      "SearchBayesianSkopt: Config 184 is suboptimal. Config: {'w_slim_bpr': 1} - results: ROC_AUC: 0.1427846, PRECISION: 0.0289253, PRECISION_RECALL_MIN_DEN: 0.1238054, RECALL: 0.1217667, MAP: 0.0548595, MRR: 0.1012164, NDCG: 0.0820720, F1: 0.0467461, HIT_RATE: 0.2892526, ARHR: 0.1109751, NOVELTY: 0.0049731, AVERAGE_POPULARITY: 0.0714521, DIVERSITY_MEAN_INTER_LIST: 0.9941479, DIVERSITY_HERFINDAHL: 0.9993934, COVERAGE_ITEM: 0.3674687, COVERAGE_ITEM_CORRECT: 0.0363426, COVERAGE_USER: 0.5842456, COVERAGE_USER_CORRECT: 0.1374103, DIVERSITY_GINI: 0.1379085, SHANNON_ENTROPY: 11.9554369, \n",
      "\n",
      "Iteration No: 185 ended. Search finished for the next optimal point.\n",
      "Time taken: 30.8848\n",
      "Function value obtained: -0.0549\n",
      "Current minimum: -0.0558\n",
      "Iteration No: 186 started. Searching for the next optimal point.\n"
     ]
    },
    {
     "name": "stderr",
     "output_type": "stream",
     "text": [
      "C:\\Users\\davel\\anaconda3\\envs\\RecSysFramework\\lib\\site-packages\\skopt\\optimizer\\optimizer.py:399: UserWarning: The objective has been evaluated at this point before.\n",
      "  warnings.warn(\"The objective has been evaluated \"\n"
     ]
    },
    {
     "name": "stdout",
     "output_type": "stream",
     "text": [
      "SearchBayesianSkopt: Testing config: {'w_slim_bpr': 0}\n",
      "EvaluatorHoldout: Processed 4643 ( 100.00% ) in 28.20 sec. Users per second: 165\n",
      "SearchBayesianSkopt: Config 185 is suboptimal. Config: {'w_slim_bpr': 0} - results: ROC_AUC: 0.1427320, PRECISION: 0.0289253, PRECISION_RECALL_MIN_DEN: 0.1237887, RECALL: 0.1217464, MAP: 0.0548739, MRR: 0.1013160, NDCG: 0.0820821, F1: 0.0467446, HIT_RATE: 0.2892526, ARHR: 0.1110927, NOVELTY: 0.0049737, AVERAGE_POPULARITY: 0.0712909, DIVERSITY_MEAN_INTER_LIST: 0.9941693, DIVERSITY_HERFINDAHL: 0.9993955, COVERAGE_ITEM: 0.3674302, COVERAGE_ITEM_CORRECT: 0.0364196, COVERAGE_USER: 0.5842456, COVERAGE_USER_CORRECT: 0.1374103, DIVERSITY_GINI: 0.1379547, SHANNON_ENTROPY: 11.9571592, \n",
      "\n",
      "Iteration No: 186 ended. Search finished for the next optimal point.\n",
      "Time taken: 30.0112\n",
      "Function value obtained: -0.0549\n",
      "Current minimum: -0.0558\n",
      "Iteration No: 187 started. Searching for the next optimal point.\n"
     ]
    },
    {
     "name": "stderr",
     "output_type": "stream",
     "text": [
      "C:\\Users\\davel\\anaconda3\\envs\\RecSysFramework\\lib\\site-packages\\skopt\\optimizer\\optimizer.py:399: UserWarning: The objective has been evaluated at this point before.\n",
      "  warnings.warn(\"The objective has been evaluated \"\n"
     ]
    },
    {
     "name": "stdout",
     "output_type": "stream",
     "text": [
      "SearchBayesianSkopt: Testing config: {'w_slim_bpr': 0}\n",
      "EvaluatorHoldout: Processed 4643 ( 100.00% ) in 29.34 sec. Users per second: 158\n",
      "SearchBayesianSkopt: Config 186 is suboptimal. Config: {'w_slim_bpr': 0} - results: ROC_AUC: 0.1427320, PRECISION: 0.0289253, PRECISION_RECALL_MIN_DEN: 0.1237887, RECALL: 0.1217464, MAP: 0.0548739, MRR: 0.1013160, NDCG: 0.0820821, F1: 0.0467446, HIT_RATE: 0.2892526, ARHR: 0.1110927, NOVELTY: 0.0049737, AVERAGE_POPULARITY: 0.0712909, DIVERSITY_MEAN_INTER_LIST: 0.9941693, DIVERSITY_HERFINDAHL: 0.9993955, COVERAGE_ITEM: 0.3674302, COVERAGE_ITEM_CORRECT: 0.0364196, COVERAGE_USER: 0.5842456, COVERAGE_USER_CORRECT: 0.1374103, DIVERSITY_GINI: 0.1379547, SHANNON_ENTROPY: 11.9571592, \n",
      "\n",
      "Iteration No: 187 ended. Search finished for the next optimal point.\n",
      "Time taken: 31.2147\n",
      "Function value obtained: -0.0549\n",
      "Current minimum: -0.0558\n",
      "Iteration No: 188 started. Searching for the next optimal point.\n"
     ]
    },
    {
     "name": "stderr",
     "output_type": "stream",
     "text": [
      "C:\\Users\\davel\\anaconda3\\envs\\RecSysFramework\\lib\\site-packages\\skopt\\optimizer\\optimizer.py:399: UserWarning: The objective has been evaluated at this point before.\n",
      "  warnings.warn(\"The objective has been evaluated \"\n"
     ]
    },
    {
     "name": "stdout",
     "output_type": "stream",
     "text": [
      "SearchBayesianSkopt: Testing config: {'w_slim_bpr': 0}\n",
      "EvaluatorHoldout: Processed 4643 ( 100.00% ) in 30.89 sec. Users per second: 150\n",
      "SearchBayesianSkopt: Config 187 is suboptimal. Config: {'w_slim_bpr': 0} - results: ROC_AUC: 0.1427320, PRECISION: 0.0289253, PRECISION_RECALL_MIN_DEN: 0.1237887, RECALL: 0.1217464, MAP: 0.0548739, MRR: 0.1013160, NDCG: 0.0820821, F1: 0.0467446, HIT_RATE: 0.2892526, ARHR: 0.1110927, NOVELTY: 0.0049737, AVERAGE_POPULARITY: 0.0712909, DIVERSITY_MEAN_INTER_LIST: 0.9941693, DIVERSITY_HERFINDAHL: 0.9993955, COVERAGE_ITEM: 0.3674302, COVERAGE_ITEM_CORRECT: 0.0364196, COVERAGE_USER: 0.5842456, COVERAGE_USER_CORRECT: 0.1374103, DIVERSITY_GINI: 0.1379547, SHANNON_ENTROPY: 11.9571592, \n",
      "\n",
      "Iteration No: 188 ended. Search finished for the next optimal point.\n",
      "Time taken: 32.8702\n",
      "Function value obtained: -0.0549\n",
      "Current minimum: -0.0558\n",
      "Iteration No: 189 started. Searching for the next optimal point.\n"
     ]
    },
    {
     "name": "stderr",
     "output_type": "stream",
     "text": [
      "C:\\Users\\davel\\anaconda3\\envs\\RecSysFramework\\lib\\site-packages\\skopt\\optimizer\\optimizer.py:399: UserWarning: The objective has been evaluated at this point before.\n",
      "  warnings.warn(\"The objective has been evaluated \"\n"
     ]
    },
    {
     "name": "stdout",
     "output_type": "stream",
     "text": [
      "SearchBayesianSkopt: Testing config: {'w_slim_bpr': 0}\n",
      "EvaluatorHoldout: Processed 4643 ( 100.00% ) in 33.05 sec. Users per second: 140\n",
      "SearchBayesianSkopt: Config 188 is suboptimal. Config: {'w_slim_bpr': 0} - results: ROC_AUC: 0.1427320, PRECISION: 0.0289253, PRECISION_RECALL_MIN_DEN: 0.1237887, RECALL: 0.1217464, MAP: 0.0548739, MRR: 0.1013160, NDCG: 0.0820821, F1: 0.0467446, HIT_RATE: 0.2892526, ARHR: 0.1110927, NOVELTY: 0.0049737, AVERAGE_POPULARITY: 0.0712909, DIVERSITY_MEAN_INTER_LIST: 0.9941693, DIVERSITY_HERFINDAHL: 0.9993955, COVERAGE_ITEM: 0.3674302, COVERAGE_ITEM_CORRECT: 0.0364196, COVERAGE_USER: 0.5842456, COVERAGE_USER_CORRECT: 0.1374103, DIVERSITY_GINI: 0.1379547, SHANNON_ENTROPY: 11.9571592, \n",
      "\n",
      "Iteration No: 189 ended. Search finished for the next optimal point.\n",
      "Time taken: 35.1584\n",
      "Function value obtained: -0.0549\n",
      "Current minimum: -0.0558\n",
      "Iteration No: 190 started. Searching for the next optimal point.\n"
     ]
    },
    {
     "name": "stderr",
     "output_type": "stream",
     "text": [
      "C:\\Users\\davel\\anaconda3\\envs\\RecSysFramework\\lib\\site-packages\\skopt\\optimizer\\optimizer.py:399: UserWarning: The objective has been evaluated at this point before.\n",
      "  warnings.warn(\"The objective has been evaluated \"\n"
     ]
    },
    {
     "name": "stdout",
     "output_type": "stream",
     "text": [
      "SearchBayesianSkopt: Testing config: {'w_slim_bpr': 0}\n",
      "EvaluatorHoldout: Processed 4643 ( 100.00% ) in 32.20 sec. Users per second: 144\n",
      "SearchBayesianSkopt: Config 189 is suboptimal. Config: {'w_slim_bpr': 0} - results: ROC_AUC: 0.1427320, PRECISION: 0.0289253, PRECISION_RECALL_MIN_DEN: 0.1237887, RECALL: 0.1217464, MAP: 0.0548739, MRR: 0.1013160, NDCG: 0.0820821, F1: 0.0467446, HIT_RATE: 0.2892526, ARHR: 0.1110927, NOVELTY: 0.0049737, AVERAGE_POPULARITY: 0.0712909, DIVERSITY_MEAN_INTER_LIST: 0.9941693, DIVERSITY_HERFINDAHL: 0.9993955, COVERAGE_ITEM: 0.3674302, COVERAGE_ITEM_CORRECT: 0.0364196, COVERAGE_USER: 0.5842456, COVERAGE_USER_CORRECT: 0.1374103, DIVERSITY_GINI: 0.1379547, SHANNON_ENTROPY: 11.9571592, \n",
      "\n",
      "Iteration No: 190 ended. Search finished for the next optimal point.\n",
      "Time taken: 34.3039\n",
      "Function value obtained: -0.0549\n",
      "Current minimum: -0.0558\n",
      "Iteration No: 191 started. Searching for the next optimal point.\n"
     ]
    },
    {
     "name": "stderr",
     "output_type": "stream",
     "text": [
      "C:\\Users\\davel\\anaconda3\\envs\\RecSysFramework\\lib\\site-packages\\skopt\\optimizer\\optimizer.py:399: UserWarning: The objective has been evaluated at this point before.\n",
      "  warnings.warn(\"The objective has been evaluated \"\n"
     ]
    },
    {
     "name": "stdout",
     "output_type": "stream",
     "text": [
      "SearchBayesianSkopt: Testing config: {'w_slim_bpr': 0}\n",
      "EvaluatorHoldout: Processed 4643 ( 100.00% ) in 32.41 sec. Users per second: 143\n",
      "SearchBayesianSkopt: Config 190 is suboptimal. Config: {'w_slim_bpr': 0} - results: ROC_AUC: 0.1427320, PRECISION: 0.0289253, PRECISION_RECALL_MIN_DEN: 0.1237887, RECALL: 0.1217464, MAP: 0.0548739, MRR: 0.1013160, NDCG: 0.0820821, F1: 0.0467446, HIT_RATE: 0.2892526, ARHR: 0.1110927, NOVELTY: 0.0049737, AVERAGE_POPULARITY: 0.0712909, DIVERSITY_MEAN_INTER_LIST: 0.9941693, DIVERSITY_HERFINDAHL: 0.9993955, COVERAGE_ITEM: 0.3674302, COVERAGE_ITEM_CORRECT: 0.0364196, COVERAGE_USER: 0.5842456, COVERAGE_USER_CORRECT: 0.1374103, DIVERSITY_GINI: 0.1379547, SHANNON_ENTROPY: 11.9571592, \n",
      "\n",
      "Iteration No: 191 ended. Search finished for the next optimal point.\n",
      "Time taken: 34.5791\n",
      "Function value obtained: -0.0549\n",
      "Current minimum: -0.0558\n",
      "Iteration No: 192 started. Searching for the next optimal point.\n"
     ]
    },
    {
     "name": "stderr",
     "output_type": "stream",
     "text": [
      "C:\\Users\\davel\\anaconda3\\envs\\RecSysFramework\\lib\\site-packages\\skopt\\optimizer\\optimizer.py:399: UserWarning: The objective has been evaluated at this point before.\n",
      "  warnings.warn(\"The objective has been evaluated \"\n"
     ]
    },
    {
     "name": "stdout",
     "output_type": "stream",
     "text": [
      "SearchBayesianSkopt: Testing config: {'w_slim_bpr': 1}\n",
      "EvaluatorHoldout: Processed 4643 ( 100.00% ) in 33.12 sec. Users per second: 140\n",
      "SearchBayesianSkopt: Config 191 is suboptimal. Config: {'w_slim_bpr': 1} - results: ROC_AUC: 0.1427846, PRECISION: 0.0289253, PRECISION_RECALL_MIN_DEN: 0.1238054, RECALL: 0.1217667, MAP: 0.0548595, MRR: 0.1012164, NDCG: 0.0820720, F1: 0.0467461, HIT_RATE: 0.2892526, ARHR: 0.1109751, NOVELTY: 0.0049731, AVERAGE_POPULARITY: 0.0714521, DIVERSITY_MEAN_INTER_LIST: 0.9941479, DIVERSITY_HERFINDAHL: 0.9993934, COVERAGE_ITEM: 0.3674687, COVERAGE_ITEM_CORRECT: 0.0363426, COVERAGE_USER: 0.5842456, COVERAGE_USER_CORRECT: 0.1374103, DIVERSITY_GINI: 0.1379085, SHANNON_ENTROPY: 11.9554369, \n",
      "\n",
      "Iteration No: 192 ended. Search finished for the next optimal point.\n",
      "Time taken: 35.2739\n",
      "Function value obtained: -0.0549\n",
      "Current minimum: -0.0558\n",
      "Iteration No: 193 started. Searching for the next optimal point.\n"
     ]
    },
    {
     "name": "stderr",
     "output_type": "stream",
     "text": [
      "C:\\Users\\davel\\anaconda3\\envs\\RecSysFramework\\lib\\site-packages\\skopt\\optimizer\\optimizer.py:399: UserWarning: The objective has been evaluated at this point before.\n",
      "  warnings.warn(\"The objective has been evaluated \"\n"
     ]
    },
    {
     "name": "stdout",
     "output_type": "stream",
     "text": [
      "SearchBayesianSkopt: Testing config: {'w_slim_bpr': 0}\n",
      "EvaluatorHoldout: Processed 4643 ( 100.00% ) in 32.40 sec. Users per second: 143\n",
      "SearchBayesianSkopt: Config 192 is suboptimal. Config: {'w_slim_bpr': 0} - results: ROC_AUC: 0.1427320, PRECISION: 0.0289253, PRECISION_RECALL_MIN_DEN: 0.1237887, RECALL: 0.1217464, MAP: 0.0548739, MRR: 0.1013160, NDCG: 0.0820821, F1: 0.0467446, HIT_RATE: 0.2892526, ARHR: 0.1110927, NOVELTY: 0.0049737, AVERAGE_POPULARITY: 0.0712909, DIVERSITY_MEAN_INTER_LIST: 0.9941693, DIVERSITY_HERFINDAHL: 0.9993955, COVERAGE_ITEM: 0.3674302, COVERAGE_ITEM_CORRECT: 0.0364196, COVERAGE_USER: 0.5842456, COVERAGE_USER_CORRECT: 0.1374103, DIVERSITY_GINI: 0.1379547, SHANNON_ENTROPY: 11.9571592, \n",
      "\n",
      "Iteration No: 193 ended. Search finished for the next optimal point.\n",
      "Time taken: 34.6487\n",
      "Function value obtained: -0.0549\n",
      "Current minimum: -0.0558\n",
      "Iteration No: 194 started. Searching for the next optimal point.\n"
     ]
    },
    {
     "name": "stderr",
     "output_type": "stream",
     "text": [
      "C:\\Users\\davel\\anaconda3\\envs\\RecSysFramework\\lib\\site-packages\\skopt\\optimizer\\optimizer.py:399: UserWarning: The objective has been evaluated at this point before.\n",
      "  warnings.warn(\"The objective has been evaluated \"\n"
     ]
    },
    {
     "name": "stdout",
     "output_type": "stream",
     "text": [
      "SearchBayesianSkopt: Testing config: {'w_slim_bpr': 0}\n",
      "EvaluatorHoldout: Processed 4643 ( 100.00% ) in 32.03 sec. Users per second: 145\n",
      "SearchBayesianSkopt: Config 193 is suboptimal. Config: {'w_slim_bpr': 0} - results: ROC_AUC: 0.1427320, PRECISION: 0.0289253, PRECISION_RECALL_MIN_DEN: 0.1237887, RECALL: 0.1217464, MAP: 0.0548739, MRR: 0.1013160, NDCG: 0.0820821, F1: 0.0467446, HIT_RATE: 0.2892526, ARHR: 0.1110927, NOVELTY: 0.0049737, AVERAGE_POPULARITY: 0.0712909, DIVERSITY_MEAN_INTER_LIST: 0.9941693, DIVERSITY_HERFINDAHL: 0.9993955, COVERAGE_ITEM: 0.3674302, COVERAGE_ITEM_CORRECT: 0.0364196, COVERAGE_USER: 0.5842456, COVERAGE_USER_CORRECT: 0.1374103, DIVERSITY_GINI: 0.1379547, SHANNON_ENTROPY: 11.9571592, \n",
      "\n",
      "Iteration No: 194 ended. Search finished for the next optimal point.\n",
      "Time taken: 34.2385\n",
      "Function value obtained: -0.0549\n",
      "Current minimum: -0.0558\n",
      "Iteration No: 195 started. Searching for the next optimal point.\n"
     ]
    },
    {
     "name": "stderr",
     "output_type": "stream",
     "text": [
      "C:\\Users\\davel\\anaconda3\\envs\\RecSysFramework\\lib\\site-packages\\skopt\\optimizer\\optimizer.py:399: UserWarning: The objective has been evaluated at this point before.\n",
      "  warnings.warn(\"The objective has been evaluated \"\n"
     ]
    },
    {
     "name": "stdout",
     "output_type": "stream",
     "text": [
      "SearchBayesianSkopt: Testing config: {'w_slim_bpr': 0}\n",
      "EvaluatorHoldout: Processed 4643 ( 100.00% ) in 32.12 sec. Users per second: 145\n",
      "SearchBayesianSkopt: Config 194 is suboptimal. Config: {'w_slim_bpr': 0} - results: ROC_AUC: 0.1427320, PRECISION: 0.0289253, PRECISION_RECALL_MIN_DEN: 0.1237887, RECALL: 0.1217464, MAP: 0.0548739, MRR: 0.1013160, NDCG: 0.0820821, F1: 0.0467446, HIT_RATE: 0.2892526, ARHR: 0.1110927, NOVELTY: 0.0049737, AVERAGE_POPULARITY: 0.0712909, DIVERSITY_MEAN_INTER_LIST: 0.9941693, DIVERSITY_HERFINDAHL: 0.9993955, COVERAGE_ITEM: 0.3674302, COVERAGE_ITEM_CORRECT: 0.0364196, COVERAGE_USER: 0.5842456, COVERAGE_USER_CORRECT: 0.1374103, DIVERSITY_GINI: 0.1379547, SHANNON_ENTROPY: 11.9571592, \n",
      "\n",
      "Iteration No: 195 ended. Search finished for the next optimal point.\n",
      "Time taken: 34.2453\n",
      "Function value obtained: -0.0549\n",
      "Current minimum: -0.0558\n",
      "Iteration No: 196 started. Searching for the next optimal point.\n"
     ]
    },
    {
     "name": "stderr",
     "output_type": "stream",
     "text": [
      "C:\\Users\\davel\\anaconda3\\envs\\RecSysFramework\\lib\\site-packages\\skopt\\optimizer\\optimizer.py:399: UserWarning: The objective has been evaluated at this point before.\n",
      "  warnings.warn(\"The objective has been evaluated \"\n"
     ]
    },
    {
     "name": "stdout",
     "output_type": "stream",
     "text": [
      "SearchBayesianSkopt: Testing config: {'w_slim_bpr': 0}\n",
      "EvaluatorHoldout: Processed 4643 ( 100.00% ) in 31.24 sec. Users per second: 149\n",
      "SearchBayesianSkopt: Config 195 is suboptimal. Config: {'w_slim_bpr': 0} - results: ROC_AUC: 0.1427320, PRECISION: 0.0289253, PRECISION_RECALL_MIN_DEN: 0.1237887, RECALL: 0.1217464, MAP: 0.0548739, MRR: 0.1013160, NDCG: 0.0820821, F1: 0.0467446, HIT_RATE: 0.2892526, ARHR: 0.1110927, NOVELTY: 0.0049737, AVERAGE_POPULARITY: 0.0712909, DIVERSITY_MEAN_INTER_LIST: 0.9941693, DIVERSITY_HERFINDAHL: 0.9993955, COVERAGE_ITEM: 0.3674302, COVERAGE_ITEM_CORRECT: 0.0364196, COVERAGE_USER: 0.5842456, COVERAGE_USER_CORRECT: 0.1374103, DIVERSITY_GINI: 0.1379547, SHANNON_ENTROPY: 11.9571592, \n",
      "\n",
      "Iteration No: 196 ended. Search finished for the next optimal point.\n",
      "Time taken: 33.3041\n",
      "Function value obtained: -0.0549\n",
      "Current minimum: -0.0558\n",
      "Iteration No: 197 started. Searching for the next optimal point.\n"
     ]
    },
    {
     "name": "stderr",
     "output_type": "stream",
     "text": [
      "C:\\Users\\davel\\anaconda3\\envs\\RecSysFramework\\lib\\site-packages\\skopt\\optimizer\\optimizer.py:399: UserWarning: The objective has been evaluated at this point before.\n",
      "  warnings.warn(\"The objective has been evaluated \"\n"
     ]
    },
    {
     "name": "stdout",
     "output_type": "stream",
     "text": [
      "SearchBayesianSkopt: Testing config: {'w_slim_bpr': 0}\n",
      "EvaluatorHoldout: Processed 4643 ( 100.00% ) in 30.30 sec. Users per second: 153\n",
      "SearchBayesianSkopt: Config 196 is suboptimal. Config: {'w_slim_bpr': 0} - results: ROC_AUC: 0.1427320, PRECISION: 0.0289253, PRECISION_RECALL_MIN_DEN: 0.1237887, RECALL: 0.1217464, MAP: 0.0548739, MRR: 0.1013160, NDCG: 0.0820821, F1: 0.0467446, HIT_RATE: 0.2892526, ARHR: 0.1110927, NOVELTY: 0.0049737, AVERAGE_POPULARITY: 0.0712909, DIVERSITY_MEAN_INTER_LIST: 0.9941693, DIVERSITY_HERFINDAHL: 0.9993955, COVERAGE_ITEM: 0.3674302, COVERAGE_ITEM_CORRECT: 0.0364196, COVERAGE_USER: 0.5842456, COVERAGE_USER_CORRECT: 0.1374103, DIVERSITY_GINI: 0.1379547, SHANNON_ENTROPY: 11.9571592, \n",
      "\n",
      "Iteration No: 197 ended. Search finished for the next optimal point.\n",
      "Time taken: 32.5297\n",
      "Function value obtained: -0.0549\n",
      "Current minimum: -0.0558\n",
      "Iteration No: 198 started. Searching for the next optimal point.\n"
     ]
    },
    {
     "name": "stderr",
     "output_type": "stream",
     "text": [
      "C:\\Users\\davel\\anaconda3\\envs\\RecSysFramework\\lib\\site-packages\\skopt\\optimizer\\optimizer.py:399: UserWarning: The objective has been evaluated at this point before.\n",
      "  warnings.warn(\"The objective has been evaluated \"\n"
     ]
    },
    {
     "name": "stdout",
     "output_type": "stream",
     "text": [
      "SearchBayesianSkopt: Testing config: {'w_slim_bpr': 0}\n",
      "EvaluatorHoldout: Processed 4643 ( 100.00% ) in 31.72 sec. Users per second: 146\n",
      "SearchBayesianSkopt: Config 197 is suboptimal. Config: {'w_slim_bpr': 0} - results: ROC_AUC: 0.1427320, PRECISION: 0.0289253, PRECISION_RECALL_MIN_DEN: 0.1237887, RECALL: 0.1217464, MAP: 0.0548739, MRR: 0.1013160, NDCG: 0.0820821, F1: 0.0467446, HIT_RATE: 0.2892526, ARHR: 0.1110927, NOVELTY: 0.0049737, AVERAGE_POPULARITY: 0.0712909, DIVERSITY_MEAN_INTER_LIST: 0.9941693, DIVERSITY_HERFINDAHL: 0.9993955, COVERAGE_ITEM: 0.3674302, COVERAGE_ITEM_CORRECT: 0.0364196, COVERAGE_USER: 0.5842456, COVERAGE_USER_CORRECT: 0.1374103, DIVERSITY_GINI: 0.1379547, SHANNON_ENTROPY: 11.9571592, \n",
      "\n",
      "Iteration No: 198 ended. Search finished for the next optimal point.\n",
      "Time taken: 33.7629\n",
      "Function value obtained: -0.0549\n",
      "Current minimum: -0.0558\n",
      "Iteration No: 199 started. Searching for the next optimal point.\n"
     ]
    },
    {
     "name": "stderr",
     "output_type": "stream",
     "text": [
      "C:\\Users\\davel\\anaconda3\\envs\\RecSysFramework\\lib\\site-packages\\skopt\\optimizer\\optimizer.py:399: UserWarning: The objective has been evaluated at this point before.\n",
      "  warnings.warn(\"The objective has been evaluated \"\n"
     ]
    },
    {
     "name": "stdout",
     "output_type": "stream",
     "text": [
      "SearchBayesianSkopt: Testing config: {'w_slim_bpr': 0}\n",
      "EvaluatorHoldout: Processed 4643 ( 100.00% ) in 29.03 sec. Users per second: 160\n",
      "SearchBayesianSkopt: Config 198 is suboptimal. Config: {'w_slim_bpr': 0} - results: ROC_AUC: 0.1427320, PRECISION: 0.0289253, PRECISION_RECALL_MIN_DEN: 0.1237887, RECALL: 0.1217464, MAP: 0.0548739, MRR: 0.1013160, NDCG: 0.0820821, F1: 0.0467446, HIT_RATE: 0.2892526, ARHR: 0.1110927, NOVELTY: 0.0049737, AVERAGE_POPULARITY: 0.0712909, DIVERSITY_MEAN_INTER_LIST: 0.9941693, DIVERSITY_HERFINDAHL: 0.9993955, COVERAGE_ITEM: 0.3674302, COVERAGE_ITEM_CORRECT: 0.0364196, COVERAGE_USER: 0.5842456, COVERAGE_USER_CORRECT: 0.1374103, DIVERSITY_GINI: 0.1379547, SHANNON_ENTROPY: 11.9571592, \n",
      "\n",
      "Iteration No: 199 ended. Search finished for the next optimal point.\n",
      "Time taken: 31.0746\n",
      "Function value obtained: -0.0549\n",
      "Current minimum: -0.0558\n",
      "Iteration No: 200 started. Searching for the next optimal point.\n"
     ]
    },
    {
     "name": "stderr",
     "output_type": "stream",
     "text": [
      "C:\\Users\\davel\\anaconda3\\envs\\RecSysFramework\\lib\\site-packages\\skopt\\optimizer\\optimizer.py:399: UserWarning: The objective has been evaluated at this point before.\n",
      "  warnings.warn(\"The objective has been evaluated \"\n"
     ]
    },
    {
     "name": "stdout",
     "output_type": "stream",
     "text": [
      "SearchBayesianSkopt: Testing config: {'w_slim_bpr': 0}\n",
      "EvaluatorHoldout: Processed 4643 ( 100.00% ) in 30.15 sec. Users per second: 154\n",
      "SearchBayesianSkopt: Config 199 is suboptimal. Config: {'w_slim_bpr': 0} - results: ROC_AUC: 0.1427320, PRECISION: 0.0289253, PRECISION_RECALL_MIN_DEN: 0.1237887, RECALL: 0.1217464, MAP: 0.0548739, MRR: 0.1013160, NDCG: 0.0820821, F1: 0.0467446, HIT_RATE: 0.2892526, ARHR: 0.1110927, NOVELTY: 0.0049737, AVERAGE_POPULARITY: 0.0712909, DIVERSITY_MEAN_INTER_LIST: 0.9941693, DIVERSITY_HERFINDAHL: 0.9993955, COVERAGE_ITEM: 0.3674302, COVERAGE_ITEM_CORRECT: 0.0364196, COVERAGE_USER: 0.5842456, COVERAGE_USER_CORRECT: 0.1374103, DIVERSITY_GINI: 0.1379547, SHANNON_ENTROPY: 11.9571592, \n",
      "\n",
      "Iteration No: 200 ended. Search finished for the next optimal point.\n",
      "Time taken: 32.3068\n",
      "Function value obtained: -0.0549\n",
      "Current minimum: -0.0558\n",
      "Iteration No: 201 started. Searching for the next optimal point.\n"
     ]
    },
    {
     "name": "stderr",
     "output_type": "stream",
     "text": [
      "C:\\Users\\davel\\anaconda3\\envs\\RecSysFramework\\lib\\site-packages\\skopt\\optimizer\\optimizer.py:399: UserWarning: The objective has been evaluated at this point before.\n",
      "  warnings.warn(\"The objective has been evaluated \"\n"
     ]
    },
    {
     "name": "stdout",
     "output_type": "stream",
     "text": [
      "SearchBayesianSkopt: Testing config: {'w_slim_bpr': 0}\n",
      "EvaluatorHoldout: Processed 4643 ( 100.00% ) in 30.64 sec. Users per second: 152\n",
      "SearchBayesianSkopt: Config 200 is suboptimal. Config: {'w_slim_bpr': 0} - results: ROC_AUC: 0.1427320, PRECISION: 0.0289253, PRECISION_RECALL_MIN_DEN: 0.1237887, RECALL: 0.1217464, MAP: 0.0548739, MRR: 0.1013160, NDCG: 0.0820821, F1: 0.0467446, HIT_RATE: 0.2892526, ARHR: 0.1110927, NOVELTY: 0.0049737, AVERAGE_POPULARITY: 0.0712909, DIVERSITY_MEAN_INTER_LIST: 0.9941693, DIVERSITY_HERFINDAHL: 0.9993955, COVERAGE_ITEM: 0.3674302, COVERAGE_ITEM_CORRECT: 0.0364196, COVERAGE_USER: 0.5842456, COVERAGE_USER_CORRECT: 0.1374103, DIVERSITY_GINI: 0.1379547, SHANNON_ENTROPY: 11.9571592, \n",
      "\n",
      "Iteration No: 201 ended. Search finished for the next optimal point.\n",
      "Time taken: 32.7837\n",
      "Function value obtained: -0.0549\n",
      "Current minimum: -0.0558\n",
      "Iteration No: 202 started. Searching for the next optimal point.\n"
     ]
    },
    {
     "name": "stderr",
     "output_type": "stream",
     "text": [
      "C:\\Users\\davel\\anaconda3\\envs\\RecSysFramework\\lib\\site-packages\\skopt\\optimizer\\optimizer.py:399: UserWarning: The objective has been evaluated at this point before.\n",
      "  warnings.warn(\"The objective has been evaluated \"\n"
     ]
    },
    {
     "name": "stdout",
     "output_type": "stream",
     "text": [
      "SearchBayesianSkopt: Testing config: {'w_slim_bpr': 1}\n",
      "EvaluatorHoldout: Processed 4643 ( 100.00% ) in 30.14 sec. Users per second: 154\n",
      "SearchBayesianSkopt: Config 201 is suboptimal. Config: {'w_slim_bpr': 1} - results: ROC_AUC: 0.1427846, PRECISION: 0.0289253, PRECISION_RECALL_MIN_DEN: 0.1238054, RECALL: 0.1217667, MAP: 0.0548595, MRR: 0.1012164, NDCG: 0.0820720, F1: 0.0467461, HIT_RATE: 0.2892526, ARHR: 0.1109751, NOVELTY: 0.0049731, AVERAGE_POPULARITY: 0.0714521, DIVERSITY_MEAN_INTER_LIST: 0.9941479, DIVERSITY_HERFINDAHL: 0.9993934, COVERAGE_ITEM: 0.3674687, COVERAGE_ITEM_CORRECT: 0.0363426, COVERAGE_USER: 0.5842456, COVERAGE_USER_CORRECT: 0.1374103, DIVERSITY_GINI: 0.1379085, SHANNON_ENTROPY: 11.9554369, \n",
      "\n",
      "Iteration No: 202 ended. Search finished for the next optimal point.\n",
      "Time taken: 32.2568\n",
      "Function value obtained: -0.0549\n",
      "Current minimum: -0.0558\n",
      "Iteration No: 203 started. Searching for the next optimal point.\n"
     ]
    },
    {
     "name": "stderr",
     "output_type": "stream",
     "text": [
      "C:\\Users\\davel\\anaconda3\\envs\\RecSysFramework\\lib\\site-packages\\skopt\\optimizer\\optimizer.py:399: UserWarning: The objective has been evaluated at this point before.\n",
      "  warnings.warn(\"The objective has been evaluated \"\n"
     ]
    },
    {
     "name": "stdout",
     "output_type": "stream",
     "text": [
      "SearchBayesianSkopt: Testing config: {'w_slim_bpr': 0}\n",
      "EvaluatorHoldout: Processed 4643 ( 100.00% ) in 30.01 sec. Users per second: 155\n",
      "SearchBayesianSkopt: Config 202 is suboptimal. Config: {'w_slim_bpr': 0} - results: ROC_AUC: 0.1427320, PRECISION: 0.0289253, PRECISION_RECALL_MIN_DEN: 0.1237887, RECALL: 0.1217464, MAP: 0.0548739, MRR: 0.1013160, NDCG: 0.0820821, F1: 0.0467446, HIT_RATE: 0.2892526, ARHR: 0.1110927, NOVELTY: 0.0049737, AVERAGE_POPULARITY: 0.0712909, DIVERSITY_MEAN_INTER_LIST: 0.9941693, DIVERSITY_HERFINDAHL: 0.9993955, COVERAGE_ITEM: 0.3674302, COVERAGE_ITEM_CORRECT: 0.0364196, COVERAGE_USER: 0.5842456, COVERAGE_USER_CORRECT: 0.1374103, DIVERSITY_GINI: 0.1379547, SHANNON_ENTROPY: 11.9571592, \n",
      "\n",
      "Iteration No: 203 ended. Search finished for the next optimal point.\n",
      "Time taken: 32.1922\n",
      "Function value obtained: -0.0549\n",
      "Current minimum: -0.0558\n",
      "Iteration No: 204 started. Searching for the next optimal point.\n"
     ]
    },
    {
     "name": "stderr",
     "output_type": "stream",
     "text": [
      "C:\\Users\\davel\\anaconda3\\envs\\RecSysFramework\\lib\\site-packages\\skopt\\optimizer\\optimizer.py:399: UserWarning: The objective has been evaluated at this point before.\n",
      "  warnings.warn(\"The objective has been evaluated \"\n"
     ]
    },
    {
     "name": "stdout",
     "output_type": "stream",
     "text": [
      "SearchBayesianSkopt: Testing config: {'w_slim_bpr': 0}\n",
      "EvaluatorHoldout: Processed 4643 ( 100.00% ) in 30.02 sec. Users per second: 155\n",
      "SearchBayesianSkopt: Config 203 is suboptimal. Config: {'w_slim_bpr': 0} - results: ROC_AUC: 0.1427320, PRECISION: 0.0289253, PRECISION_RECALL_MIN_DEN: 0.1237887, RECALL: 0.1217464, MAP: 0.0548739, MRR: 0.1013160, NDCG: 0.0820821, F1: 0.0467446, HIT_RATE: 0.2892526, ARHR: 0.1110927, NOVELTY: 0.0049737, AVERAGE_POPULARITY: 0.0712909, DIVERSITY_MEAN_INTER_LIST: 0.9941693, DIVERSITY_HERFINDAHL: 0.9993955, COVERAGE_ITEM: 0.3674302, COVERAGE_ITEM_CORRECT: 0.0364196, COVERAGE_USER: 0.5842456, COVERAGE_USER_CORRECT: 0.1374103, DIVERSITY_GINI: 0.1379547, SHANNON_ENTROPY: 11.9571592, \n",
      "\n",
      "Iteration No: 204 ended. Search finished for the next optimal point.\n",
      "Time taken: 32.3080\n",
      "Function value obtained: -0.0549\n",
      "Current minimum: -0.0558\n",
      "Iteration No: 205 started. Searching for the next optimal point.\n"
     ]
    },
    {
     "name": "stderr",
     "output_type": "stream",
     "text": [
      "C:\\Users\\davel\\anaconda3\\envs\\RecSysFramework\\lib\\site-packages\\skopt\\optimizer\\optimizer.py:399: UserWarning: The objective has been evaluated at this point before.\n",
      "  warnings.warn(\"The objective has been evaluated \"\n"
     ]
    },
    {
     "name": "stdout",
     "output_type": "stream",
     "text": [
      "SearchBayesianSkopt: Testing config: {'w_slim_bpr': 0}\n",
      "EvaluatorHoldout: Processed 4643 ( 100.00% ) in 30.99 sec. Users per second: 150\n",
      "SearchBayesianSkopt: Config 204 is suboptimal. Config: {'w_slim_bpr': 0} - results: ROC_AUC: 0.1427320, PRECISION: 0.0289253, PRECISION_RECALL_MIN_DEN: 0.1237887, RECALL: 0.1217464, MAP: 0.0548739, MRR: 0.1013160, NDCG: 0.0820821, F1: 0.0467446, HIT_RATE: 0.2892526, ARHR: 0.1110927, NOVELTY: 0.0049737, AVERAGE_POPULARITY: 0.0712909, DIVERSITY_MEAN_INTER_LIST: 0.9941693, DIVERSITY_HERFINDAHL: 0.9993955, COVERAGE_ITEM: 0.3674302, COVERAGE_ITEM_CORRECT: 0.0364196, COVERAGE_USER: 0.5842456, COVERAGE_USER_CORRECT: 0.1374103, DIVERSITY_GINI: 0.1379547, SHANNON_ENTROPY: 11.9571592, \n",
      "\n",
      "Iteration No: 205 ended. Search finished for the next optimal point.\n",
      "Time taken: 33.4069\n",
      "Function value obtained: -0.0549\n",
      "Current minimum: -0.0558\n",
      "Iteration No: 206 started. Searching for the next optimal point.\n"
     ]
    },
    {
     "name": "stderr",
     "output_type": "stream",
     "text": [
      "C:\\Users\\davel\\anaconda3\\envs\\RecSysFramework\\lib\\site-packages\\skopt\\optimizer\\optimizer.py:399: UserWarning: The objective has been evaluated at this point before.\n",
      "  warnings.warn(\"The objective has been evaluated \"\n"
     ]
    },
    {
     "name": "stdout",
     "output_type": "stream",
     "text": [
      "SearchBayesianSkopt: Testing config: {'w_slim_bpr': 0}\n",
      "EvaluatorHoldout: Processed 4643 ( 100.00% ) in 30.79 sec. Users per second: 151\n",
      "SearchBayesianSkopt: Config 205 is suboptimal. Config: {'w_slim_bpr': 0} - results: ROC_AUC: 0.1427320, PRECISION: 0.0289253, PRECISION_RECALL_MIN_DEN: 0.1237887, RECALL: 0.1217464, MAP: 0.0548739, MRR: 0.1013160, NDCG: 0.0820821, F1: 0.0467446, HIT_RATE: 0.2892526, ARHR: 0.1110927, NOVELTY: 0.0049737, AVERAGE_POPULARITY: 0.0712909, DIVERSITY_MEAN_INTER_LIST: 0.9941693, DIVERSITY_HERFINDAHL: 0.9993955, COVERAGE_ITEM: 0.3674302, COVERAGE_ITEM_CORRECT: 0.0364196, COVERAGE_USER: 0.5842456, COVERAGE_USER_CORRECT: 0.1374103, DIVERSITY_GINI: 0.1379547, SHANNON_ENTROPY: 11.9571592, \n",
      "\n",
      "Iteration No: 206 ended. Search finished for the next optimal point.\n",
      "Time taken: 32.9963\n",
      "Function value obtained: -0.0549\n",
      "Current minimum: -0.0558\n",
      "Iteration No: 207 started. Searching for the next optimal point.\n"
     ]
    },
    {
     "name": "stderr",
     "output_type": "stream",
     "text": [
      "C:\\Users\\davel\\anaconda3\\envs\\RecSysFramework\\lib\\site-packages\\skopt\\optimizer\\optimizer.py:399: UserWarning: The objective has been evaluated at this point before.\n",
      "  warnings.warn(\"The objective has been evaluated \"\n"
     ]
    },
    {
     "name": "stdout",
     "output_type": "stream",
     "text": [
      "SearchBayesianSkopt: Testing config: {'w_slim_bpr': 0}\n",
      "EvaluatorHoldout: Processed 4643 ( 100.00% ) in 30.10 sec. Users per second: 154\n",
      "SearchBayesianSkopt: Config 206 is suboptimal. Config: {'w_slim_bpr': 0} - results: ROC_AUC: 0.1427320, PRECISION: 0.0289253, PRECISION_RECALL_MIN_DEN: 0.1237887, RECALL: 0.1217464, MAP: 0.0548739, MRR: 0.1013160, NDCG: 0.0820821, F1: 0.0467446, HIT_RATE: 0.2892526, ARHR: 0.1110927, NOVELTY: 0.0049737, AVERAGE_POPULARITY: 0.0712909, DIVERSITY_MEAN_INTER_LIST: 0.9941693, DIVERSITY_HERFINDAHL: 0.9993955, COVERAGE_ITEM: 0.3674302, COVERAGE_ITEM_CORRECT: 0.0364196, COVERAGE_USER: 0.5842456, COVERAGE_USER_CORRECT: 0.1374103, DIVERSITY_GINI: 0.1379547, SHANNON_ENTROPY: 11.9571592, \n",
      "\n",
      "Iteration No: 207 ended. Search finished for the next optimal point.\n",
      "Time taken: 32.3977\n",
      "Function value obtained: -0.0549\n",
      "Current minimum: -0.0558\n",
      "Iteration No: 208 started. Searching for the next optimal point.\n"
     ]
    },
    {
     "name": "stderr",
     "output_type": "stream",
     "text": [
      "C:\\Users\\davel\\anaconda3\\envs\\RecSysFramework\\lib\\site-packages\\skopt\\optimizer\\optimizer.py:399: UserWarning: The objective has been evaluated at this point before.\n",
      "  warnings.warn(\"The objective has been evaluated \"\n"
     ]
    },
    {
     "name": "stdout",
     "output_type": "stream",
     "text": [
      "SearchBayesianSkopt: Testing config: {'w_slim_bpr': 1}\n",
      "EvaluatorHoldout: Processed 4643 ( 100.00% ) in 29.25 sec. Users per second: 159\n",
      "SearchBayesianSkopt: Config 207 is suboptimal. Config: {'w_slim_bpr': 1} - results: ROC_AUC: 0.1427846, PRECISION: 0.0289253, PRECISION_RECALL_MIN_DEN: 0.1238054, RECALL: 0.1217667, MAP: 0.0548595, MRR: 0.1012164, NDCG: 0.0820720, F1: 0.0467461, HIT_RATE: 0.2892526, ARHR: 0.1109751, NOVELTY: 0.0049731, AVERAGE_POPULARITY: 0.0714521, DIVERSITY_MEAN_INTER_LIST: 0.9941479, DIVERSITY_HERFINDAHL: 0.9993934, COVERAGE_ITEM: 0.3674687, COVERAGE_ITEM_CORRECT: 0.0363426, COVERAGE_USER: 0.5842456, COVERAGE_USER_CORRECT: 0.1374103, DIVERSITY_GINI: 0.1379085, SHANNON_ENTROPY: 11.9554369, \n",
      "\n",
      "Iteration No: 208 ended. Search finished for the next optimal point.\n",
      "Time taken: 31.5913\n",
      "Function value obtained: -0.0549\n",
      "Current minimum: -0.0558\n",
      "Iteration No: 209 started. Searching for the next optimal point.\n"
     ]
    },
    {
     "name": "stderr",
     "output_type": "stream",
     "text": [
      "C:\\Users\\davel\\anaconda3\\envs\\RecSysFramework\\lib\\site-packages\\skopt\\optimizer\\optimizer.py:399: UserWarning: The objective has been evaluated at this point before.\n",
      "  warnings.warn(\"The objective has been evaluated \"\n"
     ]
    },
    {
     "name": "stdout",
     "output_type": "stream",
     "text": [
      "SearchBayesianSkopt: Testing config: {'w_slim_bpr': 0}\n",
      "EvaluatorHoldout: Processed 4643 ( 100.00% ) in 28.28 sec. Users per second: 164\n",
      "SearchBayesianSkopt: Config 208 is suboptimal. Config: {'w_slim_bpr': 0} - results: ROC_AUC: 0.1427320, PRECISION: 0.0289253, PRECISION_RECALL_MIN_DEN: 0.1237887, RECALL: 0.1217464, MAP: 0.0548739, MRR: 0.1013160, NDCG: 0.0820821, F1: 0.0467446, HIT_RATE: 0.2892526, ARHR: 0.1110927, NOVELTY: 0.0049737, AVERAGE_POPULARITY: 0.0712909, DIVERSITY_MEAN_INTER_LIST: 0.9941693, DIVERSITY_HERFINDAHL: 0.9993955, COVERAGE_ITEM: 0.3674302, COVERAGE_ITEM_CORRECT: 0.0364196, COVERAGE_USER: 0.5842456, COVERAGE_USER_CORRECT: 0.1374103, DIVERSITY_GINI: 0.1379547, SHANNON_ENTROPY: 11.9571592, \n",
      "\n",
      "Iteration No: 209 ended. Search finished for the next optimal point.\n",
      "Time taken: 30.5502\n",
      "Function value obtained: -0.0549\n",
      "Current minimum: -0.0558\n",
      "Iteration No: 210 started. Searching for the next optimal point.\n"
     ]
    },
    {
     "name": "stderr",
     "output_type": "stream",
     "text": [
      "C:\\Users\\davel\\anaconda3\\envs\\RecSysFramework\\lib\\site-packages\\skopt\\optimizer\\optimizer.py:399: UserWarning: The objective has been evaluated at this point before.\n",
      "  warnings.warn(\"The objective has been evaluated \"\n"
     ]
    },
    {
     "name": "stdout",
     "output_type": "stream",
     "text": [
      "SearchBayesianSkopt: Testing config: {'w_slim_bpr': 0}\n",
      "EvaluatorHoldout: Processed 4643 ( 100.00% ) in 29.05 sec. Users per second: 160\n",
      "SearchBayesianSkopt: Config 209 is suboptimal. Config: {'w_slim_bpr': 0} - results: ROC_AUC: 0.1427320, PRECISION: 0.0289253, PRECISION_RECALL_MIN_DEN: 0.1237887, RECALL: 0.1217464, MAP: 0.0548739, MRR: 0.1013160, NDCG: 0.0820821, F1: 0.0467446, HIT_RATE: 0.2892526, ARHR: 0.1110927, NOVELTY: 0.0049737, AVERAGE_POPULARITY: 0.0712909, DIVERSITY_MEAN_INTER_LIST: 0.9941693, DIVERSITY_HERFINDAHL: 0.9993955, COVERAGE_ITEM: 0.3674302, COVERAGE_ITEM_CORRECT: 0.0364196, COVERAGE_USER: 0.5842456, COVERAGE_USER_CORRECT: 0.1374103, DIVERSITY_GINI: 0.1379547, SHANNON_ENTROPY: 11.9571592, \n",
      "\n",
      "Iteration No: 210 ended. Search finished for the next optimal point.\n",
      "Time taken: 31.3472\n",
      "Function value obtained: -0.0549\n",
      "Current minimum: -0.0558\n",
      "Iteration No: 211 started. Searching for the next optimal point.\n"
     ]
    },
    {
     "name": "stderr",
     "output_type": "stream",
     "text": [
      "C:\\Users\\davel\\anaconda3\\envs\\RecSysFramework\\lib\\site-packages\\skopt\\optimizer\\optimizer.py:399: UserWarning: The objective has been evaluated at this point before.\n",
      "  warnings.warn(\"The objective has been evaluated \"\n"
     ]
    },
    {
     "name": "stdout",
     "output_type": "stream",
     "text": [
      "SearchBayesianSkopt: Testing config: {'w_slim_bpr': 0}\n",
      "EvaluatorHoldout: Processed 4643 ( 100.00% ) in 29.87 sec. Users per second: 155\n",
      "SearchBayesianSkopt: Config 210 is suboptimal. Config: {'w_slim_bpr': 0} - results: ROC_AUC: 0.1427320, PRECISION: 0.0289253, PRECISION_RECALL_MIN_DEN: 0.1237887, RECALL: 0.1217464, MAP: 0.0548739, MRR: 0.1013160, NDCG: 0.0820821, F1: 0.0467446, HIT_RATE: 0.2892526, ARHR: 0.1110927, NOVELTY: 0.0049737, AVERAGE_POPULARITY: 0.0712909, DIVERSITY_MEAN_INTER_LIST: 0.9941693, DIVERSITY_HERFINDAHL: 0.9993955, COVERAGE_ITEM: 0.3674302, COVERAGE_ITEM_CORRECT: 0.0364196, COVERAGE_USER: 0.5842456, COVERAGE_USER_CORRECT: 0.1374103, DIVERSITY_GINI: 0.1379547, SHANNON_ENTROPY: 11.9571592, \n",
      "\n",
      "Iteration No: 211 ended. Search finished for the next optimal point.\n",
      "Time taken: 32.2392\n",
      "Function value obtained: -0.0549\n",
      "Current minimum: -0.0558\n",
      "Iteration No: 212 started. Searching for the next optimal point.\n"
     ]
    },
    {
     "name": "stderr",
     "output_type": "stream",
     "text": [
      "C:\\Users\\davel\\anaconda3\\envs\\RecSysFramework\\lib\\site-packages\\skopt\\optimizer\\optimizer.py:399: UserWarning: The objective has been evaluated at this point before.\n",
      "  warnings.warn(\"The objective has been evaluated \"\n"
     ]
    },
    {
     "name": "stdout",
     "output_type": "stream",
     "text": [
      "SearchBayesianSkopt: Testing config: {'w_slim_bpr': 0}\n",
      "EvaluatorHoldout: Processed 4643 ( 100.00% ) in 28.94 sec. Users per second: 160\n",
      "SearchBayesianSkopt: Config 211 is suboptimal. Config: {'w_slim_bpr': 0} - results: ROC_AUC: 0.1427320, PRECISION: 0.0289253, PRECISION_RECALL_MIN_DEN: 0.1237887, RECALL: 0.1217464, MAP: 0.0548739, MRR: 0.1013160, NDCG: 0.0820821, F1: 0.0467446, HIT_RATE: 0.2892526, ARHR: 0.1110927, NOVELTY: 0.0049737, AVERAGE_POPULARITY: 0.0712909, DIVERSITY_MEAN_INTER_LIST: 0.9941693, DIVERSITY_HERFINDAHL: 0.9993955, COVERAGE_ITEM: 0.3674302, COVERAGE_ITEM_CORRECT: 0.0364196, COVERAGE_USER: 0.5842456, COVERAGE_USER_CORRECT: 0.1374103, DIVERSITY_GINI: 0.1379547, SHANNON_ENTROPY: 11.9571592, \n",
      "\n",
      "Iteration No: 212 ended. Search finished for the next optimal point.\n",
      "Time taken: 31.2865\n",
      "Function value obtained: -0.0549\n",
      "Current minimum: -0.0558\n",
      "Iteration No: 213 started. Searching for the next optimal point.\n"
     ]
    },
    {
     "name": "stderr",
     "output_type": "stream",
     "text": [
      "C:\\Users\\davel\\anaconda3\\envs\\RecSysFramework\\lib\\site-packages\\skopt\\optimizer\\optimizer.py:399: UserWarning: The objective has been evaluated at this point before.\n",
      "  warnings.warn(\"The objective has been evaluated \"\n"
     ]
    },
    {
     "name": "stdout",
     "output_type": "stream",
     "text": [
      "SearchBayesianSkopt: Testing config: {'w_slim_bpr': 0}\n",
      "EvaluatorHoldout: Processed 4643 ( 100.00% ) in 28.91 sec. Users per second: 161\n",
      "SearchBayesianSkopt: Config 212 is suboptimal. Config: {'w_slim_bpr': 0} - results: ROC_AUC: 0.1427320, PRECISION: 0.0289253, PRECISION_RECALL_MIN_DEN: 0.1237887, RECALL: 0.1217464, MAP: 0.0548739, MRR: 0.1013160, NDCG: 0.0820821, F1: 0.0467446, HIT_RATE: 0.2892526, ARHR: 0.1110927, NOVELTY: 0.0049737, AVERAGE_POPULARITY: 0.0712909, DIVERSITY_MEAN_INTER_LIST: 0.9941693, DIVERSITY_HERFINDAHL: 0.9993955, COVERAGE_ITEM: 0.3674302, COVERAGE_ITEM_CORRECT: 0.0364196, COVERAGE_USER: 0.5842456, COVERAGE_USER_CORRECT: 0.1374103, DIVERSITY_GINI: 0.1379547, SHANNON_ENTROPY: 11.9571592, \n",
      "\n",
      "Iteration No: 213 ended. Search finished for the next optimal point.\n",
      "Time taken: 31.2494\n",
      "Function value obtained: -0.0549\n",
      "Current minimum: -0.0558\n",
      "Iteration No: 214 started. Searching for the next optimal point.\n"
     ]
    },
    {
     "name": "stderr",
     "output_type": "stream",
     "text": [
      "C:\\Users\\davel\\anaconda3\\envs\\RecSysFramework\\lib\\site-packages\\skopt\\optimizer\\optimizer.py:399: UserWarning: The objective has been evaluated at this point before.\n",
      "  warnings.warn(\"The objective has been evaluated \"\n"
     ]
    },
    {
     "name": "stdout",
     "output_type": "stream",
     "text": [
      "SearchBayesianSkopt: Testing config: {'w_slim_bpr': 0}\n",
      "EvaluatorHoldout: Processed 4643 ( 100.00% ) in 30.40 sec. Users per second: 153\n",
      "SearchBayesianSkopt: Config 213 is suboptimal. Config: {'w_slim_bpr': 0} - results: ROC_AUC: 0.1427320, PRECISION: 0.0289253, PRECISION_RECALL_MIN_DEN: 0.1237887, RECALL: 0.1217464, MAP: 0.0548739, MRR: 0.1013160, NDCG: 0.0820821, F1: 0.0467446, HIT_RATE: 0.2892526, ARHR: 0.1110927, NOVELTY: 0.0049737, AVERAGE_POPULARITY: 0.0712909, DIVERSITY_MEAN_INTER_LIST: 0.9941693, DIVERSITY_HERFINDAHL: 0.9993955, COVERAGE_ITEM: 0.3674302, COVERAGE_ITEM_CORRECT: 0.0364196, COVERAGE_USER: 0.5842456, COVERAGE_USER_CORRECT: 0.1374103, DIVERSITY_GINI: 0.1379547, SHANNON_ENTROPY: 11.9571592, \n",
      "\n",
      "Iteration No: 214 ended. Search finished for the next optimal point.\n",
      "Time taken: 33.0712\n",
      "Function value obtained: -0.0549\n",
      "Current minimum: -0.0558\n",
      "Iteration No: 215 started. Searching for the next optimal point.\n"
     ]
    },
    {
     "name": "stderr",
     "output_type": "stream",
     "text": [
      "C:\\Users\\davel\\anaconda3\\envs\\RecSysFramework\\lib\\site-packages\\skopt\\optimizer\\optimizer.py:399: UserWarning: The objective has been evaluated at this point before.\n",
      "  warnings.warn(\"The objective has been evaluated \"\n"
     ]
    },
    {
     "name": "stdout",
     "output_type": "stream",
     "text": [
      "SearchBayesianSkopt: Testing config: {'w_slim_bpr': 0}\n",
      "EvaluatorHoldout: Processed 4643 ( 100.00% ) in 29.80 sec. Users per second: 156\n",
      "SearchBayesianSkopt: Config 214 is suboptimal. Config: {'w_slim_bpr': 0} - results: ROC_AUC: 0.1427320, PRECISION: 0.0289253, PRECISION_RECALL_MIN_DEN: 0.1237887, RECALL: 0.1217464, MAP: 0.0548739, MRR: 0.1013160, NDCG: 0.0820821, F1: 0.0467446, HIT_RATE: 0.2892526, ARHR: 0.1110927, NOVELTY: 0.0049737, AVERAGE_POPULARITY: 0.0712909, DIVERSITY_MEAN_INTER_LIST: 0.9941693, DIVERSITY_HERFINDAHL: 0.9993955, COVERAGE_ITEM: 0.3674302, COVERAGE_ITEM_CORRECT: 0.0364196, COVERAGE_USER: 0.5842456, COVERAGE_USER_CORRECT: 0.1374103, DIVERSITY_GINI: 0.1379547, SHANNON_ENTROPY: 11.9571592, \n",
      "\n",
      "Iteration No: 215 ended. Search finished for the next optimal point.\n",
      "Time taken: 32.2127\n",
      "Function value obtained: -0.0549\n",
      "Current minimum: -0.0558\n",
      "Iteration No: 216 started. Searching for the next optimal point.\n"
     ]
    },
    {
     "name": "stderr",
     "output_type": "stream",
     "text": [
      "C:\\Users\\davel\\anaconda3\\envs\\RecSysFramework\\lib\\site-packages\\skopt\\optimizer\\optimizer.py:399: UserWarning: The objective has been evaluated at this point before.\n",
      "  warnings.warn(\"The objective has been evaluated \"\n"
     ]
    },
    {
     "name": "stdout",
     "output_type": "stream",
     "text": [
      "SearchBayesianSkopt: Testing config: {'w_slim_bpr': 0}\n",
      "EvaluatorHoldout: Processed 4643 ( 100.00% ) in 28.97 sec. Users per second: 160\n",
      "SearchBayesianSkopt: Config 215 is suboptimal. Config: {'w_slim_bpr': 0} - results: ROC_AUC: 0.1427320, PRECISION: 0.0289253, PRECISION_RECALL_MIN_DEN: 0.1237887, RECALL: 0.1217464, MAP: 0.0548739, MRR: 0.1013160, NDCG: 0.0820821, F1: 0.0467446, HIT_RATE: 0.2892526, ARHR: 0.1110927, NOVELTY: 0.0049737, AVERAGE_POPULARITY: 0.0712909, DIVERSITY_MEAN_INTER_LIST: 0.9941693, DIVERSITY_HERFINDAHL: 0.9993955, COVERAGE_ITEM: 0.3674302, COVERAGE_ITEM_CORRECT: 0.0364196, COVERAGE_USER: 0.5842456, COVERAGE_USER_CORRECT: 0.1374103, DIVERSITY_GINI: 0.1379547, SHANNON_ENTROPY: 11.9571592, \n",
      "\n",
      "Iteration No: 216 ended. Search finished for the next optimal point.\n",
      "Time taken: 31.4054\n",
      "Function value obtained: -0.0549\n",
      "Current minimum: -0.0558\n",
      "Iteration No: 217 started. Searching for the next optimal point.\n"
     ]
    },
    {
     "name": "stderr",
     "output_type": "stream",
     "text": [
      "C:\\Users\\davel\\anaconda3\\envs\\RecSysFramework\\lib\\site-packages\\skopt\\optimizer\\optimizer.py:399: UserWarning: The objective has been evaluated at this point before.\n",
      "  warnings.warn(\"The objective has been evaluated \"\n"
     ]
    },
    {
     "name": "stdout",
     "output_type": "stream",
     "text": [
      "SearchBayesianSkopt: Testing config: {'w_slim_bpr': 0}\n",
      "EvaluatorHoldout: Processed 4643 ( 100.00% ) in 29.54 sec. Users per second: 157\n",
      "SearchBayesianSkopt: Config 216 is suboptimal. Config: {'w_slim_bpr': 0} - results: ROC_AUC: 0.1427320, PRECISION: 0.0289253, PRECISION_RECALL_MIN_DEN: 0.1237887, RECALL: 0.1217464, MAP: 0.0548739, MRR: 0.1013160, NDCG: 0.0820821, F1: 0.0467446, HIT_RATE: 0.2892526, ARHR: 0.1110927, NOVELTY: 0.0049737, AVERAGE_POPULARITY: 0.0712909, DIVERSITY_MEAN_INTER_LIST: 0.9941693, DIVERSITY_HERFINDAHL: 0.9993955, COVERAGE_ITEM: 0.3674302, COVERAGE_ITEM_CORRECT: 0.0364196, COVERAGE_USER: 0.5842456, COVERAGE_USER_CORRECT: 0.1374103, DIVERSITY_GINI: 0.1379547, SHANNON_ENTROPY: 11.9571592, \n",
      "\n",
      "Iteration No: 217 ended. Search finished for the next optimal point.\n",
      "Time taken: 32.0286\n",
      "Function value obtained: -0.0549\n",
      "Current minimum: -0.0558\n",
      "Iteration No: 218 started. Searching for the next optimal point.\n"
     ]
    },
    {
     "name": "stderr",
     "output_type": "stream",
     "text": [
      "C:\\Users\\davel\\anaconda3\\envs\\RecSysFramework\\lib\\site-packages\\skopt\\optimizer\\optimizer.py:399: UserWarning: The objective has been evaluated at this point before.\n",
      "  warnings.warn(\"The objective has been evaluated \"\n"
     ]
    },
    {
     "name": "stdout",
     "output_type": "stream",
     "text": [
      "SearchBayesianSkopt: Testing config: {'w_slim_bpr': 0}\n",
      "EvaluatorHoldout: Processed 4643 ( 100.00% ) in 29.87 sec. Users per second: 155\n",
      "SearchBayesianSkopt: Config 217 is suboptimal. Config: {'w_slim_bpr': 0} - results: ROC_AUC: 0.1427320, PRECISION: 0.0289253, PRECISION_RECALL_MIN_DEN: 0.1237887, RECALL: 0.1217464, MAP: 0.0548739, MRR: 0.1013160, NDCG: 0.0820821, F1: 0.0467446, HIT_RATE: 0.2892526, ARHR: 0.1110927, NOVELTY: 0.0049737, AVERAGE_POPULARITY: 0.0712909, DIVERSITY_MEAN_INTER_LIST: 0.9941693, DIVERSITY_HERFINDAHL: 0.9993955, COVERAGE_ITEM: 0.3674302, COVERAGE_ITEM_CORRECT: 0.0364196, COVERAGE_USER: 0.5842456, COVERAGE_USER_CORRECT: 0.1374103, DIVERSITY_GINI: 0.1379547, SHANNON_ENTROPY: 11.9571592, \n",
      "\n",
      "Iteration No: 218 ended. Search finished for the next optimal point.\n",
      "Time taken: 32.3384\n",
      "Function value obtained: -0.0549\n",
      "Current minimum: -0.0558\n",
      "Iteration No: 219 started. Searching for the next optimal point.\n"
     ]
    },
    {
     "name": "stderr",
     "output_type": "stream",
     "text": [
      "C:\\Users\\davel\\anaconda3\\envs\\RecSysFramework\\lib\\site-packages\\skopt\\optimizer\\optimizer.py:399: UserWarning: The objective has been evaluated at this point before.\n",
      "  warnings.warn(\"The objective has been evaluated \"\n"
     ]
    },
    {
     "name": "stdout",
     "output_type": "stream",
     "text": [
      "SearchBayesianSkopt: Testing config: {'w_slim_bpr': 0}\n",
      "EvaluatorHoldout: Processed 4643 ( 100.00% ) in 29.89 sec. Users per second: 155\n",
      "SearchBayesianSkopt: Config 218 is suboptimal. Config: {'w_slim_bpr': 0} - results: ROC_AUC: 0.1427320, PRECISION: 0.0289253, PRECISION_RECALL_MIN_DEN: 0.1237887, RECALL: 0.1217464, MAP: 0.0548739, MRR: 0.1013160, NDCG: 0.0820821, F1: 0.0467446, HIT_RATE: 0.2892526, ARHR: 0.1110927, NOVELTY: 0.0049737, AVERAGE_POPULARITY: 0.0712909, DIVERSITY_MEAN_INTER_LIST: 0.9941693, DIVERSITY_HERFINDAHL: 0.9993955, COVERAGE_ITEM: 0.3674302, COVERAGE_ITEM_CORRECT: 0.0364196, COVERAGE_USER: 0.5842456, COVERAGE_USER_CORRECT: 0.1374103, DIVERSITY_GINI: 0.1379547, SHANNON_ENTROPY: 11.9571592, \n",
      "\n",
      "Iteration No: 219 ended. Search finished for the next optimal point.\n",
      "Time taken: 32.6601\n",
      "Function value obtained: -0.0549\n",
      "Current minimum: -0.0558\n",
      "Iteration No: 220 started. Searching for the next optimal point.\n"
     ]
    },
    {
     "name": "stderr",
     "output_type": "stream",
     "text": [
      "C:\\Users\\davel\\anaconda3\\envs\\RecSysFramework\\lib\\site-packages\\skopt\\optimizer\\optimizer.py:399: UserWarning: The objective has been evaluated at this point before.\n",
      "  warnings.warn(\"The objective has been evaluated \"\n"
     ]
    },
    {
     "name": "stdout",
     "output_type": "stream",
     "text": [
      "SearchBayesianSkopt: Testing config: {'w_slim_bpr': 0}\n",
      "EvaluatorHoldout: Processed 4643 ( 100.00% ) in 30.45 sec. Users per second: 152\n",
      "SearchBayesianSkopt: Config 219 is suboptimal. Config: {'w_slim_bpr': 0} - results: ROC_AUC: 0.1427320, PRECISION: 0.0289253, PRECISION_RECALL_MIN_DEN: 0.1237887, RECALL: 0.1217464, MAP: 0.0548739, MRR: 0.1013160, NDCG: 0.0820821, F1: 0.0467446, HIT_RATE: 0.2892526, ARHR: 0.1110927, NOVELTY: 0.0049737, AVERAGE_POPULARITY: 0.0712909, DIVERSITY_MEAN_INTER_LIST: 0.9941693, DIVERSITY_HERFINDAHL: 0.9993955, COVERAGE_ITEM: 0.3674302, COVERAGE_ITEM_CORRECT: 0.0364196, COVERAGE_USER: 0.5842456, COVERAGE_USER_CORRECT: 0.1374103, DIVERSITY_GINI: 0.1379547, SHANNON_ENTROPY: 11.9571592, \n",
      "\n",
      "Iteration No: 220 ended. Search finished for the next optimal point.\n",
      "Time taken: 33.0556\n",
      "Function value obtained: -0.0549\n",
      "Current minimum: -0.0558\n",
      "Iteration No: 221 started. Searching for the next optimal point.\n"
     ]
    },
    {
     "name": "stderr",
     "output_type": "stream",
     "text": [
      "C:\\Users\\davel\\anaconda3\\envs\\RecSysFramework\\lib\\site-packages\\skopt\\optimizer\\optimizer.py:399: UserWarning: The objective has been evaluated at this point before.\n",
      "  warnings.warn(\"The objective has been evaluated \"\n"
     ]
    },
    {
     "name": "stdout",
     "output_type": "stream",
     "text": [
      "SearchBayesianSkopt: Testing config: {'w_slim_bpr': 0}\n",
      "EvaluatorHoldout: Processed 4643 ( 100.00% ) in 30.10 sec. Users per second: 154\n",
      "SearchBayesianSkopt: Config 220 is suboptimal. Config: {'w_slim_bpr': 0} - results: ROC_AUC: 0.1427320, PRECISION: 0.0289253, PRECISION_RECALL_MIN_DEN: 0.1237887, RECALL: 0.1217464, MAP: 0.0548739, MRR: 0.1013160, NDCG: 0.0820821, F1: 0.0467446, HIT_RATE: 0.2892526, ARHR: 0.1110927, NOVELTY: 0.0049737, AVERAGE_POPULARITY: 0.0712909, DIVERSITY_MEAN_INTER_LIST: 0.9941693, DIVERSITY_HERFINDAHL: 0.9993955, COVERAGE_ITEM: 0.3674302, COVERAGE_ITEM_CORRECT: 0.0364196, COVERAGE_USER: 0.5842456, COVERAGE_USER_CORRECT: 0.1374103, DIVERSITY_GINI: 0.1379547, SHANNON_ENTROPY: 11.9571592, \n",
      "\n",
      "Iteration No: 221 ended. Search finished for the next optimal point.\n",
      "Time taken: 32.8334\n",
      "Function value obtained: -0.0549\n",
      "Current minimum: -0.0558\n",
      "Iteration No: 222 started. Searching for the next optimal point.\n"
     ]
    },
    {
     "name": "stderr",
     "output_type": "stream",
     "text": [
      "C:\\Users\\davel\\anaconda3\\envs\\RecSysFramework\\lib\\site-packages\\skopt\\optimizer\\optimizer.py:399: UserWarning: The objective has been evaluated at this point before.\n",
      "  warnings.warn(\"The objective has been evaluated \"\n"
     ]
    },
    {
     "name": "stdout",
     "output_type": "stream",
     "text": [
      "SearchBayesianSkopt: Testing config: {'w_slim_bpr': 1}\n",
      "EvaluatorHoldout: Processed 4643 ( 100.00% ) in 31.24 sec. Users per second: 149\n",
      "SearchBayesianSkopt: Config 221 is suboptimal. Config: {'w_slim_bpr': 1} - results: ROC_AUC: 0.1427846, PRECISION: 0.0289253, PRECISION_RECALL_MIN_DEN: 0.1238054, RECALL: 0.1217667, MAP: 0.0548595, MRR: 0.1012164, NDCG: 0.0820720, F1: 0.0467461, HIT_RATE: 0.2892526, ARHR: 0.1109751, NOVELTY: 0.0049731, AVERAGE_POPULARITY: 0.0714521, DIVERSITY_MEAN_INTER_LIST: 0.9941479, DIVERSITY_HERFINDAHL: 0.9993934, COVERAGE_ITEM: 0.3674687, COVERAGE_ITEM_CORRECT: 0.0363426, COVERAGE_USER: 0.5842456, COVERAGE_USER_CORRECT: 0.1374103, DIVERSITY_GINI: 0.1379085, SHANNON_ENTROPY: 11.9554369, \n",
      "\n",
      "Iteration No: 222 ended. Search finished for the next optimal point.\n",
      "Time taken: 33.9614\n",
      "Function value obtained: -0.0549\n",
      "Current minimum: -0.0558\n",
      "Iteration No: 223 started. Searching for the next optimal point.\n"
     ]
    },
    {
     "name": "stderr",
     "output_type": "stream",
     "text": [
      "C:\\Users\\davel\\anaconda3\\envs\\RecSysFramework\\lib\\site-packages\\skopt\\optimizer\\optimizer.py:399: UserWarning: The objective has been evaluated at this point before.\n",
      "  warnings.warn(\"The objective has been evaluated \"\n"
     ]
    },
    {
     "name": "stdout",
     "output_type": "stream",
     "text": [
      "SearchBayesianSkopt: Testing config: {'w_slim_bpr': 0}\n",
      "EvaluatorHoldout: Processed 4643 ( 100.00% ) in 30.92 sec. Users per second: 150\n",
      "SearchBayesianSkopt: Config 222 is suboptimal. Config: {'w_slim_bpr': 0} - results: ROC_AUC: 0.1427320, PRECISION: 0.0289253, PRECISION_RECALL_MIN_DEN: 0.1237887, RECALL: 0.1217464, MAP: 0.0548739, MRR: 0.1013160, NDCG: 0.0820821, F1: 0.0467446, HIT_RATE: 0.2892526, ARHR: 0.1110927, NOVELTY: 0.0049737, AVERAGE_POPULARITY: 0.0712909, DIVERSITY_MEAN_INTER_LIST: 0.9941693, DIVERSITY_HERFINDAHL: 0.9993955, COVERAGE_ITEM: 0.3674302, COVERAGE_ITEM_CORRECT: 0.0364196, COVERAGE_USER: 0.5842456, COVERAGE_USER_CORRECT: 0.1374103, DIVERSITY_GINI: 0.1379547, SHANNON_ENTROPY: 11.9571592, \n",
      "\n",
      "Iteration No: 223 ended. Search finished for the next optimal point.\n",
      "Time taken: 33.6847\n",
      "Function value obtained: -0.0549\n",
      "Current minimum: -0.0558\n",
      "Iteration No: 224 started. Searching for the next optimal point.\n"
     ]
    },
    {
     "name": "stderr",
     "output_type": "stream",
     "text": [
      "C:\\Users\\davel\\anaconda3\\envs\\RecSysFramework\\lib\\site-packages\\skopt\\optimizer\\optimizer.py:399: UserWarning: The objective has been evaluated at this point before.\n",
      "  warnings.warn(\"The objective has been evaluated \"\n"
     ]
    },
    {
     "name": "stdout",
     "output_type": "stream",
     "text": [
      "SearchBayesianSkopt: Testing config: {'w_slim_bpr': 0}\n",
      "EvaluatorHoldout: Processed 4643 ( 100.00% ) in 29.70 sec. Users per second: 156\n",
      "SearchBayesianSkopt: Config 223 is suboptimal. Config: {'w_slim_bpr': 0} - results: ROC_AUC: 0.1427320, PRECISION: 0.0289253, PRECISION_RECALL_MIN_DEN: 0.1237887, RECALL: 0.1217464, MAP: 0.0548739, MRR: 0.1013160, NDCG: 0.0820821, F1: 0.0467446, HIT_RATE: 0.2892526, ARHR: 0.1110927, NOVELTY: 0.0049737, AVERAGE_POPULARITY: 0.0712909, DIVERSITY_MEAN_INTER_LIST: 0.9941693, DIVERSITY_HERFINDAHL: 0.9993955, COVERAGE_ITEM: 0.3674302, COVERAGE_ITEM_CORRECT: 0.0364196, COVERAGE_USER: 0.5842456, COVERAGE_USER_CORRECT: 0.1374103, DIVERSITY_GINI: 0.1379547, SHANNON_ENTROPY: 11.9571592, \n",
      "\n",
      "Iteration No: 224 ended. Search finished for the next optimal point.\n",
      "Time taken: 32.4729\n",
      "Function value obtained: -0.0549\n",
      "Current minimum: -0.0558\n",
      "Iteration No: 225 started. Searching for the next optimal point.\n"
     ]
    },
    {
     "name": "stderr",
     "output_type": "stream",
     "text": [
      "C:\\Users\\davel\\anaconda3\\envs\\RecSysFramework\\lib\\site-packages\\skopt\\optimizer\\optimizer.py:399: UserWarning: The objective has been evaluated at this point before.\n",
      "  warnings.warn(\"The objective has been evaluated \"\n"
     ]
    },
    {
     "name": "stdout",
     "output_type": "stream",
     "text": [
      "SearchBayesianSkopt: Testing config: {'w_slim_bpr': 0}\n",
      "EvaluatorHoldout: Processed 4643 ( 100.00% ) in 31.44 sec. Users per second: 148\n",
      "SearchBayesianSkopt: Config 224 is suboptimal. Config: {'w_slim_bpr': 0} - results: ROC_AUC: 0.1427320, PRECISION: 0.0289253, PRECISION_RECALL_MIN_DEN: 0.1237887, RECALL: 0.1217464, MAP: 0.0548739, MRR: 0.1013160, NDCG: 0.0820821, F1: 0.0467446, HIT_RATE: 0.2892526, ARHR: 0.1110927, NOVELTY: 0.0049737, AVERAGE_POPULARITY: 0.0712909, DIVERSITY_MEAN_INTER_LIST: 0.9941693, DIVERSITY_HERFINDAHL: 0.9993955, COVERAGE_ITEM: 0.3674302, COVERAGE_ITEM_CORRECT: 0.0364196, COVERAGE_USER: 0.5842456, COVERAGE_USER_CORRECT: 0.1374103, DIVERSITY_GINI: 0.1379547, SHANNON_ENTROPY: 11.9571592, \n",
      "\n",
      "Iteration No: 225 ended. Search finished for the next optimal point.\n",
      "Time taken: 34.0491\n",
      "Function value obtained: -0.0549\n",
      "Current minimum: -0.0558\n",
      "Iteration No: 226 started. Searching for the next optimal point.\n"
     ]
    },
    {
     "name": "stderr",
     "output_type": "stream",
     "text": [
      "C:\\Users\\davel\\anaconda3\\envs\\RecSysFramework\\lib\\site-packages\\skopt\\optimizer\\optimizer.py:399: UserWarning: The objective has been evaluated at this point before.\n",
      "  warnings.warn(\"The objective has been evaluated \"\n"
     ]
    },
    {
     "name": "stdout",
     "output_type": "stream",
     "text": [
      "SearchBayesianSkopt: Testing config: {'w_slim_bpr': 0}\n",
      "EvaluatorHoldout: Processed 4643 ( 100.00% ) in 30.38 sec. Users per second: 153\n",
      "SearchBayesianSkopt: Config 225 is suboptimal. Config: {'w_slim_bpr': 0} - results: ROC_AUC: 0.1427320, PRECISION: 0.0289253, PRECISION_RECALL_MIN_DEN: 0.1237887, RECALL: 0.1217464, MAP: 0.0548739, MRR: 0.1013160, NDCG: 0.0820821, F1: 0.0467446, HIT_RATE: 0.2892526, ARHR: 0.1110927, NOVELTY: 0.0049737, AVERAGE_POPULARITY: 0.0712909, DIVERSITY_MEAN_INTER_LIST: 0.9941693, DIVERSITY_HERFINDAHL: 0.9993955, COVERAGE_ITEM: 0.3674302, COVERAGE_ITEM_CORRECT: 0.0364196, COVERAGE_USER: 0.5842456, COVERAGE_USER_CORRECT: 0.1374103, DIVERSITY_GINI: 0.1379547, SHANNON_ENTROPY: 11.9571592, \n",
      "\n",
      "Iteration No: 226 ended. Search finished for the next optimal point.\n",
      "Time taken: 33.0279\n",
      "Function value obtained: -0.0549\n",
      "Current minimum: -0.0558\n",
      "Iteration No: 227 started. Searching for the next optimal point.\n"
     ]
    },
    {
     "name": "stderr",
     "output_type": "stream",
     "text": [
      "C:\\Users\\davel\\anaconda3\\envs\\RecSysFramework\\lib\\site-packages\\skopt\\optimizer\\optimizer.py:399: UserWarning: The objective has been evaluated at this point before.\n",
      "  warnings.warn(\"The objective has been evaluated \"\n"
     ]
    },
    {
     "name": "stdout",
     "output_type": "stream",
     "text": [
      "SearchBayesianSkopt: Testing config: {'w_slim_bpr': 0}\n",
      "EvaluatorHoldout: Processed 4643 ( 100.00% ) in 30.23 sec. Users per second: 154\n",
      "SearchBayesianSkopt: Config 226 is suboptimal. Config: {'w_slim_bpr': 0} - results: ROC_AUC: 0.1427320, PRECISION: 0.0289253, PRECISION_RECALL_MIN_DEN: 0.1237887, RECALL: 0.1217464, MAP: 0.0548739, MRR: 0.1013160, NDCG: 0.0820821, F1: 0.0467446, HIT_RATE: 0.2892526, ARHR: 0.1110927, NOVELTY: 0.0049737, AVERAGE_POPULARITY: 0.0712909, DIVERSITY_MEAN_INTER_LIST: 0.9941693, DIVERSITY_HERFINDAHL: 0.9993955, COVERAGE_ITEM: 0.3674302, COVERAGE_ITEM_CORRECT: 0.0364196, COVERAGE_USER: 0.5842456, COVERAGE_USER_CORRECT: 0.1374103, DIVERSITY_GINI: 0.1379547, SHANNON_ENTROPY: 11.9571592, \n",
      "\n",
      "Iteration No: 227 ended. Search finished for the next optimal point.\n",
      "Time taken: 32.8860\n",
      "Function value obtained: -0.0549\n",
      "Current minimum: -0.0558\n",
      "Iteration No: 228 started. Searching for the next optimal point.\n"
     ]
    },
    {
     "name": "stderr",
     "output_type": "stream",
     "text": [
      "C:\\Users\\davel\\anaconda3\\envs\\RecSysFramework\\lib\\site-packages\\skopt\\optimizer\\optimizer.py:399: UserWarning: The objective has been evaluated at this point before.\n",
      "  warnings.warn(\"The objective has been evaluated \"\n"
     ]
    },
    {
     "name": "stdout",
     "output_type": "stream",
     "text": [
      "SearchBayesianSkopt: Testing config: {'w_slim_bpr': 0}\n",
      "EvaluatorHoldout: Processed 4643 ( 100.00% ) in 31.03 sec. Users per second: 150\n",
      "SearchBayesianSkopt: Config 227 is suboptimal. Config: {'w_slim_bpr': 0} - results: ROC_AUC: 0.1427320, PRECISION: 0.0289253, PRECISION_RECALL_MIN_DEN: 0.1237887, RECALL: 0.1217464, MAP: 0.0548739, MRR: 0.1013160, NDCG: 0.0820821, F1: 0.0467446, HIT_RATE: 0.2892526, ARHR: 0.1110927, NOVELTY: 0.0049737, AVERAGE_POPULARITY: 0.0712909, DIVERSITY_MEAN_INTER_LIST: 0.9941693, DIVERSITY_HERFINDAHL: 0.9993955, COVERAGE_ITEM: 0.3674302, COVERAGE_ITEM_CORRECT: 0.0364196, COVERAGE_USER: 0.5842456, COVERAGE_USER_CORRECT: 0.1374103, DIVERSITY_GINI: 0.1379547, SHANNON_ENTROPY: 11.9571592, \n",
      "\n",
      "Iteration No: 228 ended. Search finished for the next optimal point.\n",
      "Time taken: 33.8418\n",
      "Function value obtained: -0.0549\n",
      "Current minimum: -0.0558\n",
      "Iteration No: 229 started. Searching for the next optimal point.\n",
      "SearchBayesianSkopt: Testing config: {'w_slim_bpr': 2000}\n",
      "EvaluatorHoldout: Processed 4643 ( 100.00% ) in 30.47 sec. Users per second: 152\n",
      "SearchBayesianSkopt: Config 228 is suboptimal. Config: {'w_slim_bpr': 2000} - results: ROC_AUC: 0.1274117, PRECISION: 0.0246608, PRECISION_RECALL_MIN_DEN: 0.1058249, RECALL: 0.1039482, MAP: 0.0464911, MRR: 0.0881142, NDCG: 0.0700405, F1: 0.0398641, HIT_RATE: 0.2466078, ARHR: 0.0957559, NOVELTY: 0.0048380, AVERAGE_POPULARITY: 0.1099620, DIVERSITY_MEAN_INTER_LIST: 0.9843025, DIVERSITY_HERFINDAHL: 0.9984091, COVERAGE_ITEM: 0.3644273, COVERAGE_ITEM_CORRECT: 0.0257170, COVERAGE_USER: 0.5842456, COVERAGE_USER_CORRECT: 0.1201711, DIVERSITY_GINI: 0.1214678, SHANNON_ENTROPY: 11.3703719, \n",
      "\n",
      "Iteration No: 229 ended. Search finished for the next optimal point.\n",
      "Time taken: 33.2019\n",
      "Function value obtained: -0.0465\n",
      "Current minimum: -0.0558\n",
      "Iteration No: 230 started. Searching for the next optimal point.\n"
     ]
    },
    {
     "name": "stderr",
     "output_type": "stream",
     "text": [
      "C:\\Users\\davel\\anaconda3\\envs\\RecSysFramework\\lib\\site-packages\\skopt\\optimizer\\optimizer.py:399: UserWarning: The objective has been evaluated at this point before.\n",
      "  warnings.warn(\"The objective has been evaluated \"\n"
     ]
    },
    {
     "name": "stdout",
     "output_type": "stream",
     "text": [
      "SearchBayesianSkopt: Testing config: {'w_slim_bpr': 0}\n",
      "EvaluatorHoldout: Processed 4643 ( 100.00% ) in 29.74 sec. Users per second: 156\n",
      "SearchBayesianSkopt: Config 229 is suboptimal. Config: {'w_slim_bpr': 0} - results: ROC_AUC: 0.1427320, PRECISION: 0.0289253, PRECISION_RECALL_MIN_DEN: 0.1237887, RECALL: 0.1217464, MAP: 0.0548739, MRR: 0.1013160, NDCG: 0.0820821, F1: 0.0467446, HIT_RATE: 0.2892526, ARHR: 0.1110927, NOVELTY: 0.0049737, AVERAGE_POPULARITY: 0.0712909, DIVERSITY_MEAN_INTER_LIST: 0.9941693, DIVERSITY_HERFINDAHL: 0.9993955, COVERAGE_ITEM: 0.3674302, COVERAGE_ITEM_CORRECT: 0.0364196, COVERAGE_USER: 0.5842456, COVERAGE_USER_CORRECT: 0.1374103, DIVERSITY_GINI: 0.1379547, SHANNON_ENTROPY: 11.9571592, \n",
      "\n",
      "Iteration No: 230 ended. Search finished for the next optimal point.\n",
      "Time taken: 32.4865\n",
      "Function value obtained: -0.0549\n",
      "Current minimum: -0.0558\n",
      "Iteration No: 231 started. Searching for the next optimal point.\n"
     ]
    },
    {
     "name": "stderr",
     "output_type": "stream",
     "text": [
      "C:\\Users\\davel\\anaconda3\\envs\\RecSysFramework\\lib\\site-packages\\skopt\\optimizer\\optimizer.py:399: UserWarning: The objective has been evaluated at this point before.\n",
      "  warnings.warn(\"The objective has been evaluated \"\n"
     ]
    },
    {
     "name": "stdout",
     "output_type": "stream",
     "text": [
      "SearchBayesianSkopt: Testing config: {'w_slim_bpr': 0}\n",
      "EvaluatorHoldout: Processed 4643 ( 100.00% ) in 30.18 sec. Users per second: 154\n",
      "SearchBayesianSkopt: Config 230 is suboptimal. Config: {'w_slim_bpr': 0} - results: ROC_AUC: 0.1427320, PRECISION: 0.0289253, PRECISION_RECALL_MIN_DEN: 0.1237887, RECALL: 0.1217464, MAP: 0.0548739, MRR: 0.1013160, NDCG: 0.0820821, F1: 0.0467446, HIT_RATE: 0.2892526, ARHR: 0.1110927, NOVELTY: 0.0049737, AVERAGE_POPULARITY: 0.0712909, DIVERSITY_MEAN_INTER_LIST: 0.9941693, DIVERSITY_HERFINDAHL: 0.9993955, COVERAGE_ITEM: 0.3674302, COVERAGE_ITEM_CORRECT: 0.0364196, COVERAGE_USER: 0.5842456, COVERAGE_USER_CORRECT: 0.1374103, DIVERSITY_GINI: 0.1379547, SHANNON_ENTROPY: 11.9571592, \n",
      "\n",
      "Iteration No: 231 ended. Search finished for the next optimal point.\n",
      "Time taken: 32.9713\n",
      "Function value obtained: -0.0549\n",
      "Current minimum: -0.0558\n",
      "Iteration No: 232 started. Searching for the next optimal point.\n"
     ]
    },
    {
     "name": "stderr",
     "output_type": "stream",
     "text": [
      "C:\\Users\\davel\\anaconda3\\envs\\RecSysFramework\\lib\\site-packages\\skopt\\optimizer\\optimizer.py:399: UserWarning: The objective has been evaluated at this point before.\n",
      "  warnings.warn(\"The objective has been evaluated \"\n"
     ]
    },
    {
     "name": "stdout",
     "output_type": "stream",
     "text": [
      "SearchBayesianSkopt: Testing config: {'w_slim_bpr': 0}\n",
      "EvaluatorHoldout: Processed 4643 ( 100.00% ) in 30.66 sec. Users per second: 151\n",
      "SearchBayesianSkopt: Config 231 is suboptimal. Config: {'w_slim_bpr': 0} - results: ROC_AUC: 0.1427320, PRECISION: 0.0289253, PRECISION_RECALL_MIN_DEN: 0.1237887, RECALL: 0.1217464, MAP: 0.0548739, MRR: 0.1013160, NDCG: 0.0820821, F1: 0.0467446, HIT_RATE: 0.2892526, ARHR: 0.1110927, NOVELTY: 0.0049737, AVERAGE_POPULARITY: 0.0712909, DIVERSITY_MEAN_INTER_LIST: 0.9941693, DIVERSITY_HERFINDAHL: 0.9993955, COVERAGE_ITEM: 0.3674302, COVERAGE_ITEM_CORRECT: 0.0364196, COVERAGE_USER: 0.5842456, COVERAGE_USER_CORRECT: 0.1374103, DIVERSITY_GINI: 0.1379547, SHANNON_ENTROPY: 11.9571592, \n",
      "\n",
      "Iteration No: 232 ended. Search finished for the next optimal point.\n",
      "Time taken: 33.5117\n",
      "Function value obtained: -0.0549\n",
      "Current minimum: -0.0558\n",
      "Iteration No: 233 started. Searching for the next optimal point.\n",
      "SearchBayesianSkopt: Testing config: {'w_slim_bpr': 1692}\n",
      "EvaluatorHoldout: Processed 4643 ( 100.00% ) in 30.11 sec. Users per second: 154\n",
      "SearchBayesianSkopt: Config 232 is suboptimal. Config: {'w_slim_bpr': 1692} - results: ROC_AUC: 0.1292667, PRECISION: 0.0250700, PRECISION_RECALL_MIN_DEN: 0.1076667, RECALL: 0.1058198, MAP: 0.0470511, MRR: 0.0890321, NDCG: 0.0710451, F1: 0.0405364, HIT_RATE: 0.2507000, ARHR: 0.0970079, NOVELTY: 0.0048390, AVERAGE_POPULARITY: 0.1089748, DIVERSITY_MEAN_INTER_LIST: 0.9846848, DIVERSITY_HERFINDAHL: 0.9984473, COVERAGE_ITEM: 0.3641578, COVERAGE_ITEM_CORRECT: 0.0264100, COVERAGE_USER: 0.5842456, COVERAGE_USER_CORRECT: 0.1216811, DIVERSITY_GINI: 0.1216635, SHANNON_ENTROPY: 11.3863296, \n",
      "\n",
      "Iteration No: 233 ended. Search finished for the next optimal point.\n",
      "Time taken: 32.9724\n",
      "Function value obtained: -0.0471\n",
      "Current minimum: -0.0558\n",
      "Iteration No: 234 started. Searching for the next optimal point.\n"
     ]
    },
    {
     "name": "stderr",
     "output_type": "stream",
     "text": [
      "C:\\Users\\davel\\anaconda3\\envs\\RecSysFramework\\lib\\site-packages\\skopt\\optimizer\\optimizer.py:399: UserWarning: The objective has been evaluated at this point before.\n",
      "  warnings.warn(\"The objective has been evaluated \"\n"
     ]
    },
    {
     "name": "stdout",
     "output_type": "stream",
     "text": [
      "SearchBayesianSkopt: Testing config: {'w_slim_bpr': 0}\n",
      "EvaluatorHoldout: Processed 4643 ( 100.00% ) in 29.75 sec. Users per second: 156\n",
      "SearchBayesianSkopt: Config 233 is suboptimal. Config: {'w_slim_bpr': 0} - results: ROC_AUC: 0.1427320, PRECISION: 0.0289253, PRECISION_RECALL_MIN_DEN: 0.1237887, RECALL: 0.1217464, MAP: 0.0548739, MRR: 0.1013160, NDCG: 0.0820821, F1: 0.0467446, HIT_RATE: 0.2892526, ARHR: 0.1110927, NOVELTY: 0.0049737, AVERAGE_POPULARITY: 0.0712909, DIVERSITY_MEAN_INTER_LIST: 0.9941693, DIVERSITY_HERFINDAHL: 0.9993955, COVERAGE_ITEM: 0.3674302, COVERAGE_ITEM_CORRECT: 0.0364196, COVERAGE_USER: 0.5842456, COVERAGE_USER_CORRECT: 0.1374103, DIVERSITY_GINI: 0.1379547, SHANNON_ENTROPY: 11.9571592, \n",
      "\n",
      "Iteration No: 234 ended. Search finished for the next optimal point.\n",
      "Time taken: 32.5866\n",
      "Function value obtained: -0.0549\n",
      "Current minimum: -0.0558\n",
      "Iteration No: 235 started. Searching for the next optimal point.\n"
     ]
    },
    {
     "name": "stderr",
     "output_type": "stream",
     "text": [
      "C:\\Users\\davel\\anaconda3\\envs\\RecSysFramework\\lib\\site-packages\\skopt\\optimizer\\optimizer.py:399: UserWarning: The objective has been evaluated at this point before.\n",
      "  warnings.warn(\"The objective has been evaluated \"\n"
     ]
    },
    {
     "name": "stdout",
     "output_type": "stream",
     "text": [
      "SearchBayesianSkopt: Testing config: {'w_slim_bpr': 0}\n",
      "EvaluatorHoldout: Processed 4643 ( 100.00% ) in 30.58 sec. Users per second: 152\n",
      "SearchBayesianSkopt: Config 234 is suboptimal. Config: {'w_slim_bpr': 0} - results: ROC_AUC: 0.1427320, PRECISION: 0.0289253, PRECISION_RECALL_MIN_DEN: 0.1237887, RECALL: 0.1217464, MAP: 0.0548739, MRR: 0.1013160, NDCG: 0.0820821, F1: 0.0467446, HIT_RATE: 0.2892526, ARHR: 0.1110927, NOVELTY: 0.0049737, AVERAGE_POPULARITY: 0.0712909, DIVERSITY_MEAN_INTER_LIST: 0.9941693, DIVERSITY_HERFINDAHL: 0.9993955, COVERAGE_ITEM: 0.3674302, COVERAGE_ITEM_CORRECT: 0.0364196, COVERAGE_USER: 0.5842456, COVERAGE_USER_CORRECT: 0.1374103, DIVERSITY_GINI: 0.1379547, SHANNON_ENTROPY: 11.9571592, \n",
      "\n",
      "Iteration No: 235 ended. Search finished for the next optimal point.\n",
      "Time taken: 33.4661\n",
      "Function value obtained: -0.0549\n",
      "Current minimum: -0.0558\n",
      "Iteration No: 236 started. Searching for the next optimal point.\n",
      "SearchBayesianSkopt: Testing config: {'w_slim_bpr': 1256}\n",
      "EvaluatorHoldout: Processed 4643 ( 100.00% ) in 30.19 sec. Users per second: 154\n",
      "SearchBayesianSkopt: Config 235 is suboptimal. Config: {'w_slim_bpr': 1256} - results: ROC_AUC: 0.1334763, PRECISION: 0.0260823, PRECISION_RECALL_MIN_DEN: 0.1125151, RECALL: 0.1105461, MAP: 0.0488601, MRR: 0.0921417, NDCG: 0.0738239, F1: 0.0422064, HIT_RATE: 0.2608227, ARHR: 0.1005897, NOVELTY: 0.0048419, AVERAGE_POPULARITY: 0.1071009, DIVERSITY_MEAN_INTER_LIST: 0.9854116, DIVERSITY_HERFINDAHL: 0.9985199, COVERAGE_ITEM: 0.3651588, COVERAGE_ITEM_CORRECT: 0.0282194, COVERAGE_USER: 0.5842456, COVERAGE_USER_CORRECT: 0.1263370, DIVERSITY_GINI: 0.1226790, SHANNON_ENTROPY: 11.4219657, \n",
      "\n",
      "Iteration No: 236 ended. Search finished for the next optimal point.\n",
      "Time taken: 33.0299\n",
      "Function value obtained: -0.0489\n",
      "Current minimum: -0.0558\n",
      "Iteration No: 237 started. Searching for the next optimal point.\n"
     ]
    },
    {
     "name": "stderr",
     "output_type": "stream",
     "text": [
      "C:\\Users\\davel\\anaconda3\\envs\\RecSysFramework\\lib\\site-packages\\skopt\\optimizer\\optimizer.py:399: UserWarning: The objective has been evaluated at this point before.\n",
      "  warnings.warn(\"The objective has been evaluated \"\n"
     ]
    },
    {
     "name": "stdout",
     "output_type": "stream",
     "text": [
      "SearchBayesianSkopt: Testing config: {'w_slim_bpr': 2000}\n",
      "EvaluatorHoldout: Processed 4643 ( 100.00% ) in 30.27 sec. Users per second: 153\n",
      "SearchBayesianSkopt: Config 236 is suboptimal. Config: {'w_slim_bpr': 2000} - results: ROC_AUC: 0.1274117, PRECISION: 0.0246608, PRECISION_RECALL_MIN_DEN: 0.1058249, RECALL: 0.1039482, MAP: 0.0464911, MRR: 0.0881142, NDCG: 0.0700405, F1: 0.0398641, HIT_RATE: 0.2466078, ARHR: 0.0957559, NOVELTY: 0.0048380, AVERAGE_POPULARITY: 0.1099620, DIVERSITY_MEAN_INTER_LIST: 0.9843025, DIVERSITY_HERFINDAHL: 0.9984091, COVERAGE_ITEM: 0.3644273, COVERAGE_ITEM_CORRECT: 0.0257170, COVERAGE_USER: 0.5842456, COVERAGE_USER_CORRECT: 0.1201711, DIVERSITY_GINI: 0.1214678, SHANNON_ENTROPY: 11.3703719, \n",
      "\n",
      "Iteration No: 237 ended. Search finished for the next optimal point.\n",
      "Time taken: 33.1118\n",
      "Function value obtained: -0.0465\n",
      "Current minimum: -0.0558\n",
      "Iteration No: 238 started. Searching for the next optimal point.\n"
     ]
    },
    {
     "name": "stderr",
     "output_type": "stream",
     "text": [
      "C:\\Users\\davel\\anaconda3\\envs\\RecSysFramework\\lib\\site-packages\\skopt\\optimizer\\optimizer.py:399: UserWarning: The objective has been evaluated at this point before.\n",
      "  warnings.warn(\"The objective has been evaluated \"\n"
     ]
    },
    {
     "name": "stdout",
     "output_type": "stream",
     "text": [
      "SearchBayesianSkopt: Testing config: {'w_slim_bpr': 0}\n",
      "EvaluatorHoldout: Processed 4643 ( 100.00% ) in 30.83 sec. Users per second: 151\n",
      "SearchBayesianSkopt: Config 237 is suboptimal. Config: {'w_slim_bpr': 0} - results: ROC_AUC: 0.1427320, PRECISION: 0.0289253, PRECISION_RECALL_MIN_DEN: 0.1237887, RECALL: 0.1217464, MAP: 0.0548739, MRR: 0.1013160, NDCG: 0.0820821, F1: 0.0467446, HIT_RATE: 0.2892526, ARHR: 0.1110927, NOVELTY: 0.0049737, AVERAGE_POPULARITY: 0.0712909, DIVERSITY_MEAN_INTER_LIST: 0.9941693, DIVERSITY_HERFINDAHL: 0.9993955, COVERAGE_ITEM: 0.3674302, COVERAGE_ITEM_CORRECT: 0.0364196, COVERAGE_USER: 0.5842456, COVERAGE_USER_CORRECT: 0.1374103, DIVERSITY_GINI: 0.1379547, SHANNON_ENTROPY: 11.9571592, \n",
      "\n",
      "Iteration No: 238 ended. Search finished for the next optimal point.\n",
      "Time taken: 33.6956\n",
      "Function value obtained: -0.0549\n",
      "Current minimum: -0.0558\n",
      "Iteration No: 239 started. Searching for the next optimal point.\n"
     ]
    },
    {
     "name": "stderr",
     "output_type": "stream",
     "text": [
      "C:\\Users\\davel\\anaconda3\\envs\\RecSysFramework\\lib\\site-packages\\skopt\\optimizer\\optimizer.py:399: UserWarning: The objective has been evaluated at this point before.\n",
      "  warnings.warn(\"The objective has been evaluated \"\n"
     ]
    },
    {
     "name": "stdout",
     "output_type": "stream",
     "text": [
      "SearchBayesianSkopt: Testing config: {'w_slim_bpr': 0}\n",
      "EvaluatorHoldout: Processed 4643 ( 100.00% ) in 29.66 sec. Users per second: 157\n",
      "SearchBayesianSkopt: Config 238 is suboptimal. Config: {'w_slim_bpr': 0} - results: ROC_AUC: 0.1427320, PRECISION: 0.0289253, PRECISION_RECALL_MIN_DEN: 0.1237887, RECALL: 0.1217464, MAP: 0.0548739, MRR: 0.1013160, NDCG: 0.0820821, F1: 0.0467446, HIT_RATE: 0.2892526, ARHR: 0.1110927, NOVELTY: 0.0049737, AVERAGE_POPULARITY: 0.0712909, DIVERSITY_MEAN_INTER_LIST: 0.9941693, DIVERSITY_HERFINDAHL: 0.9993955, COVERAGE_ITEM: 0.3674302, COVERAGE_ITEM_CORRECT: 0.0364196, COVERAGE_USER: 0.5842456, COVERAGE_USER_CORRECT: 0.1374103, DIVERSITY_GINI: 0.1379547, SHANNON_ENTROPY: 11.9571592, \n",
      "\n",
      "Iteration No: 239 ended. Search finished for the next optimal point.\n",
      "Time taken: 32.5693\n",
      "Function value obtained: -0.0549\n",
      "Current minimum: -0.0558\n",
      "Iteration No: 240 started. Searching for the next optimal point.\n"
     ]
    },
    {
     "name": "stderr",
     "output_type": "stream",
     "text": [
      "C:\\Users\\davel\\anaconda3\\envs\\RecSysFramework\\lib\\site-packages\\skopt\\optimizer\\optimizer.py:399: UserWarning: The objective has been evaluated at this point before.\n",
      "  warnings.warn(\"The objective has been evaluated \"\n"
     ]
    },
    {
     "name": "stdout",
     "output_type": "stream",
     "text": [
      "SearchBayesianSkopt: Testing config: {'w_slim_bpr': 0}\n",
      "EvaluatorHoldout: Processed 4643 ( 100.00% ) in 30.97 sec. Users per second: 150\n",
      "SearchBayesianSkopt: Config 239 is suboptimal. Config: {'w_slim_bpr': 0} - results: ROC_AUC: 0.1427320, PRECISION: 0.0289253, PRECISION_RECALL_MIN_DEN: 0.1237887, RECALL: 0.1217464, MAP: 0.0548739, MRR: 0.1013160, NDCG: 0.0820821, F1: 0.0467446, HIT_RATE: 0.2892526, ARHR: 0.1110927, NOVELTY: 0.0049737, AVERAGE_POPULARITY: 0.0712909, DIVERSITY_MEAN_INTER_LIST: 0.9941693, DIVERSITY_HERFINDAHL: 0.9993955, COVERAGE_ITEM: 0.3674302, COVERAGE_ITEM_CORRECT: 0.0364196, COVERAGE_USER: 0.5842456, COVERAGE_USER_CORRECT: 0.1374103, DIVERSITY_GINI: 0.1379547, SHANNON_ENTROPY: 11.9571592, \n",
      "\n",
      "Iteration No: 240 ended. Search finished for the next optimal point.\n",
      "Time taken: 33.8598\n",
      "Function value obtained: -0.0549\n",
      "Current minimum: -0.0558\n",
      "Iteration No: 241 started. Searching for the next optimal point.\n"
     ]
    },
    {
     "name": "stderr",
     "output_type": "stream",
     "text": [
      "C:\\Users\\davel\\anaconda3\\envs\\RecSysFramework\\lib\\site-packages\\skopt\\optimizer\\optimizer.py:399: UserWarning: The objective has been evaluated at this point before.\n",
      "  warnings.warn(\"The objective has been evaluated \"\n"
     ]
    },
    {
     "name": "stdout",
     "output_type": "stream",
     "text": [
      "SearchBayesianSkopt: Testing config: {'w_slim_bpr': 0}\n",
      "EvaluatorHoldout: Processed 4643 ( 100.00% ) in 32.11 sec. Users per second: 145\n",
      "SearchBayesianSkopt: Config 240 is suboptimal. Config: {'w_slim_bpr': 0} - results: ROC_AUC: 0.1427320, PRECISION: 0.0289253, PRECISION_RECALL_MIN_DEN: 0.1237887, RECALL: 0.1217464, MAP: 0.0548739, MRR: 0.1013160, NDCG: 0.0820821, F1: 0.0467446, HIT_RATE: 0.2892526, ARHR: 0.1110927, NOVELTY: 0.0049737, AVERAGE_POPULARITY: 0.0712909, DIVERSITY_MEAN_INTER_LIST: 0.9941693, DIVERSITY_HERFINDAHL: 0.9993955, COVERAGE_ITEM: 0.3674302, COVERAGE_ITEM_CORRECT: 0.0364196, COVERAGE_USER: 0.5842456, COVERAGE_USER_CORRECT: 0.1374103, DIVERSITY_GINI: 0.1379547, SHANNON_ENTROPY: 11.9571592, \n",
      "\n",
      "Iteration No: 241 ended. Search finished for the next optimal point.\n",
      "Time taken: 35.2726\n",
      "Function value obtained: -0.0549\n",
      "Current minimum: -0.0558\n",
      "Iteration No: 242 started. Searching for the next optimal point.\n",
      "SearchBayesianSkopt: Testing config: {'w_slim_bpr': 923}\n",
      "EvaluatorHoldout: Processed 4643 ( 100.00% ) in 30.67 sec. Users per second: 151\n",
      "SearchBayesianSkopt: Config 241 is suboptimal. Config: {'w_slim_bpr': 923} - results: ROC_AUC: 0.1372250, PRECISION: 0.0268361, PRECISION_RECALL_MIN_DEN: 0.1159156, RECALL: 0.1138677, MAP: 0.0499731, MRR: 0.0941596, NDCG: 0.0757140, F1: 0.0434354, HIT_RATE: 0.2683610, ARHR: 0.1030002, NOVELTY: 0.0048501, AVERAGE_POPULARITY: 0.1041040, DIVERSITY_MEAN_INTER_LIST: 0.9864215, DIVERSITY_HERFINDAHL: 0.9986209, COVERAGE_ITEM: 0.3668527, COVERAGE_ITEM_CORRECT: 0.0293744, COVERAGE_USER: 0.5842456, COVERAGE_USER_CORRECT: 0.1298603, DIVERSITY_GINI: 0.1240554, SHANNON_ENTROPY: 11.4690295, \n",
      "\n",
      "Iteration No: 242 ended. Search finished for the next optimal point.\n",
      "Time taken: 33.6830\n",
      "Function value obtained: -0.0500\n",
      "Current minimum: -0.0558\n",
      "Iteration No: 243 started. Searching for the next optimal point.\n",
      "SearchBayesianSkopt: Testing config: {'w_slim_bpr': 1935}\n",
      "EvaluatorHoldout: Processed 4643 ( 100.00% ) in 30.35 sec. Users per second: 153\n",
      "SearchBayesianSkopt: Config 242 is suboptimal. Config: {'w_slim_bpr': 1935} - results: ROC_AUC: 0.1278909, PRECISION: 0.0247469, PRECISION_RECALL_MIN_DEN: 0.1063170, RECALL: 0.1044550, MAP: 0.0465748, MRR: 0.0881735, NDCG: 0.0702368, F1: 0.0400140, HIT_RATE: 0.2474693, ARHR: 0.0958739, NOVELTY: 0.0048379, AVERAGE_POPULARITY: 0.1099171, DIVERSITY_MEAN_INTER_LIST: 0.9843279, DIVERSITY_HERFINDAHL: 0.9984116, COVERAGE_ITEM: 0.3640423, COVERAGE_ITEM_CORRECT: 0.0257940, COVERAGE_USER: 0.5842456, COVERAGE_USER_CORRECT: 0.1205486, DIVERSITY_GINI: 0.1214120, SHANNON_ENTROPY: 11.3714551, \n",
      "\n",
      "Iteration No: 243 ended. Search finished for the next optimal point.\n",
      "Time taken: 33.3372\n",
      "Function value obtained: -0.0466\n",
      "Current minimum: -0.0558\n",
      "Iteration No: 244 started. Searching for the next optimal point.\n",
      "SearchBayesianSkopt: Testing config: {'w_slim_bpr': 1783}\n",
      "EvaluatorHoldout: Processed 4643 ( 100.00% ) in 27.45 sec. Users per second: 169\n",
      "SearchBayesianSkopt: Config 243 is suboptimal. Config: {'w_slim_bpr': 1783} - results: ROC_AUC: 0.1286403, PRECISION: 0.0249623, PRECISION_RECALL_MIN_DEN: 0.1072862, RECALL: 0.1054415, MAP: 0.0469869, MRR: 0.0889572, NDCG: 0.0708692, F1: 0.0403679, HIT_RATE: 0.2496231, ARHR: 0.0967698, NOVELTY: 0.0048387, AVERAGE_POPULARITY: 0.1093345, DIVERSITY_MEAN_INTER_LIST: 0.9845486, DIVERSITY_HERFINDAHL: 0.9984337, COVERAGE_ITEM: 0.3641963, COVERAGE_ITEM_CORRECT: 0.0262175, COVERAGE_USER: 0.5842456, COVERAGE_USER_CORRECT: 0.1213036, DIVERSITY_GINI: 0.1216341, SHANNON_ENTROPY: 11.3813216, \n",
      "\n",
      "Iteration No: 244 ended. Search finished for the next optimal point.\n",
      "Time taken: 30.2551\n",
      "Function value obtained: -0.0470\n",
      "Current minimum: -0.0558\n",
      "Iteration No: 245 started. Searching for the next optimal point.\n",
      "SearchBayesianSkopt: Testing config: {'w_slim_bpr': 114}\n",
      "EvaluatorHoldout: Processed 4643 ( 100.00% ) in 23.26 sec. Users per second: 200\n",
      "SearchBayesianSkopt: Config 244 is suboptimal. Config: {'w_slim_bpr': 114} - results: ROC_AUC: 0.1460326, PRECISION: 0.0294852, PRECISION_RECALL_MIN_DEN: 0.1259041, RECALL: 0.1238197, MAP: 0.0556422, MRR: 0.1031432, NDCG: 0.0834766, F1: 0.0476287, HIT_RATE: 0.2948525, ARHR: 0.1134721, NOVELTY: 0.0049300, AVERAGE_POPULARITY: 0.0816001, DIVERSITY_MEAN_INTER_LIST: 0.9924289, DIVERSITY_HERFINDAHL: 0.9992215, COVERAGE_ITEM: 0.3654668, COVERAGE_ITEM_CORRECT: 0.0354572, COVERAGE_USER: 0.5842456, COVERAGE_USER_CORRECT: 0.1390462, DIVERSITY_GINI: 0.1321227, SHANNON_ENTROPY: 11.8110097, \n",
      "\n",
      "Iteration No: 245 ended. Search finished for the next optimal point.\n",
      "Time taken: 26.1256\n",
      "Function value obtained: -0.0556\n",
      "Current minimum: -0.0558\n",
      "Iteration No: 246 started. Searching for the next optimal point.\n"
     ]
    },
    {
     "name": "stderr",
     "output_type": "stream",
     "text": [
      "C:\\Users\\davel\\anaconda3\\envs\\RecSysFramework\\lib\\site-packages\\skopt\\optimizer\\optimizer.py:399: UserWarning: The objective has been evaluated at this point before.\n",
      "  warnings.warn(\"The objective has been evaluated \"\n"
     ]
    },
    {
     "name": "stdout",
     "output_type": "stream",
     "text": [
      "SearchBayesianSkopt: Testing config: {'w_slim_bpr': 0}\n",
      "EvaluatorHoldout: Processed 4643 ( 100.00% ) in 23.39 sec. Users per second: 198\n",
      "SearchBayesianSkopt: Config 245 is suboptimal. Config: {'w_slim_bpr': 0} - results: ROC_AUC: 0.1427320, PRECISION: 0.0289253, PRECISION_RECALL_MIN_DEN: 0.1237887, RECALL: 0.1217464, MAP: 0.0548739, MRR: 0.1013160, NDCG: 0.0820821, F1: 0.0467446, HIT_RATE: 0.2892526, ARHR: 0.1110927, NOVELTY: 0.0049737, AVERAGE_POPULARITY: 0.0712909, DIVERSITY_MEAN_INTER_LIST: 0.9941693, DIVERSITY_HERFINDAHL: 0.9993955, COVERAGE_ITEM: 0.3674302, COVERAGE_ITEM_CORRECT: 0.0364196, COVERAGE_USER: 0.5842456, COVERAGE_USER_CORRECT: 0.1374103, DIVERSITY_GINI: 0.1379547, SHANNON_ENTROPY: 11.9571592, \n",
      "\n",
      "Iteration No: 246 ended. Search finished for the next optimal point.\n",
      "Time taken: 26.2526\n",
      "Function value obtained: -0.0549\n",
      "Current minimum: -0.0558\n",
      "Iteration No: 247 started. Searching for the next optimal point.\n",
      "SearchBayesianSkopt: Testing config: {'w_slim_bpr': 1939}\n",
      "EvaluatorHoldout: Processed 4643 ( 100.00% ) in 23.49 sec. Users per second: 198\n",
      "SearchBayesianSkopt: Config 246 is suboptimal. Config: {'w_slim_bpr': 1939} - results: ROC_AUC: 0.1278704, PRECISION: 0.0247685, PRECISION_RECALL_MIN_DEN: 0.1063888, RECALL: 0.1045268, MAP: 0.0465770, MRR: 0.0881951, NDCG: 0.0702635, F1: 0.0400474, HIT_RATE: 0.2476847, ARHR: 0.0958865, NOVELTY: 0.0048378, AVERAGE_POPULARITY: 0.1099220, DIVERSITY_MEAN_INTER_LIST: 0.9843264, DIVERSITY_HERFINDAHL: 0.9984114, COVERAGE_ITEM: 0.3640423, COVERAGE_ITEM_CORRECT: 0.0258325, COVERAGE_USER: 0.5842456, COVERAGE_USER_CORRECT: 0.1206745, DIVERSITY_GINI: 0.1213863, SHANNON_ENTROPY: 11.3711834, \n",
      "\n",
      "Iteration No: 247 ended. Search finished for the next optimal point.\n",
      "Time taken: 26.3633\n",
      "Function value obtained: -0.0466\n",
      "Current minimum: -0.0558\n",
      "Iteration No: 248 started. Searching for the next optimal point.\n",
      "SearchBayesianSkopt: Testing config: {'w_slim_bpr': 807}\n",
      "EvaluatorHoldout: Processed 4643 ( 100.00% ) in 23.30 sec. Users per second: 199\n",
      "SearchBayesianSkopt: Config 247 is suboptimal. Config: {'w_slim_bpr': 807} - results: ROC_AUC: 0.1387239, PRECISION: 0.0271376, PRECISION_RECALL_MIN_DEN: 0.1170607, RECALL: 0.1149875, MAP: 0.0507302, MRR: 0.0953545, NDCG: 0.0766608, F1: 0.0439118, HIT_RATE: 0.2713763, ARHR: 0.1046408, NOVELTY: 0.0048539, AVERAGE_POPULARITY: 0.1026444, DIVERSITY_MEAN_INTER_LIST: 0.9869152, DIVERSITY_HERFINDAHL: 0.9986703, COVERAGE_ITEM: 0.3671607, COVERAGE_ITEM_CORRECT: 0.0300674, COVERAGE_USER: 0.5842456, COVERAGE_USER_CORRECT: 0.1303637, DIVERSITY_GINI: 0.1247305, SHANNON_ENTROPY: 11.4933185, \n",
      "\n",
      "Iteration No: 248 ended. Search finished for the next optimal point.\n",
      "Time taken: 26.2971\n",
      "Function value obtained: -0.0507\n",
      "Current minimum: -0.0558\n",
      "Iteration No: 249 started. Searching for the next optimal point.\n",
      "SearchBayesianSkopt: Testing config: {'w_slim_bpr': 396}\n",
      "EvaluatorHoldout: Processed 4643 ( 100.00% ) in 23.50 sec. Users per second: 198\n",
      "SearchBayesianSkopt: Config 248 is suboptimal. Config: {'w_slim_bpr': 396} - results: ROC_AUC: 0.1441019, PRECISION: 0.0284730, PRECISION_RECALL_MIN_DEN: 0.1211134, RECALL: 0.1189409, MAP: 0.0537104, MRR: 0.1004985, NDCG: 0.0805122, F1: 0.0459468, HIT_RATE: 0.2847297, ARHR: 0.1105655, NOVELTY: 0.0048796, AVERAGE_POPULARITY: 0.0944865, DIVERSITY_MEAN_INTER_LIST: 0.9893901, DIVERSITY_HERFINDAHL: 0.9989177, COVERAGE_ITEM: 0.3663523, COVERAGE_ITEM_CORRECT: 0.0327623, COVERAGE_USER: 0.5842456, COVERAGE_USER_CORRECT: 0.1348937, DIVERSITY_GINI: 0.1271767, SHANNON_ENTROPY: 11.6191912, \n",
      "\n",
      "Iteration No: 249 ended. Search finished for the next optimal point.\n",
      "Time taken: 26.3952\n",
      "Function value obtained: -0.0537\n",
      "Current minimum: -0.0558\n",
      "Iteration No: 250 started. Searching for the next optimal point.\n"
     ]
    },
    {
     "name": "stderr",
     "output_type": "stream",
     "text": [
      "C:\\Users\\davel\\anaconda3\\envs\\RecSysFramework\\lib\\site-packages\\skopt\\optimizer\\optimizer.py:399: UserWarning: The objective has been evaluated at this point before.\n",
      "  warnings.warn(\"The objective has been evaluated \"\n"
     ]
    },
    {
     "name": "stdout",
     "output_type": "stream",
     "text": [
      "SearchBayesianSkopt: Testing config: {'w_slim_bpr': 0}\n",
      "EvaluatorHoldout: Processed 4643 ( 100.00% ) in 23.31 sec. Users per second: 199\n",
      "SearchBayesianSkopt: Config 249 is suboptimal. Config: {'w_slim_bpr': 0} - results: ROC_AUC: 0.1427320, PRECISION: 0.0289253, PRECISION_RECALL_MIN_DEN: 0.1237887, RECALL: 0.1217464, MAP: 0.0548739, MRR: 0.1013160, NDCG: 0.0820821, F1: 0.0467446, HIT_RATE: 0.2892526, ARHR: 0.1110927, NOVELTY: 0.0049737, AVERAGE_POPULARITY: 0.0712909, DIVERSITY_MEAN_INTER_LIST: 0.9941693, DIVERSITY_HERFINDAHL: 0.9993955, COVERAGE_ITEM: 0.3674302, COVERAGE_ITEM_CORRECT: 0.0364196, COVERAGE_USER: 0.5842456, COVERAGE_USER_CORRECT: 0.1374103, DIVERSITY_GINI: 0.1379547, SHANNON_ENTROPY: 11.9571592, \n",
      "\n",
      "Iteration No: 250 ended. Search finished for the next optimal point.\n",
      "Time taken: 26.2401\n",
      "Function value obtained: -0.0549\n",
      "Current minimum: -0.0558\n",
      "Iteration No: 251 started. Searching for the next optimal point.\n"
     ]
    },
    {
     "name": "stderr",
     "output_type": "stream",
     "text": [
      "C:\\Users\\davel\\anaconda3\\envs\\RecSysFramework\\lib\\site-packages\\skopt\\optimizer\\optimizer.py:399: UserWarning: The objective has been evaluated at this point before.\n",
      "  warnings.warn(\"The objective has been evaluated \"\n"
     ]
    },
    {
     "name": "stdout",
     "output_type": "stream",
     "text": [
      "SearchBayesianSkopt: Testing config: {'w_slim_bpr': 0}\n",
      "EvaluatorHoldout: Processed 4643 ( 100.00% ) in 23.36 sec. Users per second: 199\n",
      "SearchBayesianSkopt: Config 250 is suboptimal. Config: {'w_slim_bpr': 0} - results: ROC_AUC: 0.1427320, PRECISION: 0.0289253, PRECISION_RECALL_MIN_DEN: 0.1237887, RECALL: 0.1217464, MAP: 0.0548739, MRR: 0.1013160, NDCG: 0.0820821, F1: 0.0467446, HIT_RATE: 0.2892526, ARHR: 0.1110927, NOVELTY: 0.0049737, AVERAGE_POPULARITY: 0.0712909, DIVERSITY_MEAN_INTER_LIST: 0.9941693, DIVERSITY_HERFINDAHL: 0.9993955, COVERAGE_ITEM: 0.3674302, COVERAGE_ITEM_CORRECT: 0.0364196, COVERAGE_USER: 0.5842456, COVERAGE_USER_CORRECT: 0.1374103, DIVERSITY_GINI: 0.1379547, SHANNON_ENTROPY: 11.9571592, \n",
      "\n",
      "Iteration No: 251 ended. Search finished for the next optimal point.\n",
      "Time taken: 26.3371\n",
      "Function value obtained: -0.0549\n",
      "Current minimum: -0.0558\n",
      "Iteration No: 252 started. Searching for the next optimal point.\n"
     ]
    },
    {
     "name": "stderr",
     "output_type": "stream",
     "text": [
      "C:\\Users\\davel\\anaconda3\\envs\\RecSysFramework\\lib\\site-packages\\skopt\\optimizer\\optimizer.py:399: UserWarning: The objective has been evaluated at this point before.\n",
      "  warnings.warn(\"The objective has been evaluated \"\n"
     ]
    },
    {
     "name": "stdout",
     "output_type": "stream",
     "text": [
      "SearchBayesianSkopt: Testing config: {'w_slim_bpr': 0}\n",
      "EvaluatorHoldout: Processed 4643 ( 100.00% ) in 23.29 sec. Users per second: 199\n",
      "SearchBayesianSkopt: Config 251 is suboptimal. Config: {'w_slim_bpr': 0} - results: ROC_AUC: 0.1427320, PRECISION: 0.0289253, PRECISION_RECALL_MIN_DEN: 0.1237887, RECALL: 0.1217464, MAP: 0.0548739, MRR: 0.1013160, NDCG: 0.0820821, F1: 0.0467446, HIT_RATE: 0.2892526, ARHR: 0.1110927, NOVELTY: 0.0049737, AVERAGE_POPULARITY: 0.0712909, DIVERSITY_MEAN_INTER_LIST: 0.9941693, DIVERSITY_HERFINDAHL: 0.9993955, COVERAGE_ITEM: 0.3674302, COVERAGE_ITEM_CORRECT: 0.0364196, COVERAGE_USER: 0.5842456, COVERAGE_USER_CORRECT: 0.1374103, DIVERSITY_GINI: 0.1379547, SHANNON_ENTROPY: 11.9571592, \n",
      "\n",
      "Iteration No: 252 ended. Search finished for the next optimal point.\n",
      "Time taken: 26.3333\n",
      "Function value obtained: -0.0549\n",
      "Current minimum: -0.0558\n",
      "Iteration No: 253 started. Searching for the next optimal point.\n",
      "SearchBayesianSkopt: Testing config: {'w_slim_bpr': 553}\n",
      "EvaluatorHoldout: Processed 4643 ( 100.00% ) in 23.74 sec. Users per second: 196\n",
      "SearchBayesianSkopt: Config 252 is suboptimal. Config: {'w_slim_bpr': 553} - results: ROC_AUC: 0.1421787, PRECISION: 0.0280207, PRECISION_RECALL_MIN_DEN: 0.1205391, RECALL: 0.1183495, MAP: 0.0527575, MRR: 0.0984521, NDCG: 0.0793089, F1: 0.0453130, HIT_RATE: 0.2802068, ARHR: 0.1082885, NOVELTY: 0.0048658, AVERAGE_POPULARITY: 0.0985590, DIVERSITY_MEAN_INTER_LIST: 0.9881980, DIVERSITY_HERFINDAHL: 0.9987985, COVERAGE_ITEM: 0.3676997, COVERAGE_ITEM_CORRECT: 0.0314918, COVERAGE_USER: 0.5842456, COVERAGE_USER_CORRECT: 0.1336353, DIVERSITY_GINI: 0.1261564, SHANNON_ENTROPY: 11.5574664, \n",
      "\n",
      "Iteration No: 253 ended. Search finished for the next optimal point.\n",
      "Time taken: 26.7672\n",
      "Function value obtained: -0.0528\n",
      "Current minimum: -0.0558\n",
      "Iteration No: 254 started. Searching for the next optimal point.\n"
     ]
    },
    {
     "name": "stderr",
     "output_type": "stream",
     "text": [
      "C:\\Users\\davel\\anaconda3\\envs\\RecSysFramework\\lib\\site-packages\\skopt\\optimizer\\optimizer.py:399: UserWarning: The objective has been evaluated at this point before.\n",
      "  warnings.warn(\"The objective has been evaluated \"\n"
     ]
    },
    {
     "name": "stdout",
     "output_type": "stream",
     "text": [
      "SearchBayesianSkopt: Testing config: {'w_slim_bpr': 1851}\n",
      "EvaluatorHoldout: Processed 4643 ( 100.00% ) in 23.44 sec. Users per second: 198\n",
      "SearchBayesianSkopt: Config 253 is suboptimal. Config: {'w_slim_bpr': 1851} - results: ROC_AUC: 0.1283623, PRECISION: 0.0248546, PRECISION_RECALL_MIN_DEN: 0.1068985, RECALL: 0.1050424, MAP: 0.0468261, MRR: 0.0885800, NDCG: 0.0706018, F1: 0.0401978, HIT_RATE: 0.2485462, ARHR: 0.0962764, NOVELTY: 0.0048385, AVERAGE_POPULARITY: 0.1095809, DIVERSITY_MEAN_INTER_LIST: 0.9844541, DIVERSITY_HERFINDAHL: 0.9984242, COVERAGE_ITEM: 0.3638499, COVERAGE_ITEM_CORRECT: 0.0260635, COVERAGE_USER: 0.5842456, COVERAGE_USER_CORRECT: 0.1211778, DIVERSITY_GINI: 0.1214292, SHANNON_ENTROPY: 11.3760458, \n",
      "\n",
      "Iteration No: 254 ended. Search finished for the next optimal point.\n",
      "Time taken: 26.4350\n",
      "Function value obtained: -0.0468\n",
      "Current minimum: -0.0558\n",
      "Iteration No: 255 started. Searching for the next optimal point.\n",
      "SearchBayesianSkopt: Testing config: {'w_slim_bpr': 1483}\n",
      "EvaluatorHoldout: Processed 4643 ( 100.00% ) in 23.59 sec. Users per second: 197\n",
      "SearchBayesianSkopt: Config 254 is suboptimal. Config: {'w_slim_bpr': 1483} - results: ROC_AUC: 0.1314025, PRECISION: 0.0255223, PRECISION_RECALL_MIN_DEN: 0.1099138, RECALL: 0.1080129, MAP: 0.0480629, MRR: 0.0908499, NDCG: 0.0724977, F1: 0.0412885, HIT_RATE: 0.2552229, ARHR: 0.0990084, NOVELTY: 0.0048398, AVERAGE_POPULARITY: 0.1082290, DIVERSITY_MEAN_INTER_LIST: 0.9849661, DIVERSITY_HERFINDAHL: 0.9984754, COVERAGE_ITEM: 0.3646583, COVERAGE_ITEM_CORRECT: 0.0272185, COVERAGE_USER: 0.5842456, COVERAGE_USER_CORRECT: 0.1239461, DIVERSITY_GINI: 0.1220523, SHANNON_ENTROPY: 11.3994846, \n",
      "\n",
      "Iteration No: 255 ended. Search finished for the next optimal point.\n",
      "Time taken: 26.6963\n",
      "Function value obtained: -0.0481\n",
      "Current minimum: -0.0558\n",
      "Iteration No: 256 started. Searching for the next optimal point.\n",
      "SearchBayesianSkopt: Testing config: {'w_slim_bpr': 240}\n",
      "EvaluatorHoldout: Processed 4643 ( 100.00% ) in 23.39 sec. Users per second: 198\n",
      "SearchBayesianSkopt: Config 255 is suboptimal. Config: {'w_slim_bpr': 240} - results: ROC_AUC: 0.1459890, PRECISION: 0.0292268, PRECISION_RECALL_MIN_DEN: 0.1247348, RECALL: 0.1225601, MAP: 0.0550609, MRR: 0.1025275, NDCG: 0.0826247, F1: 0.0471983, HIT_RATE: 0.2922679, ARHR: 0.1129624, NOVELTY: 0.0049024, AVERAGE_POPULARITY: 0.0886725, DIVERSITY_MEAN_INTER_LIST: 0.9909061, DIVERSITY_HERFINDAHL: 0.9990693, COVERAGE_ITEM: 0.3666603, COVERAGE_ITEM_CORRECT: 0.0341867, COVERAGE_USER: 0.5842456, COVERAGE_USER_CORRECT: 0.1384170, DIVERSITY_GINI: 0.1295320, SHANNON_ENTROPY: 11.7113028, \n",
      "\n",
      "Iteration No: 256 ended. Search finished for the next optimal point.\n",
      "Time taken: 26.4681\n",
      "Function value obtained: -0.0551\n",
      "Current minimum: -0.0558\n",
      "Iteration No: 257 started. Searching for the next optimal point.\n"
     ]
    },
    {
     "name": "stderr",
     "output_type": "stream",
     "text": [
      "C:\\Users\\davel\\anaconda3\\envs\\RecSysFramework\\lib\\site-packages\\skopt\\optimizer\\optimizer.py:399: UserWarning: The objective has been evaluated at this point before.\n",
      "  warnings.warn(\"The objective has been evaluated \"\n"
     ]
    },
    {
     "name": "stdout",
     "output_type": "stream",
     "text": [
      "SearchBayesianSkopt: Testing config: {'w_slim_bpr': 0}\n",
      "EvaluatorHoldout: Processed 4643 ( 100.00% ) in 23.42 sec. Users per second: 198\n",
      "SearchBayesianSkopt: Config 256 is suboptimal. Config: {'w_slim_bpr': 0} - results: ROC_AUC: 0.1427320, PRECISION: 0.0289253, PRECISION_RECALL_MIN_DEN: 0.1237887, RECALL: 0.1217464, MAP: 0.0548739, MRR: 0.1013160, NDCG: 0.0820821, F1: 0.0467446, HIT_RATE: 0.2892526, ARHR: 0.1110927, NOVELTY: 0.0049737, AVERAGE_POPULARITY: 0.0712909, DIVERSITY_MEAN_INTER_LIST: 0.9941693, DIVERSITY_HERFINDAHL: 0.9993955, COVERAGE_ITEM: 0.3674302, COVERAGE_ITEM_CORRECT: 0.0364196, COVERAGE_USER: 0.5842456, COVERAGE_USER_CORRECT: 0.1374103, DIVERSITY_GINI: 0.1379547, SHANNON_ENTROPY: 11.9571592, \n",
      "\n",
      "Iteration No: 257 ended. Search finished for the next optimal point.\n",
      "Time taken: 26.5398\n",
      "Function value obtained: -0.0549\n",
      "Current minimum: -0.0558\n",
      "Iteration No: 258 started. Searching for the next optimal point.\n"
     ]
    },
    {
     "name": "stderr",
     "output_type": "stream",
     "text": [
      "C:\\Users\\davel\\anaconda3\\envs\\RecSysFramework\\lib\\site-packages\\skopt\\optimizer\\optimizer.py:399: UserWarning: The objective has been evaluated at this point before.\n",
      "  warnings.warn(\"The objective has been evaluated \"\n"
     ]
    },
    {
     "name": "stdout",
     "output_type": "stream",
     "text": [
      "SearchBayesianSkopt: Testing config: {'w_slim_bpr': 830}\n",
      "EvaluatorHoldout: Processed 4643 ( 100.00% ) in 23.26 sec. Users per second: 200\n",
      "SearchBayesianSkopt: Config 257 is suboptimal. Config: {'w_slim_bpr': 830} - results: ROC_AUC: 0.1383379, PRECISION: 0.0271592, PRECISION_RECALL_MIN_DEN: 0.1172868, RECALL: 0.1152136, MAP: 0.0507018, MRR: 0.0951671, NDCG: 0.0766726, F1: 0.0439565, HIT_RATE: 0.2715916, ARHR: 0.1043329, NOVELTY: 0.0048532, AVERAGE_POPULARITY: 0.1029032, DIVERSITY_MEAN_INTER_LIST: 0.9868379, DIVERSITY_HERFINDAHL: 0.9986625, COVERAGE_ITEM: 0.3668912, COVERAGE_ITEM_CORRECT: 0.0300289, COVERAGE_USER: 0.5842456, COVERAGE_USER_CORRECT: 0.1306153, DIVERSITY_GINI: 0.1245510, SHANNON_ENTROPY: 11.4886739, \n",
      "\n",
      "Iteration No: 258 ended. Search finished for the next optimal point.\n",
      "Time taken: 26.3248\n",
      "Function value obtained: -0.0507\n",
      "Current minimum: -0.0558\n",
      "Iteration No: 259 started. Searching for the next optimal point.\n"
     ]
    },
    {
     "name": "stderr",
     "output_type": "stream",
     "text": [
      "C:\\Users\\davel\\anaconda3\\envs\\RecSysFramework\\lib\\site-packages\\skopt\\optimizer\\optimizer.py:399: UserWarning: The objective has been evaluated at this point before.\n",
      "  warnings.warn(\"The objective has been evaluated \"\n"
     ]
    },
    {
     "name": "stdout",
     "output_type": "stream",
     "text": [
      "SearchBayesianSkopt: Testing config: {'w_slim_bpr': 0}\n",
      "EvaluatorHoldout: Processed 4643 ( 100.00% ) in 23.50 sec. Users per second: 198\n",
      "SearchBayesianSkopt: Config 258 is suboptimal. Config: {'w_slim_bpr': 0} - results: ROC_AUC: 0.1427320, PRECISION: 0.0289253, PRECISION_RECALL_MIN_DEN: 0.1237887, RECALL: 0.1217464, MAP: 0.0548739, MRR: 0.1013160, NDCG: 0.0820821, F1: 0.0467446, HIT_RATE: 0.2892526, ARHR: 0.1110927, NOVELTY: 0.0049737, AVERAGE_POPULARITY: 0.0712909, DIVERSITY_MEAN_INTER_LIST: 0.9941693, DIVERSITY_HERFINDAHL: 0.9993955, COVERAGE_ITEM: 0.3674302, COVERAGE_ITEM_CORRECT: 0.0364196, COVERAGE_USER: 0.5842456, COVERAGE_USER_CORRECT: 0.1374103, DIVERSITY_GINI: 0.1379547, SHANNON_ENTROPY: 11.9571592, \n",
      "\n",
      "Iteration No: 259 ended. Search finished for the next optimal point.\n",
      "Time taken: 26.6836\n",
      "Function value obtained: -0.0549\n",
      "Current minimum: -0.0558\n",
      "Iteration No: 260 started. Searching for the next optimal point.\n",
      "SearchBayesianSkopt: Testing config: {'w_slim_bpr': 17}\n",
      "EvaluatorHoldout: Processed 4643 ( 100.00% ) in 23.17 sec. Users per second: 200\n",
      "SearchBayesianSkopt: Config 259 is suboptimal. Config: {'w_slim_bpr': 17} - results: ROC_AUC: 0.1439252, PRECISION: 0.0290330, PRECISION_RECALL_MIN_DEN: 0.1244443, RECALL: 0.1224299, MAP: 0.0550825, MRR: 0.1020513, NDCG: 0.0825143, F1: 0.0469356, HIT_RATE: 0.2903295, ARHR: 0.1119366, NOVELTY: 0.0049667, AVERAGE_POPULARITY: 0.0730494, DIVERSITY_MEAN_INTER_LIST: 0.9939146, DIVERSITY_HERFINDAHL: 0.9993700, COVERAGE_ITEM: 0.3675457, COVERAGE_ITEM_CORRECT: 0.0362656, COVERAGE_USER: 0.5842456, COVERAGE_USER_CORRECT: 0.1380395, DIVERSITY_GINI: 0.1370688, SHANNON_ENTROPY: 11.9345837, \n",
      "\n",
      "Iteration No: 260 ended. Search finished for the next optimal point.\n",
      "Time taken: 26.2727\n",
      "Function value obtained: -0.0551\n",
      "Current minimum: -0.0558\n",
      "Iteration No: 261 started. Searching for the next optimal point.\n",
      "SearchBayesianSkopt: Testing config: {'w_slim_bpr': 755}\n",
      "EvaluatorHoldout: Processed 4643 ( 100.00% ) in 23.39 sec. Users per second: 198\n",
      "SearchBayesianSkopt: Config 260 is suboptimal. Config: {'w_slim_bpr': 755} - results: ROC_AUC: 0.1399825, PRECISION: 0.0273745, PRECISION_RECALL_MIN_DEN: 0.1180747, RECALL: 0.1159827, MAP: 0.0511990, MRR: 0.0957004, NDCG: 0.0773121, F1: 0.0442946, HIT_RATE: 0.2737454, ARHR: 0.1051056, NOVELTY: 0.0048563, AVERAGE_POPULARITY: 0.1019282, DIVERSITY_MEAN_INTER_LIST: 0.9871344, DIVERSITY_HERFINDAHL: 0.9986922, COVERAGE_ITEM: 0.3674687, COVERAGE_ITEM_CORRECT: 0.0305679, COVERAGE_USER: 0.5842456, COVERAGE_USER_CORRECT: 0.1317478, DIVERSITY_GINI: 0.1250401, SHANNON_ENTROPY: 11.5046914, \n",
      "\n",
      "Iteration No: 261 ended. Search finished for the next optimal point.\n",
      "Time taken: 26.5613\n",
      "Function value obtained: -0.0512\n",
      "Current minimum: -0.0558\n",
      "Iteration No: 262 started. Searching for the next optimal point.\n"
     ]
    },
    {
     "name": "stderr",
     "output_type": "stream",
     "text": [
      "C:\\Users\\davel\\anaconda3\\envs\\RecSysFramework\\lib\\site-packages\\skopt\\optimizer\\optimizer.py:399: UserWarning: The objective has been evaluated at this point before.\n",
      "  warnings.warn(\"The objective has been evaluated \"\n"
     ]
    },
    {
     "name": "stdout",
     "output_type": "stream",
     "text": [
      "SearchBayesianSkopt: Testing config: {'w_slim_bpr': 0}\n",
      "EvaluatorHoldout: Processed 4643 ( 100.00% ) in 23.37 sec. Users per second: 199\n",
      "SearchBayesianSkopt: Config 261 is suboptimal. Config: {'w_slim_bpr': 0} - results: ROC_AUC: 0.1427320, PRECISION: 0.0289253, PRECISION_RECALL_MIN_DEN: 0.1237887, RECALL: 0.1217464, MAP: 0.0548739, MRR: 0.1013160, NDCG: 0.0820821, F1: 0.0467446, HIT_RATE: 0.2892526, ARHR: 0.1110927, NOVELTY: 0.0049737, AVERAGE_POPULARITY: 0.0712909, DIVERSITY_MEAN_INTER_LIST: 0.9941693, DIVERSITY_HERFINDAHL: 0.9993955, COVERAGE_ITEM: 0.3674302, COVERAGE_ITEM_CORRECT: 0.0364196, COVERAGE_USER: 0.5842456, COVERAGE_USER_CORRECT: 0.1374103, DIVERSITY_GINI: 0.1379547, SHANNON_ENTROPY: 11.9571592, \n",
      "\n",
      "Iteration No: 262 ended. Search finished for the next optimal point.\n",
      "Time taken: 26.5830\n",
      "Function value obtained: -0.0549\n",
      "Current minimum: -0.0558\n",
      "Iteration No: 263 started. Searching for the next optimal point.\n",
      "SearchBayesianSkopt: Testing config: {'w_slim_bpr': 1852}\n",
      "EvaluatorHoldout: Processed 4643 ( 100.00% ) in 23.30 sec. Users per second: 199\n",
      "SearchBayesianSkopt: Config 262 is suboptimal. Config: {'w_slim_bpr': 1852} - results: ROC_AUC: 0.1283281, PRECISION: 0.0248546, PRECISION_RECALL_MIN_DEN: 0.1068985, RECALL: 0.1050424, MAP: 0.0468217, MRR: 0.0885776, NDCG: 0.0705980, F1: 0.0401978, HIT_RATE: 0.2485462, ARHR: 0.0962669, NOVELTY: 0.0048385, AVERAGE_POPULARITY: 0.1095848, DIVERSITY_MEAN_INTER_LIST: 0.9844530, DIVERSITY_HERFINDAHL: 0.9984241, COVERAGE_ITEM: 0.3638499, COVERAGE_ITEM_CORRECT: 0.0260635, COVERAGE_USER: 0.5842456, COVERAGE_USER_CORRECT: 0.1211778, DIVERSITY_GINI: 0.1214209, SHANNON_ENTROPY: 11.3759085, \n",
      "\n",
      "Iteration No: 263 ended. Search finished for the next optimal point.\n",
      "Time taken: 26.5176\n",
      "Function value obtained: -0.0468\n",
      "Current minimum: -0.0558\n",
      "Iteration No: 264 started. Searching for the next optimal point.\n",
      "SearchBayesianSkopt: Testing config: {'w_slim_bpr': 1151}\n",
      "EvaluatorHoldout: Processed 4643 ( 100.00% ) in 23.24 sec. Users per second: 200\n",
      "SearchBayesianSkopt: Config 263 is suboptimal. Config: {'w_slim_bpr': 1151} - results: ROC_AUC: 0.1344455, PRECISION: 0.0262761, PRECISION_RECALL_MIN_DEN: 0.1138244, RECALL: 0.1118634, MAP: 0.0493640, MRR: 0.0927624, NDCG: 0.0745562, F1: 0.0425560, HIT_RATE: 0.2627611, ARHR: 0.1013625, NOVELTY: 0.0048442, AVERAGE_POPULARITY: 0.1061813, DIVERSITY_MEAN_INTER_LIST: 0.9857103, DIVERSITY_HERFINDAHL: 0.9985498, COVERAGE_ITEM: 0.3651973, COVERAGE_ITEM_CORRECT: 0.0286044, COVERAGE_USER: 0.5842456, COVERAGE_USER_CORRECT: 0.1269662, DIVERSITY_GINI: 0.1230190, SHANNON_ENTROPY: 11.4358716, \n",
      "\n",
      "Iteration No: 264 ended. Search finished for the next optimal point.\n",
      "Time taken: 26.4153\n",
      "Function value obtained: -0.0494\n",
      "Current minimum: -0.0558\n",
      "Iteration No: 265 started. Searching for the next optimal point.\n"
     ]
    },
    {
     "name": "stderr",
     "output_type": "stream",
     "text": [
      "C:\\Users\\davel\\anaconda3\\envs\\RecSysFramework\\lib\\site-packages\\skopt\\optimizer\\optimizer.py:399: UserWarning: The objective has been evaluated at this point before.\n",
      "  warnings.warn(\"The objective has been evaluated \"\n"
     ]
    },
    {
     "name": "stdout",
     "output_type": "stream",
     "text": [
      "SearchBayesianSkopt: Testing config: {'w_slim_bpr': 0}\n",
      "EvaluatorHoldout: Processed 4643 ( 100.00% ) in 23.52 sec. Users per second: 197\n",
      "SearchBayesianSkopt: Config 264 is suboptimal. Config: {'w_slim_bpr': 0} - results: ROC_AUC: 0.1427320, PRECISION: 0.0289253, PRECISION_RECALL_MIN_DEN: 0.1237887, RECALL: 0.1217464, MAP: 0.0548739, MRR: 0.1013160, NDCG: 0.0820821, F1: 0.0467446, HIT_RATE: 0.2892526, ARHR: 0.1110927, NOVELTY: 0.0049737, AVERAGE_POPULARITY: 0.0712909, DIVERSITY_MEAN_INTER_LIST: 0.9941693, DIVERSITY_HERFINDAHL: 0.9993955, COVERAGE_ITEM: 0.3674302, COVERAGE_ITEM_CORRECT: 0.0364196, COVERAGE_USER: 0.5842456, COVERAGE_USER_CORRECT: 0.1374103, DIVERSITY_GINI: 0.1379547, SHANNON_ENTROPY: 11.9571592, \n",
      "\n",
      "Iteration No: 265 ended. Search finished for the next optimal point.\n",
      "Time taken: 26.8131\n",
      "Function value obtained: -0.0549\n",
      "Current minimum: -0.0558\n",
      "Iteration No: 266 started. Searching for the next optimal point.\n",
      "SearchBayesianSkopt: Testing config: {'w_slim_bpr': 1656}\n",
      "EvaluatorHoldout: Processed 4643 ( 100.00% ) in 23.55 sec. Users per second: 197\n",
      "SearchBayesianSkopt: Config 265 is suboptimal. Config: {'w_slim_bpr': 1656} - results: ROC_AUC: 0.1297977, PRECISION: 0.0251131, PRECISION_RECALL_MIN_DEN: 0.1079539, RECALL: 0.1060960, MAP: 0.0473934, MRR: 0.0895458, NDCG: 0.0713902, F1: 0.0406130, HIT_RATE: 0.2511307, ARHR: 0.0975464, NOVELTY: 0.0048394, AVERAGE_POPULARITY: 0.1088309, DIVERSITY_MEAN_INTER_LIST: 0.9847373, DIVERSITY_HERFINDAHL: 0.9984525, COVERAGE_ITEM: 0.3644273, COVERAGE_ITEM_CORRECT: 0.0264485, COVERAGE_USER: 0.5842456, COVERAGE_USER_CORRECT: 0.1219328, DIVERSITY_GINI: 0.1217916, SHANNON_ENTROPY: 11.3891028, \n",
      "\n",
      "Iteration No: 266 ended. Search finished for the next optimal point.\n",
      "Time taken: 26.8112\n",
      "Function value obtained: -0.0474\n",
      "Current minimum: -0.0558\n",
      "Iteration No: 267 started. Searching for the next optimal point.\n",
      "SearchBayesianSkopt: Testing config: {'w_slim_bpr': 1522}\n",
      "EvaluatorHoldout: Processed 4643 ( 100.00% ) in 23.25 sec. Users per second: 200\n",
      "SearchBayesianSkopt: Config 266 is suboptimal. Config: {'w_slim_bpr': 1522} - results: ROC_AUC: 0.1309577, PRECISION: 0.0255223, PRECISION_RECALL_MIN_DEN: 0.1096900, RECALL: 0.1077872, MAP: 0.0478595, MRR: 0.0904901, NDCG: 0.0722602, F1: 0.0412720, HIT_RATE: 0.2552229, ARHR: 0.0986657, NOVELTY: 0.0048403, AVERAGE_POPULARITY: 0.1082998, DIVERSITY_MEAN_INTER_LIST: 0.9849350, DIVERSITY_HERFINDAHL: 0.9984723, COVERAGE_ITEM: 0.3649278, COVERAGE_ITEM_CORRECT: 0.0271800, COVERAGE_USER: 0.5842456, COVERAGE_USER_CORRECT: 0.1238203, DIVERSITY_GINI: 0.1221531, SHANNON_ENTROPY: 11.3987970, \n",
      "\n",
      "Iteration No: 267 ended. Search finished for the next optimal point.\n",
      "Time taken: 26.5365\n",
      "Function value obtained: -0.0479\n",
      "Current minimum: -0.0558\n",
      "Iteration No: 268 started. Searching for the next optimal point.\n"
     ]
    },
    {
     "name": "stderr",
     "output_type": "stream",
     "text": [
      "C:\\Users\\davel\\anaconda3\\envs\\RecSysFramework\\lib\\site-packages\\skopt\\optimizer\\optimizer.py:399: UserWarning: The objective has been evaluated at this point before.\n",
      "  warnings.warn(\"The objective has been evaluated \"\n"
     ]
    },
    {
     "name": "stdout",
     "output_type": "stream",
     "text": [
      "SearchBayesianSkopt: Testing config: {'w_slim_bpr': 0}\n",
      "EvaluatorHoldout: Processed 4643 ( 100.00% ) in 23.37 sec. Users per second: 199\n",
      "SearchBayesianSkopt: Config 267 is suboptimal. Config: {'w_slim_bpr': 0} - results: ROC_AUC: 0.1427320, PRECISION: 0.0289253, PRECISION_RECALL_MIN_DEN: 0.1237887, RECALL: 0.1217464, MAP: 0.0548739, MRR: 0.1013160, NDCG: 0.0820821, F1: 0.0467446, HIT_RATE: 0.2892526, ARHR: 0.1110927, NOVELTY: 0.0049737, AVERAGE_POPULARITY: 0.0712909, DIVERSITY_MEAN_INTER_LIST: 0.9941693, DIVERSITY_HERFINDAHL: 0.9993955, COVERAGE_ITEM: 0.3674302, COVERAGE_ITEM_CORRECT: 0.0364196, COVERAGE_USER: 0.5842456, COVERAGE_USER_CORRECT: 0.1374103, DIVERSITY_GINI: 0.1379547, SHANNON_ENTROPY: 11.9571592, \n",
      "\n",
      "Iteration No: 268 ended. Search finished for the next optimal point.\n",
      "Time taken: 26.6890\n",
      "Function value obtained: -0.0549\n",
      "Current minimum: -0.0558\n",
      "Iteration No: 269 started. Searching for the next optimal point.\n",
      "SearchBayesianSkopt: Testing config: {'w_slim_bpr': 523}\n",
      "EvaluatorHoldout: Processed 4643 ( 100.00% ) in 23.28 sec. Users per second: 199\n",
      "SearchBayesianSkopt: Config 268 is suboptimal. Config: {'w_slim_bpr': 523} - results: ROC_AUC: 0.1427624, PRECISION: 0.0280638, PRECISION_RECALL_MIN_DEN: 0.1207964, RECALL: 0.1186328, MAP: 0.0529239, MRR: 0.0987539, NDCG: 0.0795444, F1: 0.0453900, HIT_RATE: 0.2806375, ARHR: 0.1085487, NOVELTY: 0.0048678, AVERAGE_POPULARITY: 0.0978534, DIVERSITY_MEAN_INTER_LIST: 0.9884031, DIVERSITY_HERFINDAHL: 0.9988190, COVERAGE_ITEM: 0.3668912, COVERAGE_ITEM_CORRECT: 0.0317613, COVERAGE_USER: 0.5842456, COVERAGE_USER_CORRECT: 0.1338870, DIVERSITY_GINI: 0.1261916, SHANNON_ENTROPY: 11.5674459, \n",
      "\n",
      "Iteration No: 269 ended. Search finished for the next optimal point.\n",
      "Time taken: 26.6513\n",
      "Function value obtained: -0.0529\n",
      "Current minimum: -0.0558\n",
      "Iteration No: 270 started. Searching for the next optimal point.\n"
     ]
    },
    {
     "name": "stderr",
     "output_type": "stream",
     "text": [
      "C:\\Users\\davel\\anaconda3\\envs\\RecSysFramework\\lib\\site-packages\\skopt\\optimizer\\optimizer.py:399: UserWarning: The objective has been evaluated at this point before.\n",
      "  warnings.warn(\"The objective has been evaluated \"\n"
     ]
    },
    {
     "name": "stdout",
     "output_type": "stream",
     "text": [
      "SearchBayesianSkopt: Testing config: {'w_slim_bpr': 0}\n",
      "EvaluatorHoldout: Processed 4643 ( 100.00% ) in 23.19 sec. Users per second: 200\n",
      "SearchBayesianSkopt: Config 269 is suboptimal. Config: {'w_slim_bpr': 0} - results: ROC_AUC: 0.1427320, PRECISION: 0.0289253, PRECISION_RECALL_MIN_DEN: 0.1237887, RECALL: 0.1217464, MAP: 0.0548739, MRR: 0.1013160, NDCG: 0.0820821, F1: 0.0467446, HIT_RATE: 0.2892526, ARHR: 0.1110927, NOVELTY: 0.0049737, AVERAGE_POPULARITY: 0.0712909, DIVERSITY_MEAN_INTER_LIST: 0.9941693, DIVERSITY_HERFINDAHL: 0.9993955, COVERAGE_ITEM: 0.3674302, COVERAGE_ITEM_CORRECT: 0.0364196, COVERAGE_USER: 0.5842456, COVERAGE_USER_CORRECT: 0.1374103, DIVERSITY_GINI: 0.1379547, SHANNON_ENTROPY: 11.9571592, \n",
      "\n",
      "Iteration No: 270 ended. Search finished for the next optimal point.\n",
      "Time taken: 26.5287\n",
      "Function value obtained: -0.0549\n",
      "Current minimum: -0.0558\n",
      "Iteration No: 271 started. Searching for the next optimal point.\n",
      "SearchBayesianSkopt: Testing config: {'w_slim_bpr': 637}\n",
      "EvaluatorHoldout: Processed 4643 ( 100.00% ) in 23.32 sec. Users per second: 199\n",
      "SearchBayesianSkopt: Config 270 is suboptimal. Config: {'w_slim_bpr': 637} - results: ROC_AUC: 0.1407672, PRECISION: 0.0279561, PRECISION_RECALL_MIN_DEN: 0.1201109, RECALL: 0.1179574, MAP: 0.0518575, MRR: 0.0971815, NDCG: 0.0784698, F1: 0.0451997, HIT_RATE: 0.2795606, ARHR: 0.1069670, NOVELTY: 0.0048615, AVERAGE_POPULARITY: 0.1000693, DIVERSITY_MEAN_INTER_LIST: 0.9877283, DIVERSITY_HERFINDAHL: 0.9987516, COVERAGE_ITEM: 0.3671222, COVERAGE_ITEM_CORRECT: 0.0314148, COVERAGE_USER: 0.5842456, COVERAGE_USER_CORRECT: 0.1332578, DIVERSITY_GINI: 0.1256918, SHANNON_ENTROPY: 11.5334895, \n",
      "\n",
      "Iteration No: 271 ended. Search finished for the next optimal point.\n",
      "Time taken: 26.7487\n",
      "Function value obtained: -0.0519\n",
      "Current minimum: -0.0558\n",
      "Iteration No: 272 started. Searching for the next optimal point.\n"
     ]
    },
    {
     "name": "stderr",
     "output_type": "stream",
     "text": [
      "C:\\Users\\davel\\anaconda3\\envs\\RecSysFramework\\lib\\site-packages\\skopt\\optimizer\\optimizer.py:399: UserWarning: The objective has been evaluated at this point before.\n",
      "  warnings.warn(\"The objective has been evaluated \"\n"
     ]
    },
    {
     "name": "stdout",
     "output_type": "stream",
     "text": [
      "SearchBayesianSkopt: Testing config: {'w_slim_bpr': 0}\n",
      "EvaluatorHoldout: Processed 4643 ( 100.00% ) in 23.86 sec. Users per second: 195\n",
      "SearchBayesianSkopt: Config 271 is suboptimal. Config: {'w_slim_bpr': 0} - results: ROC_AUC: 0.1427320, PRECISION: 0.0289253, PRECISION_RECALL_MIN_DEN: 0.1237887, RECALL: 0.1217464, MAP: 0.0548739, MRR: 0.1013160, NDCG: 0.0820821, F1: 0.0467446, HIT_RATE: 0.2892526, ARHR: 0.1110927, NOVELTY: 0.0049737, AVERAGE_POPULARITY: 0.0712909, DIVERSITY_MEAN_INTER_LIST: 0.9941693, DIVERSITY_HERFINDAHL: 0.9993955, COVERAGE_ITEM: 0.3674302, COVERAGE_ITEM_CORRECT: 0.0364196, COVERAGE_USER: 0.5842456, COVERAGE_USER_CORRECT: 0.1374103, DIVERSITY_GINI: 0.1379547, SHANNON_ENTROPY: 11.9571592, \n",
      "\n",
      "Iteration No: 272 ended. Search finished for the next optimal point.\n",
      "Time taken: 27.3113\n",
      "Function value obtained: -0.0549\n",
      "Current minimum: -0.0558\n",
      "Iteration No: 273 started. Searching for the next optimal point.\n"
     ]
    },
    {
     "name": "stderr",
     "output_type": "stream",
     "text": [
      "C:\\Users\\davel\\anaconda3\\envs\\RecSysFramework\\lib\\site-packages\\skopt\\optimizer\\optimizer.py:399: UserWarning: The objective has been evaluated at this point before.\n",
      "  warnings.warn(\"The objective has been evaluated \"\n"
     ]
    },
    {
     "name": "stdout",
     "output_type": "stream",
     "text": [
      "SearchBayesianSkopt: Testing config: {'w_slim_bpr': 0}\n",
      "EvaluatorHoldout: Processed 4643 ( 100.00% ) in 23.19 sec. Users per second: 200\n",
      "SearchBayesianSkopt: Config 272 is suboptimal. Config: {'w_slim_bpr': 0} - results: ROC_AUC: 0.1427320, PRECISION: 0.0289253, PRECISION_RECALL_MIN_DEN: 0.1237887, RECALL: 0.1217464, MAP: 0.0548739, MRR: 0.1013160, NDCG: 0.0820821, F1: 0.0467446, HIT_RATE: 0.2892526, ARHR: 0.1110927, NOVELTY: 0.0049737, AVERAGE_POPULARITY: 0.0712909, DIVERSITY_MEAN_INTER_LIST: 0.9941693, DIVERSITY_HERFINDAHL: 0.9993955, COVERAGE_ITEM: 0.3674302, COVERAGE_ITEM_CORRECT: 0.0364196, COVERAGE_USER: 0.5842456, COVERAGE_USER_CORRECT: 0.1374103, DIVERSITY_GINI: 0.1379547, SHANNON_ENTROPY: 11.9571592, \n",
      "\n",
      "Iteration No: 273 ended. Search finished for the next optimal point.\n",
      "Time taken: 26.6387\n",
      "Function value obtained: -0.0549\n",
      "Current minimum: -0.0558\n",
      "Iteration No: 274 started. Searching for the next optimal point.\n",
      "SearchBayesianSkopt: Testing config: {'w_slim_bpr': 659}\n",
      "EvaluatorHoldout: Processed 4643 ( 100.00% ) in 23.29 sec. Users per second: 199\n",
      "SearchBayesianSkopt: Config 273 is suboptimal. Config: {'w_slim_bpr': 659} - results: ROC_AUC: 0.1404578, PRECISION: 0.0278699, PRECISION_RECALL_MIN_DEN: 0.1199458, RECALL: 0.1178018, MAP: 0.0516945, MRR: 0.0969544, NDCG: 0.0782578, F1: 0.0450757, HIT_RATE: 0.2786991, ARHR: 0.1066806, NOVELTY: 0.0048606, AVERAGE_POPULARITY: 0.1003762, DIVERSITY_MEAN_INTER_LIST: 0.9876419, DIVERSITY_HERFINDAHL: 0.9987429, COVERAGE_ITEM: 0.3675842, COVERAGE_ITEM_CORRECT: 0.0313378, COVERAGE_USER: 0.5842456, COVERAGE_USER_CORRECT: 0.1330062, DIVERSITY_GINI: 0.1256558, SHANNON_ENTROPY: 11.5290799, \n",
      "\n",
      "Iteration No: 274 ended. Search finished for the next optimal point.\n",
      "Time taken: 26.7250\n",
      "Function value obtained: -0.0517\n",
      "Current minimum: -0.0558\n",
      "Iteration No: 275 started. Searching for the next optimal point.\n",
      "SearchBayesianSkopt: Testing config: {'w_slim_bpr': 566}\n",
      "EvaluatorHoldout: Processed 4643 ( 100.00% ) in 23.27 sec. Users per second: 200\n",
      "SearchBayesianSkopt: Config 274 is suboptimal. Config: {'w_slim_bpr': 566} - results: ROC_AUC: 0.1419314, PRECISION: 0.0280422, PRECISION_RECALL_MIN_DEN: 0.1206127, RECALL: 0.1184557, MAP: 0.0524781, MRR: 0.0980989, NDCG: 0.0791296, F1: 0.0453489, HIT_RATE: 0.2804221, ARHR: 0.1079196, NOVELTY: 0.0048649, AVERAGE_POPULARITY: 0.0988149, DIVERSITY_MEAN_INTER_LIST: 0.9881116, DIVERSITY_HERFINDAHL: 0.9987899, COVERAGE_ITEM: 0.3676612, COVERAGE_ITEM_CORRECT: 0.0314148, COVERAGE_USER: 0.5842456, COVERAGE_USER_CORRECT: 0.1336353, DIVERSITY_GINI: 0.1260811, SHANNON_ENTROPY: 11.5527385, \n",
      "\n",
      "Iteration No: 275 ended. Search finished for the next optimal point.\n",
      "Time taken: 26.8780\n",
      "Function value obtained: -0.0525\n",
      "Current minimum: -0.0558\n",
      "Iteration No: 276 started. Searching for the next optimal point.\n",
      "SearchBayesianSkopt: Testing config: {'w_slim_bpr': 1919}\n",
      "EvaluatorHoldout: Processed 4643 ( 100.00% ) in 23.35 sec. Users per second: 199\n",
      "SearchBayesianSkopt: Config 275 is suboptimal. Config: {'w_slim_bpr': 1919} - results: ROC_AUC: 0.1279433, PRECISION: 0.0248115, PRECISION_RECALL_MIN_DEN: 0.1065970, RECALL: 0.1047255, MAP: 0.0467349, MRR: 0.0883624, NDCG: 0.0704295, F1: 0.0401183, HIT_RATE: 0.2481154, ARHR: 0.0960842, NOVELTY: 0.0048381, AVERAGE_POPULARITY: 0.1098091, DIVERSITY_MEAN_INTER_LIST: 0.9843721, DIVERSITY_HERFINDAHL: 0.9984160, COVERAGE_ITEM: 0.3641578, COVERAGE_ITEM_CORRECT: 0.0259095, COVERAGE_USER: 0.5842456, COVERAGE_USER_CORRECT: 0.1208003, DIVERSITY_GINI: 0.1214783, SHANNON_ENTROPY: 11.3736042, \n",
      "\n",
      "Iteration No: 276 ended. Search finished for the next optimal point.\n",
      "Time taken: 26.7999\n",
      "Function value obtained: -0.0467\n",
      "Current minimum: -0.0558\n",
      "Iteration No: 277 started. Searching for the next optimal point.\n",
      "SearchBayesianSkopt: Testing config: {'w_slim_bpr': 152}\n",
      "EvaluatorHoldout: Processed 4643 ( 100.00% ) in 23.22 sec. Users per second: 200\n",
      "SearchBayesianSkopt: Config 276 is suboptimal. Config: {'w_slim_bpr': 152} - results: ROC_AUC: 0.1459920, PRECISION: 0.0295068, PRECISION_RECALL_MIN_DEN: 0.1259079, RECALL: 0.1237635, MAP: 0.0557545, MRR: 0.1035778, NDCG: 0.0835535, F1: 0.0476526, HIT_RATE: 0.2950678, ARHR: 0.1138883, NOVELTY: 0.0049199, AVERAGE_POPULARITY: 0.0839107, DIVERSITY_MEAN_INTER_LIST: 0.9919414, DIVERSITY_HERFINDAHL: 0.9991728, COVERAGE_ITEM: 0.3656978, COVERAGE_ITEM_CORRECT: 0.0349952, COVERAGE_USER: 0.5842456, COVERAGE_USER_CORRECT: 0.1389203, DIVERSITY_GINI: 0.1311022, SHANNON_ENTROPY: 11.7769956, \n",
      "\n",
      "Iteration No: 277 ended. Search finished for the next optimal point.\n",
      "Time taken: 26.7254\n",
      "Function value obtained: -0.0558\n",
      "Current minimum: -0.0558\n",
      "Iteration No: 278 started. Searching for the next optimal point.\n"
     ]
    },
    {
     "name": "stderr",
     "output_type": "stream",
     "text": [
      "C:\\Users\\davel\\anaconda3\\envs\\RecSysFramework\\lib\\site-packages\\skopt\\optimizer\\optimizer.py:399: UserWarning: The objective has been evaluated at this point before.\n",
      "  warnings.warn(\"The objective has been evaluated \"\n"
     ]
    },
    {
     "name": "stdout",
     "output_type": "stream",
     "text": [
      "SearchBayesianSkopt: Testing config: {'w_slim_bpr': 0}\n",
      "EvaluatorHoldout: Processed 4643 ( 100.00% ) in 23.26 sec. Users per second: 200\n",
      "SearchBayesianSkopt: Config 277 is suboptimal. Config: {'w_slim_bpr': 0} - results: ROC_AUC: 0.1427320, PRECISION: 0.0289253, PRECISION_RECALL_MIN_DEN: 0.1237887, RECALL: 0.1217464, MAP: 0.0548739, MRR: 0.1013160, NDCG: 0.0820821, F1: 0.0467446, HIT_RATE: 0.2892526, ARHR: 0.1110927, NOVELTY: 0.0049737, AVERAGE_POPULARITY: 0.0712909, DIVERSITY_MEAN_INTER_LIST: 0.9941693, DIVERSITY_HERFINDAHL: 0.9993955, COVERAGE_ITEM: 0.3674302, COVERAGE_ITEM_CORRECT: 0.0364196, COVERAGE_USER: 0.5842456, COVERAGE_USER_CORRECT: 0.1374103, DIVERSITY_GINI: 0.1379547, SHANNON_ENTROPY: 11.9571592, \n",
      "\n",
      "Iteration No: 278 ended. Search finished for the next optimal point.\n",
      "Time taken: 26.7229\n",
      "Function value obtained: -0.0549\n",
      "Current minimum: -0.0558\n",
      "Iteration No: 279 started. Searching for the next optimal point.\n",
      "SearchBayesianSkopt: Testing config: {'w_slim_bpr': 547}\n",
      "EvaluatorHoldout: Processed 4643 ( 100.00% ) in 23.30 sec. Users per second: 199\n",
      "SearchBayesianSkopt: Config 278 is suboptimal. Config: {'w_slim_bpr': 547} - results: ROC_AUC: 0.1423353, PRECISION: 0.0279991, PRECISION_RECALL_MIN_DEN: 0.1204817, RECALL: 0.1183088, MAP: 0.0527592, MRR: 0.0984508, NDCG: 0.0793068, F1: 0.0452818, HIT_RATE: 0.2799914, ARHR: 0.1082695, NOVELTY: 0.0048662, AVERAGE_POPULARITY: 0.0984555, DIVERSITY_MEAN_INTER_LIST: 0.9882328, DIVERSITY_HERFINDAHL: 0.9988020, COVERAGE_ITEM: 0.3677767, COVERAGE_ITEM_CORRECT: 0.0314918, COVERAGE_USER: 0.5842456, COVERAGE_USER_CORRECT: 0.1336353, DIVERSITY_GINI: 0.1262210, SHANNON_ENTROPY: 11.5596243, \n",
      "\n",
      "Iteration No: 279 ended. Search finished for the next optimal point.\n",
      "Time taken: 26.8784\n",
      "Function value obtained: -0.0528\n",
      "Current minimum: -0.0558\n",
      "Iteration No: 280 started. Searching for the next optimal point.\n",
      "SearchBayesianSkopt: Testing config: {'w_slim_bpr': 1373}\n",
      "EvaluatorHoldout: Processed 4643 ( 100.00% ) in 23.41 sec. Users per second: 198\n",
      "SearchBayesianSkopt: Config 279 is suboptimal. Config: {'w_slim_bpr': 1373} - results: ROC_AUC: 0.1325273, PRECISION: 0.0256515, PRECISION_RECALL_MIN_DEN: 0.1104639, RECALL: 0.1085492, MAP: 0.0484897, MRR: 0.0914949, NDCG: 0.0730028, F1: 0.0414968, HIT_RATE: 0.2565152, ARHR: 0.0997935, NOVELTY: 0.0048406, AVERAGE_POPULARITY: 0.1077060, DIVERSITY_MEAN_INTER_LIST: 0.9851709, DIVERSITY_HERFINDAHL: 0.9984959, COVERAGE_ITEM: 0.3656208, COVERAGE_ITEM_CORRECT: 0.0274495, COVERAGE_USER: 0.5842456, COVERAGE_USER_CORRECT: 0.1243236, DIVERSITY_GINI: 0.1225598, SHANNON_ENTROPY: 11.4107533, \n",
      "\n",
      "Iteration No: 280 ended. Search finished for the next optimal point.\n",
      "Time taken: 27.0319\n",
      "Function value obtained: -0.0485\n",
      "Current minimum: -0.0558\n",
      "Iteration No: 281 started. Searching for the next optimal point.\n",
      "SearchBayesianSkopt: Testing config: {'w_slim_bpr': 799}\n",
      "EvaluatorHoldout: Processed 4643 ( 100.00% ) in 24.14 sec. Users per second: 192\n",
      "SearchBayesianSkopt: Config 280 is suboptimal. Config: {'w_slim_bpr': 799} - results: ROC_AUC: 0.1388502, PRECISION: 0.0272022, PRECISION_RECALL_MIN_DEN: 0.1175453, RECALL: 0.1154721, MAP: 0.0507911, MRR: 0.0953843, NDCG: 0.0768186, F1: 0.0440317, HIT_RATE: 0.2720224, ARHR: 0.1046928, NOVELTY: 0.0048541, AVERAGE_POPULARITY: 0.1025753, DIVERSITY_MEAN_INTER_LIST: 0.9869404, DIVERSITY_HERFINDAHL: 0.9986728, COVERAGE_ITEM: 0.3671607, COVERAGE_ITEM_CORRECT: 0.0302214, COVERAGE_USER: 0.5842456, COVERAGE_USER_CORRECT: 0.1307412, DIVERSITY_GINI: 0.1247361, SHANNON_ENTROPY: 11.4945552, \n",
      "\n",
      "Iteration No: 281 ended. Search finished for the next optimal point.\n",
      "Time taken: 27.8268\n",
      "Function value obtained: -0.0508\n",
      "Current minimum: -0.0558\n",
      "Iteration No: 282 started. Searching for the next optimal point.\n"
     ]
    },
    {
     "name": "stderr",
     "output_type": "stream",
     "text": [
      "C:\\Users\\davel\\anaconda3\\envs\\RecSysFramework\\lib\\site-packages\\skopt\\optimizer\\optimizer.py:399: UserWarning: The objective has been evaluated at this point before.\n",
      "  warnings.warn(\"The objective has been evaluated \"\n"
     ]
    },
    {
     "name": "stdout",
     "output_type": "stream",
     "text": [
      "SearchBayesianSkopt: Testing config: {'w_slim_bpr': 0}\n",
      "EvaluatorHoldout: Processed 4643 ( 100.00% ) in 23.90 sec. Users per second: 194\n",
      "SearchBayesianSkopt: Config 281 is suboptimal. Config: {'w_slim_bpr': 0} - results: ROC_AUC: 0.1427320, PRECISION: 0.0289253, PRECISION_RECALL_MIN_DEN: 0.1237887, RECALL: 0.1217464, MAP: 0.0548739, MRR: 0.1013160, NDCG: 0.0820821, F1: 0.0467446, HIT_RATE: 0.2892526, ARHR: 0.1110927, NOVELTY: 0.0049737, AVERAGE_POPULARITY: 0.0712909, DIVERSITY_MEAN_INTER_LIST: 0.9941693, DIVERSITY_HERFINDAHL: 0.9993955, COVERAGE_ITEM: 0.3674302, COVERAGE_ITEM_CORRECT: 0.0364196, COVERAGE_USER: 0.5842456, COVERAGE_USER_CORRECT: 0.1374103, DIVERSITY_GINI: 0.1379547, SHANNON_ENTROPY: 11.9571592, \n",
      "\n",
      "Iteration No: 282 ended. Search finished for the next optimal point.\n",
      "Time taken: 27.5290\n",
      "Function value obtained: -0.0549\n",
      "Current minimum: -0.0558\n",
      "Iteration No: 283 started. Searching for the next optimal point.\n"
     ]
    },
    {
     "name": "stderr",
     "output_type": "stream",
     "text": [
      "C:\\Users\\davel\\anaconda3\\envs\\RecSysFramework\\lib\\site-packages\\skopt\\optimizer\\optimizer.py:399: UserWarning: The objective has been evaluated at this point before.\n",
      "  warnings.warn(\"The objective has been evaluated \"\n"
     ]
    },
    {
     "name": "stdout",
     "output_type": "stream",
     "text": [
      "SearchBayesianSkopt: Testing config: {'w_slim_bpr': 0}\n",
      "EvaluatorHoldout: Processed 4643 ( 100.00% ) in 24.12 sec. Users per second: 192\n",
      "SearchBayesianSkopt: Config 282 is suboptimal. Config: {'w_slim_bpr': 0} - results: ROC_AUC: 0.1427320, PRECISION: 0.0289253, PRECISION_RECALL_MIN_DEN: 0.1237887, RECALL: 0.1217464, MAP: 0.0548739, MRR: 0.1013160, NDCG: 0.0820821, F1: 0.0467446, HIT_RATE: 0.2892526, ARHR: 0.1110927, NOVELTY: 0.0049737, AVERAGE_POPULARITY: 0.0712909, DIVERSITY_MEAN_INTER_LIST: 0.9941693, DIVERSITY_HERFINDAHL: 0.9993955, COVERAGE_ITEM: 0.3674302, COVERAGE_ITEM_CORRECT: 0.0364196, COVERAGE_USER: 0.5842456, COVERAGE_USER_CORRECT: 0.1374103, DIVERSITY_GINI: 0.1379547, SHANNON_ENTROPY: 11.9571592, \n",
      "\n",
      "Iteration No: 283 ended. Search finished for the next optimal point.\n",
      "Time taken: 27.8992\n",
      "Function value obtained: -0.0549\n",
      "Current minimum: -0.0558\n",
      "Iteration No: 284 started. Searching for the next optimal point.\n"
     ]
    },
    {
     "name": "stderr",
     "output_type": "stream",
     "text": [
      "C:\\Users\\davel\\anaconda3\\envs\\RecSysFramework\\lib\\site-packages\\skopt\\optimizer\\optimizer.py:399: UserWarning: The objective has been evaluated at this point before.\n",
      "  warnings.warn(\"The objective has been evaluated \"\n"
     ]
    },
    {
     "name": "stdout",
     "output_type": "stream",
     "text": [
      "SearchBayesianSkopt: Testing config: {'w_slim_bpr': 0}\n",
      "EvaluatorHoldout: Processed 4643 ( 100.00% ) in 23.89 sec. Users per second: 194\n",
      "SearchBayesianSkopt: Config 283 is suboptimal. Config: {'w_slim_bpr': 0} - results: ROC_AUC: 0.1427320, PRECISION: 0.0289253, PRECISION_RECALL_MIN_DEN: 0.1237887, RECALL: 0.1217464, MAP: 0.0548739, MRR: 0.1013160, NDCG: 0.0820821, F1: 0.0467446, HIT_RATE: 0.2892526, ARHR: 0.1110927, NOVELTY: 0.0049737, AVERAGE_POPULARITY: 0.0712909, DIVERSITY_MEAN_INTER_LIST: 0.9941693, DIVERSITY_HERFINDAHL: 0.9993955, COVERAGE_ITEM: 0.3674302, COVERAGE_ITEM_CORRECT: 0.0364196, COVERAGE_USER: 0.5842456, COVERAGE_USER_CORRECT: 0.1374103, DIVERSITY_GINI: 0.1379547, SHANNON_ENTROPY: 11.9571592, \n",
      "\n",
      "Iteration No: 284 ended. Search finished for the next optimal point.\n",
      "Time taken: 27.5212\n",
      "Function value obtained: -0.0549\n",
      "Current minimum: -0.0558\n",
      "Iteration No: 285 started. Searching for the next optimal point.\n",
      "SearchBayesianSkopt: Testing config: {'w_slim_bpr': 1826}\n",
      "EvaluatorHoldout: Processed 4643 ( 100.00% ) in 23.93 sec. Users per second: 194\n",
      "SearchBayesianSkopt: Config 284 is suboptimal. Config: {'w_slim_bpr': 1826} - results: ROC_AUC: 0.1282070, PRECISION: 0.0248546, PRECISION_RECALL_MIN_DEN: 0.1069395, RECALL: 0.1051029, MAP: 0.0468549, MRR: 0.0885941, NDCG: 0.0706386, F1: 0.0402023, HIT_RATE: 0.2485462, ARHR: 0.0963267, NOVELTY: 0.0048391, AVERAGE_POPULARITY: 0.1094807, DIVERSITY_MEAN_INTER_LIST: 0.9844908, DIVERSITY_HERFINDAHL: 0.9984279, COVERAGE_ITEM: 0.3641193, COVERAGE_ITEM_CORRECT: 0.0260635, COVERAGE_USER: 0.5842456, COVERAGE_USER_CORRECT: 0.1209261, DIVERSITY_GINI: 0.1215591, SHANNON_ENTROPY: 11.3788519, \n",
      "\n",
      "Iteration No: 285 ended. Search finished for the next optimal point.\n",
      "Time taken: 27.6977\n",
      "Function value obtained: -0.0469\n",
      "Current minimum: -0.0558\n",
      "Iteration No: 286 started. Searching for the next optimal point.\n",
      "SearchBayesianSkopt: Testing config: {'w_slim_bpr': 1124}\n",
      "EvaluatorHoldout: Processed 4643 ( 100.00% ) in 23.95 sec. Users per second: 194\n",
      "SearchBayesianSkopt: Config 285 is suboptimal. Config: {'w_slim_bpr': 1124} - results: ROC_AUC: 0.1347212, PRECISION: 0.0262977, PRECISION_RECALL_MIN_DEN: 0.1137762, RECALL: 0.1118152, MAP: 0.0492631, MRR: 0.0926668, NDCG: 0.0744863, F1: 0.0425808, HIT_RATE: 0.2629765, ARHR: 0.1012658, NOVELTY: 0.0048445, AVERAGE_POPULARITY: 0.1060115, DIVERSITY_MEAN_INTER_LIST: 0.9857765, DIVERSITY_HERFINDAHL: 0.9985564, COVERAGE_ITEM: 0.3654283, COVERAGE_ITEM_CORRECT: 0.0285659, COVERAGE_USER: 0.5842456, COVERAGE_USER_CORRECT: 0.1270920, DIVERSITY_GINI: 0.1231189, SHANNON_ENTROPY: 11.4389736, \n",
      "\n",
      "Iteration No: 286 ended. Search finished for the next optimal point.\n",
      "Time taken: 27.7122\n",
      "Function value obtained: -0.0493\n",
      "Current minimum: -0.0558\n",
      "Iteration No: 287 started. Searching for the next optimal point.\n"
     ]
    },
    {
     "name": "stderr",
     "output_type": "stream",
     "text": [
      "C:\\Users\\davel\\anaconda3\\envs\\RecSysFramework\\lib\\site-packages\\skopt\\optimizer\\optimizer.py:399: UserWarning: The objective has been evaluated at this point before.\n",
      "  warnings.warn(\"The objective has been evaluated \"\n"
     ]
    },
    {
     "name": "stdout",
     "output_type": "stream",
     "text": [
      "SearchBayesianSkopt: Testing config: {'w_slim_bpr': 0}\n",
      "EvaluatorHoldout: Processed 4643 ( 100.00% ) in 24.07 sec. Users per second: 193\n",
      "SearchBayesianSkopt: Config 286 is suboptimal. Config: {'w_slim_bpr': 0} - results: ROC_AUC: 0.1427320, PRECISION: 0.0289253, PRECISION_RECALL_MIN_DEN: 0.1237887, RECALL: 0.1217464, MAP: 0.0548739, MRR: 0.1013160, NDCG: 0.0820821, F1: 0.0467446, HIT_RATE: 0.2892526, ARHR: 0.1110927, NOVELTY: 0.0049737, AVERAGE_POPULARITY: 0.0712909, DIVERSITY_MEAN_INTER_LIST: 0.9941693, DIVERSITY_HERFINDAHL: 0.9993955, COVERAGE_ITEM: 0.3674302, COVERAGE_ITEM_CORRECT: 0.0364196, COVERAGE_USER: 0.5842456, COVERAGE_USER_CORRECT: 0.1374103, DIVERSITY_GINI: 0.1379547, SHANNON_ENTROPY: 11.9571592, \n",
      "\n",
      "Iteration No: 287 ended. Search finished for the next optimal point.\n",
      "Time taken: 27.8701\n",
      "Function value obtained: -0.0549\n",
      "Current minimum: -0.0558\n",
      "Iteration No: 288 started. Searching for the next optimal point.\n",
      "SearchBayesianSkopt: Testing config: {'w_slim_bpr': 721}\n",
      "EvaluatorHoldout: Processed 4643 ( 100.00% ) in 24.12 sec. Users per second: 193\n",
      "SearchBayesianSkopt: Config 287 is suboptimal. Config: {'w_slim_bpr': 721} - results: ROC_AUC: 0.1402219, PRECISION: 0.0274392, PRECISION_RECALL_MIN_DEN: 0.1182852, RECALL: 0.1162185, MAP: 0.0514018, MRR: 0.0962692, NDCG: 0.0775748, F1: 0.0443963, HIT_RATE: 0.2743916, ARHR: 0.1057154, NOVELTY: 0.0048576, AVERAGE_POPULARITY: 0.1013812, DIVERSITY_MEAN_INTER_LIST: 0.9873177, DIVERSITY_HERFINDAHL: 0.9987105, COVERAGE_ITEM: 0.3674302, COVERAGE_ITEM_CORRECT: 0.0307988, COVERAGE_USER: 0.5842456, COVERAGE_USER_CORRECT: 0.1317478, DIVERSITY_GINI: 0.1253029, SHANNON_ENTROPY: 11.5133823, \n",
      "\n",
      "Iteration No: 288 ended. Search finished for the next optimal point.\n",
      "Time taken: 27.9031\n",
      "Function value obtained: -0.0514\n",
      "Current minimum: -0.0558\n",
      "Iteration No: 289 started. Searching for the next optimal point.\n"
     ]
    },
    {
     "name": "stderr",
     "output_type": "stream",
     "text": [
      "C:\\Users\\davel\\anaconda3\\envs\\RecSysFramework\\lib\\site-packages\\skopt\\optimizer\\optimizer.py:399: UserWarning: The objective has been evaluated at this point before.\n",
      "  warnings.warn(\"The objective has been evaluated \"\n"
     ]
    },
    {
     "name": "stdout",
     "output_type": "stream",
     "text": [
      "SearchBayesianSkopt: Testing config: {'w_slim_bpr': 1558}\n",
      "EvaluatorHoldout: Processed 4643 ( 100.00% ) in 24.11 sec. Users per second: 193\n",
      "SearchBayesianSkopt: Config 288 is suboptimal. Config: {'w_slim_bpr': 1558} - results: ROC_AUC: 0.1304622, PRECISION: 0.0254361, PRECISION_RECALL_MIN_DEN: 0.1091121, RECALL: 0.1072181, MAP: 0.0476576, MRR: 0.0901441, NDCG: 0.0719453, F1: 0.0411176, HIT_RATE: 0.2543614, ARHR: 0.0983273, NOVELTY: 0.0048397, AVERAGE_POPULARITY: 0.1084857, DIVERSITY_MEAN_INTER_LIST: 0.9848718, DIVERSITY_HERFINDAHL: 0.9984660, COVERAGE_ITEM: 0.3645428, COVERAGE_ITEM_CORRECT: 0.0269875, COVERAGE_USER: 0.5842456, COVERAGE_USER_CORRECT: 0.1233170, DIVERSITY_GINI: 0.1218928, SHANNON_ENTROPY: 11.3943330, \n",
      "\n",
      "Iteration No: 289 ended. Search finished for the next optimal point.\n",
      "Time taken: 27.9833\n",
      "Function value obtained: -0.0477\n",
      "Current minimum: -0.0558\n",
      "Iteration No: 290 started. Searching for the next optimal point.\n"
     ]
    },
    {
     "name": "stderr",
     "output_type": "stream",
     "text": [
      "C:\\Users\\davel\\anaconda3\\envs\\RecSysFramework\\lib\\site-packages\\skopt\\optimizer\\optimizer.py:399: UserWarning: The objective has been evaluated at this point before.\n",
      "  warnings.warn(\"The objective has been evaluated \"\n"
     ]
    },
    {
     "name": "stdout",
     "output_type": "stream",
     "text": [
      "SearchBayesianSkopt: Testing config: {'w_slim_bpr': 0}\n",
      "EvaluatorHoldout: Processed 4643 ( 100.00% ) in 23.97 sec. Users per second: 194\n",
      "SearchBayesianSkopt: Config 289 is suboptimal. Config: {'w_slim_bpr': 0} - results: ROC_AUC: 0.1427320, PRECISION: 0.0289253, PRECISION_RECALL_MIN_DEN: 0.1237887, RECALL: 0.1217464, MAP: 0.0548739, MRR: 0.1013160, NDCG: 0.0820821, F1: 0.0467446, HIT_RATE: 0.2892526, ARHR: 0.1110927, NOVELTY: 0.0049737, AVERAGE_POPULARITY: 0.0712909, DIVERSITY_MEAN_INTER_LIST: 0.9941693, DIVERSITY_HERFINDAHL: 0.9993955, COVERAGE_ITEM: 0.3674302, COVERAGE_ITEM_CORRECT: 0.0364196, COVERAGE_USER: 0.5842456, COVERAGE_USER_CORRECT: 0.1374103, DIVERSITY_GINI: 0.1379547, SHANNON_ENTROPY: 11.9571592, \n",
      "\n",
      "Iteration No: 290 ended. Search finished for the next optimal point.\n",
      "Time taken: 27.7825\n",
      "Function value obtained: -0.0549\n",
      "Current minimum: -0.0558\n",
      "Iteration No: 291 started. Searching for the next optimal point.\n",
      "SearchBayesianSkopt: Testing config: {'w_slim_bpr': 500}\n",
      "EvaluatorHoldout: Processed 4643 ( 100.00% ) in 23.92 sec. Users per second: 194\n",
      "SearchBayesianSkopt: Config 290 is suboptimal. Config: {'w_slim_bpr': 500} - results: ROC_AUC: 0.1429652, PRECISION: 0.0281930, PRECISION_RECALL_MIN_DEN: 0.1210662, RECALL: 0.1188885, MAP: 0.0529900, MRR: 0.0987391, NDCG: 0.0796795, F1: 0.0455777, HIT_RATE: 0.2819298, ARHR: 0.1086826, NOVELTY: 0.0048695, AVERAGE_POPULARITY: 0.0972522, DIVERSITY_MEAN_INTER_LIST: 0.9885886, DIVERSITY_HERFINDAHL: 0.9988376, COVERAGE_ITEM: 0.3663908, COVERAGE_ITEM_CORRECT: 0.0318383, COVERAGE_USER: 0.5842456, COVERAGE_USER_CORRECT: 0.1341387, DIVERSITY_GINI: 0.1262440, SHANNON_ENTROPY: 11.5756176, \n",
      "\n",
      "Iteration No: 291 ended. Search finished for the next optimal point.\n",
      "Time taken: 27.8311\n",
      "Function value obtained: -0.0530\n",
      "Current minimum: -0.0558\n",
      "Iteration No: 292 started. Searching for the next optimal point.\n",
      "SearchBayesianSkopt: Testing config: {'w_slim_bpr': 1807}\n",
      "EvaluatorHoldout: Processed 4643 ( 100.00% ) in 23.99 sec. Users per second: 194\n",
      "SearchBayesianSkopt: Config 291 is suboptimal. Config: {'w_slim_bpr': 1807} - results: ROC_AUC: 0.1284144, PRECISION: 0.0248977, PRECISION_RECALL_MIN_DEN: 0.1071621, RECALL: 0.1053255, MAP: 0.0469299, MRR: 0.0888666, NDCG: 0.0707734, F1: 0.0402749, HIT_RATE: 0.2489770, ARHR: 0.0966411, NOVELTY: 0.0048388, AVERAGE_POPULARITY: 0.1094269, DIVERSITY_MEAN_INTER_LIST: 0.9845146, DIVERSITY_HERFINDAHL: 0.9984303, COVERAGE_ITEM: 0.3641963, COVERAGE_ITEM_CORRECT: 0.0261020, COVERAGE_USER: 0.5842456, COVERAGE_USER_CORRECT: 0.1210520, DIVERSITY_GINI: 0.1215733, SHANNON_ENTROPY: 11.3798011, \n",
      "\n",
      "Iteration No: 292 ended. Search finished for the next optimal point.\n",
      "Time taken: 27.8112\n",
      "Function value obtained: -0.0469\n",
      "Current minimum: -0.0558\n",
      "Iteration No: 293 started. Searching for the next optimal point.\n",
      "SearchBayesianSkopt: Testing config: {'w_slim_bpr': 1279}\n",
      "EvaluatorHoldout: Processed 4643 ( 100.00% ) in 23.87 sec. Users per second: 194\n",
      "SearchBayesianSkopt: Config 292 is suboptimal. Config: {'w_slim_bpr': 1279} - results: ROC_AUC: 0.1331324, PRECISION: 0.0259961, PRECISION_RECALL_MIN_DEN: 0.1120912, RECALL: 0.1101114, MAP: 0.0487318, MRR: 0.0918914, NDCG: 0.0735937, F1: 0.0420619, HIT_RATE: 0.2599612, ARHR: 0.1003427, NOVELTY: 0.0048416, AVERAGE_POPULARITY: 0.1071853, DIVERSITY_MEAN_INTER_LIST: 0.9853710, DIVERSITY_HERFINDAHL: 0.9985159, COVERAGE_ITEM: 0.3649663, COVERAGE_ITEM_CORRECT: 0.0280269, COVERAGE_USER: 0.5842456, COVERAGE_USER_CORRECT: 0.1257078, DIVERSITY_GINI: 0.1225754, SHANNON_ENTROPY: 11.4194342, \n",
      "\n",
      "Iteration No: 293 ended. Search finished for the next optimal point.\n",
      "Time taken: 27.8911\n",
      "Function value obtained: -0.0487\n",
      "Current minimum: -0.0558\n",
      "Iteration No: 294 started. Searching for the next optimal point.\n",
      "SearchBayesianSkopt: Testing config: {'w_slim_bpr': 974}\n",
      "EvaluatorHoldout: Processed 4643 ( 100.00% ) in 23.97 sec. Users per second: 194\n",
      "SearchBayesianSkopt: Config 293 is suboptimal. Config: {'w_slim_bpr': 974} - results: ROC_AUC: 0.1365247, PRECISION: 0.0267715, PRECISION_RECALL_MIN_DEN: 0.1158561, RECALL: 0.1138130, MAP: 0.0499148, MRR: 0.0940075, NDCG: 0.0756024, F1: 0.0433468, HIT_RATE: 0.2677148, ARHR: 0.1028374, NOVELTY: 0.0048484, AVERAGE_POPULARITY: 0.1046123, DIVERSITY_MEAN_INTER_LIST: 0.9862562, DIVERSITY_HERFINDAHL: 0.9986044, COVERAGE_ITEM: 0.3657363, COVERAGE_ITEM_CORRECT: 0.0292974, COVERAGE_USER: 0.5842456, COVERAGE_USER_CORRECT: 0.1293570, DIVERSITY_GINI: 0.1235786, SHANNON_ENTROPY: 11.4595226, \n",
      "\n",
      "Iteration No: 294 ended. Search finished for the next optimal point.\n",
      "Time taken: 28.0590\n",
      "Function value obtained: -0.0499\n",
      "Current minimum: -0.0558\n",
      "Iteration No: 295 started. Searching for the next optimal point.\n",
      "SearchBayesianSkopt: Testing config: {'w_slim_bpr': 652}\n",
      "EvaluatorHoldout: Processed 4643 ( 100.00% ) in 23.88 sec. Users per second: 194\n",
      "SearchBayesianSkopt: Config 294 is suboptimal. Config: {'w_slim_bpr': 652} - results: ROC_AUC: 0.1405774, PRECISION: 0.0279345, PRECISION_RECALL_MIN_DEN: 0.1201468, RECALL: 0.1179933, MAP: 0.0517573, MRR: 0.0970911, NDCG: 0.0783727, F1: 0.0451742, HIT_RATE: 0.2793453, ARHR: 0.1068503, NOVELTY: 0.0048611, AVERAGE_POPULARITY: 0.1002487, DIVERSITY_MEAN_INTER_LIST: 0.9876783, DIVERSITY_HERFINDAHL: 0.9987466, COVERAGE_ITEM: 0.3673917, COVERAGE_ITEM_CORRECT: 0.0314148, COVERAGE_USER: 0.5842456, COVERAGE_USER_CORRECT: 0.1332578, DIVERSITY_GINI: 0.1256864, SHANNON_ENTROPY: 11.5311504, \n",
      "\n",
      "Iteration No: 295 ended. Search finished for the next optimal point.\n",
      "Time taken: 27.8312\n",
      "Function value obtained: -0.0518\n",
      "Current minimum: -0.0558\n",
      "Iteration No: 296 started. Searching for the next optimal point.\n"
     ]
    },
    {
     "name": "stderr",
     "output_type": "stream",
     "text": [
      "C:\\Users\\davel\\anaconda3\\envs\\RecSysFramework\\lib\\site-packages\\skopt\\optimizer\\optimizer.py:399: UserWarning: The objective has been evaluated at this point before.\n",
      "  warnings.warn(\"The objective has been evaluated \"\n"
     ]
    },
    {
     "name": "stdout",
     "output_type": "stream",
     "text": [
      "SearchBayesianSkopt: Testing config: {'w_slim_bpr': 1538}\n",
      "EvaluatorHoldout: Processed 4643 ( 100.00% ) in 23.79 sec. Users per second: 195\n",
      "SearchBayesianSkopt: Config 295 is suboptimal. Config: {'w_slim_bpr': 1538} - results: ROC_AUC: 0.1306263, PRECISION: 0.0255008, PRECISION_RECALL_MIN_DEN: 0.1093490, RECALL: 0.1074478, MAP: 0.0477979, MRR: 0.0903768, NDCG: 0.0721367, F1: 0.0412190, HIT_RATE: 0.2550075, ARHR: 0.0985635, NOVELTY: 0.0048401, AVERAGE_POPULARITY: 0.1084025, DIVERSITY_MEAN_INTER_LIST: 0.9848993, DIVERSITY_HERFINDAHL: 0.9984687, COVERAGE_ITEM: 0.3648508, COVERAGE_ITEM_CORRECT: 0.0271030, COVERAGE_USER: 0.5842456, COVERAGE_USER_CORRECT: 0.1236945, DIVERSITY_GINI: 0.1220464, SHANNON_ENTROPY: 11.3967730, \n",
      "\n",
      "Iteration No: 296 ended. Search finished for the next optimal point.\n",
      "Time taken: 27.8272\n",
      "Function value obtained: -0.0478\n",
      "Current minimum: -0.0558\n",
      "Iteration No: 297 started. Searching for the next optimal point.\n",
      "SearchBayesianSkopt: Testing config: {'w_slim_bpr': 742}\n",
      "EvaluatorHoldout: Processed 4643 ( 100.00% ) in 23.86 sec. Users per second: 195\n",
      "SearchBayesianSkopt: Config 296 is suboptimal. Config: {'w_slim_bpr': 742} - results: ROC_AUC: 0.1397832, PRECISION: 0.0273961, PRECISION_RECALL_MIN_DEN: 0.1180642, RECALL: 0.1159703, MAP: 0.0512356, MRR: 0.0957365, NDCG: 0.0773411, F1: 0.0443218, HIT_RATE: 0.2739608, ARHR: 0.1051570, NOVELTY: 0.0048563, AVERAGE_POPULARITY: 0.1017825, DIVERSITY_MEAN_INTER_LIST: 0.9871884, DIVERSITY_HERFINDAHL: 0.9986976, COVERAGE_ITEM: 0.3675457, COVERAGE_ITEM_CORRECT: 0.0306449, COVERAGE_USER: 0.5842456, COVERAGE_USER_CORRECT: 0.1314962, DIVERSITY_GINI: 0.1250709, SHANNON_ENTROPY: 11.5066057, \n",
      "\n",
      "Iteration No: 297 ended. Search finished for the next optimal point.\n",
      "Time taken: 27.9147\n",
      "Function value obtained: -0.0512\n",
      "Current minimum: -0.0558\n",
      "Iteration No: 298 started. Searching for the next optimal point.\n",
      "SearchBayesianSkopt: Testing config: {'w_slim_bpr': 1778}\n",
      "EvaluatorHoldout: Processed 4643 ( 100.00% ) in 23.97 sec. Users per second: 194\n",
      "SearchBayesianSkopt: Config 297 is suboptimal. Config: {'w_slim_bpr': 1778} - results: ROC_AUC: 0.1287734, PRECISION: 0.0249623, PRECISION_RECALL_MIN_DEN: 0.1072862, RECALL: 0.1054415, MAP: 0.0469945, MRR: 0.0889745, NDCG: 0.0708788, F1: 0.0403679, HIT_RATE: 0.2496231, ARHR: 0.0967944, NOVELTY: 0.0048388, AVERAGE_POPULARITY: 0.1093223, DIVERSITY_MEAN_INTER_LIST: 0.9845531, DIVERSITY_HERFINDAHL: 0.9984341, COVERAGE_ITEM: 0.3641963, COVERAGE_ITEM_CORRECT: 0.0262175, COVERAGE_USER: 0.5842456, COVERAGE_USER_CORRECT: 0.1213036, DIVERSITY_GINI: 0.1216384, SHANNON_ENTROPY: 11.3816449, \n",
      "\n",
      "Iteration No: 298 ended. Search finished for the next optimal point.\n",
      "Time taken: 28.0554\n",
      "Function value obtained: -0.0470\n",
      "Current minimum: -0.0558\n",
      "Iteration No: 299 started. Searching for the next optimal point.\n"
     ]
    },
    {
     "name": "stderr",
     "output_type": "stream",
     "text": [
      "C:\\Users\\davel\\anaconda3\\envs\\RecSysFramework\\lib\\site-packages\\skopt\\optimizer\\optimizer.py:399: UserWarning: The objective has been evaluated at this point before.\n",
      "  warnings.warn(\"The objective has been evaluated \"\n"
     ]
    },
    {
     "name": "stdout",
     "output_type": "stream",
     "text": [
      "SearchBayesianSkopt: Testing config: {'w_slim_bpr': 0}\n",
      "EvaluatorHoldout: Processed 4643 ( 100.00% ) in 24.05 sec. Users per second: 193\n",
      "SearchBayesianSkopt: Config 298 is suboptimal. Config: {'w_slim_bpr': 0} - results: ROC_AUC: 0.1427320, PRECISION: 0.0289253, PRECISION_RECALL_MIN_DEN: 0.1237887, RECALL: 0.1217464, MAP: 0.0548739, MRR: 0.1013160, NDCG: 0.0820821, F1: 0.0467446, HIT_RATE: 0.2892526, ARHR: 0.1110927, NOVELTY: 0.0049737, AVERAGE_POPULARITY: 0.0712909, DIVERSITY_MEAN_INTER_LIST: 0.9941693, DIVERSITY_HERFINDAHL: 0.9993955, COVERAGE_ITEM: 0.3674302, COVERAGE_ITEM_CORRECT: 0.0364196, COVERAGE_USER: 0.5842456, COVERAGE_USER_CORRECT: 0.1374103, DIVERSITY_GINI: 0.1379547, SHANNON_ENTROPY: 11.9571592, \n",
      "\n",
      "Iteration No: 299 ended. Search finished for the next optimal point.\n",
      "Time taken: 28.1071\n",
      "Function value obtained: -0.0549\n",
      "Current minimum: -0.0558\n",
      "Iteration No: 300 started. Searching for the next optimal point.\n",
      "SearchBayesianSkopt: Testing config: {'w_slim_bpr': 1627}\n",
      "EvaluatorHoldout: Processed 4643 ( 100.00% ) in 23.92 sec. Users per second: 194\n",
      "SearchBayesianSkopt: Config 299 is suboptimal. Config: {'w_slim_bpr': 1627} - results: ROC_AUC: 0.1301630, PRECISION: 0.0251992, PRECISION_RECALL_MIN_DEN: 0.1081621, RECALL: 0.1062931, MAP: 0.0475335, MRR: 0.0898664, NDCG: 0.0715859, F1: 0.0407401, HIT_RATE: 0.2519922, ARHR: 0.0979437, NOVELTY: 0.0048396, AVERAGE_POPULARITY: 0.1087272, DIVERSITY_MEAN_INTER_LIST: 0.9847792, DIVERSITY_HERFINDAHL: 0.9984567, COVERAGE_ITEM: 0.3643118, COVERAGE_ITEM_CORRECT: 0.0266025, COVERAGE_USER: 0.5842456, COVERAGE_USER_CORRECT: 0.1223103, DIVERSITY_GINI: 0.1218576, SHANNON_ENTROPY: 11.3915783, \n",
      "\n",
      "Iteration No: 300 ended. Search finished for the next optimal point.\n",
      "Time taken: 27.9669\n",
      "Function value obtained: -0.0475\n",
      "Current minimum: -0.0558\n",
      "SearchBayesianSkopt: Search complete. Best config is 21: {'w_slim_bpr': 154}\n",
      "\n",
      "SearchBayesianSkopt: Evaluation with constructor data for final test. Using best config: {'w_slim_bpr': 154}\n",
      "EvaluatorHoldout: Processed 5007 ( 100.00% ) in 26.61 sec. Users per second: 188\n",
      "SearchBayesianSkopt: Best config evaluated with evaluator_test with constructor data for final test. Config: {'w_slim_bpr': 154} - results:\n",
      "CUTOFF: 10 - ROC_AUC: 0.1561609, PRECISION: 0.0320152, PRECISION_RECALL_MIN_DEN: 0.1238591, RECALL: 0.1212141, MAP: 0.0540377, MRR: 0.1113952, NDCG: 0.0834076, F1: 0.0506521, HIT_RATE: 0.3201518, ARHR: 0.1253669, NOVELTY: 0.0049204, AVERAGE_POPULARITY: 0.0835414, DIVERSITY_MEAN_INTER_LIST: 0.9920162, DIVERSITY_HERFINDAHL: 0.9991818, COVERAGE_ITEM: 0.3780943, COVERAGE_ITEM_CORRECT: 0.0401155, COVERAGE_USER: 0.6300491, COVERAGE_USER_CORRECT: 0.1576696, DIVERSITY_GINI: 0.1330405, SHANNON_ENTROPY: 11.7980426, \n",
      "\n",
      "\n",
      "SearchBayesianSkopt: Saving model in result_experiments/HybridRecommender\n",
      "\n",
      "HybridRecommender: Saving model in file 'result_experiments/HybridRecommender_best_model_last'\n"
     ]
    },
    {
     "ename": "TypeError",
     "evalue": "get_expected_ratings() missing 1 required positional argument: 'user_id'",
     "output_type": "error",
     "traceback": [
      "\u001b[1;31m---------------------------------------------------------------------------\u001b[0m",
      "\u001b[1;31mTypeError\u001b[0m                                 Traceback (most recent call last)",
      "\u001b[1;32m<ipython-input-34-a98d30f4e389>\u001b[0m in \u001b[0;36m<module>\u001b[1;34m\u001b[0m\n\u001b[0;32m      7\u001b[0m                        \u001b[0moutput_folder_path\u001b[0m \u001b[1;33m=\u001b[0m \u001b[0moutput_folder_path\u001b[0m\u001b[1;33m,\u001b[0m\u001b[1;33m\u001b[0m\u001b[1;33m\u001b[0m\u001b[0m\n\u001b[0;32m      8\u001b[0m                        \u001b[0moutput_file_name_root\u001b[0m \u001b[1;33m=\u001b[0m \u001b[0mrecommender_class\u001b[0m\u001b[1;33m.\u001b[0m\u001b[0mRECOMMENDER_NAME\u001b[0m\u001b[1;33m,\u001b[0m\u001b[1;33m\u001b[0m\u001b[1;33m\u001b[0m\u001b[0m\n\u001b[1;32m----> 9\u001b[1;33m                        \u001b[0mmetric_to_optimize\u001b[0m \u001b[1;33m=\u001b[0m \u001b[0mmetric_to_optimize\u001b[0m\u001b[1;33m,\u001b[0m\u001b[1;33m\u001b[0m\u001b[1;33m\u001b[0m\u001b[0m\n\u001b[0m\u001b[0;32m     10\u001b[0m                       )\n",
      "\u001b[1;32m~\\Desktop\\ChallengeRecommender\\ParameterTuning\\SearchBayesianSkopt.py\u001b[0m in \u001b[0;36msearch\u001b[1;34m(self, recommender_input_args, parameter_search_space, metric_to_optimize, n_cases, n_random_starts, output_folder_path, output_file_name_root, save_model, save_metadata, resume_from_saved, recommender_input_args_last_test, evaluate_on_test_each_best_solution)\u001b[0m\n\u001b[0;32m    270\u001b[0m \u001b[1;33m\u001b[0m\u001b[0m\n\u001b[0;32m    271\u001b[0m         \u001b[1;32mif\u001b[0m \u001b[0mself\u001b[0m\u001b[1;33m.\u001b[0m\u001b[0mrecommender_input_args_last_test\u001b[0m \u001b[1;32mis\u001b[0m \u001b[1;32mnot\u001b[0m \u001b[1;32mNone\u001b[0m\u001b[1;33m:\u001b[0m\u001b[1;33m\u001b[0m\u001b[1;33m\u001b[0m\u001b[0m\n\u001b[1;32m--> 272\u001b[1;33m             \u001b[0mself\u001b[0m\u001b[1;33m.\u001b[0m\u001b[0m_evaluate_on_test_with_data_last\u001b[0m\u001b[1;33m(\u001b[0m\u001b[1;33m)\u001b[0m\u001b[1;33m\u001b[0m\u001b[1;33m\u001b[0m\u001b[0m\n\u001b[0m\u001b[0;32m    273\u001b[0m \u001b[1;33m\u001b[0m\u001b[0m\n\u001b[0;32m    274\u001b[0m \u001b[1;33m\u001b[0m\u001b[0m\n",
      "\u001b[1;32m~\\Desktop\\ChallengeRecommender\\ParameterTuning\\SearchAbstractClass.py\u001b[0m in \u001b[0;36m_evaluate_on_test_with_data_last\u001b[1;34m(self)\u001b[0m\n\u001b[0;32m    348\u001b[0m         \u001b[1;32mif\u001b[0m \u001b[0mself\u001b[0m\u001b[1;33m.\u001b[0m\u001b[0msave_model\u001b[0m \u001b[1;32min\u001b[0m \u001b[1;33m[\u001b[0m\u001b[1;34m\"all\"\u001b[0m\u001b[1;33m,\u001b[0m \u001b[1;34m\"best\"\u001b[0m\u001b[1;33m,\u001b[0m \u001b[1;34m\"last\"\u001b[0m\u001b[1;33m]\u001b[0m\u001b[1;33m:\u001b[0m\u001b[1;33m\u001b[0m\u001b[1;33m\u001b[0m\u001b[0m\n\u001b[0;32m    349\u001b[0m             \u001b[0mself\u001b[0m\u001b[1;33m.\u001b[0m\u001b[0m_print\u001b[0m\u001b[1;33m(\u001b[0m\u001b[1;34m\"{}: Saving model in {}\\n\"\u001b[0m\u001b[1;33m.\u001b[0m\u001b[0mformat\u001b[0m\u001b[1;33m(\u001b[0m\u001b[0mself\u001b[0m\u001b[1;33m.\u001b[0m\u001b[0mALGORITHM_NAME\u001b[0m\u001b[1;33m,\u001b[0m \u001b[0mself\u001b[0m\u001b[1;33m.\u001b[0m\u001b[0moutput_folder_path\u001b[0m \u001b[1;33m+\u001b[0m \u001b[0mself\u001b[0m\u001b[1;33m.\u001b[0m\u001b[0moutput_file_name_root\u001b[0m\u001b[1;33m)\u001b[0m\u001b[1;33m)\u001b[0m\u001b[1;33m\u001b[0m\u001b[1;33m\u001b[0m\u001b[0m\n\u001b[1;32m--> 350\u001b[1;33m             \u001b[0mrecommender_instance\u001b[0m\u001b[1;33m.\u001b[0m\u001b[0msave_model\u001b[0m\u001b[1;33m(\u001b[0m\u001b[0mself\u001b[0m\u001b[1;33m.\u001b[0m\u001b[0moutput_folder_path\u001b[0m\u001b[1;33m,\u001b[0m \u001b[0mfile_name\u001b[0m \u001b[1;33m=\u001b[0m\u001b[0mself\u001b[0m\u001b[1;33m.\u001b[0m\u001b[0moutput_file_name_root\u001b[0m \u001b[1;33m+\u001b[0m \u001b[1;34m\"_best_model_last\"\u001b[0m\u001b[1;33m)\u001b[0m\u001b[1;33m\u001b[0m\u001b[1;33m\u001b[0m\u001b[0m\n\u001b[0m\u001b[0;32m    351\u001b[0m \u001b[1;33m\u001b[0m\u001b[0m\n\u001b[0;32m    352\u001b[0m \u001b[1;33m\u001b[0m\u001b[0m\n",
      "\u001b[1;32m~\\Desktop\\ChallengeRecommender\\Hybrid\\hybridRec.py\u001b[0m in \u001b[0;36msave_model\u001b[1;34m(self, folder_path, file_name)\u001b[0m\n\u001b[0;32m    106\u001b[0m         \u001b[0mself\u001b[0m\u001b[1;33m.\u001b[0m\u001b[0m_print\u001b[0m\u001b[1;33m(\u001b[0m\u001b[1;34m\"Saving model in file '{}'\"\u001b[0m\u001b[1;33m.\u001b[0m\u001b[0mformat\u001b[0m\u001b[1;33m(\u001b[0m\u001b[0mfolder_path\u001b[0m \u001b[1;33m+\u001b[0m \u001b[0mfile_name\u001b[0m\u001b[1;33m)\u001b[0m\u001b[1;33m)\u001b[0m\u001b[1;33m\u001b[0m\u001b[1;33m\u001b[0m\u001b[0m\n\u001b[0;32m    107\u001b[0m \u001b[1;33m\u001b[0m\u001b[0m\n\u001b[1;32m--> 108\u001b[1;33m         \u001b[0mdata_dict_to_save\u001b[0m \u001b[1;33m=\u001b[0m \u001b[1;33m{\u001b[0m\u001b[1;34m\"Hybrid Ratings\"\u001b[0m\u001b[1;33m:\u001b[0m \u001b[0mself\u001b[0m\u001b[1;33m.\u001b[0m\u001b[0mget_expected_ratings\u001b[0m\u001b[1;33m(\u001b[0m\u001b[1;33m)\u001b[0m\u001b[1;33m}\u001b[0m\u001b[1;33m\u001b[0m\u001b[1;33m\u001b[0m\u001b[0m\n\u001b[0m\u001b[0;32m    109\u001b[0m \u001b[1;33m\u001b[0m\u001b[0m\n\u001b[0;32m    110\u001b[0m         \u001b[0mdataIO\u001b[0m \u001b[1;33m=\u001b[0m \u001b[0mDataIO\u001b[0m\u001b[1;33m(\u001b[0m\u001b[0mfolder_path\u001b[0m\u001b[1;33m=\u001b[0m\u001b[0mfolder_path\u001b[0m\u001b[1;33m)\u001b[0m\u001b[1;33m\u001b[0m\u001b[1;33m\u001b[0m\u001b[0m\n",
      "\u001b[1;31mTypeError\u001b[0m: get_expected_ratings() missing 1 required positional argument: 'user_id'"
     ]
    }
   ],
   "source": [
    "parameterSearch.search(recommender_input_args,\n",
    "                       recommender_input_args_last_test = recommender_input_args_last_test,\n",
    "                       parameter_search_space = hyperparameters_range_dictionary,\n",
    "                       n_cases = n_cases,\n",
    "                       n_random_starts = n_random_starts,\n",
    "                       save_model = \"last\",\n",
    "                       output_folder_path = output_folder_path,\n",
    "                       output_file_name_root = recommender_class.RECOMMENDER_NAME,\n",
    "                       metric_to_optimize = metric_to_optimize,\n",
    "                      )"
   ]
  },
  {
   "cell_type": "code",
   "execution_count": null,
   "metadata": {},
   "outputs": [],
   "source": [
    "data_loader = DataIO(folder_path = output_folder_path)\n",
    "search_metadata = data_loader.load_data(recommender_class.RECOMMENDER_NAME + \"_metadata.zip\")\n",
    "best_parameters = search_metadata[\"hyperparameters_best\"]\n",
    "best_parameters"
   ]
  },
  {
   "cell_type": "code",
   "execution_count": 35,
   "metadata": {},
   "outputs": [],
   "source": [
    "w = {\n",
    "    \"user_cf\": 993,\n",
    "    \"item_cf\": 513,\n",
    "    \"cbf\": 44,\n",
    "    \"icm_svd\": 0,\n",
    "    \"als\": 0,\n",
    "    \"slim_bpr\": 154,\n",
    "    \"elastic\": 0\n",
    "}"
   ]
  },
  {
   "cell_type": "code",
   "execution_count": 36,
   "metadata": {},
   "outputs": [],
   "source": [
    "userCF = UserBasedCollaborativeFiltering(urm_train_validation)"
   ]
  },
  {
   "cell_type": "code",
   "execution_count": null,
   "metadata": {},
   "outputs": [],
   "source": [
    "userCF.fit(knn=user_cf_param[\"knn\"], shrink=user_cf_param[\"shrink\"],similarity='cosine')"
   ]
  },
  {
   "cell_type": "code",
   "execution_count": null,
   "metadata": {},
   "outputs": [],
   "source": [
    "accum_precision, accum_recall, accum_map, num_user_evaluated, num_users_skipped = evaluator(userCF, \n",
    "                                                                                            urm_train_validation, \n",
    "                                                                                            urm_test)\n",
    "accum_precision, accum_recall, accum_map, num_user_evaluated, num_users_skipped"
   ]
  },
  {
   "cell_type": "code",
   "execution_count": null,
   "metadata": {},
   "outputs": [],
   "source": [
    "itemCF = ItemBasedCollaborativeFiltering(urm_train_validation)"
   ]
  },
  {
   "cell_type": "code",
   "execution_count": null,
   "metadata": {},
   "outputs": [],
   "source": [
    "itemCF.fit(knn=item_cf_param[\"knn\"], shrink=item_cf_param[\"shrink\"], similarity=\"cosine\")"
   ]
  },
  {
   "cell_type": "code",
   "execution_count": null,
   "metadata": {},
   "outputs": [],
   "source": [
    "accum_precision, accum_recall, accum_map, num_user_evaluated, num_users_skipped = evaluator(itemCF, \n",
    "                                                                                            urm_train_validation, \n",
    "                                                                                            urm_test)\n",
    "accum_precision, accum_recall, accum_map, num_user_evaluated, num_users_skipped"
   ]
  },
  {
   "cell_type": "code",
   "execution_count": null,
   "metadata": {},
   "outputs": [],
   "source": [
    "SlimBpr=SlimBPRRec(urm_train_validation)"
   ]
  },
  {
   "cell_type": "code",
   "execution_count": null,
   "metadata": {},
   "outputs": [],
   "source": [
    "SlimBpr.fit(nnz=slim_bpr_param[\"nnz\"], knn=slim_bpr_param[\"knn\"])"
   ]
  },
  {
   "cell_type": "code",
   "execution_count": null,
   "metadata": {},
   "outputs": [],
   "source": [
    "accum_precision, accum_recall, accum_map, num_user_evaluated, num_users_skipped = evaluator(SlimBpr, \n",
    "                                                                                            urm_train_validation, \n",
    "                                                                                            urm_test)\n",
    "accum_precision, accum_recall, accum_map, num_user_evaluated, num_users_skipped"
   ]
  },
  {
   "cell_type": "code",
   "execution_count": null,
   "metadata": {},
   "outputs": [],
   "source": [
    "slim_elastic = SLIMElasticNetRecommender(urm_train)"
   ]
  },
  {
   "cell_type": "code",
   "execution_count": null,
   "metadata": {},
   "outputs": [],
   "source": [
    "slim_elastic.fit()"
   ]
  },
  {
   "cell_type": "code",
   "execution_count": null,
   "metadata": {},
   "outputs": [],
   "source": [
    "accum_precision, accum_recall, accum_map, num_user_evaluated, num_users_skipped = evaluator(slim_elastic, \n",
    "                                                                                            urm_train_validation, \n",
    "                                                                                            urm_test)\n",
    "accum_precision, accum_recall, accum_map, num_user_evaluated, num_users_skipped"
   ]
  },
  {
   "cell_type": "code",
   "execution_count": null,
   "metadata": {},
   "outputs": [],
   "source": [
    "cbf = ContentBasedFiltering(urm_train_validation,ICM)"
   ]
  },
  {
   "cell_type": "code",
   "execution_count": null,
   "metadata": {},
   "outputs": [],
   "source": [
    "cbf.fit(knn=cbf_param[\"knn\"],shrink=cbf_param[\"shrink\"],similarity='cosine')"
   ]
  },
  {
   "cell_type": "code",
   "execution_count": null,
   "metadata": {},
   "outputs": [],
   "source": [
    "accum_precision, accum_recall, accum_map, num_user_evaluated, num_users_skipped = evaluator(cbf, \n",
    "                                                                                            urm_train_validation, \n",
    "                                                                                            urm_test)\n",
    "accum_precision, accum_recall, accum_map, num_user_evaluated, num_users_skipped"
   ]
  },
  {
   "cell_type": "code",
   "execution_count": null,
   "metadata": {},
   "outputs": [],
   "source": [
    "ALS = AlternatingLeastSquare(urm_train_validation)"
   ]
  },
  {
   "cell_type": "code",
   "execution_count": null,
   "metadata": {},
   "outputs": [],
   "source": [
    "ALS.fit(n_factors=als_param[\"n_factors\"], regularization=als_param[\"regularization\"],iterations=als_param[\"iterations\"])"
   ]
  },
  {
   "cell_type": "code",
   "execution_count": null,
   "metadata": {},
   "outputs": [],
   "source": [
    "accum_precision, accum_recall, accum_map, num_user_evaluated, num_users_skipped = evaluator(ALS, \n",
    "                                                                                            urm_train_validation, \n",
    "                                                                                            urm_test)\n",
    "accum_precision, accum_recall, accum_map, num_user_evaluated, num_users_skipped"
   ]
  },
  {
   "cell_type": "code",
   "execution_count": null,
   "metadata": {},
   "outputs": [],
   "source": [
    "recommender = HybridRecommender(urm_train_validation, ICM, userCF, itemCF, cbf, ALS, SlimBpr)"
   ]
  },
  {
   "cell_type": "code",
   "execution_count": null,
   "metadata": {
    "scrolled": true
   },
   "outputs": [],
   "source": [
    "recommender.fit(user_cf_param=user_cf_param,item_cf_param=item_cf_param,cbf_param=cbf_param,\n",
    "                slim_param=slim_bpr_param,als_param=als_param, w_user=w[\"user_cf\"], w_item=w[\"item_cf\"], w_cbf=w[\"cbf\"],w_als=w[\"als\"], w_slim_bpr=w[\"slim_bpr\"])"
   ]
  },
  {
   "cell_type": "code",
   "execution_count": null,
   "metadata": {},
   "outputs": [],
   "source": [
    "accum_precision, accum_recall, accum_map, num_user_evaluated, num_users_skipped = evaluator(recommender, \n",
    "                                                                                            urm_train_validation, \n",
    "                                                                                            urm_test)\n",
    "accum_precision, accum_recall, accum_map, num_user_evaluated, num_users_skipped"
   ]
  },
  {
   "cell_type": "markdown",
   "metadata": {
    "id": "0Vi-dduXaj46"
   },
   "source": [
    "**Submission to competition**\n",
    "\n",
    "This step serves as a similar step that you will perform when preparing a submission to the competition. Specially after you have chosen and trained your recommender.\n",
    "\n",
    "For this step the best suggestion is to select the most-performing configuration obtained in the hyperparameter tuning step and to train the recommender using both the train and validation set. Remember that in the competition you do not have access to the test set.\n",
    "\n",
    "Another consideration is that, due to easier and faster calculations, we replaced the user/item identifiers with new ones in the preprocessing step. For the competition, you are required to generate recommendations using the dataset's original identifiers. Due to this, this step also reverts back the newer identifiers with the ones originally found in the dataset.\n",
    "\n",
    "Last, this step creates a function that writes the recommendations for each user in the same file in a tabular format following this format:\n",
    "\n",
    "csv\n",
    "<user_id>,<item_id_1> <item_id_2> <item_id_3> <item_id_4> <item_id_5> <item_id_6> <item_id_7> <item_id_8> <item_id_9> <item_id_10>\n",
    "Always verify the competitions' submission file model as it might vary from the one we presented here."
   ]
  },
  {
   "cell_type": "code",
   "execution_count": null,
   "metadata": {
    "id": "EcSDk9aMtW4k"
   },
   "outputs": [],
   "source": [
    "def load_goodguys():\n",
    "  return pd.read_csv(\"./data_target_users_test.csv\")\n",
    "goodguys=load_goodguys()"
   ]
  },
  {
   "cell_type": "code",
   "execution_count": null,
   "metadata": {
    "id": "eHzsuFiqtW4k",
    "outputId": "bc36c459-1cc6-460a-b403-95482cf1508d"
   },
   "outputs": [],
   "source": [
    "goodguys"
   ]
  },
  {
   "cell_type": "code",
   "execution_count": null,
   "metadata": {
    "id": "0b3DwuXrayTA",
    "outputId": "27c6d557-b304-427c-bf2c-8fdc090efe64"
   },
   "outputs": [],
   "source": [
    "users_to_recommend = np.random.choice(goodguys.user_id,size=goodguys.size, replace=False)\n",
    "users_to_recommend"
   ]
  },
  {
   "cell_type": "code",
   "execution_count": null,
   "metadata": {
    "id": "RurxNTttbI-i"
   },
   "outputs": [],
   "source": [
    "def prepare_submission(users_to_recommend: np.array, urm_train: sp.csr_matrix, recommender: object):\n",
    "    \n",
    "    recommendation_length = 10\n",
    "    submission = []\n",
    "    \n",
    "    for user_id in users_to_recommend :\n",
    "\n",
    "        recommendations = recommender.recommend2(user_id, urm_train, recommendation_length)\n",
    "\n",
    "        \n",
    "        submission.append((user_id, [item_id for item_id in recommendations]))\n",
    "   \n",
    "    return submission"
   ]
  },
  {
   "cell_type": "code",
   "execution_count": null,
   "metadata": {
    "id": "5KYlvMDVbLxo",
    "scrolled": true
   },
   "outputs": [],
   "source": [
    "submission = prepare_submission(users_to_recommend, urm_train_validation, recommender)"
   ]
  },
  {
   "cell_type": "code",
   "execution_count": null,
   "metadata": {
    "id": "sJZEjE3CbQTp",
    "outputId": "8e2faf6b-144c-4ba3-ee1a-692290e15d3c"
   },
   "outputs": [],
   "source": [
    "submission"
   ]
  },
  {
   "cell_type": "code",
   "execution_count": null,
   "metadata": {
    "id": "6hCawP60bVm3"
   },
   "outputs": [],
   "source": [
    "import os\n",
    "from datetime import datetime\n",
    "\n",
    "csv_fname = './submission'\n",
    "csv_fname += datetime.now().strftime('%b%d_%H-%M-%S') + '.csv'\n",
    "\n",
    "def write_submission(submissions):\n",
    "    with open(csv_fname, \"w\") as f:\n",
    "        f.write(f\"user_id,item_list\\n\")\n",
    "        for user_id, items in submissions:\n",
    "            f.write(f\"{user_id},{' '.join([str(item) for item in items])}\\n\")\n"
   ]
  },
  {
   "cell_type": "code",
   "execution_count": null,
   "metadata": {
    "id": "ov91al-UbXAQ"
   },
   "outputs": [],
   "source": [
    "write_submission(submission)"
   ]
  },
  {
   "cell_type": "code",
   "execution_count": null,
   "metadata": {},
   "outputs": [],
   "source": []
  }
 ],
 "metadata": {
  "colab": {
   "collapsed_sections": [],
   "name": "RecommenderChallenge.ipynb",
   "provenance": []
  },
  "kernelspec": {
   "display_name": "Python 3",
   "language": "python",
   "name": "python3"
  },
  "language_info": {
   "codemirror_mode": {
    "name": "ipython",
    "version": 3
   },
   "file_extension": ".py",
   "mimetype": "text/x-python",
   "name": "python",
   "nbconvert_exporter": "python",
   "pygments_lexer": "ipython3",
   "version": "3.6.10"
  }
 },
 "nbformat": 4,
 "nbformat_minor": 1
}
